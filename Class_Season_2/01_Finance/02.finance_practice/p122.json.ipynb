{
 "cells": [
  {
   "cell_type": "code",
   "execution_count": 35,
   "metadata": {},
   "outputs": [],
   "source": [
    "import pandas as pd\n",
    "from urllib.request import urlopen\n",
    "import json"
   ]
  },
  {
   "cell_type": "code",
   "execution_count": 37,
   "metadata": {},
   "outputs": [],
   "source": [
    "symbol = 'SPI@SPX'\n",
    "page = 1"
   ]
  },
  {
   "cell_type": "code",
   "execution_count": 38,
   "metadata": {},
   "outputs": [],
   "source": [
    "url = 'https://finance.naver.com/world/worldDayListJson.nhn?symbol=' + symbol + '&fdtc=0&page=' + str(page)\n",
    "raw = urlopen(url)\n",
    "data = json.load(raw)"
   ]
  },
  {
   "cell_type": "code",
   "execution_count": 39,
   "metadata": {},
   "outputs": [
    {
     "data": {
      "text/plain": [
       "{'symb': 'SPI@SPX',\n",
       " 'xymd': '20190621',\n",
       " 'open': 2952.71,\n",
       " 'high': 2964.15,\n",
       " 'low': 2946.87,\n",
       " 'clos': 2950.46,\n",
       " 'diff': -3.72,\n",
       " 'rate': -0.13,\n",
       " 'gvol': 3033185230}"
      ]
     },
     "execution_count": 39,
     "metadata": {},
     "output_type": "execute_result"
    }
   ],
   "source": [
    "data[0]"
   ]
  },
  {
   "cell_type": "code",
   "execution_count": 41,
   "metadata": {},
   "outputs": [
    {
     "data": {
      "text/plain": [
       "'20190621'"
      ]
     },
     "execution_count": 41,
     "metadata": {},
     "output_type": "execute_result"
    }
   ],
   "source": [
    "data[0]['xymd']"
   ]
  },
  {
   "cell_type": "code",
   "execution_count": 42,
   "metadata": {},
   "outputs": [
    {
     "data": {
      "text/plain": [
       "2950.46"
      ]
     },
     "execution_count": 42,
     "metadata": {},
     "output_type": "execute_result"
    }
   ],
   "source": [
    "data[0]['clos']"
   ]
  },
  {
   "cell_type": "code",
   "execution_count": 44,
   "metadata": {},
   "outputs": [
    {
     "name": "stdout",
     "output_type": "stream",
     "text": [
      "{datetime.date(2019, 6, 21): 2950.46, datetime.date(2019, 6, 20): 2954.18, datetime.date(2019, 6, 19): 2926.46, datetime.date(2019, 6, 18): 2917.75, datetime.date(2019, 6, 17): 2889.67, datetime.date(2019, 6, 14): 2886.98, datetime.date(2019, 6, 13): 2891.64, datetime.date(2019, 6, 12): 2879.84, datetime.date(2019, 6, 11): 2885.72, datetime.date(2019, 6, 10): 2886.73}\n"
     ]
    }
   ],
   "source": [
    "d = dict()\n",
    "for n in range(len(data)):\n",
    "    date = pd.to_datetime(data[n]['xymd']).date()\n",
    "    price = float(data[n]['clos'])\n",
    "    d[date] = price\n",
    "print(d)"
   ]
  },
  {
   "cell_type": "code",
   "execution_count": 47,
   "metadata": {},
   "outputs": [],
   "source": [
    "def read_json(d, symbol, page=1):\n",
    "    url = 'https://finance.naver.com/world/worldDayListJson.nhn?symbol=' + symbol + '&fdtc=0&page=' + str(page)\n",
    "    raw = urlopen(url)\n",
    "    data = json.load(raw)\n",
    "    \n",
    "    for n in range(len(data)):\n",
    "        date = pd.to_datetime(data[n]['xymd']).date()\n",
    "        price = float(data[n]['clos'])\n",
    "        d[date] = price\n",
    "\n",
    "    if len(data) == 10:\n",
    "        page += 1\n",
    "        read_json(d, symbol, page)\n",
    "        \n",
    "    return(d)"
   ]
  },
  {
   "cell_type": "code",
   "execution_count": 48,
   "metadata": {},
   "outputs": [],
   "source": [
    "historical_index = pd.Series()\n",
    "historical_index = read_json(historical_index, symbol, page)"
   ]
  },
  {
   "cell_type": "code",
   "execution_count": 49,
   "metadata": {},
   "outputs": [
    {
     "data": {
      "text/plain": [
       "2019-06-21    2950.46\n",
       "2019-06-20    2954.18\n",
       "2019-06-19    2926.46\n",
       "2019-06-18    2917.75\n",
       "2019-06-17    2889.67\n",
       "2019-06-14    2886.98\n",
       "2019-06-13    2891.64\n",
       "2019-06-12    2879.84\n",
       "2019-06-11    2885.72\n",
       "2019-06-10    2886.73\n",
       "2019-06-07    2873.34\n",
       "2019-06-06    2843.49\n",
       "2019-06-05    2826.15\n",
       "2019-06-04    2803.27\n",
       "2019-06-03    2744.45\n",
       "2019-05-31    2752.06\n",
       "2019-05-30    2788.86\n",
       "2019-05-29    2783.02\n",
       "2019-05-28    2802.39\n",
       "2019-05-24    2826.06\n",
       "2019-05-23    2822.24\n",
       "2019-05-22    2856.27\n",
       "2019-05-21    2864.36\n",
       "2019-05-20    2840.23\n",
       "2019-05-17    2859.53\n",
       "2019-05-16    2876.32\n",
       "2019-05-15    2850.96\n",
       "2019-05-14    2834.41\n",
       "2019-05-13    2811.87\n",
       "2019-05-10    2881.40\n",
       "               ...   \n",
       "2002-02-13    1118.51\n",
       "2002-02-12    1107.50\n",
       "2002-02-11    1111.94\n",
       "2002-02-08    1096.22\n",
       "2002-02-07    1080.17\n",
       "2002-02-06    1083.51\n",
       "2002-02-05    1090.02\n",
       "2002-02-04    1094.44\n",
       "2002-02-01    1122.20\n",
       "2002-01-31    1130.20\n",
       "2002-01-30    1113.57\n",
       "2002-01-29    1100.64\n",
       "2002-01-28    1133.06\n",
       "2002-01-25    1133.28\n",
       "2002-01-24    1132.15\n",
       "2002-01-23    1128.18\n",
       "2002-01-22    1119.31\n",
       "2002-01-18    1127.58\n",
       "2002-01-17    1138.88\n",
       "2002-01-16    1127.57\n",
       "2002-01-15    1146.19\n",
       "2002-01-14    1138.41\n",
       "2002-01-11    1145.60\n",
       "2002-01-10    1156.55\n",
       "2002-01-09    1155.14\n",
       "2002-01-08    1160.71\n",
       "2002-01-07    1164.89\n",
       "2002-01-04    1172.51\n",
       "2002-01-03    1165.27\n",
       "2002-01-02    1154.67\n",
       "Length: 4401, dtype: float64"
      ]
     },
     "execution_count": 49,
     "metadata": {},
     "output_type": "execute_result"
    }
   ],
   "source": [
    "historical_index"
   ]
  },
  {
   "cell_type": "code",
   "execution_count": null,
   "metadata": {},
   "outputs": [],
   "source": []
  }
 ],
 "metadata": {
  "kernelspec": {
   "display_name": "Python 3",
   "language": "python",
   "name": "python3"
  },
  "language_info": {
   "codemirror_mode": {
    "name": "ipython",
    "version": 3
   },
   "file_extension": ".py",
   "mimetype": "text/x-python",
   "name": "python",
   "nbconvert_exporter": "python",
   "pygments_lexer": "ipython3",
   "version": "3.7.3"
  }
 },
 "nbformat": 4,
 "nbformat_minor": 2
}
