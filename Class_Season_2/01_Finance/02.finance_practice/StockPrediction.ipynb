{
 "cells": [
  {
   "cell_type": "code",
   "execution_count": 39,
   "metadata": {},
   "outputs": [],
   "source": [
    "# XOR 예시\n",
    "import tensorflow as tf\n",
    "import pandas as pd\n",
    "import numpy as np\n",
    "\n",
    "#inputX = [[0, 0], [0, 1], [1, 0], [1, 1]]   # input 데이터\n",
    "#outputY = [[1], [0], [1], [0]]              # desired output 데이터"
   ]
  },
  {
   "cell_type": "code",
   "execution_count": 40,
   "metadata": {},
   "outputs": [],
   "source": [
    "sm = pd.read_csv('./stockData/005930.csv', index_col=0, parse_dates=True)\n",
    "sm = sm.sort_index() # 날짜 순으로 정렬한다\n",
    "sm = sm.dropna()\n",
    "sm = sm / 10000"
   ]
  },
  {
   "cell_type": "code",
   "execution_count": 41,
   "metadata": {},
   "outputs": [
    {
     "data": {
      "text/html": [
       "<div>\n",
       "<style scoped>\n",
       "    .dataframe tbody tr th:only-of-type {\n",
       "        vertical-align: middle;\n",
       "    }\n",
       "\n",
       "    .dataframe tbody tr th {\n",
       "        vertical-align: top;\n",
       "    }\n",
       "\n",
       "    .dataframe thead th {\n",
       "        text-align: right;\n",
       "    }\n",
       "</style>\n",
       "<table border=\"1\" class=\"dataframe\">\n",
       "  <thead>\n",
       "    <tr style=\"text-align: right;\">\n",
       "      <th></th>\n",
       "      <th>open</th>\n",
       "      <th>high</th>\n",
       "      <th>low</th>\n",
       "      <th>close</th>\n",
       "      <th>volume</th>\n",
       "    </tr>\n",
       "    <tr>\n",
       "      <th>date</th>\n",
       "      <th></th>\n",
       "      <th></th>\n",
       "      <th></th>\n",
       "      <th></th>\n",
       "      <th></th>\n",
       "    </tr>\n",
       "  </thead>\n",
       "  <tbody>\n",
       "    <tr>\n",
       "      <th>2011-05-12</th>\n",
       "      <td>1.772</td>\n",
       "      <td>1.802</td>\n",
       "      <td>1.766</td>\n",
       "      <td>1.770</td>\n",
       "      <td>55.2942</td>\n",
       "    </tr>\n",
       "    <tr>\n",
       "      <th>2011-05-13</th>\n",
       "      <td>1.792</td>\n",
       "      <td>1.848</td>\n",
       "      <td>1.780</td>\n",
       "      <td>1.832</td>\n",
       "      <td>66.9154</td>\n",
       "    </tr>\n",
       "    <tr>\n",
       "      <th>2011-05-16</th>\n",
       "      <td>1.834</td>\n",
       "      <td>1.838</td>\n",
       "      <td>1.796</td>\n",
       "      <td>1.802</td>\n",
       "      <td>32.2905</td>\n",
       "    </tr>\n",
       "    <tr>\n",
       "      <th>2011-05-17</th>\n",
       "      <td>1.794</td>\n",
       "      <td>1.796</td>\n",
       "      <td>1.778</td>\n",
       "      <td>1.780</td>\n",
       "      <td>23.1293</td>\n",
       "    </tr>\n",
       "    <tr>\n",
       "      <th>2011-05-18</th>\n",
       "      <td>1.786</td>\n",
       "      <td>1.798</td>\n",
       "      <td>1.772</td>\n",
       "      <td>1.786</td>\n",
       "      <td>33.1824</td>\n",
       "    </tr>\n",
       "  </tbody>\n",
       "</table>\n",
       "</div>"
      ],
      "text/plain": [
       "             open   high    low  close   volume\n",
       "date                                           \n",
       "2011-05-12  1.772  1.802  1.766  1.770  55.2942\n",
       "2011-05-13  1.792  1.848  1.780  1.832  66.9154\n",
       "2011-05-16  1.834  1.838  1.796  1.802  32.2905\n",
       "2011-05-17  1.794  1.796  1.778  1.780  23.1293\n",
       "2011-05-18  1.786  1.798  1.772  1.786  33.1824"
      ]
     },
     "execution_count": 41,
     "metadata": {},
     "output_type": "execute_result"
    }
   ],
   "source": [
    "sm.head()"
   ]
  },
  {
   "cell_type": "code",
   "execution_count": 42,
   "metadata": {},
   "outputs": [
    {
     "data": {
      "text/html": [
       "<div>\n",
       "<style scoped>\n",
       "    .dataframe tbody tr th:only-of-type {\n",
       "        vertical-align: middle;\n",
       "    }\n",
       "\n",
       "    .dataframe tbody tr th {\n",
       "        vertical-align: top;\n",
       "    }\n",
       "\n",
       "    .dataframe thead th {\n",
       "        text-align: right;\n",
       "    }\n",
       "</style>\n",
       "<table border=\"1\" class=\"dataframe\">\n",
       "  <thead>\n",
       "    <tr style=\"text-align: right;\">\n",
       "      <th></th>\n",
       "      <th>open</th>\n",
       "      <th>high</th>\n",
       "      <th>low</th>\n",
       "      <th>close</th>\n",
       "      <th>volume</th>\n",
       "    </tr>\n",
       "    <tr>\n",
       "      <th>date</th>\n",
       "      <th></th>\n",
       "      <th></th>\n",
       "      <th></th>\n",
       "      <th></th>\n",
       "      <th></th>\n",
       "    </tr>\n",
       "  </thead>\n",
       "  <tbody>\n",
       "    <tr>\n",
       "      <th>2019-06-19</th>\n",
       "      <td>4.545</td>\n",
       "      <td>4.545</td>\n",
       "      <td>4.500</td>\n",
       "      <td>4.535</td>\n",
       "      <td>1041.7690</td>\n",
       "    </tr>\n",
       "    <tr>\n",
       "      <th>2019-06-20</th>\n",
       "      <td>4.485</td>\n",
       "      <td>4.550</td>\n",
       "      <td>4.485</td>\n",
       "      <td>4.550</td>\n",
       "      <td>714.7785</td>\n",
       "    </tr>\n",
       "    <tr>\n",
       "      <th>2019-06-21</th>\n",
       "      <td>4.575</td>\n",
       "      <td>4.580</td>\n",
       "      <td>4.520</td>\n",
       "      <td>4.570</td>\n",
       "      <td>945.4913</td>\n",
       "    </tr>\n",
       "    <tr>\n",
       "      <th>2019-06-24</th>\n",
       "      <td>4.520</td>\n",
       "      <td>4.580</td>\n",
       "      <td>4.520</td>\n",
       "      <td>4.550</td>\n",
       "      <td>608.5066</td>\n",
       "    </tr>\n",
       "    <tr>\n",
       "      <th>2019-06-25</th>\n",
       "      <td>4.520</td>\n",
       "      <td>4.580</td>\n",
       "      <td>4.520</td>\n",
       "      <td>4.545</td>\n",
       "      <td>412.0726</td>\n",
       "    </tr>\n",
       "  </tbody>\n",
       "</table>\n",
       "</div>"
      ],
      "text/plain": [
       "             open   high    low  close     volume\n",
       "date                                             \n",
       "2019-06-19  4.545  4.545  4.500  4.535  1041.7690\n",
       "2019-06-20  4.485  4.550  4.485  4.550   714.7785\n",
       "2019-06-21  4.575  4.580  4.520  4.570   945.4913\n",
       "2019-06-24  4.520  4.580  4.520  4.550   608.5066\n",
       "2019-06-25  4.520  4.580  4.520  4.545   412.0726"
      ]
     },
     "execution_count": 42,
     "metadata": {},
     "output_type": "execute_result"
    }
   ],
   "source": [
    "sm.tail()"
   ]
  },
  {
   "cell_type": "code",
   "execution_count": 43,
   "metadata": {},
   "outputs": [],
   "source": [
    "sm['next close'] = sm['close'].shift(-1)"
   ]
  },
  {
   "cell_type": "code",
   "execution_count": 44,
   "metadata": {},
   "outputs": [
    {
     "data": {
      "text/html": [
       "<div>\n",
       "<style scoped>\n",
       "    .dataframe tbody tr th:only-of-type {\n",
       "        vertical-align: middle;\n",
       "    }\n",
       "\n",
       "    .dataframe tbody tr th {\n",
       "        vertical-align: top;\n",
       "    }\n",
       "\n",
       "    .dataframe thead th {\n",
       "        text-align: right;\n",
       "    }\n",
       "</style>\n",
       "<table border=\"1\" class=\"dataframe\">\n",
       "  <thead>\n",
       "    <tr style=\"text-align: right;\">\n",
       "      <th></th>\n",
       "      <th>open</th>\n",
       "      <th>high</th>\n",
       "      <th>low</th>\n",
       "      <th>close</th>\n",
       "      <th>volume</th>\n",
       "      <th>next close</th>\n",
       "    </tr>\n",
       "    <tr>\n",
       "      <th>date</th>\n",
       "      <th></th>\n",
       "      <th></th>\n",
       "      <th></th>\n",
       "      <th></th>\n",
       "      <th></th>\n",
       "      <th></th>\n",
       "    </tr>\n",
       "  </thead>\n",
       "  <tbody>\n",
       "    <tr>\n",
       "      <th>2011-05-12</th>\n",
       "      <td>1.772</td>\n",
       "      <td>1.802</td>\n",
       "      <td>1.766</td>\n",
       "      <td>1.770</td>\n",
       "      <td>55.2942</td>\n",
       "      <td>1.832</td>\n",
       "    </tr>\n",
       "    <tr>\n",
       "      <th>2011-05-13</th>\n",
       "      <td>1.792</td>\n",
       "      <td>1.848</td>\n",
       "      <td>1.780</td>\n",
       "      <td>1.832</td>\n",
       "      <td>66.9154</td>\n",
       "      <td>1.802</td>\n",
       "    </tr>\n",
       "    <tr>\n",
       "      <th>2011-05-16</th>\n",
       "      <td>1.834</td>\n",
       "      <td>1.838</td>\n",
       "      <td>1.796</td>\n",
       "      <td>1.802</td>\n",
       "      <td>32.2905</td>\n",
       "      <td>1.780</td>\n",
       "    </tr>\n",
       "    <tr>\n",
       "      <th>2011-05-17</th>\n",
       "      <td>1.794</td>\n",
       "      <td>1.796</td>\n",
       "      <td>1.778</td>\n",
       "      <td>1.780</td>\n",
       "      <td>23.1293</td>\n",
       "      <td>1.786</td>\n",
       "    </tr>\n",
       "    <tr>\n",
       "      <th>2011-05-18</th>\n",
       "      <td>1.786</td>\n",
       "      <td>1.798</td>\n",
       "      <td>1.772</td>\n",
       "      <td>1.786</td>\n",
       "      <td>33.1824</td>\n",
       "      <td>1.760</td>\n",
       "    </tr>\n",
       "  </tbody>\n",
       "</table>\n",
       "</div>"
      ],
      "text/plain": [
       "             open   high    low  close   volume  next close\n",
       "date                                                       \n",
       "2011-05-12  1.772  1.802  1.766  1.770  55.2942       1.832\n",
       "2011-05-13  1.792  1.848  1.780  1.832  66.9154       1.802\n",
       "2011-05-16  1.834  1.838  1.796  1.802  32.2905       1.780\n",
       "2011-05-17  1.794  1.796  1.778  1.780  23.1293       1.786\n",
       "2011-05-18  1.786  1.798  1.772  1.786  33.1824       1.760"
      ]
     },
     "execution_count": 44,
     "metadata": {},
     "output_type": "execute_result"
    }
   ],
   "source": [
    "sm.head()"
   ]
  },
  {
   "cell_type": "code",
   "execution_count": 45,
   "metadata": {},
   "outputs": [
    {
     "data": {
      "text/html": [
       "<div>\n",
       "<style scoped>\n",
       "    .dataframe tbody tr th:only-of-type {\n",
       "        vertical-align: middle;\n",
       "    }\n",
       "\n",
       "    .dataframe tbody tr th {\n",
       "        vertical-align: top;\n",
       "    }\n",
       "\n",
       "    .dataframe thead th {\n",
       "        text-align: right;\n",
       "    }\n",
       "</style>\n",
       "<table border=\"1\" class=\"dataframe\">\n",
       "  <thead>\n",
       "    <tr style=\"text-align: right;\">\n",
       "      <th></th>\n",
       "      <th>open</th>\n",
       "      <th>high</th>\n",
       "      <th>low</th>\n",
       "      <th>close</th>\n",
       "      <th>volume</th>\n",
       "      <th>next close</th>\n",
       "    </tr>\n",
       "    <tr>\n",
       "      <th>date</th>\n",
       "      <th></th>\n",
       "      <th></th>\n",
       "      <th></th>\n",
       "      <th></th>\n",
       "      <th></th>\n",
       "      <th></th>\n",
       "    </tr>\n",
       "  </thead>\n",
       "  <tbody>\n",
       "    <tr>\n",
       "      <th>2019-06-19</th>\n",
       "      <td>4.545</td>\n",
       "      <td>4.545</td>\n",
       "      <td>4.500</td>\n",
       "      <td>4.535</td>\n",
       "      <td>1041.7690</td>\n",
       "      <td>4.550</td>\n",
       "    </tr>\n",
       "    <tr>\n",
       "      <th>2019-06-20</th>\n",
       "      <td>4.485</td>\n",
       "      <td>4.550</td>\n",
       "      <td>4.485</td>\n",
       "      <td>4.550</td>\n",
       "      <td>714.7785</td>\n",
       "      <td>4.570</td>\n",
       "    </tr>\n",
       "    <tr>\n",
       "      <th>2019-06-21</th>\n",
       "      <td>4.575</td>\n",
       "      <td>4.580</td>\n",
       "      <td>4.520</td>\n",
       "      <td>4.570</td>\n",
       "      <td>945.4913</td>\n",
       "      <td>4.550</td>\n",
       "    </tr>\n",
       "    <tr>\n",
       "      <th>2019-06-24</th>\n",
       "      <td>4.520</td>\n",
       "      <td>4.580</td>\n",
       "      <td>4.520</td>\n",
       "      <td>4.550</td>\n",
       "      <td>608.5066</td>\n",
       "      <td>4.545</td>\n",
       "    </tr>\n",
       "    <tr>\n",
       "      <th>2019-06-25</th>\n",
       "      <td>4.520</td>\n",
       "      <td>4.580</td>\n",
       "      <td>4.520</td>\n",
       "      <td>4.545</td>\n",
       "      <td>412.0726</td>\n",
       "      <td>NaN</td>\n",
       "    </tr>\n",
       "  </tbody>\n",
       "</table>\n",
       "</div>"
      ],
      "text/plain": [
       "             open   high    low  close     volume  next close\n",
       "date                                                         \n",
       "2019-06-19  4.545  4.545  4.500  4.535  1041.7690       4.550\n",
       "2019-06-20  4.485  4.550  4.485  4.550   714.7785       4.570\n",
       "2019-06-21  4.575  4.580  4.520  4.570   945.4913       4.550\n",
       "2019-06-24  4.520  4.580  4.520  4.550   608.5066       4.545\n",
       "2019-06-25  4.520  4.580  4.520  4.545   412.0726         NaN"
      ]
     },
     "execution_count": 45,
     "metadata": {},
     "output_type": "execute_result"
    }
   ],
   "source": [
    "sm.tail()"
   ]
  },
  {
   "cell_type": "code",
   "execution_count": 46,
   "metadata": {},
   "outputs": [
    {
     "data": {
      "text/plain": [
       "array([[4.52 , 4.58 , 4.52 , 4.545]])"
      ]
     },
     "execution_count": 46,
     "metadata": {},
     "output_type": "execute_result"
    }
   ],
   "source": [
    "testX = np.array(sm.iloc[-1:, 0:4])\n",
    "testX"
   ]
  },
  {
   "cell_type": "code",
   "execution_count": 47,
   "metadata": {},
   "outputs": [],
   "source": [
    "sm = sm.dropna()"
   ]
  },
  {
   "cell_type": "code",
   "execution_count": 48,
   "metadata": {},
   "outputs": [
    {
     "data": {
      "text/plain": [
       "(1999, 4)"
      ]
     },
     "execution_count": 48,
     "metadata": {},
     "output_type": "execute_result"
    }
   ],
   "source": [
    "inputX = np.array(sm.iloc[:, 0:4])\n",
    "inputX.shape"
   ]
  },
  {
   "cell_type": "code",
   "execution_count": 49,
   "metadata": {},
   "outputs": [],
   "source": [
    "outputY = np.array(sm.loc[:, 'next close']).reshape(-1,1)"
   ]
  },
  {
   "cell_type": "code",
   "execution_count": 50,
   "metadata": {},
   "outputs": [
    {
     "data": {
      "text/plain": [
       "array([[1.832],\n",
       "       [1.802],\n",
       "       [1.78 ],\n",
       "       ...,\n",
       "       [4.57 ],\n",
       "       [4.55 ],\n",
       "       [4.545]])"
      ]
     },
     "execution_count": 50,
     "metadata": {},
     "output_type": "execute_result"
    }
   ],
   "source": [
    "outputY"
   ]
  },
  {
   "cell_type": "code",
   "execution_count": 51,
   "metadata": {},
   "outputs": [],
   "source": [
    "nInput = 4      # input layer의 neuron 개수\n",
    "nHidden1 = 60   # hidden layer-1의 neuron 개수\n",
    "nHidden2 = 60   # hidden layer-2의 neuron 개수 \n",
    "nOutput = 1     # output layer의 neuron 개수"
   ]
  },
  {
   "cell_type": "code",
   "execution_count": 63,
   "metadata": {},
   "outputs": [],
   "source": [
    "# 그래프를 생성한다\n",
    "tf.reset_default_graph()\n",
    "x = tf.placeholder(tf.float32, shape=[None, nInput], name='x')\n",
    "y = tf.placeholder(tf.float32, shape=[None, nOutput], name='y')\n",
    "\n",
    "# hidden layer의 Weight (Wh)와 Bias (Bh)\n",
    "Wh1 = tf.Variable(tf.truncated_normal([nInput, nHidden1]), dtype=tf.float32, name='Wh1')\n",
    "Bh1 = tf.Variable(tf.zeros(nHidden1), dtype=tf.float32, name='Bh1')\n",
    "\n",
    "# hidden layer-2의 Weight (Wh)와 Bias (Bh)\n",
    "Wh2 = tf.Variable(tf.truncated_normal([nHidden1, nHidden2]), dtype=tf.float32, name='Wh2')\n",
    "Bh2 = tf.Variable(tf.zeros(nHidden2), dtype=tf.float32, name='Bh2')\n",
    "\n",
    "# output layer의 Weight (Wo)와 Bias (Bo)\n",
    "Wo = tf.Variable(tf.truncated_normal([nHidden2, nOutput]), dtype=tf.float32, name='Wo')\n",
    "Bo = tf.Variable(tf.zeros(nOutput), dtype=tf.float32, name='Bo')\n",
    "\n",
    "# Hidden layer의 출력값. activation function은 sigmoid\n",
    "H1 = tf.nn.relu(tf.matmul(x, Wh1) + Bh1, name='H1')\n",
    "H2 = tf.nn.relu(tf.matmul(H1, Wh2) + Bh2, name='H2')\n",
    "\n",
    "# Output layer의 출력값. activation function은 sigmoid\n",
    "predY = tf.add(tf.matmul(H2, Wo), Bo, name='predY')\n",
    "\n",
    "# Cost function 정의. MSE\n",
    "cost = tf.reduce_mean(tf.square(tf.subtract(predY, y)))\n",
    "\n",
    "# 학습\n",
    "alpha = tf.placeholder(tf.float32, shape=(), name='alpha')\n",
    "optimizer = tf.train.AdamOptimizer()\n",
    "train = optimizer.minimize(cost)"
   ]
  },
  {
   "cell_type": "code",
   "execution_count": 62,
   "metadata": {},
   "outputs": [
    {
     "data": {
      "text/plain": [
       "<tf.Tensor 'H2:0' shape=(4, 60) dtype=float32>"
      ]
     },
     "execution_count": 62,
     "metadata": {},
     "output_type": "execute_result"
    }
   ],
   "source": [
    "H2"
   ]
  },
  {
   "cell_type": "code",
   "execution_count": 64,
   "metadata": {},
   "outputs": [],
   "source": [
    "# 그래프를 실행한다\n",
    "sess = tf.Session()\n",
    "sess.run(tf.global_variables_initializer())"
   ]
  },
  {
   "cell_type": "code",
   "execution_count": 76,
   "metadata": {},
   "outputs": [
    {
     "name": "stdout",
     "output_type": "stream",
     "text": [
      "cost = 0.002984\n",
      "cost = 0.002964\n",
      "cost = 0.002965\n",
      "cost = 0.002965\n",
      "cost = 0.002964\n",
      "cost = 0.002964\n",
      "cost = 0.002966\n",
      "cost = 0.002967\n",
      "cost = 0.002974\n",
      "cost = 0.002963\n"
     ]
    }
   ],
   "source": [
    "# 인공신경망에 inputX, outputY를 1000번 집어 넣어서 학습 시킨다.\n",
    "for i in range(10000):\n",
    "    _, xcost = sess.run([train, cost], feed_dict={x: inputX, y: outputY, alpha:0.0001})\n",
    "    \n",
    "    if i % 1000 == 0:\n",
    "        print('cost = %.6f' % xcost)"
   ]
  },
  {
   "cell_type": "code",
   "execution_count": 74,
   "metadata": {},
   "outputs": [
    {
     "data": {
      "text/plain": [
       "array([[4.52 , 4.58 , 4.52 , 4.545]])"
      ]
     },
     "execution_count": 74,
     "metadata": {},
     "output_type": "execute_result"
    }
   ],
   "source": [
    "testX"
   ]
  },
  {
   "cell_type": "code",
   "execution_count": 77,
   "metadata": {},
   "outputs": [
    {
     "name": "stdout",
     "output_type": "stream",
     "text": [
      "\n",
      "y-추정치 = \n",
      " [[45567.43]]\n"
     ]
    }
   ],
   "source": [
    "# 학습이 완료되면, Wh, Bh, Wo, Bo 이 모두 업데이트 되었으면, inputX를 넣어서 출력값을 확인한다.\n",
    "# 출력값은 inputY의 추정값이다.\n",
    "yHat = sess.run(predY, feed_dict={x: testX})\n",
    "\n",
    "print(\"\\ny-추정치 = \\n\", yHat * 10000)\n",
    "#sess.close()"
   ]
  },
  {
   "cell_type": "code",
   "execution_count": null,
   "metadata": {},
   "outputs": [],
   "source": []
  }
 ],
 "metadata": {
  "kernelspec": {
   "display_name": "Python 3",
   "language": "python",
   "name": "python3"
  },
  "language_info": {
   "codemirror_mode": {
    "name": "ipython",
    "version": 3
   },
   "file_extension": ".py",
   "mimetype": "text/x-python",
   "name": "python",
   "nbconvert_exporter": "python",
   "pygments_lexer": "ipython3",
   "version": "3.7.3"
  }
 },
 "nbformat": 4,
 "nbformat_minor": 2
}
