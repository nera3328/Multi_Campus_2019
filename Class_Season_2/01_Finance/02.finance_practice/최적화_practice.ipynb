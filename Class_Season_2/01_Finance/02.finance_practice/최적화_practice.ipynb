{
 "cells": [
  {
   "cell_type": "code",
   "execution_count": 1,
   "metadata": {},
   "outputs": [],
   "source": [
    "import scipy.optimize as optimize"
   ]
  },
  {
   "cell_type": "code",
   "execution_count": 2,
   "metadata": {},
   "outputs": [],
   "source": [
    "def objective(x):\n",
    "    x1 = x[0]\n",
    "    x2 = x[1]\n",
    "    x3 = x[2]\n",
    "    x4 = x[3]\n",
    "    \n",
    "    return x1 * x4 * (x1 + x2 +x3 ) + x3"
   ]
  },
  {
   "cell_type": "code",
   "execution_count": 7,
   "metadata": {},
   "outputs": [],
   "source": [
    "def constraint1(x):\n",
    "    return x[0] * x[1] * x[2] * x[3] -25.0"
   ]
  },
  {
   "cell_type": "code",
   "execution_count": 16,
   "metadata": {},
   "outputs": [],
   "source": [
    "def constraint2(x):\n",
    "    sum_sq =0\n",
    "    for i in range(4):\n",
    "        sum_sq += x[i] **2\n",
    "    return sum_sq -40"
   ]
  },
  {
   "cell_type": "code",
   "execution_count": 17,
   "metadata": {},
   "outputs": [
    {
     "name": "stdout",
     "output_type": "stream",
     "text": [
      "16\n",
      "\n",
      "x1 = 1.00\n",
      "x2 = 4.74\n",
      "x3 = 3.82\n",
      "x4 = 1.38\n",
      "objective의 최솟값 =17.01\n"
     ]
    }
   ],
   "source": [
    "x0 = [1, 5, 5, 1]\n",
    "print(objective(x0))\n",
    "\n",
    "b=(1.0 , 5.0)\n",
    "bnds = (b, b, b, b)\n",
    "con1 = {'type' : 'ineq' , 'fun' : constraint1}\n",
    "con2 = {'type' : 'eq' , 'fun' : constraint2}\n",
    "cons=[con1, con2]\n",
    "\n",
    "sol = optimize.minimize(objective, x0 ,method='SLSQP', bounds=bnds, constraints = cons)\n",
    "\n",
    "print()\n",
    "print('x1 = %.2f' % sol.x[0])\n",
    "print('x2 = %.2f' % sol.x[1])\n",
    "print('x3 = %.2f' % sol.x[2])\n",
    "print('x4 = %.2f' % sol.x[3])\n",
    "print('objective의 최솟값 =%.2f' % sol.fun)"
   ]
  },
  {
   "cell_type": "code",
   "execution_count": null,
   "metadata": {},
   "outputs": [],
   "source": []
  }
 ],
 "metadata": {
  "kernelspec": {
   "display_name": "Python 3",
   "language": "python",
   "name": "python3"
  },
  "language_info": {
   "codemirror_mode": {
    "name": "ipython",
    "version": 3
   },
   "file_extension": ".py",
   "mimetype": "text/x-python",
   "name": "python",
   "nbconvert_exporter": "python",
   "pygments_lexer": "ipython3",
   "version": "3.7.3"
  }
 },
 "nbformat": 4,
 "nbformat_minor": 2
}
