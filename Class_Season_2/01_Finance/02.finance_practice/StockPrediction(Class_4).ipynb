{
 "cells": [
  {
   "cell_type": "markdown",
   "metadata": {},
   "source": [
    "#### 주가 예측 실습"
   ]
  },
  {
   "cell_type": "code",
   "execution_count": 1,
   "metadata": {},
   "outputs": [],
   "source": [
    "import tensorflow as tf\n",
    "import pandas as pd\n",
    "import numpy as np\n",
    "\n",
    "saveDir = './Saver/predictStock(reg).save'   # 학습 결과를 저정할 폴더\n",
    "saveFile = saveDir + '/save'   # 학습 결과를 저장할 파일"
   ]
  },
  {
   "cell_type": "code",
   "execution_count": 2,
   "metadata": {},
   "outputs": [],
   "source": [
    "sm = pd.read_csv('./stockData/005930.csv', index_col=0, parse_dates=True)\n",
    "sm = sm.sort_index() # 날짜 순으로 정렬한다\n",
    "sm = sm.dropna()#결측 행 제거"
   ]
  },
  {
   "cell_type": "code",
   "execution_count": 3,
   "metadata": {},
   "outputs": [],
   "source": [
    "sm['sma120'] = sm['close'].rolling(window=20).mean()      # 20일 이동평균\n",
    "sm['sma240'] = sm['close'].rolling(window=60).mean()      # 40일 이동평균\n",
    "sm = sm.drop('volume', 1)                                 # volume 컬럼을 제거한다\n",
    "sm = sm / 10000"
   ]
  },
  {
   "cell_type": "code",
   "execution_count": 33,
   "metadata": {},
   "outputs": [
    {
     "data": {
      "text/html": [
       "<div>\n",
       "<style scoped>\n",
       "    .dataframe tbody tr th:only-of-type {\n",
       "        vertical-align: middle;\n",
       "    }\n",
       "\n",
       "    .dataframe tbody tr th {\n",
       "        vertical-align: top;\n",
       "    }\n",
       "\n",
       "    .dataframe thead th {\n",
       "        text-align: right;\n",
       "    }\n",
       "</style>\n",
       "<table border=\"1\" class=\"dataframe\">\n",
       "  <thead>\n",
       "    <tr style=\"text-align: right;\">\n",
       "      <th></th>\n",
       "      <th>open</th>\n",
       "      <th>high</th>\n",
       "      <th>low</th>\n",
       "      <th>close</th>\n",
       "      <th>sma120</th>\n",
       "      <th>sma240</th>\n",
       "    </tr>\n",
       "    <tr>\n",
       "      <th>date</th>\n",
       "      <th></th>\n",
       "      <th></th>\n",
       "      <th></th>\n",
       "      <th></th>\n",
       "      <th></th>\n",
       "      <th></th>\n",
       "    </tr>\n",
       "  </thead>\n",
       "  <tbody>\n",
       "    <tr>\n",
       "      <th>2019-06-19</th>\n",
       "      <td>4.545</td>\n",
       "      <td>4.545</td>\n",
       "      <td>4.500</td>\n",
       "      <td>4.535</td>\n",
       "      <td>4.36525</td>\n",
       "      <td>4.455667</td>\n",
       "    </tr>\n",
       "    <tr>\n",
       "      <th>2019-06-20</th>\n",
       "      <td>4.485</td>\n",
       "      <td>4.550</td>\n",
       "      <td>4.485</td>\n",
       "      <td>4.550</td>\n",
       "      <td>4.37525</td>\n",
       "      <td>4.455667</td>\n",
       "    </tr>\n",
       "    <tr>\n",
       "      <th>2019-06-21</th>\n",
       "      <td>4.575</td>\n",
       "      <td>4.580</td>\n",
       "      <td>4.520</td>\n",
       "      <td>4.570</td>\n",
       "      <td>4.38450</td>\n",
       "      <td>4.456417</td>\n",
       "    </tr>\n",
       "    <tr>\n",
       "      <th>2019-06-24</th>\n",
       "      <td>4.520</td>\n",
       "      <td>4.580</td>\n",
       "      <td>4.520</td>\n",
       "      <td>4.550</td>\n",
       "      <td>4.39850</td>\n",
       "      <td>4.456667</td>\n",
       "    </tr>\n",
       "    <tr>\n",
       "      <th>2019-06-25</th>\n",
       "      <td>4.520</td>\n",
       "      <td>4.580</td>\n",
       "      <td>4.520</td>\n",
       "      <td>4.545</td>\n",
       "      <td>4.41250</td>\n",
       "      <td>4.457667</td>\n",
       "    </tr>\n",
       "  </tbody>\n",
       "</table>\n",
       "</div>"
      ],
      "text/plain": [
       "             open   high    low  close   sma120    sma240\n",
       "date                                                     \n",
       "2019-06-19  4.545  4.545  4.500  4.535  4.36525  4.455667\n",
       "2019-06-20  4.485  4.550  4.485  4.550  4.37525  4.455667\n",
       "2019-06-21  4.575  4.580  4.520  4.570  4.38450  4.456417\n",
       "2019-06-24  4.520  4.580  4.520  4.550  4.39850  4.456667\n",
       "2019-06-25  4.520  4.580  4.520  4.545  4.41250  4.457667"
      ]
     },
     "execution_count": 33,
     "metadata": {},
     "output_type": "execute_result"
    }
   ],
   "source": [
    "sm.tail()"
   ]
  },
  {
   "cell_type": "code",
   "execution_count": 34,
   "metadata": {},
   "outputs": [],
   "source": [
    "sm['next close'] = sm['close'].shift(-1)\n",
    "sm = sm.dropna()"
   ]
  },
  {
   "cell_type": "code",
   "execution_count": 35,
   "metadata": {},
   "outputs": [
    {
     "data": {
      "text/html": [
       "<div>\n",
       "<style scoped>\n",
       "    .dataframe tbody tr th:only-of-type {\n",
       "        vertical-align: middle;\n",
       "    }\n",
       "\n",
       "    .dataframe tbody tr th {\n",
       "        vertical-align: top;\n",
       "    }\n",
       "\n",
       "    .dataframe thead th {\n",
       "        text-align: right;\n",
       "    }\n",
       "</style>\n",
       "<table border=\"1\" class=\"dataframe\">\n",
       "  <thead>\n",
       "    <tr style=\"text-align: right;\">\n",
       "      <th></th>\n",
       "      <th>open</th>\n",
       "      <th>high</th>\n",
       "      <th>low</th>\n",
       "      <th>close</th>\n",
       "      <th>sma120</th>\n",
       "      <th>sma240</th>\n",
       "      <th>next close</th>\n",
       "      <th>class</th>\n",
       "    </tr>\n",
       "    <tr>\n",
       "      <th>date</th>\n",
       "      <th></th>\n",
       "      <th></th>\n",
       "      <th></th>\n",
       "      <th></th>\n",
       "      <th></th>\n",
       "      <th></th>\n",
       "      <th></th>\n",
       "      <th></th>\n",
       "    </tr>\n",
       "  </thead>\n",
       "  <tbody>\n",
       "    <tr>\n",
       "      <th>2011-08-04</th>\n",
       "      <td>1.678</td>\n",
       "      <td>1.678</td>\n",
       "      <td>1.630</td>\n",
       "      <td>1.642</td>\n",
       "      <td>1.6883</td>\n",
       "      <td>1.718200</td>\n",
       "      <td>1.578</td>\n",
       "      <td>0.0</td>\n",
       "    </tr>\n",
       "    <tr>\n",
       "      <th>2011-08-05</th>\n",
       "      <td>1.584</td>\n",
       "      <td>1.610</td>\n",
       "      <td>1.578</td>\n",
       "      <td>1.578</td>\n",
       "      <td>1.6787</td>\n",
       "      <td>1.715000</td>\n",
       "      <td>1.520</td>\n",
       "      <td>0.0</td>\n",
       "    </tr>\n",
       "    <tr>\n",
       "      <th>2011-08-08</th>\n",
       "      <td>1.540</td>\n",
       "      <td>1.578</td>\n",
       "      <td>1.520</td>\n",
       "      <td>1.520</td>\n",
       "      <td>1.6682</td>\n",
       "      <td>1.709800</td>\n",
       "      <td>1.448</td>\n",
       "      <td>0.0</td>\n",
       "    </tr>\n",
       "    <tr>\n",
       "      <th>2011-08-09</th>\n",
       "      <td>1.500</td>\n",
       "      <td>1.506</td>\n",
       "      <td>1.392</td>\n",
       "      <td>1.448</td>\n",
       "      <td>1.6556</td>\n",
       "      <td>1.703900</td>\n",
       "      <td>1.440</td>\n",
       "      <td>0.0</td>\n",
       "    </tr>\n",
       "    <tr>\n",
       "      <th>2011-08-10</th>\n",
       "      <td>1.520</td>\n",
       "      <td>1.520</td>\n",
       "      <td>1.440</td>\n",
       "      <td>1.440</td>\n",
       "      <td>1.6433</td>\n",
       "      <td>1.698233</td>\n",
       "      <td>1.416</td>\n",
       "      <td>0.0</td>\n",
       "    </tr>\n",
       "  </tbody>\n",
       "</table>\n",
       "</div>"
      ],
      "text/plain": [
       "             open   high    low  close  sma120    sma240  next close  class\n",
       "date                                                                       \n",
       "2011-08-04  1.678  1.678  1.630  1.642  1.6883  1.718200       1.578    0.0\n",
       "2011-08-05  1.584  1.610  1.578  1.578  1.6787  1.715000       1.520    0.0\n",
       "2011-08-08  1.540  1.578  1.520  1.520  1.6682  1.709800       1.448    0.0\n",
       "2011-08-09  1.500  1.506  1.392  1.448  1.6556  1.703900       1.440    0.0\n",
       "2011-08-10  1.520  1.520  1.440  1.440  1.6433  1.698233       1.416    0.0"
      ]
     },
     "execution_count": 35,
     "metadata": {},
     "output_type": "execute_result"
    }
   ],
   "source": [
    "sm['class'] = 0.0\n",
    "sm.loc[sm['next close'] > sm['close'], 'class'] = 1.0\n",
    "sm.head()"
   ]
  },
  {
   "cell_type": "code",
   "execution_count": 36,
   "metadata": {},
   "outputs": [
    {
     "data": {
      "text/html": [
       "<div>\n",
       "<style scoped>\n",
       "    .dataframe tbody tr th:only-of-type {\n",
       "        vertical-align: middle;\n",
       "    }\n",
       "\n",
       "    .dataframe tbody tr th {\n",
       "        vertical-align: top;\n",
       "    }\n",
       "\n",
       "    .dataframe thead th {\n",
       "        text-align: right;\n",
       "    }\n",
       "</style>\n",
       "<table border=\"1\" class=\"dataframe\">\n",
       "  <thead>\n",
       "    <tr style=\"text-align: right;\">\n",
       "      <th></th>\n",
       "      <th>open</th>\n",
       "      <th>high</th>\n",
       "      <th>low</th>\n",
       "      <th>close</th>\n",
       "      <th>sma120</th>\n",
       "      <th>sma240</th>\n",
       "      <th>next close</th>\n",
       "      <th>class</th>\n",
       "    </tr>\n",
       "    <tr>\n",
       "      <th>date</th>\n",
       "      <th></th>\n",
       "      <th></th>\n",
       "      <th></th>\n",
       "      <th></th>\n",
       "      <th></th>\n",
       "      <th></th>\n",
       "      <th></th>\n",
       "      <th></th>\n",
       "    </tr>\n",
       "  </thead>\n",
       "  <tbody>\n",
       "    <tr>\n",
       "      <th>2014-06-13</th>\n",
       "      <td>2.804</td>\n",
       "      <td>2.808</td>\n",
       "      <td>2.726</td>\n",
       "      <td>2.734</td>\n",
       "      <td>2.86260</td>\n",
       "      <td>2.755000</td>\n",
       "      <td>2.748</td>\n",
       "      <td>1.0</td>\n",
       "    </tr>\n",
       "    <tr>\n",
       "      <th>2019-01-24</th>\n",
       "      <td>4.305</td>\n",
       "      <td>4.310</td>\n",
       "      <td>4.235</td>\n",
       "      <td>4.305</td>\n",
       "      <td>4.01325</td>\n",
       "      <td>4.140417</td>\n",
       "      <td>4.475</td>\n",
       "      <td>1.0</td>\n",
       "    </tr>\n",
       "    <tr>\n",
       "      <th>2012-10-26</th>\n",
       "      <td>2.612</td>\n",
       "      <td>2.624</td>\n",
       "      <td>2.574</td>\n",
       "      <td>2.574</td>\n",
       "      <td>2.66020</td>\n",
       "      <td>2.592733</td>\n",
       "      <td>2.598</td>\n",
       "      <td>1.0</td>\n",
       "    </tr>\n",
       "    <tr>\n",
       "      <th>2012-05-10</th>\n",
       "      <td>2.658</td>\n",
       "      <td>2.672</td>\n",
       "      <td>2.644</td>\n",
       "      <td>2.654</td>\n",
       "      <td>2.64140</td>\n",
       "      <td>2.521867</td>\n",
       "      <td>2.606</td>\n",
       "      <td>0.0</td>\n",
       "    </tr>\n",
       "    <tr>\n",
       "      <th>2014-02-20</th>\n",
       "      <td>2.580</td>\n",
       "      <td>2.592</td>\n",
       "      <td>2.562</td>\n",
       "      <td>2.572</td>\n",
       "      <td>2.57310</td>\n",
       "      <td>2.706433</td>\n",
       "      <td>2.660</td>\n",
       "      <td>1.0</td>\n",
       "    </tr>\n",
       "  </tbody>\n",
       "</table>\n",
       "</div>"
      ],
      "text/plain": [
       "             open   high    low  close   sma120    sma240  next close  class\n",
       "date                                                                        \n",
       "2014-06-13  2.804  2.808  2.726  2.734  2.86260  2.755000       2.748    1.0\n",
       "2019-01-24  4.305  4.310  4.235  4.305  4.01325  4.140417       4.475    1.0\n",
       "2012-10-26  2.612  2.624  2.574  2.574  2.66020  2.592733       2.598    1.0\n",
       "2012-05-10  2.658  2.672  2.644  2.654  2.64140  2.521867       2.606    0.0\n",
       "2014-02-20  2.580  2.592  2.562  2.572  2.57310  2.706433       2.660    1.0"
      ]
     },
     "execution_count": 36,
     "metadata": {},
     "output_type": "execute_result"
    }
   ],
   "source": [
    "sm = sm.sample(frac=1)\n",
    "sm.head()"
   ]
  },
  {
   "cell_type": "code",
   "execution_count": 37,
   "metadata": {},
   "outputs": [
    {
     "data": {
      "text/plain": [
       "962"
      ]
     },
     "execution_count": 37,
     "metadata": {},
     "output_type": "execute_result"
    }
   ],
   "source": [
    "len(sm.loc[sm['class'] == 0])"
   ]
  },
  {
   "cell_type": "code",
   "execution_count": 39,
   "metadata": {},
   "outputs": [],
   "source": [
    "inputX = np.array(sm.iloc[:1500, 0:6])\n",
    "outputY = np.array(sm.iloc[:1500, 7], dtype=np.float32).reshape(-1,1)\n",
    "\n",
    "testX = np.array(sm.iloc[1500:, 0:6])\n",
    "testY = np.array(sm.iloc[1500:, 7], dtype=np.float32).reshape(-1,1)"
   ]
  },
  {
   "cell_type": "code",
   "execution_count": 44,
   "metadata": {},
   "outputs": [],
   "source": [
    "nInput = 6      # input layer의 neuron 개수\n",
    "nHidden1 = 20   # hidden layer-1의 neuron 개수\n",
    "nOutput = 1     # output layer의 neuron 개수"
   ]
  },
  {
   "cell_type": "code",
   "execution_count": 48,
   "metadata": {},
   "outputs": [],
   "source": [
    "# 그래프를 생성한다\n",
    "tf.reset_default_graph()\n",
    "x = tf.placeholder(tf.float32, shape=[None, nInput], name='x')\n",
    "y = tf.placeholder(tf.float32, shape=[None, nOutput], name='y')\n",
    "\n",
    "# hidden layer의 Weight (Wh)와 Bias (Bh)\n",
    "Wh1 = tf.Variable(tf.truncated_normal([nInput, nHidden1]), dtype=tf.float32, name='Wh1')\n",
    "Bh1 = tf.Variable(tf.zeros(nHidden1), dtype=tf.float32, name='Bh1')\n",
    "\n",
    "# output layer의 Weight (Wo)와 Bias (Bo)\n",
    "Wo = tf.Variable(tf.truncated_normal([nHidden1, nOutput]), dtype=tf.float32, name='Wo')\n",
    "Bo = tf.Variable(tf.zeros(nOutput), dtype=tf.float32, name='Bo')\n",
    "\n",
    "# Hidden layer의 출력값. activation function은 relu\n",
    "H1 = tf.nn.relu(tf.add(tf.matmul(x, Wh1), Bh1), name='H1')\n",
    "\n",
    "# Output layer의 출력값. activation function은 sigmoid\n",
    "predY = tf.nn.sigmoid(tf.add(tf.matmul(H1, Wo), Bo), name='predY')\n",
    "\n",
    "# Cost function 정의. MSE\n",
    "# cost = tf.reduce_mean(tf.square(tf.square(tf.subtract(predY, y))))\n",
    "\n",
    "# Cost function CE\n",
    "clipY = tf.clip_by_value(predY, 0.000001, 0.99999)  # log(0)를 방지한다\n",
    "cost = -tf.reduce_mean(y * tf.log(clipY) + (1-y) * tf.log(1-clipY))\n",
    "\n",
    "# 학습\n",
    "alpha = tf.placeholder(tf.float32, name='alpha')\n",
    "optimizer = tf.train.AdamOptimizer(alpha)\n",
    "train = optimizer.minimize(cost)\n",
    "\n",
    "saver = tf.train.Saver()"
   ]
  },
  {
   "cell_type": "code",
   "execution_count": 49,
   "metadata": {},
   "outputs": [],
   "source": [
    "# 그래프를 실행한다\n",
    "sess = tf.Session()\n",
    "sess.run(tf.global_variables_initializer())\n",
    "\n",
    "# 기존 학습 결과를 적용한 후 추가로 학습한다\n",
    "#if tf.train.checkpoint_exists(saveDir):\n",
    "#    saver.restore(sess, saveFile)"
   ]
  },
  {
   "cell_type": "code",
   "execution_count": null,
   "metadata": {},
   "outputs": [
    {
     "name": "stdout",
     "output_type": "stream",
     "text": [
      "cost = 0.698436\n",
      "cost = 0.694307\n",
      "cost = 0.692853\n",
      "cost = 0.692129\n"
     ]
    }
   ],
   "source": [
    "# Mini-batch 적용\n",
    "nBatchCnt = 5\n",
    "nBatchSize = int(inputX.shape[0] / nBatchCnt)\n",
    "for i in range(10000):\n",
    "    # Mini-batch 방식으로 학습한다\n",
    "    for n in range(nBatchCnt):\n",
    "        # input 데이터를 Mini-batch 크기에 맞게 자른다\n",
    "        nFrom = n * nBatchSize\n",
    "        nTo = n * nBatchSize + nBatchSize\n",
    "\n",
    "        # 마지막 루프이면 nTo는 input 데이터의 끝까지.\n",
    "        if n == nBatchCnt - 1:\n",
    "            nTo = inputX.shape[0]\n",
    "            \n",
    "        bx = inputX[nFrom : nTo]\n",
    "        by = outputY[nFrom : nTo]\n",
    "        \n",
    "        _, xcost = sess.run([train, cost], feed_dict={x: bx, y: by, alpha: 0.001})\n",
    "    \n",
    "    if i % 1000 == 0:\n",
    "        print('cost = %.6f' % xcost)\n",
    "        \n",
    "# 학습 결과를 저장해 둔다\n",
    "#saver.save(sess, saveFile)"
   ]
  },
  {
   "cell_type": "code",
   "execution_count": 15,
   "metadata": {},
   "outputs": [],
   "source": [
    "# 학습이 완료되면, Wh, Bh, Wo, Bo 이 모두 업데이트 되었으면, inputX를 넣어서 출력값을 확인한다.\n",
    "# 출력값은 inputY의 추정값이다.\n",
    "yHat = sess.run(predY, feed_dict={x: testX})"
   ]
  },
  {
   "cell_type": "code",
   "execution_count": 16,
   "metadata": {},
   "outputs": [],
   "source": [
    "yHat[np.where(yHat > 0.5)] = 1\n",
    "yHat[np.where(yHat < 0.5)] = 0"
   ]
  },
  {
   "cell_type": "code",
   "execution_count": 17,
   "metadata": {},
   "outputs": [],
   "source": [
    "yHat = np.array([1 if  x > 0.5 else 0 for x in yHat]).reshape(-1,1)"
   ]
  },
  {
   "cell_type": "code",
   "execution_count": 18,
   "metadata": {},
   "outputs": [],
   "source": [
    "accuracy = (testY == yHat).sum() / len(testX)"
   ]
  },
  {
   "cell_type": "code",
   "execution_count": 19,
   "metadata": {},
   "outputs": [
    {
     "name": "stdout",
     "output_type": "stream",
     "text": [
      "Accuracy = 0.4890\n"
     ]
    }
   ],
   "source": [
    "print(\"Accuracy = %.4f\" % accuracy)"
   ]
  },
  {
   "cell_type": "code",
   "execution_count": null,
   "metadata": {},
   "outputs": [],
   "source": []
  }
 ],
 "metadata": {
  "kernelspec": {
   "display_name": "Python 3",
   "language": "python",
   "name": "python3"
  },
  "language_info": {
   "codemirror_mode": {
    "name": "ipython",
    "version": 3
   },
   "file_extension": ".py",
   "mimetype": "text/x-python",
   "name": "python",
   "nbconvert_exporter": "python",
   "pygments_lexer": "ipython3",
   "version": "3.7.3"
  }
 },
 "nbformat": 4,
 "nbformat_minor": 2
}
