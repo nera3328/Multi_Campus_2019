{
 "cells": [
  {
   "cell_type": "code",
   "execution_count": 1,
   "metadata": {},
   "outputs": [],
   "source": [
    "# TensorFlow를 이용하여 직선회귀를 연습한다.\n",
    "# 직선회귀 방법 : Ordinary Least Square\n",
    "# ---------------------------------------\n",
    "import tensorflow as tf\n",
    "import matplotlib.pyplot as plt\n",
    "import numpy as np"
   ]
  },
  {
   "cell_type": "code",
   "execution_count": 4,
   "metadata": {},
   "outputs": [],
   "source": [
    "# 샘플 데이터 1,000개를 생성한다\n",
    "# y = ax + b + e\n",
    "def createData(a, b, n):\n",
    "   resultX = []\n",
    "   resultY = []\n",
    "   for i in range(n):\n",
    "       x = np.random.normal(0.0, 0.5)\n",
    "       y = a * x + b + np.random.normal(0.0, 0.05)\n",
    "       resultX.append(x)\n",
    "       resultY.append(y)\n",
    "       \n",
    "   return resultX, resultY"
   ]
  },
  {
   "cell_type": "code",
   "execution_count": 5,
   "metadata": {},
   "outputs": [],
   "source": [
    "# inputY = 0.1 * inputX + 0.3 + 잔차\n",
    "inputX, inputY = createData(0.1, 0.3, 1000)"
   ]
  },
  {
   "cell_type": "code",
   "execution_count": 6,
   "metadata": {},
   "outputs": [],
   "source": [
    "# 선형 추정 식을 정의한다\n",
    "# predY = W * inputX + b\n",
    "tf.reset_default_graph()\n",
    "r = tf.random_uniform([1], -1.0, 1.0) #random값 -1.0, .1.0\n",
    "W = tf.Variable(r, name = \"W\")\n",
    "b = tf.Variable(tf.zeros([1]), name = \"Bias\") # 초깃값 0                    W와 b를 내가 update\n",
    "x = tf.placeholder(tf.float32, name = \"X\") #placeholder로 두개! 정의만 하기\n",
    "y = tf.placeholder(tf.float32, name = \"Y\")\n",
    "                                            #아래에서 문의왔어 얘네 값 줘\n",
    "    \n",
    "                                            #len(x)=1000, "
   ]
  },
  {
   "cell_type": "code",
   "execution_count": 8,
   "metadata": {},
   "outputs": [
    {
     "data": {
      "text/plain": [
       "<tf.Variable 'W:0' shape=(1,) dtype=float32_ref>"
      ]
     },
     "execution_count": 8,
     "metadata": {},
     "output_type": "execute_result"
    }
   ],
   "source": [
    "W #1회차---여기선 W를 못찾지?  "
   ]
  },
  {
   "cell_type": "code",
   "execution_count": 9,
   "metadata": {},
   "outputs": [],
   "source": [
    "# Loss function을 정의한다. (MSE : Mean Square Error)  \n",
    "predY = tf.add(tf.multiply(W, x), b) # = muti로 곱하고 add로 더해라 = x1 w1 + x2 w2 + b\n",
    "loss = tf.reduce_mean(tf.square(predY - y)) # y가 나오도록 placeholder에 초깃값주고 한번 돌려! \n",
    "    # 그리고 위에 값에서 y 빼고 제곱, 평균-----아래에서 loss값 받았어 근데 난 predY값 몰라-> 위로 가\n",
    "                                #여기서 x에는 관심 안갖고 y값만 따짐 "
   ]
  },
  {
   "cell_type": "code",
   "execution_count": null,
   "metadata": {},
   "outputs": [],
   "source": [
    "# 학습할 optimizer를 정의한다        min 방법론\n",
    "optimizer = tf.train.AdamOptimizer(0.05)   #optimizer->f(x)의 최소지점을 찾기 위한 경사타기:  \n",
    "                                                        #momoentum과 adaptive 결합한거\n",
    "train = optimizer.minimize(loss) #최소화 시켜라 -->실습에서는 얘만 아래에서 실행시켜b주면됨 근데 loss 몰라\n",
    "                                                # -> 바로 위칸으로 가!"
   ]
  },
  {
   "cell_type": "markdown",
   "metadata": {},
   "source": [
    "train : loss를 미분해서 G-D를 적용해서 W와 b를 변경한다."
   ]
  },
  {
   "cell_type": "code",
   "execution_count": 12,
   "metadata": {},
   "outputs": [
    {
     "data": {
      "text/plain": [
       "-0.59386826"
      ]
     },
     "execution_count": 12,
     "metadata": {},
     "output_type": "execute_result"
    }
   ],
   "source": [
    "# 세션을 오픈하고 그래프를 실행한다.\n",
    "sess = tf.Session()\n",
    "sess.run(tf.global_variables_initializer()) #random값이 W 속에 들어가게 함  \n",
    "# ***initializer: 초깃값을 세팅하는 기능 할 때마다 얘를 실행시켜주어야 이전 것이 반영되지 않는다.\n",
    "\n",
    "sess.run(W)[0] #여기서는 W값을 찾았어! w는 랜덤하게 줬기떄문에 랜덤하게 나와"
   ]
  },
  {
   "cell_type": "code",
   "execution_count": 13,
   "metadata": {},
   "outputs": [
    {
     "data": {
      "text/plain": [
       "array([0.], dtype=float32)"
      ]
     },
     "execution_count": 13,
     "metadata": {},
     "output_type": "execute_result"
    }
   ],
   "source": [
    "sess.run(b) "
   ]
  },
  {
   "cell_type": "code",
   "execution_count": 14,
   "metadata": {},
   "outputs": [
    {
     "name": "stdout",
     "output_type": "stream",
     "text": [
      "0) 0.205380\n",
      "10) 0.023079\n",
      "20) 0.005414\n",
      "30) 0.007583\n",
      "40) 0.003397\n",
      "50) 0.003302\n",
      "60) 0.002700\n",
      "70) 0.002736\n",
      "80) 0.002679\n",
      "90) 0.002685\n"
     ]
    }
   ],
   "source": [
    "trLoss = []\n",
    "for i in range(100):\n",
    "    _, resultLoss = sess.run([train, loss], feed_dict={x: inputX, y: inputY})  \n",
    "    #_: 더미 변수  //loss는 관찰용으로 넣어줬어. 위에 X,y,값 안줐지? 여기서 외부data로 딕트에 밥줘!\n",
    "    trLoss.append(resultLoss)\n",
    "    \n",
    "    if i % 10 == 0:\n",
    "        print(\"%d) %f\" % (i, resultLoss))\n",
    "\n",
    "sW = sess.run(W) #W 자체는 tensor 얘를 밖에서 (sW, sb)실행시켜서 일반데이터로 다룸\n",
    "sb = sess.run(b)\n",
    "sess.close()"
   ]
  },
  {
   "cell_type": "code",
   "execution_count": 15,
   "metadata": {},
   "outputs": [
    {
     "name": "stdout",
     "output_type": "stream",
     "text": [
      "\n",
      "*회귀직선의 방정식 (TLS) : y = 0.0973 * x +  0.2961\n"
     ]
    },
    {
     "data": {
      "image/png": "[encoded data removed]",
      "text/plain": [
       "<Figure size 720x288 with 2 Axes>"
      ]
     },
     "metadata": {
      "needs_background": "light"
     },
     "output_type": "display_data"
    }
   ],
   "source": [
    "# 결과를 확인한다\n",
    "print(\"\\n*회귀직선의 방정식 (OLS) : y = %.4f * x +  %.4f\" % (sW, sb))\n",
    "y = sW * inputX + sb\n",
    "\n",
    "fig = plt.figure(figsize=(10, 4))\n",
    "p1 = fig.add_subplot(1,2,1)\n",
    "p2 = fig.add_subplot(1,2,2)\n",
    "\n",
    "p1.plot(inputX, inputY, 'ro', markersize=1.5)\n",
    "p1.plot(inputX, y)\n",
    "\n",
    "p2.plot(trLoss, color='red', linewidth=1)\n",
    "p2.set_title(\"Loss function\")\n",
    "p2.set_xlabel(\"epoch\")\n",
    "p2.set_ylabel(\"loss\")\n",
    "plt.show()"
   ]
  },
  {
   "cell_type": "markdown",
   "metadata": {},
   "source": [
    "앞에서는 error가 엄청 많았다가 20번이후부터 error가 줄어.  \n",
    "y빼기 값(실제값-예측값)이 여기 오면서 둘이 비슷해졌다는 뜻이야."
   ]
  },
  {
   "cell_type": "markdown",
   "metadata": {},
   "source": [
    "data 1000개를 100번 돌림---> update는 10만번 됨? 효율성 별로  \n",
    "--> reduce_mean->천개를 받아와서 실제값-추정값 제곱, 평균->100번 업뎃 시켜줌  \n",
    "-- : batch update시켜줘라 error값 전부 합산해서 update ?  --> (일반적으로는 mini batch update시켜줌 얘는 거기서 좀더 나눠주는데 좀더 코딩해줘야해)"
   ]
  },
  {
   "cell_type": "code",
   "execution_count": null,
   "metadata": {},
   "outputs": [],
   "source": []
  }
 ],
 "metadata": {
  "kernelspec": {
   "display_name": "Python 3",
   "language": "python",
   "name": "python3"
  },
  "language_info": {
   "codemirror_mode": {
    "name": "ipython",
    "version": 3
   },
   "file_extension": ".py",
   "mimetype": "text/x-python",
   "name": "python",
   "nbconvert_exporter": "python",
   "pygments_lexer": "ipython3",
   "version": "3.7.3"
  }
 },
 "nbformat": 4,
 "nbformat_minor": 2
}
