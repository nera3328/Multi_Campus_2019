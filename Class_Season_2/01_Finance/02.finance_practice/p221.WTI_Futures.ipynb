{
 "cells": [
  {
   "cell_type": "code",
   "execution_count": 1,
   "metadata": {},
   "outputs": [],
   "source": [
    "import pandas as pd\n",
    "import numpy as np"
   ]
  },
  {
   "cell_type": "code",
   "execution_count": 3,
   "metadata": {},
   "outputs": [],
   "source": [
    "df1 = pd.read_excel('./stockData/11.2 WTI.xlsx', 'Spot', index_col='Date')\n",
    "df2 = pd.read_excel('./stockData/11.2 WTI.xlsx', 'Front', index_col='Date')\n",
    "df3 = pd.read_excel('./stockData/11.2 WTI.xlsx', 'Second', index_col='Date')"
   ]
  },
  {
   "cell_type": "code",
   "execution_count": 4,
   "metadata": {},
   "outputs": [
    {
     "data": {
      "text/html": [
       "<div>\n",
       "<style scoped>\n",
       "    .dataframe tbody tr th:only-of-type {\n",
       "        vertical-align: middle;\n",
       "    }\n",
       "\n",
       "    .dataframe tbody tr th {\n",
       "        vertical-align: top;\n",
       "    }\n",
       "\n",
       "    .dataframe thead th {\n",
       "        text-align: right;\n",
       "    }\n",
       "</style>\n",
       "<table border=\"1\" class=\"dataframe\">\n",
       "  <thead>\n",
       "    <tr style=\"text-align: right;\">\n",
       "      <th></th>\n",
       "      <th>Spot</th>\n",
       "      <th>Front</th>\n",
       "      <th>Second</th>\n",
       "    </tr>\n",
       "    <tr>\n",
       "      <th>Date</th>\n",
       "      <th></th>\n",
       "      <th></th>\n",
       "      <th></th>\n",
       "    </tr>\n",
       "  </thead>\n",
       "  <tbody>\n",
       "    <tr>\n",
       "      <th>2010-01-08</th>\n",
       "      <td>82.75</td>\n",
       "      <td>82.75</td>\n",
       "      <td>83.30</td>\n",
       "    </tr>\n",
       "    <tr>\n",
       "      <th>2010-01-07</th>\n",
       "      <td>82.66</td>\n",
       "      <td>82.66</td>\n",
       "      <td>83.19</td>\n",
       "    </tr>\n",
       "    <tr>\n",
       "      <th>2010-01-06</th>\n",
       "      <td>83.18</td>\n",
       "      <td>83.18</td>\n",
       "      <td>83.75</td>\n",
       "    </tr>\n",
       "    <tr>\n",
       "      <th>2010-01-05</th>\n",
       "      <td>81.77</td>\n",
       "      <td>81.77</td>\n",
       "      <td>82.41</td>\n",
       "    </tr>\n",
       "    <tr>\n",
       "      <th>2010-01-04</th>\n",
       "      <td>81.51</td>\n",
       "      <td>81.51</td>\n",
       "      <td>82.12</td>\n",
       "    </tr>\n",
       "  </tbody>\n",
       "</table>\n",
       "</div>"
      ],
      "text/plain": [
       "             Spot  Front  Second\n",
       "Date                            \n",
       "2010-01-08  82.75  82.75   83.30\n",
       "2010-01-07  82.66  82.66   83.19\n",
       "2010-01-06  83.18  83.18   83.75\n",
       "2010-01-05  81.77  81.77   82.41\n",
       "2010-01-04  81.51  81.51   82.12"
      ]
     },
     "execution_count": 4,
     "metadata": {},
     "output_type": "execute_result"
    }
   ],
   "source": [
    "df = pd.concat([df1, df2, df3], axis=1)\n",
    "df.tail()"
   ]
  },
  {
   "cell_type": "code",
   "execution_count": 5,
   "metadata": {},
   "outputs": [],
   "source": [
    "df = df.fillna(method = 'ffill')\n",
    "df = df.fillna(method = 'bfill')"
   ]
  },
  {
   "cell_type": "code",
   "execution_count": 6,
   "metadata": {},
   "outputs": [
    {
     "data": {
      "text/html": [
       "<div>\n",
       "<style scoped>\n",
       "    .dataframe tbody tr th:only-of-type {\n",
       "        vertical-align: middle;\n",
       "    }\n",
       "\n",
       "    .dataframe tbody tr th {\n",
       "        vertical-align: top;\n",
       "    }\n",
       "\n",
       "    .dataframe thead th {\n",
       "        text-align: right;\n",
       "    }\n",
       "</style>\n",
       "<table border=\"1\" class=\"dataframe\">\n",
       "  <thead>\n",
       "    <tr style=\"text-align: right;\">\n",
       "      <th></th>\n",
       "      <th>Ticker</th>\n",
       "      <th>Month</th>\n",
       "      <th>Last Trade</th>\n",
       "      <th>Last Price</th>\n",
       "    </tr>\n",
       "  </thead>\n",
       "  <tbody>\n",
       "    <tr>\n",
       "      <th>120</th>\n",
       "      <td>CLG10</td>\n",
       "      <td>2017-02-10</td>\n",
       "      <td>01/20/10</td>\n",
       "      <td>77.62</td>\n",
       "    </tr>\n",
       "    <tr>\n",
       "      <th>121</th>\n",
       "      <td>CLH10</td>\n",
       "      <td>2017-03-10</td>\n",
       "      <td>02/22/10</td>\n",
       "      <td>80.16</td>\n",
       "    </tr>\n",
       "    <tr>\n",
       "      <th>122</th>\n",
       "      <td>CLJ10</td>\n",
       "      <td>2017-04-10</td>\n",
       "      <td>03/22/10</td>\n",
       "      <td>81.25</td>\n",
       "    </tr>\n",
       "    <tr>\n",
       "      <th>123</th>\n",
       "      <td>CLK10</td>\n",
       "      <td>2017-05-10</td>\n",
       "      <td>04/20/10</td>\n",
       "      <td>83.45</td>\n",
       "    </tr>\n",
       "    <tr>\n",
       "      <th>124</th>\n",
       "      <td>CLM10</td>\n",
       "      <td>2017-06-10</td>\n",
       "      <td>05/20/10</td>\n",
       "      <td>68.01</td>\n",
       "    </tr>\n",
       "  </tbody>\n",
       "</table>\n",
       "</div>"
      ],
      "text/plain": [
       "    Ticker      Month Last Trade  Last Price\n",
       "120  CLG10 2017-02-10   01/20/10       77.62\n",
       "121  CLH10 2017-03-10   02/22/10       80.16\n",
       "122  CLJ10 2017-04-10   03/22/10       81.25\n",
       "123  CLK10 2017-05-10   04/20/10       83.45\n",
       "124  CLM10 2017-06-10   05/20/10       68.01"
      ]
     },
     "execution_count": 6,
     "metadata": {},
     "output_type": "execute_result"
    }
   ],
   "source": [
    "df_e = pd.read_excel('./stockData/11.2 WTI.xlsx', 'Expiry')\n",
    "df_e[120:125]"
   ]
  },
  {
   "cell_type": "code",
   "execution_count": 7,
   "metadata": {},
   "outputs": [
    {
     "data": {
      "text/plain": [
       "0    01/20/00\n",
       "1    02/22/00\n",
       "2    03/21/00\n",
       "3    04/19/00\n",
       "4    05/22/00\n",
       "Name: Last Trade, dtype: object"
      ]
     },
     "execution_count": 7,
     "metadata": {},
     "output_type": "execute_result"
    }
   ],
   "source": [
    "df_e['Last Trade'].head()"
   ]
  },
  {
   "cell_type": "code",
   "execution_count": 9,
   "metadata": {},
   "outputs": [
    {
     "data": {
      "text/plain": [
       "0   2000-01-20\n",
       "1   2000-02-22\n",
       "2   2000-03-21\n",
       "3   2000-04-19\n",
       "4   2000-05-22\n",
       "Name: Last Trade, dtype: datetime64[ns]"
      ]
     },
     "execution_count": 9,
     "metadata": {},
     "output_type": "execute_result"
    }
   ],
   "source": [
    "expiry = pd.Series(pd.to_datetime(df_e['Last Trade']))\n",
    "expiry.head()"
   ]
  },
  {
   "cell_type": "code",
   "execution_count": 10,
   "metadata": {},
   "outputs": [],
   "source": [
    "df['Expiry'] = np.nan"
   ]
  },
  {
   "cell_type": "code",
   "execution_count": 12,
   "metadata": {},
   "outputs": [
    {
     "data": {
      "text/html": [
       "<div>\n",
       "<style scoped>\n",
       "    .dataframe tbody tr th:only-of-type {\n",
       "        vertical-align: middle;\n",
       "    }\n",
       "\n",
       "    .dataframe tbody tr th {\n",
       "        vertical-align: top;\n",
       "    }\n",
       "\n",
       "    .dataframe thead th {\n",
       "        text-align: right;\n",
       "    }\n",
       "</style>\n",
       "<table border=\"1\" class=\"dataframe\">\n",
       "  <thead>\n",
       "    <tr style=\"text-align: right;\">\n",
       "      <th></th>\n",
       "      <th>Spot</th>\n",
       "      <th>Front</th>\n",
       "      <th>Second</th>\n",
       "      <th>Expiry</th>\n",
       "    </tr>\n",
       "    <tr>\n",
       "      <th>Date</th>\n",
       "      <th></th>\n",
       "      <th></th>\n",
       "      <th></th>\n",
       "      <th></th>\n",
       "    </tr>\n",
       "  </thead>\n",
       "  <tbody>\n",
       "    <tr>\n",
       "      <th>2017-12-20</th>\n",
       "      <td>58.02</td>\n",
       "      <td>58.09</td>\n",
       "      <td>58.13</td>\n",
       "      <td>NaN</td>\n",
       "    </tr>\n",
       "    <tr>\n",
       "      <th>2017-12-19</th>\n",
       "      <td>57.46</td>\n",
       "      <td>57.46</td>\n",
       "      <td>57.56</td>\n",
       "      <td>1.0</td>\n",
       "    </tr>\n",
       "    <tr>\n",
       "      <th>2017-12-18</th>\n",
       "      <td>57.16</td>\n",
       "      <td>57.16</td>\n",
       "      <td>57.22</td>\n",
       "      <td>NaN</td>\n",
       "    </tr>\n",
       "    <tr>\n",
       "      <th>2017-12-15</th>\n",
       "      <td>57.30</td>\n",
       "      <td>57.30</td>\n",
       "      <td>57.33</td>\n",
       "      <td>NaN</td>\n",
       "    </tr>\n",
       "    <tr>\n",
       "      <th>2017-12-14</th>\n",
       "      <td>57.04</td>\n",
       "      <td>57.04</td>\n",
       "      <td>57.08</td>\n",
       "      <td>NaN</td>\n",
       "    </tr>\n",
       "  </tbody>\n",
       "</table>\n",
       "</div>"
      ],
      "text/plain": [
       "             Spot  Front  Second  Expiry\n",
       "Date                                    \n",
       "2017-12-20  58.02  58.09   58.13     NaN\n",
       "2017-12-19  57.46  57.46   57.56     1.0\n",
       "2017-12-18  57.16  57.16   57.22     NaN\n",
       "2017-12-15  57.30  57.30   57.33     NaN\n",
       "2017-12-14  57.04  57.04   57.08     NaN"
      ]
     },
     "execution_count": 12,
     "metadata": {},
     "output_type": "execute_result"
    }
   ],
   "source": [
    "for d in df.index:\n",
    "    if d in expiry.values:\n",
    "        df.loc[d].Expiry = 1\n",
    "df[5:10]"
   ]
  },
  {
   "cell_type": "markdown",
   "metadata": {},
   "source": [
    "#### 2010-01-04 현물 매입, 2017-12-28 현물 매도"
   ]
  },
  {
   "cell_type": "code",
   "execution_count": 15,
   "metadata": {},
   "outputs": [
    {
     "name": "stdout",
     "output_type": "stream",
     "text": [
      "손익 :  -21.67\n"
     ]
    }
   ],
   "source": [
    "price_now = float(df['2017-12-28']['Spot'])\n",
    "price_before = float(df['2010-01-04']['Spot'])\n",
    "profit = (price_now - price_before)\n",
    "print('손익 : ', '{:,.2f}'.format(profit))"
   ]
  },
  {
   "cell_type": "markdown",
   "metadata": {},
   "source": [
    "#### 2010-01-04 선물 매입, 2017-12-28 선물 매도"
   ]
  },
  {
   "cell_type": "code",
   "execution_count": 18,
   "metadata": {},
   "outputs": [
    {
     "name": "stdout",
     "output_type": "stream",
     "text": [
      "누적 롤오버 비용 : 40.68\n"
     ]
    }
   ],
   "source": [
    "# 롤오버 비용 계산\n",
    "roll_over_cost_acc = 0\n",
    "for d in df.index:\n",
    "    if df.loc[d].Expiry == 1:\n",
    "        roll_over_cost_acc += df.loc[d].Second - df.loc[d].Front\n",
    "print('누적 롤오버 비용 :', '{:,.2f}'.format(roll_over_cost_acc))"
   ]
  },
  {
   "cell_type": "code",
   "execution_count": 19,
   "metadata": {},
   "outputs": [
    {
     "name": "stdout",
     "output_type": "stream",
     "text": [
      "손익 :  -62.35\n"
     ]
    }
   ],
   "source": [
    "price_now = float(df['2017-12-28']['Front'])\n",
    "price_before = float(df['2010-01-04']['Front'])\n",
    "profit = (price_now - price_before - roll_over_cost_acc)\n",
    "print('손익 : ', '{:,.2f}'.format(profit))"
   ]
  },
  {
   "cell_type": "code",
   "execution_count": null,
   "metadata": {},
   "outputs": [],
   "source": []
  }
 ],
 "metadata": {
  "kernelspec": {
   "display_name": "Python 3",
   "language": "python",
   "name": "python3"
  },
  "language_info": {
   "codemirror_mode": {
    "name": "ipython",
    "version": 3
   },
   "file_extension": ".py",
   "mimetype": "text/x-python",
   "name": "python",
   "nbconvert_exporter": "python",
   "pygments_lexer": "ipython3",
   "version": "3.7.3"
  }
 },
 "nbformat": 4,
 "nbformat_minor": 2
}
