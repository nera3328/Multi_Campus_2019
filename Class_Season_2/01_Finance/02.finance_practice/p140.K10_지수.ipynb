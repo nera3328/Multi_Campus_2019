{
 "cells": [
  {
   "cell_type": "code",
   "execution_count": 1,
   "metadata": {},
   "outputs": [],
   "source": [
    "import pandas as pd"
   ]
  },
  {
   "cell_type": "code",
   "execution_count": 2,
   "metadata": {},
   "outputs": [],
   "source": [
    "siga = pd.read_csv('./stockData/siga.csv')"
   ]
  },
  {
   "cell_type": "code",
   "execution_count": 3,
   "metadata": {},
   "outputs": [
    {
     "data": {
      "text/html": [
       "<div>\n",
       "<style scoped>\n",
       "    .dataframe tbody tr th:only-of-type {\n",
       "        vertical-align: middle;\n",
       "    }\n",
       "\n",
       "    .dataframe tbody tr th {\n",
       "        vertical-align: top;\n",
       "    }\n",
       "\n",
       "    .dataframe thead th {\n",
       "        text-align: right;\n",
       "    }\n",
       "</style>\n",
       "<table border=\"1\" class=\"dataframe\">\n",
       "  <thead>\n",
       "    <tr style=\"text-align: right;\">\n",
       "      <th></th>\n",
       "      <th>code</th>\n",
       "      <th>name</th>\n",
       "      <th>amount</th>\n",
       "    </tr>\n",
       "  </thead>\n",
       "  <tbody>\n",
       "    <tr>\n",
       "      <th>0</th>\n",
       "      <td>a005930</td>\n",
       "      <td>삼성전자</td>\n",
       "      <td>5969783</td>\n",
       "    </tr>\n",
       "    <tr>\n",
       "      <th>1</th>\n",
       "      <td>a000660</td>\n",
       "      <td>SK하이닉스</td>\n",
       "      <td>728002</td>\n",
       "    </tr>\n",
       "    <tr>\n",
       "      <th>2</th>\n",
       "      <td>a005380</td>\n",
       "      <td>현대차</td>\n",
       "      <td>213668</td>\n",
       "    </tr>\n",
       "    <tr>\n",
       "      <th>3</th>\n",
       "      <td>a068270</td>\n",
       "      <td>셀트리온</td>\n",
       "      <td>128329</td>\n",
       "    </tr>\n",
       "    <tr>\n",
       "      <th>4</th>\n",
       "      <td>a051910</td>\n",
       "      <td>LG화학</td>\n",
       "      <td>70592</td>\n",
       "    </tr>\n",
       "  </tbody>\n",
       "</table>\n",
       "</div>"
      ],
      "text/plain": [
       "      code    name   amount\n",
       "0  a005930    삼성전자  5969783\n",
       "1  a000660  SK하이닉스   728002\n",
       "2  a005380     현대차   213668\n",
       "3  a068270    셀트리온   128329\n",
       "4  a051910    LG화학    70592"
      ]
     },
     "execution_count": 3,
     "metadata": {},
     "output_type": "execute_result"
    }
   ],
   "source": [
    "siga.head()"
   ]
  },
  {
   "cell_type": "code",
   "execution_count": 4,
   "metadata": {},
   "outputs": [],
   "source": [
    "k10_component = list(siga['code'])[:10]\n",
    "k10_component_name = list(siga['name'])[:10]\n",
    "k10_component_outstanding = list(siga['amount'])[:10]"
   ]
  },
  {
   "cell_type": "code",
   "execution_count": 5,
   "metadata": {},
   "outputs": [
    {
     "name": "stdout",
     "output_type": "stream",
     "text": [
      "['a005930', 'a000660', 'a005380', 'a068270', 'a051910', 'a012330', 'a005490', 'a055550', 'a207940', 'a017670']\n",
      "['삼성전자', 'SK하이닉스', '현대차', '셀트리온', 'LG화학', '현대모비스', 'POSCO', '신한지주', '삼성바이오로직스', 'SK텔레콤']\n",
      "[5969783, 728002, 213668, 128329, 70592, 95307, 87187, 474200, 66165, 80746]\n"
     ]
    }
   ],
   "source": [
    "print(k10_component)\n",
    "print(k10_component_name)\n",
    "print(k10_component_outstanding)"
   ]
  },
  {
   "cell_type": "markdown",
   "metadata": {},
   "source": [
    "#### 주가 데이터를 읽어온다"
   ]
  },
  {
   "cell_type": "code",
   "execution_count": 6,
   "metadata": {},
   "outputs": [],
   "source": [
    "for i, symbol in enumerate(k10_component):\n",
    "    stock = pd.read_csv('./stockData/' + symbol[1:] + '.csv', index_col=0, parse_dates=True)\n",
    "    stock = stock.sort_index()\n",
    "    stock = pd.DataFrame(stock['close'])\n",
    "    stock.columns = [symbol]\n",
    "    \n",
    "    if i == 0:\n",
    "        result = stock.copy()\n",
    "    else:\n",
    "        result = pd.concat([result, stock], axis=1)"
   ]
  },
  {
   "cell_type": "code",
   "execution_count": 7,
   "metadata": {},
   "outputs": [
    {
     "data": {
      "text/html": [
       "<div>\n",
       "<style scoped>\n",
       "    .dataframe tbody tr th:only-of-type {\n",
       "        vertical-align: middle;\n",
       "    }\n",
       "\n",
       "    .dataframe tbody tr th {\n",
       "        vertical-align: top;\n",
       "    }\n",
       "\n",
       "    .dataframe thead th {\n",
       "        text-align: right;\n",
       "    }\n",
       "</style>\n",
       "<table border=\"1\" class=\"dataframe\">\n",
       "  <thead>\n",
       "    <tr style=\"text-align: right;\">\n",
       "      <th></th>\n",
       "      <th>a005930</th>\n",
       "      <th>a000660</th>\n",
       "      <th>a005380</th>\n",
       "      <th>a068270</th>\n",
       "      <th>a051910</th>\n",
       "      <th>a012330</th>\n",
       "      <th>a005490</th>\n",
       "      <th>a055550</th>\n",
       "      <th>a207940</th>\n",
       "      <th>a017670</th>\n",
       "    </tr>\n",
       "    <tr>\n",
       "      <th>date</th>\n",
       "      <th></th>\n",
       "      <th></th>\n",
       "      <th></th>\n",
       "      <th></th>\n",
       "      <th></th>\n",
       "      <th></th>\n",
       "      <th></th>\n",
       "      <th></th>\n",
       "      <th></th>\n",
       "      <th></th>\n",
       "    </tr>\n",
       "  </thead>\n",
       "  <tbody>\n",
       "    <tr>\n",
       "      <th>2011-05-12</th>\n",
       "      <td>17700</td>\n",
       "      <td>33750</td>\n",
       "      <td>236000</td>\n",
       "      <td>32824</td>\n",
       "      <td>499500</td>\n",
       "      <td>335000</td>\n",
       "      <td>462500</td>\n",
       "      <td>49600</td>\n",
       "      <td>NaN</td>\n",
       "      <td>161000</td>\n",
       "    </tr>\n",
       "    <tr>\n",
       "      <th>2011-05-13</th>\n",
       "      <td>18320</td>\n",
       "      <td>34500</td>\n",
       "      <td>229500</td>\n",
       "      <td>32534</td>\n",
       "      <td>491000</td>\n",
       "      <td>337000</td>\n",
       "      <td>465000</td>\n",
       "      <td>47950</td>\n",
       "      <td>NaN</td>\n",
       "      <td>162000</td>\n",
       "    </tr>\n",
       "    <tr>\n",
       "      <th>2011-05-16</th>\n",
       "      <td>18020</td>\n",
       "      <td>34400</td>\n",
       "      <td>224000</td>\n",
       "      <td>32148</td>\n",
       "      <td>492000</td>\n",
       "      <td>333000</td>\n",
       "      <td>457500</td>\n",
       "      <td>47200</td>\n",
       "      <td>NaN</td>\n",
       "      <td>164000</td>\n",
       "    </tr>\n",
       "    <tr>\n",
       "      <th>2011-05-17</th>\n",
       "      <td>17800</td>\n",
       "      <td>33100</td>\n",
       "      <td>226000</td>\n",
       "      <td>32679</td>\n",
       "      <td>494500</td>\n",
       "      <td>345000</td>\n",
       "      <td>455000</td>\n",
       "      <td>48600</td>\n",
       "      <td>NaN</td>\n",
       "      <td>163500</td>\n",
       "    </tr>\n",
       "    <tr>\n",
       "      <th>2011-05-18</th>\n",
       "      <td>17860</td>\n",
       "      <td>32800</td>\n",
       "      <td>238500</td>\n",
       "      <td>33017</td>\n",
       "      <td>513000</td>\n",
       "      <td>351500</td>\n",
       "      <td>460000</td>\n",
       "      <td>48600</td>\n",
       "      <td>NaN</td>\n",
       "      <td>165000</td>\n",
       "    </tr>\n",
       "  </tbody>\n",
       "</table>\n",
       "</div>"
      ],
      "text/plain": [
       "            a005930  a000660  a005380  a068270  a051910  a012330  a005490  \\\n",
       "date                                                                        \n",
       "2011-05-12    17700    33750   236000    32824   499500   335000   462500   \n",
       "2011-05-13    18320    34500   229500    32534   491000   337000   465000   \n",
       "2011-05-16    18020    34400   224000    32148   492000   333000   457500   \n",
       "2011-05-17    17800    33100   226000    32679   494500   345000   455000   \n",
       "2011-05-18    17860    32800   238500    33017   513000   351500   460000   \n",
       "\n",
       "            a055550  a207940  a017670  \n",
       "date                                   \n",
       "2011-05-12    49600      NaN   161000  \n",
       "2011-05-13    47950      NaN   162000  \n",
       "2011-05-16    47200      NaN   164000  \n",
       "2011-05-17    48600      NaN   163500  \n",
       "2011-05-18    48600      NaN   165000  "
      ]
     },
     "execution_count": 7,
     "metadata": {},
     "output_type": "execute_result"
    }
   ],
   "source": [
    "result.head()"
   ]
  },
  {
   "cell_type": "code",
   "execution_count": 8,
   "metadata": {},
   "outputs": [],
   "source": [
    "result = result.dropna()"
   ]
  },
  {
   "cell_type": "code",
   "execution_count": 9,
   "metadata": {},
   "outputs": [
    {
     "data": {
      "text/html": [
       "<div>\n",
       "<style scoped>\n",
       "    .dataframe tbody tr th:only-of-type {\n",
       "        vertical-align: middle;\n",
       "    }\n",
       "\n",
       "    .dataframe tbody tr th {\n",
       "        vertical-align: top;\n",
       "    }\n",
       "\n",
       "    .dataframe thead th {\n",
       "        text-align: right;\n",
       "    }\n",
       "</style>\n",
       "<table border=\"1\" class=\"dataframe\">\n",
       "  <thead>\n",
       "    <tr style=\"text-align: right;\">\n",
       "      <th></th>\n",
       "      <th>a005930</th>\n",
       "      <th>a000660</th>\n",
       "      <th>a005380</th>\n",
       "      <th>a068270</th>\n",
       "      <th>a051910</th>\n",
       "      <th>a012330</th>\n",
       "      <th>a005490</th>\n",
       "      <th>a055550</th>\n",
       "      <th>a207940</th>\n",
       "      <th>a017670</th>\n",
       "    </tr>\n",
       "    <tr>\n",
       "      <th>date</th>\n",
       "      <th></th>\n",
       "      <th></th>\n",
       "      <th></th>\n",
       "      <th></th>\n",
       "      <th></th>\n",
       "      <th></th>\n",
       "      <th></th>\n",
       "      <th></th>\n",
       "      <th></th>\n",
       "      <th></th>\n",
       "    </tr>\n",
       "  </thead>\n",
       "  <tbody>\n",
       "    <tr>\n",
       "      <th>2016-11-10</th>\n",
       "      <td>32980</td>\n",
       "      <td>41000</td>\n",
       "      <td>129000</td>\n",
       "      <td>97957</td>\n",
       "      <td>241000</td>\n",
       "      <td>248000</td>\n",
       "      <td>247000</td>\n",
       "      <td>44000</td>\n",
       "      <td>144000.0</td>\n",
       "      <td>220000</td>\n",
       "    </tr>\n",
       "    <tr>\n",
       "      <th>2016-11-11</th>\n",
       "      <td>31960</td>\n",
       "      <td>39850</td>\n",
       "      <td>131500</td>\n",
       "      <td>96030</td>\n",
       "      <td>236500</td>\n",
       "      <td>245000</td>\n",
       "      <td>249500</td>\n",
       "      <td>45600</td>\n",
       "      <td>161500.0</td>\n",
       "      <td>218500</td>\n",
       "    </tr>\n",
       "    <tr>\n",
       "      <th>2016-11-14</th>\n",
       "      <td>31060</td>\n",
       "      <td>39700</td>\n",
       "      <td>132000</td>\n",
       "      <td>95387</td>\n",
       "      <td>235500</td>\n",
       "      <td>243000</td>\n",
       "      <td>252000</td>\n",
       "      <td>45050</td>\n",
       "      <td>175500.0</td>\n",
       "      <td>217000</td>\n",
       "    </tr>\n",
       "    <tr>\n",
       "      <th>2016-11-15</th>\n",
       "      <td>30780</td>\n",
       "      <td>39700</td>\n",
       "      <td>130500</td>\n",
       "      <td>94469</td>\n",
       "      <td>240500</td>\n",
       "      <td>242500</td>\n",
       "      <td>254000</td>\n",
       "      <td>45150</td>\n",
       "      <td>166000.0</td>\n",
       "      <td>217500</td>\n",
       "    </tr>\n",
       "    <tr>\n",
       "      <th>2016-11-16</th>\n",
       "      <td>31160</td>\n",
       "      <td>40850</td>\n",
       "      <td>131000</td>\n",
       "      <td>96489</td>\n",
       "      <td>238000</td>\n",
       "      <td>242500</td>\n",
       "      <td>253500</td>\n",
       "      <td>44500</td>\n",
       "      <td>170000.0</td>\n",
       "      <td>217000</td>\n",
       "    </tr>\n",
       "  </tbody>\n",
       "</table>\n",
       "</div>"
      ],
      "text/plain": [
       "            a005930  a000660  a005380  a068270  a051910  a012330  a005490  \\\n",
       "date                                                                        \n",
       "2016-11-10    32980    41000   129000    97957   241000   248000   247000   \n",
       "2016-11-11    31960    39850   131500    96030   236500   245000   249500   \n",
       "2016-11-14    31060    39700   132000    95387   235500   243000   252000   \n",
       "2016-11-15    30780    39700   130500    94469   240500   242500   254000   \n",
       "2016-11-16    31160    40850   131000    96489   238000   242500   253500   \n",
       "\n",
       "            a055550   a207940  a017670  \n",
       "date                                    \n",
       "2016-11-10    44000  144000.0   220000  \n",
       "2016-11-11    45600  161500.0   218500  \n",
       "2016-11-14    45050  175500.0   217000  \n",
       "2016-11-15    45150  166000.0   217500  \n",
       "2016-11-16    44500  170000.0   217000  "
      ]
     },
     "execution_count": 9,
     "metadata": {},
     "output_type": "execute_result"
    }
   ],
   "source": [
    "result.head()"
   ]
  },
  {
   "cell_type": "code",
   "execution_count": 10,
   "metadata": {},
   "outputs": [
    {
     "data": {
      "text/html": [
       "<div>\n",
       "<style scoped>\n",
       "    .dataframe tbody tr th:only-of-type {\n",
       "        vertical-align: middle;\n",
       "    }\n",
       "\n",
       "    .dataframe tbody tr th {\n",
       "        vertical-align: top;\n",
       "    }\n",
       "\n",
       "    .dataframe thead th {\n",
       "        text-align: right;\n",
       "    }\n",
       "</style>\n",
       "<table border=\"1\" class=\"dataframe\">\n",
       "  <thead>\n",
       "    <tr style=\"text-align: right;\">\n",
       "      <th></th>\n",
       "      <th>a005930</th>\n",
       "      <th>a000660</th>\n",
       "      <th>a005380</th>\n",
       "      <th>a068270</th>\n",
       "      <th>a051910</th>\n",
       "      <th>a012330</th>\n",
       "      <th>a005490</th>\n",
       "      <th>a055550</th>\n",
       "      <th>a207940</th>\n",
       "      <th>a017670</th>\n",
       "    </tr>\n",
       "    <tr>\n",
       "      <th>date</th>\n",
       "      <th></th>\n",
       "      <th></th>\n",
       "      <th></th>\n",
       "      <th></th>\n",
       "      <th></th>\n",
       "      <th></th>\n",
       "      <th></th>\n",
       "      <th></th>\n",
       "      <th></th>\n",
       "      <th></th>\n",
       "    </tr>\n",
       "  </thead>\n",
       "  <tbody>\n",
       "    <tr>\n",
       "      <th>2019-06-19</th>\n",
       "      <td>45350</td>\n",
       "      <td>67200</td>\n",
       "      <td>140000</td>\n",
       "      <td>211500</td>\n",
       "      <td>348500</td>\n",
       "      <td>223500</td>\n",
       "      <td>242000</td>\n",
       "      <td>46000</td>\n",
       "      <td>315000.0</td>\n",
       "      <td>263000</td>\n",
       "    </tr>\n",
       "    <tr>\n",
       "      <th>2019-06-20</th>\n",
       "      <td>45500</td>\n",
       "      <td>67300</td>\n",
       "      <td>140500</td>\n",
       "      <td>214000</td>\n",
       "      <td>352000</td>\n",
       "      <td>224000</td>\n",
       "      <td>242000</td>\n",
       "      <td>45000</td>\n",
       "      <td>317000.0</td>\n",
       "      <td>260500</td>\n",
       "    </tr>\n",
       "    <tr>\n",
       "      <th>2019-06-21</th>\n",
       "      <td>45700</td>\n",
       "      <td>65900</td>\n",
       "      <td>140500</td>\n",
       "      <td>212500</td>\n",
       "      <td>348000</td>\n",
       "      <td>226000</td>\n",
       "      <td>243500</td>\n",
       "      <td>44900</td>\n",
       "      <td>317000.0</td>\n",
       "      <td>262000</td>\n",
       "    </tr>\n",
       "    <tr>\n",
       "      <th>2019-06-24</th>\n",
       "      <td>45500</td>\n",
       "      <td>66900</td>\n",
       "      <td>142500</td>\n",
       "      <td>208500</td>\n",
       "      <td>348500</td>\n",
       "      <td>229000</td>\n",
       "      <td>244500</td>\n",
       "      <td>44850</td>\n",
       "      <td>321500.0</td>\n",
       "      <td>260000</td>\n",
       "    </tr>\n",
       "    <tr>\n",
       "      <th>2019-06-25</th>\n",
       "      <td>45450</td>\n",
       "      <td>66900</td>\n",
       "      <td>140500</td>\n",
       "      <td>205500</td>\n",
       "      <td>351500</td>\n",
       "      <td>231000</td>\n",
       "      <td>244000</td>\n",
       "      <td>44700</td>\n",
       "      <td>313500.0</td>\n",
       "      <td>260500</td>\n",
       "    </tr>\n",
       "  </tbody>\n",
       "</table>\n",
       "</div>"
      ],
      "text/plain": [
       "            a005930  a000660  a005380  a068270  a051910  a012330  a005490  \\\n",
       "date                                                                        \n",
       "2019-06-19    45350    67200   140000   211500   348500   223500   242000   \n",
       "2019-06-20    45500    67300   140500   214000   352000   224000   242000   \n",
       "2019-06-21    45700    65900   140500   212500   348000   226000   243500   \n",
       "2019-06-24    45500    66900   142500   208500   348500   229000   244500   \n",
       "2019-06-25    45450    66900   140500   205500   351500   231000   244000   \n",
       "\n",
       "            a055550   a207940  a017670  \n",
       "date                                    \n",
       "2019-06-19    46000  315000.0   263000  \n",
       "2019-06-20    45000  317000.0   260500  \n",
       "2019-06-21    44900  317000.0   262000  \n",
       "2019-06-24    44850  321500.0   260000  \n",
       "2019-06-25    44700  313500.0   260500  "
      ]
     },
     "execution_count": 10,
     "metadata": {},
     "output_type": "execute_result"
    }
   ],
   "source": [
    "result.tail()"
   ]
  },
  {
   "cell_type": "code",
   "execution_count": 23,
   "metadata": {},
   "outputs": [],
   "source": [
    "result.to_csv('./stockData/k10StockPrice.csv')"
   ]
  },
  {
   "cell_type": "code",
   "execution_count": 11,
   "metadata": {},
   "outputs": [
    {
     "data": {
      "text/plain": [
       "[5969783, 728002, 213668, 128329, 70592, 95307, 87187, 474200, 66165, 80746]"
      ]
     },
     "execution_count": 11,
     "metadata": {},
     "output_type": "execute_result"
    }
   ],
   "source": [
    "k10_component_outstanding"
   ]
  },
  {
   "cell_type": "code",
   "execution_count": 12,
   "metadata": {},
   "outputs": [],
   "source": [
    "k10_historical_mc = result * k10_component_outstanding"
   ]
  },
  {
   "cell_type": "code",
   "execution_count": 13,
   "metadata": {},
   "outputs": [
    {
     "data": {
      "text/html": [
       "<div>\n",
       "<style scoped>\n",
       "    .dataframe tbody tr th:only-of-type {\n",
       "        vertical-align: middle;\n",
       "    }\n",
       "\n",
       "    .dataframe tbody tr th {\n",
       "        vertical-align: top;\n",
       "    }\n",
       "\n",
       "    .dataframe thead th {\n",
       "        text-align: right;\n",
       "    }\n",
       "</style>\n",
       "<table border=\"1\" class=\"dataframe\">\n",
       "  <thead>\n",
       "    <tr style=\"text-align: right;\">\n",
       "      <th></th>\n",
       "      <th>a005930</th>\n",
       "      <th>a000660</th>\n",
       "      <th>a005380</th>\n",
       "      <th>a068270</th>\n",
       "      <th>a051910</th>\n",
       "      <th>a012330</th>\n",
       "      <th>a005490</th>\n",
       "      <th>a055550</th>\n",
       "      <th>a207940</th>\n",
       "      <th>a017670</th>\n",
       "    </tr>\n",
       "    <tr>\n",
       "      <th>date</th>\n",
       "      <th></th>\n",
       "      <th></th>\n",
       "      <th></th>\n",
       "      <th></th>\n",
       "      <th></th>\n",
       "      <th></th>\n",
       "      <th></th>\n",
       "      <th></th>\n",
       "      <th></th>\n",
       "      <th></th>\n",
       "    </tr>\n",
       "  </thead>\n",
       "  <tbody>\n",
       "    <tr>\n",
       "      <th>2019-06-19</th>\n",
       "      <td>270729659050</td>\n",
       "      <td>48921734400</td>\n",
       "      <td>29913520000</td>\n",
       "      <td>27141583500</td>\n",
       "      <td>24601312000</td>\n",
       "      <td>21301114500</td>\n",
       "      <td>21099254000</td>\n",
       "      <td>21813200000</td>\n",
       "      <td>2.084198e+10</td>\n",
       "      <td>21236198000</td>\n",
       "    </tr>\n",
       "    <tr>\n",
       "      <th>2019-06-20</th>\n",
       "      <td>271625126500</td>\n",
       "      <td>48994534600</td>\n",
       "      <td>30020354000</td>\n",
       "      <td>27462406000</td>\n",
       "      <td>24848384000</td>\n",
       "      <td>21348768000</td>\n",
       "      <td>21099254000</td>\n",
       "      <td>21339000000</td>\n",
       "      <td>2.097430e+10</td>\n",
       "      <td>21034333000</td>\n",
       "    </tr>\n",
       "    <tr>\n",
       "      <th>2019-06-21</th>\n",
       "      <td>272819083100</td>\n",
       "      <td>47975331800</td>\n",
       "      <td>30020354000</td>\n",
       "      <td>27269912500</td>\n",
       "      <td>24566016000</td>\n",
       "      <td>21539382000</td>\n",
       "      <td>21230034500</td>\n",
       "      <td>21291580000</td>\n",
       "      <td>2.097430e+10</td>\n",
       "      <td>21155452000</td>\n",
       "    </tr>\n",
       "    <tr>\n",
       "      <th>2019-06-24</th>\n",
       "      <td>271625126500</td>\n",
       "      <td>48703333800</td>\n",
       "      <td>30447690000</td>\n",
       "      <td>26756596500</td>\n",
       "      <td>24601312000</td>\n",
       "      <td>21825303000</td>\n",
       "      <td>21317221500</td>\n",
       "      <td>21267870000</td>\n",
       "      <td>2.127205e+10</td>\n",
       "      <td>20993960000</td>\n",
       "    </tr>\n",
       "    <tr>\n",
       "      <th>2019-06-25</th>\n",
       "      <td>271326637350</td>\n",
       "      <td>48703333800</td>\n",
       "      <td>30020354000</td>\n",
       "      <td>26371609500</td>\n",
       "      <td>24813088000</td>\n",
       "      <td>22015917000</td>\n",
       "      <td>21273628000</td>\n",
       "      <td>21196740000</td>\n",
       "      <td>2.074273e+10</td>\n",
       "      <td>21034333000</td>\n",
       "    </tr>\n",
       "  </tbody>\n",
       "</table>\n",
       "</div>"
      ],
      "text/plain": [
       "                 a005930      a000660      a005380      a068270      a051910  \\\n",
       "date                                                                           \n",
       "2019-06-19  270729659050  48921734400  29913520000  27141583500  24601312000   \n",
       "2019-06-20  271625126500  48994534600  30020354000  27462406000  24848384000   \n",
       "2019-06-21  272819083100  47975331800  30020354000  27269912500  24566016000   \n",
       "2019-06-24  271625126500  48703333800  30447690000  26756596500  24601312000   \n",
       "2019-06-25  271326637350  48703333800  30020354000  26371609500  24813088000   \n",
       "\n",
       "                a012330      a005490      a055550       a207940      a017670  \n",
       "date                                                                          \n",
       "2019-06-19  21301114500  21099254000  21813200000  2.084198e+10  21236198000  \n",
       "2019-06-20  21348768000  21099254000  21339000000  2.097430e+10  21034333000  \n",
       "2019-06-21  21539382000  21230034500  21291580000  2.097430e+10  21155452000  \n",
       "2019-06-24  21825303000  21317221500  21267870000  2.127205e+10  20993960000  \n",
       "2019-06-25  22015917000  21273628000  21196740000  2.074273e+10  21034333000  "
      ]
     },
     "execution_count": 13,
     "metadata": {},
     "output_type": "execute_result"
    }
   ],
   "source": [
    "k10_historical_mc.tail()"
   ]
  },
  {
   "cell_type": "code",
   "execution_count": 15,
   "metadata": {},
   "outputs": [],
   "source": [
    "k10_historical_mc.to_csv('./stockData/k10SigaPrice.csv')"
   ]
  },
  {
   "cell_type": "code",
   "execution_count": 16,
   "metadata": {},
   "outputs": [
    {
     "data": {
      "text/html": [
       "<div>\n",
       "<style scoped>\n",
       "    .dataframe tbody tr th:only-of-type {\n",
       "        vertical-align: middle;\n",
       "    }\n",
       "\n",
       "    .dataframe tbody tr th {\n",
       "        vertical-align: top;\n",
       "    }\n",
       "\n",
       "    .dataframe thead th {\n",
       "        text-align: right;\n",
       "    }\n",
       "</style>\n",
       "<table border=\"1\" class=\"dataframe\">\n",
       "  <thead>\n",
       "    <tr style=\"text-align: right;\">\n",
       "      <th></th>\n",
       "      <th>K10 Market Cap</th>\n",
       "    </tr>\n",
       "    <tr>\n",
       "      <th>date</th>\n",
       "      <th></th>\n",
       "    </tr>\n",
       "  </thead>\n",
       "  <tbody>\n",
       "    <tr>\n",
       "      <th>2016-11-10</th>\n",
       "      <td>3.772061e+11</td>\n",
       "    </tr>\n",
       "    <tr>\n",
       "      <th>2016-11-11</th>\n",
       "      <td>3.719765e+11</td>\n",
       "    </tr>\n",
       "    <tr>\n",
       "      <th>2016-11-14</th>\n",
       "      <td>3.670199e+11</td>\n",
       "    </tr>\n",
       "    <tr>\n",
       "      <th>2016-11-15</th>\n",
       "      <td>3.648490e+11</td>\n",
       "    </tr>\n",
       "    <tr>\n",
       "      <th>2016-11-16</th>\n",
       "      <td>3.680167e+11</td>\n",
       "    </tr>\n",
       "  </tbody>\n",
       "</table>\n",
       "</div>"
      ],
      "text/plain": [
       "            K10 Market Cap\n",
       "date                      \n",
       "2016-11-10    3.772061e+11\n",
       "2016-11-11    3.719765e+11\n",
       "2016-11-14    3.670199e+11\n",
       "2016-11-15    3.648490e+11\n",
       "2016-11-16    3.680167e+11"
      ]
     },
     "execution_count": 16,
     "metadata": {},
     "output_type": "execute_result"
    }
   ],
   "source": [
    "k10 = pd.DataFrame()\n",
    "k10['K10 Market Cap'] = k10_historical_mc.sum(axis=1)\n",
    "k10.head()"
   ]
  },
  {
   "cell_type": "code",
   "execution_count": 17,
   "metadata": {},
   "outputs": [
    {
     "data": {
      "text/html": [
       "<div>\n",
       "<style scoped>\n",
       "    .dataframe tbody tr th:only-of-type {\n",
       "        vertical-align: middle;\n",
       "    }\n",
       "\n",
       "    .dataframe tbody tr th {\n",
       "        vertical-align: top;\n",
       "    }\n",
       "\n",
       "    .dataframe thead th {\n",
       "        text-align: right;\n",
       "    }\n",
       "</style>\n",
       "<table border=\"1\" class=\"dataframe\">\n",
       "  <thead>\n",
       "    <tr style=\"text-align: right;\">\n",
       "      <th></th>\n",
       "      <th>K10 Market Cap</th>\n",
       "      <th>K10</th>\n",
       "    </tr>\n",
       "    <tr>\n",
       "      <th>date</th>\n",
       "      <th></th>\n",
       "      <th></th>\n",
       "    </tr>\n",
       "  </thead>\n",
       "  <tbody>\n",
       "    <tr>\n",
       "      <th>2016-11-10</th>\n",
       "      <td>3.772061e+11</td>\n",
       "      <td>100.000000</td>\n",
       "    </tr>\n",
       "    <tr>\n",
       "      <th>2016-11-11</th>\n",
       "      <td>3.719765e+11</td>\n",
       "      <td>98.613588</td>\n",
       "    </tr>\n",
       "    <tr>\n",
       "      <th>2016-11-14</th>\n",
       "      <td>3.670199e+11</td>\n",
       "      <td>97.299573</td>\n",
       "    </tr>\n",
       "    <tr>\n",
       "      <th>2016-11-15</th>\n",
       "      <td>3.648490e+11</td>\n",
       "      <td>96.724041</td>\n",
       "    </tr>\n",
       "    <tr>\n",
       "      <th>2016-11-16</th>\n",
       "      <td>3.680167e+11</td>\n",
       "      <td>97.563838</td>\n",
       "    </tr>\n",
       "  </tbody>\n",
       "</table>\n",
       "</div>"
      ],
      "text/plain": [
       "            K10 Market Cap         K10\n",
       "date                                  \n",
       "2016-11-10    3.772061e+11  100.000000\n",
       "2016-11-11    3.719765e+11   98.613588\n",
       "2016-11-14    3.670199e+11   97.299573\n",
       "2016-11-15    3.648490e+11   96.724041\n",
       "2016-11-16    3.680167e+11   97.563838"
      ]
     },
     "execution_count": 17,
     "metadata": {},
     "output_type": "execute_result"
    }
   ],
   "source": [
    "k10['K10'] = k10['K10 Market Cap'] / k10['K10 Market Cap'][0] * 100\n",
    "k10.head()"
   ]
  },
  {
   "cell_type": "code",
   "execution_count": 18,
   "metadata": {},
   "outputs": [],
   "source": [
    "import matplotlib.pyplot as plt\n",
    "%matplotlib inline"
   ]
  },
  {
   "cell_type": "code",
   "execution_count": 19,
   "metadata": {},
   "outputs": [
    {
     "name": "stderr",
     "output_type": "stream",
     "text": [
      "C:\\Users\\seong\\Anaconda3\\lib\\site-packages\\pandas\\plotting\\_converter.py:129: FutureWarning: Using an implicitly registered datetime converter for a matplotlib plotting method. The converter was registered by pandas on import. Future versions of pandas will require you to explicitly register matplotlib converters.\n",
      "\n",
      "To register the converters:\n",
      "\t>>> from pandas.plotting import register_matplotlib_converters\n",
      "\t>>> register_matplotlib_converters()\n",
      "  warnings.warn(msg, FutureWarning)\n"
     ]
    },
    {
     "data": {
      "image/png": "[encoded data removed]",
      "text/plain": [
       "<Figure size 720x360 with 1 Axes>"
      ]
     },
     "metadata": {
      "needs_background": "light"
     },
     "output_type": "display_data"
    }
   ],
   "source": [
    "plt.figure(figsize=(10,5))\n",
    "plt.plot(k10['K10'])\n",
    "plt.grid(True, color='0.7', linestyle=':', linewidth=1)\n",
    "plt.show()"
   ]
  },
  {
   "cell_type": "code",
   "execution_count": 20,
   "metadata": {},
   "outputs": [],
   "source": [
    "kp200 = pd.read_csv('./stockData/kospi200.csv', index_col=0, parse_dates=True)\n",
    "kp200 = kp200.sort_index()\n",
    "kp200 = kp200['2016-11-10':]\n",
    "kp200['kp200_index'] = kp200['kpi200'] / kp200['kpi200'].loc['2016-11-10'] * 100\n",
    "kp200['K10'] = k10['K10']\n",
    "kp200 = kp200.dropna()"
   ]
  },
  {
   "cell_type": "code",
   "execution_count": 21,
   "metadata": {},
   "outputs": [
    {
     "data": {
      "text/html": [
       "<div>\n",
       "<style scoped>\n",
       "    .dataframe tbody tr th:only-of-type {\n",
       "        vertical-align: middle;\n",
       "    }\n",
       "\n",
       "    .dataframe tbody tr th {\n",
       "        vertical-align: top;\n",
       "    }\n",
       "\n",
       "    .dataframe thead th {\n",
       "        text-align: right;\n",
       "    }\n",
       "</style>\n",
       "<table border=\"1\" class=\"dataframe\">\n",
       "  <thead>\n",
       "    <tr style=\"text-align: right;\">\n",
       "      <th></th>\n",
       "      <th>kpi200</th>\n",
       "      <th>kp200_index</th>\n",
       "      <th>K10</th>\n",
       "    </tr>\n",
       "    <tr>\n",
       "      <th>Date</th>\n",
       "      <th></th>\n",
       "      <th></th>\n",
       "      <th></th>\n",
       "    </tr>\n",
       "  </thead>\n",
       "  <tbody>\n",
       "    <tr>\n",
       "      <th>2016-11-10</th>\n",
       "      <td>255.31</td>\n",
       "      <td>100.000000</td>\n",
       "      <td>100.000000</td>\n",
       "    </tr>\n",
       "    <tr>\n",
       "      <th>2016-11-11</th>\n",
       "      <td>251.99</td>\n",
       "      <td>98.699620</td>\n",
       "      <td>98.613588</td>\n",
       "    </tr>\n",
       "    <tr>\n",
       "      <th>2016-11-14</th>\n",
       "      <td>250.01</td>\n",
       "      <td>97.924092</td>\n",
       "      <td>97.299573</td>\n",
       "    </tr>\n",
       "    <tr>\n",
       "      <th>2016-11-15</th>\n",
       "      <td>249.20</td>\n",
       "      <td>97.606831</td>\n",
       "      <td>96.724041</td>\n",
       "    </tr>\n",
       "    <tr>\n",
       "      <th>2016-11-16</th>\n",
       "      <td>250.32</td>\n",
       "      <td>98.045513</td>\n",
       "      <td>97.563838</td>\n",
       "    </tr>\n",
       "  </tbody>\n",
       "</table>\n",
       "</div>"
      ],
      "text/plain": [
       "            kpi200  kp200_index         K10\n",
       "Date                                       \n",
       "2016-11-10  255.31   100.000000  100.000000\n",
       "2016-11-11  251.99    98.699620   98.613588\n",
       "2016-11-14  250.01    97.924092   97.299573\n",
       "2016-11-15  249.20    97.606831   96.724041\n",
       "2016-11-16  250.32    98.045513   97.563838"
      ]
     },
     "execution_count": 21,
     "metadata": {},
     "output_type": "execute_result"
    }
   ],
   "source": [
    "kp200.head()"
   ]
  },
  {
   "cell_type": "code",
   "execution_count": 22,
   "metadata": {},
   "outputs": [],
   "source": [
    "kp200.to_csv('./stockData/k10_kp200.csv')"
   ]
  },
  {
   "cell_type": "code",
   "execution_count": 67,
   "metadata": {},
   "outputs": [
    {
     "data": {
      "image/png": "[encoded data removed]",
      "text/plain": [
       "<Figure size 720x360 with 1 Axes>"
      ]
     },
     "metadata": {
      "needs_background": "light"
     },
     "output_type": "display_data"
    }
   ],
   "source": [
    "plt.figure(figsize=(10,5))\n",
    "plt.plot(kp200['kp200_index'], label='KOPI200')\n",
    "plt.plot(kp200['K10'], label='K10')\n",
    "plt.legend(loc=0)\n",
    "plt.grid(True, color='0.7', linestyle=':', linewidth=1)\n",
    "plt.show()"
   ]
  },
  {
   "cell_type": "code",
   "execution_count": 69,
   "metadata": {},
   "outputs": [],
   "source": [
    "kp200['spread'] = kp200['K10'] - kp200['kp200_index']"
   ]
  },
  {
   "cell_type": "code",
   "execution_count": 71,
   "metadata": {},
   "outputs": [
    {
     "data": {
      "image/png": "[encoded data removed]",
      "text/plain": [
       "<Figure size 720x360 with 1 Axes>"
      ]
     },
     "metadata": {
      "needs_background": "light"
     },
     "output_type": "display_data"
    }
   ],
   "source": [
    "plt.figure(figsize=(10,5))\n",
    "plt.plot(kp200['spread'])\n",
    "plt.grid(True, color='0.7', linestyle=':', linewidth=1)\n",
    "plt.show()"
   ]
  },
  {
   "cell_type": "code",
   "execution_count": null,
   "metadata": {},
   "outputs": [],
   "source": []
  }
 ],
 "metadata": {
  "kernelspec": {
   "display_name": "Python 3",
   "language": "python",
   "name": "python3"
  },
  "language_info": {
   "codemirror_mode": {
    "name": "ipython",
    "version": 3
   },
   "file_extension": ".py",
   "mimetype": "text/x-python",
   "name": "python",
   "nbconvert_exporter": "python",
   "pygments_lexer": "ipython3",
   "version": "3.7.3"
  }
 },
 "nbformat": 4,
 "nbformat_minor": 2
}
