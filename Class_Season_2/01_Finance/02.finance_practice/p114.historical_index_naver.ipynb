{
 "cells": [
  {
   "cell_type": "markdown",
   "metadata": {},
   "source": [
    "날짜정보를  date 타입으로 변경하는 함수 정의"
   ]
  },
  {
   "cell_type": "code",
   "execution_count": 6,
   "metadata": {},
   "outputs": [],
   "source": [
    "from urllib.request import urlopen\n",
    "import bs4\n",
    "import datetime as dt\n",
    "import pandas as pd"
   ]
  },
  {
   "cell_type": "code",
   "execution_count": 2,
   "metadata": {},
   "outputs": [],
   "source": [
    "def date_format(d):\n",
    "    d = str(d).replace('-', '.')\n",
    "    \n",
    "    yyyy = int(d.split('.')[0]) \n",
    "    mm = int(d.split('.')[1])\n",
    "    dd = int(d.split('.')[2])\n",
    "\n",
    "    this_date= dt.date(yyyy, mm, dd)\n",
    "    return this_date"
   ]
  },
  {
   "cell_type": "code",
   "execution_count": 3,
   "metadata": {},
   "outputs": [],
   "source": [
    "def historical_index_naver(index_cd, page_n=1, last_page=0):   \n",
    "        \n",
    "    naver_index = 'http://finance.naver.com/sise/sise_index_day.nhn?code=' + index_cd + '&page=' + str(page_n)\n",
    "    \n",
    "    source = urlopen(naver_index).read()   # 지정한 페이지에서 코드 읽기\n",
    "    source = bs4.BeautifulSoup(source, 'lxml')   # 뷰티풀 스프로 태그별로 코드 분류\n",
    "    \n",
    "    dates = source.find_all('td', class_='date')   # <td class=\"date\">태그에서 날짜 수집   \n",
    "    prices = source.find_all('td', class_='number_1')   # <td class=\"number_1\">태그에서 지수 수집\n",
    "    \n",
    "    for n in range(len(dates)):\n",
    "    \n",
    "        if dates[n].text.split('.')[0].isdigit():\n",
    "            \n",
    "            # 날짜 처리\n",
    "            this_date = dates[n].text\n",
    "            this_date= date_format(this_date)\n",
    "            \n",
    "            # 종가 처리\n",
    "            this_close = prices[n*4].text   # prices 중 종가지수인 0,4,8,...번째 데이터 추출\n",
    "            this_close = this_close.replace(',', '')\n",
    "            this_close = float(this_close)\n",
    "\n",
    "            # 딕셔너리에 저장\n",
    "            historical_prices[this_date] = this_close\n",
    "            \n",
    "    # 페이지 네비게이션\n",
    "    if last_page == 0:\n",
    "        last_page = source.find('td', class_='pgRR').find('a')['href']\n",
    "        \n",
    "        # 마지막페이지 주소 추출\n",
    "        last_page = last_page.split('&')[1]   # & 뒤의 page=506 부분 추출\n",
    "        last_page = last_page.split('=')[1]   # = 뒤의 페이지번호만 추출\n",
    "        last_page = int(last_page)   # 숫자형 변수로 변환\n",
    "        \n",
    "    # 다음 페이지 호출\n",
    "    if page_n < last_page:   \n",
    "        page_n = page_n + 1   \n",
    "        historical_index_naver(index_cd, page_n, last_page)   \n",
    "        \n",
    "    return historical_prices  "
   ]
  },
  {
   "cell_type": "code",
   "execution_count": 4,
   "metadata": {},
   "outputs": [],
   "source": [
    "index_cd = 'KPI200'\n",
    "historical_prices = dict()\n",
    "historical_index_naver(index_cd, page_n=1, last_page=0)"
   ]
  },
  {
   "cell_type": "code",
   "execution_count": 7,
   "metadata": {},
   "outputs": [],
   "source": [
    "kpi200 = pd.DataFrame(historical_prices.items(), columns=['Date', 'kpi200'])"
   ]
  },
  {
   "cell_type": "code",
   "execution_count": 9,
   "metadata": {},
   "outputs": [
    {
     "data": {
      "text/html": [
       "<div>\n",
       "<style scoped>\n",
       "    .dataframe tbody tr th:only-of-type {\n",
       "        vertical-align: middle;\n",
       "    }\n",
       "\n",
       "    .dataframe tbody tr th {\n",
       "        vertical-align: top;\n",
       "    }\n",
       "\n",
       "    .dataframe thead th {\n",
       "        text-align: right;\n",
       "    }\n",
       "</style>\n",
       "<table border=\"1\" class=\"dataframe\">\n",
       "  <thead>\n",
       "    <tr style=\"text-align: right;\">\n",
       "      <th></th>\n",
       "      <th>Date</th>\n",
       "      <th>kpi200</th>\n",
       "    </tr>\n",
       "  </thead>\n",
       "  <tbody>\n",
       "    <tr>\n",
       "      <th>3325</th>\n",
       "      <td>2006-01-09</td>\n",
       "      <td>180.30</td>\n",
       "    </tr>\n",
       "    <tr>\n",
       "      <th>3326</th>\n",
       "      <td>2006-01-06</td>\n",
       "      <td>180.87</td>\n",
       "    </tr>\n",
       "    <tr>\n",
       "      <th>3327</th>\n",
       "      <td>2006-01-05</td>\n",
       "      <td>178.82</td>\n",
       "    </tr>\n",
       "    <tr>\n",
       "      <th>3328</th>\n",
       "      <td>2006-01-04</td>\n",
       "      <td>179.91</td>\n",
       "    </tr>\n",
       "    <tr>\n",
       "      <th>3329</th>\n",
       "      <td>2006-01-03</td>\n",
       "      <td>178.81</td>\n",
       "    </tr>\n",
       "  </tbody>\n",
       "</table>\n",
       "</div>"
      ],
      "text/plain": [
       "            Date  kpi200\n",
       "3325  2006-01-09  180.30\n",
       "3326  2006-01-06  180.87\n",
       "3327  2006-01-05  178.82\n",
       "3328  2006-01-04  179.91\n",
       "3329  2006-01-03  178.81"
      ]
     },
     "execution_count": 9,
     "metadata": {},
     "output_type": "execute_result"
    }
   ],
   "source": [
    "kpi200.tail()"
   ]
  },
  {
   "cell_type": "code",
   "execution_count": 10,
   "metadata": {},
   "outputs": [],
   "source": [
    "kpi200.to_csv('./stockData/kospi200.csv', index=False)"
   ]
  },
  {
   "cell_type": "code",
   "execution_count": null,
   "metadata": {},
   "outputs": [],
   "source": []
  }
 ],
 "metadata": {
  "kernelspec": {
   "display_name": "Python 3",
   "language": "python",
   "name": "python3"
  },
  "language_info": {
   "codemirror_mode": {
    "name": "ipython",
    "version": 3
   },
   "file_extension": ".py",
   "mimetype": "text/x-python",
   "name": "python",
   "nbconvert_exporter": "python",
   "pygments_lexer": "ipython3",
   "version": "3.7.3"
  }
 },
 "nbformat": 4,
 "nbformat_minor": 2
}
