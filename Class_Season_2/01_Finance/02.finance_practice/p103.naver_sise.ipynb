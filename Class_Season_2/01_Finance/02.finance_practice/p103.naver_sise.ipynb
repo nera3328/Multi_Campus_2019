{
 "cells": [
  {
   "cell_type": "code",
   "execution_count": 1,
   "metadata": {},
   "outputs": [
    {
     "name": "stdout",
     "output_type": "stream",
     "text": [
      "https://finance.naver.com/sise/sise_index_day.nhn?code=KPI200&page=1\n"
     ]
    }
   ],
   "source": [
    "index_cd = 'KPI200'\n",
    "page_n = 1\n",
    "naver_index = 'https://finance.naver.com/sise/sise_index_day.nhn?code=' + index_cd + '&page=' + str(page_n)\n",
    "print(naver_index)"
   ]
  },
  {
   "cell_type": "code",
   "execution_count": 2,
   "metadata": {},
   "outputs": [],
   "source": [
    "from urllib.request import urlopen\n",
    "source = urlopen(naver_index).read()"
   ]
  },
  {
   "cell_type": "code",
   "execution_count": 7,
   "metadata": {},
   "outputs": [
    {
     "name": "stdout",
     "output_type": "stream",
     "text": [
      "b'\\n\\n\\n\\n\\n\\n\\n<html lang=\"ko\">\\n<head>\\n<meta http-equiv=\"Content-Type\" content=\"text/html; charset=euc-kr\">\\n<title>\\xb3\\xd7\\xc0\\xcc\\xb9\\xf6 \\xb1\\xdd\\xc0\\xb6</title>\\n<link rel=\"stylesheet\" type=\"text/css\" href=\"/css/newstock.css?2019061111'\n"
     ]
    }
   ],
   "source": [
    "print(source[:200])"
   ]
  },
  {
   "cell_type": "code",
   "execution_count": 9,
   "metadata": {},
   "outputs": [],
   "source": [
    "import bs4\n",
    "source = bs4.BeautifulSoup(source, 'lxml')"
   ]
  },
  {
   "cell_type": "code",
   "execution_count": 10,
   "metadata": {},
   "outputs": [
    {
     "name": "stdout",
     "output_type": "stream",
     "text": [
      "<html lang=\"ko\">\n",
      " <head>\n",
      "  <meta content=\"text/html; charset=utf-8\" http-equiv=\"Content-Type\"/>\n",
      "  <title>\n",
      "   네이버 금융\n",
      "  </title>\n",
      "  <link href=\"/css/newstock.css?20190611114409\" rel=\"stylesheet\" type=\"text/css\"/>\n",
      "  <link href=\"/css/common.css?20190611114409\" rel=\"stylesheet\" type=\"text/css\"/>\n",
      "  <link href=\"/css/layout.css?20190611114409\" rel=\"stylesheet\" type=\"text/css\"/>\n",
      "  <link href=\"/css/main.css?20190611114409\" rel=\"stylesheet\" type=\"text/css\"/>\n",
      "  <link href=\"/css/newstock2.css?20190611114409\" rel=\"stylesheet\" type=\"text/css\"/>\n",
      "  <link href=\"/css/newstock3.css?20190611114409\" rel=\"stylesheet\" type=\"text/css\"/>\n",
      "  <link href=\"/css/world.css?20190611114409\" rel=\"stylesheet\" type=\"text/css\"/>\n",
      " </head>\n",
      " <body>\n",
      "  <script src=\"/js/jindo.min.ns.1.5.3.euckr.js?20190611114409\" type=\"text/javascript\">\n",
      "  </script>\n",
      "  <script src=\"/js/lcslog.js?20190611114409\" type=\"text/javascript\">\n",
      "  </script>\n",
      "  <!-- 일별시세 -->\n",
      "  <div class=\"box_type_m\">\n",
      "   <h4 class=\"top_tlt\" style=\"text-align:left;\">\n",
      "    <em>\n",
      "     일별\n",
      "    </em>\n",
      "    시세\n",
      "   </h4>\n",
      "   <table cellpadding=\"0\" cellspacing=\"0\" class=\"type_1\" summary=\"일별 시세표:날짜에 따른 체결가 전일비 등락률 거래량 거래대금 정보를 제공합니다.\">\n",
      "    <caption>\n",
      "     일별시세\n",
      "    </caption>\n",
      "    <col width=\"15%\"/>\n",
      "    <col width=\"14%\"/>\n",
      "    <col width=\"18%\"/>\n",
      "    <col width=\"14%\"/>\n",
      "    <col width=\"*\"/>\n",
      "    <col width=\"18%\"/>\n",
      "    <tr>\n",
      "     <th>\n",
      "      날짜\n",
      "     </th>\n",
      "     <th>\n",
      "      체결가\n",
      "     </th>\n",
      "     <th>\n",
      "      전일비\n",
      "     </th>\n",
      "     <th>\n",
      "      등락률\n",
      "     </th>\n",
      "     <th>\n",
      "      거래량\n",
      "      <span class=\"add_txt\">\n",
      "       (천주)\n",
      "      </span>\n",
      "     </th>\n",
      "     <th>\n",
      "      거래대금\n",
      "      <span class=\"add_txt\">\n",
      "       (백만)\n",
      "      </span>\n",
      "     </th>\n",
      "    </tr>\n",
      "    <tr>\n",
      "     <td class=\"blank_07\" colspan=\"6\">\n",
      "     </td>\n",
      "    </tr>\n",
      "    <tr>\n",
      "     <td class=\"date\">\n",
      "      2019.06.24\n",
      "     </td>\n",
      "     <td class=\"number_1\">\n",
      "      275.64\n",
      "     </td>\n",
      "     <td class=\"rate_down\" style=\"padding-right:35px;\">\n",
      "      <img alt=\"상승\" height=\"6\" src=\"https://ssl.pstatic.net/imgstock/images/images4/ico_up.gif\" style=\"margin-right:4px;\" width=\"7\"/>\n",
      "      <span class=\"tah p11 red02\">\n",
      "       0.16\n",
      "      </span>\n",
      "     </td>\n",
      "     <td class=\"number_1\">\n",
      "      <span class=\"tah p11 red01\">\n",
      "       +0.06%\n",
      "      </span>\n",
      "     </td>\n",
      "     <td class=\"number_1\" style=\"padding-right:40px;\">\n",
      "      41,659\n",
      "     </td>\n",
      "     <td class=\"number_1\" style=\"padding-right:30px;\">\n",
      "      1,658,126\n",
      "     </td>\n",
      "    </tr>\n",
      "    <tr>\n",
      "     <td class=\"date\">\n",
      "      2019.06.21\n",
      "     </td>\n",
      "     <td class=\"number_1\">\n",
      "      275.48\n",
      "     </td>\n",
      "     <td class=\"rate_down\" style=\"padding-right:35px;\">\n",
      "      <img alt=\"하락\" height=\"6\" src=\"https://ssl.pstatic.net/imgstock/images/images4/ico_down.gif\" style=\"margin-right:4px;\" width=\"7\"/>\n",
      "      <span class=\"tah p11 nv01\">\n",
      "       0.53\n",
      "      </span>\n",
      "     </td>\n",
      "     <td class=\"number_1\">\n",
      "      <span class=\"tah p11 nv01\">\n",
      "       -0.19%\n",
      "      </span>\n",
      "     </td>\n",
      "     <td class=\"number_1\" style=\"padding-right:40px;\">\n",
      "      75,383\n",
      "     </td>\n",
      "     <td class=\"number_1\" style=\"padding-right:30px;\">\n",
      "      3,193,828\n",
      "     </td>\n",
      "    </tr>\n",
      "    <tr>\n",
      "     <td class=\"date\">\n",
      "      2019.06.20\n",
      "     </td>\n",
      "     <td class=\"number_1\">\n",
      "      276.01\n",
      "     </td>\n",
      "     <td class=\"rate_down\" style=\"padding-right:35px;\">\n",
      "      <img alt=\"상승\" height=\"6\" src=\"https://ssl.pstatic.net/imgstock/images/images4/ico_up.gif\" style=\"margin-right:4px;\" width=\"7\"/>\n",
      "      <span class=\"tah p11 red02\">\n",
      "       0.70\n",
      "      </span>\n",
      "     </td>\n",
      "     <td class=\"number_1\">\n",
      "      <span class=\"tah p11 red01\">\n",
      "       +0.25%\n",
      "      </span>\n",
      "     </td>\n",
      "     <td class=\"number_1\" style=\"padding-right:40px;\">\n",
      "      54,294\n",
      "     </td>\n",
      "     <td class=\"number_1\" style=\"padding-right:30px;\">\n",
      "      2,354,829\n",
      "     </td>\n",
      "    </tr>\n",
      "    <tr>\n",
      "     <td class=\"blank_08\" colspan=\"6\">\n",
      "     </td>\n",
      "    </tr>\n",
      "    <tr>\n",
      "     <td class=\"division_line\" colspan=\"6\">\n",
      "     </td>\n",
      "    </tr>\n",
      "    <tr>\n",
      "     <td class=\"blank_08\" colspan=\"6\">\n",
      "     </td>\n",
      "    </tr>\n",
      "    <tr>\n",
      "    </tr>\n",
      "    <tr>\n",
      "     <td class=\"date\">\n",
      "      2019.06.19\n",
      "     </td>\n",
      "     <td class=\"number_1\">\n",
      "      275.31\n",
      "     </td>\n",
      "     <td class=\"rate_down\" style=\"padding-right:35px;\">\n",
      "      <img alt=\"상승\" height=\"6\" src=\"https://ssl.pstatic.net/imgstock/images/images4/ico_up.gif\" style=\"margin-right:4px;\" width=\"7\"/>\n",
      "      <span class=\"tah p11 red02\">\n",
      "       3.95\n",
      "      </span>\n",
      "     </td>\n",
      "     <td class=\"number_1\">\n",
      "      <span class=\"tah p11 red01\">\n",
      "       +1.46%\n",
      "      </span>\n",
      "     </td>\n",
      "     <td class=\"number_1\" style=\"padding-right:40px;\">\n",
      "      67,908\n",
      "     </td>\n",
      "     <td class=\"number_1\" style=\"padding-right:30px;\">\n",
      "      3,041,553\n",
      "     </td>\n",
      "    </tr>\n",
      "    <tr>\n",
      "     <td class=\"date\">\n",
      "      2019.06.18\n",
      "     </td>\n",
      "     <td class=\"number_1\">\n",
      "      271.36\n",
      "     </td>\n",
      "     <td class=\"rate_down\" style=\"padding-right:35px;\">\n",
      "      <img alt=\"상승\" height=\"6\" src=\"https://ssl.pstatic.net/imgstock/images/images4/ico_up.gif\" style=\"margin-right:4px;\" width=\"7\"/>\n",
      "      <span class=\"tah p11 red02\">\n",
      "       1.27\n",
      "      </span>\n",
      "     </td>\n",
      "     <td class=\"number_1\">\n",
      "      <span class=\"tah p11 red01\">\n",
      "       +0.47%\n",
      "      </span>\n",
      "     </td>\n",
      "     <td class=\"number_1\" style=\"padding-right:40px;\">\n",
      "      59,172\n",
      "     </td>\n",
      "     <td class=\"number_1\" style=\"padding-right:30px;\">\n",
      "      2,591,254\n",
      "     </td>\n",
      "    </tr>\n",
      "    <tr>\n",
      "     <td class=\"date\">\n",
      "      2019.06.17\n",
      "     </td>\n",
      "     <td class=\"number_1\">\n",
      "      270.09\n",
      "     </td>\n",
      "     <td class=\"rate_down\" style=\"padding-right:35px;\">\n",
      "      <img alt=\"하락\" height=\"6\" src=\"https://ssl.pstatic.net/imgstock/images/images4/ico_down.gif\" style=\"margin-right:4px;\" width=\"7\"/>\n",
      "      <span class=\"tah p11 nv01\">\n",
      "       0.39\n",
      "      </span>\n",
      "     </td>\n",
      "     <td class=\"number_1\">\n",
      "      <span class=\"tah p11 nv01\">\n",
      "       -0.14%\n",
      "      </span>\n",
      "     </td>\n",
      "     <td class=\"number_1\" style=\"padding-right:40px;\">\n",
      "      51,920\n",
      "     </td>\n",
      "     <td class=\"number_1\" style=\"padding-right:30px;\">\n",
      "      2,302,253\n",
      "     </td>\n",
      "    </tr>\n",
      "    <tr>\n",
      "     <td class=\"blank_09\" colspan=\"6\">\n",
      "     </td>\n",
      "    </tr>\n",
      "    <tr>\n",
      "     <td class=\"division_line\" colspan=\"6\">\n",
      "     </td>\n",
      "    </tr>\n",
      "   </table>\n",
      "   <!--- 페이지 네비게이션 시작--->\n",
      "   <table align=\"center\" class=\"Nnavi\" summary=\"페이지 네비게이션 리스트\">\n",
      "    <caption>\n",
      "     페이지 네비게이션\n",
      "    </caption>\n",
      "    <tr>\n",
      "     <td class=\"on\">\n",
      "      <a href=\"/sise/sise_index_day.nhn?code=KPI200&amp;page=1\">\n",
      "       1\n",
      "      </a>\n",
      "     </td>\n",
      "     <td>\n",
      "      <a href=\"/sise/sise_index_day.nhn?code=KPI200&amp;page=2\">\n",
      "       2\n",
      "      </a>\n",
      "     </td>\n",
      "     <td>\n",
      "      <a href=\"/sise/sise_index_day.nhn?code=KPI200&amp;page=3\">\n",
      "       3\n",
      "      </a>\n",
      "     </td>\n",
      "     <td>\n",
      "      <a href=\"/sise/sise_index_day.nhn?code=KPI200&amp;page=4\">\n",
      "       4\n",
      "      </a>\n",
      "     </td>\n",
      "     <td>\n",
      "      <a href=\"/sise/sise_index_day.nhn?code=KPI200&amp;page=5\">\n",
      "       5\n",
      "      </a>\n",
      "     </td>\n",
      "     <td>\n",
      "      <a href=\"/sise/sise_index_day.nhn?code=KPI200&amp;page=6\">\n",
      "       6\n",
      "      </a>\n",
      "     </td>\n",
      "     <td>\n",
      "      <a href=\"/sise/sise_index_day.nhn?code=KPI200&amp;page=7\">\n",
      "       7\n",
      "      </a>\n",
      "     </td>\n",
      "     <td>\n",
      "      <a href=\"/sise/sise_index_day.nhn?code=KPI200&amp;page=8\">\n",
      "       8\n",
      "      </a>\n",
      "     </td>\n",
      "     <td>\n",
      "      <a href=\"/sise/sise_index_day.nhn?code=KPI200&amp;page=9\">\n",
      "       9\n",
      "      </a>\n",
      "     </td>\n",
      "     <td>\n",
      "      <a href=\"/sise/sise_index_day.nhn?code=KPI200&amp;page=10\">\n",
      "       10\n",
      "      </a>\n",
      "     </td>\n",
      "     <td class=\"pgR\">\n",
      "      <a href=\"/sise/sise_index_day.nhn?code=KPI200&amp;page=11\">\n",
      "       다음\n",
      "       <img alt=\"\" border=\"0\" height=\"5\" src=\"https://ssl.pstatic.net/static/n/cmn/bu_pgarR.gif\" width=\"3\"/>\n",
      "      </a>\n",
      "     </td>\n",
      "     <td class=\"pgRR\">\n",
      "      <a href=\"/sise/sise_index_day.nhn?code=KPI200&amp;page=555\">\n",
      "       맨뒤\n",
      "       <img alt=\"\" border=\"0\" height=\"5\" src=\"https://ssl.pstatic.net/static/n/cmn/bu_pgarRR.gif\" width=\"8\"/>\n",
      "      </a>\n",
      "     </td>\n",
      "    </tr>\n",
      "   </table>\n",
      "   <!--- 페이지 네비게이션 끝--->\n",
      "  </div>\n",
      "  <!-- //일별시세 -->\n",
      "  <script type=\"text/javascript\">\n",
      "   ;(function(){\n",
      "        var eventType = \"onpageshow\" in window ? \"pageshow\" : \"load\";\n",
      "        jindo.$Fn(function(){\n",
      "            lcs_do();\n",
      "        }).attach(window, eventType);\n",
      "    })();\n",
      "  </script>\n",
      " </body>\n",
      "</html>\n"
     ]
    }
   ],
   "source": [
    "print(source.prettify())"
   ]
  },
  {
   "cell_type": "code",
   "execution_count": 11,
   "metadata": {},
   "outputs": [
    {
     "data": {
      "text/plain": [
       "54"
      ]
     },
     "execution_count": 11,
     "metadata": {},
     "output_type": "execute_result"
    }
   ],
   "source": [
    "td = source.find_all('td')\n",
    "len(td)"
   ]
  },
  {
   "cell_type": "code",
   "execution_count": 14,
   "metadata": {},
   "outputs": [
    {
     "data": {
      "text/plain": [
       "<td class=\"date\">2019.06.24</td>"
      ]
     },
     "execution_count": 14,
     "metadata": {},
     "output_type": "execute_result"
    }
   ],
   "source": [
    "# /html/body/div/table[1]/tbody/tr[3]/td[1]\n",
    "source.find_all('table')[0].find_all('tr')[2].find_all('td')[0]"
   ]
  },
  {
   "cell_type": "code",
   "execution_count": 16,
   "metadata": {},
   "outputs": [
    {
     "data": {
      "text/plain": [
       "'2019.06.24'"
      ]
     },
     "execution_count": 16,
     "metadata": {},
     "output_type": "execute_result"
    }
   ],
   "source": [
    "d = source.find_all('td', class_ = 'date')[0].text\n",
    "d"
   ]
  },
  {
   "cell_type": "code",
   "execution_count": 17,
   "metadata": {},
   "outputs": [],
   "source": [
    "import datetime as dt"
   ]
  },
  {
   "cell_type": "code",
   "execution_count": 18,
   "metadata": {},
   "outputs": [
    {
     "data": {
      "text/plain": [
       "datetime.date(2019, 6, 24)"
      ]
     },
     "execution_count": 18,
     "metadata": {},
     "output_type": "execute_result"
    }
   ],
   "source": [
    "yyyy = int(d.split('.')[0])\n",
    "mm = int(d.split('.')[1])\n",
    "dd = int(d.split('.')[2])\n",
    "this_date = dt.date(yyyy, mm, dd)\n",
    "this_date"
   ]
  },
  {
   "cell_type": "code",
   "execution_count": 20,
   "metadata": {},
   "outputs": [],
   "source": [
    "def date_format(d):\n",
    "    d = str(d).replace('-', '.')\n",
    "    yyyy = int(d.split('.')[0])\n",
    "    mm = int(d.split('.')[1])\n",
    "    dd = int(d.split('.')[2])\n",
    "    this_date = dt.date(yyyy, mm, dd)\n",
    "    return this_date"
   ]
  },
  {
   "cell_type": "code",
   "execution_count": 21,
   "metadata": {},
   "outputs": [
    {
     "data": {
      "text/plain": [
       "datetime.date(2019, 6, 24)"
      ]
     },
     "execution_count": 21,
     "metadata": {},
     "output_type": "execute_result"
    }
   ],
   "source": [
    "date_format(d)"
   ]
  },
  {
   "cell_type": "code",
   "execution_count": 23,
   "metadata": {},
   "outputs": [
    {
     "data": {
      "text/plain": [
       "275.64"
      ]
     },
     "execution_count": 23,
     "metadata": {},
     "output_type": "execute_result"
    }
   ],
   "source": [
    "# /html/body/div/table[1]/tbody/tr[3]/td[2]\n",
    "this_close = source.find_all('tr')[2].find_all('td')[1].text\n",
    "this_close = this_close.replace(',', '')\n",
    "this_close = float(this_close)\n",
    "this_close"
   ]
  },
  {
   "cell_type": "code",
   "execution_count": 24,
   "metadata": {},
   "outputs": [
    {
     "data": {
      "text/plain": [
       "6"
      ]
     },
     "execution_count": 24,
     "metadata": {},
     "output_type": "execute_result"
    }
   ],
   "source": [
    "dates = source.find_all('td', class_='date')\n",
    "prices = source.find_all('td', class_='number_1')\n",
    "len(dates)"
   ]
  },
  {
   "cell_type": "code",
   "execution_count": 25,
   "metadata": {},
   "outputs": [
    {
     "data": {
      "text/plain": [
       "24"
      ]
     },
     "execution_count": 25,
     "metadata": {},
     "output_type": "execute_result"
    }
   ],
   "source": [
    "len(prices)"
   ]
  },
  {
   "cell_type": "code",
   "execution_count": 27,
   "metadata": {},
   "outputs": [
    {
     "name": "stdout",
     "output_type": "stream",
     "text": [
      "2019-06-24 275.64\n",
      "2019-06-21 275.48\n",
      "2019-06-20 276.01\n",
      "2019-06-19 275.31\n",
      "2019-06-18 271.36\n",
      "2019-06-17 270.09\n"
     ]
    }
   ],
   "source": [
    "for n in range(len(dates)):\n",
    "    this_date = dates[n].text\n",
    "    this_date = date_format(this_date)\n",
    "    \n",
    "    this_close = prices[n * 4].text\n",
    "    this_close = this_close.replace(',', '')\n",
    "    this_close = float(this_close)\n",
    "    print(this_date, this_close)"
   ]
  },
  {
   "cell_type": "code",
   "execution_count": 31,
   "metadata": {},
   "outputs": [
    {
     "name": "stdout",
     "output_type": "stream",
     "text": [
      "/sise/sise_index_day.nhn?code=KPI200&page=555\n"
     ]
    }
   ],
   "source": [
    "paging = source.find('td', class_='pgRR').find('a')['href']\n",
    "print(paging)"
   ]
  },
  {
   "cell_type": "code",
   "execution_count": 32,
   "metadata": {},
   "outputs": [
    {
     "data": {
      "text/plain": [
       "'page=555'"
      ]
     },
     "execution_count": 32,
     "metadata": {},
     "output_type": "execute_result"
    }
   ],
   "source": [
    "paging = paging.split('&')[1]\n",
    "paging"
   ]
  },
  {
   "cell_type": "code",
   "execution_count": 33,
   "metadata": {},
   "outputs": [
    {
     "data": {
      "text/plain": [
       "'555'"
      ]
     },
     "execution_count": 33,
     "metadata": {},
     "output_type": "execute_result"
    }
   ],
   "source": [
    "paging = paging.split('=')[1]\n",
    "paging"
   ]
  },
  {
   "cell_type": "code",
   "execution_count": 34,
   "metadata": {},
   "outputs": [
    {
     "data": {
      "text/plain": [
       "'555'"
      ]
     },
     "execution_count": 34,
     "metadata": {},
     "output_type": "execute_result"
    }
   ],
   "source": [
    "source.find('td', class_='pgRR').find('a')['href'].split('=')[2]"
   ]
  },
  {
   "cell_type": "code",
   "execution_count": null,
   "metadata": {},
   "outputs": [],
   "source": []
  }
 ],
 "metadata": {
  "kernelspec": {
   "display_name": "Python 3",
   "language": "python",
   "name": "python3"
  },
  "language_info": {
   "codemirror_mode": {
    "name": "ipython",
    "version": 3
   },
   "file_extension": ".py",
   "mimetype": "text/x-python",
   "name": "python",
   "nbconvert_exporter": "python",
   "pygments_lexer": "ipython3",
   "version": "3.7.3"
  }
 },
 "nbformat": 4,
 "nbformat_minor": 2
}
