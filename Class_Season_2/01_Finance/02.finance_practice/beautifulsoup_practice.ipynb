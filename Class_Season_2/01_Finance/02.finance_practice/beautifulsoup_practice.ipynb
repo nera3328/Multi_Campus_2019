{
 "cells": [
  {
   "cell_type": "code",
   "execution_count": 1,
   "metadata": {},
   "outputs": [],
   "source": [
    "import requests\n",
    "from bs4 import BeautifulSoup\n",
    "import datetime as dt\n",
    "import pandas as pd\n",
    "import matplotlib.pyplot as plt"
   ]
  },
  {
   "cell_type": "code",
   "execution_count": 2,
   "metadata": {},
   "outputs": [],
   "source": [
    "url='http://finance.naver.com/sise/sise_index_day.nhn?code=KPI200'"
   ]
  },
  {
   "cell_type": "code",
   "execution_count": 12,
   "metadata": {},
   "outputs": [],
   "source": [
    "date=[]\n",
    "close=[]\n",
    "\n",
    "for i in range(557):\n",
    "    param={'page':i}\n",
    "    result=requests.get(url,param)\n",
    "\n",
    "    soup=BeautifulSoup(result.content,'lxml')\n",
    "    \n",
    "    date_tag=soup.select('td.date') \n",
    "    #d = soup.find_all('td', class_='date')    find all은 list 반환\n",
    "    t_close=soup.select('td.number_1')\n",
    " \n",
    "    for d in date_tag:\n",
    "        d_t=d.text\n",
    "        dates=dt.datetime.strptime(d_t,\"%Y.%m.%d\").date()\n",
    "        date.append(dates)\n",
    "        \n",
    "    \n",
    "    for a in range(len(t_close)):\n",
    "        if a %4==0:\n",
    "            close.append(float(t_close[a].text))\n",
    "            \n",
    "#prices=soup.find_all('td',class_='number_1')\n",
    "#def date_format(d):\n",
    "#    d=str(d).replace('-','.')\n",
    "#    yyyy=int(d.split('.')[0])\n",
    "#    mm=int(d.split('.')[1])\n",
    "#    dd=int(d.split('.')[2])\n",
    "    \n",
    "#    t_date=dt.date(yyyy,mm,dd)\n",
    "#    return t_date"
   ]
  },
  {
   "cell_type": "code",
   "execution_count": 13,
   "metadata": {},
   "outputs": [],
   "source": [
    "DF=pd.DataFrame(close, index=date, columns =['close'])"
   ]
  },
  {
   "cell_type": "code",
   "execution_count": 14,
   "metadata": {},
   "outputs": [
    {
     "data": {
      "image/png": "[encoded data removed]",
      "text/plain": [
       "<Figure size 432x288 with 1 Axes>"
      ]
     },
     "metadata": {
      "needs_background": "light"
     },
     "output_type": "display_data"
    }
   ],
   "source": [
    "plt.plot(DF)\n",
    "plt.show()"
   ]
  },
  {
   "cell_type": "raw",
   "metadata": {},
   "source": [
    "t_close=tag.find_all('td')[1].text\n",
    "t_close=t_close.replace(',','')\n",
    "t_close=float(t_close)\n",
    "t_close"
   ]
  },
  {
   "cell_type": "raw",
   "metadata": {},
   "source": [
    "len(prices) #이 중 종가만 뽑아내자"
   ]
  },
  {
   "cell_type": "raw",
   "metadata": {},
   "source": [
    "for n in range(len(dates)):\n",
    "    t_date=dates[n].text\n",
    "    t_date=date_format(t_date)\n",
    "    \n",
    "    t_close=prices[n*4].text\n",
    "    t_close=t_close.replace(',','')\n",
    "    t_close=float(t_close)\n",
    "    t_close\n",
    "    \n",
    "    print(t_date,t_close)"
   ]
  },
  {
   "cell_type": "raw",
   "metadata": {},
   "source": [
    "last_page=0\n",
    "a_page=0\n",
    "\n",
    "if last_page==0:\n",
    "    last_page = soup.find('td',class_='pgRR').find('a')['href']    \n",
    "    last_page = (last_page.split('&')[1]).split('=')[1]\n",
    "    last_page = int(last_page)\n",
    "    \n",
    "if a_page<last_page:\n",
    "    a_page += 1\n",
    "    print(a_page)"
   ]
  }
 ],
 "metadata": {
  "kernelspec": {
   "display_name": "Python 3",
   "language": "python",
   "name": "python3"
  },
  "language_info": {
   "codemirror_mode": {
    "name": "ipython",
    "version": 3
   },
   "file_extension": ".py",
   "mimetype": "text/x-python",
   "name": "python",
   "nbconvert_exporter": "python",
   "pygments_lexer": "ipython3",
   "version": "3.7.3"
  }
 },
 "nbformat": 4,
 "nbformat_minor": 2
}
