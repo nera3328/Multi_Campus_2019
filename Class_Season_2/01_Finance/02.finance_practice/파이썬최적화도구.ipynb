{
 "cells": [
  {
   "cell_type": "markdown",
   "metadata": {},
   "source": [
    "### 파이썬의 최적화 (optimization) 도구의 기능을 연습한다.\n",
    "문제 :<br>\n",
    "minimize [x1 * x4 * (x1 + x2 + x3) + x3]<br><br>\n",
    "제한조건 :<br>\n",
    "x1 * x2 * x3 * x4 >= 25<br>\n",
    "x1^2 + x2^2 + x3^2 + x4^2 = 40<br>\n",
    "1 <= x1, x2, x3, x4 <= 5<br>\n",
    "x0 = [1, 5, 5, 5]<br>\n",
    "reference : https://www.youtube.com/watch?v=cXHvC_FGx24"
   ]
  },
  {
   "cell_type": "code",
   "execution_count": 3,
   "metadata": {},
   "outputs": [],
   "source": [
    "import scipy.optimize as optimize"
   ]
  },
  {
   "cell_type": "code",
   "execution_count": 4,
   "metadata": {},
   "outputs": [],
   "source": [
    "#목표함수\n",
    "def objective(x):\n",
    "    x1 = x[0]\n",
    "    x2 = x[1]\n",
    "    x3 = x[2]\n",
    "    x4 = x[3]\n",
    "    \n",
    "    return x1 * x4 * (x1 + x2 + x3) + x3"
   ]
  },
  {
   "cell_type": "code",
   "execution_count": 5,
   "metadata": {},
   "outputs": [],
   "source": [
    "# constraint : 제한조건각 =;\n",
    "def constraint1(x):\n",
    "    return x[0] * x[1] * x[2] * x[3] - 25.0 #좌변만 써주는게 scipy의 형식"
   ]
  },
  {
   "cell_type": "code",
   "execution_count": 6,
   "metadata": {},
   "outputs": [],
   "source": [
    "def constraint2(x):\n",
    "    sum_sq = 0\n",
    "    for i in range(4):\n",
    "        sum_sq += x[i] ** 2   #x^\n",
    "    return sum_sq - 40"
   ]
  },
  {
   "cell_type": "code",
   "execution_count": 7,
   "metadata": {},
   "outputs": [
    {
     "name": "stdout",
     "output_type": "stream",
     "text": [
      "16\n",
      "\n",
      "x1 = 1.00\n",
      "x2 = 4.74\n",
      "x3 = 3.82\n",
      "x4 = 1.38\n",
      "Objective의 최솟값 = 17.01\n"
     ]
    }
   ],
   "source": [
    "x0 = [1, 5, 5, 1] #초깃값\n",
    "print(objective(x0))\n",
    "\n",
    "#bound x1: 1~5  x120. 1~5  x2: 1~5... ---모든 bound는 이 범위 안에서만 존재  \n",
    "b = (1.0, 5.0)\n",
    "bnds = (b, b, b, b ) #=(x1:0.5) (1z5) \n",
    "con1 = {'type' : 'ineq', 'fun' : constraint1} #ineq: inequal , 부등식임!\n",
    "con2 = {'type' : 'eq', 'fun' : constraint2}   #eq: equal , 등식이다\n",
    "cons = [con1, con2] # 합친다\n",
    "\n",
    "sol = optimize.minimize(objective, x0, method='SLSQP', bounds=bnds, constraints=cons)\n",
    "\n",
    "print()\n",
    "print(\"x1 = %.2f\" % sol.x[0])\n",
    "print(\"x2 = %.2f\" % sol.x[1])\n",
    "print(\"x3 = %.2f\" % sol.x[2])\n",
    "print(\"x4 = %.2f\" % sol.x[3])\n",
    "print(\"Objective의 최솟값 = %.2f\" % sol.fun)"
   ]
  },
  {
   "cell_type": "code",
   "execution_count": null,
   "metadata": {},
   "outputs": [],
   "source": []
  }
 ],
 "metadata": {
  "kernelspec": {
   "display_name": "Python 3",
   "language": "python",
   "name": "python3"
  },
  "language_info": {
   "codemirror_mode": {
    "name": "ipython",
    "version": 3
   },
   "file_extension": ".py",
   "mimetype": "text/x-python",
   "name": "python",
   "nbconvert_exporter": "python",
   "pygments_lexer": "ipython3",
   "version": "3.7.3"
  }
 },
 "nbformat": 4,
 "nbformat_minor": 2
}
