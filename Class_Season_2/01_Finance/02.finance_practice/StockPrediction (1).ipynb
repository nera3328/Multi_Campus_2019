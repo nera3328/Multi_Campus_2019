{
 "cells": [
  {
   "cell_type": "code",
   "execution_count": 1,
   "metadata": {},
   "outputs": [],
   "source": [
    "# XOR 예시\n",
    "import tensorflow as tf\n",
    "import pandas as pd\n",
    "import numpy as np\n",
    "\n",
    "#inputX = [[0, 0], [0, 1], [1, 0], [1, 1]]   # input 데이터\n",
    "#outputY = [[1], [0], [1], [0]]              # desired output 데이터"
   ]
  },
  {
   "cell_type": "code",
   "execution_count": 2,
   "metadata": {},
   "outputs": [],
   "source": [
    "sm = pd.read_csv('./stockData/005930.csv', index_col=0, parse_dates=True)\n",
    "sm = sm.sort_index() # 날짜 순으로 정렬한다\n",
    "sm = sm.dropna()"
   ]
  },
  {
   "cell_type": "code",
   "execution_count": 3,
   "metadata": {},
   "outputs": [
    {
     "data": {
      "text/html": [
       "<div>\n",
       "<style scoped>\n",
       "    .dataframe tbody tr th:only-of-type {\n",
       "        vertical-align: middle;\n",
       "    }\n",
       "\n",
       "    .dataframe tbody tr th {\n",
       "        vertical-align: top;\n",
       "    }\n",
       "\n",
       "    .dataframe thead th {\n",
       "        text-align: right;\n",
       "    }\n",
       "</style>\n",
       "<table border=\"1\" class=\"dataframe\">\n",
       "  <thead>\n",
       "    <tr style=\"text-align: right;\">\n",
       "      <th></th>\n",
       "      <th>open</th>\n",
       "      <th>high</th>\n",
       "      <th>low</th>\n",
       "      <th>close</th>\n",
       "      <th>volume</th>\n",
       "    </tr>\n",
       "    <tr>\n",
       "      <th>date</th>\n",
       "      <th></th>\n",
       "      <th></th>\n",
       "      <th></th>\n",
       "      <th></th>\n",
       "      <th></th>\n",
       "    </tr>\n",
       "  </thead>\n",
       "  <tbody>\n",
       "    <tr>\n",
       "      <th>2011-05-12</th>\n",
       "      <td>17720</td>\n",
       "      <td>18020</td>\n",
       "      <td>17660</td>\n",
       "      <td>17700</td>\n",
       "      <td>552942</td>\n",
       "    </tr>\n",
       "    <tr>\n",
       "      <th>2011-05-13</th>\n",
       "      <td>17920</td>\n",
       "      <td>18480</td>\n",
       "      <td>17800</td>\n",
       "      <td>18320</td>\n",
       "      <td>669154</td>\n",
       "    </tr>\n",
       "    <tr>\n",
       "      <th>2011-05-16</th>\n",
       "      <td>18340</td>\n",
       "      <td>18380</td>\n",
       "      <td>17960</td>\n",
       "      <td>18020</td>\n",
       "      <td>322905</td>\n",
       "    </tr>\n",
       "    <tr>\n",
       "      <th>2011-05-17</th>\n",
       "      <td>17940</td>\n",
       "      <td>17960</td>\n",
       "      <td>17780</td>\n",
       "      <td>17800</td>\n",
       "      <td>231293</td>\n",
       "    </tr>\n",
       "    <tr>\n",
       "      <th>2011-05-18</th>\n",
       "      <td>17860</td>\n",
       "      <td>17980</td>\n",
       "      <td>17720</td>\n",
       "      <td>17860</td>\n",
       "      <td>331824</td>\n",
       "    </tr>\n",
       "  </tbody>\n",
       "</table>\n",
       "</div>"
      ],
      "text/plain": [
       "             open   high    low  close  volume\n",
       "date                                          \n",
       "2011-05-12  17720  18020  17660  17700  552942\n",
       "2011-05-13  17920  18480  17800  18320  669154\n",
       "2011-05-16  18340  18380  17960  18020  322905\n",
       "2011-05-17  17940  17960  17780  17800  231293\n",
       "2011-05-18  17860  17980  17720  17860  331824"
      ]
     },
     "execution_count": 3,
     "metadata": {},
     "output_type": "execute_result"
    }
   ],
   "source": [
    "sm.head()"
   ]
  },
  {
   "cell_type": "code",
   "execution_count": 4,
   "metadata": {},
   "outputs": [
    {
     "data": {
      "text/html": [
       "<div>\n",
       "<style scoped>\n",
       "    .dataframe tbody tr th:only-of-type {\n",
       "        vertical-align: middle;\n",
       "    }\n",
       "\n",
       "    .dataframe tbody tr th {\n",
       "        vertical-align: top;\n",
       "    }\n",
       "\n",
       "    .dataframe thead th {\n",
       "        text-align: right;\n",
       "    }\n",
       "</style>\n",
       "<table border=\"1\" class=\"dataframe\">\n",
       "  <thead>\n",
       "    <tr style=\"text-align: right;\">\n",
       "      <th></th>\n",
       "      <th>open</th>\n",
       "      <th>high</th>\n",
       "      <th>low</th>\n",
       "      <th>close</th>\n",
       "      <th>volume</th>\n",
       "    </tr>\n",
       "    <tr>\n",
       "      <th>date</th>\n",
       "      <th></th>\n",
       "      <th></th>\n",
       "      <th></th>\n",
       "      <th></th>\n",
       "      <th></th>\n",
       "    </tr>\n",
       "  </thead>\n",
       "  <tbody>\n",
       "    <tr>\n",
       "      <th>2019-06-19</th>\n",
       "      <td>45450</td>\n",
       "      <td>45450</td>\n",
       "      <td>45000</td>\n",
       "      <td>45350</td>\n",
       "      <td>10417690</td>\n",
       "    </tr>\n",
       "    <tr>\n",
       "      <th>2019-06-20</th>\n",
       "      <td>44850</td>\n",
       "      <td>45500</td>\n",
       "      <td>44850</td>\n",
       "      <td>45500</td>\n",
       "      <td>7147785</td>\n",
       "    </tr>\n",
       "    <tr>\n",
       "      <th>2019-06-21</th>\n",
       "      <td>45750</td>\n",
       "      <td>45800</td>\n",
       "      <td>45200</td>\n",
       "      <td>45700</td>\n",
       "      <td>9454913</td>\n",
       "    </tr>\n",
       "    <tr>\n",
       "      <th>2019-06-24</th>\n",
       "      <td>45200</td>\n",
       "      <td>45800</td>\n",
       "      <td>45200</td>\n",
       "      <td>45500</td>\n",
       "      <td>6085066</td>\n",
       "    </tr>\n",
       "    <tr>\n",
       "      <th>2019-06-25</th>\n",
       "      <td>45200</td>\n",
       "      <td>45800</td>\n",
       "      <td>45200</td>\n",
       "      <td>45450</td>\n",
       "      <td>4120726</td>\n",
       "    </tr>\n",
       "  </tbody>\n",
       "</table>\n",
       "</div>"
      ],
      "text/plain": [
       "             open   high    low  close    volume\n",
       "date                                            \n",
       "2019-06-19  45450  45450  45000  45350  10417690\n",
       "2019-06-20  44850  45500  44850  45500   7147785\n",
       "2019-06-21  45750  45800  45200  45700   9454913\n",
       "2019-06-24  45200  45800  45200  45500   6085066\n",
       "2019-06-25  45200  45800  45200  45450   4120726"
      ]
     },
     "execution_count": 4,
     "metadata": {},
     "output_type": "execute_result"
    }
   ],
   "source": [
    "sm.tail()"
   ]
  },
  {
   "cell_type": "code",
   "execution_count": 5,
   "metadata": {},
   "outputs": [],
   "source": [
    "sm['next close'] = sm['close'].shift(-1)"
   ]
  },
  {
   "cell_type": "code",
   "execution_count": 6,
   "metadata": {},
   "outputs": [
    {
     "data": {
      "text/html": [
       "<div>\n",
       "<style scoped>\n",
       "    .dataframe tbody tr th:only-of-type {\n",
       "        vertical-align: middle;\n",
       "    }\n",
       "\n",
       "    .dataframe tbody tr th {\n",
       "        vertical-align: top;\n",
       "    }\n",
       "\n",
       "    .dataframe thead th {\n",
       "        text-align: right;\n",
       "    }\n",
       "</style>\n",
       "<table border=\"1\" class=\"dataframe\">\n",
       "  <thead>\n",
       "    <tr style=\"text-align: right;\">\n",
       "      <th></th>\n",
       "      <th>open</th>\n",
       "      <th>high</th>\n",
       "      <th>low</th>\n",
       "      <th>close</th>\n",
       "      <th>volume</th>\n",
       "      <th>next close</th>\n",
       "    </tr>\n",
       "    <tr>\n",
       "      <th>date</th>\n",
       "      <th></th>\n",
       "      <th></th>\n",
       "      <th></th>\n",
       "      <th></th>\n",
       "      <th></th>\n",
       "      <th></th>\n",
       "    </tr>\n",
       "  </thead>\n",
       "  <tbody>\n",
       "    <tr>\n",
       "      <th>2011-05-12</th>\n",
       "      <td>17720</td>\n",
       "      <td>18020</td>\n",
       "      <td>17660</td>\n",
       "      <td>17700</td>\n",
       "      <td>552942</td>\n",
       "      <td>18320.0</td>\n",
       "    </tr>\n",
       "    <tr>\n",
       "      <th>2011-05-13</th>\n",
       "      <td>17920</td>\n",
       "      <td>18480</td>\n",
       "      <td>17800</td>\n",
       "      <td>18320</td>\n",
       "      <td>669154</td>\n",
       "      <td>18020.0</td>\n",
       "    </tr>\n",
       "    <tr>\n",
       "      <th>2011-05-16</th>\n",
       "      <td>18340</td>\n",
       "      <td>18380</td>\n",
       "      <td>17960</td>\n",
       "      <td>18020</td>\n",
       "      <td>322905</td>\n",
       "      <td>17800.0</td>\n",
       "    </tr>\n",
       "    <tr>\n",
       "      <th>2011-05-17</th>\n",
       "      <td>17940</td>\n",
       "      <td>17960</td>\n",
       "      <td>17780</td>\n",
       "      <td>17800</td>\n",
       "      <td>231293</td>\n",
       "      <td>17860.0</td>\n",
       "    </tr>\n",
       "    <tr>\n",
       "      <th>2011-05-18</th>\n",
       "      <td>17860</td>\n",
       "      <td>17980</td>\n",
       "      <td>17720</td>\n",
       "      <td>17860</td>\n",
       "      <td>331824</td>\n",
       "      <td>17600.0</td>\n",
       "    </tr>\n",
       "  </tbody>\n",
       "</table>\n",
       "</div>"
      ],
      "text/plain": [
       "             open   high    low  close  volume  next close\n",
       "date                                                      \n",
       "2011-05-12  17720  18020  17660  17700  552942     18320.0\n",
       "2011-05-13  17920  18480  17800  18320  669154     18020.0\n",
       "2011-05-16  18340  18380  17960  18020  322905     17800.0\n",
       "2011-05-17  17940  17960  17780  17800  231293     17860.0\n",
       "2011-05-18  17860  17980  17720  17860  331824     17600.0"
      ]
     },
     "execution_count": 6,
     "metadata": {},
     "output_type": "execute_result"
    }
   ],
   "source": [
    "sm.head()"
   ]
  },
  {
   "cell_type": "code",
   "execution_count": 7,
   "metadata": {},
   "outputs": [
    {
     "data": {
      "text/html": [
       "<div>\n",
       "<style scoped>\n",
       "    .dataframe tbody tr th:only-of-type {\n",
       "        vertical-align: middle;\n",
       "    }\n",
       "\n",
       "    .dataframe tbody tr th {\n",
       "        vertical-align: top;\n",
       "    }\n",
       "\n",
       "    .dataframe thead th {\n",
       "        text-align: right;\n",
       "    }\n",
       "</style>\n",
       "<table border=\"1\" class=\"dataframe\">\n",
       "  <thead>\n",
       "    <tr style=\"text-align: right;\">\n",
       "      <th></th>\n",
       "      <th>open</th>\n",
       "      <th>high</th>\n",
       "      <th>low</th>\n",
       "      <th>close</th>\n",
       "      <th>volume</th>\n",
       "      <th>next close</th>\n",
       "    </tr>\n",
       "    <tr>\n",
       "      <th>date</th>\n",
       "      <th></th>\n",
       "      <th></th>\n",
       "      <th></th>\n",
       "      <th></th>\n",
       "      <th></th>\n",
       "      <th></th>\n",
       "    </tr>\n",
       "  </thead>\n",
       "  <tbody>\n",
       "    <tr>\n",
       "      <th>2019-06-19</th>\n",
       "      <td>45450</td>\n",
       "      <td>45450</td>\n",
       "      <td>45000</td>\n",
       "      <td>45350</td>\n",
       "      <td>10417690</td>\n",
       "      <td>45500.0</td>\n",
       "    </tr>\n",
       "    <tr>\n",
       "      <th>2019-06-20</th>\n",
       "      <td>44850</td>\n",
       "      <td>45500</td>\n",
       "      <td>44850</td>\n",
       "      <td>45500</td>\n",
       "      <td>7147785</td>\n",
       "      <td>45700.0</td>\n",
       "    </tr>\n",
       "    <tr>\n",
       "      <th>2019-06-21</th>\n",
       "      <td>45750</td>\n",
       "      <td>45800</td>\n",
       "      <td>45200</td>\n",
       "      <td>45700</td>\n",
       "      <td>9454913</td>\n",
       "      <td>45500.0</td>\n",
       "    </tr>\n",
       "    <tr>\n",
       "      <th>2019-06-24</th>\n",
       "      <td>45200</td>\n",
       "      <td>45800</td>\n",
       "      <td>45200</td>\n",
       "      <td>45500</td>\n",
       "      <td>6085066</td>\n",
       "      <td>45450.0</td>\n",
       "    </tr>\n",
       "    <tr>\n",
       "      <th>2019-06-25</th>\n",
       "      <td>45200</td>\n",
       "      <td>45800</td>\n",
       "      <td>45200</td>\n",
       "      <td>45450</td>\n",
       "      <td>4120726</td>\n",
       "      <td>NaN</td>\n",
       "    </tr>\n",
       "  </tbody>\n",
       "</table>\n",
       "</div>"
      ],
      "text/plain": [
       "             open   high    low  close    volume  next close\n",
       "date                                                        \n",
       "2019-06-19  45450  45450  45000  45350  10417690     45500.0\n",
       "2019-06-20  44850  45500  44850  45500   7147785     45700.0\n",
       "2019-06-21  45750  45800  45200  45700   9454913     45500.0\n",
       "2019-06-24  45200  45800  45200  45500   6085066     45450.0\n",
       "2019-06-25  45200  45800  45200  45450   4120726         NaN"
      ]
     },
     "execution_count": 7,
     "metadata": {},
     "output_type": "execute_result"
    }
   ],
   "source": [
    "sm.tail()"
   ]
  },
  {
   "cell_type": "code",
   "execution_count": 25,
   "metadata": {},
   "outputs": [
    {
     "data": {
      "text/plain": [
       "array([[45200, 45800, 45200, 45500]], dtype=int64)"
      ]
     },
     "execution_count": 25,
     "metadata": {},
     "output_type": "execute_result"
    }
   ],
   "source": [
    "testX = np.array(sm.iloc[-1:, 0:4])\n",
    "testX"
   ]
  },
  {
   "cell_type": "code",
   "execution_count": 8,
   "metadata": {},
   "outputs": [],
   "source": [
    "sm = sm.dropna()"
   ]
  },
  {
   "cell_type": "code",
   "execution_count": 9,
   "metadata": {},
   "outputs": [
    {
     "data": {
      "text/plain": [
       "(1999, 4)"
      ]
     },
     "execution_count": 9,
     "metadata": {},
     "output_type": "execute_result"
    }
   ],
   "source": [
    "inputX = np.array(sm.iloc[:, 0:4])\n",
    "inputX.shape"
   ]
  },
  {
   "cell_type": "code",
   "execution_count": 10,
   "metadata": {},
   "outputs": [],
   "source": [
    "outputY = np.array(sm.loc[:, 'next close']).reshape(-1,1)"
   ]
  },
  {
   "cell_type": "code",
   "execution_count": 11,
   "metadata": {},
   "outputs": [
    {
     "data": {
      "text/plain": [
       "array([[18320.],\n",
       "       [18020.],\n",
       "       [17800.],\n",
       "       ...,\n",
       "       [45700.],\n",
       "       [45500.],\n",
       "       [45450.]])"
      ]
     },
     "execution_count": 11,
     "metadata": {},
     "output_type": "execute_result"
    }
   ],
   "source": [
    "outputY"
   ]
  },
  {
   "cell_type": "code",
   "execution_count": 12,
   "metadata": {},
   "outputs": [],
   "source": [
    "nInput = 4      # input layer의 neuron 개수\n",
    "nHidden = 6     # hidden layer의 neuron 개수\n",
    "nOutput = 1     # output layer의 neuron 개수"
   ]
  },
  {
   "cell_type": "code",
   "execution_count": 43,
   "metadata": {},
   "outputs": [],
   "source": [
    "# 그래프를 생성한다\n",
    "tf.reset_default_graph()\n",
    "x = tf.placeholder(tf.float32, shape=[None, nInput], name='x')\n",
    "y = tf.placeholder(tf.float32, shape=[None, nOutput], name='y')\n",
    "\n",
    "# hidden layer의 Weight (Wh)와 Bias (Bh)\n",
    "Wh = tf.Variable(tf.truncated_normal([nInput, nHidden]), dtype=tf.float32, name='Wh')\n",
    "Bh = tf.Variable(tf.zeros(nHidden), dtype=tf.float32, name='Bh')\n",
    "\n",
    "# output layer의 Weight (Wo)와 Bias (Bo)\n",
    "Wo = tf.Variable(tf.truncated_normal([nHidden, nOutput]), dtype=tf.float32, name='Wo')\n",
    "Bo = tf.Variable(tf.zeros(nOutput), dtype=tf.float32, name='Bo')\n",
    "\n",
    "# Hidden layer의 출력값. activation function은 sigmoid\n",
    "H1 = tf.sigmoid(tf.matmul(x, Wh) + Bh, name='H1')\n",
    "\n",
    "# Output layer의 출력값. activation function은 sigmoid\n",
    "predY = tf.add(tf.matmul(H1, Wo), Bo, name='predY')\n",
    "\n",
    "# Cost function 정의. cross-entropy 사용\n",
    "clipY = tf.clip_by_value(predY, 0.000001, 0.99999)  # log(0)를 방지한다\n",
    "cost = tf.reduce_mean(tf.square(tf.subtract(predY, y)))\n",
    "\n",
    "# 학습\n",
    "optimizer = tf.train.AdamOptimizer(0.05)\n",
    "train = optimizer.minimize(cost)"
   ]
  },
  {
   "cell_type": "code",
   "execution_count": 44,
   "metadata": {},
   "outputs": [],
   "source": [
    "# 그래프를 실행한다\n",
    "sess = tf.Session()\n",
    "sess.run(tf.global_variables_initializer())"
   ]
  },
  {
   "cell_type": "code",
   "execution_count": 47,
   "metadata": {},
   "outputs": [
    {
     "name": "stdout",
     "output_type": "stream",
     "text": [
      "cost = 252716608.0000\n",
      "cost = 247957888.0000\n",
      "cost = 243277024.0000\n",
      "cost = 238673904.0000\n",
      "cost = 234148656.0000\n",
      "cost = 229701248.0000\n",
      "cost = 225331648.0000\n",
      "cost = 221039920.0000\n",
      "cost = 216825920.0000\n",
      "cost = 212698160.0000\n",
      "cost = 208679504.0000\n",
      "cost = 204737136.0000\n",
      "cost = 200871104.0000\n",
      "cost = 197081344.0000\n",
      "cost = 193367840.0000\n",
      "cost = 189730688.0000\n",
      "cost = 186169792.0000\n",
      "cost = 182685152.0000\n",
      "cost = 179276928.0000\n",
      "cost = 175944880.0000\n",
      "cost = 172689264.0000\n",
      "cost = 169509760.0000\n",
      "cost = 166406736.0000\n",
      "cost = 163379840.0000\n",
      "cost = 160429360.0000\n",
      "cost = 157555168.0000\n",
      "cost = 154757168.0000\n",
      "cost = 152035552.0000\n",
      "cost = 149397232.0000\n",
      "cost = 146853248.0000\n",
      "cost = 144384064.0000\n",
      "cost = 141989696.0000\n",
      "cost = 139670048.0000\n",
      "cost = 137425216.0000\n",
      "cost = 135255168.0000\n",
      "cost = 133159872.0000\n",
      "cost = 131139352.0000\n",
      "cost = 129193608.0000\n",
      "cost = 127340232.0000\n",
      "cost = 125561144.0000\n",
      "cost = 123855296.0000\n",
      "cost = 122222696.0000\n",
      "cost = 120663392.0000\n",
      "cost = 119182928.0000\n",
      "cost = 117783960.0000\n",
      "cost = 116456728.0000\n",
      "cost = 115201304.0000\n",
      "cost = 114025520.0000\n",
      "cost = 112924240.0000\n",
      "cost = 111893304.0000\n",
      "cost = 110942320.0000\n",
      "cost = 110060208.0000\n",
      "cost = 109255072.0000\n",
      "cost = 108520576.0000\n",
      "cost = 107857960.0000\n",
      "cost = 107266856.0000\n",
      "cost = 106746184.0000\n",
      "cost = 106294344.0000\n",
      "cost = 105910208.0000\n",
      "cost = 105591672.0000\n",
      "cost = 105336744.0000\n",
      "cost = 105142008.0000\n",
      "cost = 105003224.0000\n",
      "cost = 104914176.0000\n",
      "cost = 104866104.0000\n",
      "cost = 104846888.0000\n",
      "cost = 104842480.0000\n",
      "cost = 104842120.0000\n",
      "cost = 104842072.0000\n",
      "cost = 104842104.0000\n",
      "cost = 104842120.0000\n",
      "cost = 104842088.0000\n",
      "cost = 104842096.0000\n",
      "cost = 104842096.0000\n",
      "cost = 104842080.0000\n",
      "cost = 104842088.0000\n",
      "cost = 104842072.0000\n",
      "cost = 104842072.0000\n",
      "cost = 104842072.0000\n",
      "cost = 104842072.0000\n",
      "cost = 104842080.0000\n",
      "cost = 104842088.0000\n",
      "cost = 104842080.0000\n",
      "cost = 104842080.0000\n",
      "cost = 104842072.0000\n",
      "cost = 104842088.0000\n",
      "cost = 104842088.0000\n",
      "cost = 104842088.0000\n",
      "cost = 104842088.0000\n",
      "cost = 104842072.0000\n",
      "cost = 104842096.0000\n",
      "cost = 104842072.0000\n",
      "cost = 104842088.0000\n",
      "cost = 104842088.0000\n",
      "cost = 104842088.0000\n",
      "cost = 104842080.0000\n",
      "cost = 104842080.0000\n",
      "cost = 104842088.0000\n",
      "cost = 104842072.0000\n",
      "cost = 104842088.0000\n"
     ]
    }
   ],
   "source": [
    "# 인공신경망에 inputX, outputY를 1000번 집어 넣어서 학습 시킨다.\n",
    "for i in range(100000):\n",
    "    _, xcost = sess.run([train, cost], feed_dict={x: inputX, y: outputY})\n",
    "    \n",
    "    if i % 1000 == 0:\n",
    "        print('cost = %.4f' % xcost)"
   ]
  },
  {
   "cell_type": "code",
   "execution_count": 46,
   "metadata": {},
   "outputs": [
    {
     "name": "stdout",
     "output_type": "stream",
     "text": [
      "\n",
      "y-추정치 = \n",
      " [[19815.006]]\n"
     ]
    }
   ],
   "source": [
    "# 학습이 완료되면, Wh, Bh, Wo, Bo 이 모두 업데이트 되었으면, inputX를 넣어서 출력값을 확인한다.\n",
    "# 출력값은 inputY의 추정값이다.\n",
    "yHat = sess.run(predY, feed_dict={x: testX})\n",
    "\n",
    "print(\"\\ny-추정치 = \\n\", yHat)\n",
    "#sess.close()"
   ]
  },
  {
   "cell_type": "code",
   "execution_count": null,
   "metadata": {},
   "outputs": [],
   "source": []
  }
 ],
 "metadata": {
  "kernelspec": {
   "display_name": "Python 3",
   "language": "python",
   "name": "python3"
  },
  "language_info": {
   "codemirror_mode": {
    "name": "ipython",
    "version": 3
   },
   "file_extension": ".py",
   "mimetype": "text/x-python",
   "name": "python",
   "nbconvert_exporter": "python",
   "pygments_lexer": "ipython3",
   "version": "3.7.3"
  }
 },
 "nbformat": 4,
 "nbformat_minor": 2
}
