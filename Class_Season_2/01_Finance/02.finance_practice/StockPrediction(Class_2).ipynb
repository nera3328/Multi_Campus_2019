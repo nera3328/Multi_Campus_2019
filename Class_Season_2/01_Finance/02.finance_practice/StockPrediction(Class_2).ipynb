{
 "cells": [
  {
   "cell_type": "markdown",
   "metadata": {},
   "source": [
    "#### 주가 예측 실습"
   ]
  },
  {
   "cell_type": "code",
   "execution_count": 1,
   "metadata": {},
   "outputs": [],
   "source": [
    "import tensorflow as tf\n",
    "import pandas as pd\n",
    "import numpy as np\n",
    "\n",
    "saveDir = './Saver/predictStock(reg).save'   # 학습 결과를 저정할 폴더\n",
    "saveFile = saveDir + '/save'   # 학습 결과를 저장할 파일"
   ]
  },
  {
   "cell_type": "code",
   "execution_count": 2,
   "metadata": {},
   "outputs": [],
   "source": [
    "sm = pd.read_csv('./stockData/005930.csv', index_col=0, parse_dates=True)\n",
    "sm = sm.sort_index() # 날짜 순으로 정렬한다\n",
    "sm = sm.dropna()\n",
    "sm = sm / 10000"
   ]
  },
  {
   "cell_type": "code",
   "execution_count": 3,
   "metadata": {},
   "outputs": [
    {
     "data": {
      "text/html": [
       "<div>\n",
       "<style scoped>\n",
       "    .dataframe tbody tr th:only-of-type {\n",
       "        vertical-align: middle;\n",
       "    }\n",
       "\n",
       "    .dataframe tbody tr th {\n",
       "        vertical-align: top;\n",
       "    }\n",
       "\n",
       "    .dataframe thead th {\n",
       "        text-align: right;\n",
       "    }\n",
       "</style>\n",
       "<table border=\"1\" class=\"dataframe\">\n",
       "  <thead>\n",
       "    <tr style=\"text-align: right;\">\n",
       "      <th></th>\n",
       "      <th>open</th>\n",
       "      <th>high</th>\n",
       "      <th>low</th>\n",
       "      <th>close</th>\n",
       "      <th>volume</th>\n",
       "    </tr>\n",
       "    <tr>\n",
       "      <th>date</th>\n",
       "      <th></th>\n",
       "      <th></th>\n",
       "      <th></th>\n",
       "      <th></th>\n",
       "      <th></th>\n",
       "    </tr>\n",
       "  </thead>\n",
       "  <tbody>\n",
       "    <tr>\n",
       "      <th>2011-05-12</th>\n",
       "      <td>1.772</td>\n",
       "      <td>1.802</td>\n",
       "      <td>1.766</td>\n",
       "      <td>1.770</td>\n",
       "      <td>55.2942</td>\n",
       "    </tr>\n",
       "    <tr>\n",
       "      <th>2011-05-13</th>\n",
       "      <td>1.792</td>\n",
       "      <td>1.848</td>\n",
       "      <td>1.780</td>\n",
       "      <td>1.832</td>\n",
       "      <td>66.9154</td>\n",
       "    </tr>\n",
       "    <tr>\n",
       "      <th>2011-05-16</th>\n",
       "      <td>1.834</td>\n",
       "      <td>1.838</td>\n",
       "      <td>1.796</td>\n",
       "      <td>1.802</td>\n",
       "      <td>32.2905</td>\n",
       "    </tr>\n",
       "    <tr>\n",
       "      <th>2011-05-17</th>\n",
       "      <td>1.794</td>\n",
       "      <td>1.796</td>\n",
       "      <td>1.778</td>\n",
       "      <td>1.780</td>\n",
       "      <td>23.1293</td>\n",
       "    </tr>\n",
       "    <tr>\n",
       "      <th>2011-05-18</th>\n",
       "      <td>1.786</td>\n",
       "      <td>1.798</td>\n",
       "      <td>1.772</td>\n",
       "      <td>1.786</td>\n",
       "      <td>33.1824</td>\n",
       "    </tr>\n",
       "  </tbody>\n",
       "</table>\n",
       "</div>"
      ],
      "text/plain": [
       "             open   high    low  close   volume\n",
       "date                                           \n",
       "2011-05-12  1.772  1.802  1.766  1.770  55.2942\n",
       "2011-05-13  1.792  1.848  1.780  1.832  66.9154\n",
       "2011-05-16  1.834  1.838  1.796  1.802  32.2905\n",
       "2011-05-17  1.794  1.796  1.778  1.780  23.1293\n",
       "2011-05-18  1.786  1.798  1.772  1.786  33.1824"
      ]
     },
     "execution_count": 3,
     "metadata": {},
     "output_type": "execute_result"
    }
   ],
   "source": [
    "sm.head()"
   ]
  },
  {
   "cell_type": "code",
   "execution_count": 4,
   "metadata": {},
   "outputs": [
    {
     "data": {
      "text/html": [
       "<div>\n",
       "<style scoped>\n",
       "    .dataframe tbody tr th:only-of-type {\n",
       "        vertical-align: middle;\n",
       "    }\n",
       "\n",
       "    .dataframe tbody tr th {\n",
       "        vertical-align: top;\n",
       "    }\n",
       "\n",
       "    .dataframe thead th {\n",
       "        text-align: right;\n",
       "    }\n",
       "</style>\n",
       "<table border=\"1\" class=\"dataframe\">\n",
       "  <thead>\n",
       "    <tr style=\"text-align: right;\">\n",
       "      <th></th>\n",
       "      <th>open</th>\n",
       "      <th>high</th>\n",
       "      <th>low</th>\n",
       "      <th>close</th>\n",
       "      <th>volume</th>\n",
       "    </tr>\n",
       "    <tr>\n",
       "      <th>date</th>\n",
       "      <th></th>\n",
       "      <th></th>\n",
       "      <th></th>\n",
       "      <th></th>\n",
       "      <th></th>\n",
       "    </tr>\n",
       "  </thead>\n",
       "  <tbody>\n",
       "    <tr>\n",
       "      <th>2019-06-19</th>\n",
       "      <td>4.545</td>\n",
       "      <td>4.545</td>\n",
       "      <td>4.500</td>\n",
       "      <td>4.535</td>\n",
       "      <td>1041.7690</td>\n",
       "    </tr>\n",
       "    <tr>\n",
       "      <th>2019-06-20</th>\n",
       "      <td>4.485</td>\n",
       "      <td>4.550</td>\n",
       "      <td>4.485</td>\n",
       "      <td>4.550</td>\n",
       "      <td>714.7785</td>\n",
       "    </tr>\n",
       "    <tr>\n",
       "      <th>2019-06-21</th>\n",
       "      <td>4.575</td>\n",
       "      <td>4.580</td>\n",
       "      <td>4.520</td>\n",
       "      <td>4.570</td>\n",
       "      <td>945.4913</td>\n",
       "    </tr>\n",
       "    <tr>\n",
       "      <th>2019-06-24</th>\n",
       "      <td>4.520</td>\n",
       "      <td>4.580</td>\n",
       "      <td>4.520</td>\n",
       "      <td>4.550</td>\n",
       "      <td>608.5066</td>\n",
       "    </tr>\n",
       "    <tr>\n",
       "      <th>2019-06-25</th>\n",
       "      <td>4.520</td>\n",
       "      <td>4.580</td>\n",
       "      <td>4.520</td>\n",
       "      <td>4.545</td>\n",
       "      <td>412.0726</td>\n",
       "    </tr>\n",
       "  </tbody>\n",
       "</table>\n",
       "</div>"
      ],
      "text/plain": [
       "             open   high    low  close     volume\n",
       "date                                             \n",
       "2019-06-19  4.545  4.545  4.500  4.535  1041.7690\n",
       "2019-06-20  4.485  4.550  4.485  4.550   714.7785\n",
       "2019-06-21  4.575  4.580  4.520  4.570   945.4913\n",
       "2019-06-24  4.520  4.580  4.520  4.550   608.5066\n",
       "2019-06-25  4.520  4.580  4.520  4.545   412.0726"
      ]
     },
     "execution_count": 4,
     "metadata": {},
     "output_type": "execute_result"
    }
   ],
   "source": [
    "sm.tail()"
   ]
  },
  {
   "cell_type": "code",
   "execution_count": 5,
   "metadata": {},
   "outputs": [],
   "source": [
    "sm['next close'] = sm['close'].shift(-1)\n",
    "sm = sm.dropna()"
   ]
  },
  {
   "cell_type": "code",
   "execution_count": 6,
   "metadata": {},
   "outputs": [],
   "source": [
    "sm['class'] = 0\n",
    "sm.loc[sm['next close'] > sm['close'], 'class'] = 1"
   ]
  },
  {
   "cell_type": "code",
   "execution_count": 7,
   "metadata": {},
   "outputs": [
    {
     "data": {
      "text/html": [
       "<div>\n",
       "<style scoped>\n",
       "    .dataframe tbody tr th:only-of-type {\n",
       "        vertical-align: middle;\n",
       "    }\n",
       "\n",
       "    .dataframe tbody tr th {\n",
       "        vertical-align: top;\n",
       "    }\n",
       "\n",
       "    .dataframe thead th {\n",
       "        text-align: right;\n",
       "    }\n",
       "</style>\n",
       "<table border=\"1\" class=\"dataframe\">\n",
       "  <thead>\n",
       "    <tr style=\"text-align: right;\">\n",
       "      <th></th>\n",
       "      <th>open</th>\n",
       "      <th>high</th>\n",
       "      <th>low</th>\n",
       "      <th>close</th>\n",
       "      <th>volume</th>\n",
       "      <th>next close</th>\n",
       "      <th>class</th>\n",
       "    </tr>\n",
       "    <tr>\n",
       "      <th>date</th>\n",
       "      <th></th>\n",
       "      <th></th>\n",
       "      <th></th>\n",
       "      <th></th>\n",
       "      <th></th>\n",
       "      <th></th>\n",
       "      <th></th>\n",
       "    </tr>\n",
       "  </thead>\n",
       "  <tbody>\n",
       "    <tr>\n",
       "      <th>2019-05-15</th>\n",
       "      <td>4.270</td>\n",
       "      <td>4.305</td>\n",
       "      <td>4.255</td>\n",
       "      <td>4.255</td>\n",
       "      <td>767.0185</td>\n",
       "      <td>4.155</td>\n",
       "      <td>0</td>\n",
       "    </tr>\n",
       "    <tr>\n",
       "      <th>2017-04-18</th>\n",
       "      <td>4.168</td>\n",
       "      <td>4.182</td>\n",
       "      <td>4.128</td>\n",
       "      <td>4.150</td>\n",
       "      <td>13.7213</td>\n",
       "      <td>4.090</td>\n",
       "      <td>0</td>\n",
       "    </tr>\n",
       "    <tr>\n",
       "      <th>2018-02-12</th>\n",
       "      <td>4.510</td>\n",
       "      <td>4.632</td>\n",
       "      <td>4.504</td>\n",
       "      <td>4.572</td>\n",
       "      <td>31.5099</td>\n",
       "      <td>4.754</td>\n",
       "      <td>1</td>\n",
       "    </tr>\n",
       "    <tr>\n",
       "      <th>2017-05-08</th>\n",
       "      <td>4.552</td>\n",
       "      <td>4.702</td>\n",
       "      <td>4.534</td>\n",
       "      <td>4.702</td>\n",
       "      <td>39.1651</td>\n",
       "      <td>4.560</td>\n",
       "      <td>0</td>\n",
       "    </tr>\n",
       "    <tr>\n",
       "      <th>2018-10-08</th>\n",
       "      <td>4.420</td>\n",
       "      <td>4.520</td>\n",
       "      <td>4.420</td>\n",
       "      <td>4.495</td>\n",
       "      <td>675.9464</td>\n",
       "      <td>4.530</td>\n",
       "      <td>1</td>\n",
       "    </tr>\n",
       "  </tbody>\n",
       "</table>\n",
       "</div>"
      ],
      "text/plain": [
       "             open   high    low  close    volume  next close  class\n",
       "date                                                               \n",
       "2019-05-15  4.270  4.305  4.255  4.255  767.0185       4.155      0\n",
       "2017-04-18  4.168  4.182  4.128  4.150   13.7213       4.090      0\n",
       "2018-02-12  4.510  4.632  4.504  4.572   31.5099       4.754      1\n",
       "2017-05-08  4.552  4.702  4.534  4.702   39.1651       4.560      0\n",
       "2018-10-08  4.420  4.520  4.420  4.495  675.9464       4.530      1"
      ]
     },
     "execution_count": 7,
     "metadata": {},
     "output_type": "execute_result"
    }
   ],
   "source": [
    "sm = sm.sample(frac=1)\n",
    "sm.head()"
   ]
  },
  {
   "cell_type": "code",
   "execution_count": 8,
   "metadata": {},
   "outputs": [
    {
     "data": {
      "text/plain": [
       "993"
      ]
     },
     "execution_count": 8,
     "metadata": {},
     "output_type": "execute_result"
    }
   ],
   "source": [
    "len(sm.loc[sm['class'] == 0])"
   ]
  },
  {
   "cell_type": "code",
   "execution_count": 9,
   "metadata": {},
   "outputs": [
    {
     "data": {
      "text/html": [
       "<div>\n",
       "<style scoped>\n",
       "    .dataframe tbody tr th:only-of-type {\n",
       "        vertical-align: middle;\n",
       "    }\n",
       "\n",
       "    .dataframe tbody tr th {\n",
       "        vertical-align: top;\n",
       "    }\n",
       "\n",
       "    .dataframe thead th {\n",
       "        text-align: right;\n",
       "    }\n",
       "</style>\n",
       "<table border=\"1\" class=\"dataframe\">\n",
       "  <thead>\n",
       "    <tr style=\"text-align: right;\">\n",
       "      <th></th>\n",
       "      <th>open</th>\n",
       "      <th>high</th>\n",
       "      <th>low</th>\n",
       "      <th>close</th>\n",
       "      <th>volume</th>\n",
       "      <th>next close</th>\n",
       "      <th>class</th>\n",
       "    </tr>\n",
       "    <tr>\n",
       "      <th>date</th>\n",
       "      <th></th>\n",
       "      <th></th>\n",
       "      <th></th>\n",
       "      <th></th>\n",
       "      <th></th>\n",
       "      <th></th>\n",
       "      <th></th>\n",
       "    </tr>\n",
       "  </thead>\n",
       "  <tbody>\n",
       "    <tr>\n",
       "      <th>2019-05-15</th>\n",
       "      <td>4.270</td>\n",
       "      <td>4.305</td>\n",
       "      <td>4.255</td>\n",
       "      <td>4.255</td>\n",
       "      <td>767.0185</td>\n",
       "      <td>4.155</td>\n",
       "      <td>0</td>\n",
       "    </tr>\n",
       "    <tr>\n",
       "      <th>2017-04-18</th>\n",
       "      <td>4.168</td>\n",
       "      <td>4.182</td>\n",
       "      <td>4.128</td>\n",
       "      <td>4.150</td>\n",
       "      <td>13.7213</td>\n",
       "      <td>4.090</td>\n",
       "      <td>0</td>\n",
       "    </tr>\n",
       "    <tr>\n",
       "      <th>2018-02-12</th>\n",
       "      <td>4.510</td>\n",
       "      <td>4.632</td>\n",
       "      <td>4.504</td>\n",
       "      <td>4.572</td>\n",
       "      <td>31.5099</td>\n",
       "      <td>4.754</td>\n",
       "      <td>1</td>\n",
       "    </tr>\n",
       "    <tr>\n",
       "      <th>2017-05-08</th>\n",
       "      <td>4.552</td>\n",
       "      <td>4.702</td>\n",
       "      <td>4.534</td>\n",
       "      <td>4.702</td>\n",
       "      <td>39.1651</td>\n",
       "      <td>4.560</td>\n",
       "      <td>0</td>\n",
       "    </tr>\n",
       "    <tr>\n",
       "      <th>2018-10-08</th>\n",
       "      <td>4.420</td>\n",
       "      <td>4.520</td>\n",
       "      <td>4.420</td>\n",
       "      <td>4.495</td>\n",
       "      <td>675.9464</td>\n",
       "      <td>4.530</td>\n",
       "      <td>1</td>\n",
       "    </tr>\n",
       "  </tbody>\n",
       "</table>\n",
       "</div>"
      ],
      "text/plain": [
       "             open   high    low  close    volume  next close  class\n",
       "date                                                               \n",
       "2019-05-15  4.270  4.305  4.255  4.255  767.0185       4.155      0\n",
       "2017-04-18  4.168  4.182  4.128  4.150   13.7213       4.090      0\n",
       "2018-02-12  4.510  4.632  4.504  4.572   31.5099       4.754      1\n",
       "2017-05-08  4.552  4.702  4.534  4.702   39.1651       4.560      0\n",
       "2018-10-08  4.420  4.520  4.420  4.495  675.9464       4.530      1"
      ]
     },
     "execution_count": 9,
     "metadata": {},
     "output_type": "execute_result"
    }
   ],
   "source": [
    "sm.head()"
   ]
  },
  {
   "cell_type": "code",
   "execution_count": 10,
   "metadata": {},
   "outputs": [],
   "source": [
    "inputX = np.array(sm.iloc[:1500, 0:4])\n",
    "outputY = np.array(sm.iloc[:1500, 6]).reshape(-1,1)\n",
    "\n",
    "testX = np.array(sm.iloc[1500:, 0:4])\n",
    "testY = np.array(sm.iloc[1500:, 6]).reshape(-1,1)"
   ]
  },
  {
   "cell_type": "code",
   "execution_count": 11,
   "metadata": {},
   "outputs": [],
   "source": [
    "nInput = 4      # input layer의 neuron 개수\n",
    "nHidden1 = 60   # hidden layer-1의 neuron 개수\n",
    "nHidden2 = 60   # hidden layer-2의 neuron 개수 \n",
    "nOutput = 1     # output layer의 neuron 개수"
   ]
  },
  {
   "cell_type": "code",
   "execution_count": 12,
   "metadata": {},
   "outputs": [
    {
     "name": "stdout",
     "output_type": "stream",
     "text": [
      "WARNING:tensorflow:From C:\\Users\\seong\\Anaconda3\\lib\\site-packages\\tensorflow\\python\\framework\\op_def_library.py:263: colocate_with (from tensorflow.python.framework.ops) is deprecated and will be removed in a future version.\n",
      "Instructions for updating:\n",
      "Colocations handled automatically by placer.\n"
     ]
    }
   ],
   "source": [
    "# 그래프를 생성한다\n",
    "tf.reset_default_graph()\n",
    "x = tf.placeholder(tf.float32, shape=[None, nInput], name='x')\n",
    "y = tf.placeholder(tf.float32, shape=[None, nOutput], name='y')\n",
    "\n",
    "# hidden layer의 Weight (Wh)와 Bias (Bh)\n",
    "Wh1 = tf.Variable(tf.truncated_normal([nInput, nHidden1]), dtype=tf.float32, name='Wh1')\n",
    "Bh1 = tf.Variable(tf.zeros(nHidden1), dtype=tf.float32, name='Bh1')\n",
    "\n",
    "# hidden layer-2의 Weight (Wh)와 Bias (Bh)\n",
    "Wh2 = tf.Variable(tf.truncated_normal([nHidden1, nHidden2]), dtype=tf.float32, name='Wh2')\n",
    "Bh2 = tf.Variable(tf.zeros(nHidden2), dtype=tf.float32, name='Bh2')\n",
    "\n",
    "# output layer의 Weight (Wo)와 Bias (Bo)\n",
    "Wo = tf.Variable(tf.truncated_normal([nHidden2, nOutput]), dtype=tf.float32, name='Wo')\n",
    "Bo = tf.Variable(tf.zeros(nOutput), dtype=tf.float32, name='Bo')\n",
    "\n",
    "# Hidden layer의 출력값. activation function은 sigmoid\n",
    "H1 = tf.nn.relu(tf.matmul(x, Wh1) + Bh1, name='H1')\n",
    "H2 = tf.nn.relu(tf.matmul(H1, Wh2) + Bh2, name='H2')\n",
    "\n",
    "# Output layer의 출력값. activation function은 sigmoid\n",
    "predY = tf.nn.sigmoid(tf.add(tf.matmul(H2, Wo), Bo, name='predY'))\n",
    "\n",
    "# Cost function 정의. MSE\n",
    "cost = tf.reduce_mean(tf.square(tf.subtract(predY, y)))\n",
    "\n",
    "# 학습\n",
    "alpha = tf.placeholder(tf.float32, shape=(), name='alpha')\n",
    "optimizer = tf.train.AdamOptimizer(alpha)\n",
    "train = optimizer.minimize(cost)\n",
    "\n",
    "saver = tf.train.Saver()"
   ]
  },
  {
   "cell_type": "code",
   "execution_count": 13,
   "metadata": {},
   "outputs": [
    {
     "name": "stdout",
     "output_type": "stream",
     "text": [
      "WARNING:tensorflow:From <ipython-input-13-654b3e19adb3>:6: checkpoint_exists (from tensorflow.python.training.checkpoint_management) is deprecated and will be removed in a future version.\n",
      "Instructions for updating:\n",
      "Use standard file APIs to check for files with this prefix.\n",
      "INFO:tensorflow:Restoring parameters from ./Saver/predictStock(reg).save/save\n"
     ]
    }
   ],
   "source": [
    "# 그래프를 실행한다\n",
    "sess = tf.Session()\n",
    "sess.run(tf.global_variables_initializer())\n",
    "\n",
    "# 기존 학습 결과를 적용한 후 추가로 학습한다\n",
    "if tf.train.checkpoint_exists(saveDir):\n",
    "    saver.restore(sess, saveFile)"
   ]
  },
  {
   "cell_type": "code",
   "execution_count": 14,
   "metadata": {},
   "outputs": [
    {
     "name": "stdout",
     "output_type": "stream",
     "text": [
      "cost = 0.250897\n",
      "cost = 0.250049\n",
      "cost = 0.250498\n",
      "cost = 0.250226\n",
      "cost = 0.250262\n",
      "cost = 0.250233\n",
      "cost = 0.249852\n",
      "cost = 0.249671\n",
      "cost = 0.249399\n",
      "cost = 0.249063\n"
     ]
    },
    {
     "data": {
      "text/plain": [
       "'./Saver/predictStock(reg).save/save'"
      ]
     },
     "execution_count": 14,
     "metadata": {},
     "output_type": "execute_result"
    }
   ],
   "source": [
    "# Mini-batch 적용\n",
    "nBatchCnt = 5\n",
    "nBatchSize = int(inputX.shape[0] / nBatchCnt)\n",
    "for i in range(10000):\n",
    "    # Mini-batch 방식으로 학습한다\n",
    "    for n in range(nBatchCnt):\n",
    "        # input 데이터를 Mini-batch 크기에 맞게 자른다\n",
    "        nFrom = n * nBatchSize\n",
    "        nTo = n * nBatchSize + nBatchSize\n",
    "\n",
    "        # 마지막 루프이면 nTo는 input 데이터의 끝까지.\n",
    "        if n == nBatchCnt - 1:\n",
    "            nTo = inputX.shape[0]\n",
    "            \n",
    "        bx = inputX[nFrom : nTo]\n",
    "        by = outputY[nFrom : nTo]\n",
    "        \n",
    "        _, xcost = sess.run([train, cost], feed_dict={x: bx, y: by, alpha:0.001})\n",
    "    \n",
    "    if i % 1000 == 0:\n",
    "        print('cost = %.6f' % xcost)\n",
    "        \n",
    "# 학습 결과를 저장해 둔다\n",
    "saver.save(sess, saveFile)"
   ]
  },
  {
   "cell_type": "code",
   "execution_count": 15,
   "metadata": {},
   "outputs": [
    {
     "data": {
      "text/plain": [
       "array([[2.6  , 2.622, 2.582, 2.604],\n",
       "       [3.028, 3.052, 2.966, 2.984],\n",
       "       [2.564, 2.6  , 2.564, 2.598],\n",
       "       ...,\n",
       "       [2.658, 2.698, 2.64 , 2.686],\n",
       "       [2.662, 2.662, 2.61 , 2.614],\n",
       "       [1.452, 1.472, 1.42 , 1.454]])"
      ]
     },
     "execution_count": 15,
     "metadata": {},
     "output_type": "execute_result"
    }
   ],
   "source": [
    "testX"
   ]
  },
  {
   "cell_type": "code",
   "execution_count": 16,
   "metadata": {},
   "outputs": [],
   "source": [
    "# 학습이 완료되면, Wh, Bh, Wo, Bo 이 모두 업데이트 되었으면, inputX를 넣어서 출력값을 확인한다.\n",
    "# 출력값은 inputY의 추정값이다.\n",
    "yHat = sess.run(predY, feed_dict={x: testX})"
   ]
  },
  {
   "cell_type": "code",
   "execution_count": 17,
   "metadata": {},
   "outputs": [],
   "source": [
    "# yHat[np.where(yHat > 0.5)] = 1\n",
    "# yHat[np.where(yHat < 0.5)] = 0\n",
    "\n",
    "yHat = np.array([1 if  x > 0.5 else 0 for x in yHat]).reshape(-1,1)\n",
    "                                        #하나씩! 돌려"
   ]
  },
  {
   "cell_type": "code",
   "execution_count": 18,
   "metadata": {},
   "outputs": [
    {
     "name": "stdout",
     "output_type": "stream",
     "text": [
      "Accuracy = 0.5271\n"
     ]
    }
   ],
   "source": [
    "accuracy = (testY == yHat).sum() / len(testX)\n",
    "# 다 더해버리면 true가 몇개인지, \n",
    " \n",
    "print(\"Accuracy = %.4f\" % accuracy)"
   ]
  },
  {
   "cell_type": "markdown",
   "metadata": {},
   "source": [
    "# 피쳐 늘려야 할 필요성"
   ]
  }
 ],
 "metadata": {
  "kernelspec": {
   "display_name": "Python 3",
   "language": "python",
   "name": "python3"
  },
  "language_info": {
   "codemirror_mode": {
    "name": "ipython",
    "version": 3
   },
   "file_extension": ".py",
   "mimetype": "text/x-python",
   "name": "python",
   "nbconvert_exporter": "python",
   "pygments_lexer": "ipython3",
   "version": "3.7.3"
  }
 },
 "nbformat": 4,
 "nbformat_minor": 2
}
