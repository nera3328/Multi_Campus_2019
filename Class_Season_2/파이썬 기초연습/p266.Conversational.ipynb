{
 "cells": [
  {
   "cell_type": "code",
   "execution_count": 1,
   "metadata": {},
   "outputs": [],
   "source": [
    "import nltk"
   ]
  },
  {
   "cell_type": "code",
   "execution_count": 2,
   "metadata": {},
   "outputs": [],
   "source": [
    "def builtinEngines(whichOne):\n",
    "    if whichOne == 'eliza':\n",
    "        nltk.chat.eliza.demo()\n",
    "    elif whichOne == 'iesha':\n",
    "        nltk.chat.iesha.demo()\n",
    "    elif whichOne == 'rude':\n",
    "        nltk.chat.rude.demo()\n",
    "    elif whichOne == 'suntsu':\n",
    "        nltk.chat.suntsu.demo()\n",
    "    elif whichOne == 'zen':\n",
    "        nltk.chat.zen.demo()\n",
    "    else:\n",
    "        print(\"unknown built-in chat engine {}\".format(whichOne))"
   ]
  },
  {
   "cell_type": "markdown",
   "metadata": {},
   "source": [
    "#### 참조 : https://www.nltk.org/_modules/nltk/chat/eliza.html"
   ]
  },
  {
   "cell_type": "code",
   "execution_count": 3,
   "metadata": {},
   "outputs": [],
   "source": [
    "def myEngine():\n",
    "    chatpairs = (\n",
    "        (r\"(.*?)Stock price(.*)\",\n",
    "            (\"Today stock price is 100\",\n",
    "            \"I am unable to find out the stock price.\")),\n",
    "        (r\"(.*?)not well(.*)\",\n",
    "            (\"Oh, take care. May be you should visit a doctor\",\n",
    "            \"Did you take some medicine ?\")),\n",
    "        (r\"(.*?)raining(.*)\",\n",
    "            (\"Its monsoon season, what more do you expect ?\",\n",
    "            \"Yes, its good for farmers\")),\n",
    "        (r\"How(.*?)health(.*)\",\n",
    "            (\"I am always healthy.\",\n",
    "            \"I am a program, super healthy!\")),\n",
    "        (r\".*\",\n",
    "            (\"I am good. How are you today ?\",\n",
    "            \"What brings you here ?\"))\n",
    "    )\n",
    "    def chat():\n",
    "        print(\"!\"*80)\n",
    "        print(\" >> my Engine << \")\n",
    "        print(\"Talk to the program using normal english\")\n",
    "        print(\"=\"*80)\n",
    "        print(\"Enter 'quit' when done\")\n",
    "        chatbot = nltk.chat.util.Chat(chatpairs, nltk.chat.util.reflections)\n",
    "        chatbot.converse()\n",
    "\n",
    "    chat()"
   ]
  },
  {
   "cell_type": "code",
   "execution_count": null,
   "metadata": {},
   "outputs": [
    {
     "name": "stdout",
     "output_type": "stream",
     "text": [
      "Therapist\n",
      "---------\n",
      "Talk to the program by typing in plain English, using normal upper-\n",
      "and lower-case letters and punctuation.  Enter \"quit\" when done.\n",
      "========================================================================\n",
      "Hello.  How are you feeling today?\n",
      ">\n",
      ">\n",
      ">I'm fine, Thankyou\n",
      "Why do you tell me you're fine, thankyou?\n",
      ">just do it\n",
      "How do you feel when you say that?\n",
      ">i hate u\n",
      "you hate u.\n",
      ">no\n",
      "How do you feel when you say that?\n",
      ">cuz i hate u\n",
      "I see.\n",
      ">boooooooo\n",
      "How does that make you feel?\n",
      ">u\n",
      "Very interesting.\n"
     ]
    }
   ],
   "source": [
    "builtinEngines('eliza')"
   ]
  },
  {
   "cell_type": "code",
   "execution_count": null,
   "metadata": {},
   "outputs": [
    {
     "name": "stdout",
     "output_type": "stream",
     "text": [
      "Iesha the TeenBoT\n",
      "---------\n",
      "Talk to the program by typing in plain English, using normal upper-\n",
      "and lower-case letters and punctuation.  Enter \"quit\" when done.\n",
      "========================================================================\n",
      "hi!! i'm iesha! who r u??!\n",
      ">how old r u?\n",
      "booooring! how old r u?\n",
      ">no, i said, u\n",
      "do u like anime?\n",
      ">no\n",
      "do u like anime?\n",
      ">no\n",
      "do u watch anime? i like sailor moon! ^_^\n",
      ">no\n",
      "ur funny! kekeke\n",
      ">no\n",
      "boooooring! talk about something else! tell me wat u like!\n",
      ">no\n",
      "i wish i was a kitty!! kekekeke ^_^\n",
      ">no\n",
      "ur funny! kekeke\n",
      ">no\n",
      "ur funny! kekeke\n",
      ">no\n",
      "i wish i was a kitty!! kekekeke ^_^\n",
      ">why?\n",
      "man u ask lots of questions!\n",
      ">why?\n",
      "man u ask lots of questions!\n",
      ">where r u?\n",
      "boooooring!! ur not very fun\n",
      ">야\n",
      "ur funny! kekeke\n",
      ">너왜웃냐\n",
      "boooooring! talk about something else! tell me wat u like!\n",
      ">인종차별자야\n",
      "do u like anime?\n",
      ">너지금한국인한테 무슨말을\n",
      "ur funny! kekeke\n"
     ]
    }
   ],
   "source": [
    "builtinEngines('iesha')"
   ]
  },
  {
   "cell_type": "code",
   "execution_count": null,
   "metadata": {},
   "outputs": [],
   "source": [
    "myEngine()"
   ]
  },
  {
   "cell_type": "code",
   "execution_count": null,
   "metadata": {},
   "outputs": [],
   "source": []
  }
 ],
 "metadata": {
  "kernelspec": {
   "display_name": "Python 3",
   "language": "python",
   "name": "python3"
  },
  "language_info": {
   "codemirror_mode": {
    "name": "ipython",
    "version": 3
   },
   "file_extension": ".py",
   "mimetype": "text/x-python",
   "name": "python",
   "nbconvert_exporter": "python",
   "pygments_lexer": "ipython3",
   "version": "3.7.3"
  }
 },
 "nbformat": 4,
 "nbformat_minor": 2
}
