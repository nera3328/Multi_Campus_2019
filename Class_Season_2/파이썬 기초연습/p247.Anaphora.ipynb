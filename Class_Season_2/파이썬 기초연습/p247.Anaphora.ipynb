{
 "cells": [
  {
   "cell_type": "code",
   "execution_count": 1,
   "metadata": {},
   "outputs": [],
   "source": [
    "import nltk\n",
    "from nltk.chunk import tree2conlltags #구로 묶는 기능--tree형태 태그만들기\n",
    "from nltk.corpus import names #성별 확인용\n",
    "import random"
   ]
  },
  {
   "cell_type": "code",
   "execution_count": 2,
   "metadata": {},
   "outputs": [],
   "source": [
    "def feature(word):\n",
    "    return {'last(1)' : word[-1]} #단순히 마지막 글자로 구분"
   ]
  },
  {
   "cell_type": "code",
   "execution_count": 3,
   "metadata": {},
   "outputs": [],
   "source": [
    "males = [(name, 'male') for name in names.words('male.txt')]\n",
    "females = [(name, 'female') for name in names.words('female.txt')]\n",
    "combined = males + females #리스트 병합\n",
    "random.shuffle(combined) #뒤섞기\n",
    "training = [(feature(name), gender) for (name, gender) in combined] #이름의 마지막 글자와 성별이 training data로 담김"
   ]
  },
  {
   "cell_type": "code",
   "execution_count": 4,
   "metadata": {},
   "outputs": [
    {
     "data": {
      "text/plain": [
       "[('Aamir', 'male'),\n",
       " ('Aaron', 'male'),\n",
       " ('Abbey', 'male'),\n",
       " ('Abbie', 'male'),\n",
       " ('Abbot', 'male'),\n",
       " ('Abbott', 'male'),\n",
       " ('Abby', 'male'),\n",
       " ('Abdel', 'male'),\n",
       " ('Abdul', 'male'),\n",
       " ('Abdulkarim', 'male')]"
      ]
     },
     "execution_count": 4,
     "metadata": {},
     "output_type": "execute_result"
    }
   ],
   "source": [
    "males[:10]"
   ]
  },
  {
   "cell_type": "code",
   "execution_count": 5,
   "metadata": {},
   "outputs": [
    {
     "data": {
      "text/plain": [
       "[('Abagael', 'female'),\n",
       " ('Abagail', 'female'),\n",
       " ('Abbe', 'female'),\n",
       " ('Abbey', 'female'),\n",
       " ('Abbi', 'female'),\n",
       " ('Abbie', 'female'),\n",
       " ('Abby', 'female'),\n",
       " ('Abigael', 'female'),\n",
       " ('Abigail', 'female'),\n",
       " ('Abigale', 'female')]"
      ]
     },
     "execution_count": 5,
     "metadata": {},
     "output_type": "execute_result"
    }
   ],
   "source": [
    "females[:10]"
   ]
  },
  {
   "cell_type": "code",
   "execution_count": 6,
   "metadata": {},
   "outputs": [
    {
     "data": {
      "text/plain": [
       "[('Ida', 'female'),\n",
       " ('Cornelius', 'male'),\n",
       " ('Rafaela', 'female'),\n",
       " ('Roseanna', 'female'),\n",
       " ('Lizabeth', 'female'),\n",
       " ('Van', 'female'),\n",
       " ('Trevar', 'male'),\n",
       " ('Tonnie', 'male'),\n",
       " ('Zsa Zsa', 'female'),\n",
       " ('Margareta', 'female')]"
      ]
     },
     "execution_count": 6,
     "metadata": {},
     "output_type": "execute_result"
    }
   ],
   "source": [
    "combined[:10]"
   ]
  },
  {
   "cell_type": "code",
   "execution_count": 7,
   "metadata": {},
   "outputs": [
    {
     "data": {
      "text/plain": [
       "[({'last(1)': 'a'}, 'female'),\n",
       " ({'last(1)': 's'}, 'male'),\n",
       " ({'last(1)': 'a'}, 'female'),\n",
       " ({'last(1)': 'a'}, 'female'),\n",
       " ({'last(1)': 'h'}, 'female'),\n",
       " ({'last(1)': 'n'}, 'female'),\n",
       " ({'last(1)': 'r'}, 'male'),\n",
       " ({'last(1)': 'e'}, 'male'),\n",
       " ({'last(1)': 'a'}, 'female'),\n",
       " ({'last(1)': 'a'}, 'female')]"
      ]
     },
     "execution_count": 7,
     "metadata": {},
     "output_type": "execute_result"
    }
   ],
   "source": [
    "training[:10]"
   ]
  },
  {
   "cell_type": "code",
   "execution_count": 8,
   "metadata": {},
   "outputs": [],
   "source": [
    "classifier = nltk.NaiveBayesClassifier.train(training)"
   ]
  },
  {
   "cell_type": "code",
   "execution_count": 9,
   "metadata": {},
   "outputs": [],
   "source": [
    "sentences = [\n",
    "    \"John is a man. He walks\",\n",
    "    \"John and Mary are married. They have two kids\",\n",
    "    \"In order for Ravi to be successful, he should follow John\",\n",
    "    \"John met Mary in Barista. She asked him to order a Pizza\"\n",
    "]"
   ]
  },
  {
   "cell_type": "code",
   "execution_count": 10,
   "metadata": {},
   "outputs": [],
   "source": [
    "def gender(word):\n",
    "    return classifier.classify(feature(word))"
   ]
  },
  {
   "cell_type": "code",
   "execution_count": 11,
   "metadata": {},
   "outputs": [
    {
     "name": "stdout",
     "output_type": "stream",
     "text": [
      "John is a man. He walks\n",
      "\t [('John', 'male'), 'He']\n",
      "John and Mary are married. They have two kids\n",
      "\t [('John', 'male'), 'and', ('Mary', 'female'), 'They']\n",
      "In order for Ravi to be successful, he should follow John\n",
      "\t [('Ravi', 'female'), 'he', ('John', 'male')]\n",
      "John met Mary in Barista. She asked him to order a Pizza\n",
      "\t [('John', 'male'), ('Mary', 'female'), 'She', 'him']\n"
     ]
    }
   ],
   "source": [
    "for sent in sentences:\n",
    "    chunks = nltk.ne_chunk(nltk.pos_tag(nltk.word_tokenize(sent)), binary=False) #토큰 분리, 품사 태깅, 청킹/ named ntt로 표기, 사람이름 person으로 표기!\n",
    "    stack = []\n",
    "    print(sent)\n",
    "    items = tree2conlltags(chunks) #tree->tag 폼 변환\n",
    "    for item in items:\n",
    "        if item[1] == 'NNP' and (item[2] == 'B-PERSON' or item[2] == 'O'): #고유명사\n",
    "            stack.append((item[0], gender(item[0]))) #stack이라는 변수에 John, male 을 넣어줌\n",
    "        elif item[1] == 'CC': #등위접속사 John and Mary 처럼 이름 뒤 이름이 발로 나올 확률\n",
    "            stack.append(item[0])\n",
    "        elif item[1] == 'PRP':# 대명사\n",
    "            stack.append(item[0])\n",
    "    print(\"\\t {}\".format(stack))"
   ]
  },
  {
   "cell_type": "code",
   "execution_count": null,
   "metadata": {},
   "outputs": [],
   "source": [
    "he는 john이다, male이다 이런식으로 찾아줌"
   ]
  },
  {
   "cell_type": "code",
   "execution_count": 12,
   "metadata": {},
   "outputs": [
    {
     "data": {
      "text/plain": [
       "[('John', 'NNP', 'B-PERSON'),\n",
       " ('met', 'VBD', 'O'),\n",
       " ('Mary', 'NNP', 'O'),\n",
       " ('in', 'IN', 'O'),\n",
       " ('Barista', 'NNP', 'B-GPE'),\n",
       " ('.', '.', 'O'),\n",
       " ('She', 'PRP', 'O'),\n",
       " ('asked', 'VBD', 'O'),\n",
       " ('him', 'PRP', 'O'),\n",
       " ('to', 'TO', 'O'),\n",
       " ('order', 'NN', 'O'),\n",
       " ('a', 'DT', 'O'),\n",
       " ('Pizza', 'NN', 'O')]"
      ]
     },
     "execution_count": 12,
     "metadata": {},
     "output_type": "execute_result"
    }
   ],
   "source": [
    "items"
   ]
  },
  {
   "cell_type": "code",
   "execution_count": 13,
   "metadata": {},
   "outputs": [
    {
     "name": "stdout",
     "output_type": "stream",
     "text": [
      "(S\n",
      "  (PERSON John/NNP)\n",
      "  met/VBD\n",
      "  Mary/NNP\n",
      "  in/IN\n",
      "  (GPE Barista/NNP)\n",
      "  ./.\n",
      "  She/PRP\n",
      "  asked/VBD\n",
      "  him/PRP\n",
      "  to/TO\n",
      "  order/NN\n",
      "  a/DT\n",
      "  Pizza/NN)\n"
     ]
    }
   ],
   "source": [
    "print(chunks)"
   ]
  },
  {
   "cell_type": "code",
   "execution_count": null,
   "metadata": {},
   "outputs": [],
   "source": []
  }
 ],
 "metadata": {
  "kernelspec": {
   "display_name": "Python 3",
   "language": "python",
   "name": "python3"
  },
  "language_info": {
   "codemirror_mode": {
    "name": "ipython",
    "version": 3
   },
   "file_extension": ".py",
   "mimetype": "text/x-python",
   "name": "python",
   "nbconvert_exporter": "python",
   "pygments_lexer": "ipython3",
   "version": "3.7.3"
  }
 },
 "nbformat": 4,
 "nbformat_minor": 2
}
