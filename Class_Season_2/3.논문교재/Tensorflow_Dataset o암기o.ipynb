{
 "cells": [
  {
   "cell_type": "code",
   "execution_count": 5,
   "metadata": {},
   "outputs": [],
   "source": [
    "import numpy as np\n",
    "from keras.layers import Dense, LSTM, Bidirectional,Input\n",
    "from keras.models import Model\n",
    "import tensorflow as tf"
   ]
  },
  {
   "cell_type": "code",
   "execution_count": 15,
   "metadata": {},
   "outputs": [],
   "source": [
    "x_train = np.random.random([10,8])\n",
    "y_train = np.random.choice([0,1],[10,1])\n",
    "x_test = np.random.random([1,8])\n",
    "tf.reset_default_graph()"
   ]
  },
  {
   "cell_type": "code",
   "execution_count": 16,
   "metadata": {},
   "outputs": [],
   "source": [
    "dataset = tf.data.Dataset.from_tensor_slices((x_train, y_train))\\\n",
    ".repeat().batch(12).make_one_shot_iterator().get_next()"
   ]
  },
  {
   "cell_type": "code",
   "execution_count": 17,
   "metadata": {},
   "outputs": [
    {
     "data": {
      "text/plain": [
       "array([[0.125, 0.655, 0.585, 0.769, 0.045, 0.577, 0.704, 0.953],\n",
       "       [0.666, 0.009, 0.317, 0.164, 0.049, 0.037, 0.087, 0.639],\n",
       "       [0.967, 0.651, 0.482, 0.403, 0.135, 0.921, 0.393, 0.182],\n",
       "       [0.788, 0.022, 0.924, 0.711, 0.518, 0.692, 0.957, 0.722],\n",
       "       [0.417, 0.94 , 0.001, 0.091, 0.021, 0.201, 0.506, 0.079],\n",
       "       [0.504, 0.23 , 0.688, 0.9  , 0.77 , 0.993, 0.8  , 0.086],\n",
       "       [0.602, 0.558, 0.704, 0.845, 0.429, 0.882, 0.542, 0.981],\n",
       "       [0.558, 0.292, 0.524, 0.278, 0.249, 0.064, 0.482, 0.47 ],\n",
       "       [0.018, 0.517, 0.816, 0.084, 0.789, 0.553, 0.936, 0.941],\n",
       "       [0.239, 0.64 , 0.676, 0.996, 0.951, 0.683, 0.641, 0.87 ]])"
      ]
     },
     "execution_count": 17,
     "metadata": {},
     "output_type": "execute_result"
    }
   ],
   "source": [
    "np.round(x_train, 3)"
   ]
  },
  {
   "cell_type": "code",
   "execution_count": 18,
   "metadata": {},
   "outputs": [],
   "source": [
    "\n",
    "xInput=8\n",
    "hidden=12\n",
    "xOutput=1\n",
    "x=tf.placeholder(tf.float32, shape=[None, xInput])\n",
    "y=tf.placeholder(tf.float32, shape=[None, xOutput])"
   ]
  },
  {
   "cell_type": "code",
   "execution_count": 19,
   "metadata": {},
   "outputs": [],
   "source": [
    "#tensor flow\n",
    "#wh=tf.Variable(tf.truncated_normal([xInput, hidden]),dtype=tf.float32)\n",
    "#bh=tf.Variable(tf.zeros(hidden),dtype=tf.float32)\n",
    "#H1=tf.sigmoid(tf.matmul(x,wh)+bh)\n",
    "\n",
    "#wo=tf.Variable(tf.truncated_normal([hidden, xOutput]),dtype=tf.float32)\n",
    "#bo=tf.Variable(tf.zeros(xOutput), dtype=tf.float32)\n",
    "#predY=tf.sigmoid(tf.matmul(H1,wo)+bo)\n",
    "\n",
    "#LSTM\n",
    "H1=Dense(hidden, activation='relu')(x)\n",
    "\n",
    "predY=Dense(xOutput, activation='sigmoid')(H1)"
   ]
  },
  {
   "cell_type": "code",
   "execution_count": 20,
   "metadata": {},
   "outputs": [],
   "source": [
    "clipY=tf.clip_by_value(predY,0.000001,0.99999)\n",
    "cost=tf.reduce_mean(y * tf.log(clipY) + (1-y) * tf.log(1-clipY))\n",
    "#                                                  /\n",
    "#cost=tf.log(tf.subtract(tf.constant(1),predY)) 원래 얘가 정석! 근데 너무 복잡. "
   ]
  },
  {
   "cell_type": "code",
   "execution_count": 21,
   "metadata": {},
   "outputs": [],
   "source": [
    "optimizer=tf.train.AdamOptimizer(0.05)\n",
    "train=optimizer.minimize(cost)"
   ]
  },
  {
   "cell_type": "code",
   "execution_count": 22,
   "metadata": {},
   "outputs": [],
   "source": [
    "sess=tf.Session()\n",
    "sess.run(tf.global_variables_initializer())"
   ]
  },
  {
   "cell_type": "raw",
   "metadata": {},
   "source": [
    "for i in range(1000):\n",
    "    _, cost_ = sess.run([train,cost], feed_dict={x: x_train, y: y_train}) #feed_dict는 batch update이지만 한꺼번에 다 집어넣음\n",
    "    if i % 100 ==0:\n",
    "        print(\"%d: lost = %4f\"%(i,cost_))"
   ]
  },
  {
   "cell_type": "code",
   "execution_count": 23,
   "metadata": {},
   "outputs": [
    {
     "name": "stdout",
     "output_type": "stream",
     "text": [
      "0: lost = -0.669850\n",
      "100: lost = -4.796493\n",
      "200: lost = -4.796493\n",
      "300: lost = -4.796493\n",
      "400: lost = -4.796493\n",
      "500: lost = -4.796493\n",
      "600: lost = -4.796493\n",
      "700: lost = -4.796493\n",
      "800: lost = -4.796493\n",
      "900: lost = -4.796493\n"
     ]
    }
   ],
   "source": [
    "for i in range(1000):\n",
    "    bx, by=sess.run(dataset)\n",
    "    _, cost_ = sess.run([train, cost], feed_dict = {x: bx, y: by}) \n",
    "    #feed_dict는 batch update이지만 한꺼번에 다 집어넣음\n",
    "    if i % 100 == 0:\n",
    "        print(\"%d: lost = %4f\"%(i, cost_))"
   ]
  }
 ],
 "metadata": {
  "kernelspec": {
   "display_name": "Python 3",
   "language": "python",
   "name": "python3"
  },
  "language_info": {
   "codemirror_mode": {
    "name": "ipython",
    "version": 3
   },
   "file_extension": ".py",
   "mimetype": "text/x-python",
   "name": "python",
   "nbconvert_exporter": "python",
   "pygments_lexer": "ipython3",
   "version": "3.7.3"
  }
 },
 "nbformat": 4,
 "nbformat_minor": 2
}
