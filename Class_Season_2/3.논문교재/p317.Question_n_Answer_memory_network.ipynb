{
 "cells": [
  {
   "cell_type": "code",
   "execution_count": 1,
   "metadata": {},
   "outputs": [],
   "source": [
    "import collections\n",
    "import itertools\n",
    "import nltk\n",
    "import numpy as np\n",
    "import matplotlib.pyplot as plt\n",
    "import os\n",
    "import random"
   ]
  },
  {
   "cell_type": "markdown",
   "metadata": {},
   "source": [
    "#### ...train.txt 내용\n",
    "1 Mary moved to the bathroom.<br>------------story\n",
    "2 John went to the hallway.<br>--------------story\n",
    "3 Where is Mary? (tab)bathroom(tab)1---------Question---An"
   ]
  },
  {
   "cell_type": "markdown",
   "metadata": {},
   "source": [
    " a='\\t I\\tlove you .....\\n'\n",
    " a.strip()->'I \\t love you'"
   ]
  },
  {
   "cell_type": "code",
   "execution_count": 3,
   "metadata": {},
   "outputs": [
    {
     "name": "stdout",
     "output_type": "stream",
     "text": [
      "Train observations: 10000 Test observations: 1000\n"
     ]
    }
   ],
   "source": [
    "def get_data(infile): #위의 글 한 라인씩 읽음\n",
    "    stories, questions, answers = [], [], []\n",
    "    story_text = []\n",
    "    fin = open(infile, \"r\") \n",
    "    for line in fin:\n",
    "        line = line.strip()                # strip() : 양쪽 끝에 있는 공백, \\t, \\n 제거\n",
    "        lno, text = line.split(\" \", 1)     # 맨 앞의 라인 번호 분리, 1을 안써주면 공백마다 분리시킴, \n",
    "                                           # lno=1, text는 Mary moved to the bathroom.로 배정\n",
    "        if \"\\t\" in text:                   # 세 번째 문장에는 \\t가 두개 있음.\n",
    "            question, answer, _ = text.split(\"\\t\")\n",
    "            stories.append(story_text)     # 처음 두 문장\n",
    "            questions.append(question)     # 세 번째 문장의 질문\n",
    "            answers.append(answer)         # 세 번째 문장의 답변\n",
    "            story_text = []\n",
    "        else:\n",
    "            story_text.append(text)        # 처음 두 문장이 하나의 리스트에 들어감\n",
    "    fin.close()\n",
    "    return stories, questions, answers\n",
    "\n",
    "# get the data\n",
    "data_train = get_data(\"qa1_single-supporting-fact_train.txt\")\n",
    "data_test = get_data(\"qa1_single-supporting-fact_test.txt\")\n",
    "\n",
    "print(\"Train observations:\",len(data_train[0]),\"Test observations:\", len(data_test[0]))"
   ]
  },
  {
   "cell_type": "markdown",
   "metadata": {},
   "source": [
    "첫 번째 에피소딕 스토리, 질문(Q), 답변(A) 확인"
   ]
  },
  {
   "cell_type": "code",
   "execution_count": 4,
   "metadata": {},
   "outputs": [
    {
     "name": "stdout",
     "output_type": "stream",
     "text": [
      "스토리 =  ['Mary moved to the bathroom.', 'John went to the hallway.']\n",
      "질  문 =  Where is Mary? \n",
      "답  변 =  bathroom\n"
     ]
    }
   ],
   "source": [
    "print(\"스토리 = \", data_train[0][0])\n",
    "print(\"질  문 = \", data_train[1][0])\n",
    "print(\"답  변 = \", data_train[2][0])"
   ]
  },
  {
   "cell_type": "markdown",
   "metadata": {},
   "source": [
    "#### Building Vocab dictionary from Train & Test data"
   ]
  },
  {
   "cell_type": "code",
   "execution_count": 8,
   "metadata": {
    "scrolled": true
   },
   "outputs": [
    {
     "name": "stdout",
     "output_type": "stream",
     "text": [
      "vocabulary size: 22\n",
      "{'to': 1, 'the': 2, '.': 3, 'where': 4, 'is': 5, '?': 6, 'went': 7, 'john': 8, 'sandra': 9, 'mary': 10, 'daniel': 11, 'bathroom': 12, 'office': 13, 'garden': 14, 'hallway': 15, 'kitchen': 16, 'bedroom': 17, 'journeyed': 18, 'travelled': 19, 'back': 20, 'moved': 21, 'PAD': 0}\n"
     ]
    }
   ],
   "source": [
    "dictnry = collections.Counter()\n",
    "for stories, questions, answers in [data_train, data_test]:#[0]:story,[1]:question,[2]:answer\n",
    "    for story in stories:\n",
    "        for sent in story:\n",
    "            for word in nltk.word_tokenize(sent):\n",
    "                dictnry[word.lower()] += 1#사용빈도 count 작업\n",
    "                \n",
    "    for question in questions:\n",
    "        for word in nltk.word_tokenize(question):\n",
    "            dictnry[word.lower()] += 1\n",
    "            \n",
    "    for answer in answers:\n",
    "        for word in nltk.word_tokenize(answer):\n",
    "            dictnry[word.lower()] += 1\n",
    "\n",
    "word2indx = {w:(i+1) for i,(w,_) in enumerate(dictnry.most_common())}#dictionary읽기, 가장 빈도가 높은 순으로 \n",
    "#           숫자 붙여\n",
    "                                                                #()안에는 개수 지정\n",
    "word2indx[\"PAD\"] = 0       #padding 인덱스 붙임\n",
    "indx2word = {v:k for k,v in word2indx.items()}\n",
    "\n",
    "vocab_size = len(word2indx)\n",
    "print(\"vocabulary size:\",len(word2indx))\n",
    "print(word2indx)\n",
    "\n",
    "#빈도 높은 순으로 정렬,22단어"
   ]
  },
  {
   "cell_type": "markdown",
   "metadata": {},
   "source": [
    "#### compute max sequence length for each entity (제일 긴 문장기준-길이 맞춰주기-)"
   ]
  },
  {
   "cell_type": "code",
   "execution_count": 9,
   "metadata": {},
   "outputs": [
    {
     "name": "stdout",
     "output_type": "stream",
     "text": [
      "Story maximum length: 14 Question maximum length: 4\n"
     ]
    }
   ],
   "source": [
    "story_maxlen = 0\n",
    "question_maxlen = 0\n",
    "\n",
    "# 2 문장의 story를 합쳤을 때의 단어 개수 = 길이\n",
    "for stories, questions, answers in [data_train, data_test]:\n",
    "    for story in stories: # stories = [\"   \", \"  \"]-->story 두 개씩 문장에 들어있던 것\n",
    "        story_len = 0\n",
    "        for sent in story:#위의 story의 sentence 하나 부르기\n",
    "            swords = nltk.word_tokenize(sent)#swords=[\"John\",\"went\",\"to\"...]->단어 개수\n",
    "            story_len += len(swords)\n",
    "        if story_len > story_maxlen:\n",
    "            story_maxlen = story_len #story의 최대 길이 구하기위해 실행된 문장임.\n",
    "            \n",
    "            #위에 것 question 버전\n",
    "    for question in questions:\n",
    "        question_len = len(nltk.word_tokenize(question))\n",
    "        if question_len > question_maxlen:\n",
    "            question_maxlen = question_len\n",
    "            \n",
    "print (\"Story maximum length:\",story_maxlen,\"Question maximum length:\",question_maxlen)\n",
    "#표준화 시키기 위해 각각 최대 길이를 찾아냄----->모든 스토리-14로 표준화"
   ]
  },
  {
   "cell_type": "code",
   "execution_count": 10,
   "metadata": {},
   "outputs": [],
   "source": [
    "from keras.layers import Input\n",
    "from keras.layers.core import Activation, Dense, Dropout, Permute\n",
    "from keras.layers.embeddings import Embedding\n",
    "from keras.layers.merge import add, concatenate, dot\n",
    "from keras.layers.recurrent import LSTM\n",
    "from keras.models import Model\n",
    "from keras.preprocessing.sequence import pad_sequences\n",
    "from keras.utils import np_utils"
   ]
  },
  {
   "cell_type": "markdown",
   "metadata": {},
   "source": [
    "#### Converting data into Vectorized form\n",
    "Xstrain[0] = [0,0,8,21,1,2,12,3,9,7,1,2,13,3]   - 14개<br>\n",
    "Xqtrain[0] = [4,5,8,6] - 4개<br>\n",
    "Ytrain[0] = [0,0,0,0,...0,1,0,0,0,]   - 22개의 one-hot  \n",
    "  \n",
    "ex) Story=[\"John went to the garden.\",  \n",
    "           \"Sandara went to the bathroom\"]--Xstrain   \n",
    "    Question=[\"$where is sandara?\"]---------Xqtrain  \n",
    "    Answer=[\"bathroom\"]---------------------Ytrain"
   ]
  },
  {
   "cell_type": "code",
   "execution_count": 11,
   "metadata": {},
   "outputs": [
    {
     "name": "stdout",
     "output_type": "stream",
     "text": [
      "['John travelled to the hallway.', 'Mary journeyed to the bathroom.']\n",
      "[[8, 19, 1, 2, 15, 3], [10, 18, 1, 2, 12, 3]]\n",
      "[8, 19, 1, 2, 15, 3, 10, 18, 1, 2, 12, 3]\n"
     ]
    }
   ],
   "source": [
    "# list of list 연습\n",
    "for story, question, answer in zip(stories, questions, answers):\n",
    "    xs = [[word2indx[w.lower()] for w in nltk.word_tokenize(s)] for s in story]\n",
    "    print(story)\n",
    "    print(xs)\n",
    "    xs = list(itertools.chain.from_iterable(xs))\n",
    "    print(xs)\n",
    "    break"
   ]
  },
  {
   "cell_type": "code",
   "execution_count": 12,
   "metadata": {},
   "outputs": [
    {
     "name": "stdout",
     "output_type": "stream",
     "text": [
      "Train story (10000, 14) Train question (10000, 4) Train answer (10000, 22)\n",
      "Test story (1000, 14) Test question (1000, 4) Test answer (1000, 22)\n"
     ]
    }
   ],
   "source": [
    "def data_vectorization(data, word2indx, story_maxlen, question_maxlen):\n",
    "    Xs, Xq, Y = [], [], []\n",
    "    stories, questions, answers = data\n",
    "    for story, question, answer in zip(stories, questions, answers):\n",
    "        xs = [[word2indx[w.lower()] for w in nltk.word_tokenize(s)] for s in story]\n",
    "        xs = list(itertools.chain.from_iterable(xs))   # 2개 스토리를 하나로 합친다\n",
    "        xq = [word2indx[w.lower()] for w in nltk.word_tokenize(question)]\n",
    "        Xs.append(xs)\n",
    "        Xq.append(xq)\n",
    "        Y.append(word2indx[answer.lower()])\n",
    "        \n",
    "    return pad_sequences(Xs, maxlen=story_maxlen),\\\n",
    "           pad_sequences(Xq, maxlen=question_maxlen),\\\n",
    "           np_utils.to_categorical(Y, num_classes=len(word2indx))\n",
    "\n",
    "Xstrain, Xqtrain, Ytrain = data_vectorization(data_train, word2indx, story_maxlen, question_maxlen)\n",
    "Xstest, Xqtest, Ytest = data_vectorization(data_test, word2indx, story_maxlen, question_maxlen)\n",
    "\n",
    "print(\"Train story\",Xstrain.shape,\"Train question\", Xqtrain.shape,\"Train answer\", Ytrain.shape)\n",
    "print( \"Test story\",Xstest.shape, \"Test question\",Xqtest.shape, \"Test answer\",Ytest.shape)"
   ]
  },
  {
   "cell_type": "code",
   "execution_count": 13,
   "metadata": {},
   "outputs": [
    {
     "data": {
      "text/plain": [
       "array([ 0,  0, 10, 21,  1,  2, 12,  3,  8,  7,  1,  2, 15,  3])"
      ]
     },
     "execution_count": 13,
     "metadata": {},
     "output_type": "execute_result"
    }
   ],
   "source": [
    "Xstrain[0]"
   ]
  },
  {
   "cell_type": "markdown",
   "metadata": {},
   "source": [
    "#### Model Parameters"
   ]
  },
  {
   "cell_type": "code",
   "execution_count": 14,
   "metadata": {},
   "outputs": [
    {
     "name": "stdout",
     "output_type": "stream",
     "text": [
      "WARNING:tensorflow:From C:\\ProgramData\\Anaconda3\\lib\\site-packages\\tensorflow\\python\\framework\\op_def_library.py:263: colocate_with (from tensorflow.python.framework.ops) is deprecated and will be removed in a future version.\n",
      "Instructions for updating:\n",
      "Colocations handled automatically by placer.\n",
      "WARNING:tensorflow:From C:\\ProgramData\\Anaconda3\\lib\\site-packages\\keras\\backend\\tensorflow_backend.py:3445: calling dropout (from tensorflow.python.ops.nn_ops) with keep_prob is deprecated and will be removed in a future version.\n",
      "Instructions for updating:\n",
      "Please use `rate` instead of `keep_prob`. Rate should be set to `rate = 1 - keep_prob`.\n",
      "__________________________________________________________________________________________________\n",
      "Layer (type)                    Output Shape         Param #     Connected to                     \n",
      "==================================================================================================\n",
      "input_1 (InputLayer)            (None, 14)           0                                            \n",
      "__________________________________________________________________________________________________\n",
      "input_2 (InputLayer)            (None, 4)            0                                            \n",
      "__________________________________________________________________________________________________\n",
      "embedding_1 (Embedding)         (None, 14, 128)      2816        input_1[0][0]                    \n",
      "__________________________________________________________________________________________________\n",
      "embedding_2 (Embedding)         (None, 4, 128)       2816        input_2[0][0]                    \n",
      "__________________________________________________________________________________________________\n",
      "dropout_1 (Dropout)             (None, 14, 128)      0           embedding_1[0][0]                \n",
      "__________________________________________________________________________________________________\n",
      "dropout_2 (Dropout)             (None, 4, 128)       0           embedding_2[0][0]                \n",
      "__________________________________________________________________________________________________\n",
      "embedding_3 (Embedding)         (None, 14, 4)        88          input_1[0][0]                    \n",
      "__________________________________________________________________________________________________\n",
      "dot_1 (Dot)                     (None, 14, 4)        0           dropout_1[0][0]                  \n",
      "                                                                 dropout_2[0][0]                  \n",
      "__________________________________________________________________________________________________\n",
      "dropout_3 (Dropout)             (None, 14, 4)        0           embedding_3[0][0]                \n",
      "__________________________________________________________________________________________________\n",
      "add_1 (Add)                     (None, 14, 4)        0           dot_1[0][0]                      \n",
      "                                                                 dropout_3[0][0]                  \n",
      "__________________________________________________________________________________________________\n",
      "permute_1 (Permute)             (None, 4, 14)        0           add_1[0][0]                      \n",
      "__________________________________________________________________________________________________\n",
      "concatenate_1 (Concatenate)     (None, 4, 142)       0           permute_1[0][0]                  \n",
      "                                                                 dropout_2[0][0]                  \n",
      "__________________________________________________________________________________________________\n",
      "lstm_1 (LSTM)                   (None, 64)           52992       concatenate_1[0][0]              \n",
      "__________________________________________________________________________________________________\n",
      "dropout_4 (Dropout)             (None, 64)           0           lstm_1[0][0]                     \n",
      "__________________________________________________________________________________________________\n",
      "dense_1 (Dense)                 (None, 22)           1430        dropout_4[0][0]                  \n",
      "__________________________________________________________________________________________________\n",
      "activation_1 (Activation)       (None, 22)           0           dense_1[0][0]                    \n",
      "==================================================================================================\n",
      "Total params: 60,142\n",
      "Trainable params: 60,142\n",
      "Non-trainable params: 0\n",
      "__________________________________________________________________________________________________\n",
      "None\n"
     ]
    }
   ],
   "source": [
    "EMBEDDING_SIZE = 128\n",
    "LATENT_SIZE = 64\n",
    "BATCH_SIZE = 64\n",
    "NUM_EPOCHS = 40\n",
    "\n",
    "# Inputs\n",
    "story_input = Input(shape=(story_maxlen,))\n",
    "question_input = Input(shape=(question_maxlen,))\n",
    "\n",
    "# Story encoder embedding\n",
    "story_encoder = Embedding(input_dim=vocab_size, output_dim=EMBEDDING_SIZE,\n",
    "                         input_length=story_maxlen)(story_input)\n",
    "story_encoder = Dropout(rate = 0.2)(story_encoder)\n",
    "\n",
    "# Question encoder embedding\n",
    "question_encoder = Embedding(input_dim=vocab_size,output_dim=EMBEDDING_SIZE,\n",
    "                            input_length=question_maxlen)(question_input)\n",
    "question_encoder = Dropout(rate = 0.3)(question_encoder)\n",
    "\n",
    "# Match between story and question\n",
    "match = dot([story_encoder, question_encoder], axes=[2,2])\n",
    "\n",
    "# Encode story into vector space of question\n",
    "story_encoder_c = Embedding(input_dim=vocab_size,output_dim=question_maxlen,\n",
    "                           input_length=story_maxlen)(story_input)\n",
    "story_encoder_c = Dropout(rate = 0.3)(story_encoder_c)\n",
    "\n",
    "# Combine match and story vectors\n",
    "response = add([match, story_encoder_c])\n",
    "response = Permute((2, 1))(response)\n",
    "\n",
    "# Combine response and question vectors to answers space\n",
    "answer = concatenate([response, question_encoder], axis=-1)\n",
    "answer = LSTM(LATENT_SIZE)(answer)\n",
    "answer = Dropout(rate = 0.2)(answer)\n",
    "answer = Dense(vocab_size)(answer)\n",
    "output = Activation(\"softmax\")(answer)\n",
    "\n",
    "model = Model(inputs=[story_input, question_input], outputs=output)\n",
    "model.compile(optimizer=\"adam\", loss=\"categorical_crossentropy\",metrics=[\"accuracy\"])\n",
    "print (model.summary())"
   ]
  },
  {
   "cell_type": "markdown",
   "metadata": {},
   "source": [
    "#### Model Training"
   ]
  },
  {
   "cell_type": "code",
   "execution_count": 15,
   "metadata": {},
   "outputs": [
    {
     "name": "stdout",
     "output_type": "stream",
     "text": [
      "WARNING:tensorflow:From C:\\ProgramData\\Anaconda3\\lib\\site-packages\\tensorflow\\python\\ops\\math_ops.py:3066: to_int32 (from tensorflow.python.ops.math_ops) is deprecated and will be removed in a future version.\n",
      "Instructions for updating:\n",
      "Use tf.cast instead.\n",
      "Train on 10000 samples, validate on 1000 samples\n",
      "Epoch 1/40\n",
      "10000/10000 [==============================] - 5s 504us/step - loss: 2.0352 - acc: 0.1728 - val_loss: 1.7256 - val_acc: 0.2910\n",
      "Epoch 2/40\n",
      "10000/10000 [==============================] - 1s 132us/step - loss: 1.6734 - acc: 0.2757 - val_loss: 1.6406 - val_acc: 0.3610\n",
      "Epoch 3/40\n",
      "10000/10000 [==============================] - 1s 150us/step - loss: 1.5564 - acc: 0.4137 - val_loss: 1.4667 - val_acc: 0.5130\n",
      "Epoch 4/40\n",
      "10000/10000 [==============================] - 1s 145us/step - loss: 1.4028 - acc: 0.5132 - val_loss: 1.3703 - val_acc: 0.5260\n",
      "Epoch 5/40\n",
      "10000/10000 [==============================] - 1s 134us/step - loss: 1.3364 - acc: 0.5206 - val_loss: 1.3201 - val_acc: 0.5270\n",
      "Epoch 6/40\n",
      "10000/10000 [==============================] - 2s 157us/step - loss: 1.2953 - acc: 0.5160 - val_loss: 1.2974 - val_acc: 0.5220\n",
      "Epoch 7/40\n",
      "10000/10000 [==============================] - 1s 137us/step - loss: 1.2659 - acc: 0.5239 - val_loss: 1.2791 - val_acc: 0.5200\n",
      "Epoch 8/40\n",
      "10000/10000 [==============================] - 2s 164us/step - loss: 1.2536 - acc: 0.5213 - val_loss: 1.2803 - val_acc: 0.5210\n",
      "Epoch 9/40\n",
      "10000/10000 [==============================] - 2s 156us/step - loss: 1.2351 - acc: 0.5313 - val_loss: 1.2542 - val_acc: 0.5580\n",
      "Epoch 10/40\n",
      "10000/10000 [==============================] - 1s 144us/step - loss: 1.1805 - acc: 0.5845 - val_loss: 1.1645 - val_acc: 0.6130\n",
      "Epoch 11/40\n",
      "10000/10000 [==============================] - 1s 142us/step - loss: 1.0779 - acc: 0.6509 - val_loss: 1.0154 - val_acc: 0.6870\n",
      "Epoch 12/40\n",
      "10000/10000 [==============================] - 1s 149us/step - loss: 0.9031 - acc: 0.7244 - val_loss: 0.8420 - val_acc: 0.7570\n",
      "Epoch 13/40\n",
      "10000/10000 [==============================] - 1s 145us/step - loss: 0.7687 - acc: 0.7687 - val_loss: 0.7371 - val_acc: 0.7540\n",
      "Epoch 14/40\n",
      "10000/10000 [==============================] - 2s 157us/step - loss: 0.6881 - acc: 0.7833 - val_loss: 0.6660 - val_acc: 0.7560\n",
      "Epoch 15/40\n",
      "10000/10000 [==============================] - 2s 159us/step - loss: 0.6342 - acc: 0.7867 - val_loss: 0.6187 - val_acc: 0.7580\n",
      "Epoch 16/40\n",
      "10000/10000 [==============================] - 2s 172us/step - loss: 0.5944 - acc: 0.7884 - val_loss: 0.5972 - val_acc: 0.7560\n",
      "Epoch 17/40\n",
      "10000/10000 [==============================] - 1s 146us/step - loss: 0.5675 - acc: 0.7953 - val_loss: 0.5864 - val_acc: 0.7520\n",
      "Epoch 18/40\n",
      "10000/10000 [==============================] - 1s 148us/step - loss: 0.5506 - acc: 0.7917 - val_loss: 0.5742 - val_acc: 0.7530\n",
      "Epoch 19/40\n",
      "10000/10000 [==============================] - 1s 147us/step - loss: 0.5321 - acc: 0.7969 - val_loss: 0.5684 - val_acc: 0.7590\n",
      "Epoch 20/40\n",
      "10000/10000 [==============================] - 1s 150us/step - loss: 0.5248 - acc: 0.7927 - val_loss: 0.5689 - val_acc: 0.7560\n",
      "Epoch 21/40\n",
      "10000/10000 [==============================] - 2s 154us/step - loss: 0.5109 - acc: 0.8020 - val_loss: 0.5702 - val_acc: 0.7570\n",
      "Epoch 22/40\n",
      "10000/10000 [==============================] - 2s 156us/step - loss: 0.5057 - acc: 0.7983 - val_loss: 0.5656 - val_acc: 0.7570\n",
      "Epoch 23/40\n",
      "10000/10000 [==============================] - 2s 157us/step - loss: 0.4967 - acc: 0.8015 - val_loss: 0.5694 - val_acc: 0.7480\n",
      "Epoch 24/40\n",
      "10000/10000 [==============================] - 2s 154us/step - loss: 0.4894 - acc: 0.8003 - val_loss: 0.5605 - val_acc: 0.7610\n",
      "Epoch 25/40\n",
      "10000/10000 [==============================] - 2s 150us/step - loss: 0.4824 - acc: 0.8046 - val_loss: 0.5557 - val_acc: 0.7650\n",
      "Epoch 26/40\n",
      "10000/10000 [==============================] - 2s 156us/step - loss: 0.4763 - acc: 0.8056 - val_loss: 0.5685 - val_acc: 0.7590\n",
      "Epoch 27/40\n",
      "10000/10000 [==============================] - 2s 153us/step - loss: 0.4686 - acc: 0.8079 - val_loss: 0.5569 - val_acc: 0.7570\n",
      "Epoch 28/40\n",
      "10000/10000 [==============================] - 2s 159us/step - loss: 0.4673 - acc: 0.8070 - val_loss: 0.5618 - val_acc: 0.7500\n",
      "Epoch 29/40\n",
      "10000/10000 [==============================] - 2s 154us/step - loss: 0.4650 - acc: 0.8117 - val_loss: 0.5656 - val_acc: 0.7560\n",
      "Epoch 30/40\n",
      "10000/10000 [==============================] - 2s 162us/step - loss: 0.4569 - acc: 0.8130 - val_loss: 0.5614 - val_acc: 0.7610\n",
      "Epoch 31/40\n",
      "10000/10000 [==============================] - 2s 183us/step - loss: 0.4537 - acc: 0.8175 - val_loss: 0.5684 - val_acc: 0.7550\n",
      "Epoch 32/40\n",
      "10000/10000 [==============================] - 2s 168us/step - loss: 0.4447 - acc: 0.8205 - val_loss: 0.5720 - val_acc: 0.7580\n",
      "Epoch 33/40\n",
      "10000/10000 [==============================] - 2s 170us/step - loss: 0.4438 - acc: 0.8167 - val_loss: 0.5670 - val_acc: 0.7570\n",
      "Epoch 34/40\n",
      "10000/10000 [==============================] - 2s 172us/step - loss: 0.4440 - acc: 0.8226 - val_loss: 0.5745 - val_acc: 0.7560\n",
      "Epoch 35/40\n",
      "10000/10000 [==============================] - 2s 164us/step - loss: 0.4395 - acc: 0.8234 - val_loss: 0.5758 - val_acc: 0.7540\n",
      "Epoch 36/40\n",
      "10000/10000 [==============================] - 2s 175us/step - loss: 0.4359 - acc: 0.8235 - val_loss: 0.5708 - val_acc: 0.7560\n",
      "Epoch 37/40\n",
      "10000/10000 [==============================] - 2s 159us/step - loss: 0.4321 - acc: 0.8282 - val_loss: 0.5865 - val_acc: 0.7480\n",
      "Epoch 38/40\n",
      "10000/10000 [==============================] - 2s 151us/step - loss: 0.4253 - acc: 0.8277 - val_loss: 0.5853 - val_acc: 0.7470\n",
      "Epoch 39/40\n",
      "10000/10000 [==============================] - 2s 159us/step - loss: 0.4268 - acc: 0.8271 - val_loss: 0.5819 - val_acc: 0.7570\n",
      "Epoch 40/40\n",
      "10000/10000 [==============================] - 2s 161us/step - loss: 0.4181 - acc: 0.8330 - val_loss: 0.5882 - val_acc: 0.7530\n"
     ]
    }
   ],
   "source": [
    "history = model.fit([Xstrain, Xqtrain], [Ytrain], batch_size=BATCH_SIZE, \n",
    "                    epochs=NUM_EPOCHS, validation_data=([Xstest, Xqtest], [Ytest]))"
   ]
  },
  {
   "cell_type": "markdown",
   "metadata": {},
   "source": [
    "#### plot accuracy and loss plot"
   ]
  },
  {
   "cell_type": "code",
   "execution_count": 16,
   "metadata": {},
   "outputs": [
    {
     "data": {
      "image/png": "[encoded data removed]",
      "text/plain": [
       "<Figure size 432x288 with 1 Axes>"
      ]
     },
     "metadata": {
      "needs_background": "light"
     },
     "output_type": "display_data"
    }
   ],
   "source": [
    "plt.title(\"Episodic Memory Q & A Accuracy\")\n",
    "plt.plot(history.history[\"acc\"], color=\"g\", label=\"train\")\n",
    "plt.plot(history.history[\"val_acc\"], color=\"r\", label=\"validation\")\n",
    "plt.legend(loc=\"best\")\n",
    "plt.show()\n",
    "#train은 상승세여도 valid는 고정, 학습을 더 시켜봐도 정확도가 오를 것 같지는 않음"
   ]
  },
  {
   "cell_type": "markdown",
   "metadata": {},
   "source": [
    "#### get predictions of labels"
   ]
  },
  {
   "cell_type": "code",
   "execution_count": 17,
   "metadata": {},
   "outputs": [
    {
     "data": {
      "text/plain": [
       "0.753"
      ]
     },
     "execution_count": 17,
     "metadata": {},
     "output_type": "execute_result"
    }
   ],
   "source": [
    "from sklearn.metrics import accuracy_score\n",
    "ytest = np.argmax(Ytest, axis=1)\n",
    "Ytest_ = model.predict([Xstest, Xqtest])\n",
    "ytest_ = np.argmax(Ytest_, axis=1)\n",
    "accuracy_score(ytest, ytest_)"
   ]
  },
  {
   "cell_type": "markdown",
   "metadata": {},
   "source": [
    "#### Select Random questions and predict answers"
   ]
  },
  {
   "cell_type": "code",
   "execution_count": 18,
   "metadata": {},
   "outputs": [
    {
     "name": "stdout",
     "output_type": "stream",
     "text": [
      "sandra moved to the bathroom . daniel travelled to the bathroom . where is daniel ? bathroom bathroom\n",
      "sandra journeyed to the hallway . mary went to the hallway . where is daniel ? office office\n",
      "sandra travelled to the bathroom . john moved to the bedroom . where is daniel ? garden garden\n",
      "mary moved to the hallway . mary moved to the bathroom . where is john ? hallway hallway\n",
      "daniel journeyed to the bathroom . daniel travelled to the office . where is daniel ? office office\n",
      "sandra went back to the bedroom . john moved to the garden . where is sandra ? bedroom bedroom\n",
      "john travelled to the bathroom . mary moved to the kitchen . where is mary ? kitchen kitchen\n",
      "john went back to the hallway . john moved to the office . where is john ? office office\n",
      "mary travelled to the bedroom . john went back to the hallway . where is mary ? bedroom bedroom\n",
      "john moved to the bedroom . john travelled to the kitchen . where is john ? kitchen kitchen\n"
     ]
    }
   ],
   "source": [
    "NUM_DISPLAY = 10\n",
    "   \n",
    "for i in random.sample(range(Xstest.shape[0]),NUM_DISPLAY):\n",
    "    story = \" \".join([indx2word[x] for x in Xstest[i].tolist() if x != 0])\n",
    "    question = \" \".join([indx2word[x] for x in Xqtest[i].tolist()])\n",
    "    label = indx2word[ytest[i]]\n",
    "    prediction = indx2word[ytest_[i]]\n",
    "    print(story, question, label, prediction)"
   ]
  },
  {
   "cell_type": "code",
   "execution_count": 22,
   "metadata": {},
   "outputs": [
    {
     "data": {
      "text/plain": [
       "'john moved to the bedroom . john travelled to the kitchen .'"
      ]
     },
     "execution_count": 22,
     "metadata": {},
     "output_type": "execute_result"
    }
   ],
   "source": [
    "story"
   ]
  },
  {
   "cell_type": "code",
   "execution_count": 23,
   "metadata": {},
   "outputs": [
    {
     "data": {
      "text/plain": [
       "'where is john ?'"
      ]
     },
     "execution_count": 23,
     "metadata": {},
     "output_type": "execute_result"
    }
   ],
   "source": [
    "question"
   ]
  },
  {
   "cell_type": "code",
   "execution_count": 24,
   "metadata": {},
   "outputs": [
    {
     "data": {
      "text/plain": [
       "'kitchen'"
      ]
     },
     "execution_count": 24,
     "metadata": {},
     "output_type": "execute_result"
    }
   ],
   "source": [
    "prediction"
   ]
  },
  {
   "cell_type": "markdown",
   "metadata": {},
   "source": [
    "의미론적 영역이 포함되지 않아도, 딥러닝만으로도 어느정도 구축은 가능하다."
   ]
  },
  {
   "cell_type": "code",
   "execution_count": null,
   "metadata": {},
   "outputs": [],
   "source": []
  }
 ],
 "metadata": {
  "kernelspec": {
   "display_name": "Python 3",
   "language": "python",
   "name": "python3"
  },
  "language_info": {
   "codemirror_mode": {
    "name": "ipython",
    "version": 3
   },
   "file_extension": ".py",
   "mimetype": "text/x-python",
   "name": "python",
   "nbconvert_exporter": "python",
   "pygments_lexer": "ipython3",
   "version": "3.7.3"
  }
 },
 "nbformat": 4,
 "nbformat_minor": 2
}
