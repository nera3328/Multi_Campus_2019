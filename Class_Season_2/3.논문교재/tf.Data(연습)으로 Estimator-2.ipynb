{
 "cells": [
  {
   "cell_type": "markdown",
   "metadata": {},
   "source": [
    "Estimator = 협업 기능 도움, 분업해서 팀업할 수 있게 해준다.\n",
    "---bagging"
   ]
  },
  {
   "cell_type": "code",
   "execution_count": 1,
   "metadata": {},
   "outputs": [
    {
     "name": "stderr",
     "output_type": "stream",
     "text": [
      "Using TensorFlow backend.\n"
     ]
    }
   ],
   "source": [
    "import numpy as np\n",
    "import tensorflow as tf\n",
    "from keras.layers import Dense\n",
    "import pandas as pd\n",
    "from keras.losses import binary_crossentropy\n",
    "from sklearn.model_selection import train_test_split\n",
    "from sklearn.metrics import accuracy_score"
   ]
  },
  {
   "cell_type": "code",
   "execution_count": 2,
   "metadata": {},
   "outputs": [],
   "source": [
    "df = pd.read_csv('credit_data.csv')"
   ]
  },
  {
   "cell_type": "code",
   "execution_count": 3,
   "metadata": {},
   "outputs": [],
   "source": [
    "x_data = np.array(df.iloc[:497, 0:6], dtype=np.float32)\n",
    "y_data = np.array(df.iloc[:497, 6], dtype=np.float32).reshape(-1, 1)\n",
    "x_pred = np.array(df.iloc[497:, 0:6], dtype=np.float32)\n",
    "x_train, x_test, y_train, y_test = train_test_split(x_data, y_data, test_size=0.1)"
   ]
  },
  {
   "cell_type": "code",
   "execution_count": 9,
   "metadata": {},
   "outputs": [],
   "source": [
    "def train_input_fn():\n",
    "    dataset = tf.data.Dataset.from_tensor_slices((x_train, y_train))\\\n",
    "            .repeat()\\\n",
    "            .batch(12)\\\n",
    "            .make_one_shot_iterator()\\\n",
    "            .get_next()\n",
    "    return {'x': dataset[0]}, dataset[1] #x는 dictionary로, y값은 label로 보내겠다\n",
    "\n",
    "\n",
    "def test_input_fn():\n",
    "    dataset = tf.data.Dataset.from_tensor_slices((x_test, y_test))\\\n",
    "            .repeat()\\\n",
    "            .batch(x_test.shape[0])\\\n",
    "            .make_one_shot_iterator()\\\n",
    "            .get_next()\n",
    "    return {'x': dataset[0]}, dataset[1] #x는 dictionary로, y값은 label로 보내겠다"
   ]
  },
  {
   "cell_type": "code",
   "execution_count": 10,
   "metadata": {},
   "outputs": [],
   "source": [
    "def model_fn(features, labels, mode): #얘는 기본적으로 이러한 변수를 넣어줘야 한다.!\n",
    "                                #mode = train : 학습, Eval: 평가, Predict : 예측\n",
    "#    TRAIN = mode == tf.estimator.ModeKeys.TRAIN---책!\n",
    "    nInput = 6      # input layer의 neuron 개수\n",
    "    nHidden = 12    # hidden layer의 neuron 개수\n",
    "    nOutput = 1     # output layer의 neuron 개수\n",
    "\n",
    "# hidden layer의 Weight (Wh)와 Bias (Bh)\n",
    "    H1 = Dense(nHidden, activation='relu')(features['x']) #features에서 바로 넣어준다!\n",
    "    predY = Dense(nOutput, activation='sigmoid')(H1)\n",
    "\n",
    "# 학습\n",
    "    if mode == tf.estimator.ModeKeys.TRAIN:\n",
    "        loss = tf.reduce_mean(binary_crossentropy(labels, predY))\n",
    "        optimizer = tf.train.AdamOptimizer(0.01)\n",
    "        global_step= tf.train.get_global_step()\n",
    "        train = optimizer.minimize(loss, global_step)\n",
    "    \n",
    "        return tf.estimator.EstimatorSpec(mode=mode, train_op=train, loss=loss)\n",
    "# 평가\n",
    "    elif mode == tf.estimator.ModeKeys.EVAL:\n",
    "        loss= tf.reduce_mean(binary_crossentropy(labels, predY))\n",
    "        accuracy = tf.metrics.accuracy(labels, tf.round(predY))\n",
    "        return tf.estimator.EstimatorSpec(mode=mode, loss=loss, eval_metric_ops={'acc': accuracy})\n",
    "\n",
    "#예측\n",
    "    elif mode == tf.estimator.ModeKeys.PREDICT:\n",
    "        yClass = tf.round(predY)\n",
    "        return tf.estimator.EstimatorSpec(\n",
    "        mode = mode,\n",
    "        predictions = {'prob' : predY , 'class' : yClass})"
   ]
  },
  {
   "cell_type": "code",
   "execution_count": 13,
   "metadata": {},
   "outputs": [
    {
     "name": "stdout",
     "output_type": "stream",
     "text": [
      "INFO:tensorflow:Using default config.\n",
      "WARNING:tensorflow:Using temporary folder as model directory: C:\\Users\\student\\AppData\\Local\\Temp\\tmp9myiczlm\n",
      "INFO:tensorflow:Using config: {'_model_dir': 'C:\\\\Users\\\\student\\\\AppData\\\\Local\\\\Temp\\\\tmp9myiczlm', '_tf_random_seed': None, '_save_summary_steps': 100, '_save_checkpoints_steps': None, '_save_checkpoints_secs': 600, '_session_config': allow_soft_placement: true\n",
      "graph_options {\n",
      "  rewrite_options {\n",
      "    meta_optimizer_iterations: ONE\n",
      "  }\n",
      "}\n",
      ", '_keep_checkpoint_max': 5, '_keep_checkpoint_every_n_hours': 10000, '_log_step_count_steps': 100, '_train_distribute': None, '_device_fn': None, '_protocol': None, '_eval_distribute': None, '_experimental_distribute': None, '_service': None, '_cluster_spec': <tensorflow.python.training.server_lib.ClusterSpec object at 0x0000000016266BA8>, '_task_type': 'worker', '_task_id': 0, '_global_id_in_cluster': 0, '_master': '', '_evaluation_master': '', '_is_chief': True, '_num_ps_replicas': 0, '_num_worker_replicas': 1}\n",
      "INFO:tensorflow:Calling model_fn.\n",
      "INFO:tensorflow:Done calling model_fn.\n",
      "INFO:tensorflow:Create CheckpointSaverHook.\n",
      "INFO:tensorflow:Graph was finalized.\n",
      "INFO:tensorflow:Running local_init_op.\n",
      "INFO:tensorflow:Done running local_init_op.\n",
      "INFO:tensorflow:Saving checkpoints for 0 into C:\\Users\\student\\AppData\\Local\\Temp\\tmp9myiczlm\\model.ckpt.\n",
      "INFO:tensorflow:loss = 0.62207013, step = 1\n",
      "INFO:tensorflow:Saving checkpoints for 100 into C:\\Users\\student\\AppData\\Local\\Temp\\tmp9myiczlm\\model.ckpt.\n",
      "INFO:tensorflow:Loss for final step: 0.41231188.\n",
      "INFO:tensorflow:Calling model_fn.\n",
      "INFO:tensorflow:Done calling model_fn.\n",
      "INFO:tensorflow:Starting evaluation at 2019-08-05T04:28:16Z\n",
      "INFO:tensorflow:Graph was finalized.\n",
      "INFO:tensorflow:Restoring parameters from C:\\Users\\student\\AppData\\Local\\Temp\\tmp9myiczlm\\model.ckpt-100\n",
      "INFO:tensorflow:Running local_init_op.\n",
      "INFO:tensorflow:Done running local_init_op.\n",
      "INFO:tensorflow:Evaluation [1/1]\n",
      "INFO:tensorflow:Finished evaluation at 2019-08-05-04:28:16\n",
      "INFO:tensorflow:Saving dict for global step 100: acc = 0.78, global_step = 100, loss = 0.49630487\n",
      "INFO:tensorflow:Saving 'checkpoint_path' summary for global step 100: C:\\Users\\student\\AppData\\Local\\Temp\\tmp9myiczlm\\model.ckpt-100\n",
      "INFO:tensorflow:Calling model_fn.\n",
      "INFO:tensorflow:Done calling model_fn.\n",
      "INFO:tensorflow:Graph was finalized.\n",
      "INFO:tensorflow:Restoring parameters from C:\\Users\\student\\AppData\\Local\\Temp\\tmp9myiczlm\\model.ckpt-100\n",
      "INFO:tensorflow:Running local_init_op.\n",
      "INFO:tensorflow:Done running local_init_op.\n",
      "prob =  0.5646102\n",
      "class =  1.0\n",
      "prob =  0.30729738\n",
      "class =  0.0\n"
     ]
    }
   ],
   "source": [
    "estimator= tf.estimator.Estimator(model_fn=model_fn)#model_fn으로 만든 함수 넣기\n",
    "\n",
    "estimator.train(train_input_fn, steps=100) #data를 함수로 묶어 넣어줌\n",
    "\n",
    "estimator.evaluate(test_input_fn, steps=1)\n",
    "\n",
    "pred_input_fn = tf.estimator.inputs.numpy_input_fn({'x' : x_pred}, shuffle=False)\n",
    "\n",
    "for y in estimator.predict(pred_input_fn):\n",
    "    print('prob = ', y['prob'][0])\n",
    "    print('class = ', y['class'][0])"
   ]
  },
  {
   "cell_type": "code",
   "execution_count": null,
   "metadata": {},
   "outputs": [],
   "source": []
  },
  {
   "cell_type": "code",
   "execution_count": null,
   "metadata": {},
   "outputs": [],
   "source": []
  }
 ],
 "metadata": {
  "kernelspec": {
   "display_name": "Python 3",
   "language": "python",
   "name": "python3"
  },
  "language_info": {
   "codemirror_mode": {
    "name": "ipython",
    "version": 3
   },
   "file_extension": ".py",
   "mimetype": "text/x-python",
   "name": "python",
   "nbconvert_exporter": "python",
   "pygments_lexer": "ipython3",
   "version": "3.7.3"
  }
 },
 "nbformat": 4,
 "nbformat_minor": 2
}
