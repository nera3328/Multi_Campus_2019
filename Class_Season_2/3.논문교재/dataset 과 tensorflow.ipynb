{
 "cells": [
  {
   "cell_type": "code",
   "execution_count": 4,
   "metadata": {},
   "outputs": [
    {
     "name": "stderr",
     "output_type": "stream",
     "text": [
      "Using TensorFlow backend.\n"
     ]
    }
   ],
   "source": [
    "import numpy as np\n",
    "from keras.models import Model\n",
    "from keras.layers import Dense, LSTM, Bidirectional,Input\n",
    "import tensorflow as tf"
   ]
  },
  {
   "cell_type": "code",
   "execution_count": 5,
   "metadata": {},
   "outputs": [],
   "source": [
    "x_train = np.random.random([10,8])\n",
    "y_train = np.random.choice([0,1],[10,1])\n",
    "x_test = np.random.random([1,8])"
   ]
  },
  {
   "cell_type": "code",
   "execution_count": 6,
   "metadata": {},
   "outputs": [],
   "source": [
    "tf.reset_default_graph()\n",
    "xInput=8\n",
    "hidden=12\n",
    "xOutput=1\n",
    "x=tf.placeholder(tf.float32, shape=[None, xInput])\n",
    "y=tf.placeholder(tf.float32, shape=[None, xOutput])"
   ]
  },
  {
   "cell_type": "code",
   "execution_count": 46,
   "metadata": {},
   "outputs": [],
   "source": [
    "#generator랑 비슷한 애\n",
    "dataset = tf.data.Dataset.from_tensor_slices((x_train, y_train)).repeat().batch(12).make_one_shot_iterator().get_next()\n",
    "#.repeat() : 얘를 추가시키면 ()바퀴 돌아-->비워두면 infinit\n",
    "#.batch(3) : 얘를 추가시키면 3개씩!! 근데 너무 실행 많이시키면 오류나--> 다 끌어와서"
   ]
  },
  {
   "cell_type": "code",
   "execution_count": 47,
   "metadata": {},
   "outputs": [],
   "source": [
    "sess=tf.Session()"
   ]
  },
  {
   "cell_type": "code",
   "execution_count": 56,
   "metadata": {},
   "outputs": [
    {
     "data": {
      "text/plain": [
       "(array([[0.64229914, 0.86923497, 0.03613655, 0.05251732, 0.75172245,\n",
       "         0.91124802, 0.05300886, 0.79379376],\n",
       "        [0.45737908, 0.19652868, 0.42001114, 0.33431424, 0.59776603,\n",
       "         0.98959896, 0.29845146, 0.50368075],\n",
       "        [0.95999736, 0.46246704, 0.9315405 , 0.35632149, 0.40785094,\n",
       "         0.01471277, 0.27132644, 0.17808229]]), array([[0],\n",
       "        [0],\n",
       "        [1]]))"
      ]
     },
     "execution_count": 56,
     "metadata": {},
     "output_type": "execute_result"
    }
   ],
   "source": [
    "a=sess.run(dataset)#실행시킬때마다 값이 달라져\n",
    "a"
   ]
  },
  {
   "cell_type": "code",
   "execution_count": null,
   "metadata": {},
   "outputs": [],
   "source": []
  }
 ],
 "metadata": {
  "kernelspec": {
   "display_name": "Python 3",
   "language": "python",
   "name": "python3"
  },
  "language_info": {
   "codemirror_mode": {
    "name": "ipython",
    "version": 3
   },
   "file_extension": ".py",
   "mimetype": "text/x-python",
   "name": "python",
   "nbconvert_exporter": "python",
   "pygments_lexer": "ipython3",
   "version": "3.7.3"
  }
 },
 "nbformat": 4,
 "nbformat_minor": 2
}
