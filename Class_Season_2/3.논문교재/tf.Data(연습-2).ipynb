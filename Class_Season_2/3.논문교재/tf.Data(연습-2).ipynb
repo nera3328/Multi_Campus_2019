{
 "cells": [
  {
   "cell_type": "code",
   "execution_count": 1,
   "metadata": {},
   "outputs": [
    {
     "name": "stderr",
     "output_type": "stream",
     "text": [
      "Using TensorFlow backend.\n"
     ]
    }
   ],
   "source": [
    "import numpy as np\n",
    "import tensorflow as tf\n",
    "from keras.layers import Dense\n",
    "import pandas as pd\n",
    "from keras.losses import binary_crossentropy\n",
    "from sklearn.model_selection import train_test_split\n",
    "from sklearn.metrics import accuracy_score"
   ]
  },
  {
   "cell_type": "code",
   "execution_count": 2,
   "metadata": {},
   "outputs": [],
   "source": [
    "df = pd.read_csv('credit_data.csv')"
   ]
  },
  {
   "cell_type": "code",
   "execution_count": 3,
   "metadata": {},
   "outputs": [],
   "source": [
    "x_data = np.array(df.iloc[:497, 0:6], dtype=np.float32)\n",
    "y_data = np.array(df.iloc[:497, 6], dtype=np.float32).reshape(-1, 1)\n",
    "x_pred = np.array(df.iloc[497:, 0:6], dtype=np.float32)\n",
    "x_train, x_test, y_train, y_test = train_test_split(x_data, y_data, test_size=0.1)"
   ]
  },
  {
   "cell_type": "code",
   "execution_count": 4,
   "metadata": {},
   "outputs": [],
   "source": [
    "def train_input_fn():\n",
    "    dataset = tf.data.Dataset.from_tensor_slices((x_train, y_train))\\\n",
    "            .repeat()\\\n",
    "            .batch(12)\\\n",
    "            .make_one_shot_iterator()\\\n",
    "            .get_next()\n",
    "    return {'x': dataset[0]}, dataset[1]"
   ]
  },
  {
   "cell_type": "code",
   "execution_count": 7,
   "metadata": {},
   "outputs": [],
   "source": [
    "def model_fn(features, labels, mode):\n",
    "    nInput = 6      # input layer의 neuron 개수\n",
    "    nHidden = 12    # hidden layer의 neuron 개수\n",
    "    nOutput = 1     # output layer의 neuron 개수\n",
    "\n",
    "    H1 = Dense(nHidden, activation='relu')(features['x'])\n",
    "    predY = Dense(nOutput, activation='sigmoid')(H1)\n",
    "    \n",
    "    # 학습\n",
    "    if mode == tf.estimator.ModeKeys.TRAIN:\n",
    "        loss = tf.reduce_mean(binary_crossentropy(labels, predY))\n",
    "        optimizer = tf.train.AdamOptimizer(0.01)\n",
    "        global_step = tf.train.get_global_step()\n",
    "        train = optimizer.minimize(loss, global_step)\n",
    "        \n",
    "        return tf.estimator.EstimatorSpec(\n",
    "                mode = mode,\n",
    "                train_op = train,\n",
    "                loss = loss)\n",
    "    \n",
    "    # 평가\n",
    "    elif mode == tf.estimator.ModeKeys.EVAL:\n",
    "        pass\n",
    "    \n",
    "    # 예측\n",
    "    elif mode == tf.estimator.ModeKeys.PREDICT:\n",
    "        pass"
   ]
  },
  {
   "cell_type": "code",
   "execution_count": 8,
   "metadata": {},
   "outputs": [
    {
     "name": "stdout",
     "output_type": "stream",
     "text": [
      "INFO:tensorflow:Using default config.\n",
      "WARNING:tensorflow:Using temporary folder as model directory: C:\\Users\\seong\\AppData\\Local\\Temp\\tmpuqzq4yf1\n",
      "INFO:tensorflow:Using config: {'_model_dir': 'C:\\\\Users\\\\seong\\\\AppData\\\\Local\\\\Temp\\\\tmpuqzq4yf1', '_tf_random_seed': None, '_save_summary_steps': 100, '_save_checkpoints_steps': None, '_save_checkpoints_secs': 600, '_session_config': allow_soft_placement: true\n",
      "graph_options {\n",
      "  rewrite_options {\n",
      "    meta_optimizer_iterations: ONE\n",
      "  }\n",
      "}\n",
      ", '_keep_checkpoint_max': 5, '_keep_checkpoint_every_n_hours': 10000, '_log_step_count_steps': 100, '_train_distribute': None, '_device_fn': None, '_protocol': None, '_eval_distribute': None, '_experimental_distribute': None, '_service': None, '_cluster_spec': <tensorflow.python.training.server_lib.ClusterSpec object at 0x0000015AE8886EF0>, '_task_type': 'worker', '_task_id': 0, '_global_id_in_cluster': 0, '_master': '', '_evaluation_master': '', '_is_chief': True, '_num_ps_replicas': 0, '_num_worker_replicas': 1}\n",
      "INFO:tensorflow:Calling model_fn.\n",
      "INFO:tensorflow:Done calling model_fn.\n",
      "INFO:tensorflow:Create CheckpointSaverHook.\n",
      "INFO:tensorflow:Graph was finalized.\n",
      "INFO:tensorflow:Running local_init_op.\n",
      "INFO:tensorflow:Done running local_init_op.\n",
      "INFO:tensorflow:Saving checkpoints for 0 into C:\\Users\\seong\\AppData\\Local\\Temp\\tmpuqzq4yf1\\model.ckpt.\n",
      "INFO:tensorflow:loss = 0.7542328, step = 1\n",
      "INFO:tensorflow:Saving checkpoints for 100 into C:\\Users\\seong\\AppData\\Local\\Temp\\tmpuqzq4yf1\\model.ckpt.\n",
      "INFO:tensorflow:Loss for final step: 0.6905518.\n"
     ]
    },
    {
     "data": {
      "text/plain": [
       "<tensorflow_estimator.python.estimator.estimator.Estimator at 0x15ae88864e0>"
      ]
     },
     "execution_count": 8,
     "metadata": {},
     "output_type": "execute_result"
    }
   ],
   "source": [
    "estimator = tf.estimator.Estimator(model_fn = model_fn)\n",
    "estimator.train(train_input_fn, steps = 100)"
   ]
  },
  {
   "cell_type": "code",
   "execution_count": null,
   "metadata": {},
   "outputs": [],
   "source": []
  },
  {
   "cell_type": "code",
   "execution_count": 17,
   "metadata": {},
   "outputs": [
    {
     "name": "stdout",
     "output_type": "stream",
     "text": [
      "정확도 = 0.8000\n"
     ]
    }
   ],
   "source": [
    "yHat = sess.run(predY, feed_dict={x: x_test})\n",
    "accuracy = accuracy_score(y_test, np.round(yHat))\n",
    "print(\"정확도 = %.4f\" % accuracy)"
   ]
  },
  {
   "cell_type": "code",
   "execution_count": 11,
   "metadata": {},
   "outputs": [
    {
     "name": "stdout",
     "output_type": "stream",
     "text": [
      "[[0.8504145 ]\n",
      " [0.23027574]]\n"
     ]
    }
   ],
   "source": [
    "yPred = sess.run(predY, feed_dict={x: x_pred})\n",
    "print(yPred)"
   ]
  },
  {
   "cell_type": "code",
   "execution_count": null,
   "metadata": {},
   "outputs": [],
   "source": []
  }
 ],
 "metadata": {
  "kernelspec": {
   "display_name": "Python 3",
   "language": "python",
   "name": "python3"
  },
  "language_info": {
   "codemirror_mode": {
    "name": "ipython",
    "version": 3
   },
   "file_extension": ".py",
   "mimetype": "text/x-python",
   "name": "python",
   "nbconvert_exporter": "python",
   "pygments_lexer": "ipython3",
   "version": "3.7.3"
  }
 },
 "nbformat": 4,
 "nbformat_minor": 2
}
