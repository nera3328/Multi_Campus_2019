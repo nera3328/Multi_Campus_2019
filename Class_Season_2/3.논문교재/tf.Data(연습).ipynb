{
 "cells": [
  {
   "cell_type": "code",
   "execution_count": 1,
   "metadata": {},
   "outputs": [
    {
     "name": "stderr",
     "output_type": "stream",
     "text": [
      "Using TensorFlow backend.\n"
     ]
    }
   ],
   "source": [
    "import numpy as np\n",
    "import tensorflow as tf\n",
    "from keras.layers import Dense\n",
    "import pandas as pd\n",
    "from keras.losses import binary_crossentropy\n",
    "from sklearn.model_selection import train_test_split\n",
    "from sklearn.metrics import accuracy_score"
   ]
  },
  {
   "cell_type": "code",
   "execution_count": 2,
   "metadata": {},
   "outputs": [],
   "source": [
    "df = pd.read_csv('credit_data.csv')"
   ]
  },
  {
   "cell_type": "code",
   "execution_count": 3,
   "metadata": {},
   "outputs": [],
   "source": [
    "x_data = np.array(df.iloc[:497, 0:6], dtype=np.float32)\n",
    "y_data = np.array(df.iloc[:497, 6], dtype=np.float32).reshape(-1, 1)\n",
    "x_pred = np.array(df.iloc[497:, 0:6], dtype=np.float32)\n",
    "x_train, x_test, y_train, y_test = train_test_split(x_data, y_data, test_size=0.1)"
   ]
  },
  {
   "cell_type": "code",
   "execution_count": 5,
   "metadata": {},
   "outputs": [],
   "source": [
    "dataset = tf.data.Dataset.from_tensor_slices((x_train, y_train))\\\n",
    "            .repeat()\\\n",
    "            .batch(12)\\\n",
    "            .make_one_shot_iterator()\\\n",
    "            .get_next()"
   ]
  },
  {
   "cell_type": "code",
   "execution_count": 6,
   "metadata": {},
   "outputs": [
    {
     "name": "stdout",
     "output_type": "stream",
     "text": [
      "WARNING:tensorflow:From C:\\Users\\seong\\Anaconda3\\lib\\site-packages\\tensorflow\\python\\framework\\op_def_library.py:263: colocate_with (from tensorflow.python.framework.ops) is deprecated and will be removed in a future version.\n",
      "Instructions for updating:\n",
      "Colocations handled automatically by placer.\n",
      "WARNING:tensorflow:From C:\\Users\\seong\\Anaconda3\\lib\\site-packages\\tensorflow\\python\\ops\\math_ops.py:3066: to_int32 (from tensorflow.python.ops.math_ops) is deprecated and will be removed in a future version.\n",
      "Instructions for updating:\n",
      "Use tf.cast instead.\n"
     ]
    }
   ],
   "source": [
    "nInput = 6      # input layer의 neuron 개수\n",
    "nHidden = 12    # hidden layer의 neuron 개수\n",
    "nOutput = 1     # output layer의 neuron 개수\n",
    "\n",
    "# 그래프를 생성한다\n",
    "x = tf.placeholder(tf.float32, shape=[None, nInput], name='x')\n",
    "y = tf.placeholder(tf.float32, shape=[None, nOutput], name='y')\n",
    "\n",
    "# hidden layer의 Weight (Wh)와 Bias (Bh)\n",
    "H1 = Dense(nHidden, activation='relu')(x)\n",
    "predY = Dense(nOutput, activation='sigmoid')(H1)\n",
    "loss = tf.reduce_mean(binary_crossentropy(y, predY))\n",
    "\n",
    "# 학습\n",
    "optimizer = tf.train.AdamOptimizer(0.01)\n",
    "train = optimizer.minimize(loss)"
   ]
  },
  {
   "cell_type": "code",
   "execution_count": 7,
   "metadata": {},
   "outputs": [],
   "source": [
    "# 그래프를 실행한다\n",
    "sess = tf.Session()\n",
    "sess.run(tf.global_variables_initializer())"
   ]
  },
  {
   "cell_type": "code",
   "execution_count": 16,
   "metadata": {},
   "outputs": [
    {
     "name": "stdout",
     "output_type": "stream",
     "text": [
      "0: loss = 0.2085\n",
      "100: loss = 0.4269\n",
      "200: loss = 0.4139\n",
      "300: loss = 0.3125\n",
      "400: loss = 0.2845\n",
      "500: loss = 0.4356\n",
      "600: loss = 0.3096\n",
      "700: loss = 0.3057\n",
      "800: loss = 0.5079\n",
      "900: loss = 0.3141\n"
     ]
    }
   ],
   "source": [
    "for i in range(1000):\n",
    "    bx, by = sess.run(dataset)\n",
    "    _, cost_ = sess.run([train, loss], feed_dict={x: bx, y: by})\n",
    "    if i % 100 == 0:\n",
    "        print(\"%d: loss = %.4f\" % (i, cost_))"
   ]
  },
  {
   "cell_type": "code",
   "execution_count": 17,
   "metadata": {},
   "outputs": [
    {
     "name": "stdout",
     "output_type": "stream",
     "text": [
      "정확도 = 0.8000\n"
     ]
    }
   ],
   "source": [
    "yHat = sess.run(predY, feed_dict={x: x_test})\n",
    "accuracy = accuracy_score(y_test, np.round(yHat))\n",
    "print(\"정확도 = %.4f\" % accuracy)"
   ]
  },
  {
   "cell_type": "code",
   "execution_count": 11,
   "metadata": {},
   "outputs": [
    {
     "name": "stdout",
     "output_type": "stream",
     "text": [
      "[[0.8504145 ]\n",
      " [0.23027574]]\n"
     ]
    }
   ],
   "source": [
    "yPred = sess.run(predY, feed_dict={x: x_pred})\n",
    "print(yPred)"
   ]
  },
  {
   "cell_type": "code",
   "execution_count": null,
   "metadata": {},
   "outputs": [],
   "source": []
  }
 ],
 "metadata": {
  "kernelspec": {
   "display_name": "Python 3",
   "language": "python",
   "name": "python3"
  },
  "language_info": {
   "codemirror_mode": {
    "name": "ipython",
    "version": 3
   },
   "file_extension": ".py",
   "mimetype": "text/x-python",
   "name": "python",
   "nbconvert_exporter": "python",
   "pygments_lexer": "ipython3",
   "version": "3.7.3"
  }
 },
 "nbformat": 4,
 "nbformat_minor": 2
}
