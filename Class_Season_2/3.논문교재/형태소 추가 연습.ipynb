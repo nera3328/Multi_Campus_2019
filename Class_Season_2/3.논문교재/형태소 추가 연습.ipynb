{
 "cells": [
  {
   "cell_type": "code",
   "execution_count": 1,
   "metadata": {},
   "outputs": [],
   "source": [
    "import konlpy"
   ]
  },
  {
   "cell_type": "code",
   "execution_count": 2,
   "metadata": {},
   "outputs": [
    {
     "name": "stderr",
     "output_type": "stream",
     "text": [
      "C:\\ProgramData\\Anaconda3\\lib\\site-packages\\jpype\\_core.py:210: UserWarning: \n",
      "-------------------------------------------------------------------------------\n",
      "Deprecated: convertStrings was not specified when starting the JVM. The default\n",
      "behavior in JPype will be False starting in JPype 0.8. The recommended setting\n",
      "for new code is convertStrings=False.  The legacy value of True was assumed for\n",
      "this session. If you are a user of an application that reported this warning,\n",
      "please file a ticket with the developer.\n",
      "-------------------------------------------------------------------------------\n",
      "\n",
      "  \"\"\")\n"
     ]
    }
   ],
   "source": [
    "from konlpy.tag import Okt\n",
    "okt=Okt()"
   ]
  },
  {
   "cell_type": "code",
   "execution_count": 3,
   "metadata": {},
   "outputs": [
    {
     "name": "stdout",
     "output_type": "stream",
     "text": [
      "['김민정', '삼성멀티캠퍼스', '에서', '한글', '자연어', '처리', '는', '재밌다', '이제', '부터', '열심히', '해야지', '힣힣', '히']\n",
      "['김민정', '삼성멀티캠퍼스', '에서', '한글', '자연어', '처리', '는', '재밌다', '이제', '부터', '열심히', '하다', '힣힣', '히']\n"
     ]
    }
   ],
   "source": [
    "text=\"김민정 삼성멀티캠퍼스에서 한글 자연어 처리는 재밌다 이제부터 열심히 해야지 힣힣히\"\n",
    "print(okt.morphs(text))\n",
    "print(okt.morphs(text, stem=True))# stem=어간-->기본형으로 추출"
   ]
  },
  {
   "cell_type": "markdown",
   "metadata": {},
   "source": [
    "띄어쓰기에 의해 분류하던 영어 토큰과 다르게 한글 코퍼스는 형태소 단위로 나눈 후 어간 추출하여 분류"
   ]
  },
  {
   "cell_type": "code",
   "execution_count": 5,
   "metadata": {},
   "outputs": [
    {
     "name": "stdout",
     "output_type": "stream",
     "text": [
      "['김민정', '삼성멀티캠퍼스', '한글', '자연어', '처리', '이제', '힣힣']\n",
      "['김민정', '김민정 삼성멀티캠퍼스', '한글', '한글 자연어', '한글 자연어 처리', '이제', '힣힣', '삼성멀티캠퍼스', '자연어', '처리']\n"
     ]
    }
   ],
   "source": [
    "print(okt.nouns(text)) # 명사 추출\n",
    "print(okt.phrases(text)) # 명사구 추출"
   ]
  },
  {
   "cell_type": "code",
   "execution_count": 6,
   "metadata": {},
   "outputs": [
    {
     "name": "stdout",
     "output_type": "stream",
     "text": [
      "[('김민정', 'Noun'), ('삼성멀티캠퍼스', 'Noun'), ('에서', 'Josa'), ('한글', 'Noun'), ('자연어', 'Noun'), ('처리', 'Noun'), ('는', 'Josa'), ('재밌다', 'Adjective'), ('이제', 'Noun'), ('부터', 'Josa'), ('열심히', 'Adverb'), ('해야지', 'Verb'), ('힣힣', 'Noun'), ('히', 'Adverb')]\n",
      "['김민정/Noun', '삼성멀티캠퍼스/Noun', '에서/Josa', '한글/Noun', '자연어/Noun', '처리/Noun', '는/Josa', '재밌다/Adjective', '이제/Noun', '부터/Josa', '열심히/Adverb', '해야지/Verb', '힣힣/Noun', '히/Adverb']\n"
     ]
    }
   ],
   "source": [
    "print(okt.pos(text))\n",
    "print(okt.pos(text, join=True))"
   ]
  },
  {
   "cell_type": "code",
   "execution_count": null,
   "metadata": {},
   "outputs": [],
   "source": []
  },
  {
   "cell_type": "code",
   "execution_count": null,
   "metadata": {},
   "outputs": [],
   "source": []
  }
 ],
 "metadata": {
  "kernelspec": {
   "display_name": "Python 3",
   "language": "python",
   "name": "python3"
  },
  "language_info": {
   "codemirror_mode": {
    "name": "ipython",
    "version": 3
   },
   "file_extension": ".py",
   "mimetype": "text/x-python",
   "name": "python",
   "nbconvert_exporter": "python",
   "pygments_lexer": "ipython3",
   "version": "3.7.3"
  }
 },
 "nbformat": 4,
 "nbformat_minor": 2
}
