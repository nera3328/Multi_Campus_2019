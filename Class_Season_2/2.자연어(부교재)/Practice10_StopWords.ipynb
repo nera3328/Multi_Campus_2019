{
 "cells": [
  {
   "cell_type": "code",
   "execution_count": 1,
   "metadata": {},
   "outputs": [],
   "source": [
    "# 불용어 : Stop Words  ex) the  ,   of    ,   he   등 빈도 분석 할 때 영향을 별로 주지 않는 언어\n",
    "import nltk\n",
    "from nltk.corpus import stopwords"
   ]
  },
  {
   "cell_type": "code",
   "execution_count": 9,
   "metadata": {},
   "outputs": [
    {
     "name": "stdout",
     "output_type": "stream",
     "text": [
      "['i', 'me', 'my', 'myself', 'we', 'our', 'ours', 'ourselves', 'you', \"you're\", \"you've\", \"you'll\", \"you'd\", 'your', 'yours', 'yourself', 'yourselves', 'he', 'him', 'his']\n"
     ]
    }
   ],
   "source": [
    "# 영어의 Stop words를 확인한다.\n",
    "stopWords = stopwords.words('english')\n",
    "print(stopWords[:20])"
   ]
  },
  {
   "cell_type": "code",
   "execution_count": 5,
   "metadata": {},
   "outputs": [
    {
     "name": "stdout",
     "output_type": "stream",
     "text": [
      "['[', 'Sense', 'Sensibility', 'Jane', 'Austen', '1811', ']', 'CHAPTER', '1', 'family', 'Dashwood', 'long', 'settled', 'Sussex', '.', 'estate', 'large', ',', 'residence', 'Norland']\n"
     ]
    }
   ],
   "source": [
    "# 영어 소설에서 Stop word를 제거한다.\n",
    "text = nltk.corpus.gutenberg.words('austen-sense.txt') #제인 오스틴, 이성과 감성\n",
    "removedStopWord = [w for w in text if w.lower() not in stopWords]\n",
    "print(removedStopWord[:20])"
   ]
  },
  {
   "cell_type": "code",
   "execution_count": 6,
   "metadata": {},
   "outputs": [
    {
     "name": "stdout",
     "output_type": "stream",
     "text": [
      "비율 =  0.5285429733853195\n"
     ]
    }
   ],
   "source": [
    "# text에서 stop word를 제거한 word의 비중을 확인한다--------많다!!\n",
    "print(\"비율 = \", len(removedStopWord) / len(text))"
   ]
  }
 ],
 "metadata": {
  "kernelspec": {
   "display_name": "Python 3",
   "language": "python",
   "name": "python3"
  },
  "language_info": {
   "codemirror_mode": {
    "name": "ipython",
    "version": 3
   },
   "file_extension": ".py",
   "mimetype": "text/x-python",
   "name": "python",
   "nbconvert_exporter": "python",
   "pygments_lexer": "ipython3",
   "version": "3.7.3"
  }
 },
 "nbformat": 4,
 "nbformat_minor": 2
}
