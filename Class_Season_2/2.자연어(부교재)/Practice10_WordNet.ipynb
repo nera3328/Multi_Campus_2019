{
 "cells": [
  {
   "cell_type": "code",
   "execution_count": 1,
   "metadata": {},
   "outputs": [],
   "source": [
    "# 워드넷\n",
    "from nltk.corpus import wordnet as wn"
   ]
  },
  {
   "cell_type": "code",
   "execution_count": 2,
   "metadata": {},
   "outputs": [
    {
     "data": {
      "text/plain": [
       "['car', 'auto', 'automobile', 'machine', 'motorcar']"
      ]
     },
     "execution_count": 2,
     "metadata": {},
     "output_type": "execute_result"
    }
   ],
   "source": [
    "# motorcar와 동의어인 집합 (synset : synonym set)의 원소들을 조회한다\n",
    "wn.synsets('motorcar')\n",
    "wn.synset('car.n.01').lemma_names()"
   ]
  },
  {
   "cell_type": "code",
   "execution_count": 3,
   "metadata": {},
   "outputs": [
    {
     "data": {
      "text/plain": [
       "'a motor vehicle with four wheels; usually propelled by an internal combustion engine'"
      ]
     },
     "execution_count": 3,
     "metadata": {},
     "output_type": "execute_result"
    }
   ],
   "source": [
    "# 동의어 집합의 의미 (정의)를 조회한다.\n",
    "wn.synset('car.n.01').definition()"
   ]
  },
  {
   "cell_type": "code",
   "execution_count": 4,
   "metadata": {},
   "outputs": [
    {
     "data": {
      "text/plain": [
       "['he needs a car to get to work']"
      ]
     },
     "execution_count": 4,
     "metadata": {},
     "output_type": "execute_result"
    }
   ],
   "source": [
    "# 예문을 확인한다.\n",
    "wn.synset('car.n.01').examples()"
   ]
  },
  {
   "cell_type": "code",
   "execution_count": 5,
   "metadata": {},
   "outputs": [
    {
     "name": "stdout",
     "output_type": "stream",
     "text": [
      "Lemma: car.n.01\n",
      "Definition: a motor vehicle with four wheels; usually propelled by an internal combustion engine\n",
      "Lemma_names: ['car', 'auto', 'automobile', 'machine', 'motorcar']\n",
      "\n",
      "Lemma: car.n.02\n",
      "Definition: a wheeled vehicle adapted to the rails of railroad\n",
      "Lemma_names: ['car', 'railcar', 'railway_car', 'railroad_car']\n",
      "\n",
      "Lemma: car.n.03\n",
      "Definition: the compartment that is suspended from an airship and that carries personnel and the cargo and the power plant\n",
      "Lemma_names: ['car', 'gondola']\n",
      "\n",
      "Lemma: car.n.04\n",
      "Definition: where passengers ride up and down\n",
      "Lemma_names: ['car', 'elevator_car']\n",
      "\n",
      "Lemma: cable_car.n.01\n",
      "Definition: a conveyance for passengers or freight on a cable railway\n",
      "Lemma_names: ['cable_car', 'car']\n",
      "\n"
     ]
    }
   ],
   "source": [
    "# 동의어 집합이 여러 개인 경우\n",
    "wn.synsets('car')\n",
    "for synset in wn.synsets('car'):\n",
    "    print(\"Lemma: {}\".format(synset.name()))\n",
    "    print(\"Definition: {}\".format(synset.definition()))\n",
    "    print(\"Lemma_names: {}\".format(synset.lemma_names()))\n",
    "    print()"
   ]
  },
  {
   "cell_type": "code",
   "execution_count": 7,
   "metadata": {},
   "outputs": [
    {
     "data": {
      "text/plain": [
       "[Synset('working.n.01'),\n",
       " Synset('work.v.01'),\n",
       " Synset('work.v.02'),\n",
       " Synset('work.v.03'),\n",
       " Synset('function.v.01'),\n",
       " Synset('work.v.05'),\n",
       " Synset('exercise.v.03'),\n",
       " Synset('make.v.36'),\n",
       " Synset('work.v.08'),\n",
       " Synset('work.v.09'),\n",
       " Synset('work.v.10'),\n",
       " Synset('bring.v.03'),\n",
       " Synset('work.v.12'),\n",
       " Synset('cultivate.v.02'),\n",
       " Synset('work.v.14'),\n",
       " Synset('influence.v.01'),\n",
       " Synset('work.v.16'),\n",
       " Synset('work.v.17'),\n",
       " Synset('work.v.18'),\n",
       " Synset('work.v.19'),\n",
       " Synset('shape.v.02'),\n",
       " Synset('work.v.21'),\n",
       " Synset('knead.v.01'),\n",
       " Synset('exploit.v.01'),\n",
       " Synset('solve.v.01'),\n",
       " Synset('ferment.v.03'),\n",
       " Synset('sour.v.01'),\n",
       " Synset('work.v.27'),\n",
       " Synset('working.s.01'),\n",
       " Synset('working.s.02'),\n",
       " Synset('working.s.03'),\n",
       " Synset('running.s.06'),\n",
       " Synset('working.s.05')]"
      ]
     },
     "execution_count": 7,
     "metadata": {},
     "output_type": "execute_result"
    }
   ],
   "source": [
    "# Lemma : 어휘의 보조정리 조회\n",
    "wn.synsets('working')"
   ]
  },
  {
   "cell_type": "code",
   "execution_count": 13,
   "metadata": {},
   "outputs": [
    {
     "data": {
      "text/plain": [
       "[Lemma('work.v.02.work'), Lemma('work.v.02.do_work')]"
      ]
     },
     "execution_count": 13,
     "metadata": {},
     "output_type": "execute_result"
    }
   ],
   "source": [
    "wn.synset('work.v.02').lemmas() #보조 형태"
   ]
  },
  {
   "cell_type": "code",
   "execution_count": 11,
   "metadata": {},
   "outputs": [
    {
     "data": {
      "text/plain": [
       "['work', 'do_work']"
      ]
     },
     "execution_count": 11,
     "metadata": {},
     "output_type": "execute_result"
    }
   ],
   "source": [
    "wn.synset('work.v.02').lemma_names() # 이를 설명하는 것, 일하다"
   ]
  },
  {
   "cell_type": "code",
   "execution_count": 14,
   "metadata": {},
   "outputs": [
    {
     "data": {
      "text/plain": [
       "'be employed'"
      ]
     },
     "execution_count": 14,
     "metadata": {},
     "output_type": "execute_result"
    }
   ],
   "source": [
    "wn.synset('work.v.02').definition() # 정의"
   ]
  },
  {
   "cell_type": "code",
   "execution_count": 15,
   "metadata": {},
   "outputs": [
    {
     "data": {
      "text/plain": [
       "Lemma('work.v.02.work')"
      ]
     },
     "execution_count": 15,
     "metadata": {},
     "output_type": "execute_result"
    }
   ],
   "source": [
    "wn.lemma('work.v.02.work')"
   ]
  },
  {
   "cell_type": "code",
   "execution_count": 16,
   "metadata": {},
   "outputs": [
    {
     "data": {
      "text/plain": [
       "Synset('work.v.02')"
      ]
     },
     "execution_count": 16,
     "metadata": {},
     "output_type": "execute_result"
    }
   ],
   "source": [
    "wn.lemma('work.v.02.work').synset()"
   ]
  },
  {
   "cell_type": "code",
   "execution_count": 17,
   "metadata": {},
   "outputs": [
    {
     "data": {
      "text/plain": [
       "'work'"
      ]
     },
     "execution_count": 17,
     "metadata": {},
     "output_type": "execute_result"
    }
   ],
   "source": [
    "wn.lemma('work.v.02.work').name()"
   ]
  },
  {
   "cell_type": "code",
   "execution_count": 19,
   "metadata": {},
   "outputs": [
    {
     "data": {
      "text/plain": [
       "[Synset('addressing_machine.n.01'),\n",
       " Synset('character_printer.n.01'),\n",
       " Synset('electrostatic_printer.n.01'),\n",
       " Synset('impact_printer.n.01'),\n",
       " Synset('line_printer.n.01'),\n",
       " Synset('page_printer.n.01'),\n",
       " Synset('printer.n.02'),\n",
       " Synset('thermal_printer.n.01'),\n",
       " Synset('typesetting_machine.n.01')]"
      ]
     },
     "execution_count": 19,
     "metadata": {},
     "output_type": "execute_result"
    }
   ],
   "source": [
    "#Lexical relations (어휘 관계)\n",
    "#-----------------------------\n",
    "# Hyponym : 하위어 (a more specific concept)\n",
    "printer = wn.synset('printer.n.03')\n",
    "printer\n",
    "printer.hyponyms()"
   ]
  },
  {
   "cell_type": "code",
   "execution_count": 20,
   "metadata": {},
   "outputs": [
    {
     "data": {
      "text/plain": [
       "['Addressograph',\n",
       " 'addressing_machine',\n",
       " 'character-at-a-time_printer',\n",
       " 'character_printer',\n",
       " 'electrostatic_printer',\n",
       " 'impact_printer',\n",
       " 'line-at-a-time_printer',\n",
       " 'line_printer',\n",
       " 'page-at-a-time_printer',\n",
       " 'page_printer',\n",
       " 'printer',\n",
       " 'serial_printer',\n",
       " 'thermal_printer',\n",
       " 'typesetting_machine']"
      ]
     },
     "execution_count": 20,
     "metadata": {},
     "output_type": "execute_result"
    }
   ],
   "source": [
    "wn.synset('addressing_machine.n.01').lemmas()\n",
    "sorted([lemma.name()\n",
    "    for synset in printer.hyponyms()\n",
    "    for lemma in synset.lemmas()]\n",
    "    )"
   ]
  },
  {
   "cell_type": "code",
   "execution_count": null,
   "metadata": {},
   "outputs": [],
   "source": [
    "# Hypernym : 상위어\n",
    "printer.hypernyms()\n",
    "wn.synset('machine.n.01').lemmas()\n",
    "sorted([lemma.name()\n",
    "    for synset in printer.hypernyms()\n",
    "    for lemma in synset.lemmas()]\n",
    "    )"
   ]
  },
  {
   "cell_type": "code",
   "execution_count": null,
   "metadata": {},
   "outputs": [],
   "source": [
    "# 최상위의 상위어\n",
    "printer.root_hypernyms()"
   ]
  },
  {
   "cell_type": "code",
   "execution_count": null,
   "metadata": {},
   "outputs": [],
   "source": [
    "# 계층 구조 확인\n",
    "printer.hypernym_paths()\n",
    "[synset.name() for synset in printer.hypernym_paths()[0]]\n",
    "\n",
    "wn.synset('entity.n.01').hyponyms()\n",
    "wn.synset('physical_entity.n.01').hyponyms()\n",
    "wn.synset('object.n.01').hyponyms()\n",
    "wn.synset('whole.n.02').hyponyms()\n",
    "wn.synset('instrumentality.n.03').hyponyms()"
   ]
  },
  {
   "cell_type": "code",
   "execution_count": null,
   "metadata": {},
   "outputs": [],
   "source": [
    "# part_meronyms() - obtains parts,\n",
    "# substance_meronyms() - obtains substances\n",
    "wn.synsets('tree')\n",
    "wn.synset('tree.n.01').part_meronyms()\n",
    "wn.synset('tree.n.01').substance_meronyms()\n",
    "\n",
    "# Holonym — denotes a membership to something\n",
    "wn.synset('atom.n.01').part_holonyms()\n",
    "wn.synset('hydrogen.n.01').substance_holonyms()\n",
    "\n",
    "# Entailment — denotes how verbs are involved, 함의\n",
    "wn.synset('eat.v.01').entailments()\n",
    "\n",
    "# Similarity\n",
    "wn.synsets('truck')\n",
    "truck = wn.synset('truck.n.01')\n",
    "truck\n",
    "\n",
    "wn.synsets('limousine')\n",
    "limousine = wn.synset('limousine.n.01')\n",
    "limousine\n",
    "\n",
    "# 공통 상위어\n",
    "truck.lowest_common_hypernyms(limousine)\n",
    "\n",
    "# 유사도 측정\n",
    "wn.synsets('dog')\n",
    "dog = wn.synset('dog.n.01')\n",
    "wn.synsets('wolf')\n",
    "wolf = wn.synset('wolf.n.01')\n",
    "wn.synsets('cat')\n",
    "cat = wn.synset('cat.n.01')\n",
    "wn.synsets('human')\n",
    "human = wn.synset('homo.n.02')\n",
    "\n",
    "dog.path_similarity(cat)\n",
    "dog.path_similarity(wolf)\n",
    "dog.path_similarity(human)\n",
    "cat.path_similarity(human)\n",
    "\n",
    "# Path similarity 계산 원리\n",
    "wn.synset('carnivore.n.01').hyponyms()\n",
    "wn.synset('canine.n.02').hyponyms()\n",
    "wn.synset('feline.n.01').hyponyms()\n",
    "\n",
    "# 컨셉 계층 (Concept Hierarchy) 깊이 측정\n",
    "cat = wn.synset('cat.n.01')\n",
    "cat.min_depth()\n",
    "cat.hypernym_paths()\n",
    "wn.synset('entity.n.01').min_depth()\n",
    "\n",
    "dog = wn.synset('dog.n.01')\n",
    "dog.min_depth()\n",
    "dog.hypernym_paths()"
   ]
  }
 ],
 "metadata": {
  "kernelspec": {
   "display_name": "Python 3",
   "language": "python",
   "name": "python3"
  },
  "language_info": {
   "codemirror_mode": {
    "name": "ipython",
    "version": 3
   },
   "file_extension": ".py",
   "mimetype": "text/x-python",
   "name": "python",
   "nbconvert_exporter": "python",
   "pygments_lexer": "ipython3",
   "version": "3.7.3"
  }
 },
 "nbformat": 4,
 "nbformat_minor": 2
}
