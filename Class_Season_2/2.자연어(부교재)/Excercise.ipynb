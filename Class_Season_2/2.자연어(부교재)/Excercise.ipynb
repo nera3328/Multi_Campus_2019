{
 "cells": [
  {
   "cell_type": "code",
   "execution_count": 71,
   "metadata": {},
   "outputs": [],
   "source": [
    "import nltk\n",
    "from nltk.corpus import names\n",
    "from nltk.corpus import inaugural\n",
    "import numpy as np\n",
    "from matplotlib import pyplot as plt"
   ]
  },
  {
   "cell_type": "markdown",
   "metadata": {},
   "source": [
    "1.지프의 법칙을 이해하고 영문소설 햄릿에 사용된 단어의 빈도수가 이를 따르는 지 확인하는 파이썬 프로그램 작성"
   ]
  },
  {
   "cell_type": "markdown",
   "metadata": {},
   "source": [
    "#### Zipf's law  \n",
    "f(w): 단어 w 의 빈도  \n",
    "rank(w) : 단어 w의 빈도 순위  \n",
    "f(w)~1/rank(w)  \n",
    "log(f(x))= - log(rank(w))"
   ]
  },
  {
   "cell_type": "code",
   "execution_count": 72,
   "metadata": {},
   "outputs": [
    {
     "name": "stdout",
     "output_type": "stream",
     "text": [
      "['austen-emma.txt', 'austen-persuasion.txt', 'austen-sense.txt', 'bible-kjv.txt', 'blake-poems.txt', 'bryant-stories.txt', 'burgess-busterbrown.txt', 'carroll-alice.txt', 'chesterton-ball.txt', 'chesterton-brown.txt', 'chesterton-thursday.txt', 'edgeworth-parents.txt', 'melville-moby_dick.txt', 'milton-paradise.txt', 'shakespeare-caesar.txt', 'shakespeare-hamlet.txt', 'shakespeare-macbeth.txt', 'whitman-leaves.txt']\n"
     ]
    }
   ],
   "source": [
    "textlist=nltk.corpus.gutenberg.fileids()\n",
    "print(textlist)"
   ]
  },
  {
   "cell_type": "code",
   "execution_count": 73,
   "metadata": {},
   "outputs": [
    {
     "name": "stdout",
     "output_type": "stream",
     "text": [
      "[(',', 11454), ('.', 6928), ('to', 5183), ('the', 4844), ('and', 4672), ('of', 4279), ('I', 3178), ('a', 3004), ('was', 2385), ('her', 2381), (';', 2199), ('it', 2128), ('in', 2118), ('not', 2101), ('\"', 2004), ('be', 1970), ('she', 1778), ('that', 1730), ('you', 1677), ('had', 1606)]\n"
     ]
    }
   ],
   "source": [
    "hamlet=nltk.corpus.gutenberg.words('shakespeare-hamlet.txt')\n",
    "fdist=nltk.FreqDist(text)\n",
    "print(fdist.most_common(20))"
   ]
  },
  {
   "cell_type": "code",
   "execution_count": 74,
   "metadata": {},
   "outputs": [
    {
     "data": {
      "image/png": "[encoded data removed]",
      "text/plain": [
       "<Figure size 720x432 with 1 Axes>"
      ]
     },
     "metadata": {
      "needs_background": "light"
     },
     "output_type": "display_data"
    }
   ],
   "source": [
    "x =np.arange(1, len(fdist) + 1)\n",
    "y = sorted(list(fdist.values()), reverse=True)\n",
    "plt.figure(figsize=(10, 6))\n",
    "plt.plot(x, y)\n",
    "plt.xlim(1, 100)\n",
    "plt.show()"
   ]
  },
  {
   "cell_type": "code",
   "execution_count": 75,
   "metadata": {},
   "outputs": [
    {
     "data": {
      "image/png": "[encoded data removed]",
      "text/plain": [
       "<Figure size 720x432 with 1 Axes>"
      ]
     },
     "metadata": {
      "needs_background": "light"
     },
     "output_type": "display_data"
    }
   ],
   "source": [
    "plt.figure(figsize=(10, 6))\n",
    "logx = np.log(x)\n",
    "logy = np.log(y)\n",
    "plt.plot(logx, logy)\n",
    "plt.show()"
   ]
  },
  {
   "cell_type": "code",
   "execution_count": 76,
   "metadata": {},
   "outputs": [
    {
     "name": "stdout",
     "output_type": "stream",
     "text": [
      "기울기 =  -1.4046388550730242\n"
     ]
    }
   ],
   "source": [
    "print(\"기울기 = \", np.polyfit(logx, logy, 1)[0]) #직선으로 하면 0번째 기울기가 나와. 기울기는 -1에 가까움-> 지프의 법칙"
   ]
  },
  {
   "cell_type": "markdown",
   "metadata": {},
   "source": [
    "2. 영문소설 엠마의 남자, 여자 이름 분류하는 파이썬 프로그램 작성"
   ]
  },
  {
   "cell_type": "code",
   "execution_count": 35,
   "metadata": {},
   "outputs": [
    {
     "name": "stdout",
     "output_type": "stream",
     "text": [
      "['female.txt', 'male.txt']\n"
     ]
    }
   ],
   "source": [
    "names=nltk.corpus.names\n",
    "fileid=names.fileids()\n",
    "print(fileid)"
   ]
  },
  {
   "cell_type": "code",
   "execution_count": 37,
   "metadata": {
    "scrolled": false
   },
   "outputs": [
    {
     "name": "stdout",
     "output_type": "stream",
     "text": [
      "['[', 'Emma', 'by', 'Jane', 'Austen', '1816', ']', ...]\n"
     ]
    }
   ],
   "source": [
    "word=nltk.corpus.gutenberg.words('austen-emma.txt')\n",
    "print(word)"
   ]
  },
  {
   "cell_type": "code",
   "execution_count": 6,
   "metadata": {},
   "outputs": [
    {
     "name": "stdout",
     "output_type": "stream",
     "text": [
      "['Aamir', 'Aaron', 'Abbey', 'Abbie', 'Abbot', 'Abbott', 'Abby', 'Abdel', 'Abdul', 'Abdulkarim', 'Abdullah', 'Abe', 'Abel', 'Abelard', 'Abner', 'Abraham', 'Abram', 'Ace', 'Adair', 'Adam']\n",
      "['Abagael', 'Abagail', 'Abbe', 'Abbey', 'Abbi', 'Abbie', 'Abby', 'Abigael', 'Abigail', 'Abigale', 'Abra', 'Acacia', 'Ada', 'Adah', 'Adaline', 'Adara', 'Addie', 'Addis', 'Adel', 'Adela']\n"
     ]
    }
   ],
   "source": [
    "malename=names.words('male.txt')\n",
    "femalename=names.words('female.txt')\n",
    "print(malename[:20])\n",
    "print(femalename[:20])"
   ]
  },
  {
   "cell_type": "code",
   "execution_count": 39,
   "metadata": {},
   "outputs": [
    {
     "name": "stdout",
     "output_type": "stream",
     "text": [
      "61\n",
      "35\n"
     ]
    }
   ],
   "source": [
    "maletext=set(i for i in  text if i in malename)\n",
    "femaletext=set(i for i in text if i in femalename)\n",
    "print(len(maletext))\n",
    "print(len(femaletext))"
   ]
  },
  {
   "cell_type": "code",
   "execution_count": 40,
   "metadata": {
    "scrolled": false
   },
   "outputs": [
    {
     "name": "stdout",
     "output_type": "stream",
     "text": [
      "{'Smith', 'Churchill', 'French', 'Will', 'Theodore', 'Hall', 'Mitchell', 'George', 'West', 'Weston', 'Austen', 'Wakefield', 'Robert', 'Richmond', 'Lane', 'Ford', 'Welch', 'Wright', 'Hill', 'Bear', 'Son', 'Abbey', 'Patty', 'Saunders', 'Frank', 'Don', 'Harry', 'Tan', 'Perry', 'Prince', 'Kingston', 'Henry', 'Goddard', 'Clayton', 'Richard', 'Taylor', 'Mark', 'Christian', 'See', 'King', 'Grove', 'Arthur', 'John', 'Gilbert', 'August', 'James', 'Say', 'Randall', 'Cole', 'Tom', 'Elton', 'Graham', 'William', 'Clifton', 'Park', 'Pembroke', 'Martin', 'Forest', 'Wallis', 'Fairfax', 'Cooper'}\n"
     ]
    }
   ],
   "source": [
    "print(maletext)"
   ]
  },
  {
   "cell_type": "code",
   "execution_count": 41,
   "metadata": {
    "scrolled": true
   },
   "outputs": [
    {
     "name": "stdout",
     "output_type": "stream",
     "text": [
      "{'Hannah', 'May', 'Jane', 'Bird', 'Caroline', 'Em', 'Augusta', 'George', 'Kitty', 'June', 'Lane', 'Elizabeth', 'Abbey', 'Patty', 'Tuesday', 'Frank', 'Clara', 'Anne', 'Catherine', 'Hetty', 'La', 'Perry', 'Easter', 'Anna', 'Fortune', 'Christian', 'Selina', 'April', 'Harriet', 'Emma', 'Bella', 'Isabella', 'Adelaide', 'Wallis', 'Happy'}\n"
     ]
    }
   ],
   "source": [
    "print(femaletext)"
   ]
  },
  {
   "cell_type": "code",
   "execution_count": null,
   "metadata": {},
   "outputs": [],
   "source": []
  }
 ],
 "metadata": {
  "kernelspec": {
   "display_name": "Python 3",
   "language": "python",
   "name": "python3"
  },
  "language_info": {
   "codemirror_mode": {
    "name": "ipython",
    "version": 3
   },
   "file_extension": ".py",
   "mimetype": "text/x-python",
   "name": "python",
   "nbconvert_exporter": "python",
   "pygments_lexer": "ipython3",
   "version": "3.7.3"
  }
 },
 "nbformat": 4,
 "nbformat_minor": 2
}
