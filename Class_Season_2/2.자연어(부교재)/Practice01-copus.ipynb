{
 "cells": [
  {
   "cell_type": "code",
   "execution_count": 1,
   "metadata": {},
   "outputs": [],
   "source": [
    "# Generate random text with bigrams\n",
    "import nltk"
   ]
  },
  {
   "cell_type": "code",
   "execution_count": 2,
   "metadata": {},
   "outputs": [],
   "source": [
    "# guetnberg 코퍼스의 파일 ID를 조회한다.\n",
    "textId = nltk.corpus.gutenberg.fileids()"
   ]
  },
  {
   "cell_type": "code",
   "execution_count": 20,
   "metadata": {},
   "outputs": [
    {
     "name": "stdout",
     "output_type": "stream",
     "text": [
      "[Emma by Jane Austen 1816]\n",
      "\n",
      "VOLUME I\n",
      "\n",
      "CHAPTER I\n",
      "\n",
      "\n",
      "Emma Woodhouse, handsome, clever, and rich, with a comfortable home\n",
      "and happy disposition, seemed to unite some of the best blessings\n",
      "of existence; and had lived nearly twenty-one years in the world\n",
      "with very little to distress or vex her.\n",
      "\n",
      "She was the youngest of the two daughters of a most affectionate,\n",
      "indulgent father; and had, in consequence of her sister's marriage,\n",
      "been mistress of his house from a very early period.  Her mother\n",
      "had died too long ago for her to have more than an indistinct\n",
      "remembrance of her caresses; and her place had been supplied\n",
      "by an excellent woman as governess, who had fallen little short\n",
      "of a mother in affection.\n",
      "\n",
      "문자 개수 =  887071\n"
     ]
    }
   ],
   "source": [
    "# 특정 파일의 텍스트 문서를 조회한다.\n",
    "text = nltk.corpus.gutenberg.raw('austen-emma.txt') #raw: 원시데이터\n",
    "print(text[:703])\n",
    "print(\"문자 개수 = \", len(text))"
   ]
  },
  {
   "cell_type": "code",
   "execution_count": 21,
   "metadata": {},
   "outputs": [
    {
     "name": "stdout",
     "output_type": "stream",
     "text": [
      "['[', 'Emma', 'by', 'Jane', 'Austen', '1816', ']', ...]\n",
      "word 개수 =  192427\n"
     ]
    }
   ],
   "source": [
    "# 특정 문서를 word 단위로 읽어온다.\n",
    "word = nltk.corpus.gutenberg.words('austen-emma.txt')\n",
    "\n",
    "print(word)\n",
    "print(\"word 개수 = \", len(word))\n"
   ]
  },
  {
   "cell_type": "code",
   "execution_count": 22,
   "metadata": {},
   "outputs": [
    {
     "name": "stdout",
     "output_type": "stream",
     "text": [
      "['[', 'Emma', 'by', 'Jane', 'Austen', '1816', ']']\n",
      "['VOLUME', 'I']\n",
      "['CHAPTER', 'I']\n",
      "['Emma', 'Woodhouse', ',', 'handsome', ',', 'clever', ',', 'and', 'rich', ',', 'with', 'a', 'comfortable', 'home', 'and', 'happy', 'disposition', ',', 'seemed', 'to', 'unite', 'some', 'of', 'the', 'best', 'blessings', 'of', 'existence', ';', 'and', 'had', 'lived', 'nearly', 'twenty', '-', 'one', 'years', 'in', 'the', 'world', 'with', 'very', 'little', 'to', 'distress', 'or', 'vex', 'her', '.']\n",
      "['She', 'was', 'the', 'youngest', 'of', 'the', 'two', 'daughters', 'of', 'a', 'most', 'affectionate', ',', 'indulgent', 'father', ';', 'and', 'had', ',', 'in', 'consequence', 'of', 'her', 'sister', \"'\", 's', 'marriage', ',', 'been', 'mistress', 'of', 'his', 'house', 'from', 'a', 'very', 'early', 'period', '.']\n",
      "문장 개수 =  7752\n"
     ]
    }
   ],
   "source": [
    "\n",
    "# 특정 문서를 문장 단위로 읽어온다.\n",
    "sentence = nltk.corpus.gutenberg.sents('austen-emma.txt') #sents=sentens\n",
    "for i in range(5): #5개 문장만 출력 \n",
    "    print(sentence[i])\n",
    "    \n",
    "print(\"문장 개수 = \", len(sentence))\n"
   ]
  },
  {
   "cell_type": "code",
   "execution_count": 23,
   "metadata": {},
   "outputs": [
    {
     "name": "stdout",
     "output_type": "stream",
     "text": [
      "[['While', 'he', 'lived', ',', 'it', 'must', 'be', 'only', 'an', 'engagement', ';', 'but', 'she', 'flattered', 'herself', ',', 'that', 'if', 'divested', 'of', 'the', 'danger', 'of', 'drawing', 'her', 'away', ',', 'it', 'might', 'become', 'an', 'increase', 'of', 'comfort', 'to', 'him', '.--', 'How', 'to', 'do', 'her', 'best', 'by', 'Harriet', ',', 'was', 'of', 'more', 'difficult', 'decision', ';--', 'how', 'to', 'spare', 'her', 'from', 'any', 'unnecessary', 'pain', ';', 'how', 'to', 'make', 'her', 'any', 'possible', 'atonement', ';', 'how', 'to', 'appear', 'least', 'her', 'enemy', '?--', 'On', 'these', 'subjects', ',', 'her', 'perplexity', 'and', 'distress', 'were', 'very', 'great', '--', 'and', 'her', 'mind', 'had', 'to', 'pass', 'again', 'and', 'again', 'through', 'every', 'bitter', 'reproach', 'and', 'sorrowful', 'regret', 'that', 'had', 'ever', 'surrounded', 'it', '.--', 'She', 'could', 'only', 'resolve', 'at', 'last', ',', 'that', 'she', 'would', 'still', 'avoid', 'a', 'meeting', 'with', 'her', ',', 'and', 'communicate', 'all', 'that', 'need', 'be', 'told', 'by', 'letter', ';', 'that', 'it', 'would', 'be', 'inexpressibly', 'desirable', 'to', 'have', 'her', 'removed', 'just', 'now', 'for', 'a', 'time', 'from', 'Highbury', ',', 'and', '--', 'indulging', 'in', 'one', 'scheme', 'more', '--', 'nearly', 'resolve', ',', 'that', 'it', 'might', 'be', 'practicable', 'to', 'get', 'an', 'invitation', 'for', 'her', 'to', 'Brunswick', 'Square', '.--', 'Isabella', 'had', 'been', 'pleased', 'with', 'Harriet', ';', 'and', 'a', 'few', 'weeks', 'spent', 'in', 'London', 'must', 'give', 'her', 'some', 'amusement', '.--', 'She', 'did', 'not', 'think', 'it', 'in', 'Harriet', \"'\", 's', 'nature', 'to', 'escape', 'being', 'benefited', 'by', 'novelty', 'and', 'variety', ',', 'by', 'the', 'streets', ',', 'the', 'shops', ',', 'and', 'the', 'children', '.--', 'At', 'any', 'rate', ',', 'it', 'would', 'be', 'a', 'proof', 'of', 'attention', 'and', 'kindness', 'in', 'herself', ',', 'from', 'whom', 'every', 'thing', 'was', 'due', ';', 'a', 'separation', 'for', 'the', 'present', ';', 'an', 'averting', 'of', 'the', 'evil', 'day', ',', 'when', 'they', 'must', 'all', 'be', 'together', 'again', '.']]\n"
     ]
    }
   ],
   "source": [
    "# 가장 긴 문장을 출력한다\n",
    "longestLen = max(len(s) for s in sentence) #s는 한 문장, sentence는 전체 문장.\n",
    "\n",
    "longestSent = [s for s in sentence if len(s) == longestLen]\n",
    "print(longestSent)"
   ]
  },
  {
   "cell_type": "code",
   "execution_count": 26,
   "metadata": {},
   "outputs": [],
   "source": [
    "# 각 문장에 사용된 단어 개수의 분포를 확인해 본다.\n",
    "import numpy as np\n",
    "import matplotlib.pyplot as plt\n",
    "%matplotlib inline \n",
    "#jupyer notebook에서는 써줘야해"
   ]
  },
  {
   "cell_type": "code",
   "execution_count": 28,
   "metadata": {},
   "outputs": [
    {
     "data": {
      "image/png": "[encoded data removed]",
      "text/plain": [
       "<Figure size 432x288 with 1 Axes>"
      ]
     },
     "metadata": {
      "needs_background": "light"
     },
     "output_type": "display_data"
    },
    {
     "name": "stdout",
     "output_type": "stream",
     "text": [
      "문장 당 평균 단어수 = 24.83\n"
     ]
    }
   ],
   "source": [
    "countWord = [len(n) for n in sentence] #각 문장이 몇 단어로 구성되어 있는가\n",
    "#도수 분포표\n",
    "n, bins, patches = plt.hist(countWord, bins=50) #n: 발생 횟수  //  hist: 막대 그래프 // bins: 도수의 갯수, 구간 정해줌, 50개의 막대 그래프 갯수  // patches: 막대 각각의 object\n",
    "patches[0].set_facecolor('red')\n",
    "plt.show()\n",
    "print(\"문장 당 평균 단어수 = %.2f\" % np.mean(countWord))"
   ]
  },
  {
   "cell_type": "code",
   "execution_count": 29,
   "metadata": {},
   "outputs": [],
   "source": [
    "# Gutenberg 사이트에서 직접 소설 텍스트를 읽어온다\n",
    "# 제인 오스틴의 오만과 편견\n",
    "from urllib import request"
   ]
  },
  {
   "cell_type": "code",
   "execution_count": 30,
   "metadata": {},
   "outputs": [
    {
     "name": "stdout",
     "output_type": "stream",
     "text": [
      "﻿The Project Gutenberg EBook of Pride and Prejudice, by Jane Austen\r\n",
      "\r\n",
      "This eBook is for the use of anyone anywhere at no cost and with\r\n",
      "almost no restrictions whatsoever.  You may copy it, give it away or\r\n",
      "re-use it under the terms of the Project Gutenberg License included\r\n",
      "with this eBook or online at www.gutenberg.org\r\n",
      "\r\n",
      "\r\n",
      "Title: Pride and Prejudice\r\n",
      "\r\n",
      "Author: Jane Austen\r\n",
      "\r\n",
      "Posting Date: August 26, 2008 [EBook #1342]\r\n",
      "Release Date: June, 1998\r\n",
      "Last Updated: March 10, 2018\r\n",
      "\r\n",
      "Language: Englis\n"
     ]
    }
   ],
   "source": [
    "url = \"http://www.gutenberg.org/files/1342/1342-0.txt\"\n",
    "response = request.urlopen(url)\n",
    "text = response.read().decode('utf8') #bite-type을 decode해서 받아 왔다. 디코드 하면 일반적인 .decode()가 있어서 byte 타입으로 출력되지 않았다.\n",
    "print(text[:500])"
   ]
  },
  {
   "cell_type": "markdown",
   "metadata": {},
   "source": [
    "#### s='i love you'  \n",
    "#'' 문장 안의 앞에 r을 표기하면str로 표기되지만, row type임. 다음 문자로 넘어가라 라는 의미를 가짐.\n",
    "print(type(s))\n",
    "type(s)\n",
    "  \n",
    "원본은 str 형식  \n",
    "  \n",
    "  \n",
    "\n",
    "중간에 \\t를 하면 탭 키 기능  \n",
    "   \n",
    "앞에 b를 붙이면 byte 타입,\n",
    "\n",
    "#### 문자를 컴퓨터에 표현하는 방법  \n",
    "  \n",
    "1bite= 8bit = 00000000 ->8개의 문자를 표기할 수 있음. (ASCII : 영문자엔 적합, 한국어, 중국어는 1 byte와 2byte를 이어 붙이는 등의 모습으로 표기함. 완성형, 조합형으로 표현-->표준화가 잘 되지 않음-> unicode : 3 byte체제-> 그대로 저장하면 byte type이 됨. 하지만 일반적으로는 encoding해서 저장. 대표적인 것이 UTF-8\n",
    "\n",
    "\n",
    "ex) s='가나다'하면 len(s)를 했을 때 3글자가 나올 수 있게 되었다.  \n",
    "한글은 s='가나다'.encode() 해줘야 글자 수가 나옴  \n"
   ]
  },
  {
   "cell_type": "code",
   "execution_count": 40,
   "metadata": {},
   "outputs": [
    {
     "data": {
      "text/plain": [
       "bytes"
      ]
     },
     "execution_count": 40,
     "metadata": {},
     "output_type": "execute_result"
    }
   ],
   "source": [
    "s=b'i love you'\n",
    "type(s)"
   ]
  },
  {
   "cell_type": "code",
   "execution_count": 42,
   "metadata": {},
   "outputs": [
    {
     "name": "stdout",
     "output_type": "stream",
     "text": [
      "토큰 타입 =  <class 'list'>\n",
      "['\\ufeffThe', 'Project', 'Gutenberg', 'EBook', 'of', 'Pride', 'and', 'Prejudice', ',', 'by']\n"
     ]
    }
   ],
   "source": [
    "# 원시 문서를 토큰으로 분리한다.\n",
    "tokens = nltk.word_tokenize(text) # 영어같은 경우에는 공백문자 (뛰어쓰기)단위로 나눠주는 것을 '토큰화'라고 한다. 한글은 여기서 조사까지 분리해야 토큰화가 된다.\n",
    "print(\"토큰 타입 = \", type(tokens))\n",
    "print(tokens[:10])\n",
    "\n",
    "# ' \\u는 unicode 타입이라는 의미 토큰화는 리스트 형식으로 다룰 때 편리하다.'"
   ]
  },
  {
   "cell_type": "code",
   "execution_count": 46,
   "metadata": {},
   "outputs": [
    {
     "name": "stdout",
     "output_type": "stream",
     "text": [
      "문서 타입 =  <class 'nltk.text.Text'>\n",
      "['\\ufeffThe', 'Project', 'Gutenberg', 'EBook', 'of', 'Pride', 'and', 'Prejudice', ',', 'by']\n"
     ]
    }
   ],
   "source": [
    "nltkText = nltk.Text(tokens) #리스트로 만든 토큰을 nltk.text라는 class로 변환을 하면 nltk가 관리하는 text라는 형태로 토큰을 관리할 수 있다. 이러면 text에 정의된 함수, 메소드(memver function) 들을 쓸 수 있다.\n",
    "print(\"문서 타입 = \", type(nltkText))\n",
    "print(nltkText[:10])"
   ]
  },
  {
   "cell_type": "code",
   "execution_count": 48,
   "metadata": {},
   "outputs": [
    {
     "data": {
      "image/png": "[encoded data removed]",
      "text/plain": [
       "<Figure size 432x288 with 1 Axes>"
      ]
     },
     "metadata": {
      "needs_background": "light"
     },
     "output_type": "display_data"
    }
   ],
   "source": [
    "nltkText.plot(50)"
   ]
  },
  {
   "cell_type": "code",
   "execution_count": 58,
   "metadata": {},
   "outputs": [
    {
     "data": {
      "text/plain": [
       "<bound method Counter.most_common of FreqDist({',': 9279, 'the': 4218, '.': 4201, 'to': 4160, 'of': 3704, 'and': 3493, 'her': 2107, 'I': 2065, 'a': 1954, 'was': 1838, ...})>"
      ]
     },
     "execution_count": 58,
     "metadata": {},
     "output_type": "execute_result"
    }
   ],
   "source": [
    "nltkText.vocab().most_common #이런 함수 쓸 수 있다고."
   ]
  },
  {
   "cell_type": "code",
   "execution_count": 52,
   "metadata": {},
   "outputs": [
    {
     "data": {
      "text/plain": [
       "358"
      ]
     },
     "execution_count": 52,
     "metadata": {},
     "output_type": "execute_result"
    }
   ],
   "source": [
    "# 문서에서 특정 단어 위치 검색\n",
    "# text.find() : 앞에서부터 검색\n",
    "# text.rfind() : 뒤에서부터 검색 (reverse)\n",
    "text.find(\"Author\")"
   ]
  },
  {
   "cell_type": "code",
   "execution_count": 53,
   "metadata": {},
   "outputs": [
    {
     "data": {
      "text/plain": [
       "'Author: Jane Austen'"
      ]
     },
     "execution_count": 53,
     "metadata": {},
     "output_type": "execute_result"
    }
   ],
   "source": [
    "text[358:377]"
   ]
  },
  {
   "cell_type": "code",
   "execution_count": null,
   "metadata": {},
   "outputs": [],
   "source": []
  },
  {
   "cell_type": "code",
   "execution_count": null,
   "metadata": {},
   "outputs": [],
   "source": [
    "-"
   ]
  }
 ],
 "metadata": {
  "kernelspec": {
   "display_name": "Python 3",
   "language": "python",
   "name": "python3"
  },
  "language_info": {
   "codemirror_mode": {
    "name": "ipython",
    "version": 3
   },
   "file_extension": ".py",
   "mimetype": "text/x-python",
   "name": "python",
   "nbconvert_exporter": "python",
   "pygments_lexer": "ipython3",
   "version": "3.7.3"
  }
 },
 "nbformat": 4,
 "nbformat_minor": 2
}
