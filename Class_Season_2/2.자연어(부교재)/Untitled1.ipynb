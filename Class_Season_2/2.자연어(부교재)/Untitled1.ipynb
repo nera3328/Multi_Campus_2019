{
 "cells": [
  {
   "cell_type": "code",
   "execution_count": null,
   "metadata": {},
   "outputs": [],
   "source": [
    "# Stemmer \n",
    "import nltk\n",
    "\n",
    "raw = \"\"\"\n",
    "    DENNIS: Listen, strange women lying in ponds distributing swords\n",
    "    is no basis for a system of government.  Supreme executive power derives from\n",
    "    a mandate from the masses, not from some farcical aquatic ceremony.\n",
    "    \"\"\"\n",
    "tokens = nltk.word_tokenize(raw)\n",
    "print(tokens)\n",
    "\n",
    "# Porter stemmer\n",
    "porter = nltk.PorterStemmer()\n",
    "stem = [porter.stem(t) for t in tokens]\n",
    "print(stem)\n",
    "\n",
    "# Lancaster stemmer\n",
    "lancaster = nltk.LancasterStemmer()\n",
    "stem = [lancaster.stem(t) for t in tokens]\n",
    "print(stem)\n"
   ]
  }
 ],
 "metadata": {
  "kernelspec": {
   "display_name": "Python 3",
   "language": "python",
   "name": "python3"
  },
  "language_info": {
   "codemirror_mode": {
    "name": "ipython",
    "version": 3
   },
   "file_extension": ".py",
   "mimetype": "text/x-python",
   "name": "python",
   "nbconvert_exporter": "python",
   "pygments_lexer": "ipython3",
   "version": "3.7.3"
  }
 },
 "nbformat": 4,
 "nbformat_minor": 2
}
