{
 "cells": [
  {
   "cell_type": "code",
   "execution_count": 1,
   "metadata": {},
   "outputs": [],
   "source": [
    "# Reuter Corpus 데이터를 읽어온다\n",
    "from nltk.corpus import reuters "
   ]
  },
  {
   "cell_type": "code",
   "execution_count": 3,
   "metadata": {},
   "outputs": [
    {
     "name": "stdout",
     "output_type": "stream",
     "text": [
      "['test/14826', 'test/14828', 'test/14829', 'test/14832', 'test/14833', 'test/14839', 'test/14840', 'test/14841', 'test/14842', 'test/14843']\n",
      "['training/13203', 'training/13204', 'training/13205', 'training/13206', 'training/13210', 'training/13211', 'training/13212', 'training/13214', 'training/1322', 'training/13223']\n"
     ]
    }
   ],
   "source": [
    "# 로이터 코퍼스의 파일 ID를 조회한다.\n",
    "textId = reuters.fileids()\n",
    "print(textId[:10])\n",
    "print(textId[5000:5010])"
   ]
  },
  {
   "cell_type": "code",
   "execution_count": 4,
   "metadata": {},
   "outputs": [
    {
     "name": "stdout",
     "output_type": "stream",
     "text": [
      "['acq', 'alum', 'barley', 'bop', 'carcass', 'castor-oil', 'cocoa', 'coconut', 'coconut-oil', 'coffee', 'copper', 'copra-cake', 'corn', 'cotton', 'cotton-oil', 'cpi', 'cpu', 'crude', 'dfl', 'dlr', 'dmk', 'earn', 'fuel', 'gas', 'gnp', 'gold', 'grain', 'groundnut', 'groundnut-oil', 'heat', 'hog', 'housing', 'income', 'instal-debt', 'interest', 'ipi', 'iron-steel', 'jet', 'jobs', 'l-cattle', 'lead', 'lei', 'lin-oil', 'livestock', 'lumber', 'meal-feed', 'money-fx', 'money-supply', 'naphtha', 'nat-gas', 'nickel', 'nkr', 'nzdlr', 'oat', 'oilseed', 'orange', 'palladium', 'palm-oil', 'palmkernel', 'pet-chem', 'platinum', 'potato', 'propane', 'rand', 'rape-oil', 'rapeseed', 'reserves', 'retail', 'rice', 'rubber', 'rye', 'ship', 'silver', 'sorghum', 'soy-meal', 'soy-oil', 'soybean', 'strategic-metal', 'sugar', 'sun-meal', 'sun-oil', 'sunseed', 'tea', 'tin', 'trade', 'veg-oil', 'wheat', 'wpi', 'yen', 'zinc']\n"
     ]
    }
   ],
   "source": [
    "# 카테고리 목록을 조회한다\n",
    "cat = reuters.categories()\n",
    "print(cat)"
   ]
  },
  {
   "cell_type": "code",
   "execution_count": 6,
   "metadata": {},
   "outputs": [
    {
     "name": "stdout",
     "output_type": "stream",
     "text": [
      "FRENCH FREE MARKET CEREAL EXPORT BIDS DETAILED\n",
      "  French operators have requested licences\n",
      "  to export 675,500 tonnes of maize, 245,000 tonnes of barley,\n",
      "  22,000 tonnes of soft bread wheat and 20,000 tonnes of feed\n",
      "  wheat at today's European Community tender, traders said.\n",
      "      Rebates requested ranged from 127.75 to 132.50 European\n",
      "  Currency Units a tonne for maize, 136.00 to 141.00 Ecus a tonne\n",
      "  for barley and 134.25 to 141.81 Ecus for bread wheat, while\n",
      "  rebates requested for feed wheat were 137.65 Ecus, they said.\n",
      "  \n",
      "\n",
      "\n"
     ]
    }
   ],
   "source": [
    "# 원시 문서를 읽는다\n",
    "text = reuters.raw('training/9865')\n",
    "print(text)"
   ]
  },
  {
   "cell_type": "code",
   "execution_count": 7,
   "metadata": {},
   "outputs": [
    {
     "name": "stdout",
     "output_type": "stream",
     "text": [
      "['barley', 'corn', 'grain', 'wheat']\n"
     ]
    }
   ],
   "source": [
    "# 문서의 주제어를 조회한다.\n",
    "topic = reuters.categories('training/9865')\n",
    "print(topic)"
   ]
  },
  {
   "cell_type": "code",
   "execution_count": 8,
   "metadata": {},
   "outputs": [
    {
     "name": "stdout",
     "output_type": "stream",
     "text": [
      "['barley', 'corn', 'grain', 'money-fx', 'wheat']\n"
     ]
    }
   ],
   "source": [
    "topic = reuters.categories(['training/9865', 'training/9880'])\n",
    "print(topic)"
   ]
  },
  {
   "cell_type": "code",
   "execution_count": 9,
   "metadata": {},
   "outputs": [
    {
     "name": "stdout",
     "output_type": "stream",
     "text": [
      "['test/21245', 'training/5388', 'training/5460', 'training/5485']\n"
     ]
    }
   ],
   "source": [
    "# 해당 주제어를 갖는 문서를 찾는다\n",
    "textTopic = reuters.fileids('cpu')\n",
    "print(textTopic)"
   ]
  },
  {
   "cell_type": "code",
   "execution_count": 10,
   "metadata": {},
   "outputs": [
    {
     "name": "stdout",
     "output_type": "stream",
     "text": [
      "['test/17880', 'test/18480', 'test/19497', 'test/19903', 'test/21245', 'training/5388', 'training/5460', 'training/5485', 'training/6535', 'training/7397']\n"
     ]
    }
   ],
   "source": [
    "textTopic = reuters.fileids(['cpu', 'naphtha']) #cpu or naphtha 유사한 주제어\n",
    "print(textTopic)"
   ]
  },
  {
   "cell_type": "code",
   "execution_count": 11,
   "metadata": {},
   "outputs": [
    {
     "name": "stdout",
     "output_type": "stream",
     "text": [
      "['CANADA', 'MANUFACTURING', 'UTILIZATION', 'RATE', 'RISES', 'Utilization', 'of', 'Canadian', 'manufacturing', 'capacity', 'rose', 'to', '77', '.', '2', 'pct', 'in', 'the', 'fourth', 'quarter', 'of', '1986', 'from', '77', 'pct', 'in', 'the', 'third', 'quarter', ',', 'Statistics', 'Canada', 'said', '.', '\"', 'Although', 'the', 'change', 'was', 'small']\n"
     ]
    }
   ],
   "source": [
    "# 유사한 주제어를 갖는 문서의 내용을 조회한다.\n",
    "text = reuters.words('training/5388') #내용 조회\n",
    "print(text[:40])"
   ]
  },
  {
   "cell_type": "code",
   "execution_count": 12,
   "metadata": {},
   "outputs": [
    {
     "name": "stdout",
     "output_type": "stream",
     "text": [
      "['U', '.', 'S', '.', 'INDUSTRIAL', 'CAPACITY', 'USE', 'RATE', 'ROSE', 'TO', '79', '.', '8', 'PCT', 'IN', 'FEB', 'FROM', '79', '.', '6', 'PCT', 'IN', 'JAN', 'U', '.', 'S', '.', 'INDUSTRIAL', 'CAPACITY', 'USE', 'RATE', 'ROSE', 'TO', '79', '.', '8', 'PCT', 'IN', 'FEB', 'FROM', '79', '.', '6', 'PCT', 'IN', 'JAN']\n"
     ]
    }
   ],
   "source": [
    "text = reuters.words('training/5460')\n",
    "print(text[:60])"
   ]
  },
  {
   "cell_type": "code",
   "execution_count": null,
   "metadata": {},
   "outputs": [],
   "source": []
  }
 ],
 "metadata": {
  "kernelspec": {
   "display_name": "Python 3",
   "language": "python",
   "name": "python3"
  },
  "language_info": {
   "codemirror_mode": {
    "name": "ipython",
    "version": 3
   },
   "file_extension": ".py",
   "mimetype": "text/x-python",
   "name": "python",
   "nbconvert_exporter": "python",
   "pygments_lexer": "ipython3",
   "version": "3.7.3"
  }
 },
 "nbformat": 4,
 "nbformat_minor": 2
}
