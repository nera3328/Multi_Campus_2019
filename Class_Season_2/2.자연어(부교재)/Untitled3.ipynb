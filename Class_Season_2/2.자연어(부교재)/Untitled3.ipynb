{
 "cells": [
  {
   "cell_type": "code",
   "execution_count": 1,
   "metadata": {},
   "outputs": [
    {
     "ename": "ModuleNotFoundError",
     "evalue": "No module named 'pdf'",
     "output_type": "error",
     "traceback": [
      "\u001b[1;31m---------------------------------------------------------------------------\u001b[0m",
      "\u001b[1;31mModuleNotFoundError\u001b[0m                       Traceback (most recent call last)",
      "\u001b[1;32m<ipython-input-1-d1ea0db928ff>\u001b[0m in \u001b[0;36m<module>\u001b[1;34m\u001b[0m\n\u001b[1;32m----> 1\u001b[1;33m \u001b[1;32mimport\u001b[0m \u001b[0mpdf\u001b[0m\u001b[1;33m\u001b[0m\u001b[1;33m\u001b[0m\u001b[0m\n\u001b[0m",
      "\u001b[1;31mModuleNotFoundError\u001b[0m: No module named 'pdf'"
     ]
    }
   ],
   "source": [
    "import pdf"
   ]
  },
  {
   "cell_type": "code",
   "execution_count": null,
   "metadata": {},
   "outputs": [],
   "source": [
    "def getTextPDF(pdfFileName,password=''):\n",
    "    pdf_file=open(pdFileName,'rb')\n",
    "    read_pdf=PdfFileReader(pdf_file)\n",
    "    if password !='':\n",
    "        read_pdf.decrypt(password)\n",
    "        text=[]\n",
    "    for i in range(0,read_pdf.getNumPages()-1):\n",
    "        text.append(read_pdf.getPage(i).extractText())\n",
    "        return '\\n'.join(text)\n",
    "    \n",
    "pdfFile='sample-one-line.pdf'\n",
    "pdfFileEncrypted='sample-one-line.protected.pdf'\n",
    "\n",
    "print('PDF 1 : \\n',pdf.getTextPDF(pdfFile))\n",
    "print('PDF 2 : \\n',pdf.getTextPDF(pdfFileEncrypted,'tuffy'))"
   ]
  }
 ],
 "metadata": {
  "kernelspec": {
   "display_name": "Python 3",
   "language": "python",
   "name": "python3"
  },
  "language_info": {
   "codemirror_mode": {
    "name": "ipython",
    "version": 3
   },
   "file_extension": ".py",
   "mimetype": "text/x-python",
   "name": "python",
   "nbconvert_exporter": "python",
   "pygments_lexer": "ipython3",
   "version": "3.7.3"
  }
 },
 "nbformat": 4,
 "nbformat_minor": 2
}
