{
 "cells": [
  {
   "cell_type": "code",
   "execution_count": 1,
   "metadata": {},
   "outputs": [
    {
     "name": "stdout",
     "output_type": "stream",
     "text": [
      "<class 'str'> : 유나;지은;스튜어트;케빈\n"
     ]
    }
   ],
   "source": [
    "nameList=['유나','지은','스튜어트','케빈']\n",
    "sentence='우리 강아지는 쇼파 위에서 잔다.'\n",
    "names=';'.join(nameList)\n",
    "print(type(names),':',names)"
   ]
  },
  {
   "cell_type": "code",
   "execution_count": 2,
   "metadata": {},
   "outputs": [
    {
     "name": "stdout",
     "output_type": "stream",
     "text": [
      "<class 'list'> : ['우리', '강아지는', '쇼파', '위에서', '잔다.']\n"
     ]
    }
   ],
   "source": [
    "wordlist=sentence.split(' ')\n",
    "print((type(wordlist)),':',wordlist)"
   ]
  },
  {
   "cell_type": "code",
   "execution_count": 3,
   "metadata": {},
   "outputs": [
    {
     "name": "stdout",
     "output_type": "stream",
     "text": [
      "텍스트 덧셈 :  파이선파이선파이선\n",
      "텍스트 곱셈 :  파이썬파이썬\n"
     ]
    }
   ],
   "source": [
    "additionexample='파이선'+'파이선'+'파이선'\n",
    "multiplicationexample='파이썬'*2\n",
    "print('텍스트 덧셈 : ',additionexample)\n",
    "print('텍스트 곱셈 : ', multiplicationexample)"
   ]
  },
  {
   "cell_type": "code",
   "execution_count": 4,
   "metadata": {},
   "outputs": [
    {
     "name": "stdout",
     "output_type": "stream",
     "text": [
      "y\n",
      "L\n"
     ]
    }
   ],
   "source": [
    "str='python NLTK'\n",
    "print(str[1])\n",
    "print(str[-3])"
   ]
  },
  {
   "cell_type": "code",
   "execution_count": 5,
   "metadata": {},
   "outputs": [
    {
     "name": "stdout",
     "output_type": "stream",
     "text": [
      "NLTK\n",
      "Python\n",
      "Dolly\n",
      "Dolly\n",
      "찾았다\n",
      "NLTK Shally Python\n"
     ]
    }
   ],
   "source": [
    "str='NLTK Dolly Python'\n",
    "print(str[:4])\n",
    "print(str[11:])\n",
    "print(str[5:10])\n",
    "print(str[-12:-7])\n",
    "if 'NLTK' in str:\n",
    "    print('찾았다')\n",
    "replaced=str.replace('Dolly','Shally')\n",
    "print(replaced)"
   ]
  },
  {
   "cell_type": "code",
   "execution_count": 6,
   "metadata": {},
   "outputs": [
    {
     "name": "stdout",
     "output_type": "stream",
     "text": [
      "N\n",
      "L\n",
      "T\n",
      "K\n",
      " \n",
      "S\n",
      "h\n",
      "a\n",
      "l\n",
      "l\n",
      "y\n",
      " \n",
      "P\n",
      "y\n",
      "t\n",
      "h\n",
      "o\n",
      "n\n"
     ]
    }
   ],
   "source": [
    "for s in replaced:\n",
    "    print (s)"
   ]
  },
  {
   "cell_type": "code",
   "execution_count": 16,
   "metadata": {},
   "outputs": [
    {
     "ename": "ModuleNotFoundError",
     "evalue": "No module named 'pdf'",
     "output_type": "error",
     "traceback": [
      "\u001b[1;31m---------------------------------------------------------------------------\u001b[0m",
      "\u001b[1;31mModuleNotFoundError\u001b[0m                       Traceback (most recent call last)",
      "\u001b[1;32m<ipython-input-16-2d7f58b2a4b2>\u001b[0m in \u001b[0;36m<module>\u001b[1;34m\u001b[0m\n\u001b[0;32m      1\u001b[0m \u001b[1;32mfrom\u001b[0m \u001b[0mPyPDF2\u001b[0m \u001b[1;32mimport\u001b[0m \u001b[0mPdfFileReader\u001b[0m\u001b[1;33m\u001b[0m\u001b[1;33m\u001b[0m\u001b[0m\n\u001b[1;32m----> 2\u001b[1;33m \u001b[1;32mimport\u001b[0m \u001b[0mpdf\u001b[0m\u001b[1;33m\u001b[0m\u001b[1;33m\u001b[0m\u001b[0m\n\u001b[0m",
      "\u001b[1;31mModuleNotFoundError\u001b[0m: No module named 'pdf'"
     ]
    }
   ],
   "source": [
    "from PyPDF2 import PdfFileReader"
   ]
  },
  {
   "cell_type": "code",
   "execution_count": 15,
   "metadata": {},
   "outputs": [
    {
     "ename": "NameError",
     "evalue": "name 'pdf' is not defined",
     "output_type": "error",
     "traceback": [
      "\u001b[1;31m---------------------------------------------------------------------------\u001b[0m",
      "\u001b[1;31mNameError\u001b[0m                                 Traceback (most recent call last)",
      "\u001b[1;32m<ipython-input-15-00a56f39d00a>\u001b[0m in \u001b[0;36m<module>\u001b[1;34m\u001b[0m\n\u001b[0;32m     12\u001b[0m \u001b[0mpdfFileEncrypted\u001b[0m\u001b[1;33m=\u001b[0m\u001b[1;34m'sample-one-line.protected.pdf'\u001b[0m\u001b[1;33m\u001b[0m\u001b[1;33m\u001b[0m\u001b[0m\n\u001b[0;32m     13\u001b[0m \u001b[1;33m\u001b[0m\u001b[0m\n\u001b[1;32m---> 14\u001b[1;33m \u001b[0mprint\u001b[0m\u001b[1;33m(\u001b[0m\u001b[1;34m'PDF 1 : \\n'\u001b[0m\u001b[1;33m,\u001b[0m\u001b[0mpdf\u001b[0m\u001b[1;33m.\u001b[0m\u001b[0mgetTextPDF\u001b[0m\u001b[1;33m(\u001b[0m\u001b[0mpdfFile\u001b[0m\u001b[1;33m)\u001b[0m\u001b[1;33m)\u001b[0m\u001b[1;33m\u001b[0m\u001b[1;33m\u001b[0m\u001b[0m\n\u001b[0m\u001b[0;32m     15\u001b[0m \u001b[0mprint\u001b[0m\u001b[1;33m(\u001b[0m\u001b[1;34m'PDF 2 : \\n'\u001b[0m\u001b[1;33m,\u001b[0m\u001b[0mpdf\u001b[0m\u001b[1;33m.\u001b[0m\u001b[0mgetTextPDF\u001b[0m\u001b[1;33m(\u001b[0m\u001b[0mpdfFileEncrypted\u001b[0m\u001b[1;33m,\u001b[0m\u001b[1;34m'tuffy'\u001b[0m\u001b[1;33m)\u001b[0m\u001b[1;33m)\u001b[0m\u001b[1;33m\u001b[0m\u001b[1;33m\u001b[0m\u001b[0m\n",
      "\u001b[1;31mNameError\u001b[0m: name 'pdf' is not defined"
     ]
    }
   ],
   "source": [
    "def getTextPDF(pdfFileName,password=''):\n",
    "    pdf_file=open(pdFileName,'rb')\n",
    "    read_pdf=PdfFileReader(pdf_file)\n",
    "    if password !='':\n",
    "        read_pdf.decrypt(password)\n",
    "        text=[]\n",
    "    for i in range(0,read_pdf.getNumPages()-1):\n",
    "        text.append(read_pdf.getPage(i).extractText())\n",
    "        return '\\n'.join(text)\n",
    "    \n",
    "pdfFile='sample-one-line.pdf'\n",
    "pdfFileEncrypted='sample-one-line.protected.pdf'\n",
    "\n",
    "print('PDF 1 : \\n',pdf.getTextPDF(pdfFile))\n",
    "print('PDF 2 : \\n',pdf.getTextPDF(pdfFileEncrypted,'tuffy'))"
   ]
  },
  {
   "cell_type": "code",
   "execution_count": null,
   "metadata": {},
   "outputs": [],
   "source": []
  }
 ],
 "metadata": {
  "kernelspec": {
   "display_name": "Python 3",
   "language": "python",
   "name": "python3"
  },
  "language_info": {
   "codemirror_mode": {
    "name": "ipython",
    "version": 3
   },
   "file_extension": ".py",
   "mimetype": "text/x-python",
   "name": "python",
   "nbconvert_exporter": "python",
   "pygments_lexer": "ipython3",
   "version": "3.7.3"
  }
 },
 "nbformat": 4,
 "nbformat_minor": 2
}
