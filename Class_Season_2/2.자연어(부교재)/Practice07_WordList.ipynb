{
 "cells": [
  {
   "cell_type": "code",
   "execution_count": 1,
   "metadata": {},
   "outputs": [],
   "source": [
    "# 영어 단어 목록 (word list)을 읽어온다\n",
    "import nltk"
   ]
  },
  {
   "cell_type": "code",
   "execution_count": 2,
   "metadata": {},
   "outputs": [
    {
     "name": "stdout",
     "output_type": "stream",
     "text": [
      "단어 개수 =  236736\n"
     ]
    }
   ],
   "source": [
    "wordlist = nltk.corpus.words.words() #word를 단어 단위로 읽어라----철자 교정 등에 용이\n",
    "print(\"단어 개수 = \", len(wordlist))"
   ]
  },
  {
   "cell_type": "code",
   "execution_count": 3,
   "metadata": {},
   "outputs": [
    {
     "name": "stdout",
     "output_type": "stream",
     "text": [
      "['A', 'a', 'aa', 'aal', 'aalii', 'aam', 'Aani', 'aardvark', 'aardwolf', 'Aaron', 'Aaronic', 'Aaronical', 'Aaronite', 'Aaronitic', 'Aaru', 'Ab', 'aba', 'Ababdeh', 'Ababua', 'abac', 'abaca', 'abacate', 'abacay', 'abacinate', 'abacination', 'abaciscus', 'abacist', 'aback', 'abactinal', 'abactinally']\n"
     ]
    }
   ],
   "source": [
    "print(wordlist[:30])"
   ]
  },
  {
   "cell_type": "code",
   "execution_count": 4,
   "metadata": {},
   "outputs": [
    {
     "name": "stdout",
     "output_type": "stream",
     "text": [
      "['whip', 'whistle', 'white', 'who', 'why', 'wide', 'will', 'wind', 'window', 'wine', 'wing', 'winter', 'wire', 'wise', 'with', 'woman', 'wood', 'wool', 'word', 'work', 'worm', 'wound', 'writing', 'wrong', 'year', 'yellow', 'yes', 'yesterday', 'you', 'young']\n"
     ]
    }
   ],
   "source": [
    "print(wordlist[-30:])"
   ]
  },
  {
   "cell_type": "code",
   "execution_count": 5,
   "metadata": {},
   "outputs": [
    {
     "name": "stdout",
     "output_type": "stream",
     "text": [
      "['glover', 'gorlin', 'govern', 'grovel', 'ignore', 'involver', 'lienor', 'linger', 'longer', 'lovering', 'noiler', 'overling', 'region', 'renvoi', 'revolving', 'ringle', 'roving', 'violer', 'virole']\n"
     ]
    }
   ],
   "source": [
    "# Figure 4.3: A Word Puzzle: a grid of randomly chosen letters with rules for creating words out of the letters; \n",
    "# this puzzle is known as \"Target.\"\n",
    "# +---+---+---+  1. How many words of 6 letters or more from those shown here?\n",
    "# | e | g | i | 2. Each letter may be used once per word.\n",
    "# +---+---+---+ 3. Each word must contain the center letter and there must be at least one nine-letter word.\n",
    "# | v | r | v |  No plurals ending in \"s\"; no foreign words; no proper names. \n",
    "# +---+---+---+   -21 words, good;\n",
    "# | o | n | l |   -32 words, very good;\n",
    "# +---+---+---+   -42 words, excellent.  \n",
    "\n",
    "#위 조건에 맞는 단어 목록을 찾아 보아라.\n",
    "\n",
    "#조건 3 빠진 코딩\n",
    "puzzleLetters = nltk.FreqDist('egivrvonl') # C F D 아님! ()안의 문자 각각이 몇번 쓰였는지 딕션으로 만들어줌. \"e\":1, \"g\":2,,,,\n",
    "obligatory = 'r'\n",
    "answer = [w for w in wordlist if len(w) >= 6  #각 단어의 길이는 6자 이상, w 조건의 문자가 꼭 포함되어야 한다.\n",
    "              and obligatory in w\n",
    "              and nltk.FreqDist(w) <= puzzleLetters] #그리고 이것들은 puzzleLetter의 문자에 포함되어 있는 단어여야 한다.\n",
    "print(answer) "
   ]
  },
  {
   "cell_type": "code",
   "execution_count": 10,
   "metadata": {},
   "outputs": [
    {
     "name": "stdout",
     "output_type": "stream",
     "text": [
      "{'a': 1, 'b': 1, 'c': 1}\n",
      "{'a': 2, 'b': 2, 'c': 1}\n"
     ]
    },
    {
     "data": {
      "text/plain": [
       "True"
      ]
     },
     "execution_count": 10,
     "metadata": {},
     "output_type": "execute_result"
    }
   ],
   "source": [
    "#<= 조건 예시\n",
    "\n",
    "a= nltk.FreqDist('abc')\n",
    "print(dict(a))\n",
    "b= nltk.FreqDist('aabbc')\n",
    "print(dict(b))\n",
    "a <= b"
   ]
  },
  {
   "cell_type": "code",
   "execution_count": null,
   "metadata": {},
   "outputs": [],
   "source": []
  }
 ],
 "metadata": {
  "kernelspec": {
   "display_name": "Python 3",
   "language": "python",
   "name": "python3"
  },
  "language_info": {
   "codemirror_mode": {
    "name": "ipython",
    "version": 3
   },
   "file_extension": ".py",
   "mimetype": "text/x-python",
   "name": "python",
   "nbconvert_exporter": "python",
   "pygments_lexer": "ipython3",
   "version": "3.7.3"
  }
 },
 "nbformat": 4,
 "nbformat_minor": 2
}
