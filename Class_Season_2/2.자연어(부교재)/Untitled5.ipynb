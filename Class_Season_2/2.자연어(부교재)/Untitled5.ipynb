{
 "cells": [
  {
   "cell_type": "code",
   "execution_count": null,
   "metadata": {},
   "outputs": [],
   "source": [
    "from keras.preprocessing import sequence\n",
    "from keras.models import Model\n",
    "from keras.layers import Input, Dense, Embedding, Conv1D, GlobalMaxPooling1D\n",
    "from keras.datasets import imdb\n",
    "from sklearn.metrics import accuracy_score\n",
    "\n",
    "max_features = 6000 #vocabulary 중 가장 많이 쓰인 6000개만 쓰겠다.\n",
    "max_length = 400 #한 문장의 단어 개수(패딩)\n",
    "\n",
    "import numpy as np\n",
    "old = np.load\n",
    "np.load = lambda *a,**k: old(*a,**k,allow_pickle=True)\n",
    "(x_train, y_train), (x_test, y_test) = imdb.load_data(num_words=max_features)\n",
    "np.load = old\n",
    "del(old)\n",
    "\n",
    "print(x_train[1]) #1 과 2는 특수언어 (vocabulary에 없는 단어 ex- 1: start..)\n",
    "\n",
    "x_train = sequence.pad_sequences(x_train, maxlen=max_length)\n",
    "x_test = sequence.pad_sequences(x_test, maxlen=max_length)\n",
    "\n",
    "xInput = Input(batch_shape=(None, max_length))\n",
    "xEmbed = Embedding(max_features, 60, input_length = max_length)(xInput)\n",
    "xConv = Conv1D(260, 3, activation='relu')(xEmbed)\n",
    "xPool = GlobalMaxPooling1D()(xConv)\n",
    "xOutput = Dense(1, activation='sigmoid')(xPool)\n",
    "model = Model(xInput, xOutput)\n",
    "model.compile(loss='binary_crossentropy', optimizer='adam')\n",
    "model.fit(x_train, y_train, batch_size=32, epochs = 1)\n",
    "\n",
    "y_hat = model.predict(x_test, batch_size=32)\n",
    "y_hat_class = np.round(y_hat, 0)\n",
    "y_hat_class.shape = y_test.shape\n"
   ]
  }
 ],
 "metadata": {
  "kernelspec": {
   "display_name": "Python 3",
   "language": "python",
   "name": "python3"
  },
  "language_info": {
   "codemirror_mode": {
    "name": "ipython",
    "version": 3
   },
   "file_extension": ".py",
   "mimetype": "text/x-python",
   "name": "python",
   "nbconvert_exporter": "python",
   "pygments_lexer": "ipython3",
   "version": "3.7.3"
  }
 },
 "nbformat": 4,
 "nbformat_minor": 2
}
