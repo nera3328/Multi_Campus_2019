{
 "cells": [
  {
   "cell_type": "code",
   "execution_count": 2,
   "metadata": {},
   "outputs": [],
   "source": [
    "# NPS Chat 데이터--이모티콘까지 인식\n",
    "# http://faculty.nps.edu/cmartell/npschat.htm\n",
    "from nltk.corpus import nps_chat"
   ]
  },
  {
   "cell_type": "code",
   "execution_count": 3,
   "metadata": {},
   "outputs": [
    {
     "name": "stdout",
     "output_type": "stream",
     "text": [
      "['10-19-20s_706posts.xml', '10-19-30s_705posts.xml', '10-19-40s_686posts.xml', '10-19-adults_706posts.xml', '10-24-40s_706posts.xml', '10-26-teens_706posts.xml', '11-06-adults_706posts.xml', '11-08-20s_705posts.xml', '11-08-40s_706posts.xml', '11-08-adults_705posts.xml', '11-08-teens_706posts.xml', '11-09-20s_706posts.xml', '11-09-40s_706posts.xml', '11-09-adults_706posts.xml', '11-09-teens_706posts.xml']\n"
     ]
    }
   ],
   "source": [
    "# Chat 코퍼스의 파일 ID를 조회한다.\n",
    "textId = nps_chat.fileids()\n",
    "print(textId)"
   ]
  },
  {
   "cell_type": "code",
   "execution_count": 4,
   "metadata": {},
   "outputs": [
    {
     "name": "stdout",
     "output_type": "stream",
     "text": [
      "<!-- edited with XMLSpy v2007 sp1 (http://www.altova.com) by Eric Forsyth (Naval Postgraduate School) -->\n",
      "<Session xmlns:xsi=\"http://www.w3.org/2001/XMLSchema-instance\" xsi:noNamespaceSchemaLocation=\"postClassPOSTagset.xsd\">\n",
      "\t<Posts>\n",
      "\t\t<Post class=\"Statement\" user=\"10-19-20sUser7\">now im left with this gay name<terminals>\n",
      "\t\t\t\t<t pos=\"RB\" word=\"now\"/>\n",
      "\t\t\t\t<t pos=\"PRP\" word=\"im\"/>\n",
      "\t\t\t\t<t pos=\"VBD\" word=\"left\"/>\n",
      "\t\t\t\t<t pos=\"IN\" word=\"with\"/>\n",
      "\t\t\t\t<t pos=\"DT\" word=\"this\"/>\n",
      "\t\t\t\t<t pos=\"JJ\" word=\"gay\"/>\n",
      "\t\t\t\t<t pos=\"NN\" word=\"name\"/>\n",
      "\t\t\t</terminals>\n",
      "\t\t</Post>\n",
      "\t\t<Post class=\"Emotion\" user=\"10-19-20sUser7\">:P<terminals>\n",
      "\t\t\t\t<t pos=\"UH\" word=\":P\"/>\n",
      "\t\t\t</terminals>\n",
      "\t\t</Post>\n",
      "\t\t<Post class=\"System\" user=\"10-19-20sUser76\">PART<terminals>\n",
      "\t\t\t\t<t pos=\"VB\" word=\"PART\"/>\n",
      "\t\t\t</terminals>\n",
      "\t\t</Post>\n",
      "\t\t<Post class=\"Greet\" user=\"10-19-20sUser59\">hey everyone  <terminals>\n",
      "\t\t\t\t<t pos=\"UH\" word=\"hey\"/>\n",
      "\t\t\t\t<t pos=\"NN\" word=\"everyone\"/>\n",
      "\t\t\t</terminals>\n",
      "\t\t</Post>\n",
      "\t\t<Post class=\"Statement\" user=\"10-19-20sUser115\">ah well<terminals>\n",
      "\t\t\t\t<t pos=\"UH\" word=\"ah\"/>\n",
      "\t\t\t\t<t pos=\"UH\" word=\"well\"/>\n",
      "\t\t\t</terminals>\n",
      "\t\t</Post>\n",
      "\t\t<Post class=\"System\" user=\"10-19-20sUser7\">NICK :10-19-20sUser7<terminals>\n",
      "\t\t\t\t<t pos=\"NN\" word=\"NICK\"/>\n",
      "\t\t\t\t<t pos=\":\" word=\":\"/>\n",
      "\t\t\t\t<t pos=\"NNP\" word=\"10-19-20sUser7\"/>\n",
      "\t\t\t</terminals>\n",
      "\t\t</Post>\n",
      "\t\t<Post class=\"Accept\" user=\"10-19-20sUser121\">10-19-20sUser7 is a gay name.<terminals>\n",
      "\t\t\t\t<t pos=\"NNP\" word=\"10-19-20sUser7\"/>\n",
      "\t\t\t\t<t pos=\"VBZ\" word=\"is\"/>\n",
      "\t\t\t\t<t pos=\"DT\" word=\"a\"/>\n",
      "\t\t\t\t<t pos=\"JJ\" word=\"gay\"/>\n",
      "\t\t\t\t<t pos=\"NN\" word=\"name\"/>\n",
      "\t\t\t\t<t pos=\".\" word=\".\"/>\n",
      "\t\t\t</terminals>\n",
      "\t\t</Post>\n",
      "\t\t<Post class=\"System\" user=\"10-19-20sUser84\">.ACTION gives 10-19-20sUser121 a golf clap.<terminals>\n",
      "\t\t\t\t<t pos=\"SYM\" word=\".\"/>\n",
      "\t\t\t\t<t pos=\"NN\" word=\"ACTION\"/>\n",
      "\t\t\t\t<t pos=\"VBZ\" word=\"gives\"/>\n",
      "\t\t\t\t<t pos=\"NNP\" word=\"10-19-20sUser121\"/>\n",
      "\t\t\t\t<t pos=\"DT\" word=\"a\"/>\n",
      "\t\t\t\t<t pos=\"NN\" word=\"golf\"/>\n",
      "\t\t\t\t<t pos=\"NN\" word=\"clap\"/>\n",
      "\t\t\t\t<t pos=\".\" word=\".\"/>\n",
      "\t\t\t</terminals>\n",
      "\t\t</Post>\n",
      "\t\t<Post class=\"Emotion\" us\n",
      "문자 개수 =  161224\n"
     ]
    }
   ],
   "source": [
    "# 특정 Chat session의 텍스트 문서를 조회한다.\n",
    "text = nps_chat.raw('10-19-20s_706posts.xml')\n",
    "print(text[:2000])\n",
    "print(\"문자 개수 = \", len(text))"
   ]
  },
  {
   "cell_type": "code",
   "execution_count": 5,
   "metadata": {},
   "outputs": [
    {
     "name": "stdout",
     "output_type": "stream",
     "text": [
      "['now', 'im', 'left', 'with', 'this', 'gay', 'name']\n",
      "[':P']\n",
      "['PART']\n",
      "['hey', 'everyone']\n",
      "['ah', 'well']\n",
      "['NICK', ':', 'U7']\n",
      "['U7', 'is', 'a', 'gay', 'name', '.']\n",
      "['.', 'ACTION', 'gives', 'U121', 'a', 'golf', 'clap', '.']\n",
      "[':)']\n",
      "['JOIN']\n",
      "['hi', 'U59']\n",
      "['26', '/', 'm', '/', 'ky', 'women', 'that', 'are', 'nice', 'please', 'pm', 'me']\n",
      "['JOIN']\n",
      "['PART']\n",
      "['there', 'ya', 'go', 'U7']\n",
      "['do', \"n't\", 'golf', 'clap', 'me', '.']\n",
      "['fuck', 'you', 'U121', ':@']\n",
      "['whats', 'everyone', 'up', 'to', '?']\n",
      "['PART']\n",
      "['PART']\n"
     ]
    }
   ],
   "source": [
    "# XML의 post 데이터를 읽는다\n",
    "chatroom = nps_chat.posts('10-19-20s_706posts.xml')\n",
    "for chat in chatroom[:20]:\n",
    "    print(chat)"
   ]
  },
  {
   "cell_type": "code",
   "execution_count": null,
   "metadata": {},
   "outputs": [],
   "source": []
  }
 ],
 "metadata": {
  "kernelspec": {
   "display_name": "Python 3",
   "language": "python",
   "name": "python3"
  },
  "language_info": {
   "codemirror_mode": {
    "name": "ipython",
    "version": 3
   },
   "file_extension": ".py",
   "mimetype": "text/x-python",
   "name": "python",
   "nbconvert_exporter": "python",
   "pygments_lexer": "ipython3",
   "version": "3.7.3"
  }
 },
 "nbformat": 4,
 "nbformat_minor": 2
}
