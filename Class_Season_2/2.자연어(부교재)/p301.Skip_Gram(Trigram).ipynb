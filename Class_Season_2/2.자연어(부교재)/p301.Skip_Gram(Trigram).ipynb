{
 "cells": [
  {
   "cell_type": "markdown",
   "metadata": {},
   "source": [
    "### Skip-gram에 의한 Word embedding 시험\n",
    "- 이상한 나라의 엘리스 소설에 사용된 단어들을 2차원 벡터로 임베딩한다. (단어->onehot->단어2개(결과물,  x,y축)->one-hot->단어)\n",
    "- Trigram을 이용하여 Skip-gram으로 단어를 임베딩한다.\n",
    "- 2차원 벡터의 단어들을 2차원 공간상에 표시하고 단어들 간의 유사성을 육안으로 확인한다."
   ]
  },
  {
   "cell_type": "code",
   "execution_count": 1,
   "metadata": {},
   "outputs": [],
   "source": [
    "from sklearn.model_selection import train_test_split\n",
    "from sklearn.preprocessing import OneHotEncoder\n",
    "import matplotlib.pyplot as plt\n",
    "import nltk\n",
    "import numpy as np\n",
    "import pandas as pd\n",
    "import random\n",
    "from nltk.corpus import stopwords\n",
    "from nltk.stem import WordNetLemmatizer\n",
    "import string\n",
    "from nltk import pos_tag\n",
    "from nltk.stem import PorterStemmer"
   ]
  },
  {
   "cell_type": "markdown",
   "metadata": {},
   "source": [
    "#### 전처리 작업을 수행한다\n",
    "1. '!\"#$%&\\'()*+,-./:;<=>?@[\\\\]^_`{|}~' (string.punctuation) 문자를 공백 문자로 변경.\n",
    "2. 모두 소문자로 변경\n",
    "3. 불용어 제거 및 3글자 이하 단어 제거\n",
    "4. PortterStemmer 적용\n",
    "5. Lemmatizer 적용"
   ]
  },
  {
   "cell_type": "code",
   "execution_count": 2,
   "metadata": {},
   "outputs": [],
   "source": [
    "def preprocessing(text):\n",
    "    text2 = \" \".join(\"\".join([\" \" if ch in string.punctuation else ch for ch in text]).split())\n",
    "    tokens = nltk.word_tokenize(text2)\n",
    "    tokens = [word.lower() for word in tokens]\n",
    "    \n",
    "    stopwds = stopwords.words('english')\n",
    "    tokens = [token for token in tokens if token not in stopwds]\n",
    "    tokens = [word for word in tokens if len(word)>=3]\n",
    "    \n",
    "    stemmer = PorterStemmer()\n",
    "    tokens = [stemmer.stem(word) for word in tokens]\n",
    "\n",
    "    tagged_corpus = pos_tag(tokens)    \n",
    "    \n",
    "    Noun_tags = ['NN','NNP','NNPS','NNS']\n",
    "    Verb_tags = ['VB','VBD','VBG','VBN','VBP','VBZ']\n",
    "\n",
    "    lemmatizer = WordNetLemmatizer()\n",
    "\n",
    "    def prat_lemmatize(token,tag):\n",
    "        if tag in Noun_tags:\n",
    "            return lemmatizer.lemmatize(token,'n')\n",
    "        elif tag in Verb_tags:\n",
    "            return lemmatizer.lemmatize(token,'v')\n",
    "        else:\n",
    "            return lemmatizer.lemmatize(token,'n')\n",
    "    \n",
    "    pre_proc_text =  \" \".join([prat_lemmatize(token,tag) for token,tag in tagged_corpus])             \n",
    "\n",
    "    return pre_proc_text"
   ]
  },
  {
   "cell_type": "markdown",
   "metadata": {},
   "source": [
    "#### alice_in_wonderlant.txt를 읽는다"
   ]
  },
  {
   "cell_type": "code",
   "execution_count": 3,
   "metadata": {},
   "outputs": [],
   "source": [
    "lines = []\n",
    "fin = open(\"alice_in_wonderland.txt\", \"r\")\n",
    "\n",
    "for line in fin:\n",
    "    if len(line) <= 1:\n",
    "        continue\n",
    "    lines.append(preprocessing(line))\n",
    "fin.close()"
   ]
  },
  {
   "cell_type": "code",
   "execution_count": 4,
   "metadata": {},
   "outputs": [
    {
     "data": {
      "text/plain": [
       "['alic adventur wonderland',\n",
       " 'alic adventur wonderland',\n",
       " 'lewi carrol',\n",
       " 'millennium fulcrum edit',\n",
       " 'chapter',\n",
       " 'rabbit hole',\n",
       " 'alic begin get tire sit sister',\n",
       " 'bank noth twice',\n",
       " 'peep book sister read',\n",
       " 'pictur convers use book']"
      ]
     },
     "execution_count": 4,
     "metadata": {},
     "output_type": "execute_result"
    }
   ],
   "source": [
    "lines[:10]"
   ]
  },
  {
   "cell_type": "markdown",
   "metadata": {},
   "source": [
    "#### 가장 많이 쓰인 단어 순위를 dictionary로 만든다 단어 count가 아님."
   ]
  },
  {
   "cell_type": "code",
   "execution_count": 5,
   "metadata": {},
   "outputs": [],
   "source": [
    "import collections\n",
    "counter = collections.Counter()"
   ]
  },
  {
   "cell_type": "code",
   "execution_count": 6,
   "metadata": {},
   "outputs": [],
   "source": [
    "for line in lines:\n",
    "    for word in nltk.word_tokenize(line):\n",
    "        counter[word.lower()]+=1"
   ]
  },
  {
   "cell_type": "code",
   "execution_count": 7,
   "metadata": {},
   "outputs": [
    {
     "data": {
      "text/plain": [
       "[('say', 532),\n",
       " ('alic', 399),\n",
       " ('littl', 128),\n",
       " ('go', 123),\n",
       " ('think', 121),\n",
       " ('get', 112),\n",
       " ('look', 106),\n",
       " ('one', 105),\n",
       " ('know', 103),\n",
       " ('like', 97)]"
      ]
     },
     "execution_count": 7,
     "metadata": {},
     "output_type": "execute_result"
    }
   ],
   "source": [
    "counter.most_common(10)"
   ]
  },
  {
   "cell_type": "code",
   "execution_count": 8,
   "metadata": {},
   "outputs": [],
   "source": [
    "word2idx = {w:(i+1) for i,(w,_) in enumerate(counter.most_common())}\n",
    "idx2word = {v:k for k,v in word2idx.items()}"
   ]
  },
  {
   "cell_type": "code",
   "execution_count": 9,
   "metadata": {},
   "outputs": [
    {
     "name": "stdout",
     "output_type": "stream",
     "text": [
      "{'say': 1, 'alic': 2, 'littl': 3, 'go': 4, 'think': 5, 'get': 6, 'look': 7, 'one': 8, 'know': 9, 'like': 10, 'come': 11, 'begin': 12, 'would': 13, 'see': 14, 'thing': 15, 'could': 16, 'time': 17, 'make': 18, 'queen': 19, 'king': 20}\n"
     ]
    }
   ],
   "source": [
    "print(dict(list(word2idx.items())[0:20]))"
   ]
  },
  {
   "cell_type": "code",
   "execution_count": 10,
   "metadata": {},
   "outputs": [
    {
     "name": "stdout",
     "output_type": "stream",
     "text": [
      "{1: 'say', 2: 'alic', 3: 'littl', 4: 'go', 5: 'think', 6: 'get', 7: 'look', 8: 'one', 9: 'know', 10: 'like', 11: 'come', 12: 'begin', 13: 'would', 14: 'see', 15: 'thing', 16: 'could', 17: 'time', 18: 'make', 19: 'queen', 20: 'king'}\n"
     ]
    }
   ],
   "source": [
    "print(dict(list(idx2word.items())[0:20]))"
   ]
  },
  {
   "cell_type": "markdown",
   "metadata": {},
   "source": [
    "#### Trigram으로 Skip-gram을 생성한다"
   ]
  },
  {
   "cell_type": "code",
   "execution_count": 11,
   "metadata": {},
   "outputs": [],
   "source": [
    "xs = []\n",
    "ys = []\n",
    "\n",
    "line = 'pictur convers use book'\n",
    "\n",
    "embedding = [word2idx[w.lower()] for w in nltk.word_tokenize(line)] \n",
    "triples = list(nltk.trigrams(embedding))\n",
    "w_lefts = [x[0] for x in triples]\n",
    "w_centers = [x[1] for x in triples]\n",
    "w_rights = [x[2] for x in triples]\n",
    "xs.extend(w_centers)\n",
    "ys.extend(w_lefts)\n",
    "xs.extend(w_centers)\n",
    "ys.extend(w_rights)"
   ]
  },
  {
   "cell_type": "code",
   "execution_count": 12,
   "metadata": {},
   "outputs": [
    {
     "data": {
      "text/plain": [
       "[406, 238, 53, 186]"
      ]
     },
     "execution_count": 12,
     "metadata": {},
     "output_type": "execute_result"
    }
   ],
   "source": [
    "embedding"
   ]
  },
  {
   "cell_type": "code",
   "execution_count": 13,
   "metadata": {},
   "outputs": [
    {
     "data": {
      "text/plain": [
       "[(406, 238, 53), (238, 53, 186)]"
      ]
     },
     "execution_count": 13,
     "metadata": {},
     "output_type": "execute_result"
    }
   ],
   "source": [
    "triples"
   ]
  },
  {
   "cell_type": "code",
   "execution_count": 14,
   "metadata": {},
   "outputs": [
    {
     "data": {
      "text/plain": [
       "[238, 53, 238, 53]"
      ]
     },
     "execution_count": 14,
     "metadata": {},
     "output_type": "execute_result"
    }
   ],
   "source": [
    "xs"
   ]
  },
  {
   "cell_type": "code",
   "execution_count": 15,
   "metadata": {},
   "outputs": [
    {
     "data": {
      "text/plain": [
       "[406, 238, 53, 186]"
      ]
     },
     "execution_count": 15,
     "metadata": {},
     "output_type": "execute_result"
    }
   ],
   "source": [
    "ys"
   ]
  },
  {
   "cell_type": "code",
   "execution_count": 16,
   "metadata": {},
   "outputs": [
    {
     "name": "stdout",
     "output_type": "stream",
     "text": [
      "1786\n"
     ]
    }
   ],
   "source": [
    "xs = []\n",
    "ys = []\n",
    "\n",
    "for line in lines:\n",
    "    embedding = [word2idx[w.lower()] for w in nltk.word_tokenize(line)] \n",
    "    triples = list(nltk.trigrams(embedding))\n",
    "    w_lefts = [x[0] for x in triples]\n",
    "    w_centers = [x[1] for x in triples]\n",
    "    w_rights = [x[2] for x in triples]\n",
    "    xs.extend(w_centers)\n",
    "    ys.extend(w_lefts)\n",
    "    xs.extend(w_centers)\n",
    "    ys.extend(w_rights)\n",
    "          \n",
    "print (len(word2idx))\n",
    "vocab_size = len(word2idx)+1"
   ]
  },
  {
   "cell_type": "code",
   "execution_count": 47,
   "metadata": {},
   "outputs": [],
   "source": [
    "ohe = OneHotEncoder(categories = [range(vocab_size)])\n",
    "\n",
    "X = ohe.fit_transform(np.array(xs).reshape(-1, 1)).todense()\n",
    "Y = ohe.fit_transform(np.array(ys).reshape(-1, 1)).todense()"
   ]
  },
  {
   "cell_type": "code",
   "execution_count": 48,
   "metadata": {},
   "outputs": [
    {
     "name": "stdout",
     "output_type": "stream",
     "text": [
      "(13868, 1787)\n",
      "(13868, 1787)\n"
     ]
    }
   ],
   "source": [
    "print(X.shape)\n",
    "print(Y.shape)"
   ]
  },
  {
   "cell_type": "code",
   "execution_count": 49,
   "metadata": {},
   "outputs": [
    {
     "name": "stdout",
     "output_type": "stream",
     "text": [
      "(9707, 1787) (4161, 1787) (9707, 1787) (4161, 1787)\n"
     ]
    }
   ],
   "source": [
    "Xtrain, Xtest, Ytrain, Ytest, xstr, xsts = train_test_split(X, Y, xs, test_size=0.3, random_state=42)\n",
    "print(Xtrain.shape, Xtest.shape, Ytrain.shape, Ytest.shape)"
   ]
  },
  {
   "cell_type": "code",
   "execution_count": 57,
   "metadata": {},
   "outputs": [
    {
     "name": "stderr",
     "output_type": "stream",
     "text": [
      "Using TensorFlow backend.\n"
     ]
    }
   ],
   "source": [
    "from keras.layers import Input, Dense, Dropout\n",
    "from keras.models import Model"
   ]
  },
  {
   "cell_type": "code",
   "execution_count": 58,
   "metadata": {},
   "outputs": [
    {
     "name": "stdout",
     "output_type": "stream",
     "text": [
      "WARNING:tensorflow:From C:\\Users\\seong\\Anaconda3\\lib\\site-packages\\tensorflow\\python\\framework\\op_def_library.py:263: colocate_with (from tensorflow.python.framework.ops) is deprecated and will be removed in a future version.\n",
      "Instructions for updating:\n",
      "Colocations handled automatically by placer.\n",
      "WARNING:tensorflow:From C:\\Users\\seong\\Anaconda3\\lib\\site-packages\\keras\\backend\\tensorflow_backend.py:3445: calling dropout (from tensorflow.python.ops.nn_ops) with keep_prob is deprecated and will be removed in a future version.\n",
      "Instructions for updating:\n",
      "Please use `rate` instead of `keep_prob`. Rate should be set to `rate = 1 - keep_prob`.\n",
      "WARNING:tensorflow:From C:\\Users\\seong\\Anaconda3\\lib\\site-packages\\tensorflow\\python\\ops\\math_ops.py:3066: to_int32 (from tensorflow.python.ops.math_ops) is deprecated and will be removed in a future version.\n",
      "Instructions for updating:\n",
      "Use tf.cast instead.\n",
      "Train on 7765 samples, validate on 1942 samples\n",
      "Epoch 1/20\n",
      "7765/7765 [==============================] - 4s 461us/step - loss: 6.8880 - acc: 0.0402 - val_loss: 6.4343 - val_acc: 0.0479\n",
      "Epoch 2/20\n",
      "7765/7765 [==============================] - 2s 305us/step - loss: 6.3960 - acc: 0.0420 - val_loss: 6.4432 - val_acc: 0.0479\n",
      "Epoch 3/20\n",
      "7765/7765 [==============================] - 2s 313us/step - loss: 6.3492 - acc: 0.0434 - val_loss: 6.4721 - val_acc: 0.0479\n",
      "Epoch 4/20\n",
      "7765/7765 [==============================] - 2s 313us/step - loss: 6.3231 - acc: 0.0437 - val_loss: 6.4961 - val_acc: 0.0479\n",
      "Epoch 5/20\n",
      "7765/7765 [==============================] - 2s 321us/step - loss: 6.3091 - acc: 0.0438 - val_loss: 6.5166 - val_acc: 0.0479\n",
      "Epoch 6/20\n",
      "7765/7765 [==============================] - 2s 322us/step - loss: 6.2994 - acc: 0.0439 - val_loss: 6.5498 - val_acc: 0.0479\n",
      "Epoch 7/20\n",
      "7765/7765 [==============================] - 2s 320us/step - loss: 6.2868 - acc: 0.0439 - val_loss: 6.5584 - val_acc: 0.0479\n",
      "Epoch 8/20\n",
      "7765/7765 [==============================] - 2s 315us/step - loss: 6.2753 - acc: 0.0435 - val_loss: 6.5783 - val_acc: 0.0479\n",
      "Epoch 9/20\n",
      "7765/7765 [==============================] - 3s 329us/step - loss: 6.2701 - acc: 0.0439 - val_loss: 6.5817 - val_acc: 0.0479\n",
      "Epoch 10/20\n",
      "7765/7765 [==============================] - 2s 315us/step - loss: 6.2626 - acc: 0.0444 - val_loss: 6.5838 - val_acc: 0.0479\n",
      "Epoch 11/20\n",
      "7765/7765 [==============================] - 2s 312us/step - loss: 6.2571 - acc: 0.0443 - val_loss: 6.5720 - val_acc: 0.0479\n",
      "Epoch 12/20\n",
      "7765/7765 [==============================] - 2s 316us/step - loss: 6.2368 - acc: 0.0488 - val_loss: 6.5808 - val_acc: 0.0561\n",
      "Epoch 13/20\n",
      "7765/7765 [==============================] - 3s 355us/step - loss: 6.2225 - acc: 0.0513 - val_loss: 6.5889 - val_acc: 0.0572\n",
      "Epoch 14/20\n",
      "7765/7765 [==============================] - 3s 322us/step - loss: 6.2019 - acc: 0.0493 - val_loss: 6.5921 - val_acc: 0.0572\n",
      "Epoch 15/20\n",
      "7765/7765 [==============================] - 3s 356us/step - loss: 6.1836 - acc: 0.0488 - val_loss: 6.5597 - val_acc: 0.0582\n",
      "Epoch 16/20\n",
      "7765/7765 [==============================] - 3s 334us/step - loss: 6.1601 - acc: 0.0509 - val_loss: 6.5982 - val_acc: 0.0577\n",
      "Epoch 17/20\n",
      "7765/7765 [==============================] - 2s 317us/step - loss: 6.1473 - acc: 0.0510 - val_loss: 6.5850 - val_acc: 0.0572\n",
      "Epoch 18/20\n",
      "7765/7765 [==============================] - 2s 314us/step - loss: 6.1281 - acc: 0.0501 - val_loss: 6.6177 - val_acc: 0.0551\n",
      "Epoch 19/20\n",
      "7765/7765 [==============================] - 2s 312us/step - loss: 6.1108 - acc: 0.0502 - val_loss: 6.6049 - val_acc: 0.0556\n",
      "Epoch 20/20\n",
      "7765/7765 [==============================] - 2s 316us/step - loss: 6.0969 - acc: 0.0511 - val_loss: 6.5969 - val_acc: 0.0561\n"
     ]
    },
    {
     "data": {
      "text/plain": [
       "<keras.callbacks.History at 0x21be0623cf8>"
      ]
     },
     "execution_count": 58,
     "metadata": {},
     "output_type": "execute_result"
    }
   ],
   "source": [
    "np.random.seed(42)\n",
    "\n",
    "BATCH_SIZE = 128\n",
    "NUM_EPOCHS = 20\n",
    "\n",
    "input_layer = Input(shape = (Xtrain.shape[1],), name=\"input\")\n",
    "first_layer = Dense(300, activation='relu', name = \"first\")(input_layer)\n",
    "first_dropout = Dropout(0.5, name=\"firstdout\")(first_layer)\n",
    "\n",
    "second_layer = Dense(2, activation='relu', name=\"second\")(first_dropout)\n",
    "\n",
    "third_layer = Dense(300, activation='relu', name=\"third\")(second_layer)\n",
    "third_dropout = Dropout(0.5, name=\"thirdout\")(third_layer)\n",
    "\n",
    "fourth_layer = Dense(Ytrain.shape[1], activation='softmax', name = \"fourth\")(third_dropout)\n",
    "                                                #softmax하면 100만번돌림->오래걸림. 현실적이지 못함\n",
    "history = Model(input_layer, fourth_layer)\n",
    "history.compile(optimizer = \"rmsprop\", loss=\"categorical_crossentropy\", metrics=[\"accuracy\"])\n",
    "history.fit(Xtrain, Ytrain, batch_size=BATCH_SIZE, epochs=NUM_EPOCHS, verbose=1, validation_split = 0.2)"
   ]
  },
  {
   "cell_type": "markdown",
   "metadata": {},
   "source": [
    "#### Extracting Encoder section of the Model for prediction of latent variables"
   ]
  },
  {
   "cell_type": "code",
   "execution_count": 59,
   "metadata": {},
   "outputs": [],
   "source": [
    "encoder = Model(history.input, history.get_layer(\"second\").output)"
   ]
  },
  {
   "cell_type": "markdown",
   "metadata": {},
   "source": [
    "#### Predicting latent variables with extracted Encoder model"
   ]
  },
  {
   "cell_type": "code",
   "execution_count": 61,
   "metadata": {},
   "outputs": [
    {
     "data": {
      "text/html": [
       "<div>\n",
       "<style scoped>\n",
       "    .dataframe tbody tr th:only-of-type {\n",
       "        vertical-align: middle;\n",
       "    }\n",
       "\n",
       "    .dataframe tbody tr th {\n",
       "        vertical-align: top;\n",
       "    }\n",
       "\n",
       "    .dataframe thead th {\n",
       "        text-align: right;\n",
       "    }\n",
       "</style>\n",
       "<table border=\"1\" class=\"dataframe\">\n",
       "  <thead>\n",
       "    <tr style=\"text-align: right;\">\n",
       "      <th></th>\n",
       "      <th>xaxis</th>\n",
       "      <th>yaxis</th>\n",
       "      <th>word_indx</th>\n",
       "      <th>word</th>\n",
       "    </tr>\n",
       "  </thead>\n",
       "  <tbody>\n",
       "    <tr>\n",
       "      <th>0</th>\n",
       "      <td>0.582488</td>\n",
       "      <td>0.551804</td>\n",
       "      <td>38</td>\n",
       "      <td>must</td>\n",
       "    </tr>\n",
       "    <tr>\n",
       "      <th>1</th>\n",
       "      <td>0.233310</td>\n",
       "      <td>0.647498</td>\n",
       "      <td>246</td>\n",
       "      <td>box</td>\n",
       "    </tr>\n",
       "    <tr>\n",
       "      <th>2</th>\n",
       "      <td>0.602015</td>\n",
       "      <td>0.532027</td>\n",
       "      <td>168</td>\n",
       "      <td>notic</td>\n",
       "    </tr>\n",
       "    <tr>\n",
       "      <th>3</th>\n",
       "      <td>0.444081</td>\n",
       "      <td>0.433814</td>\n",
       "      <td>7</td>\n",
       "      <td>look</td>\n",
       "    </tr>\n",
       "    <tr>\n",
       "      <th>4</th>\n",
       "      <td>0.478196</td>\n",
       "      <td>0.064970</td>\n",
       "      <td>248</td>\n",
       "      <td>play</td>\n",
       "    </tr>\n",
       "  </tbody>\n",
       "</table>\n",
       "</div>"
      ],
      "text/plain": [
       "      xaxis     yaxis  word_indx   word\n",
       "0  0.582488  0.551804         38   must\n",
       "1  0.233310  0.647498        246    box\n",
       "2  0.602015  0.532027        168  notic\n",
       "3  0.444081  0.433814          7   look\n",
       "4  0.478196  0.064970        248   play"
      ]
     },
     "execution_count": 61,
     "metadata": {},
     "output_type": "execute_result"
    }
   ],
   "source": [
    "reduced_X = encoder.predict(Xtest)\n",
    "\n",
    "final_pdframe = pd.DataFrame(reduced_X)\n",
    "final_pdframe.columns = [\"xaxis\",\"yaxis\"]\n",
    "final_pdframe[\"word_indx\"] = xsts\n",
    "final_pdframe[\"word\"] = final_pdframe[\"word_indx\"].map(idx2word)\n",
    "final_pdframe.head()"
   ]
  },
  {
   "cell_type": "markdown",
   "metadata": {},
   "source": [
    "#### word vector를 2차원 공간상에 표시한다"
   ]
  },
  {
   "cell_type": "code",
   "execution_count": 79,
   "metadata": {},
   "outputs": [],
   "source": [
    "vis_df = final_pdframe.sample(100)\n",
    "\n",
    "labels = list(vis_df[\"word\"])\n",
    "xvals = list(vis_df[\"xaxis\"])\n",
    "yvals = list(vis_df[\"yaxis\"])"
   ]
  },
  {
   "cell_type": "code",
   "execution_count": 80,
   "metadata": {},
   "outputs": [
    {
     "data": {
      "image/png": "[encoded data removed]",
      "text/plain": [
       "<Figure size 1008x720 with 1 Axes>"
      ]
     },
     "metadata": {
      "needs_background": "light"
     },
     "output_type": "display_data"
    }
   ],
   "source": [
    "#in inches\n",
    "plt.figure(figsize=(14, 10))  \n",
    "\n",
    "for i, label in enumerate(labels):\n",
    "    x = xvals[i]\n",
    "    y = yvals[i]\n",
    "    \n",
    "    plt.scatter(x, y)\n",
    "    plt.annotate(label,xy=(x, y),xytext=(5, 2),textcoords='offset points', ha='right',va='bottom')\n",
    "\n",
    "plt.xlabel(\"Dimension 1\")\n",
    "plt.ylabel(\"Dimension 2\")\n",
    "\n",
    "plt.show()"
   ]
  },
  {
   "cell_type": "code",
   "execution_count": null,
   "metadata": {},
   "outputs": [],
   "source": []
  }
 ],
 "metadata": {
  "kernelspec": {
   "display_name": "Python 3",
   "language": "python",
   "name": "python3"
  },
  "language_info": {
   "codemirror_mode": {
    "name": "ipython",
    "version": 3
   },
   "file_extension": ".py",
   "mimetype": "text/x-python",
   "name": "python",
   "nbconvert_exporter": "python",
   "pygments_lexer": "ipython3",
   "version": "3.7.3"
  }
 },
 "nbformat": 4,
 "nbformat_minor": 2
}
