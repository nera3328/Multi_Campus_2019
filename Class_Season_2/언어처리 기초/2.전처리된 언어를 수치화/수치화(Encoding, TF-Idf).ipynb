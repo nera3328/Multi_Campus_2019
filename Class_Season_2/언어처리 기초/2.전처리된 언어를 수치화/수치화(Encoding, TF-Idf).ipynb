{
 "cells": [
  {
   "cell_type": "code",
   "execution_count": 81,
   "metadata": {},
   "outputs": [],
   "source": [
    "    text=['dog like cat', #--->리뷰 1개 문서\n",
    "         'dog dog fish river',#---\n",
    "         'cat cute odd eye', #-----\n",
    "         'cat dog human',\n",
    "         'dog bark cut cry',\n",
    "         'cat run dog run',\n",
    "         'cat cat cat dog dog dog ',\n",
    "         'dog eat cat cat dog']\n",
    "    z_test=['dog cat dog cat']"
   ]
  },
  {
   "cell_type": "code",
   "execution_count": 82,
   "metadata": {},
   "outputs": [],
   "source": [
    "from sklearn.feature_extraction.text import CountVectorizer, TfidfVectorizer\n",
    "import numpy as np"
   ]
  },
  {
   "cell_type": "markdown",
   "metadata": {},
   "source": [
    "Encoding - CountVector(빈도 수)"
   ]
  },
  {
   "cell_type": "code",
   "execution_count": 83,
   "metadata": {},
   "outputs": [
    {
     "data": {
      "text/plain": [
       "array([[0, 1, 0, 0, 0, 1, 0, 0, 0, 0, 1, 0, 0, 0],\n",
       "       [0, 0, 0, 0, 0, 2, 0, 0, 1, 0, 0, 0, 1, 0],\n",
       "       [0, 1, 0, 0, 1, 0, 0, 1, 0, 0, 0, 1, 0, 0],\n",
       "       [0, 1, 0, 0, 0, 1, 0, 0, 0, 1, 0, 0, 0, 0],\n",
       "       [1, 0, 1, 1, 0, 1, 0, 0, 0, 0, 0, 0, 0, 0],\n",
       "       [0, 1, 0, 0, 0, 1, 0, 0, 0, 0, 0, 0, 0, 2],\n",
       "       [0, 3, 0, 0, 0, 3, 0, 0, 0, 0, 0, 0, 0, 0],\n",
       "       [0, 2, 0, 0, 0, 2, 1, 0, 0, 0, 0, 0, 0, 0]], dtype=int64)"
      ]
     },
     "execution_count": 83,
     "metadata": {},
     "output_type": "execute_result"
    }
   ],
   "source": [
    "cntvec=CountVectorizer()\n",
    "ct= cntvec.fit(text)\n",
    "ct_vec=ct.transform(text).toarray()\n",
    "ct_vec # 8문장 수치화"
   ]
  },
  {
   "cell_type": "code",
   "execution_count": 84,
   "metadata": {},
   "outputs": [
    {
     "name": "stdout",
     "output_type": "stream",
     "text": [
      "{'dog': 5, 'like': 10, 'cat': 1, 'fish': 8, 'river': 12, 'cute': 4, 'odd': 11, 'eye': 7, 'human': 9, 'bark': 0, 'cut': 3, 'cry': 2, 'run': 13, 'eat': 6}\n"
     ]
    }
   ],
   "source": [
    "print(ct.vocabulary_) #여기 voca 순서"
   ]
  },
  {
   "cell_type": "markdown",
   "metadata": {},
   "source": [
    "Encoding - TF-IDF(모든 문서에 공통적으로 들어있는 단어는 가중치 축소)"
   ]
  },
  {
   "cell_type": "code",
   "execution_count": 85,
   "metadata": {},
   "outputs": [],
   "source": [
    "tfvec = TfidfVectorizer()\n",
    "tf = tfvec.fit(text)\n",
    "tf_vec=tf.transform(text).toarray()"
   ]
  },
  {
   "cell_type": "code",
   "execution_count": 86,
   "metadata": {
    "scrolled": true
   },
   "outputs": [
    {
     "data": {
      "text/plain": [
       "array([[0.   , 0.415, 0.   , 0.   , 0.   , 0.371, 0.   , 0.   , 0.   ,\n",
       "        0.   , 0.831, 0.   , 0.   , 0.   ],\n",
       "       [0.   , 0.   , 0.   , 0.   , 0.   , 0.534, 0.   , 0.   , 0.598,\n",
       "        0.   , 0.   , 0.   , 0.598, 0.   ],\n",
       "       [0.   , 0.277, 0.   , 0.   , 0.555, 0.   , 0.   , 0.555, 0.   ,\n",
       "        0.   , 0.   , 0.555, 0.   , 0.   ],\n",
       "       [0.   , 0.415, 0.   , 0.   , 0.   , 0.371, 0.   , 0.   , 0.   ,\n",
       "        0.831, 0.   , 0.   , 0.   , 0.   ],\n",
       "       [0.559, 0.   , 0.559, 0.559, 0.   , 0.25 , 0.   , 0.   , 0.   ,\n",
       "        0.   , 0.   , 0.   , 0.   , 0.   ],\n",
       "       [0.   , 0.237, 0.   , 0.   , 0.   , 0.212, 0.   , 0.   , 0.   ,\n",
       "        0.   , 0.   , 0.   , 0.   , 0.948],\n",
       "       [0.   , 0.746, 0.   , 0.   , 0.   , 0.666, 0.   , 0.   , 0.   ,\n",
       "        0.   , 0.   , 0.   , 0.   , 0.   ],\n",
       "       [0.   , 0.598, 0.   , 0.   , 0.   , 0.534, 0.598, 0.   , 0.   ,\n",
       "        0.   , 0.   , 0.   , 0.   , 0.   ]])"
      ]
     },
     "execution_count": 86,
     "metadata": {},
     "output_type": "execute_result"
    }
   ],
   "source": [
    "np.round(tf_vec,3)"
   ]
  },
  {
   "cell_type": "markdown",
   "metadata": {},
   "source": [
    "#### pratice-수치화-RNN으로 imdb감성분석"
   ]
  },
  {
   "cell_type": "code",
   "execution_count": 97,
   "metadata": {},
   "outputs": [],
   "source": [
    "from keras.layers import LSTM, Input, Dense\n",
    "from keras.models import Model\n",
    "import numpy as np\n",
    "from keras import backend as K\n",
    "from numpy import argmax "
   ]
  },
  {
   "cell_type": "markdown",
   "metadata": {},
   "source": [
    "--TF-IDF 사용"
   ]
  },
  {
   "cell_type": "code",
   "execution_count": 88,
   "metadata": {},
   "outputs": [
    {
     "data": {
      "text/plain": [
       "array([[0.   , 0.415, 0.   , 0.   , 0.   , 0.371, 0.   , 0.   , 0.   ,\n",
       "        0.   , 0.831, 0.   , 0.   , 0.   ],\n",
       "       [0.   , 0.   , 0.   , 0.   , 0.   , 0.534, 0.   , 0.   , 0.598,\n",
       "        0.   , 0.   , 0.   , 0.598, 0.   ],\n",
       "       [0.   , 0.277, 0.   , 0.   , 0.555, 0.   , 0.   , 0.555, 0.   ,\n",
       "        0.   , 0.   , 0.555, 0.   , 0.   ],\n",
       "       [0.   , 0.415, 0.   , 0.   , 0.   , 0.371, 0.   , 0.   , 0.   ,\n",
       "        0.831, 0.   , 0.   , 0.   , 0.   ],\n",
       "       [0.559, 0.   , 0.559, 0.559, 0.   , 0.25 , 0.   , 0.   , 0.   ,\n",
       "        0.   , 0.   , 0.   , 0.   , 0.   ],\n",
       "       [0.   , 0.237, 0.   , 0.   , 0.   , 0.212, 0.   , 0.   , 0.   ,\n",
       "        0.   , 0.   , 0.   , 0.   , 0.948],\n",
       "       [0.   , 0.746, 0.   , 0.   , 0.   , 0.666, 0.   , 0.   , 0.   ,\n",
       "        0.   , 0.   , 0.   , 0.   , 0.   ],\n",
       "       [0.   , 0.598, 0.   , 0.   , 0.   , 0.534, 0.598, 0.   , 0.   ,\n",
       "        0.   , 0.   , 0.   , 0.   , 0.   ]])"
      ]
     },
     "execution_count": 88,
     "metadata": {},
     "output_type": "execute_result"
    }
   ],
   "source": [
    "#x_train 수치화\n",
    "tfvec = TfidfVectorizer()\n",
    "tf = tfvec.fit(text) #vocabulary만듦\n",
    "\n",
    "tf_vec=tf.transform(text).toarray()\n",
    "np.round(tf_vec,3)"
   ]
  },
  {
   "cell_type": "code",
   "execution_count": 89,
   "metadata": {},
   "outputs": [
    {
     "data": {
      "text/plain": [
       "array([[0.   , 0.746, 0.   , 0.   , 0.   , 0.666, 0.   , 0.   , 0.   ,\n",
       "        0.   , 0.   , 0.   , 0.   , 0.   ]])"
      ]
     },
     "execution_count": 89,
     "metadata": {},
     "output_type": "execute_result"
    }
   ],
   "source": [
    "#z_test 수치화\n",
    "tf_vect=tf.transform(z_test).toarray()\n",
    "np.round(tf_vect,3)"
   ]
  },
  {
   "cell_type": "code",
   "execution_count": 90,
   "metadata": {
    "scrolled": true
   },
   "outputs": [
    {
     "data": {
      "text/plain": [
       "(1, 14)"
      ]
     },
     "execution_count": 90,
     "metadata": {},
     "output_type": "execute_result"
    }
   ],
   "source": [
    "tf_vect.shape"
   ]
  },
  {
   "cell_type": "code",
   "execution_count": 101,
   "metadata": {},
   "outputs": [
    {
     "data": {
      "text/plain": [
       "(8, 14, 1)"
      ]
     },
     "execution_count": 101,
     "metadata": {},
     "output_type": "execute_result"
    }
   ],
   "source": [
    "x_train.shape"
   ]
  },
  {
   "cell_type": "code",
   "execution_count": 91,
   "metadata": {},
   "outputs": [],
   "source": [
    "x_train=tf_vec.reshape(8, 14, 1)\n",
    "y_train=np.random.choice([0, 1],[8, 1])\n",
    "x_test=tf_vect.reshape(1, 14, 1)"
   ]
  },
  {
   "cell_type": "code",
   "execution_count": 92,
   "metadata": {},
   "outputs": [
    {
     "data": {
      "text/plain": [
       "array([[[0.   ],\n",
       "        [0.415],\n",
       "        [0.   ],\n",
       "        [0.   ],\n",
       "        [0.   ],\n",
       "        [0.371],\n",
       "        [0.   ],\n",
       "        [0.   ],\n",
       "        [0.   ],\n",
       "        [0.   ],\n",
       "        [0.831],\n",
       "        [0.   ],\n",
       "        [0.   ],\n",
       "        [0.   ]],\n",
       "\n",
       "       [[0.   ],\n",
       "        [0.   ],\n",
       "        [0.   ],\n",
       "        [0.   ],\n",
       "        [0.   ],\n",
       "        [0.534],\n",
       "        [0.   ],\n",
       "        [0.   ],\n",
       "        [0.598],\n",
       "        [0.   ],\n",
       "        [0.   ],\n",
       "        [0.   ],\n",
       "        [0.598],\n",
       "        [0.   ]],\n",
       "\n",
       "       [[0.   ],\n",
       "        [0.277],\n",
       "        [0.   ],\n",
       "        [0.   ],\n",
       "        [0.555],\n",
       "        [0.   ],\n",
       "        [0.   ],\n",
       "        [0.555],\n",
       "        [0.   ],\n",
       "        [0.   ],\n",
       "        [0.   ],\n",
       "        [0.555],\n",
       "        [0.   ],\n",
       "        [0.   ]],\n",
       "\n",
       "       [[0.   ],\n",
       "        [0.415],\n",
       "        [0.   ],\n",
       "        [0.   ],\n",
       "        [0.   ],\n",
       "        [0.371],\n",
       "        [0.   ],\n",
       "        [0.   ],\n",
       "        [0.   ],\n",
       "        [0.831],\n",
       "        [0.   ],\n",
       "        [0.   ],\n",
       "        [0.   ],\n",
       "        [0.   ]],\n",
       "\n",
       "       [[0.559],\n",
       "        [0.   ],\n",
       "        [0.559],\n",
       "        [0.559],\n",
       "        [0.   ],\n",
       "        [0.25 ],\n",
       "        [0.   ],\n",
       "        [0.   ],\n",
       "        [0.   ],\n",
       "        [0.   ],\n",
       "        [0.   ],\n",
       "        [0.   ],\n",
       "        [0.   ],\n",
       "        [0.   ]],\n",
       "\n",
       "       [[0.   ],\n",
       "        [0.237],\n",
       "        [0.   ],\n",
       "        [0.   ],\n",
       "        [0.   ],\n",
       "        [0.212],\n",
       "        [0.   ],\n",
       "        [0.   ],\n",
       "        [0.   ],\n",
       "        [0.   ],\n",
       "        [0.   ],\n",
       "        [0.   ],\n",
       "        [0.   ],\n",
       "        [0.948]],\n",
       "\n",
       "       [[0.   ],\n",
       "        [0.746],\n",
       "        [0.   ],\n",
       "        [0.   ],\n",
       "        [0.   ],\n",
       "        [0.666],\n",
       "        [0.   ],\n",
       "        [0.   ],\n",
       "        [0.   ],\n",
       "        [0.   ],\n",
       "        [0.   ],\n",
       "        [0.   ],\n",
       "        [0.   ],\n",
       "        [0.   ]],\n",
       "\n",
       "       [[0.   ],\n",
       "        [0.598],\n",
       "        [0.   ],\n",
       "        [0.   ],\n",
       "        [0.   ],\n",
       "        [0.534],\n",
       "        [0.598],\n",
       "        [0.   ],\n",
       "        [0.   ],\n",
       "        [0.   ],\n",
       "        [0.   ],\n",
       "        [0.   ],\n",
       "        [0.   ],\n",
       "        [0.   ]]])"
      ]
     },
     "execution_count": 92,
     "metadata": {},
     "output_type": "execute_result"
    }
   ],
   "source": [
    "np.round(x_train,3)"
   ]
  },
  {
   "cell_type": "code",
   "execution_count": 93,
   "metadata": {},
   "outputs": [
    {
     "data": {
      "text/plain": [
       "(8, 1)"
      ]
     },
     "execution_count": 93,
     "metadata": {},
     "output_type": "execute_result"
    }
   ],
   "source": [
    "y_train.shape"
   ]
  },
  {
   "cell_type": "code",
   "execution_count": 94,
   "metadata": {},
   "outputs": [
    {
     "name": "stdout",
     "output_type": "stream",
     "text": [
      "_________________________________________________________________\n",
      "Layer (type)                 Output Shape              Param #   \n",
      "=================================================================\n",
      "input_1 (InputLayer)         (None, 14, 1)             0         \n",
      "_________________________________________________________________\n",
      "lstm_1 (LSTM)                (None, 50)                10400     \n",
      "_________________________________________________________________\n",
      "dense_1 (Dense)              (None, 1)                 51        \n",
      "=================================================================\n",
      "Total params: 10,451\n",
      "Trainable params: 10,451\n",
      "Non-trainable params: 0\n",
      "_________________________________________________________________\n"
     ]
    }
   ],
   "source": [
    "K.clear_session()\n",
    "\n",
    "x_input=Input(batch_shape=(None, 14, 1))\n",
    "x_hidden=LSTM(50)(x_input)\n",
    "x_output=Dense(1,activation='sigmoid')(x_hidden)\n",
    "\n",
    "model=Model(x_input, x_output)\n",
    "model.summary()"
   ]
  },
  {
   "cell_type": "code",
   "execution_count": 95,
   "metadata": {},
   "outputs": [
    {
     "name": "stdout",
     "output_type": "stream",
     "text": [
      "Epoch 1/50\n",
      "8/8 [==============================] - 1s 118ms/step - loss: 0.6974\n",
      "Epoch 2/50\n",
      "8/8 [==============================] - 0s 7ms/step - loss: 0.6935\n",
      "Epoch 3/50\n",
      "8/8 [==============================] - 0s 7ms/step - loss: 0.6909\n",
      "Epoch 4/50\n",
      "8/8 [==============================] - 0s 7ms/step - loss: 0.6926\n",
      "Epoch 5/50\n",
      "8/8 [==============================] - 0s 7ms/step - loss: 0.6863\n",
      "Epoch 6/50\n",
      "8/8 [==============================] - 0s 7ms/step - loss: 0.6842\n",
      "Epoch 7/50\n",
      "8/8 [==============================] - 0s 7ms/step - loss: 0.6825\n",
      "Epoch 8/50\n",
      "8/8 [==============================] - 0s 7ms/step - loss: 0.6804\n",
      "Epoch 9/50\n",
      "8/8 [==============================] - 0s 7ms/step - loss: 0.6778\n",
      "Epoch 10/50\n",
      "8/8 [==============================] - 0s 7ms/step - loss: 0.6733\n",
      "Epoch 11/50\n",
      "8/8 [==============================] - 0s 7ms/step - loss: 0.6891\n",
      "Epoch 12/50\n",
      "8/8 [==============================] - 0s 7ms/step - loss: 0.6702\n",
      "Epoch 13/50\n",
      "8/8 [==============================] - 0s 7ms/step - loss: 0.6737\n",
      "Epoch 14/50\n",
      "8/8 [==============================] - 0s 7ms/step - loss: 0.6680\n",
      "Epoch 15/50\n",
      "8/8 [==============================] - 0s 7ms/step - loss: 0.6664\n",
      "Epoch 16/50\n",
      "8/8 [==============================] - 0s 7ms/step - loss: 0.6632\n",
      "Epoch 17/50\n",
      "8/8 [==============================] - 0s 7ms/step - loss: 0.6645\n",
      "Epoch 18/50\n",
      "8/8 [==============================] - 0s 7ms/step - loss: 0.6711\n",
      "Epoch 19/50\n",
      "8/8 [==============================] - 0s 7ms/step - loss: 0.6627\n",
      "Epoch 20/50\n",
      "8/8 [==============================] - 0s 7ms/step - loss: 0.6635\n",
      "Epoch 21/50\n",
      "8/8 [==============================] - 0s 7ms/step - loss: 0.6622\n",
      "Epoch 22/50\n",
      "8/8 [==============================] - 0s 7ms/step - loss: 0.6687\n",
      "Epoch 23/50\n",
      "8/8 [==============================] - 0s 7ms/step - loss: 0.6673\n",
      "Epoch 24/50\n",
      "8/8 [==============================] - 0s 7ms/step - loss: 0.6631\n",
      "Epoch 25/50\n",
      "8/8 [==============================] - 0s 7ms/step - loss: 0.6589\n",
      "Epoch 26/50\n",
      "8/8 [==============================] - 0s 7ms/step - loss: 0.6575\n",
      "Epoch 27/50\n",
      "8/8 [==============================] - 0s 7ms/step - loss: 0.6603\n",
      "Epoch 28/50\n",
      "8/8 [==============================] - 0s 7ms/step - loss: 0.6730\n",
      "Epoch 29/50\n",
      "8/8 [==============================] - 0s 7ms/step - loss: 0.6588\n",
      "Epoch 30/50\n",
      "8/8 [==============================] - 0s 7ms/step - loss: 0.6538\n",
      "Epoch 31/50\n",
      "8/8 [==============================] - 0s 7ms/step - loss: 0.6526\n",
      "Epoch 32/50\n",
      "8/8 [==============================] - 0s 7ms/step - loss: 0.6544\n",
      "Epoch 33/50\n",
      "8/8 [==============================] - 0s 7ms/step - loss: 0.6583\n",
      "Epoch 34/50\n",
      "8/8 [==============================] - 0s 7ms/step - loss: 0.6554\n",
      "Epoch 35/50\n",
      "8/8 [==============================] - 0s 7ms/step - loss: 0.6491\n",
      "Epoch 36/50\n",
      "8/8 [==============================] - 0s 7ms/step - loss: 0.6491\n",
      "Epoch 37/50\n",
      "8/8 [==============================] - 0s 7ms/step - loss: 0.6484\n",
      "Epoch 38/50\n",
      "8/8 [==============================] - 0s 7ms/step - loss: 0.6543\n",
      "Epoch 39/50\n",
      "8/8 [==============================] - 0s 7ms/step - loss: 0.6511\n",
      "Epoch 40/50\n",
      "8/8 [==============================] - 0s 7ms/step - loss: 0.6493\n",
      "Epoch 41/50\n",
      "8/8 [==============================] - 0s 7ms/step - loss: 0.6435\n",
      "Epoch 42/50\n",
      "8/8 [==============================] - 0s 7ms/step - loss: 0.6448\n",
      "Epoch 43/50\n",
      "8/8 [==============================] - 0s 7ms/step - loss: 0.6998\n",
      "Epoch 44/50\n",
      "8/8 [==============================] - 0s 7ms/step - loss: 0.6396\n",
      "Epoch 45/50\n",
      "8/8 [==============================] - 0s 7ms/step - loss: 0.6538\n",
      "Epoch 46/50\n",
      "8/8 [==============================] - 0s 7ms/step - loss: 0.6522\n",
      "Epoch 47/50\n",
      "8/8 [==============================] - 0s 7ms/step - loss: 0.6442\n",
      "Epoch 48/50\n",
      "8/8 [==============================] - 0s 7ms/step - loss: 0.6463\n",
      "Epoch 49/50\n",
      "8/8 [==============================] - 0s 7ms/step - loss: 0.6546\n",
      "Epoch 50/50\n",
      "8/8 [==============================] - 0s 7ms/step - loss: 0.6380\n"
     ]
    },
    {
     "data": {
      "text/plain": [
       "<keras.callbacks.History at 0xf8da1d0>"
      ]
     },
     "execution_count": 95,
     "metadata": {},
     "output_type": "execute_result"
    }
   ],
   "source": [
    "model.compile(loss='binary_crossentropy', optimizer='adam')\n",
    "model.fit(x_train, y_train, epochs=50, batch_size=1)"
   ]
  },
  {
   "cell_type": "code",
   "execution_count": 99,
   "metadata": {},
   "outputs": [
    {
     "data": {
      "text/plain": [
       "array([[0.6156859]], dtype=float32)"
      ]
     },
     "execution_count": 99,
     "metadata": {},
     "output_type": "execute_result"
    }
   ],
   "source": [
    "model.predict(x_test, batch_size=1)"
   ]
  },
  {
   "cell_type": "code",
   "execution_count": 100,
   "metadata": {},
   "outputs": [
    {
     "data": {
      "text/plain": [
       "0"
      ]
     },
     "execution_count": 100,
     "metadata": {},
     "output_type": "execute_result"
    }
   ],
   "source": [
    "a=model.predict(x_test, batch_size=1)\n",
    "a.argmax()"
   ]
  },
  {
   "cell_type": "code",
   "execution_count": null,
   "metadata": {},
   "outputs": [],
   "source": []
  }
 ],
 "metadata": {
  "kernelspec": {
   "display_name": "Python 3",
   "language": "python",
   "name": "python3"
  },
  "language_info": {
   "codemirror_mode": {
    "name": "ipython",
    "version": 3
   },
   "file_extension": ".py",
   "mimetype": "text/x-python",
   "name": "python",
   "nbconvert_exporter": "python",
   "pygments_lexer": "ipython3",
   "version": "3.7.3"
  }
 },
 "nbformat": 4,
 "nbformat_minor": 2
}
