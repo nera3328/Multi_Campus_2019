{
 "cells": [
  {
   "cell_type": "code",
   "execution_count": 1,
   "metadata": {},
   "outputs": [],
   "source": [
    "# Generative Adversarial Network (GAN) 예시\n",
    "# 기본 GAN (original GAN) 알고리즘을 이용하여 정규분포에서 샘플링한 데이터 (Real Data)와\n",
    "# 유사한 Fake Data를 생성한다. Real Data와 Fake Data의 분포가 잘 일치하는지 확인한다.\n",
    "#\n",
    "# 원 논문 : Ian J. Goodfellow, et, al., 2014, Generative Adversarial Nets.\n",
    "# 위 논문의 Psedudo code (Section 4. Algorithm 1)를 위주로 하였음.\n",
    "# 참고 : Original GAN은 unstable, mode collapse 등의 문제가 있으며, 최근 변형된 알고리즘이\n",
    "#       많이 개발되어 있다. 여기서는 원 알고리즘을 사용하였으므로 결과가 다소 unstable 할 수 있다.\n",
    "#\n",
    "# 2018.9.10, 아마추어퀀트 (조성현)\n",
    "# -----------------------------------------------------------------------------------------\n",
    "import tensorflow as tf\n",
    "import numpy as np\n",
    "import matplotlib.pyplot as plt"
   ]
  },
  {
   "cell_type": "code",
   "execution_count": 2,
   "metadata": {},
   "outputs": [],
   "source": [
    "# 정규분포로부터 데이터를 샘플링한다\n",
    "realData = np.random.normal(size=1000) #x (1차원 1개)\n",
    "realData = realData.reshape(realData.shape[0], 1)"
   ]
  },
  {
   "cell_type": "code",
   "execution_count": 3,
   "metadata": {},
   "outputs": [],
   "source": [
    "# 데이터 P, Q에 대한 KL divergence를 계산한다.\n",
    "def KL(P, Q):\n",
    "    # 두 데이터의 분포를 계산한다\n",
    "    histP, binsP = np.histogram(P, bins=50)\n",
    "    histQ, binsQ = np.histogram(Q, bins=binsP)\n",
    "    \n",
    "    # 두 분포를 pdf로 만들기 위해 normalization한다.\n",
    "    histP = histP / (np.sum(histP) + 1e-8)\n",
    "    histQ = histQ / (np.sum(histQ) + 1e-8)\n",
    "\n",
    "    # KL divergence를 계산한다\n",
    "    kld = np.sum(histP * np.log(histP / histQ))\n",
    "    return histP, histQ, kld"
   ]
  },
  {
   "cell_type": "code",
   "execution_count": 4,
   "metadata": {},
   "outputs": [],
   "source": [
    "# log 안에 0이 들어가는 것을 방지한다.\n",
    "def myLog(x):\n",
    "    return tf.log(x + 1e-8)"
   ]
  },
  {
   "cell_type": "code",
   "execution_count": 5,
   "metadata": {},
   "outputs": [],
   "source": [
    "# Discriminator Network을 생성한다.\n",
    "nDInput = realData.shape[1] #x (1차원 1개)\n",
    "nDHidden = 8\n",
    "nDOutput = 1 #판별용, 무조건 1개!"
   ]
  },
  {
   "cell_type": "code",
   "execution_count": 6,
   "metadata": {},
   "outputs": [
    {
     "name": "stdout",
     "output_type": "stream",
     "text": [
      "\n",
      "WARNING: The TensorFlow contrib module will not be included in TensorFlow 2.0.\n",
      "For more information, please see:\n",
      "  * https://github.com/tensorflow/community/blob/master/rfcs/20180907-contrib-sunset.md\n",
      "  * https://github.com/tensorflow/addons\n",
      "If you depend on functionality not listed there, please file an issue.\n",
      "\n",
      "WARNING:tensorflow:From C:\\ProgramData\\Anaconda3\\lib\\site-packages\\tensorflow\\python\\framework\\op_def_library.py:263: colocate_with (from tensorflow.python.framework.ops) is deprecated and will be removed in a future version.\n",
      "Instructions for updating:\n",
      "Colocations handled automatically by placer.\n"
     ]
    }
   ],
   "source": [
    "tf.reset_default_graph()\n",
    "xavier = tf.contrib.layers.xavier_initializer()\n",
    "x = tf.placeholder(tf.float32, shape=[None, nDInput], name='x')\n",
    "D_Wh = tf.Variable(xavier([nDInput, nDHidden]), name='D_Wh')#랜덤\n",
    "D_Bh = tf.Variable(xavier(shape=[nDHidden]), name='D_Bh')#랜덤\n",
    "D_Wo = tf.Variable(xavier([nDHidden, nDOutput]), name='D_Wo')#랜덤\n",
    "D_Bo = tf.Variable(xavier(shape=[nDOutput]), name='D_Bo')#랜덤\n",
    "thetaD = [D_Wh, D_Bh, D_Wo, D_Bo] # θD : 업데이트 대상"
   ]
  },
  {
   "cell_type": "code",
   "execution_count": 7,
   "metadata": {},
   "outputs": [],
   "source": [
    "# Generator Network을 생성한다\n",
    "nGInput = 8\n",
    "nGHidden = 4\n",
    "nGOutput = nDInput\n",
    "#필수!!! D의 output 개수 = 1\n",
    "#       G의 output 개수 = D의 input 개수\n",
    "z = tf.placeholder(tf.float32, shape=[None, nGInput], name='z') #8개\n",
    "G_Wh = tf.Variable(xavier([nGInput, nGHidden]), name='G_Wh')\n",
    "G_Bh = tf.Variable(xavier(shape=[nGHidden]), name='G_Bh')\n",
    "G_Wo = tf.Variable(xavier([nGHidden, nGOutput]), name='G_Wo')\n",
    "G_Bo = tf.Variable(xavier(shape=[nGOutput]), name='G_Bo') #무조건 1개\n",
    "thetaG = [G_Wh, G_Bh, G_Wo, G_Bo]"
   ]
  },
  {
   "cell_type": "code",
   "execution_count": 8,
   "metadata": {},
   "outputs": [],
   "source": [
    "def Discriminator(x): # D(x)\n",
    "    D_Ho = tf.nn.relu(tf.matmul(x, D_Wh) + D_Bh)\n",
    "    D_Out = tf.matmul(D_Ho, D_Wo) + D_Bo\n",
    "    return tf.nn.sigmoid(D_Out)"
   ]
  },
  {
   "cell_type": "code",
   "execution_count": 9,
   "metadata": {},
   "outputs": [],
   "source": [
    "def Generator(z): # G(z)\n",
    "    G_Ho = tf.nn.relu(tf.matmul(z, G_Wh) + G_Bh)\n",
    "    G_Out = tf.matmul(G_Ho, G_Wo) + G_Bo\n",
    "    return G_Out"
   ]
  },
  {
   "cell_type": "code",
   "execution_count": 10,
   "metadata": {},
   "outputs": [],
   "source": [
    "def getNoise(m, n=nGInput): # Z\n",
    "    z = np.random.uniform(-1., 1., size=[m, n]) #랜덤하게 아무렇게나 만들기!\n",
    "    return z"
   ]
  },
  {
   "cell_type": "code",
   "execution_count": 11,
   "metadata": {},
   "outputs": [],
   "source": [
    "# 각 Network의 출력값\n",
    "Gz = Generator(z)\n",
    "Dx = Discriminator(x)\n",
    "DGz = Discriminator(Gz) #D(G(z))"
   ]
  },
  {
   "cell_type": "code",
   "execution_count": 12,
   "metadata": {},
   "outputs": [],
   "source": [
    "# Loss function : 위 논문의 Section 3. 식 - (1)\n",
    "# 이 함수를 쓰는 것보다 tensorflow에서 제공하는 tf.nn.sigmoid_cross_entropy_with_logits()을\n",
    "# 사용하는 것이 더 좋다. 다음 예제부터 사용할 예정임.\n",
    "D_loss = -tf.reduce_mean(myLog(Dx) + myLog(1 - DGz))\n",
    "# G_loss = tf.reduce_mean(myLog(1 - DGz))\n",
    "G_loss = -tf.reduce_mean(myLog(DGz)) # G_Loss는 이렇게 쓰는 것이 더 좋다\n",
    "                                                                    #Update 대상\n",
    "trainD = tf.train.AdamOptimizer(0.0001).minimize(D_loss, var_list = thetaD)\n",
    "trainG = tf.train.AdamOptimizer(0.0001).minimize(G_loss, var_list = thetaG)"
   ]
  },
  {
   "cell_type": "code",
   "execution_count": 13,
   "metadata": {},
   "outputs": [
    {
     "name": "stderr",
     "output_type": "stream",
     "text": [
      "C:\\ProgramData\\Anaconda3\\lib\\site-packages\\ipykernel_launcher.py:12: RuntimeWarning: divide by zero encountered in true_divide\n",
      "  if sys.path[0] == '':\n",
      "C:\\ProgramData\\Anaconda3\\lib\\site-packages\\ipykernel_launcher.py:12: RuntimeWarning: invalid value encountered in true_divide\n",
      "  if sys.path[0] == '':\n",
      "C:\\ProgramData\\Anaconda3\\lib\\site-packages\\ipykernel_launcher.py:12: RuntimeWarning: divide by zero encountered in log\n",
      "  if sys.path[0] == '':\n",
      "C:\\ProgramData\\Anaconda3\\lib\\site-packages\\ipykernel_launcher.py:12: RuntimeWarning: invalid value encountered in multiply\n",
      "  if sys.path[0] == '':\n"
     ]
    },
    {
     "name": "stdout",
     "output_type": "stream",
     "text": [
      "0) D-loss = 1.5868, G-loss = 0.5234, KL = nan\n",
      "100) D-loss = 1.4955, G-loss = 0.5887, KL = nan\n",
      "200) D-loss = 1.4587, G-loss = 0.6337, KL = nan\n",
      "300) D-loss = 1.4040, G-loss = 0.6824, KL = nan\n",
      "400) D-loss = 1.3668, G-loss = 0.7105, KL = nan\n",
      "500) D-loss = 1.3029, G-loss = 0.7440, KL = nan\n",
      "600) D-loss = 1.2838, G-loss = 0.7670, KL = nan\n",
      "700) D-loss = 1.2232, G-loss = 0.7926, KL = nan\n",
      "800) D-loss = 1.2030, G-loss = 0.8115, KL = nan\n",
      "900) D-loss = 1.1853, G-loss = 0.8374, KL = nan\n",
      "1000) D-loss = 1.1322, G-loss = 0.8522, KL = nan\n",
      "1100) D-loss = 1.1205, G-loss = 0.8790, KL = nan\n",
      "1200) D-loss = 1.1105, G-loss = 0.9014, KL = nan\n",
      "1300) D-loss = 1.1262, G-loss = 0.8854, KL = nan\n",
      "1400) D-loss = 1.1176, G-loss = 0.9062, KL = nan\n",
      "1500) D-loss = 1.1167, G-loss = 0.9033, KL = nan\n",
      "1600) D-loss = 1.1098, G-loss = 0.9000, KL = nan\n",
      "1700) D-loss = 1.1481, G-loss = 0.9077, KL = nan\n",
      "1800) D-loss = 1.1565, G-loss = 0.9102, KL = nan\n",
      "1900) D-loss = 1.1543, G-loss = 0.8904, KL = nan\n",
      "2000) D-loss = 1.1159, G-loss = 0.8779, KL = nan\n",
      "2100) D-loss = 1.1236, G-loss = 0.8811, KL = nan\n",
      "2200) D-loss = 1.1202, G-loss = 0.8819, KL = nan\n",
      "2300) D-loss = 1.1459, G-loss = 0.8851, KL = nan\n",
      "2400) D-loss = 1.1358, G-loss = 0.8849, KL = nan\n",
      "2500) D-loss = 1.1015, G-loss = 0.8896, KL = nan\n",
      "2600) D-loss = 1.0864, G-loss = 0.8959, KL = nan\n",
      "2700) D-loss = 1.1216, G-loss = 0.9005, KL = nan\n",
      "2800) D-loss = 1.1133, G-loss = 0.9071, KL = nan\n",
      "2900) D-loss = 1.0612, G-loss = 0.9166, KL = nan\n",
      "3000) D-loss = 1.0757, G-loss = 0.9314, KL = nan\n",
      "3100) D-loss = 1.0547, G-loss = 0.9457, KL = nan\n",
      "3200) D-loss = 1.0435, G-loss = 0.9551, KL = nan\n",
      "3300) D-loss = 1.0022, G-loss = 0.9661, KL = nan\n",
      "3400) D-loss = 1.0509, G-loss = 0.9732, KL = nan\n",
      "3500) D-loss = 1.0665, G-loss = 0.9456, KL = nan\n",
      "3600) D-loss = 1.0834, G-loss = 0.9609, KL = nan\n",
      "3700) D-loss = 1.0528, G-loss = 0.9439, KL = nan\n",
      "3800) D-loss = 1.0880, G-loss = 0.9366, KL = nan\n",
      "3900) D-loss = 1.0833, G-loss = 0.9473, KL = nan\n",
      "4000) D-loss = 1.1099, G-loss = 0.9391, KL = nan\n",
      "4100) D-loss = 1.1033, G-loss = 0.9448, KL = nan\n",
      "4200) D-loss = 1.1084, G-loss = 0.9288, KL = nan\n",
      "4300) D-loss = 1.1159, G-loss = 0.9250, KL = nan\n",
      "4400) D-loss = 1.1213, G-loss = 0.9261, KL = nan\n",
      "4500) D-loss = 1.0791, G-loss = 0.9241, KL = nan\n",
      "4600) D-loss = 1.1332, G-loss = 0.9242, KL = nan\n",
      "4700) D-loss = 1.1008, G-loss = 0.9185, KL = nan\n",
      "4800) D-loss = 1.1426, G-loss = 0.9167, KL = nan\n",
      "4900) D-loss = 1.1533, G-loss = 0.9113, KL = nan\n",
      "5000) D-loss = 1.0868, G-loss = 0.9045, KL = nan\n",
      "5100) D-loss = 1.1494, G-loss = 0.8981, KL = nan\n",
      "5200) D-loss = 1.1384, G-loss = 0.8940, KL = nan\n",
      "5300) D-loss = 1.1632, G-loss = 0.8849, KL = nan\n",
      "5400) D-loss = 1.0965, G-loss = 0.8808, KL = nan\n",
      "5500) D-loss = 1.1677, G-loss = 0.8789, KL = nan\n",
      "5600) D-loss = 1.1450, G-loss = 0.8789, KL = nan\n",
      "5700) D-loss = 1.1759, G-loss = 0.8754, KL = nan\n",
      "5800) D-loss = 1.1385, G-loss = 0.8741, KL = nan\n",
      "5900) D-loss = 1.1465, G-loss = 0.8739, KL = nan\n",
      "6000) D-loss = 1.1312, G-loss = 0.8724, KL = nan\n",
      "6100) D-loss = 1.1670, G-loss = 0.8717, KL = nan\n",
      "6200) D-loss = 1.1711, G-loss = 0.8700, KL = nan\n",
      "6300) D-loss = 1.1534, G-loss = 0.8660, KL = nan\n",
      "6400) D-loss = 1.2086, G-loss = 0.8650, KL = nan\n",
      "6500) D-loss = 1.2009, G-loss = 0.8625, KL = nan\n",
      "6600) D-loss = 1.1840, G-loss = 0.8614, KL = nan\n",
      "6700) D-loss = 1.1490, G-loss = 0.8572, KL = nan\n",
      "6800) D-loss = 1.2022, G-loss = 0.8574, KL = nan\n",
      "6900) D-loss = 1.1605, G-loss = 0.8565, KL = nan\n",
      "7000) D-loss = 1.2129, G-loss = 0.8553, KL = nan\n",
      "7100) D-loss = 1.1706, G-loss = 0.8534, KL = nan\n",
      "7200) D-loss = 1.2565, G-loss = 0.8489, KL = nan\n",
      "7300) D-loss = 1.2378, G-loss = 0.8485, KL = nan\n",
      "7400) D-loss = 1.2065, G-loss = 0.8450, KL = nan\n",
      "7500) D-loss = 1.1784, G-loss = 0.8453, KL = nan\n",
      "7600) D-loss = 1.1547, G-loss = 0.8456, KL = nan\n",
      "7700) D-loss = 1.1949, G-loss = 0.8426, KL = nan\n",
      "7800) D-loss = 1.2010, G-loss = 0.8386, KL = nan\n",
      "7900) D-loss = 1.1848, G-loss = 0.8378, KL = nan\n",
      "8000) D-loss = 1.2253, G-loss = 0.8394, KL = nan\n",
      "8100) D-loss = 1.2156, G-loss = 0.8340, KL = nan\n",
      "8200) D-loss = 1.2115, G-loss = 0.8326, KL = nan\n",
      "8300) D-loss = 1.2514, G-loss = 0.8335, KL = nan\n",
      "8400) D-loss = 1.1492, G-loss = 0.8287, KL = nan\n",
      "8500) D-loss = 1.1780, G-loss = 0.8303, KL = nan\n",
      "8600) D-loss = 1.2008, G-loss = 0.8280, KL = nan\n",
      "8700) D-loss = 1.2467, G-loss = 0.8246, KL = nan\n",
      "8800) D-loss = 1.1684, G-loss = 0.8248, KL = nan\n",
      "8900) D-loss = 1.2316, G-loss = 0.8211, KL = nan\n",
      "9000) D-loss = 1.2189, G-loss = 0.8212, KL = nan\n",
      "9100) D-loss = 1.1976, G-loss = 0.8199, KL = nan\n",
      "9200) D-loss = 1.1876, G-loss = 0.8208, KL = nan\n",
      "9300) D-loss = 1.1696, G-loss = 0.8203, KL = nan\n",
      "9400) D-loss = 1.2145, G-loss = 0.8166, KL = nan\n",
      "9500) D-loss = 1.1989, G-loss = 0.8164, KL = nan\n",
      "9600) D-loss = 1.1989, G-loss = 0.8148, KL = nan\n",
      "9700) D-loss = 1.2624, G-loss = 0.8135, KL = nan\n",
      "9800) D-loss = 1.2017, G-loss = 0.8119, KL = nan\n",
      "9900) D-loss = 1.2594, G-loss = 0.8109, KL = nan\n"
     ]
    }
   ],
   "source": [
    "sess = tf.Session()\n",
    "sess.run(tf.global_variables_initializer())\n",
    "\n",
    "histLossD = []      # Discriminator loss history 저장용 변수\n",
    "histLossG = []      # Generator loss history 저장용 변수\n",
    "histKL = []         # KL divergence history 저장용 변수\n",
    "nBatchCnt = 5       # Mini-batch를 위해 input 데이터를 n개 블록으로 나눈다.\n",
    "nBatchSize = int(realData.shape[0] / nBatchCnt)  # 블록 당 Size\n",
    "nK = 2              # Discriminator 학습 횟수 (위 논문에서는 nK = 1을 사용하였음)\n",
    "k = 0\n",
    "for i in range(10000):\n",
    "    # Mini-batch 방식으로 학습한다\n",
    "    np.random.shuffle(realData)\n",
    "    \n",
    "    for n in range(nBatchCnt):\n",
    "        # input 데이터를 Mini-batch 크기에 맞게 자른다\n",
    "        nFrom = n * nBatchSize\n",
    "        nTo = n * nBatchSize + nBatchSize\n",
    "        \n",
    "        # 마지막 루프이면 nTo는 input 데이터의 끝까지.\n",
    "        if n == nBatchCnt - 1:\n",
    "            nTo = realData.shape[0]\n",
    "               \n",
    "        # 학습 데이터를 준비한다\n",
    "        bx = realData[nFrom : nTo]\n",
    "        bz = getNoise(m=bx.shape[0], n=nGInput)\n",
    "#핵심@\n",
    "        if k < nK:\n",
    "            # Discriminator를 nK-번 학습한다.\n",
    "            _, lossDHist = sess.run([trainD, D_loss], feed_dict={x : bx, z : bz})\n",
    "            k += 1\n",
    "        else:\n",
    "            # Generator를 1-번 학습한다.\n",
    "            _, lossGHist = sess.run([trainG, G_loss], feed_dict={x : bx, z : bz})\n",
    "            k = 0\n",
    "#  @ \n",
    "    # 100번 학습할 때마다 Loss, KL의 history를 보관해 둔다\n",
    "    if i % 100 == 0:\n",
    "        p, q, kld = KL(bx, sess.run(Gz, feed_dict={z : bz}))\n",
    "        histKL.append(kld)\n",
    "        histLossD.append(lossDHist)\n",
    "        histLossG.append(lossGHist)\n",
    "        print(\"%d) D-loss = %.4f, G-loss = %.4f, KL = %.4f\" % (i, lossDHist, lossGHist, kld))"
   ]
  },
  {
   "cell_type": "code",
   "execution_count": 14,
   "metadata": {},
   "outputs": [
    {
     "data": {
      "image/png": "[encoded data removed]",
      "text/plain": [
       "<Figure size 432x216 with 1 Axes>"
      ]
     },
     "metadata": {
      "needs_background": "light"
     },
     "output_type": "display_data"
    }
   ],
   "source": [
    "plt.figure(figsize=(6, 3))\n",
    "plt.plot(histLossD, label='Loss-D')\n",
    "plt.plot(histLossG, label='Loss-G')\n",
    "plt.legend()\n",
    "plt.title(\"Loss history\")\n",
    "plt.show()"
   ]
  },
  {
   "cell_type": "code",
   "execution_count": 15,
   "metadata": {},
   "outputs": [
    {
     "data": {
      "image/png": "[encoded data removed]",
      "text/plain": [
       "<Figure size 432x216 with 1 Axes>"
      ]
     },
     "metadata": {
      "needs_background": "light"
     },
     "output_type": "display_data"
    }
   ],
   "source": [
    "plt.figure(figsize=(6, 3))\n",
    "plt.plot(histKL)\n",
    "plt.title(\"KL divergence\")\n",
    "plt.show()"
   ]
  },
  {
   "cell_type": "code",
   "execution_count": 16,
   "metadata": {},
   "outputs": [
    {
     "name": "stderr",
     "output_type": "stream",
     "text": [
      "C:\\ProgramData\\Anaconda3\\lib\\site-packages\\ipykernel_launcher.py:12: RuntimeWarning: divide by zero encountered in true_divide\n",
      "  if sys.path[0] == '':\n",
      "C:\\ProgramData\\Anaconda3\\lib\\site-packages\\ipykernel_launcher.py:12: RuntimeWarning: invalid value encountered in true_divide\n",
      "  if sys.path[0] == '':\n"
     ]
    },
    {
     "data": {
      "image/png": "[encoded data removed]",
      "text/plain": [
       "<Figure size 432x288 with 1 Axes>"
      ]
     },
     "metadata": {
      "needs_background": "light"
     },
     "output_type": "display_data"
    },
    {
     "name": "stdout",
     "output_type": "stream",
     "text": [
      "KL divergence = nan\n"
     ]
    }
   ],
   "source": [
    "# real data 분포 (p)와 fake data 분포 (q)를 그려본다\n",
    "fakeData = sess.run(Gz, feed_dict={z : getNoise(m=realData.shape[0], n=nGInput)})\n",
    "p, q, kld = KL(realData, fakeData)\n",
    "plt.plot(p, color='blue', linewidth=2.0, alpha=0.7, label='Real Data')\n",
    "plt.plot(q, color='red', linewidth=2.0, alpha=0.7, label='Fake Data')\n",
    "plt.legend()\n",
    "plt.title(\"Distibution of Real and Fake Data\")\n",
    "plt.show()\n",
    "print(\"KL divergence = %.4f\" % kld)"
   ]
  },
  {
   "cell_type": "code",
   "execution_count": 17,
   "metadata": {},
   "outputs": [
    {
     "name": "stdout",
     "output_type": "stream",
     "text": [
      "[[0.44316113 0.444411   0.44289878 0.4422574  0.44367155 0.44213262\n",
      "  0.44400162 0.44275832 0.44391638 0.4432077  0.44386998 0.44276267\n",
      "  0.44275662 0.444411   0.44329163 0.44258055 0.444411   0.4407578\n",
      "  0.44428217 0.44338253 0.4434532  0.44166926 0.44419652 0.444411\n",
      "  0.4414437  0.44251466 0.44336152 0.444411   0.44336715 0.44359058\n",
      "  0.444411   0.44422886 0.44336778 0.44347692 0.44416296 0.444411\n",
      "  0.44243807 0.44423297 0.44370183 0.44125238 0.44352832 0.44371346\n",
      "  0.44355428 0.444411   0.444411   0.44348183 0.4430995  0.44292706\n",
      "  0.444411   0.44369873 0.4442737  0.44268695 0.444411   0.4434553\n",
      "  0.44358963 0.444411   0.444411   0.44157815 0.4440689  0.444411\n",
      "  0.444411   0.44251335 0.4441049  0.44003665 0.44340938 0.44259056\n",
      "  0.444411   0.444411   0.4436699  0.444411   0.444411   0.44138926\n",
      "  0.4422375  0.44196695 0.44431338 0.44156823 0.444411   0.44139025\n",
      "  0.444411   0.44425648 0.44426057 0.4439558  0.44243753 0.444411\n",
      "  0.444411   0.44190222 0.441594   0.444411   0.4424308  0.44336313\n",
      "  0.44397816 0.444411   0.444411   0.44364625 0.444411   0.44354787\n",
      "  0.444411   0.444411   0.44151255 0.44388008 0.44346058 0.44357833\n",
      "  0.44231516 0.4420522  0.44431782 0.444411   0.4425237  0.4443813\n",
      "  0.44276756 0.4404238  0.44210225 0.4443525  0.4423703  0.4433286\n",
      "  0.444411   0.44418347 0.44415826 0.4441537  0.4432449  0.44343212\n",
      "  0.4417464  0.44410726 0.44173244 0.44177312 0.44390476 0.444411\n",
      "  0.44346786 0.44333932 0.4424815  0.444411   0.44432563 0.44247237\n",
      "  0.44316408 0.44247255 0.44239545 0.44370404 0.44345167 0.444411\n",
      "  0.444411   0.444411   0.4435459  0.44340023 0.444411   0.4427938\n",
      "  0.444411   0.444411   0.444152   0.44385314 0.4442065  0.44345674\n",
      "  0.4442844  0.444411   0.44316858 0.44283962 0.44356677 0.44348034\n",
      "  0.44428322 0.4439711  0.44420063 0.44417214 0.44378525 0.44417468\n",
      "  0.44332045 0.444411   0.44223142 0.4440812  0.4435664  0.44085675\n",
      "  0.444411   0.44210747 0.44333372 0.44406402 0.44277963 0.444411\n",
      "  0.444411   0.444411   0.44344774 0.444411   0.444411   0.4427978\n",
      "  0.44386724 0.44398382 0.4433117  0.4433673  0.43999222 0.444411\n",
      "  0.443252   0.44378203 0.444411   0.44308555 0.4424247  0.444411\n",
      "  0.444411   0.444411   0.444411   0.444411   0.44230488 0.44307438\n",
      "  0.44417372 0.444411   0.444411   0.444411   0.444411   0.44305402\n",
      "  0.44330508 0.4426102  0.444411   0.444411   0.444411   0.44414124\n",
      "  0.44440794 0.4431527  0.44415945 0.444411   0.44413316 0.444411\n",
      "  0.44239232 0.444411   0.4440193  0.44260085 0.444411   0.44429943\n",
      "  0.4423374  0.444411   0.44264758 0.444411   0.44282973 0.4424991\n",
      "  0.44262975 0.4440962  0.444029   0.444411   0.444411   0.4419658\n",
      "  0.444411   0.444411   0.44131863 0.44142708 0.44414422 0.444411\n",
      "  0.44235632 0.44258577 0.44308022 0.444411   0.44325617 0.44324496\n",
      "  0.4429009  0.443495   0.44421935 0.444411   0.444411   0.44230285\n",
      "  0.44372457 0.4435358  0.44230038 0.444411   0.44342232 0.44240618\n",
      "  0.4417715  0.44381773 0.44148463 0.442982   0.44405955 0.444411\n",
      "  0.4436722  0.444411   0.44433576 0.4427157  0.44382817 0.444411\n",
      "  0.4435501  0.444411   0.4430019  0.44427913 0.444411   0.44343472\n",
      "  0.44439906 0.44413036 0.4441198  0.44406915 0.444411   0.444411\n",
      "  0.44389108 0.44273704 0.44355547 0.44359523 0.4421778  0.44227445\n",
      "  0.44357383 0.44320375 0.444411   0.4429322  0.4424261  0.4443782\n",
      "  0.44294742 0.44214216 0.44218254 0.44372645 0.444411   0.444411\n",
      "  0.44298184 0.444411   0.44151053 0.444411   0.444226   0.44401503\n",
      "  0.4425262  0.44153777 0.44437248 0.444411   0.444411   0.444411\n",
      "  0.444411   0.444411   0.444411   0.4433458  0.444411   0.44371018\n",
      "  0.4435885  0.44435027 0.44422403 0.4440052  0.44415277 0.4423924\n",
      "  0.4442101  0.444411   0.44143695 0.44145486 0.44352692 0.44353795\n",
      "  0.44129845 0.444411   0.44423562 0.444411   0.443515   0.444411\n",
      "  0.44439    0.444411   0.4434762  0.444411   0.4425615  0.444411\n",
      "  0.44331944 0.44416726 0.4443477  0.444411   0.4442156  0.44226584\n",
      "  0.4435327  0.4432312  0.44395673 0.444411   0.44255206 0.44415334\n",
      "  0.4422168  0.4413609  0.442905   0.442996   0.444411   0.4439708\n",
      "  0.44301295 0.44312418 0.444411   0.44339186 0.444411   0.44199622\n",
      "  0.44329107 0.44053748 0.44370025 0.44300514 0.44386426 0.44406754\n",
      "  0.4431746  0.44318354 0.444411   0.444411   0.43984914 0.44096744\n",
      "  0.44060764 0.4437488  0.44337258 0.44430977 0.444411   0.44404757\n",
      "  0.444411   0.44437307 0.44437304 0.444411   0.44409084 0.4442191\n",
      "  0.44400987 0.44382447 0.44431227 0.444411   0.44247407 0.444411\n",
      "  0.4428366  0.444411   0.444411   0.444411   0.4433742  0.44392458\n",
      "  0.44271317 0.444411   0.44361898 0.44310763 0.44365576 0.444411\n",
      "  0.444411   0.44391415 0.44432342 0.44197786 0.44330767 0.4441763\n",
      "  0.44371152 0.44432265 0.4433319  0.4440763  0.44392508 0.44403788\n",
      "  0.444411   0.444411   0.4438081  0.44408196 0.44437563 0.444411\n",
      "  0.44403526 0.4437011  0.44351405 0.44068813 0.44193533 0.4430742\n",
      "  0.44415036 0.44190487 0.44352803 0.44295064 0.44088507 0.44286922\n",
      "  0.4443849  0.4434813  0.444411   0.444411   0.44061488 0.444411\n",
      "  0.444411   0.44426024 0.4442024  0.44399753 0.44428462 0.44387317\n",
      "  0.444411   0.44285852 0.4427317  0.44265044 0.444411   0.4441155\n",
      "  0.444411   0.44429088 0.444411   0.44132456 0.44324234 0.444411\n",
      "  0.444411   0.444411   0.444411   0.44353238 0.44383687 0.444411\n",
      "  0.4403924  0.44432315 0.44432738 0.4428653  0.44043654 0.44354802\n",
      "  0.44427097 0.444411   0.444411   0.4439798  0.442564   0.4439129\n",
      "  0.44306064 0.44296077 0.44131386 0.44347748 0.44361064 0.44408607\n",
      "  0.444411   0.44405293 0.4436274  0.4443854  0.44195807 0.44174907\n",
      "  0.4442827  0.4414779  0.44239208 0.4442339  0.44270915 0.4421794\n",
      "  0.444411   0.4442811  0.444411   0.44393182 0.4437956  0.44311476\n",
      "  0.44245368 0.44440842 0.44296992 0.4442278  0.44262534 0.44355416\n",
      "  0.44218692 0.44284326 0.44298235 0.44215825 0.4434389  0.44400495\n",
      "  0.44376126 0.44115412 0.44128808 0.4432213  0.44424587 0.44177374\n",
      "  0.44221482 0.4429292  0.4434576  0.444411   0.444411   0.444411\n",
      "  0.44136775 0.4433241  0.4433384  0.44380057 0.44401613 0.44041538\n",
      "  0.44409263 0.4420119  0.44301403 0.44345346 0.444411   0.4428555\n",
      "  0.4438951  0.44302675 0.444411   0.44349968 0.444411   0.44431615\n",
      "  0.44404238 0.44380245 0.44392964 0.44256538 0.4434045  0.44275934\n",
      "  0.44300163 0.44175076 0.4438495  0.4441324  0.4421134  0.4426723\n",
      "  0.44182643 0.44378215 0.444411   0.44400585 0.44338426 0.44344914\n",
      "  0.44305927 0.44390795 0.44337192 0.4443201  0.44366544 0.444411\n",
      "  0.44426993 0.44359687 0.444411   0.4440555  0.44383606 0.44211817\n",
      "  0.44347203 0.44255945 0.4434731  0.44394433 0.444411   0.44201738\n",
      "  0.44375286 0.44386128 0.4434353  0.444411   0.444411   0.4434814\n",
      "  0.444411   0.44386634 0.444411   0.4435455  0.44328427 0.44427526\n",
      "  0.44292706 0.444411   0.44429383 0.4434215  0.44409546 0.444411\n",
      "  0.4435143  0.4421617  0.4443249  0.44141886 0.444411   0.44271073\n",
      "  0.44317344 0.44311497 0.444411   0.444411   0.44433096 0.4430565\n",
      "  0.4416662  0.4440365  0.4443819  0.4439198  0.44414994 0.44384146\n",
      "  0.44422874 0.444411   0.44084764 0.44194394 0.44219443 0.444411\n",
      "  0.44356677 0.4442141  0.44419158 0.44375378 0.444411   0.444411\n",
      "  0.444411   0.4406891  0.444411   0.4432449  0.44297937 0.44397774\n",
      "  0.444411   0.44415784 0.4437279  0.444411   0.444411   0.44348955\n",
      "  0.44230127 0.44274148 0.44074354 0.44246835 0.4434057  0.44301566\n",
      "  0.444411   0.4428576  0.44363406 0.444411   0.4424468  0.443521\n",
      "  0.44283652 0.44298875 0.44425747 0.4413646  0.444411   0.444411\n",
      "  0.44430506 0.44414207 0.44437605 0.444411   0.44355488 0.4431526\n",
      "  0.44219223 0.444411   0.444411   0.44409582 0.4410004  0.44329724\n",
      "  0.44292277 0.4436412  0.44424087 0.44418138 0.4443648  0.4423679\n",
      "  0.44010746 0.44295207 0.44438338 0.43988234 0.4439062  0.44347483\n",
      "  0.44181138 0.44325143 0.44243568 0.44286743 0.44315532 0.444411\n",
      "  0.444411   0.444411   0.44145045 0.444411   0.44423974 0.44327247\n",
      "  0.4417773  0.44403484 0.44391564 0.444411   0.444411   0.444411\n",
      "  0.44418135 0.44171777 0.44253987 0.440377   0.444411   0.4441985\n",
      "  0.444411   0.44167706 0.44437063 0.4415084  0.444411   0.444411\n",
      "  0.44403526 0.44009712 0.444411   0.44429886 0.444411   0.44428283\n",
      "  0.44434482 0.44162753 0.44356772 0.444411   0.4423704  0.44319108\n",
      "  0.4417188  0.444411   0.44324765 0.444411   0.4429099  0.44437853\n",
      "  0.4443917  0.44325703 0.4421347  0.44241    0.444411   0.44100732\n",
      "  0.44432962 0.44240063 0.444411   0.4439317  0.44221696 0.44405514\n",
      "  0.44323152 0.44277036 0.444411   0.4429181  0.444411   0.44350928\n",
      "  0.4443376  0.4435992  0.44394723 0.43943253 0.44381812 0.4437346\n",
      "  0.444411   0.44364798 0.44089568 0.444411   0.444411   0.4413943\n",
      "  0.444411   0.44411314 0.4414919  0.44136673 0.444411   0.44356778\n",
      "  0.444411   0.44327843 0.4431191  0.4443861  0.4440433  0.4440041\n",
      "  0.44411415 0.4436877  0.444411   0.44188383 0.4436154  0.44388795\n",
      "  0.444411   0.444411   0.4419679  0.44324487 0.44390333 0.44437924\n",
      "  0.44329587 0.44326207 0.44360146 0.444411   0.44283554 0.44439307\n",
      "  0.44244277 0.44287625 0.44405156 0.44244286 0.444411   0.44285297\n",
      "  0.444411   0.4443317  0.44410142 0.4443887  0.44308573 0.44343445\n",
      "  0.44435182 0.4422808  0.44243568 0.44054493 0.444411   0.444411\n",
      "  0.444411   0.44335073 0.44416723 0.444411   0.444411   0.4423434\n",
      "  0.44340798 0.44233418 0.444411   0.44397712 0.44383627 0.44357508\n",
      "  0.444411   0.444411   0.44019604 0.444411   0.44211748 0.444411\n",
      "  0.444411   0.44267046 0.44271103 0.44407803 0.44326594 0.4428352\n",
      "  0.44417983 0.4442764  0.444411   0.44388735 0.444411   0.44290715\n",
      "  0.4433533  0.44385704 0.44203684 0.444411   0.44242877 0.4441521\n",
      "  0.44155604 0.444411   0.44433698 0.44393712 0.443629   0.44100392\n",
      "  0.44417167 0.44415978 0.444411   0.44296017 0.444411   0.44373932\n",
      "  0.444411   0.44392607 0.4437795  0.444411   0.44363117 0.44251472\n",
      "  0.444411   0.44432497 0.4438353  0.444411   0.44325867 0.44324479\n",
      "  0.444411   0.4429397  0.444411   0.444411   0.4420609  0.44296235\n",
      "  0.444411   0.444411   0.44383103 0.4444062  0.444411   0.44417346\n",
      "  0.4417943  0.444411   0.444411   0.44262362 0.44360185 0.44436017\n",
      "  0.444411   0.444411   0.44374    0.44291657 0.4443352  0.4427371\n",
      "  0.444411   0.4432531  0.444411   0.44425768 0.444411   0.4439864\n",
      "  0.44177106 0.4404164  0.44135997 0.44374046 0.44246507 0.4426957\n",
      "  0.444411   0.4415343  0.44434643 0.44406375 0.4406947  0.444411\n",
      "  0.44389772 0.44251636 0.44394433 0.4437364  0.44251215 0.4441698\n",
      "  0.44422793 0.44398057 0.4432969  0.444411   0.441988   0.4419767\n",
      "  0.44354752 0.44397646 0.44405228 0.44396624 0.4438854  0.442837\n",
      "  0.44428006 0.444411   0.444411   0.44154918 0.444411   0.4440357\n",
      "  0.44112232 0.444411   0.4430889  0.44439042 0.444411   0.44196135\n",
      "  0.44171792 0.44287124 0.44426727 0.44344252 0.444411   0.44341952\n",
      "  0.4419236  0.4414147  0.4438817  0.4442043  0.44437313 0.444411\n",
      "  0.44403416 0.44393343 0.444411   0.4424726  0.444411   0.44355977\n",
      "  0.44438332 0.44424948 0.44405895 0.44204384 0.444411   0.44259748\n",
      "  0.444411   0.444411   0.4427663  0.44240534 0.444411   0.44209567\n",
      "  0.44317085 0.444411   0.4442824  0.44280657 0.44283566 0.444411\n",
      "  0.44419336 0.44308704 0.444411   0.44385067 0.44314867 0.44337475\n",
      "  0.44266397 0.44308436 0.44330668 0.44256043 0.444411   0.4432592\n",
      "  0.44420862 0.444411   0.444411   0.44354406 0.4421395  0.44101715\n",
      "  0.44324672 0.44342798 0.4428082  0.444411  ]]\n"
     ]
    }
   ],
   "source": [
    "# Fake Data를 Discriminator에 넣었을 때 출력값을 확인해 본다.\n",
    "outputD = sess.run(Dx, feed_dict={x : fakeData})\n",
    "print(outputD.T)\n",
    "sess.close() #궁극적으로 구하고자 하는 것, x와 닮았다리"
   ]
  },
  {
   "cell_type": "code",
   "execution_count": null,
   "metadata": {},
   "outputs": [],
   "source": []
  }
 ],
 "metadata": {
  "kernelspec": {
   "display_name": "Python 3",
   "language": "python",
   "name": "python3"
  },
  "language_info": {
   "codemirror_mode": {
    "name": "ipython",
    "version": 3
   },
   "file_extension": ".py",
   "mimetype": "text/x-python",
   "name": "python",
   "nbconvert_exporter": "python",
   "pygments_lexer": "ipython3",
   "version": "3.7.3"
  }
 },
 "nbformat": 4,
 "nbformat_minor": 2
}
