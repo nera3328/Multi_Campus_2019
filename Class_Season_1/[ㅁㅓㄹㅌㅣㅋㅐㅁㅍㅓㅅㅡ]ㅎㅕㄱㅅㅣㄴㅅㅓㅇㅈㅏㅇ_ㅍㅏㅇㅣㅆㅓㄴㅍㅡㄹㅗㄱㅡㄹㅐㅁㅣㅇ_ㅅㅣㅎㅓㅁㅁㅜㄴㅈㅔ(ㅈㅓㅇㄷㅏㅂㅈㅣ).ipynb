{
 "cells": [
  {
   "cell_type": "markdown",
   "metadata": {},
   "source": [
    "# 파이썬 프로그래밍 시험문제"
   ]
  },
  {
   "cell_type": "markdown",
   "metadata": {},
   "source": [
    "## 객관식"
   ]
  },
  {
   "cell_type": "markdown",
   "metadata": {},
   "source": [
    "1번"
   ]
  },
  {
   "cell_type": "raw",
   "metadata": {},
   "source": [
    "for i in range(10):  \n",
    "    if ________ :  \n",
    "        print(i)\n",
    "        \n",
    "결과 : \n",
    "0  \n",
    "2  \n",
    "4  \n",
    "6  \n",
    "8  \n",
    "\n",
    "\n",
    "1) i == 0   \n",
    "2) i % 2 == 0 *(정답)  \n",
    "3) True  \n",
    "4) i%2  \n",
    "5) i % 2 = 0"
   ]
  },
  {
   "cell_type": "markdown",
   "metadata": {},
   "source": [
    "2번"
   ]
  },
  {
   "cell_type": "raw",
   "metadata": {},
   "source": [
    "5 + 2 * 3 ** 2\n",
    "\n",
    "\n",
    "1) 12  \n",
    "2) 16  \n",
    "3) 19  \n",
    "4) 23  *(정답)\n",
    "5) 101  "
   ]
  },
  {
   "cell_type": "markdown",
   "metadata": {},
   "source": [
    "3번"
   ]
  },
  {
   "cell_type": "raw",
   "metadata": {},
   "source": [
    "a = [1, 2, 3, 4, 5, 6, 7, 8, 9, 10]\n",
    "print(a[x:y]\n",
    "\n",
    "결과:\n",
    "[6, 7, 8]\n",
    "\n",
    "x+y 의 값을 고르시오.(단, x > 0 , y > 0)\n",
    "\n",
    "1) 11\n",
    "2) 12\n",
    "3) 13 *(정답)\n",
    "4) 14\n",
    "5) 15"
   ]
  },
  {
   "cell_type": "markdown",
   "metadata": {},
   "source": [
    "4번"
   ]
  },
  {
   "cell_type": "raw",
   "metadata": {},
   "source": [
    "b = [ i*2 for i in range(10)]\n",
    "\n",
    "b[5] = ?\n",
    "\n",
    "1) 0 \n",
    "2) 1\n",
    "3) 4\n",
    "4) 7\n",
    "5) 10 *(정답)"
   ]
  },
  {
   "cell_type": "code",
   "execution_count": 6,
   "metadata": {
    "scrolled": true
   },
   "outputs": [
    {
     "data": {
      "text/plain": [
       "10"
      ]
     },
     "execution_count": 6,
     "metadata": {},
     "output_type": "execute_result"
    }
   ],
   "source": [
    "b = [ i*2 for i in range(10)]\n",
    "\n",
    "b[5]"
   ]
  },
  {
   "cell_type": "markdown",
   "metadata": {},
   "source": [
    "5번"
   ]
  },
  {
   "cell_type": "raw",
   "metadata": {},
   "source": [
    "data = [1, 2, 3, 4, 5, 6, 7, 8, 9, 10]\n",
    "count = 0\n",
    "for d in data:\n",
    "    if d%5 == 0:\n",
    "        count += 1\n",
    "        \n",
    "print(count)를 했을때, 예상되는 출력 결과는?\n",
    "\n",
    "1) 0\n",
    "2) 1\n",
    "3) 2\n",
    "4) 3\n",
    "5) 4"
   ]
  },
  {
   "cell_type": "code",
   "execution_count": 9,
   "metadata": {},
   "outputs": [
    {
     "name": "stdout",
     "output_type": "stream",
     "text": [
      "2\n"
     ]
    }
   ],
   "source": [
    "data = [1, 2, 3, 4, 5, 6, 7, 8, 9, 10]\n",
    "count = 0\n",
    "for d in data:\n",
    "    if d%5 == 0:\n",
    "        count += 1\n",
    "        \n",
    "print(count)"
   ]
  },
  {
   "cell_type": "markdown",
   "metadata": {},
   "source": [
    "6번"
   ]
  },
  {
   "cell_type": "raw",
   "metadata": {},
   "source": [
    "a = [1, 2, 3, 4, 5]\n",
    "b = ['a', 'b', 'c', 'd', 'e']\n",
    "\n",
    "for i, j in ?(a, b):\n",
    "    print(i, j)\n",
    "\n",
    "의 결과가 다음과 같다.\n",
    "1, a\n",
    "2, b\n",
    "3, c\n",
    "4, d\n",
    "5, e\n",
    "\n",
    "이 때, ?(물음표)에 들어갈 알맞은 단어는?\n",
    "\n",
    "1) enumerate\n",
    "2) range\n",
    "3) arange\n",
    "4) zip\n",
    "5) if"
   ]
  },
  {
   "cell_type": "markdown",
   "metadata": {},
   "source": [
    "정답) 4번"
   ]
  },
  {
   "cell_type": "markdown",
   "metadata": {},
   "source": [
    "7번 (고난도)"
   ]
  },
  {
   "cell_type": "raw",
   "metadata": {},
   "source": [
    "count = 0\n",
    "for i in range(10):\n",
    "    for j in range(5):\n",
    "        count += 1\n",
    "    count -= 1\n",
    "print(count)\n",
    "\n",
    "결과는?\n",
    "1) 10\n",
    "2) 20\n",
    "3) 30 \n",
    "4) 40\n",
    "5) 50"
   ]
  },
  {
   "cell_type": "markdown",
   "metadata": {},
   "source": [
    "정답) 4번"
   ]
  },
  {
   "cell_type": "code",
   "execution_count": 12,
   "metadata": {},
   "outputs": [
    {
     "name": "stdout",
     "output_type": "stream",
     "text": [
      "40\n"
     ]
    }
   ],
   "source": [
    "count = 0\n",
    "for i in range(10):\n",
    "    for j in range(5):\n",
    "        count += 1\n",
    "    count -= 1\n",
    "print(count)"
   ]
  },
  {
   "cell_type": "markdown",
   "metadata": {},
   "source": [
    "8번"
   ]
  },
  {
   "cell_type": "raw",
   "metadata": {},
   "source": [
    "while ?:\n",
    "    print(1)\n",
    "    \n",
    "무한루프를 돌지 않게 하려면 다음 중 무엇을 ?에 넣어야 할까?\n",
    "1) 0\n",
    "2) 1\n",
    "3) 'a'\n",
    "4) True\n",
    "5) 10"
   ]
  },
  {
   "cell_type": "markdown",
   "metadata": {},
   "source": [
    "정답) 1번"
   ]
  },
  {
   "cell_type": "markdown",
   "metadata": {},
   "source": [
    "9번"
   ]
  },
  {
   "cell_type": "raw",
   "metadata": {},
   "source": [
    "data = [i*10 for i in range(100)]\n",
    "\n",
    "len(data)\n",
    "\n",
    "1) 10\n",
    "2) 100\n",
    "3) 1000\n",
    "4) 10000\n",
    "5) 100000"
   ]
  },
  {
   "cell_type": "markdown",
   "metadata": {},
   "source": [
    "정답) 2번"
   ]
  },
  {
   "cell_type": "code",
   "execution_count": 14,
   "metadata": {},
   "outputs": [
    {
     "data": {
      "text/plain": [
       "100"
      ]
     },
     "execution_count": 14,
     "metadata": {},
     "output_type": "execute_result"
    }
   ],
   "source": [
    "data = [i*10 for i in range(100)]\n",
    "\n",
    "len(data)"
   ]
  },
  {
   "cell_type": "markdown",
   "metadata": {},
   "source": [
    "10번"
   ]
  },
  {
   "cell_type": "raw",
   "metadata": {},
   "source": [
    "hero = ['아이언맨', '토르', '스파이더맨', '헐크']\n",
    "\n",
    "hero 에 '그루트'를 추가하려면 다음중 어떤 것을 사용해야 할까요?\n",
    "\n",
    "1) append\n",
    "2) pop\n",
    "3) remove\n",
    "4) del\n",
    "5) enumerate"
   ]
  },
  {
   "cell_type": "markdown",
   "metadata": {},
   "source": [
    "정답) 1번"
   ]
  },
  {
   "cell_type": "markdown",
   "metadata": {},
   "source": [
    "11번"
   ]
  },
  {
   "cell_type": "raw",
   "metadata": {},
   "source": [
    "10번의 hero에서 '아이언맨'을 빼내고 싶다면?\n",
    "\n",
    "1) append\n",
    "2) pop\n",
    "3) extend\n",
    "4) insert\n",
    "5) zip"
   ]
  },
  {
   "cell_type": "markdown",
   "metadata": {},
   "source": [
    "정답) 2번"
   ]
  },
  {
   "cell_type": "markdown",
   "metadata": {},
   "source": [
    "12번"
   ]
  },
  {
   "cell_type": "raw",
   "metadata": {},
   "source": [
    "다음 중 클라이언트에서 서버로 요청하는 요청메서드 (HTTP메서드)가 아닌 것은?\n",
    "1) GET\n",
    "2) POST\n",
    "3) PUT\n",
    "4) DELETE\n",
    "5) REQUEST"
   ]
  },
  {
   "cell_type": "markdown",
   "metadata": {},
   "source": [
    "정답) 5번"
   ]
  },
  {
   "cell_type": "markdown",
   "metadata": {},
   "source": [
    "13번"
   ]
  },
  {
   "cell_type": "raw",
   "metadata": {},
   "source": [
    "다음 중 크롤링과 가장 거리가 먼 패키지는?\n",
    "1) numpy\n",
    "2) requests\n",
    "3) BeautifulSoup\n",
    "4) selenium"
   ]
  },
  {
   "cell_type": "markdown",
   "metadata": {},
   "source": [
    "정답)1번"
   ]
  },
  {
   "cell_type": "markdown",
   "metadata": {},
   "source": [
    "14번"
   ]
  },
  {
   "cell_type": "raw",
   "metadata": {},
   "source": [
    "테이블의 행 개수를 알고 싶을 때 사용하는 집계함수는 무엇입니까?\n",
    "\n",
    "1) COUNT\n",
    "2) SUM\n",
    "3) MAX\n",
    "4) AVG\n",
    "5) MIN"
   ]
  },
  {
   "cell_type": "markdown",
   "metadata": {},
   "source": [
    "정답) 1번"
   ]
  },
  {
   "cell_type": "markdown",
   "metadata": {},
   "source": [
    "15번"
   ]
  },
  {
   "cell_type": "raw",
   "metadata": {},
   "source": [
    "테이블에 행을 추가할 때 사용하는 표준 SQL 명령은 무엇입니까?\n",
    "\n",
    "1) SELECT\n",
    "2) INSERT\n",
    "3) DELETE\n",
    "4) APPEND\n",
    "5) EXTEND"
   ]
  },
  {
   "cell_type": "markdown",
   "metadata": {},
   "source": [
    "정답) 2번"
   ]
  },
  {
   "cell_type": "markdown",
   "metadata": {},
   "source": [
    "## 주관식(단답형)"
   ]
  },
  {
   "cell_type": "markdown",
   "metadata": {},
   "source": [
    "16번"
   ]
  },
  {
   "cell_type": "raw",
   "metadata": {},
   "source": [
    " avengers = ['헐크', '블랙위도우', '타노스']\n",
    " \n",
    " avengers.append('앤트맨')\n",
    " avengers.pop(2)\n",
    " avengers.pop()\n",
    " avengers.pop(1)\n",
    " \n",
    "최종적으로  avengers 에 들어가 있는 데이터를 모두 적으시오."
   ]
  },
  {
   "cell_type": "markdown",
   "metadata": {},
   "source": [
    "정답) '헐크'"
   ]
  },
  {
   "cell_type": "code",
   "execution_count": 17,
   "metadata": {},
   "outputs": [
    {
     "name": "stdout",
     "output_type": "stream",
     "text": [
      "['헐크']\n"
     ]
    }
   ],
   "source": [
    " avengers = ['헐크', '블랙위도우', '타노스']\n",
    " \n",
    " avengers.append('앤트맨')\n",
    " avengers.pop(2)\n",
    " avengers.pop()\n",
    " avengers.pop(1)\n",
    "print(avengers)"
   ]
  },
  {
   "cell_type": "markdown",
   "metadata": {},
   "source": [
    "17번"
   ]
  },
  {
   "cell_type": "raw",
   "metadata": {},
   "source": [
    "data = [1, 2, 3, 4, 5, 1, 2, 3, 4, 5]\n",
    "data = set(data)\n",
    "data = list(data)\n",
    "\n",
    "print(len(data)) 의 결과를 적으시오."
   ]
  },
  {
   "cell_type": "markdown",
   "metadata": {},
   "source": [
    "정답) 5"
   ]
  },
  {
   "cell_type": "code",
   "execution_count": 19,
   "metadata": {},
   "outputs": [
    {
     "name": "stdout",
     "output_type": "stream",
     "text": [
      "5\n"
     ]
    }
   ],
   "source": [
    "data = [1, 2, 3, 4, 5, 1, 2, 3, 4, 5]\n",
    "data = set(data)\n",
    "data = list(data)\n",
    "\n",
    "print(len(data))"
   ]
  },
  {
   "cell_type": "markdown",
   "metadata": {},
   "source": [
    "**18번**"
   ]
  },
  {
   "cell_type": "markdown",
   "metadata": {},
   "source": [
    "클래스의 재사용을 위해 부모 클래스로부터 OO하여\n",
    "자식 클래스를 정의한다.\n",
    "\n",
    "OO 안에 들어갈 말은?"
   ]
  },
  {
   "cell_type": "markdown",
   "metadata": {},
   "source": [
    "정답) 상속\n"
   ]
  },
  {
   "cell_type": "markdown",
   "metadata": {},
   "source": [
    "**19번**"
   ]
  },
  {
   "cell_type": "markdown",
   "metadata": {},
   "source": [
    "나이가 30세 이하인 남성만 검색할 경우    \n",
    "나이가 30세 이하인 조건식과 남성이라는 조건식을 조합하여  \n",
    "WHERE구에 지정하는 데,    \n",
    "이 경우 필요한 논리 연산자는 무엇입니까?  "
   ]
  },
  {
   "cell_type": "markdown",
   "metadata": {},
   "source": [
    "정답) AND"
   ]
  },
  {
   "cell_type": "markdown",
   "metadata": {},
   "source": [
    "**20번**"
   ]
  },
  {
   "cell_type": "markdown",
   "metadata": {},
   "source": [
    "SQL에서 INDEX를 사용하면 어떤 효과를 얻을 수 있습니까?"
   ]
  },
  {
   "cell_type": "markdown",
   "metadata": {},
   "source": [
    "정답) 쿼리의 성능 향상"
   ]
  },
  {
   "cell_type": "markdown",
   "metadata": {},
   "source": [
    "## 실습 문제"
   ]
  },
  {
   "cell_type": "markdown",
   "metadata": {},
   "source": [
    "**1번**\n"
   ]
  },
  {
   "cell_type": "raw",
   "metadata": {},
   "source": [
    "이름과 나이 그리고 전화번호를 인자로 전달 받아\n",
    "딕셔너리 형태로 반환해 주는 함수를 작성하시오.\n",
    "함수 이름은 profile_to_dict로 하시오.\n",
    "\n",
    "딕셔너리 형태 예)\n",
    "{\n",
    "    'name': <이름>,\n",
    "    'age': <나이>,\n",
    "    'phone': <전화번호>\n",
    "}\n",
    "\n"
   ]
  },
  {
   "cell_type": "code",
   "execution_count": 1,
   "metadata": {},
   "outputs": [
    {
     "name": "stdout",
     "output_type": "stream",
     "text": [
      "{'name': 'dino', 'age': 20, 'phone': '010-0000-0000'}\n"
     ]
    }
   ],
   "source": [
    "def profile_to_dict(name, age, phone):\n",
    "    profile_dict = {\n",
    "        'name': name,\n",
    "        'age': age,\n",
    "        'phone': phone\n",
    "    }\n",
    "    return profile_dict\n",
    "\n",
    "profile = profile_to_dict('dino', 20, '010-0000-0000')\n",
    "print(profile)"
   ]
  },
  {
   "cell_type": "markdown",
   "metadata": {},
   "source": [
    "**2번**\n",
    "\n"
   ]
  },
  {
   "cell_type": "raw",
   "metadata": {},
   "source": [
    "네이버 뉴스를 5페이지 크롤링하여  \n",
    "딕셔너리의 리스트 형태로 반환하시오.\n",
    "\n",
    "딕셔너리 예)\n",
    "{  \n",
    "    'title': '<뉴스 제목>',\n",
    "    'link': '<링크>'\n",
    "}\n",
    "\n"
   ]
  },
  {
   "cell_type": "code",
   "execution_count": 1,
   "metadata": {},
   "outputs": [],
   "source": [
    "import requests\n",
    "from bs4 import BeautifulSoup"
   ]
  },
  {
   "cell_type": "code",
   "execution_count": 4,
   "metadata": {},
   "outputs": [],
   "source": [
    "#어디에서 요청할거야?\n",
    "url = 'https://search.naver.com/search.naver'\n",
    "\n",
    "news=[]\n",
    "\n",
    "for i in range(5):\n",
    "    params = {\n",
    "        'where':'news',\n",
    "        'query':'워너원',\n",
    "        'start': (i*10) +1\n",
    "    }\n",
    "\n",
    "    result = requests.get(url, params = params)\n",
    "    soup = BeautifulSoup(result.content, 'lxml')\n",
    "    tag_dt = soup.select('ul.type01 li dl dt')\n",
    "    for t in tag_dt:\n",
    "        dict = {}\n",
    "        tag_a = t.find('a')\n",
    "        dict['title'] = tag_a.text\n",
    "        dict['link'] = tag_a['href']\n",
    "        news.append(dict)"
   ]
  },
  {
   "cell_type": "code",
   "execution_count": 5,
   "metadata": {},
   "outputs": [
    {
     "data": {
      "text/plain": [
       "[{'title': \"'워너원 출신' 김재환, 어엿한 솔로 아티스트로 성장...'업계 러브콜 쇄도'\",\n",
       "  'link': 'http://www.newsfreezone.co.kr/news/articleView.html?idxno=116331'},\n",
       " {'title': \"'불후의 명곡' 유정은 이날 방탄소년단과 워너원 커버댄스부터...\",\n",
       "  'link': 'http://www.insightkorea.co.kr//news/articleView.html?idxno=41635'},\n",
       " {'title': '하성운, 윤지성 입대 전 마지막 통화 상대였다...여전한 워너원 우정',\n",
       "  'link': 'http://www.slist.kr/news/articleView.html?idxno=87784'},\n",
       " {'title': \"2019 워너원 '솔로' 전방위 활약..아이오아이와 달랐다③\",\n",
       "  'link': 'http://star.mt.co.kr/stview.php?no=2019061809103500628'},\n",
       " {'title': '\\'워너원 출신\\' 배진영, 다채로운 매력 뽐내며 글로벌 아이돌 성장중...\"태국 ...',\n",
       "  'link': 'http://speconomy.com/news/newsview.php?ncode=1065576185181314'},\n",
       " {'title': '박정욱 작곡가 \"윤미래 곡으로 첫 1등..이후 워너원까지\"(인터뷰①)[스타메이...',\n",
       "  'link': 'http://star.mt.co.kr/stview.php?no=2019061810174156765'},\n",
       " {'title': '워너원 출신 배진영, 태국에서도 뜨겁다',\n",
       "  'link': 'http://www.tvreport.co.kr/?c=news&m=newsview&idx=1133498'},\n",
       " {'title': '[아이돌 홀릭] `국민 센터`에서 빛나는 `솔로`로…전소미·강다니엘',\n",
       "  'link': 'http://news.mk.co.kr/newsRead.php?year=2019&no=433170'},\n",
       " {'title': '워너원 출신 하성운, ‘바람이 분다’ OST ‘면역력’ 가창..감미로운 보컬',\n",
       "  'link': 'http://www.breaknews.com/661879'},\n",
       " {'title': \"워너원 출신 박지훈, 만화를 찢고 나온 비주얼의 아이돌 ★ 1위…''역시 윙깅...\",\n",
       "  'link': 'http://www.topstarnews.net/news/articleView.html?idxno=636690'},\n",
       " {'title': '하성운 \"워너원 활동 당시, 차에서 맨밥 먹어\" 무슨 사연이길래?',\n",
       "  'link': 'http://www.siminilbo.co.kr/news/articleView.html?idxno=639019'},\n",
       " {'title': \"'워너원 출신' 박지훈, 조선을 뒤흔들 꽃도령 인증...드라마 '꽃파당' 기대감...\",\n",
       "  'link': 'http://speconomy.com/news/newsview.php?ncode=1065575362827395'},\n",
       " {'title': \"'워너원 출신' 옹성우, 여심 뒤흔든 한 컷...수트핏 천재의 탄생?\",\n",
       "  'link': 'http://www.kgdm.co.kr/news/articleView.html?idxno=641613'},\n",
       " {'title': '훈훈하게 청량하다 소년 옹성우, 워너원 출신 옹성우가 신곡 Heart...',\n",
       "  'link': 'http://www.seohaenews.net/news/article.html?no=40394'},\n",
       " {'title': '양세형 스타일리스트, 알고보니 워너원 팀에서 6개월 동안 활동해',\n",
       "  'link': 'http://www.siminilbo.co.kr/news/articleView.html?idxno=638629'},\n",
       " {'title': '박지훈, \\'아시아 스타상 가수부문\\' 수상 인증샷 \"워너원 멤버들 보고 싶다\"',\n",
       "  'link': 'http://speconomy.com/news/newsview.php?ncode=1065584945710999'},\n",
       " {'title': '‘프로듀스X101’ 워너원 김재환, 송유빈 지도편달 “섹시하게 노래해야”',\n",
       "  'link': 'http://star.mk.co.kr/new/view.php?mc=ST&year=2019&no=420858'},\n",
       " {'title': '강다니엘, 아차랭킹 무려 64주째 1위..방탄소년단x워너원 장악 [공식입장]',\n",
       "  'link': 'http://www.osen.co.kr/article/G1111164071'},\n",
       " {'title': \"뮤지코인, 워너원 탄생시킨 작곡가들 만난다…'설렘 데이트'\",\n",
       "  'link': 'http://www.joynews24.com/view/1185058'},\n",
       " {'title': \"'불후' 위키미키 유정, 방탄소년단·워너원 댄스 메들리..멋쁨 폭발 [별별TV]\",\n",
       "  'link': 'http://star.mt.co.kr/stview.php?no=2019061518451210341'},\n",
       " {'title': '‘라디오스타’ AB6IX로 데뷔하기 전 워너원 멤버로...',\n",
       "  'link': 'http://www.chuksannews.co.kr/news/article.html?no=180194'},\n",
       " {'title': \"[종합] '런닝맨' 유재석, 양세찬의 '뉴트리아 별명'…전소민은 금산에서 인삼...\",\n",
       "  'link': 'http://www.topstarnews.net/news/articleView.html?idxno=636373'},\n",
       " {'title': '[MK뮤직]`센터` 강다니엘-전소미, 험난 여정 뒤로한 `마이웨이`',\n",
       "  'link': 'http://star.mk.co.kr/new/view.php?mc=ST&year=2019&no=423007'},\n",
       " {'title': \"[스타NOW] 강다니엘, 솔로 데뷔 앨범 열심히 작업 中…커넥트 측 ''준비되는 ...\",\n",
       "  'link': 'http://www.topstarnews.net/news/articleView.html?idxno=636737'},\n",
       " {'title': \"'키스데이' 14일 '키스받고 싶은 스타'...1위 강다니엘, 2위 박보검, 3위 공유...\",\n",
       "  'link': 'http://www.iloveorganic.co.kr/news/articleView.html?idxno=224929'},\n",
       " {'title': \"'워너원' 옹성우, 신곡 'Heart Sign' 오늘(11일) 발매\",\n",
       "  'link': 'http://starin.edaily.co.kr/news/newspath.asp?newsid=01210326622520736'},\n",
       " {'title': \"'워너원→주연배우'...'열여덟의 순간' 옹성우, 소년미 물씬 포스터 공개\",\n",
       "  'link': 'http://enews24.tving.com/news/article.asp?nsID=1322106'},\n",
       " {'title': \"옹성우, 프로젝트 신곡 'Heart Sign' 뮤직비디오 속 빛난 훈훈 청량美\",\n",
       "  'link': 'http://www.m-i.kr/news/articleView.html?idxno=612134'},\n",
       " {'title': '옹성우(워너원), \"제 첫 번째 솔로음원 Heart...\"',\n",
       "  'link': 'http://www.news-paper.co.kr/news/articleView.html?idxno=50847'},\n",
       " {'title': '\"워너원 우정 ing\"..라이관린X박지훈, 두 미소년의 훈훈 투샷',\n",
       "  'link': 'http://isplus.live.joins.com/news/article/aid.asp?aid=23085969'},\n",
       " {'title': \"뉴이스트 황민현, 뮤지컬 데뷔···'마리 앙투아네트'\",\n",
       "  'link': 'http://www.newsis.com/view/?id=NISX20190612_0000678745&cID=10701&pID=10700'},\n",
       " {'title': \"워너원 출신 박지훈, 유유네이처 '포모라인 L112' 전속 모델\",\n",
       "  'link': 'http://tvdaily.asiae.co.kr/read.php3?aid=15604813061464576010'},\n",
       " {'title': '송진우부터 김정민-김재환까지 연예-스포츠 동명이인 스타는?',\n",
       "  'link': 'http://www.sportsq.co.kr/news/articleView.html?idxno=402133'},\n",
       " {'title': '박지훈 `워너원 친구들 너무 보고싶다` [MK포토]',\n",
       "  'link': 'http://sports.mk.co.kr/view.php?year=2019&no=398651'},\n",
       " {'title': '\\'프로듀스X101\\' 김재환, 송유빈 향한 응원...\"섹시하게 불러\" 깜짝 통화의 사...',\n",
       "  'link': 'http://www.siminilbo.co.kr/news/articleView.html?idxno=638676'},\n",
       " {'title': '‘얼굴 천재들’, 안방서 ‘한판 승부’',\n",
       "  'link': 'http://sports.donga.com/3/all/20190614/95999755/2'},\n",
       " {'title': '‘2019 아시아 모델 어워즈’ 박지훈 “워너원 멤버들 정말 보고 싶어”',\n",
       "  'link': 'http://star.mbn.co.kr/view.php?year=2019&no=400900&refer=portal'},\n",
       " {'title': \"워너원 센터→소속사 분쟁→1인 기획사…강다니엘, 솔로 활동 '꽃길' or '가시...\",\n",
       "  'link': 'http://www.spotvnews.co.kr/?mod=news&act=articleView&idxno=294614'},\n",
       " {'title': '워너원 강다니엘 첫 솔로 행보..부산시 홍보대사 위촉 \"태어나고 자라온 도시...',\n",
       "  'link': 'http://kpenews.com/View.aspx?No=54169'},\n",
       " {'title': \"[MD포토] 윤지성 '워너원의 첫 입대 멤버'\",\n",
       "  'link': 'http://www.mydaily.co.kr/new_yk/html/read.php?newsid=201905141350354045&ext=na'},\n",
       " {'title': \"'라디오스타' 또한 그는 워너원 마지막 콘서트...\",\n",
       "  'link': 'http://www.startup4.co.kr/news/articleView.html?idxno=19571'},\n",
       " {'title': '\"평생 아이돌이고파\"...김재환, 워너원 넘어 솔로가수로의 도전',\n",
       "  'link': 'http://www.mediasr.co.kr/news/articleView.html?idxno=52674'},\n",
       " {'title': \"입대 5일 전 윤지성이 마지막으로 만난 절친은 '워너원' 멤버들이었다\",\n",
       "  'link': 'https://www.insight.co.kr/news/226659'},\n",
       " {'title': '워너원 출신 박지훈 헬스케어 브랜드 모델 발탁 ‘9월에는 연기자 변신’',\n",
       "  'link': 'http://sports.khan.co.kr/news/sk_index.html?art_id=201906100941003&sec_id=540101&pt=nv'},\n",
       " {'title': '강다니엘, 무소의 뿔처럼 혼자 간다···1인 기획사 설립',\n",
       "  'link': 'http://www.newsis.com/view/?id=NISX20190610_0000675536&cID=10601&pID=10600'},\n",
       " {'title': '‘김재환 ’ 이어 그룹 워너원의 메인보컬에서 최근...',\n",
       "  'link': 'http://www.jejutwn.com/news/article.html?no=34232'},\n",
       " {'title': '“워너원 멤버들 정말 보고 싶다”..박지훈, 아시아 스타상 수상',\n",
       "  'link': 'http://sports.mk.co.kr/view.php?year=2019&no=398654'},\n",
       " {'title': \"워너원 출신 윤지성 입대 '입소 패션' 눈길\",\n",
       "  'link': 'http://www.ekoreanews.co.kr/news/articleView.html?idxno=31625'},\n",
       " {'title': '워너원 출신 윤지성 입대',\n",
       "  'link': 'http://kookbang.dema.mil.kr/newsWeb/20190514/20/BBSMSTR_000000010060/view.do'},\n",
       " {'title': '에이비식스 박우진-이대휘, 카리스마 폭발 워너원 브라더 [포토엔HD]',\n",
       "  'link': 'http://www.newsen.com/news_view.php?uid=201906111909405510'}]"
      ]
     },
     "execution_count": 5,
     "metadata": {},
     "output_type": "execute_result"
    }
   ],
   "source": [
    "news"
   ]
  },
  {
   "cell_type": "code",
   "execution_count": null,
   "metadata": {},
   "outputs": [],
   "source": []
  }
 ],
 "metadata": {
  "kernelspec": {
   "display_name": "Python 3",
   "language": "python",
   "name": "python3"
  },
  "language_info": {
   "codemirror_mode": {
    "name": "ipython",
    "version": 3
   },
   "file_extension": ".py",
   "mimetype": "text/x-python",
   "name": "python",
   "nbconvert_exporter": "python",
   "pygments_lexer": "ipython3",
   "version": "3.7.3"
  }
 },
 "nbformat": 4,
 "nbformat_minor": 2
}
