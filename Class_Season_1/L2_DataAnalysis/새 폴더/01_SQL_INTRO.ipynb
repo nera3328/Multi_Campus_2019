{
 "cells": [
  {
   "cell_type": "markdown",
   "metadata": {},
   "source": [
    "# DB\n",
    "\n",
    "\n",
    "- 데이터베이스: 구조화한 정리 파일.\n",
    "- 내가 원하는 데이터를 뽑아낼 수도, 재정립 도 가능.\n",
    "\n",
    "- 웹에서 클라이언트는 웹 브라우저///서버는 url로 저장되어 있는 또다른 컴퓨터. 실질적으로 관리하는 데이터보관소 ex)네이버.닷컴\n",
    "\n",
    "\n",
    "# DBMS?\n",
    "\n",
    "\n",
    "- db를 관리해주는 시스템\n",
    "- sql은 언어, 문법\n",
    "- rdbms는 관계형 DBMS. (r은 관계) ex)Oracle, MySQL, MariaDB---------얘넨 SQL을 써! 근데 표준이 있고 방언SQL이 있음 표준만해도됨\n",
    "\n",
    "- ERD: 관계도\n",
    "\n",
    "- cmd 띄어놓고 클라이언트 대신씀. sql문 쓰는데가 서버역할.\n",
    "- 자기 자신 안에 서버를 둠. IP 주소값이 127.0.0.~~~\n",
    "- 원격 서버로 접속하여 DB를 읽어올 수 있음. 위의 방법으로 접속. \n",
    "\n",
    "\n",
    "- List, for 문 많이 봐!! \n",
    "\n",
    "- 내가 어떤 DB를 사용하는 지 볼 수 있음"
   ]
  },
  {
   "cell_type": "markdown",
   "metadata": {},
   "source": [
    "# MY SQL 시작하기\n",
    "\n",
    "### MY SQL 서버접속\n",
    "\n",
    "-mysql -uroot (username) -p123456789 (password)"
   ]
  },
  {
   "cell_type": "markdown",
   "metadata": {},
   "source": [
    "- DB 목록확인"
   ]
  },
  {
   "cell_type": "markdown",
   "metadata": {},
   "source": [
    "show databases;"
   ]
  },
  {
   "cell_type": "markdown",
   "metadata": {},
   "source": [
    "- 현재 사용중인 DB확인"
   ]
  },
  {
   "cell_type": "markdown",
   "metadata": {},
   "source": [
    "select database();"
   ]
  },
  {
   "cell_type": "markdown",
   "metadata": {},
   "source": [
    "- 사용할 DB 선택"
   ]
  },
  {
   "cell_type": "markdown",
   "metadata": {},
   "source": [
    "use(DB이름)"
   ]
  },
  {
   "cell_type": "markdown",
   "metadata": {},
   "source": [
    "- DB안의 table 목록 확인"
   ]
  },
  {
   "cell_type": "markdown",
   "metadata": {},
   "source": [
    "show tables"
   ]
  },
  {
   "cell_type": "markdown",
   "metadata": {},
   "source": [
    "-DB 파일 타입 알아보기"
   ]
  },
  {
   "cell_type": "markdown",
   "metadata": {},
   "source": [
    "desc sample21;\n",
    "\n",
    "-int(크기)//varchar( )-변동 가능 캐릭터//char( )-캐릭터// date( ) 날짜 데이터"
   ]
  },
  {
   "cell_type": "markdown",
   "metadata": {},
   "source": [
    "-파일 보기"
   ]
  },
  {
   "cell_type": "markdown",
   "metadata": {},
   "source": [
    "SELECT *(모두) From Sample21;"
   ]
  },
  {
   "cell_type": "markdown",
   "metadata": {},
   "source": [
    "-원하는 열만 보고 싶으면?"
   ]
  },
  {
   "cell_type": "markdown",
   "metadata": {},
   "source": [
    "SELECT NO(넘버) FROM SAMPLE21;\n",
    "SELECT NAME, ADDRESS FROM SAMPLE21;"
   ]
  },
  {
   "cell_type": "markdown",
   "metadata": {},
   "source": [
    "-원하는 열만 보고 싶으면? ->WHERE 구!"
   ]
  },
  {
   "cell_type": "markdown",
   "metadata": {},
   "source": [
    "SELECT NO FROM SAMPLE21 WHERE NO=1;////*주의 : WHERE구에서 '='는 대입이 아닌, 같다라는 의미"
   ]
  },
  {
   "cell_type": "markdown",
   "metadata": {},
   "source": [
    "### select * from\n",
    "'<>'=같지않다////'><'\n",
    "\n",
    "## d열을 지정하고 싶다면?= select * from \n",
    "\n",
    "# and와\n",
    "\n",
    "\n",
    "select *\\*from (테이블이름)where 조건식\n",
    "\n",
    "or 이 섞였을 때에는 and가 우선!"
   ]
  },
  {
   "cell_type": "markdown",
   "metadata": {},
   "source": [
    "-는 아스테리크! 전부를 뜻함."
   ]
  },
  {
   "cell_type": "markdown",
   "metadata": {},
   "source": [
    "조건식\n",
    "\n",
    "- 같다:=\n",
    "- 같지않다: <>\n",
    "- 비교연산자: <,>,<=,>=\n",
    "- 논리연산자: and, or ,not (and가 or보다 우선순위에 있따)\n",
    "- %는 그리드랑 비슷한 의미, 문자 자체로 쓰고 싶으면 \\%"
   ]
  },
  {
   "cell_type": "markdown",
   "metadata": {},
   "source": [
    "(a=1 or a=2) and (b=1 or b=2)"
   ]
  },
  {
   "cell_type": "markdown",
   "metadata": {},
   "source": []
  },
  {
   "cell_type": "markdown",
   "metadata": {},
   "source": [
    "- select구 보다 where구를 먼저 본다!"
   ]
  },
  {
   "cell_type": "markdown",
   "metadata": {},
   "source": [
    "- null은 더하거나 빼도 NULL!!!!!!!!!"
   ]
  },
  {
   "cell_type": "markdown",
   "metadata": {},
   "source": [
    "조건식에 문자열을 이용하여 조건을 지정하고 싶을때\n",
    "- Like 패턴\n",
    "- 패턴 -> % : 임의의 여러 문자,//////_:임의의 문자 하나(글자 수 만큼 쓰기)"
   ]
  },
  {
   "cell_type": "markdown",
   "metadata": {},
   "source": [
    "- SQL이 들어간 문자 뽑기!\n",
    "sql하고 머신러닝하자. = 'SQL%'  \n",
    "크롤링 끝나고 SQL하는 중 = '%SQL%'  \n",
    "문자열에 %가 들어가 있다면 ->'%\\%%' (앞에 \\붙이기)  \n",
    "It's apple-> 'It''s apple' # ' 를 표한하고 싶다면 '' :두개 쓰기"
   ]
  },
  {
   "cell_type": "markdown",
   "metadata": {},
   "source": [
    "- 보다 복잡한 문자열을 표현하고 싶다면?"
   ]
  },
  {
   "cell_type": "markdown",
   "metadata": {},
   "source": [
    "정규표현식!-> 정규표현식 지원함."
   ]
  },
  {
   "cell_type": "markdown",
   "metadata": {},
   "source": [
    "#### 정렬"
   ]
  },
  {
   "cell_type": "markdown",
   "metadata": {},
   "source": [
    "정렬하고 싶을 땐  \n",
    "order by (정렬 기준)"
   ]
  },
  {
   "cell_type": "markdown",
   "metadata": {},
   "source": [
    "default는 오름차순!  \n",
    "내림차순 하고 싶다면 order by 정렬기준 decs  \n",
    "- 문자열은 사전과 같은 정렬기준  \n",
    "만약에 값이 1,2,3이라고 되어있는데, type이 char라면?-->당연히 사전식으로 정렬\n",
    "ex) type이 char인 경우 1,2,3,10,20,30 정렬하면  \n",
    "1  \n",
    "10  \n",
    "2  \n",
    "20  \n",
    "3  \n",
    "30  \n",
    "\n",
    "- 복수의 열을 기준으로 정렬하고 싶다면?\n",
    "order by (기준열1), (기준열2), (기준열3); #순서 중요! 구분은 , (쉼표)!  \n",
    "\n",
    "- 각각 오름차순, 내림차순 정할 수도 있음.  \n",
    "- NULL은 가장 작은 값.  "
   ]
  },
  {
   "cell_type": "markdown",
   "metadata": {},
   "source": [
    "#### 결과 행 제한"
   ]
  },
  {
   "cell_type": "markdown",
   "metadata": {},
   "source": [
    "LIMIT (행 수) offset (시작행)  \n",
    "ex) limit 2,(2개) offset 3 (시작행 +1부터 시작-> 4부터)  "
   ]
  },
  {
   "cell_type": "markdown",
   "metadata": {},
   "source": [
    "#### 수치연산"
   ]
  },
  {
   "cell_type": "markdown",
   "metadata": {},
   "source": [
    "- * / % 가 우선순위!  \n",
    "- 복수의 열을 수치 연산한 결과를 이용하고 싶다면?\n",
    "열 1 * 열2  \n",
    "ex)price * quantity ( as(생략가능) 이름)\n",
    "- NULL값에 사칙연산한 결과는?-->NULL\n",
    "- 복잡한 연산이 필요할 땐---> 내장함수 이용  \n",
    "ex)반올림 = round(대상, 기준)  \n",
    "ex)루트= sqrt(대상)  "
   ]
  },
  {
   "cell_type": "markdown",
   "metadata": {},
   "source": [
    "#### 문자열 연산"
   ]
  },
  {
   "cell_type": "markdown",
   "metadata": {},
   "source": [
    "- 문자를 서로 더하고 싶다면  \n",
    "concat (문자1, 문자2)  \n",
    "- 문자의 일부분만 계산해서 반환하고 싶다면  \n",
    "substring(대상, 기준점, 갯수)  \n",
    "ex)20190614 중에 06만 반환하고 싶다면?--->substring(20190614, 5, 1)  # 5번째가 다섯번째!\n",
    "- sql에서 strip은 여분의 스페이스 제거\n",
    "-Trim  \n",
    "ex) trim('abc     ') = 'abc'\n",
    "-SQL의 Len은 길이 반환  \n",
    "character_length()\n"
   ]
  },
  {
   "cell_type": "markdown",
   "metadata": {},
   "source": [
    "#### 날짜연산"
   ]
  },
  {
   "cell_type": "markdown",
   "metadata": {},
   "source": [
    "- 현재 시간 측정 : Select current_timestamp; (PC의 시간 기준)  \n",
    "- 날짜 더하기 계산 : Select current_timestamp + interval 1day;\n",
    "- 날짜 빼기 계산 : Select datediff(날짜1, 날짜2)"
   ]
  },
  {
   "cell_type": "markdown",
   "metadata": {},
   "source": [
    "# 조건식"
   ]
  },
  {
   "cell_type": "markdown",
   "metadata": {},
   "source": [
    "case  \n",
    "      when  조건식 (걸스데이=0),  \n",
    "      then  0  \n",
    "      when  no=2,  \n",
    "      then  0  \n",
    "      else  \n",
    "end  \n",
    "  \n",
    "  \n",
    "#### 단순  case  \n",
    "case no (식)  \n",
    "when 1  (식)  \n",
    "then    (식)\n",
    "when  2  \n",
    "then  \n",
    "  -  \n",
    "  -  \n",
    "  -  "
   ]
  },
  {
   "cell_type": "code",
   "execution_count": null,
   "metadata": {},
   "outputs": [],
   "source": []
  }
 ],
 "metadata": {
  "kernelspec": {
   "display_name": "Python 3",
   "language": "python",
   "name": "python3"
  },
  "language_info": {
   "codemirror_mode": {
    "name": "ipython",
    "version": 3
   },
   "file_extension": ".py",
   "mimetype": "text/x-python",
   "name": "python",
   "nbconvert_exporter": "python",
   "pygments_lexer": "ipython3",
   "version": "3.7.3"
  }
 },
 "nbformat": 4,
 "nbformat_minor": 2
}
