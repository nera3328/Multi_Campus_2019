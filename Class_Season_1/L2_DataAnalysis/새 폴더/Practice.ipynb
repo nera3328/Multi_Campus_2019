{
 "cells": [
  {
   "cell_type": "code",
   "execution_count": 23,
   "metadata": {},
   "outputs": [
    {
     "ename": "IndentationError",
     "evalue": "expected an indented block (<ipython-input-23-68cff61ef348>, line 19)",
     "output_type": "error",
     "traceback": [
      "\u001b[1;36m  File \u001b[1;32m\"<ipython-input-23-68cff61ef348>\"\u001b[1;36m, line \u001b[1;32m19\u001b[0m\n\u001b[1;33m    tag_a\u001b[0m\n\u001b[1;37m         ^\u001b[0m\n\u001b[1;31mIndentationError\u001b[0m\u001b[1;31m:\u001b[0m expected an indented block\n"
     ]
    }
   ],
   "source": [
    "import requests\n",
    "from bs4 import BeautifulSoup\n",
    "\n",
    "url='https://search.naver.com/search.naver'\n",
    "for i in range(5):\n",
    "    params={'where':'post','query':'바나프레소', 'start':(i*10)+1}\n",
    "\n",
    "    result=requests.get(url,params)\n",
    "    soup=BeautifulSoup(result.content,'lxml')\n",
    "\n",
    "    title=[]\n",
    "    link=[]\n",
    "\n",
    "    tag_a=soup.select('div dl dt a.sh_blog_title')\n",
    "\n",
    "    for a in tag_a:\n",
    "        \n",
    "\n",
    "tag_a"
   ]
  },
  {
   "cell_type": "code",
   "execution_count": null,
   "metadata": {},
   "outputs": [],
   "source": []
  }
 ],
 "metadata": {
  "kernelspec": {
   "display_name": "Python 3",
   "language": "python",
   "name": "python3"
  },
  "language_info": {
   "codemirror_mode": {
    "name": "ipython",
    "version": 3
   },
   "file_extension": ".py",
   "mimetype": "text/x-python",
   "name": "python",
   "nbconvert_exporter": "python",
   "pygments_lexer": "ipython3",
   "version": "3.7.3"
  }
 },
 "nbformat": 4,
 "nbformat_minor": 2
}
