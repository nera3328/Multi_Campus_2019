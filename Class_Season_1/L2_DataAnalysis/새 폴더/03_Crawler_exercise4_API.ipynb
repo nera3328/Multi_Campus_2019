{
 "cells": [
  {
   "cell_type": "markdown",
   "metadata": {},
   "source": [
    "### 깃헙 api"
   ]
  },
  {
   "cell_type": "code",
   "execution_count": 1,
   "metadata": {},
   "outputs": [
    {
     "data": {
      "text/plain": [
       "<Response [200]>"
      ]
     },
     "execution_count": 1,
     "metadata": {},
     "output_type": "execute_result"
    }
   ],
   "source": [
    "import requests\n",
    "\n",
    "url = \"https://api.github.com/\"\n",
    "\n",
    "result = requests.get(url)\n",
    "result"
   ]
  },
  {
   "cell_type": "code",
   "execution_count": 2,
   "metadata": {},
   "outputs": [
    {
     "data": {
      "text/plain": [
       "b'{\"current_user_url\":\"https://api.github.com/user\",\"current_user_authorizations_html_url\":\"https://github.com/settings/connections/applications{/client_id}\",\"authorizations_url\":\"https://api.github.com/authorizations\",\"code_search_url\":\"https://api.github.com/search/code?q={query}{&page,per_page,sort,order}\",\"commit_search_url\":\"https://api.github.com/search/commits?q={query}{&page,per_page,sort,order}\",\"emails_url\":\"https://api.github.com/user/emails\",\"emojis_url\":\"https://api.github.com/emojis\",\"events_url\":\"https://api.github.com/events\",\"feeds_url\":\"https://api.github.com/feeds\",\"followers_url\":\"https://api.github.com/user/followers\",\"following_url\":\"https://api.github.com/user/following{/target}\",\"gists_url\":\"https://api.github.com/gists{/gist_id}\",\"hub_url\":\"https://api.github.com/hub\",\"issue_search_url\":\"https://api.github.com/search/issues?q={query}{&page,per_page,sort,order}\",\"issues_url\":\"https://api.github.com/issues\",\"keys_url\":\"https://api.github.com/user/keys\",\"notifications_url\":\"https://api.github.com/notifications\",\"organization_repositories_url\":\"https://api.github.com/orgs/{org}/repos{?type,page,per_page,sort}\",\"organization_url\":\"https://api.github.com/orgs/{org}\",\"public_gists_url\":\"https://api.github.com/gists/public\",\"rate_limit_url\":\"https://api.github.com/rate_limit\",\"repository_url\":\"https://api.github.com/repos/{owner}/{repo}\",\"repository_search_url\":\"https://api.github.com/search/repositories?q={query}{&page,per_page,sort,order}\",\"current_user_repositories_url\":\"https://api.github.com/user/repos{?type,page,per_page,sort}\",\"starred_url\":\"https://api.github.com/user/starred{/owner}{/repo}\",\"starred_gists_url\":\"https://api.github.com/gists/starred\",\"team_url\":\"https://api.github.com/teams\",\"user_url\":\"https://api.github.com/users/{user}\",\"user_organizations_url\":\"https://api.github.com/user/orgs\",\"user_repositories_url\":\"https://api.github.com/users/{user}/repos{?type,page,per_page,sort}\",\"user_search_url\":\"https://api.github.com/search/users?q={query}{&page,per_page,sort,order}\"}'"
      ]
     },
     "execution_count": 2,
     "metadata": {},
     "output_type": "execute_result"
    }
   ],
   "source": [
    "result.content"
   ]
  },
  {
   "cell_type": "code",
   "execution_count": 6,
   "metadata": {},
   "outputs": [
    {
     "name": "stdout",
     "output_type": "stream",
     "text": [
      "https://api.github.com/events\n",
      "https://api.github.com/user\n",
      "https://api.github.com/emails\n"
     ]
    }
   ],
   "source": [
    "sub_dir = ['events', 'user', 'emails']\n",
    "\n",
    "for sub in sub_dir:\n",
    "    urls = url + sub\n",
    "    print(urls)"
   ]
  },
  {
   "cell_type": "code",
   "execution_count": 8,
   "metadata": {},
   "outputs": [
    {
     "name": "stdout",
     "output_type": "stream",
     "text": [
      "http://api.openweathermap.org/data/2.5/weather?lat=37.57&lon=126.98&appid=b235c57pc357fb68acr1e81&units=metric\n"
     ]
    }
   ],
   "source": [
    "LAT = '37.57' #위도\n",
    "LON = '126.98' #경도\n",
    "\n",
    "API_KEY = 'b235c57pc357fb68acr1e81'\n",
    "UNIT = 'metric' #단위\n",
    "\n",
    "site_url = \"http://api.openweathermap.org/data/2.5/weather\"\n",
    "params = {\n",
    "    'lat': LAT,\n",
    "    'lon': LON,\n",
    "    'appid': API_KEY,\n",
    "    'units': UNIT\n",
    "}\n",
    "\n",
    "result = requests.get(site_url, params)\n",
    "# result.status_code\n",
    "print(result.url)"
   ]
  },
  {
   "cell_type": "code",
   "execution_count": 9,
   "metadata": {},
   "outputs": [
    {
     "data": {
      "text/plain": [
       "'b235c57pc357fb68acr1e81'"
      ]
     },
     "execution_count": 9,
     "metadata": {},
     "output_type": "execute_result"
    }
   ],
   "source": [
    "#API_KEY를 디코딩해야되는 경우\n",
    "API_KEY_decode = requests.utils.unquote(API_KEY)\n",
    "API_KEY_decode"
   ]
  },
  {
   "cell_type": "markdown",
   "metadata": {},
   "source": [
    "### 국제 우주 정거장의 정보 가져오기"
   ]
  },
  {
   "cell_type": "markdown",
   "metadata": {},
   "source": [
    "- ISS(국제 우주 정거장) 현재 위치, 시간, 우주인의 수, 이름 등을 알려주는 API 제공\n",
    "  \n",
    "- API KEY 필요 X"
   ]
  },
  {
   "cell_type": "code",
   "execution_count": 10,
   "metadata": {},
   "outputs": [
    {
     "name": "stdout",
     "output_type": "stream",
     "text": [
      "{\"iss_position\": {\"longitude\": \"118.2330\", \"latitude\": \"18.7151\"}, \"message\": \"success\", \"timestamp\": 1560388343}\n"
     ]
    }
   ],
   "source": [
    "#국제우주정거장 현재위치 가져오기\n",
    "import requests\n",
    "import json\n",
    "\n",
    "url = \"http://api.open-notify.org/iss-now.json\"\n",
    "\n",
    "result = requests.get(url)\n",
    "print(result.text)"
   ]
  },
  {
   "cell_type": "code",
   "execution_count": 19,
   "metadata": {},
   "outputs": [
    {
     "name": "stdout",
     "output_type": "stream",
     "text": [
      "b'{\"message\": \"success\", \"number\": 6, \"people\": [{\"craft\": \"ISS\", \"name\": \"Oleg Kononenko\"}, {\"craft\": \"ISS\", \"name\": \"David Saint-Jacques\"}, {\"craft\": \"ISS\", \"name\": \"Anne McClain\"}, {\"craft\": \"ISS\", \"name\": \"Alexey Ovchinin\"}, {\"craft\": \"ISS\", \"name\": \"Nick Hague\"}, {\"craft\": \"ISS\", \"name\": \"Christina Koch\"}]}'\n"
     ]
    }
   ],
   "source": [
    "#iss 우주인 정보\n",
    "url = \"http://api.open-notify.org/astros.json\"\n",
    "\n",
    "result = requests.get(url)\n",
    "print(result.content)"
   ]
  },
  {
   "cell_type": "code",
   "execution_count": 23,
   "metadata": {},
   "outputs": [
    {
     "data": {
      "text/plain": [
       "{'message': 'success',\n",
       " 'number': 6,\n",
       " 'people': [{'craft': 'ISS', 'name': 'Oleg Kononenko'},\n",
       "  {'craft': 'ISS', 'name': 'David Saint-Jacques'},\n",
       "  {'craft': 'ISS', 'name': 'Anne McClain'},\n",
       "  {'craft': 'ISS', 'name': 'Alexey Ovchinin'},\n",
       "  {'craft': 'ISS', 'name': 'Nick Hague'},\n",
       "  {'craft': 'ISS', 'name': 'Christina Koch'}]}"
      ]
     },
     "execution_count": 23,
     "metadata": {},
     "output_type": "execute_result"
    }
   ],
   "source": [
    "import json\n",
    "\n",
    "data = json.loads(result.content)\n",
    "data"
   ]
  },
  {
   "cell_type": "code",
   "execution_count": 22,
   "metadata": {},
   "outputs": [
    {
     "data": {
      "text/plain": [
       "[{'craft': 'ISS', 'name': 'Oleg Kononenko'},\n",
       " {'craft': 'ISS', 'name': 'David Saint-Jacques'},\n",
       " {'craft': 'ISS', 'name': 'Anne McClain'},\n",
       " {'craft': 'ISS', 'name': 'Alexey Ovchinin'},\n",
       " {'craft': 'ISS', 'name': 'Nick Hague'},\n",
       " {'craft': 'ISS', 'name': 'Christina Koch'}]"
      ]
     },
     "execution_count": 22,
     "metadata": {},
     "output_type": "execute_result"
    }
   ],
   "source": [
    "data['people']"
   ]
  },
  {
   "cell_type": "code",
   "execution_count": 26,
   "metadata": {},
   "outputs": [
    {
     "data": {
      "text/plain": [
       "['Oleg Kononenko',\n",
       " 'David Saint-Jacques',\n",
       " 'Anne McClain',\n",
       " 'Alexey Ovchinin',\n",
       " 'Nick Hague',\n",
       " 'Christina Koch']"
      ]
     },
     "execution_count": 26,
     "metadata": {},
     "output_type": "execute_result"
    }
   ],
   "source": [
    "name = []\n",
    "for num in range(data['number']):\n",
    "    name.append(data['people'][num]['name'])\n",
    "name"
   ]
  },
  {
   "cell_type": "markdown",
   "metadata": {},
   "source": [
    "### 공공데이터 도로명주소"
   ]
  },
  {
   "cell_type": "code",
   "execution_count": 28,
   "metadata": {},
   "outputs": [
    {
     "data": {
      "text/plain": [
       "'<?xml version=\"1.0\" encoding=\"UTF-8\" standalone=\"yes\"?><NewAddressListResponse><cmmMsgHeader><requestMsgId></requestMsgId><responseMsgId></responseMsgId><responseTime>20190613:110459638</responseTime><successYN>Y</successYN><returnCode>00</returnCode><errMsg></errMsg><totalCount>1</totalCount><countPerPage>10</countPerPage><totalPage>1</totalPage><currentPage></currentPage></cmmMsgHeader><newAddressListAreaCd><zipNo>06579</zipNo><lnmAdres>서울특별시 서초구 반포대로 201 (반포동, 국립중앙도서관)</lnmAdres><rnAdres>서울특별시 서초구 반포동 산60-1 국립중앙도서관</rnAdres></newAddressListAreaCd></NewAddressListResponse>'"
      ]
     },
     "execution_count": 28,
     "metadata": {},
     "output_type": "execute_result"
    }
   ],
   "source": [
    "url =  'http://openapi.epost.go.kr/postal/retrieveNewAdressAreaCdService/retrieveNewAdressAreaCdService/getNewAddressListAreaCd'\n",
    "\n",
    "searchSe = 'road'\n",
    "srchwrd = '반포대로 201'\n",
    "\n",
    "API_KEY = 'qJ6t5D6riLOPrFXladC2%2Fn0SNoL3H7LwwPVEa%2B1Qs%2FOQHoc6MQYZOd0XXksDMrnoCQx77QrXAcLR1a7u9tBwBQ%3D%3D'\n",
    "\n",
    "API_KEY_decode = requests.utils.unquote(API_KEY)\n",
    "# API_KEY_decode\n",
    "\n",
    "params = {\n",
    "    'searchSe': searchSe,\n",
    "    'srchwrd': srchwrd,\n",
    "    'ServiceKey': API_KEY_decode\n",
    "}\n",
    "\n",
    "result = requests.get(url, params)\n",
    "result.text"
   ]
  },
  {
   "cell_type": "raw",
   "metadata": {},
   "source": [
    "pip install xmltodict"
   ]
  },
  {
   "cell_type": "code",
   "execution_count": 47,
   "metadata": {},
   "outputs": [
    {
     "name": "stdout",
     "output_type": "stream",
     "text": [
      "{'cmmMsgHeader': {'countPerPage': '10',\n",
      "                  'currentPage': None,\n",
      "                  'errMsg': None,\n",
      "                  'requestMsgId': None,\n",
      "                  'responseMsgId': None,\n",
      "                  'responseTime': '20190613:110459638',\n",
      "                  'returnCode': '00',\n",
      "                  'successYN': 'Y',\n",
      "                  'totalCount': '1',\n",
      "                  'totalPage': '1'},\n",
      " 'newAddressListAreaCd': {'lnmAdres': '서울특별시 서초구 반포대로 201 (반포동, 국립중앙도서관)',\n",
      "                          'rnAdres': '서울특별시 서초구 반포동 산60-1 국립중앙도서관',\n",
      "                          'zipNo': '06579'}}\n"
     ]
    }
   ],
   "source": [
    "import xmltodict\n",
    "from pprint import pprint\n",
    "\n",
    "r = xmltodict.parse(result.text)\n",
    "# print(r)\n",
    "result_dict = json.dumps(r)\n",
    "result_dict = json.loads(result_dict)\n",
    "pprint(result_dict['NewAddressListResponse']) # 'NewAddressListResponse':\n",
    "            #newAddressListAreaCd' : 'rnAdres'"
   ]
  },
  {
   "cell_type": "code",
   "execution_count": 49,
   "metadata": {},
   "outputs": [
    {
     "name": "stdout",
     "output_type": "stream",
     "text": [
      "{'lnmAdres': '서울특별시 서초구 반포대로 201 (반포동, 국립중앙도서관)',\n",
      " 'rnAdres': '서울특별시 서초구 반포동 산60-1 국립중앙도서관',\n",
      " 'zipNo': '06579'}\n"
     ]
    }
   ],
   "source": [
    "Adress = result_dict['NewAddressListResponse']['newAddressListAreaCd']\n",
    "pprint(Adress)"
   ]
  },
  {
   "cell_type": "code",
   "execution_count": 51,
   "metadata": {},
   "outputs": [
    {
     "data": {
      "text/plain": [
       "'서울특별시 서초구 반포대로 201 (반포동, 국립중앙도서관)'"
      ]
     },
     "execution_count": 51,
     "metadata": {},
     "output_type": "execute_result"
    }
   ],
   "source": [
    "Adress['lnmAdres']"
   ]
  },
  {
   "cell_type": "code",
   "execution_count": 52,
   "metadata": {},
   "outputs": [
    {
     "data": {
      "text/plain": [
       "'서울특별시 서초구 반포동 산60-1 국립중앙도서관'"
      ]
     },
     "execution_count": 52,
     "metadata": {},
     "output_type": "execute_result"
    }
   ],
   "source": [
    "Adress['rnAdres']"
   ]
  },
  {
   "cell_type": "code",
   "execution_count": null,
   "metadata": {},
   "outputs": [],
   "source": []
  }
 ],
 "metadata": {
  "kernelspec": {
   "display_name": "Python 3",
   "language": "python",
   "name": "python3"
  },
  "language_info": {
   "codemirror_mode": {
    "name": "ipython",
    "version": 3
   },
   "file_extension": ".py",
   "mimetype": "text/x-python",
   "name": "python",
   "nbconvert_exporter": "python",
   "pygments_lexer": "ipython3",
   "version": "3.7.3"
  }
 },
 "nbformat": 4,
 "nbformat_minor": 2
}
