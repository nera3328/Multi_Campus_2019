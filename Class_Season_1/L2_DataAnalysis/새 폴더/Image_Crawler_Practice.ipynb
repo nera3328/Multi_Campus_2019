{
 "cells": [
  {
   "cell_type": "markdown",
   "metadata": {},
   "source": [
    "# 이미지 내려받기"
   ]
  },
  {
   "cell_type": "code",
   "execution_count": 46,
   "metadata": {},
   "outputs": [
    {
     "data": {
      "text/plain": [
       "<Response [200]>"
      ]
     },
     "execution_count": 46,
     "metadata": {},
     "output_type": "execute_result"
    }
   ],
   "source": [
    "import requests\n",
    "\n",
    "url='https://ssl.gstatic.com/ui/v1/icons/mail/rfr/logo_gmail_lockup_default_1x.png'   #image 주소\n",
    "image=requests.get(url)\n",
    "image"
   ]
  },
  {
   "cell_type": "code",
   "execution_count": 47,
   "metadata": {},
   "outputs": [
    {
     "data": {
      "text/plain": [
       "'logo_gmail_lockup_default_1x.png'"
      ]
     },
     "execution_count": 47,
     "metadata": {},
     "output_type": "execute_result"
    }
   ],
   "source": [
    "import os\n",
    "\n",
    "name=os.path.basename(url)     #image 주소에서 이름만 추출.\n",
    "name"
   ]
  },
  {
   "cell_type": "code",
   "execution_count": 48,
   "metadata": {},
   "outputs": [],
   "source": [
    "folder='c:myPyCode/download'\n",
    "\n",
    "if not os.path.exists(folder): #위의 폴더 경로에 폴더가 없다면\n",
    "   os.makedirs(folder)         #만들어라"
   ]
  },
  {
   "cell_type": "code",
   "execution_count": 49,
   "metadata": {},
   "outputs": [
    {
     "data": {
      "text/plain": [
       "True"
      ]
     },
     "execution_count": 49,
     "metadata": {},
     "output_type": "execute_result"
    }
   ],
   "source": [
    "os.path.exists(folder)   #폴더 있니? (확인)"
   ]
  },
  {
   "cell_type": "code",
   "execution_count": 50,
   "metadata": {},
   "outputs": [
    {
     "data": {
      "text/plain": [
       "'c:myPyCode/download\\\\logo_gmail_lockup_default_1x.png'"
      ]
     },
     "execution_count": 50,
     "metadata": {},
     "output_type": "execute_result"
    }
   ],
   "source": [
    "image_path=os.path.join(folder,name)   #생성 폴더와 추출된 img파일명 합하기->os모듈 메서드 사용\n",
    "image_path"
   ]
  },
  {
   "cell_type": "code",
   "execution_count": 51,
   "metadata": {},
   "outputs": [],
   "source": [
    "F=open(image_path,'bw') #쓰기, 바이너리 형식으로 지정, 열기  open('file이름','모드')"
   ]
  },
  {
   "cell_type": "code",
   "execution_count": 52,
   "metadata": {
    "scrolled": true
   },
   "outputs": [],
   "source": [
    "chunk_size=100000\n",
    "for chunk in image.iter_content(chunk_size):\n",
    "    F.write(chunk)\n",
    "F.write(chunk)\n",
    "F.close()"
   ]
  },
  {
   "cell_type": "code",
   "execution_count": 53,
   "metadata": {
    "scrolled": true
   },
   "outputs": [
    {
     "data": {
      "text/plain": [
       "['logo_gmail_lockup_default_1x.png']"
      ]
     },
     "execution_count": 53,
     "metadata": {},
     "output_type": "execute_result"
    }
   ],
   "source": [
    "os.listdir(folder)  #지정 폴더의 파일 목록"
   ]
  },
  {
   "cell_type": "markdown",
   "metadata": {},
   "source": [
    "# 여러 이미지 내려받기"
   ]
  },
  {
   "cell_type": "code",
   "execution_count": 72,
   "metadata": {},
   "outputs": [
    {
     "data": {
      "text/plain": [
       "'https://cdn.pixabay.com/photo/2019/06/07/15/01/beach-4258458__340.jpg'"
      ]
     },
     "execution_count": 72,
     "metadata": {},
     "output_type": "execute_result"
    }
   ],
   "source": [
    "import requests  \n",
    "from bs4 import BeautifulSoup\n",
    "\n",
    "url='https://pixabay.com/ko/images/search/?cat=travel'    #사이트 화면 주소\n",
    "\n",
    "image=requests.get(url).text                   #위의 주소 글자 형식으로 부르기\n",
    "soup=BeautifulSoup(image,'lxml')               #lxml로 불러와라\n",
    "\n",
    "\n",
    "tag=soup.select('img')                    #'img'태그 찾기\n",
    "tag[0:3]                                 # 3까지 주워오기\n",
    "\n",
    "image_url=tag[0].get('src')\n",
    "image_url"
   ]
  },
  {
   "cell_type": "code",
   "execution_count": 73,
   "metadata": {},
   "outputs": [],
   "source": [
    "html_image =requests.get(image_url) #이미지 주소 떠오기\n",
    "\n",
    "folder='c:myPyCode/download'       #저장 경로\n",
    "imagefile=open(os.path.join(folder,os.path.basename(image_url)),'wb') #os.path.basename(url)은 웹사이트나 폴더가 포함된 파일명에서 파일명만 분리\n",
    "\n",
    "chunk_size=100000 #이미지 데이터 100000 바이트씩 나누어 \n",
    "\n",
    "for chunk in html_image.iter_content(chunk_size):\n",
    "    imagefile.write(chunk)\n",
    "\n",
    "imagefile.close()"
   ]
  },
  {
   "cell_type": "markdown",
   "metadata": {},
   "source": [
    "#### 반복문으로 지정 개수만큼 내려받기"
   ]
  },
  {
   "cell_type": "code",
   "execution_count": 3,
   "metadata": {},
   "outputs": [
    {
     "ename": "SyntaxError",
     "evalue": "invalid syntax (<ipython-input-3-f42d03ec5447>, line 35)",
     "output_type": "error",
     "traceback": [
      "\u001b[1;36m  File \u001b[1;32m\"<ipython-input-3-f42d03ec5447>\"\u001b[1;36m, line \u001b[1;32m35\u001b[0m\n\u001b[1;33m    print('이미지 파일명: '{0}'. 내려받기 완료!'.format(os.path.basename(img_url)))  #format 따라 프린트하고 내용은 img_url만든거\u001b[0m\n\u001b[1;37m                     ^\u001b[0m\n\u001b[1;31mSyntaxError\u001b[0m\u001b[1;31m:\u001b[0m invalid syntax\n"
     ]
    }
   ],
   "source": [
    "import requests\n",
    "from bs4 import BeautifulSoup\n",
    "import os\n",
    "\n",
    "\n",
    "url='https://pixabay.com/ko/images/search/?cat=travel'\n",
    "\n",
    "def get_image_url(url):    #url에서 이미지 주소 추출\n",
    "    image_url=request.get(url).text  #url txt\n",
    "    soup=BeautifulSoup(image_url,'lxml')   #뷰티풀슾으로 urltxt 불러오기\n",
    "    image_elements=soup.select('img')        #img_tag 뽑기\n",
    "    \n",
    "    if (image_elements !=none):             #img_tag가 없는게 아니라면\n",
    "        image_urls=[]              # 변수 리스트 비워두기\n",
    "        for image_element in image_elements:        #돌려\n",
    "            image_url.append(image_element.get('src'))       #비어있던 image_url에 src를 추가해\n",
    "        return image_urls                                     # image_url을 줘\n",
    "    else:\n",
    "        return none                                          #아님 없어\n",
    "    \n",
    "    #폴더 지정해 내려받기\n",
    "    \n",
    "    def download_image(img_folder, img_url):          #함수 이름 download_image, 변수 img_folder, img_url 만듦.\n",
    "        if (img_url !=none):                         #img_url ㅌ\n",
    "            html_image=requests.get(img_url)         #html_image는 img_url을 가져와\n",
    "            \n",
    "            #파일명 분리\n",
    "            imageFile=open(os.path.join(img_folder,os.path.basename(img_url)),'wb')  #imageFile은 이름만 뽑아서 읽기-바이너리로 열어\n",
    "            \n",
    "            chunk_size=100000  #100000바이트씩 나눠 저장\n",
    "            for chunk in html_image.iter_content(chunk_size):    #html_image를 받은 거를 100000씩 순차적으로 저장\n",
    "                imageFile.write(chunk)  #chunk를 쓰기 파일로\n",
    "                imageFile.close()\n",
    "                \n",
    "            print('이미지 파일명: '{0}'. 내려받기 완료!'.format(os.path.basename(img_url)))  #format 따라 프린트하고 내용은 img_url만든거\n",
    "\n",
    "        else:\n",
    "            print('내려받을 이미지가 없습니다.')\n",
    "            \n",
    "#웹사이트 주소 지정\n",
    "\n",
    "pixabay_url='https://pixabay.com/ko/images/search/?cat=travel'\n",
    "\n",
    "#내려받을 폴더 지정\n",
    "\n",
    "figure_folder='c:myPyCode/download'\n",
    "\n",
    "#이미지파일 주소 가져오기\n",
    "pixabay_img_url=get_image_url(pixabay_url)  #d위 url에서 \n",
    "\n",
    "#이미지 개수 지정\n",
    "num=10\n",
    "for k in range(num):\n",
    "    download_image(figure_folder,pixabay_img_url[k])  #이미지 "
   ]
  },
  {
   "cell_type": "code",
   "execution_count": null,
   "metadata": {},
   "outputs": [],
   "source": []
  }
 ],
 "metadata": {
  "kernelspec": {
   "display_name": "Python 3",
   "language": "python",
   "name": "python3"
  },
  "language_info": {
   "codemirror_mode": {
    "name": "ipython",
    "version": 3
   },
   "file_extension": ".py",
   "mimetype": "text/x-python",
   "name": "python",
   "nbconvert_exporter": "python",
   "pygments_lexer": "ipython3",
   "version": "3.7.3"
  }
 },
 "nbformat": 4,
 "nbformat_minor": 2
}
