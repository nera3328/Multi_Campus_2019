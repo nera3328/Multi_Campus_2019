{
 "cells": [
  {
   "cell_type": "markdown",
   "metadata": {},
   "source": [
    "### 웹사이트에 접속해보기"
   ]
  },
  {
   "cell_type": "code",
   "execution_count": 1,
   "metadata": {},
   "outputs": [],
   "source": [
    "import webbrowser"
   ]
  },
  {
   "cell_type": "code",
   "execution_count": 2,
   "metadata": {},
   "outputs": [
    {
     "data": {
      "text/plain": [
       "True"
      ]
     },
     "execution_count": 2,
     "metadata": {},
     "output_type": "execute_result"
    }
   ],
   "source": [
    "url = 'www.naver.com'\n",
    "webbrowser.open(url)"
   ]
  },
  {
   "cell_type": "code",
   "execution_count": 9,
   "metadata": {},
   "outputs": [
    {
     "data": {
      "text/plain": [
       "'http://search.naver.com/search.naver?query=minivelo'"
      ]
     },
     "execution_count": 9,
     "metadata": {},
     "output_type": "execute_result"
    }
   ],
   "source": [
    "search_url = 'http://search.naver.com/search.naver?query='\n",
    "\n",
    "keyword = 'minivelo'\n",
    "\n",
    "url = '{}{}'.format(search_url, keyword)\n",
    "url"
   ]
  },
  {
   "cell_type": "code",
   "execution_count": 8,
   "metadata": {
    "scrolled": true
   },
   "outputs": [
    {
     "data": {
      "text/plain": [
       "True"
      ]
     },
     "execution_count": 8,
     "metadata": {},
     "output_type": "execute_result"
    }
   ],
   "source": [
    "webbrowser.open(url)"
   ]
  },
  {
   "cell_type": "markdown",
   "metadata": {},
   "source": [
    "'http://search.naver.com/search.naver?query=minivelo'\n",
    "프로토콜 도메인          리소스 경로      쿼리스트"
   ]
  },
  {
   "cell_type": "markdown",
   "metadata": {},
   "source": [
    "- webbroser를 이용해서 '멀티캠퍼스', '파이썬', '예비군' 3가지를 한번에 검색하도록 만들어보셈"
   ]
  },
  {
   "cell_type": "code",
   "execution_count": 15,
   "metadata": {},
   "outputs": [],
   "source": [
    "#sol_1\n",
    "search_url = 'http://search.naver.com/search.naver?query='\n",
    "\n",
    "keyword = ['멀티캠퍼스','파이썬','예비군']\n",
    "\n",
    "for i in (keyword):\n",
    "    url = '{}{}'.format(search_url, i)\n",
    "    webbrowser.open(url)"
   ]
  },
  {
   "cell_type": "code",
   "execution_count": 16,
   "metadata": {},
   "outputs": [],
   "source": [
    "#sol_2\n",
    "search_url = 'http://search.naver.com/search.naver?query='\n",
    "\n",
    "keyword = ['멀티캠퍼스','파이썬','예비군']\n",
    "\n",
    "for k in (keyword):\n",
    "    url = search_url + k\n",
    "    webbrowser.open(url)"
   ]
  },
  {
   "cell_type": "markdown",
   "metadata": {},
   "source": [
    "웹브라우저는 안쓰고 리퀘스트? 쓴다\n",
    "페이지 소스 보면 html로 구성되어있다.\n",
    "<> -> 안에 담긴 것이 속성, 태그 -> 이것이 html의 구조\n",
    "\n",
    "<head> -> 시작 태그\n",
    "</head> -> 끝태그 \n",
    "-> 하나의 head라는 덩어리가 이 시작태그에서 시작하고 끝태그에서 끝난다.\n",
    "<body>\n",
    "</body>\n",
    "-> 하나의 body라는 덩어리"
   ]
  },
  {
   "cell_type": "markdown",
   "metadata": {},
   "source": [
    "### HTML 이해하기"
   ]
  },
  {
   "cell_type": "code",
   "execution_count": 22,
   "metadata": {},
   "outputs": [],
   "source": [
    "mkdir Html"
   ]
  },
  {
   "cell_type": "code",
   "execution_count": 20,
   "metadata": {},
   "outputs": [
    {
     "name": "stdout",
     "output_type": "stream",
     "text": [
      "Overwriting sample_html.html\n"
     ]
    }
   ],
   "source": [
    "%%writefile 'HTML/sample_html.html'   #HTML이라는 폴더에 파일 저장\n",
    "\n",
    "\n",
    "<!doctype html>\n",
    "<html lang=\"ko\">\n",
    " <head>\n",
    " </head>\n",
    " <body>\n",
    "    <p>'Python'</p>   # p는 문단을 뜻한다. 문단의 내용을 담을때 사용\n",
    " </body>\n",
    "</html>"
   ]
  },
  {
   "cell_type": "code",
   "execution_count": 26,
   "metadata": {},
   "outputs": [
    {
     "name": "stdout",
     "output_type": "stream",
     "text": [
      "Overwriting HTML/sample_html.html\n"
     ]
    }
   ],
   "source": [
    "%%writefile 'HTML/sample_html.html'   \n",
    "\n",
    "\n",
    "<!doctype html>\n",
    "<html lang=\"ko\">\n",
    " <head>\n",
    "    <meta charset = 'UTF-8'>  \n",
    " </head>\n",
    " <body>\n",
    "    <p>'데이터 분석을 위한'</p>\n",
    "    <p>'파이썬'</p>\n",
    "    <p>'철저 입문'</p>\n",
    " </body>\n",
    "</html>"
   ]
  },
  {
   "cell_type": "code",
   "execution_count": 36,
   "metadata": {},
   "outputs": [
    {
     "name": "stdout",
     "output_type": "stream",
     "text": [
      "Overwriting HTML/sample_html.html\n"
     ]
    }
   ],
   "source": [
    "%%writefile 'HTML/sample_html.html'   \n",
    "\n",
    "\n",
    "<!doctype html>\n",
    "<html lang=\"ko\">\n",
    " <head>\n",
    "    <meta charset = 'UTF-8'>  \n",
    "    <title> 제목 : 멀티캠퍼스</title>\n",
    " </head>\n",
    " <body>\n",
    "    <h1>\n",
    "    <p>'데이터 분석을 위한'</p>\n",
    "    </h1>\n",
    "    <h2>\n",
    "    <p>'파이썬'</p>\n",
    "    </h2>\n",
    "    <h3>\n",
    "    <p>철저 입문</p>\n",
    "    </h3>\n",
    "    <ul>\n",
    "        <li>1</li>\n",
    "        <li>2</li>\n",
    "        <li>3</li>\n",
    "    </ul>\n",
    "    \n",
    "    <ol>\n",
    "        <li>4</li>\n",
    "        <li>5</li>\n",
    "        <li>6</li>\n",
    "    </ol>\n",
    "    \n",
    "    <table>\n",
    "        <tr>\n",
    "            <td>a</td>\n",
    "            <td>b</td>\n",
    "            <td>c</td>\n",
    "        \n",
    "        </tr>\n",
    "        <tr>\n",
    "            <td>d</td>\n",
    "            <td>e</td>\n",
    "            <td>f</td>\n",
    "        </tr>\n",
    "    </table>\n",
    "     <table>\n",
    "        <thead>\n",
    "            <tr>\n",
    "                <td>a</td>\n",
    "                <td>b</td>\n",
    "                <td>c</td>\n",
    "            </tr>\n",
    "        </thead>\n",
    "        <tbody>\n",
    "            <tr>\n",
    "                <td>1</td>\n",
    "                <td>2</td>\n",
    "                <td>3</td>\n",
    "            </tr>\n",
    "            <tr>\n",
    "                <td>4</td>\n",
    "                <td>5</td>\n",
    "                <td>6</td>\n",
    "            </tr>\n",
    "        </tbody>\n",
    "        \n",
    "        <input type = 'text' value = 'input1'>\n",
    "        <input type = 'text' value = 'input2'>\n",
    "        <input type = 'text' value = 'input3'>\n",
    "    </table>\n",
    "    <button></button>\n",
    "\n",
    " </body>\n",
    "</html>"
   ]
  },
  {
   "cell_type": "markdown",
   "metadata": {},
   "source": [
    "<ul>                         #dot으로 리스트 표현\n",
    "        <li>1</li>\n",
    "        <li>2</li>\n",
    "        <li>3</li>\n",
    "    </ul>\n",
    "    \n",
    "    <ol>                    #숫자로 인덱싱하여 리스트 표현\n",
    "        <li>4</li>\n",
    "        <li>5</li>\n",
    "        <li>6</li>\n",
    "    </ol>\n",
    "\n",
    "- table 형태로 문자 표현\n",
    " <table>\n",
    "        <tr>\n",
    "            <td>a</td>\n",
    "            <td>b</td>\n",
    "            <td>c</td>\n",
    "        \n",
    "        </tr>\n",
    "        <tr>\n",
    "            <td>d</td>\n",
    "            <td>e</td>\n",
    "            <td>f</td>\n",
    "        </tr>\n",
    "    </table>\n",
    "table 안에서도 head랑 body 나눌 수 있다.\n",
    " <table>\n",
    "        <thead>\n",
    "            <tr>\n",
    "                <td>a</td>\n",
    "                <td>b</td>\n",
    "                <td>c</td>\n",
    "            </tr>\n",
    "        </thead>\n",
    "        <tbody>\n",
    "            <tr>\n",
    "                <td>1</td>\n",
    "                <td>2</td>\n",
    "                <td>3</td>\n",
    "            </tr>\n",
    "            <tr>\n",
    "                <td>4</td>\n",
    "                <td>5</td>\n",
    "                <td>6</td>\n",
    "            </tr>\n",
    "        </tbody>\n",
    "    </table>\n",
    "-입력도 받을 수 있다.\n",
    "<input type = 'text' value = 'input1'>\n",
    "        <input type = 'text' value = 'input2'>\n",
    "        <input type = 'text' value = 'input3'>"
   ]
  },
  {
   "cell_type": "code",
   "execution_count": null,
   "metadata": {},
   "outputs": [],
   "source": []
  }
 ],
 "metadata": {
  "kernelspec": {
   "display_name": "Python 3",
   "language": "python",
   "name": "python3"
  },
  "language_info": {
   "codemirror_mode": {
    "name": "ipython",
    "version": 3
   },
   "file_extension": ".py",
   "mimetype": "text/x-python",
   "name": "python",
   "nbconvert_exporter": "python",
   "pygments_lexer": "ipython3",
   "version": "3.7.3"
  }
 },
 "nbformat": 4,
 "nbformat_minor": 2
}
