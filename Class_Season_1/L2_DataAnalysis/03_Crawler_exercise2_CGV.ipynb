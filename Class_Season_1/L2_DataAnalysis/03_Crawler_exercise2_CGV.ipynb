{
 "cells": [
  {
   "cell_type": "markdown",
   "metadata": {},
   "source": [
    "- iframe\n",
    "\n",
    "html구조는 frame으로 이루어졌다\n",
    "일반적인 구조는 하나의 frame으로 이루어졌는데  \n",
    "iframe의 경우는 frame 안에 sub frame이 존재\n",
    "이 경우는 바로 읽어올 수 없다\n",
    "main frame 안에서 subframe 읽어오는거 해보자  \n",
    "\n",
    "mainframe(<html>iframe(<html></html>)</html>)\n",
    "\n",
    "mainframe과 iframe은 서로 다른 frame\n",
    "메인프레임에서 아이프레임으로 접근해야한다."
   ]
  },
  {
   "cell_type": "code",
   "execution_count": 20,
   "metadata": {},
   "outputs": [],
   "source": [
    "import selenium\n",
    "from selenium import webdriver"
   ]
  },
  {
   "cell_type": "code",
   "execution_count": 63,
   "metadata": {},
   "outputs": [],
   "source": [
    "driver_path = 'Webdriver/chromedriver.exe'\n",
    "driver = webdriver.Chrome(driver_path)\n",
    "url = 'http://www.cgv.co.kr/theaters/'\n",
    "driver.get(url)\n",
    "\n",
    "#theater = driver.find_elements_by_xpath('//*[@id=\"gnb_list\"]/li[3]/a')\n",
    "#theater\n"
   ]
  },
  {
   "cell_type": "code",
   "execution_count": 64,
   "metadata": {},
   "outputs": [],
   "source": [
    "#  드라이버의 현재 frame을 main_frame안에 저장\n",
    "main_frame = driver.execute_script(\"return window.frameElement\") #execute_script()는 자바스크립트를 실행시켜주는 메서드"
   ]
  },
  {
   "cell_type": "code",
   "execution_count": 65,
   "metadata": {},
   "outputs": [],
   "source": [
    "#iframe xpath 저장\n",
    "iframe_element = driver.find_element_by_xpath('//*[@id=\"ifrm_movie_time_table\"]')\n",
    "\n",
    "#frame 전환\n",
    "driver.switch_to.frame(iframe_element)"
   ]
  },
  {
   "cell_type": "code",
   "execution_count": 28,
   "metadata": {},
   "outputs": [
    {
     "data": {
      "text/plain": [
       "'알라딘'"
      ]
     },
     "execution_count": 28,
     "metadata": {},
     "output_type": "execute_result"
    }
   ],
   "source": [
    "title = driver.find_element_by_xpath('/html/body/div/div[3]/ul/li[1]/div/div[1]/a')\n",
    "title.text"
   ]
  },
  {
   "cell_type": "code",
   "execution_count": 37,
   "metadata": {},
   "outputs": [],
   "source": [
    "title = driver.find_elements_by_xpath('/html/body/div/div[3]/ul/li/div/div[1]/a')\n",
    "title_list = []\n",
    "for t in title:\n",
    "    title_list.append(t.text)"
   ]
  },
  {
   "cell_type": "code",
   "execution_count": 38,
   "metadata": {},
   "outputs": [
    {
     "data": {
      "text/plain": [
       "['알라딘', '맨 인 블랙-인터내셔널', '기생충', '엑스맨-다크 피닉스', '물랑 루즈']"
      ]
     },
     "execution_count": 38,
     "metadata": {},
     "output_type": "execute_result"
    }
   ],
   "source": [
    "title_list"
   ]
  },
  {
   "cell_type": "code",
   "execution_count": 105,
   "metadata": {
    "scrolled": true
   },
   "outputs": [
    {
     "name": "stdout",
     "output_type": "stream",
     "text": [
      "알라딘\n",
      "14:10\n",
      "16:50\n",
      "22:15\n",
      "24:55\n",
      "13:20\n",
      "16:00\n",
      "18:40\n",
      "21:20\n",
      "24:00\n",
      "26:40\n",
      "맨 인 블랙-인터내셔널\n",
      "12:40\n",
      "15:05\n",
      "17:30\n",
      "19:55\n",
      "22:20\n",
      "24:45\n",
      "27:10\n",
      "19:30\n",
      "23:40\n",
      "26:05\n",
      "28:30\n",
      "13:45\n",
      "16:10\n",
      "21:40\n",
      "기생충\n",
      "13:00\n",
      "15:40\n",
      "18:20\n",
      "21:00\n",
      "14:40\n",
      "17:20\n",
      "20:05\n",
      "22:45\n",
      "25:25\n",
      "28:05\n",
      "24:05\n",
      "26:45\n",
      "엑스맨-다크 피닉스\n",
      "27:35\n",
      "물랑 루즈\n",
      "19:00\n"
     ]
    }
   ],
   "source": [
    "table = []\n",
    "for i in range(1,6,1):\n",
    "    time = driver.find_elements_by_xpath('/html/body/div/div[3]/ul/li['+str(i)+']/div/div/div[2]/ul/li/a/em')\n",
    "    print(title_list[i-1])\n",
    "    for t in time:\n",
    "        table.append([title_list[i-1],t.text])\n",
    "        print(t.text)"
   ]
  },
  {
   "cell_type": "code",
   "execution_count": 103,
   "metadata": {},
   "outputs": [
    {
     "data": {
      "text/plain": [
       "[['알라딘', '14:10'],\n",
       " ['알라딘', '16:50'],\n",
       " ['알라딘', '22:15'],\n",
       " ['알라딘', '24:55'],\n",
       " ['알라딘', '13:20'],\n",
       " ['알라딘', '16:00'],\n",
       " ['알라딘', '18:40'],\n",
       " ['알라딘', '21:20'],\n",
       " ['알라딘', '24:00'],\n",
       " ['알라딘', '26:40'],\n",
       " ['맨 인 블랙-인터내셔널', '12:40'],\n",
       " ['맨 인 블랙-인터내셔널', '15:05'],\n",
       " ['맨 인 블랙-인터내셔널', '17:30'],\n",
       " ['맨 인 블랙-인터내셔널', '19:55'],\n",
       " ['맨 인 블랙-인터내셔널', '22:20'],\n",
       " ['맨 인 블랙-인터내셔널', '24:45'],\n",
       " ['맨 인 블랙-인터내셔널', '27:10'],\n",
       " ['맨 인 블랙-인터내셔널', '19:30'],\n",
       " ['맨 인 블랙-인터내셔널', '23:40'],\n",
       " ['맨 인 블랙-인터내셔널', '26:05'],\n",
       " ['맨 인 블랙-인터내셔널', '28:30'],\n",
       " ['맨 인 블랙-인터내셔널', '13:45'],\n",
       " ['맨 인 블랙-인터내셔널', '16:10'],\n",
       " ['맨 인 블랙-인터내셔널', '21:40'],\n",
       " ['기생충', '13:00'],\n",
       " ['기생충', '15:40'],\n",
       " ['기생충', '18:20'],\n",
       " ['기생충', '21:00'],\n",
       " ['기생충', '14:40'],\n",
       " ['기생충', '17:20'],\n",
       " ['기생충', '20:05'],\n",
       " ['기생충', '22:45'],\n",
       " ['기생충', '25:25'],\n",
       " ['기생충', '28:05'],\n",
       " ['기생충', '24:05'],\n",
       " ['기생충', '26:45'],\n",
       " ['엑스맨-다크 피닉스', '27:35'],\n",
       " ['물랑 루즈', '19:00']]"
      ]
     },
     "execution_count": 103,
     "metadata": {},
     "output_type": "execute_result"
    }
   ],
   "source": [
    "time_list"
   ]
  },
  {
   "cell_type": "markdown",
   "metadata": {},
   "source": [
    "페이지 넘기면서 영화표 뽑고 싶다  \n",
    "-> 프레임 전환해줘야 페이지 넘어가는거 가능"
   ]
  },
  {
   "cell_type": "code",
   "execution_count": 106,
   "metadata": {},
   "outputs": [
    {
     "name": "stderr",
     "output_type": "stream",
     "text": [
      "C:\\ProgramData\\Anaconda3\\envs\\finance\\lib\\site-packages\\ipykernel_launcher.py:2: DeprecationWarning: use driver.switch_to.frame instead\n",
      "  \n"
     ]
    }
   ],
   "source": [
    "# 다시 프레임 전환 : iframe -> mainframe\n",
    "driver.switch_to_frame(main_frame)"
   ]
  },
  {
   "cell_type": "code",
   "execution_count": null,
   "metadata": {},
   "outputs": [],
   "source": []
  }
 ],
 "metadata": {
  "kernelspec": {
   "display_name": "Python 3",
   "language": "python",
   "name": "python3"
  },
  "language_info": {
   "codemirror_mode": {
    "name": "ipython",
    "version": 3
   },
   "file_extension": ".py",
   "mimetype": "text/x-python",
   "name": "python",
   "nbconvert_exporter": "python",
   "pygments_lexer": "ipython3",
   "version": "3.7.3"
  }
 },
 "nbformat": 4,
 "nbformat_minor": 2
}
