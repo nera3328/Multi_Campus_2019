{
 "cells": [
  {
   "cell_type": "markdown",
   "metadata": {},
   "source": [
    "#### 롯데시네마"
   ]
  },
  {
   "cell_type": "code",
   "execution_count": 1,
   "metadata": {},
   "outputs": [],
   "source": [
    "import time\n",
    "import re\n",
    "from selenium import webdriver"
   ]
  },
  {
   "cell_type": "code",
   "execution_count": 28,
   "metadata": {},
   "outputs": [],
   "source": [
    "driver_path = 'webdriver/chromedriver'\n",
    "driver = webdriver.Chrome(driver_path)\n",
    "url = 'http://www.lottecinema.co.kr/LCHS/index.aspx'\n",
    "\n",
    "driver.implicitly_wait(10) #묵시적 대기\n",
    "\n",
    "driver.get(url)"
   ]
  },
  {
   "cell_type": "code",
   "execution_count": 50,
   "metadata": {},
   "outputs": [],
   "source": [
    "def scrape_loc_cnt(driver):\n",
    "    locations = driver.find_elements_by_xpath('//*[@id=\"wrap\"]/div[2]/div[7]/ul/li[3]/div/ul/li')\n",
    "    \n",
    "    info_list = []\n",
    "    for loc in locations:\n",
    "        name_loc = loc.find_element_by_xpath('./a')\n",
    "        \n",
    "        centers = loc.find_elements_by_xpath('./div/ul/li/a')\n",
    "        \n",
    "        name_cnt = []\n",
    "        for cnt in centers:\n",
    "            name_cnt.append(cnt.get_attribute('title'))\n",
    "        info_list.append([name_loc.text, name_cnt])\n",
    "    return info_list"
   ]
  },
  {
   "cell_type": "code",
   "execution_count": 51,
   "metadata": {},
   "outputs": [
    {
     "name": "stdout",
     "output_type": "stream",
     "text": [
      "[['스페셜관',\n",
      "  ['샤롯데', '수퍼플렉스 G', '수퍼 S', '수퍼플렉스', '수퍼 4D', '씨네패밀리', '씨네커플', '씨네비즈']],\n",
      " ['서울',\n",
      "  ['가산디지털',\n",
      "   '가양',\n",
      "   '강동',\n",
      "   '건대입구',\n",
      "   '김포공항',\n",
      "   '노원',\n",
      "   '독산',\n",
      "   '브로드웨이(신사)',\n",
      "   '서울대입구',\n",
      "   '수락산',\n",
      "   '수유',\n",
      "   '신도림',\n",
      "   '신림',\n",
      "   '에비뉴엘(명동)',\n",
      "   '영등포',\n",
      "   '용산',\n",
      "   '월드타워',\n",
      "   '은평(롯데몰)',\n",
      "   '장안',\n",
      "   '청량리',\n",
      "   '합정',\n",
      "   '홍대입구',\n",
      "   '황학']],\n",
      " ['경기/인천',\n",
      "  ['검단',\n",
      "   '광교아울렛',\n",
      "   '광명(광명사거리)',\n",
      "   '광명아울렛',\n",
      "   '광주터미널',\n",
      "   '구리아울렛',\n",
      "   '라페스타',\n",
      "   '마석',\n",
      "   '병점',\n",
      "   '부천(신중동역)',\n",
      "   '부천역',\n",
      "   '부평',\n",
      "   '부평역사',\n",
      "   '산본피트인',\n",
      "   '성남(모란역)',\n",
      "   '성남중앙(신흥역)',\n",
      "   '센트럴락',\n",
      "   '송탄',\n",
      "   '수원',\n",
      "   '시화',\n",
      "   '안산',\n",
      "   '안산고잔',\n",
      "   '안성',\n",
      "   '안양(안양역)',\n",
      "   '안양일번가',\n",
      "   '양주고읍',\n",
      "   '오산',\n",
      "   '용인기흥',\n",
      "   '용인역북',\n",
      "   '위례',\n",
      "   '의정부민락',\n",
      "   '인덕원',\n",
      "   '인천아시아드',\n",
      "   '인천터미널',\n",
      "   '주엽',\n",
      "   '진접',\n",
      "   '파주아울렛',\n",
      "   '파주운정',\n",
      "   '평촌(범계역)',\n",
      "   '평택비전(뉴코아)',\n",
      "   '향남']],\n",
      " ['충청/대전',\n",
      "  ['대전(백화점)',\n",
      "   '대전둔산(월평동)',\n",
      "   '대전센트럴',\n",
      "   '서산',\n",
      "   '서청주(아울렛)',\n",
      "   '아산터미널',\n",
      "   '청주(성안길)',\n",
      "   '청주용암']],\n",
      " ['전라/광주',\n",
      "  ['광주(백화점)',\n",
      "   '광주광산',\n",
      "   '군산나운',\n",
      "   '군산몰',\n",
      "   '수완(아울렛)',\n",
      "   '익산모현',\n",
      "   '전주(백화점)',\n",
      "   '전주평화',\n",
      "   '충장로']],\n",
      " ['경북/대구',\n",
      "  ['경산',\n",
      "   '경주',\n",
      "   '구미 프라임1번가',\n",
      "   '구미공단',\n",
      "   '대구광장',\n",
      "   '대구현풍',\n",
      "   '동성로',\n",
      "   '상인',\n",
      "   '성서',\n",
      "   '영주',\n",
      "   '율하',\n",
      "   '포항',\n",
      "   '프리미엄구미센트럴',\n",
      "   '프리미엄만경',\n",
      "   '프리미엄안동',\n",
      "   '프리미엄칠곡']],\n",
      " ['경남/부산/울산',\n",
      "  ['광복',\n",
      "   '김해부원',\n",
      "   '김해아울렛(장유)',\n",
      "   '대영',\n",
      "   '동래',\n",
      "   '동부산아울렛',\n",
      "   '마산터미널',\n",
      "   '부산본점',\n",
      "   '사상',\n",
      "   '서면(전포동)',\n",
      "   '센텀시티',\n",
      "   '엠비씨네(진주)',\n",
      "   '오투(부산대)',\n",
      "   '울산(백화점)',\n",
      "   '울산성남',\n",
      "   '진주혁신(롯데몰)',\n",
      "   '진해',\n",
      "   '창원',\n",
      "   '통영',\n",
      "   '프리미엄경남대',\n",
      "   '프리미엄진주(중안)',\n",
      "   '프리미엄해운대(장산역)']],\n",
      " ['강원', ['남원주', '동해', '원주무실']],\n",
      " ['제주', ['서귀포', '제주삼화지구', '제주아라']]]\n"
     ]
    }
   ],
   "source": [
    "import pprint\n",
    "infomation = scrape_loc_cnt(driver)\n",
    "pprint.pprint(infomation)"
   ]
  },
  {
   "cell_type": "code",
   "execution_count": 52,
   "metadata": {},
   "outputs": [
    {
     "data": {
      "text/plain": [
       "['스페셜관', ['샤롯데', '수퍼플렉스 G', '수퍼 S', '수퍼플렉스', '수퍼 4D', '씨네패밀리', '씨네커플', '씨네비즈']]"
      ]
     },
     "execution_count": 52,
     "metadata": {},
     "output_type": "execute_result"
    }
   ],
   "source": [
    "infomation[0] #스페셜관, 스페셜관의 지점 "
   ]
  },
  {
   "cell_type": "code",
   "execution_count": 53,
   "metadata": {},
   "outputs": [
    {
     "data": {
      "text/plain": [
       "'서울'"
      ]
     },
     "execution_count": 53,
     "metadata": {},
     "output_type": "execute_result"
    }
   ],
   "source": [
    "infomation[1][0] #서울 "
   ]
  },
  {
   "cell_type": "code",
   "execution_count": 54,
   "metadata": {
    "scrolled": true
   },
   "outputs": [
    {
     "data": {
      "text/plain": [
       "['가산디지털',\n",
       " '가양',\n",
       " '강동',\n",
       " '건대입구',\n",
       " '김포공항',\n",
       " '노원',\n",
       " '독산',\n",
       " '브로드웨이(신사)',\n",
       " '서울대입구',\n",
       " '수락산',\n",
       " '수유',\n",
       " '신도림',\n",
       " '신림',\n",
       " '에비뉴엘(명동)',\n",
       " '영등포',\n",
       " '용산',\n",
       " '월드타워',\n",
       " '은평(롯데몰)',\n",
       " '장안',\n",
       " '청량리',\n",
       " '합정',\n",
       " '홍대입구',\n",
       " '황학']"
      ]
     },
     "execution_count": 54,
     "metadata": {},
     "output_type": "execute_result"
    }
   ],
   "source": [
    "infomation[1][1] #서울의 지점 정보"
   ]
  },
  {
   "cell_type": "code",
   "execution_count": 56,
   "metadata": {},
   "outputs": [],
   "source": [
    "def click_cnt_page(driver, loc, cnt):\n",
    "    theaters = driver.find_element_by_xpath('//*[@id=\"wrap\"]/div[2]/div[7]/ul/li[3]/a')\n",
    "    theaters.click()\n",
    "    location = driver.find_element_by_xpath('//*[@id=\"wrap\"]/div[2]/div[7]/ul/li[3]/div/ul/li[{}]/a'.format(loc))\n",
    "    location.click()\n",
    "\n",
    "    center = driver.find_element_by_xpath('//*[@id=\"ulCinemaList\"]/li[{}]/a'.format(cnt))\n",
    "    center.click()\n",
    "\n",
    "def get_info(driver):\n",
    "    movies = driver.find_elements_by_xpath('//*[@id=\"a_cont_cinema\"]/div/div[4]/div[2]/div/dl')\n",
    "    \n",
    "    title_list, time_list, seat_list  = [], [], []\n",
    "    for movie in movies: #movies 는 리스트니까\n",
    "        raw_title = movie.find_element_by_xpath('./dt')\n",
    "        age_tag = raw_title.find_element_by_xpath('./span')\n",
    "        title = raw_title.text.replace(age_tag.text, '')\n",
    "        print('영화 제목: {}'.format(title))\n",
    "        \n",
    "        title_list.append(title)\n",
    "        \n",
    "        element_time = driver.find_elements_by_xpath('./dd[1]/ul[2]/li/a/span[2]')\n",
    "        element_seat = driver.find_elements_by_xpath('./dd[1]/ul[2]/li/a/span[3]')\n",
    "        \n",
    "        t_list, s_list = [], []\n",
    "        for t, s in zip(element_time, element_seat):\n",
    "            check_soldout = re.findall('[0-9]+', s.text)\n",
    "            if check_soldout and check_soldout[0]:\n",
    "                print('시작 시간: {}, 잔여 좌석: {}'.format(t.text, s.text))\n",
    "            else:\n",
    "                print('{}시간 영화는 매진되었습니다.{}'.format(t.text, s.text))\n",
    "\n",
    "            t_list.append(t.text)\n",
    "            s_list.append(s.text)\n",
    "        time_list.append(t_list)\n",
    "        seat_list.append(s_list)\n",
    "    return title_list, time_list, seat_list"
   ]
  },
  {
   "cell_type": "code",
   "execution_count": 57,
   "metadata": {},
   "outputs": [],
   "source": [
    "location, center = 2, 4\n",
    "\n",
    "click_cnt_page(driver, location, center)"
   ]
  },
  {
   "cell_type": "code",
   "execution_count": 58,
   "metadata": {},
   "outputs": [
    {
     "name": "stdout",
     "output_type": "stream",
     "text": [
      "영화 제목: 기생충\n",
      "영화 제목: 알라딘\n",
      "영화 제목: 라 트라비아타\n"
     ]
    }
   ],
   "source": [
    "title, time, seat = get_info(driver)"
   ]
  },
  {
   "cell_type": "code",
   "execution_count": null,
   "metadata": {},
   "outputs": [],
   "source": []
  }
 ],
 "metadata": {
  "kernelspec": {
   "display_name": "Python 3",
   "language": "python",
   "name": "python3"
  },
  "language_info": {
   "codemirror_mode": {
    "name": "ipython",
    "version": 3
   },
   "file_extension": ".py",
   "mimetype": "text/x-python",
   "name": "python",
   "nbconvert_exporter": "python",
   "pygments_lexer": "ipython3",
   "version": "3.7.3"
  }
 },
 "nbformat": 4,
 "nbformat_minor": 2
}
