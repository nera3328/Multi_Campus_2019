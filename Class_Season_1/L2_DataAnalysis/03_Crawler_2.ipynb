{
 "cells": [
  {
   "cell_type": "markdown",
   "metadata": {},
   "source": [
    "### 정규표현식\n",
    "\n",
    "-> 엑셀의 와일드카드 내용과 비슷\n",
    "\n",
    "? 0회 or 1회     -> c?는 문자열에서 c가 없거나 c하나 있는 것을 찾아라\n",
    "* 0회 이상       -> c* 는 없거나 하나 있거나 두개이상이거나\n",
    "+ 1회 이상       -> \n",
    ". 1개의 문자(단일행 모드에서는 \n",
    "[] [ 과 ] 사이의 문자 중 하나 선택 -> [ABC] 이면 A or B or C 찾는거\n",
    "[^] [ 과 ] 사이의 문자 제외하고 나머지 중 하나 선택\n",
    "\n",
    "ex) 문서 ABCDEF에서 대상 : A,C,D을 찾고 싶으면  \n",
    "-> [ACD]\n",
    "\n",
    "ex) ABACAD에서 AB , AC, AD 찾고 싶다.\n",
    "-> A들어있고 뒤에 무엇이 오던 상관ㄴㄴ\n",
    "-> A. 으로 표현하면 된다.\n",
    "\n",
    "ex) ABC0123 에서 0,1,2,3 뽑고 싶다.\n",
    "[0123]\n",
    "\n",
    "ex) ABC0123456789 에서 0-9 뽑고 싶다.\n",
    "-> [0-9]\n",
    "-> 숫자를 뽑아달라!\n",
    "\n",
    "0123456789 하나로 나열된 데이터를 뽑고싶다.\n",
    "-> [0-9]+"
   ]
  },
  {
   "cell_type": "markdown",
   "metadata": {},
   "source": [
    "정규표현식만으로도 beautiful soup 안쓰고 크롤러 만들 수 있다.\n",
    "-> 패키지 이름 : re\n",
    "-> 주요함수  : re.findall(찾을대상, 찾을 위치)\n",
    ".+ : Gready quantifier -> 임의의 문자 여러개   ex) e.+d  -> e로 시작해서 d로 끝나는 문자 -> ead, eaed, edadad 다 찾는다 e로 시작해서 끝까지 읽음\n",
    ".+? : Reluctant quantifier-> 임의의 문자 0회 또는 1회  ex) e.+?d  -> 앞에서부터 데이터 읽어서 e로 시작해서 d로 처음 끝나는 곳"
   ]
  },
  {
   "cell_type": "markdown",
   "metadata": {},
   "source": [
    "/는 정규표현식에 쓰이는 기호들??\n",
    "/int 역슬래쉬 뒤에 있는 숫자는 횟수를 의미\n",
    "() -> 소괄호 안에 쓰인 애들은 하나의 문자로 취급\n",
    "(int)-> 횟수               # \n",
    "(int,) -> 숫자 이상        #이 2줄은 다른 문법으로 커버 가능해서 잘 안쓴다."
   ]
  },
  {
   "cell_type": "code",
   "execution_count": 1,
   "metadata": {},
   "outputs": [],
   "source": [
    "import re"
   ]
  },
  {
   "cell_type": "code",
   "execution_count": 2,
   "metadata": {},
   "outputs": [],
   "source": [
    "doc = 'SunA 010-0000-0005 02/02'"
   ]
  },
  {
   "cell_type": "markdown",
   "metadata": {},
   "source": [
    "Q. 이름, 번호, 생일을 따로 뽑아서 name, phone, birth레 담아보셈"
   ]
  },
  {
   "cell_type": "code",
   "execution_count": 3,
   "metadata": {},
   "outputs": [
    {
     "data": {
      "text/plain": [
       "(['un'], ['010-0000-0005'], ['02/02'])"
      ]
     },
     "execution_count": 3,
     "metadata": {},
     "output_type": "execute_result"
    }
   ],
   "source": [
    "name = re.findall('[a-z]+', doc)\n",
    "phone = re.findall('[0-9]+-[0-9]+-[0-9]+', doc)  # [0-9]+-[0-9]+-[0-9]\n",
    "birth = re.findall('[0-9]+/[0-9]+', doc)                        # [0-9]+/[0-9]\n",
    "name, phone, birth"
   ]
  },
  {
   "cell_type": "markdown",
   "metadata": {},
   "source": [
    "[a-z] 하면 대문자는 출력 안되고 [A-Z]하면 소문자 출력ㄴㄴ  \n",
    "문자에 대한 코드값을 가지고 조회 그 코드가 아즈키 코드  \n",
    "[a-Z] 하면 에러뜸 -> 소문자의 아즈키 코드가 대문자보다 더 커서  \n",
    "[A-z]는 되는데 버그성 코드  \n",
    "\n",
    "name = re.findall('[A-Za-z]+', doc2) 로 쓰면 된다.  \n",
    "-> 이상해보이지만 이상하지 않다  \n",
    "-> [ABCD] = [A-D]로 쓰는 거 보면  "
   ]
  },
  {
   "cell_type": "code",
   "execution_count": 4,
   "metadata": {},
   "outputs": [
    {
     "name": "stdout",
     "output_type": "stream",
     "text": [
      "['SunA', 'Kkikki', 'Bong'] ['010-0000-0005', '010-0000-0003', '010-0000-0004'] ['02/02', '10/09', '06/06']\n"
     ]
    }
   ],
   "source": [
    "doc2 = '''SunA 010-0000-0005 02/02\n",
    "Kkikki 010-0000-0003 10/09\n",
    "Bong 010-0000-0004 06/06'''\n",
    "\n",
    "name = re.findall('[A-Za-z]+', doc2)\n",
    "phone = re.findall('[0-9]+-[0-9]+-[0-9]+', doc2)\n",
    "birth = re.findall('[0-9]+/[0-9]+', doc2)\n",
    "print(name, phone, birth, sep = ' ')"
   ]
  },
  {
   "cell_type": "code",
   "execution_count": 5,
   "metadata": {},
   "outputs": [
    {
     "name": "stdout",
     "output_type": "stream",
     "text": [
      "['Sun', 'Kkikki'] ['010-0000-0005', '010-0000-0003', '010-0000-0004'] ['02/02', '10/09', '06/06']\n"
     ]
    }
   ],
   "source": [
    "# 마지막 프로필 제외하고 출력\n",
    "name = re.findall('[AC-Z][a-z]+', doc2)  #-> 대문자 B로 시작하는 데이터 제외하고\n",
    "phone = re.findall('[0-9]+-[0-9]+-[0-9]+', doc2)\n",
    "birth = re.findall('[0-9]+/[0-9]+', doc2)\n",
    "print(name, phone, birth, sep = ' ')"
   ]
  },
  {
   "cell_type": "code",
   "execution_count": 6,
   "metadata": {},
   "outputs": [],
   "source": [
    "doc3 = '''\n",
    "박선아 summer 끼끼 Bong ㄱ\n",
    "'''"
   ]
  },
  {
   "cell_type": "code",
   "execution_count": 7,
   "metadata": {},
   "outputs": [
    {
     "data": {
      "text/plain": [
       "['박선아', '끼끼']"
      ]
     },
     "execution_count": 7,
     "metadata": {},
     "output_type": "execute_result"
    }
   ],
   "source": [
    "name_ko = re.findall('[가-힣]+',doc3)   # 가-힣 사이에 모든 한글 포함\n",
    "name_ko"
   ]
  },
  {
   "cell_type": "code",
   "execution_count": 8,
   "metadata": {},
   "outputs": [
    {
     "data": {
      "text/plain": [
       "[['국없는날', '단호박카레라이스', '케이준치킨샐러드', '깍두기', '메론'],\n",
       " ['생일축하식단', '찹쌀밥', '쇠고기미역국', '오삼불고기', '청포묵김가루무침', '배추겉절이', '딸기'],\n",
       " ['어린이날축하식단', '김밥볶음밥', '꼬치어묵국', '매콤떡볶이', '당면김말이', '깍두기', '밀크쉐이크'],\n",
       " ['세계음식의날', '밥', '자율', '로제소스스파게티', '마르게리타피자', '모듬피클', '배추김치', '청포도'],\n",
       " ['차조밥', '참치김치찌개', '오곡치킨텐더', '머스터드소스', '가지볶음', '깍두기'],\n",
       " ['찰현미밥', '사리설렁탕', '삼치살데리야끼구이', '노각생채', '석박지', '오렌지'],\n",
       " ['기장밥', '삼색수제비국', '돈육고추장불고기', '애호박새우젓볶음', '깍두기', '파인애플'],\n",
       " ['차수수밥', '사골우거지국', '코다리강정', '도토리묵', '양념장', '배추김치', '바나나'],\n",
       " ['스승의날감사식단', '쇠고기콩나물밥', '부추양념장', '근대된장국', '수원왕갈비맛치킨', '깍두기', '우리밀케이크'],\n",
       " ['용인', '미', '혼합잡곡밥', '떡국', '돈육메추리알장조림', '마늘쫑어묵볶음', '배추김치', '대추방울토마토'],\n",
       " ['토마코펜쌀밥', '뼈없는감자탕', '채소계란말이', '숙주미나리무침', '열무김치'],\n",
       " ['밤밥', '북어무국', '탕수육', '당면콩나물무침', '배추겉절이', '아이스망고'],\n",
       " ['기장밥', '두부된장찌개', '돈사태떡찜', '새우구이샐러드', '열무김치', '골드키위'],\n",
       " ['삼색소보로덮밥', '팽이미소된장국', '야채탱글가마보꼬스틱', '백김치', '호로록청포도쥬스'],\n",
       " ['녹두밥', '한방닭다리삼계탕', '고구마맛탕', '깻잎찜', '깍두기', '수박'],\n",
       " ['옥수수밥', '쇠고기채소국', '임연수카레구이', '쫄면채소무침', '배추김치'],\n",
       " ['팥차조밥', '네모명태살지리', '제육볶음', '만두탕수', '배추김치'],\n",
       " ['찰보리밥', '건새우아욱된장국', '치킨커틀렛', '사과소스', '새송이도라지무침', '깍두기', '적포도'],\n",
       " ['햄김치볶음밥', '계란실파국', '스마일감자튀김', '백김치', '아이스홍시스무디'],\n",
       " ['현미밥', '감자고추장찌개', '미트볼데리야끼소스조림', '머위대들깨나물', '열무김치', '슈크림붕어빵'],\n",
       " ['서리태밥', '들깨무채국', '뼈없는닭갈비', '무쌈오절판', '배추김치']]"
      ]
     },
     "execution_count": 8,
     "metadata": {},
     "output_type": "execute_result"
    }
   ],
   "source": [
    "import requests\n",
    "from bs4 import BeautifulSoup\n",
    "\n",
    "url = 'http://www.songok.es.kr/segio/meal_v2/meal_month.php'\n",
    "\n",
    "params = {'year': 2019, 'month':5}\n",
    "result = requests.get(url, params)\n",
    "\n",
    "soup = BeautifulSoup(result.content, 'lxml')\n",
    "\n",
    "tag_div = soup.find('div', class_='food_mon')\n",
    "#     print(tag_div)\n",
    "tag_tr = tag_div.find_all('tr')\n",
    "\n",
    "meal = []\n",
    "for tr in tag_tr:\n",
    "    tag_td = tr.find_all('td')\n",
    "    for td in tag_td:\n",
    "        tag_a = td.select('a')\n",
    "        if len(tag_a) != 0:\n",
    "            meal.append(tag_a[0].text)\n",
    "\n",
    "# new_meal = meal[0].replace('\\n', ' ').split()\n",
    "\n",
    "# meal_list = []\n",
    "# for m in new_meal:\n",
    "#     if not '.' in m:\n",
    "#         if not '[' in m:\n",
    "#             meal_list.append(m)\n",
    "# print(meal_list, meal)\n",
    "\n",
    "meals = []\n",
    "for m in meal:\n",
    "    me = re.findall('[가-힣]+',m)\n",
    "    if me:\n",
    "        meals.append(me)\n",
    "    else:\n",
    "        continue\n",
    "\n",
    "meals"
   ]
  },
  {
   "cell_type": "code",
   "execution_count": 9,
   "metadata": {},
   "outputs": [
    {
     "name": "stdout",
     "output_type": "stream",
     "text": [
      "['차조밥', '참치김치찌개', '오곡치킨텐더', '머스터드소스', '가지볶음', '깍두기']\n",
      "['찰현미밥', '사리설렁탕', '삼치살데리야끼구이', '노각생채', '석박지', '오렌지']\n",
      "['기장밥', '삼색수제비국', '돈육고추장불고기', '애호박새우젓볶음', '깍두기', '파인애플']\n",
      "['차수수밥', '사골우거지국', '코다리강정', '도토리묵', '양념장', '배추김치', '바나나']\n",
      "['토마코펜쌀밥', '뼈없는감자탕', '채소계란말이', '숙주미나리무침', '열무김치']\n",
      "['밤밥', '북어무국', '탕수육', '당면콩나물무침', '배추겉절이', '아이스망고']\n",
      "['기장밥', '두부된장찌개', '돈사태떡찜', '새우구이샐러드', '열무김치', '골드키위']\n",
      "['삼색소보로덮밥', '팽이미소된장국', '야채탱글가마보꼬스틱', '백김치', '호로록청포도쥬스']\n",
      "['녹두밥', '한방닭다리삼계탕', '고구마맛탕', '깻잎찜', '깍두기', '수박']\n",
      "['옥수수밥', '쇠고기채소국', '임연수카레구이', '쫄면채소무침', '배추김치']\n",
      "['팥차조밥', '네모명태살지리', '제육볶음', '만두탕수', '배추김치']\n",
      "['찰보리밥', '건새우아욱된장국', '치킨커틀렛', '사과소스', '새송이도라지무침', '깍두기', '적포도']\n",
      "['햄김치볶음밥', '계란실파국', '스마일감자튀김', '백김치', '아이스홍시스무디']\n",
      "['현미밥', '감자고추장찌개', '미트볼데리야끼소스조림', '머위대들깨나물', '열무김치', '슈크림붕어빵']\n",
      "['서리태밥', '들깨무채국', '뼈없는닭갈비', '무쌈오절판', '배추김치']\n"
     ]
    }
   ],
   "source": [
    "import requests\n",
    "from bs4 import BeautifulSoup\n",
    "\n",
    "url = 'http://www.songok.es.kr/segio/meal_v2/meal_month.php'\n",
    "\n",
    "params = {'year': 2019, 'month':5}\n",
    "result = requests.get(url, params)\n",
    "\n",
    "soup = BeautifulSoup(result.content, 'lxml')\n",
    "\n",
    "tag_div = soup.find('div', class_='food_mon')\n",
    "#     print(tag_div)\n",
    "tag_tr = tag_div.find_all('tr')\n",
    "\n",
    "meal = []\n",
    "for tr in tag_tr:\n",
    "    tag_td = tr.find_all('td')\n",
    "    for td in tag_td:\n",
    "        tag_a = td.select('a')\n",
    "        if len(tag_a) != 0:\n",
    "            meal.append(tag_a[0].text)\n",
    "\n",
    "\n",
    "temp = []\n",
    "for m in meal:\n",
    "    t = re.findall('[가-힣]+',m)\n",
    "    if t:\n",
    "        start = re.findall('.+밥', t[0])\n",
    "        if start:\n",
    "            temp.append(t)\n",
    "for t in temp:\n",
    "\n",
    "    print(t)"
   ]
  },
  {
   "cell_type": "code",
   "execution_count": 10,
   "metadata": {},
   "outputs": [
    {
     "data": {
      "text/plain": [
       "([['아기 곰을 개로 착각한 여가수의 최후'],\n",
       "  ['‘모험왕’ 반달가슴곰 KM-53이 인간에게 던진 숙제'],\n",
       "  ['韓 OTT 시작은 &#39;곰TV&#39;였는데 &#39;갓튜브 천하&#39;…업계 &quot;역차별&quot; 호소'],\n",
       "  ['미국, 차량털이 곰들 조심해야'],\n",
       "  ['&quot;옆집서 이상한 소리&quot;…말레이 아파트서 &#39;불법 애완 곰&#39; 적발'],\n",
       "  ['DMZ 왜 보존해야 하나?…&quot;생태적 평화도 중요&quot;'],\n",
       "  ['대만 마스코트인 ‘판다 대항마’ 반달가슴곰 멸종 위기'],\n",
       "  ['구미까지 온 김천 반달가슴곰 이번에는 어디로 가려는 걸까…'],\n",
       "  ['“덕유산-민주지산-수도산-가야산 반달곰 복원 대상지로 지정해야”'],\n",
       "  ['[이슈톡] 말레이 아파트서 &#39;불법 애완 곰&#39; 적발']],\n",
       " [['http://www.upinews.kr/news/newsview.php?ncode=1065613727022030'],\n",
       "  ['http://news.khan.co.kr/kh_news/khan_art_view.html?artid=201906101546001&code=940100'],\n",
       "  ['http://news1.kr/articles/?3641937'],\n",
       "  ['http://news.kbs.co.kr/news/view.do?ncd=4219137&ref=A'],\n",
       "  ['https://news.sbs.co.kr/news/endPage.do?news_id=N1005301453&plink=ORI&cooper=NAVER'],\n",
       "  ['http://www.cpbc.co.kr/CMS/news/view_body.php?cid=754991&path=201906'],\n",
       "  ['http://news.chosun.com/site/data/html_dir/2019/06/10/2019061002195.html?utm_source=naver&utm_medium=original&utm_campaign=news'],\n",
       "  ['http://www.yeongnam.com/mnews/newsview.do?mode=newsView&amp;newskey=20190611.010100738180001'],\n",
       "  ['http://www.knnews.co.kr/news/articleView.php?idxno=1290380'],\n",
       "  ['http://imnews.imbc.com/replay/2019/nwtoday/article/5352936_24616.html']])"
      ]
     },
     "execution_count": 10,
     "metadata": {},
     "output_type": "execute_result"
    }
   ],
   "source": [
    "import requests\n",
    "import webbrowser\n",
    "\n",
    "search_url = \"https://search.naver.com/search.naver\"\n",
    "query = '곰'\n",
    "\n",
    "param = {'where':'news', 'query':query}\n",
    "\n",
    "request = requests.get(search_url,param)\n",
    "\n",
    "bear_text = request.text\n",
    "\n",
    "\n",
    "#print(request.text)\n",
    "# 개행문자 포함이 안되서 re.DOTALL 하면 .이 포함된다?\n",
    "bear_a = re.findall('<dl> <dt><a(.+?)</a></dt', bear_text, re.DOTALL)\n",
    "\n",
    "bear = []\n",
    "bear_t = []\n",
    "for a in bear_a:\n",
    "    bear_link = re.findall('href=\"(.+?)\"', a)\n",
    "    bear_title = re.findall('title=\"(.+?)\">', a)\n",
    "    \n",
    "    bear.append(bear_link)\n",
    "    bear_t.append(bear_title)\n",
    "\n",
    "\n",
    "bear_t, bear\n",
    "\n",
    "\n",
    "# '<a>(.+?)</a>'  -> .+?를 괄호로 감싸주면 (.+?) 양옆에 있는 문자 사이의 데이터만 가져온다.\n",
    "# 실패작ㅠㅠ"
   ]
  },
  {
   "cell_type": "markdown",
   "metadata": {},
   "source": [
    "#### bs4와 re(정규표현식)"
   ]
  },
  {
   "cell_type": "markdown",
   "metadata": {},
   "source": [
    "beautifulsoup을 기본으로 하면서,   \n",
    "찾을 태그나 속성을 정규표현식으로 표현하여 사용할 수 있다.  \n",
    "- re.compile('정규표현식') : 패턴 지정\n",
    "- re.findall(re.compile('정규표현식'), 찾을 위치(doc))\n",
    "-> "
   ]
  },
  {
   "cell_type": "code",
   "execution_count": 11,
   "metadata": {},
   "outputs": [
    {
     "name": "stdout",
     "output_type": "stream",
     "text": [
      "['123123']\n",
      "['123123']\n",
      "['123123']\n"
     ]
    }
   ],
   "source": [
    "doc = 'abcabc123123'\n",
    "\n",
    "pattern = re.compile('[0-9]+')\n",
    "data = re.findall(pattern, doc)\n",
    "print(data)\n",
    "\n",
    "#compile 사용할거라면 좀 더 줄일 수 있다\n",
    "\n",
    "doc = 'abcabc123123'\n",
    "\n",
    "pattern = re.compile('[0-9]+')\n",
    "data_2 = pattern.findall(doc)\n",
    "print(data_2)\n",
    "\n",
    "data_3 = re.findall('[0-9]+',doc)    #compile로 지정하는 작업 생략\n",
    "print(data_3)"
   ]
  },
  {
   "cell_type": "code",
   "execution_count": 12,
   "metadata": {},
   "outputs": [
    {
     "name": "stdout",
     "output_type": "stream",
     "text": [
      "http://www.upinews.kr/news/newsview.php?ncode=1065613727022030\n",
      "http://news.khan.co.kr/kh_news/khan_art_view.html?artid=201906101546001&code=940100\n",
      "http://news1.kr/articles/?3641937\n",
      "http://news.kbs.co.kr/news/view.do?ncd=4219137&ref=A\n",
      "https://news.sbs.co.kr/news/endPage.do?news_id=N1005301453&plink=ORI&cooper=NAVER\n",
      "http://www.cpbc.co.kr/CMS/news/view_body.php?cid=754991&path=201906\n",
      "http://news.chosun.com/site/data/html_dir/2019/06/10/2019061002195.html?utm_source=naver&utm_medium=original&utm_campaign=news\n",
      "http://www.yeongnam.com/mnews/newsview.do?mode=newsView&newskey=20190611.010100738180001\n",
      "http://www.knnews.co.kr/news/articleView.php?idxno=1290380\n",
      "http://imnews.imbc.com/replay/2019/nwtoday/article/5352936_24616.html\n"
     ]
    }
   ],
   "source": [
    "search_url = \"https://search.naver.com/search.naver\"\n",
    "query = '곰'\n",
    "\n",
    "param = {'where':'news', 'query':query}\n",
    "\n",
    "request = requests.get(search_url,param)\n",
    "\n",
    "bear_content = request.content\n",
    "\n",
    "parsing = BeautifulSoup(bear_content, 'lxml')\n",
    "\n",
    "bear_ul = parsing.find('ul', class_='type01')\n",
    "bear_li=[]\n",
    "for con in bear_ul.contents:\n",
    "    if not str(con).strip():\n",
    "        continue\n",
    "    bear_li.append(con)\n",
    "\n",
    "for li in bear_li:\n",
    "    a_tag = li.find('dl').find('dt').find('a')\n",
    "    \n",
    "    print(a_tag['href'])"
   ]
  },
  {
   "cell_type": "raw",
   "metadata": {},
   "source": [
    "# class의 속성을 정규표현식으로 표현할 수 있다.\n",
    "bear_ul = parsing.find('ul', class_ = re.compile('t.+?'))"
   ]
  },
  {
   "cell_type": "markdown",
   "metadata": {},
   "source": [
    "## selenium\n",
    "\n",
    "-> request는 클라이언트와 서버가 소통할 수 있게 해주는 패키지  \n",
    "-> web testing 패키지  \n",
    "-> 셀레늄 이용하면 웹브라우저에 접근해서 웹을 테스트하는데 사용  \n",
    "-> 웹브라우저에 직접 접근할 수 있다는 점에서 크롤링하는데에도 유용하게 사용한다.\n",
    "-> 뷰트풀숲으로는 정적인 html만 가져올 수 있다.  \n",
    "-> 웹페이지에서 동적인 부분은 뷰티풀 숲으로 가져올 수 없다.  \n",
    "ex) 뷰티풀숲은 로그인 페이지를 그냥 긁어오는데 셀레늄은 웹브라우저에 아예 접근해서 버튼 클릭, 로그인 등이 다 가능하다  \n",
    "- bs4와 비교  \n",
    "-> bs4: 정적으로 현재 웹페이지 상태를 가져온다.  \n",
    "-> selenium : 동적으로 웹브라우저에 접근해서 페이지를 다룰 수 있다."
   ]
  },
  {
   "cell_type": "markdown",
   "metadata": {},
   "source": [
    "- 돔(DOM) : Document Object Model 인데 그냥 HTML이라고 생각하면 된다.  \n",
    "셀레늄은 돔(= HTML 웹페이지)에 접근하기 위해 사용한다. "
   ]
  },
  {
   "cell_type": "markdown",
   "metadata": {},
   "source": [
    "#### Selenium 기본 메서드\n",
    "-> 돔에 접근할 때 쓰는 기본 메서드  \n",
    "-> 웹브라우저에 직접 접근하기 위해서 웹드라이버가 설치되어있어야 한다.  \n",
    "크롬 사용할거 -> 크롬 드라이버 설치하자\n",
    "\n",
    "터미널 -> 도스 상에서 뭘(????) 사용"
   ]
  },
  {
   "cell_type": "markdown",
   "metadata": {},
   "source": [
    "사이트는 3가지로 이루어짐\n",
    "html로 구조 잡고\n",
    "css로 꾸미고\n",
    "자바스크립트로 기능 부여"
   ]
  },
  {
   "cell_type": "markdown",
   "metadata": {},
   "source": [
    "셀레늄이 뷰티풀 숲을 다 효용할 수 있는거같은데 오ㅐ 뷰티풀숲 배움?  \n",
    "-> 셀레늄은 웹브라우저에 접근하는 방법이다 보니 뷰티풀숲보다 느리다."
   ]
  },
  {
   "cell_type": "code",
   "execution_count": 1,
   "metadata": {},
   "outputs": [],
   "source": [
    "import selenium"
   ]
  },
  {
   "cell_type": "code",
   "execution_count": 83,
   "metadata": {},
   "outputs": [],
   "source": [
    "from selenium import webdriver"
   ]
  },
  {
   "cell_type": "code",
   "execution_count": 3,
   "metadata": {},
   "outputs": [
    {
     "data": {
      "text/plain": [
       "<selenium.webdriver.chrome.webdriver.WebDriver (session=\"574ca1e54265c52d6f59d7e55e20e8d8\")>"
      ]
     },
     "execution_count": 3,
     "metadata": {},
     "output_type": "execute_result"
    }
   ],
   "source": [
    "webdriver.Chrome('Webdriver/chromedriver.exe')   #상대경로"
   ]
  },
  {
   "cell_type": "code",
   "execution_count": 4,
   "metadata": {},
   "outputs": [],
   "source": [
    "# 바로 쓸게 아니라서 driver라는 객체에 넣어주자\n",
    "driver_path = 'Webdriver/chromedriver.exe'\n",
    "driver = webdriver.Chrome(driver_path)"
   ]
  },
  {
   "cell_type": "code",
   "execution_count": 5,
   "metadata": {},
   "outputs": [],
   "source": [
    "driver.get('http://www.naver.com')"
   ]
  },
  {
   "cell_type": "markdown",
   "metadata": {},
   "source": [
    "- bs4의 find와 같이 객체 1개를 반환한다."
   ]
  },
  {
   "cell_type": "raw",
   "metadata": {},
   "source": [
    "find_element_by_id     -> 태그에 id라는 속성으로 접근하겠다  -> 해당 id가 ''인 객체 1개를 반환\n",
    "find_element_by_tag_name\n",
    "find_element_xpath     -> 경로로 접근하겠다.\n",
    "find_element_by_class_name    class만 쓰면 내장 함수와 충돌해서 class_name으로 기술\n",
    "find_element_by_css_selector    "
   ]
  },
  {
   "cell_type": "markdown",
   "metadata": {},
   "source": [
    "find_element_xpath\n",
    "\n",
    "1) 루트 태그와 루트가 아닌 태그    루트 태그는 해당 태그 중에서 가장 윗단에 있는 태그\n",
    "- 루트 태그 : /태그명    ex) /div   -> 루트 div\n",
    "- 루트가 아닌 태그 : //태그명  ex) //div  -> 모든 div\n",
    "\n",
    "2) //태그명[@속성명 = 속성값     ex) //div[@id = 'abc']\n",
    "\n",
    "3) (//태그명)[3] -> 3번째 '태그명' 태그 ex) (//a)[3]  -> 3번째a  \n",
    "- (//태그명)[last()] -> 마지막 태그\n",
    "\n",
    "4) 아스테리크 = *(전부를 뜻한다.)    -> 별모양!  \n",
    "ex) //div[@*] = 어떤 속성을 뭐라도 가지고 있는 div  \n",
    "ex) //table/tr/* = 모든 tr"
   ]
  },
  {
   "cell_type": "markdown",
   "metadata": {},
   "source": [
    "- CSS 표기법  \n",
    "class -> .  \n",
    "id -> #idName  \n",
    "tagname -> tagName"
   ]
  },
  {
   "cell_type": "markdown",
   "metadata": {},
   "source": [
    "- bs4의 findall과 같이 리스트를 반환"
   ]
  },
  {
   "cell_type": "raw",
   "metadata": {},
   "source": [
    "finds_elements_by_tag_name\n",
    "finds_elements_xpath\n",
    "finds_elements_by_class_name\n",
    "finds_elements_by_css_selector"
   ]
  },
  {
   "cell_type": "code",
   "execution_count": 6,
   "metadata": {},
   "outputs": [],
   "source": [
    "driver.get('https://search.naver.com/search.naver?where=news&sm=tab_jum&query=방탕소년단')"
   ]
  },
  {
   "cell_type": "code",
   "execution_count": 7,
   "metadata": {
    "scrolled": true
   },
   "outputs": [
    {
     "data": {
      "text/plain": [
       "selenium.webdriver.remote.webelement.WebElement"
      ]
     },
     "execution_count": 7,
     "metadata": {},
     "output_type": "execute_result"
    }
   ],
   "source": [
    "select_id = driver.find_element_by_id('sp_nws1')   #id로 태그 찾는다,  이렇게 가져온 데이터의 타입은 세레늄의 webelement 라는 타입\n",
    "\n",
    "type(select_id)"
   ]
  },
  {
   "cell_type": "code",
   "execution_count": 8,
   "metadata": {},
   "outputs": [
    {
     "data": {
      "text/plain": [
       "<selenium.webdriver.remote.webelement.WebElement (session=\"837098ad3970ece255759ccf12b5dfa8\", element=\"aeb4572f-b81d-44da-a879-30fa0e42ef13\")>"
      ]
     },
     "execution_count": 8,
     "metadata": {},
     "output_type": "execute_result"
    }
   ],
   "source": [
    "select_id"
   ]
  },
  {
   "cell_type": "code",
   "execution_count": 9,
   "metadata": {},
   "outputs": [
    {
     "data": {
      "text/plain": [
       "'방탄소년단, 유럽 스타디움 투어 피날레…23만 관객 동원 연합뉴스언론사 선정 1일 전 네이버뉴스 보내기\\n해외 언론, 비틀스에 빗대며 \"팝의 국경 없는 미래 구현\" 그룹 방탄소년단이 23만 관객을 동원하며 스타디움 투어 \\'러브 유어셀프 : 스피크 유어셀프\\'(LOVE YOURSELF: SPEAK YOURSELF) 유럽 공연을 마쳤다. 10일 소속사...\\n유럽 투어 마친 방탄소년단, 해바라기 탈 쓰고 공항 등장한 이유는? 한국경제TV 15시간 전 네이버뉴스\\n\\'방탄소년단\\' 금의환향, 미주·유럽 스타디움 투어 대박 뉴시스 17시간 전 네이버뉴스\\n\\'해바라기 변신\\' 방탄소년단, 유럽투어 마치고 귀국(종합) 연합뉴스 17시간 전 네이버뉴스\\n방탄소년단, 유럽 투어 피날레…\"아미 열정 놀라워\" 디스패치 1일 전 네이버뉴스\\n관련뉴스 13건 전체보기'"
      ]
     },
     "execution_count": 9,
     "metadata": {},
     "output_type": "execute_result"
    }
   ],
   "source": [
    "select_id.text"
   ]
  },
  {
   "cell_type": "code",
   "execution_count": 10,
   "metadata": {},
   "outputs": [
    {
     "data": {
      "text/plain": [
       "'li'"
      ]
     },
     "execution_count": 10,
     "metadata": {},
     "output_type": "execute_result"
    }
   ],
   "source": [
    "select_id.tag_name"
   ]
  },
  {
   "cell_type": "markdown",
   "metadata": {},
   "source": [
    "Q. 위의 값을 css_selector 메서드로 찾아보셈"
   ]
  },
  {
   "cell_type": "code",
   "execution_count": 11,
   "metadata": {},
   "outputs": [],
   "source": [
    "select_css = driver.find_element_by_css_selector('#sp_nws1')"
   ]
  },
  {
   "cell_type": "code",
   "execution_count": 12,
   "metadata": {},
   "outputs": [
    {
     "data": {
      "text/plain": [
       "'방탄소년단, 유럽 스타디움 투어 피날레…23만 관객 동원 연합뉴스언론사 선정 1일 전 네이버뉴스 보내기\\n해외 언론, 비틀스에 빗대며 \"팝의 국경 없는 미래 구현\" 그룹 방탄소년단이 23만 관객을 동원하며 스타디움 투어 \\'러브 유어셀프 : 스피크 유어셀프\\'(LOVE YOURSELF: SPEAK YOURSELF) 유럽 공연을 마쳤다. 10일 소속사...\\n유럽 투어 마친 방탄소년단, 해바라기 탈 쓰고 공항 등장한 이유는? 한국경제TV 15시간 전 네이버뉴스\\n\\'방탄소년단\\' 금의환향, 미주·유럽 스타디움 투어 대박 뉴시스 17시간 전 네이버뉴스\\n\\'해바라기 변신\\' 방탄소년단, 유럽투어 마치고 귀국(종합) 연합뉴스 17시간 전 네이버뉴스\\n방탄소년단, 유럽 투어 피날레…\"아미 열정 놀라워\" 디스패치 1일 전 네이버뉴스\\n관련뉴스 13건 전체보기'"
      ]
     },
     "execution_count": 12,
     "metadata": {},
     "output_type": "execute_result"
    }
   ],
   "source": [
    "select_css.text"
   ]
  },
  {
   "cell_type": "code",
   "execution_count": 13,
   "metadata": {},
   "outputs": [
    {
     "data": {
      "text/plain": [
       "''"
      ]
     },
     "execution_count": 13,
     "metadata": {},
     "output_type": "execute_result"
    }
   ],
   "source": [
    "select_tn = driver.find_element_by_tag_name('li')   #첫번째 만난 li를 찾음\n",
    "select_tn.text                                     # 그래서 안나올수도"
   ]
  },
  {
   "cell_type": "code",
   "execution_count": 14,
   "metadata": {},
   "outputs": [
    {
     "data": {
      "text/plain": [
       "[<selenium.webdriver.remote.webelement.WebElement (session=\"837098ad3970ece255759ccf12b5dfa8\", element=\"9a938af8-e2ca-4a98-bcdb-40fe5a5ca86d\")>,\n",
       " <selenium.webdriver.remote.webelement.WebElement (session=\"837098ad3970ece255759ccf12b5dfa8\", element=\"baeffc60-3746-402e-ae0d-df576158ae74\")>,\n",
       " <selenium.webdriver.remote.webelement.WebElement (session=\"837098ad3970ece255759ccf12b5dfa8\", element=\"6627a324-adb5-4624-8945-f7a2a9440f85\")>,\n",
       " <selenium.webdriver.remote.webelement.WebElement (session=\"837098ad3970ece255759ccf12b5dfa8\", element=\"435a9707-6d71-4671-8809-139991c7e61f\")>,\n",
       " <selenium.webdriver.remote.webelement.WebElement (session=\"837098ad3970ece255759ccf12b5dfa8\", element=\"85962d21-a143-4378-b4c5-5d1039aebb4f\")>,\n",
       " <selenium.webdriver.remote.webelement.WebElement (session=\"837098ad3970ece255759ccf12b5dfa8\", element=\"0ed6148a-ac61-45a0-bc8e-8a64d7534a06\")>,\n",
       " <selenium.webdriver.remote.webelement.WebElement (session=\"837098ad3970ece255759ccf12b5dfa8\", element=\"423cc0a3-89f5-4aa9-8f6f-a4d517c0786b\")>,\n",
       " <selenium.webdriver.remote.webelement.WebElement (session=\"837098ad3970ece255759ccf12b5dfa8\", element=\"8cbf5acd-b1f4-4242-972c-874c8a5f6685\")>,\n",
       " <selenium.webdriver.remote.webelement.WebElement (session=\"837098ad3970ece255759ccf12b5dfa8\", element=\"51a93a28-974f-49de-ab3b-908da4617fe0\")>,\n",
       " <selenium.webdriver.remote.webelement.WebElement (session=\"837098ad3970ece255759ccf12b5dfa8\", element=\"eab245aa-aa5c-4fc3-bcb7-b48328134541\")>,\n",
       " <selenium.webdriver.remote.webelement.WebElement (session=\"837098ad3970ece255759ccf12b5dfa8\", element=\"295bd7b6-219a-4f91-bc3a-7f76da2d773a\")>,\n",
       " <selenium.webdriver.remote.webelement.WebElement (session=\"837098ad3970ece255759ccf12b5dfa8\", element=\"147fbade-5f56-41b7-9e7d-395c72ffdc45\")>,\n",
       " <selenium.webdriver.remote.webelement.WebElement (session=\"837098ad3970ece255759ccf12b5dfa8\", element=\"91a080d4-3363-4ac7-bcd4-877cf264c27c\")>,\n",
       " <selenium.webdriver.remote.webelement.WebElement (session=\"837098ad3970ece255759ccf12b5dfa8\", element=\"02bb9791-b21a-42da-9968-1291951493d3\")>,\n",
       " <selenium.webdriver.remote.webelement.WebElement (session=\"837098ad3970ece255759ccf12b5dfa8\", element=\"3da164ca-b4e0-4b63-991e-5322c15a0c4d\")>,\n",
       " <selenium.webdriver.remote.webelement.WebElement (session=\"837098ad3970ece255759ccf12b5dfa8\", element=\"a21312ee-ea3f-4eee-9550-cf67da1b5a29\")>,\n",
       " <selenium.webdriver.remote.webelement.WebElement (session=\"837098ad3970ece255759ccf12b5dfa8\", element=\"0a7333d4-b3bc-495f-adfa-867f01084266\")>,\n",
       " <selenium.webdriver.remote.webelement.WebElement (session=\"837098ad3970ece255759ccf12b5dfa8\", element=\"3a3502fa-1d16-4ba2-b4e4-09b5d1cc8954\")>,\n",
       " <selenium.webdriver.remote.webelement.WebElement (session=\"837098ad3970ece255759ccf12b5dfa8\", element=\"6916cb8d-de8d-4687-8cde-e2dd008dcf6e\")>,\n",
       " <selenium.webdriver.remote.webelement.WebElement (session=\"837098ad3970ece255759ccf12b5dfa8\", element=\"4bd336af-d4b2-4a48-afde-703727d3fa92\")>,\n",
       " <selenium.webdriver.remote.webelement.WebElement (session=\"837098ad3970ece255759ccf12b5dfa8\", element=\"acf3e5c9-b552-4778-aa34-6be6b5247541\")>,\n",
       " <selenium.webdriver.remote.webelement.WebElement (session=\"837098ad3970ece255759ccf12b5dfa8\", element=\"13d22e04-2340-4da2-82f2-0145b4ca5837\")>,\n",
       " <selenium.webdriver.remote.webelement.WebElement (session=\"837098ad3970ece255759ccf12b5dfa8\", element=\"12410ad4-89c5-409d-843c-ec883f162582\")>,\n",
       " <selenium.webdriver.remote.webelement.WebElement (session=\"837098ad3970ece255759ccf12b5dfa8\", element=\"4b6eb940-9d48-476d-8398-9c3e57894c2b\")>,\n",
       " <selenium.webdriver.remote.webelement.WebElement (session=\"837098ad3970ece255759ccf12b5dfa8\", element=\"690c2364-4237-455b-8cee-ec595d82ca53\")>,\n",
       " <selenium.webdriver.remote.webelement.WebElement (session=\"837098ad3970ece255759ccf12b5dfa8\", element=\"cfc32ee5-2e79-4f50-8a57-fb2f7393d5d9\")>,\n",
       " <selenium.webdriver.remote.webelement.WebElement (session=\"837098ad3970ece255759ccf12b5dfa8\", element=\"3084d141-b807-469a-b8ae-c78965f249ff\")>,\n",
       " <selenium.webdriver.remote.webelement.WebElement (session=\"837098ad3970ece255759ccf12b5dfa8\", element=\"7e9a4119-53de-4170-9271-7439db035ee9\")>,\n",
       " <selenium.webdriver.remote.webelement.WebElement (session=\"837098ad3970ece255759ccf12b5dfa8\", element=\"18127fb2-dfc2-4270-a797-2f6febbda4c8\")>,\n",
       " <selenium.webdriver.remote.webelement.WebElement (session=\"837098ad3970ece255759ccf12b5dfa8\", element=\"564d158b-2a1f-4f9b-840e-48485783e676\")>,\n",
       " <selenium.webdriver.remote.webelement.WebElement (session=\"837098ad3970ece255759ccf12b5dfa8\", element=\"39f2f0f8-bc38-455d-a6b1-ee4655df9950\")>,\n",
       " <selenium.webdriver.remote.webelement.WebElement (session=\"837098ad3970ece255759ccf12b5dfa8\", element=\"d1fdae36-c888-40f7-bdde-e00f38aa2c55\")>,\n",
       " <selenium.webdriver.remote.webelement.WebElement (session=\"837098ad3970ece255759ccf12b5dfa8\", element=\"6e8f445f-0b2a-4235-89b2-83d8ae6b8c31\")>,\n",
       " <selenium.webdriver.remote.webelement.WebElement (session=\"837098ad3970ece255759ccf12b5dfa8\", element=\"6cd69376-eb92-4551-9481-849461086282\")>,\n",
       " <selenium.webdriver.remote.webelement.WebElement (session=\"837098ad3970ece255759ccf12b5dfa8\", element=\"d21cb4d8-2dc0-4f80-a201-b4c58c8a44d6\")>,\n",
       " <selenium.webdriver.remote.webelement.WebElement (session=\"837098ad3970ece255759ccf12b5dfa8\", element=\"73c22a16-f0b3-4a20-a7af-cf5cdd99a496\")>,\n",
       " <selenium.webdriver.remote.webelement.WebElement (session=\"837098ad3970ece255759ccf12b5dfa8\", element=\"6effb4d2-ad20-43ca-93c9-a56ea89dc623\")>,\n",
       " <selenium.webdriver.remote.webelement.WebElement (session=\"837098ad3970ece255759ccf12b5dfa8\", element=\"da9dc868-8fc7-42a9-a72c-8126af2570f5\")>,\n",
       " <selenium.webdriver.remote.webelement.WebElement (session=\"837098ad3970ece255759ccf12b5dfa8\", element=\"a2bb28c7-aaeb-4090-bf0d-6cbf383cb362\")>,\n",
       " <selenium.webdriver.remote.webelement.WebElement (session=\"837098ad3970ece255759ccf12b5dfa8\", element=\"76b9ef36-846e-4e19-944e-dceeb957abca\")>,\n",
       " <selenium.webdriver.remote.webelement.WebElement (session=\"837098ad3970ece255759ccf12b5dfa8\", element=\"59de0ba6-d2ab-4ce0-9264-338cc50daab7\")>,\n",
       " <selenium.webdriver.remote.webelement.WebElement (session=\"837098ad3970ece255759ccf12b5dfa8\", element=\"8f5051e3-78ea-468e-b47d-a918df3974aa\")>,\n",
       " <selenium.webdriver.remote.webelement.WebElement (session=\"837098ad3970ece255759ccf12b5dfa8\", element=\"20ae859c-1431-44d8-9a0e-0638ced44c6c\")>,\n",
       " <selenium.webdriver.remote.webelement.WebElement (session=\"837098ad3970ece255759ccf12b5dfa8\", element=\"58bd2589-e4d0-4ff0-aa10-15f2892270e4\")>,\n",
       " <selenium.webdriver.remote.webelement.WebElement (session=\"837098ad3970ece255759ccf12b5dfa8\", element=\"09ed0987-752a-485b-b65a-93e3e9862624\")>,\n",
       " <selenium.webdriver.remote.webelement.WebElement (session=\"837098ad3970ece255759ccf12b5dfa8\", element=\"3c22d020-14a0-4ca9-8a69-15e980112621\")>,\n",
       " <selenium.webdriver.remote.webelement.WebElement (session=\"837098ad3970ece255759ccf12b5dfa8\", element=\"f67d62b8-ab96-4592-9d7d-323c82e99b46\")>,\n",
       " <selenium.webdriver.remote.webelement.WebElement (session=\"837098ad3970ece255759ccf12b5dfa8\", element=\"ecba82a8-567b-4594-a065-31007ae6326e\")>,\n",
       " <selenium.webdriver.remote.webelement.WebElement (session=\"837098ad3970ece255759ccf12b5dfa8\", element=\"b36cadc9-d174-42a3-aea6-a1881f1fad6f\")>,\n",
       " <selenium.webdriver.remote.webelement.WebElement (session=\"837098ad3970ece255759ccf12b5dfa8\", element=\"55e2e724-cb7f-4391-b01f-160d61f3a6c7\")>,\n",
       " <selenium.webdriver.remote.webelement.WebElement (session=\"837098ad3970ece255759ccf12b5dfa8\", element=\"80ac54dc-aee7-47c7-8bb2-5c0e5b17d47a\")>,\n",
       " <selenium.webdriver.remote.webelement.WebElement (session=\"837098ad3970ece255759ccf12b5dfa8\", element=\"38186bde-8525-4d8a-9acf-3497e1fbb819\")>,\n",
       " <selenium.webdriver.remote.webelement.WebElement (session=\"837098ad3970ece255759ccf12b5dfa8\", element=\"1bb756eb-46bb-475e-bbd0-7a6dccaeb81f\")>,\n",
       " <selenium.webdriver.remote.webelement.WebElement (session=\"837098ad3970ece255759ccf12b5dfa8\", element=\"d9e2ae18-2a43-4c61-b5e3-9b09d16e2578\")>,\n",
       " <selenium.webdriver.remote.webelement.WebElement (session=\"837098ad3970ece255759ccf12b5dfa8\", element=\"2c802108-9c22-46dc-977d-667dd175b592\")>,\n",
       " <selenium.webdriver.remote.webelement.WebElement (session=\"837098ad3970ece255759ccf12b5dfa8\", element=\"22c21c4c-14e8-40fb-8f71-a6f77d22bcc0\")>,\n",
       " <selenium.webdriver.remote.webelement.WebElement (session=\"837098ad3970ece255759ccf12b5dfa8\", element=\"a5a79081-db43-4ae1-bd38-55d64942f1cc\")>,\n",
       " <selenium.webdriver.remote.webelement.WebElement (session=\"837098ad3970ece255759ccf12b5dfa8\", element=\"5c42304a-b0e7-40c2-9ac1-9c0cf96cdd85\")>,\n",
       " <selenium.webdriver.remote.webelement.WebElement (session=\"837098ad3970ece255759ccf12b5dfa8\", element=\"912c7873-3181-4991-a310-a2842b1ae3a9\")>,\n",
       " <selenium.webdriver.remote.webelement.WebElement (session=\"837098ad3970ece255759ccf12b5dfa8\", element=\"0aa65561-7da1-4503-b1c1-cd024d986aa3\")>,\n",
       " <selenium.webdriver.remote.webelement.WebElement (session=\"837098ad3970ece255759ccf12b5dfa8\", element=\"7f25c422-85d0-496b-8e31-a50c81d0c856\")>,\n",
       " <selenium.webdriver.remote.webelement.WebElement (session=\"837098ad3970ece255759ccf12b5dfa8\", element=\"307c545f-6920-4fd7-8a42-64585d220a98\")>,\n",
       " <selenium.webdriver.remote.webelement.WebElement (session=\"837098ad3970ece255759ccf12b5dfa8\", element=\"7a00e22e-d3f4-46f9-9505-66f5935d9a0f\")>,\n",
       " <selenium.webdriver.remote.webelement.WebElement (session=\"837098ad3970ece255759ccf12b5dfa8\", element=\"95b328c4-0cb3-44cf-b563-05eb3cb1b0d4\")>,\n",
       " <selenium.webdriver.remote.webelement.WebElement (session=\"837098ad3970ece255759ccf12b5dfa8\", element=\"fa046cdc-8121-4b2c-9c85-ba6d89b69919\")>,\n",
       " <selenium.webdriver.remote.webelement.WebElement (session=\"837098ad3970ece255759ccf12b5dfa8\", element=\"6eb60515-1dd7-48e1-86ea-23c418fb1995\")>,\n",
       " <selenium.webdriver.remote.webelement.WebElement (session=\"837098ad3970ece255759ccf12b5dfa8\", element=\"7c4d054a-9813-43f8-afd1-c415732fab66\")>,\n",
       " <selenium.webdriver.remote.webelement.WebElement (session=\"837098ad3970ece255759ccf12b5dfa8\", element=\"d7670e71-28e2-4fda-b2a4-e83193cec384\")>,\n",
       " <selenium.webdriver.remote.webelement.WebElement (session=\"837098ad3970ece255759ccf12b5dfa8\", element=\"184b660b-067e-48bc-b3b2-205e96f0168a\")>,\n",
       " <selenium.webdriver.remote.webelement.WebElement (session=\"837098ad3970ece255759ccf12b5dfa8\", element=\"7ce193d0-2797-42a3-be85-3511f68a011b\")>,\n",
       " <selenium.webdriver.remote.webelement.WebElement (session=\"837098ad3970ece255759ccf12b5dfa8\", element=\"6358a19e-a014-4acf-a55a-ea408553551e\")>,\n",
       " <selenium.webdriver.remote.webelement.WebElement (session=\"837098ad3970ece255759ccf12b5dfa8\", element=\"dbeec463-98ff-4108-9a9f-33e134e20aeb\")>,\n",
       " <selenium.webdriver.remote.webelement.WebElement (session=\"837098ad3970ece255759ccf12b5dfa8\", element=\"0ba96554-9766-4271-a27b-cc92386fe33c\")>,\n",
       " <selenium.webdriver.remote.webelement.WebElement (session=\"837098ad3970ece255759ccf12b5dfa8\", element=\"2bb0d99e-91c2-443f-b9c7-08b517819386\")>,\n",
       " <selenium.webdriver.remote.webelement.WebElement (session=\"837098ad3970ece255759ccf12b5dfa8\", element=\"a4facf28-99e6-4f88-98dd-373748ccb64d\")>,\n",
       " <selenium.webdriver.remote.webelement.WebElement (session=\"837098ad3970ece255759ccf12b5dfa8\", element=\"aab6a291-7955-4213-94d9-c78c74ef0090\")>,\n",
       " <selenium.webdriver.remote.webelement.WebElement (session=\"837098ad3970ece255759ccf12b5dfa8\", element=\"b949fa75-a9ff-4753-a590-431a9ab846a8\")>,\n",
       " <selenium.webdriver.remote.webelement.WebElement (session=\"837098ad3970ece255759ccf12b5dfa8\", element=\"0ce34234-0c46-4d54-95e8-728c6cdb1ae1\")>,\n",
       " <selenium.webdriver.remote.webelement.WebElement (session=\"837098ad3970ece255759ccf12b5dfa8\", element=\"defb10a4-9782-4ca4-bdc1-04ce22498fc6\")>,\n",
       " <selenium.webdriver.remote.webelement.WebElement (session=\"837098ad3970ece255759ccf12b5dfa8\", element=\"ec476ea3-68ee-48fd-ae68-f8f1a53a2b31\")>,\n",
       " <selenium.webdriver.remote.webelement.WebElement (session=\"837098ad3970ece255759ccf12b5dfa8\", element=\"5ab7a4c5-021f-40fa-97a7-0e244332aa05\")>,\n",
       " <selenium.webdriver.remote.webelement.WebElement (session=\"837098ad3970ece255759ccf12b5dfa8\", element=\"46cde4d1-a02a-44b9-84db-fcd728b085af\")>,\n",
       " <selenium.webdriver.remote.webelement.WebElement (session=\"837098ad3970ece255759ccf12b5dfa8\", element=\"67c92c99-f796-4d76-8471-762f6df2a01a\")>,\n",
       " <selenium.webdriver.remote.webelement.WebElement (session=\"837098ad3970ece255759ccf12b5dfa8\", element=\"435c4429-d2c1-49fc-aad7-ae7adf27935d\")>,\n",
       " <selenium.webdriver.remote.webelement.WebElement (session=\"837098ad3970ece255759ccf12b5dfa8\", element=\"27223fa4-3a1a-4403-8cf2-4db14ceaf22f\")>,\n",
       " <selenium.webdriver.remote.webelement.WebElement (session=\"837098ad3970ece255759ccf12b5dfa8\", element=\"b5c245a2-0c0d-4d40-9b73-0b3fb8e4b12d\")>,\n",
       " <selenium.webdriver.remote.webelement.WebElement (session=\"837098ad3970ece255759ccf12b5dfa8\", element=\"a7abd6da-6f90-47f8-bd7e-7d006a48f361\")>,\n",
       " <selenium.webdriver.remote.webelement.WebElement (session=\"837098ad3970ece255759ccf12b5dfa8\", element=\"042c3724-bcf7-4ad8-a5e1-d49efd0a07e4\")>,\n",
       " <selenium.webdriver.remote.webelement.WebElement (session=\"837098ad3970ece255759ccf12b5dfa8\", element=\"38db3010-1c00-48a1-a9dc-45131516963d\")>,\n",
       " <selenium.webdriver.remote.webelement.WebElement (session=\"837098ad3970ece255759ccf12b5dfa8\", element=\"ac370222-6d78-4a52-94f0-f238929909b6\")>,\n",
       " <selenium.webdriver.remote.webelement.WebElement (session=\"837098ad3970ece255759ccf12b5dfa8\", element=\"a97b8eaa-8899-46d9-8c8b-03fccee489bf\")>,\n",
       " <selenium.webdriver.remote.webelement.WebElement (session=\"837098ad3970ece255759ccf12b5dfa8\", element=\"096af7b0-2e45-4b5f-8506-6fa1b888fa7d\")>,\n",
       " <selenium.webdriver.remote.webelement.WebElement (session=\"837098ad3970ece255759ccf12b5dfa8\", element=\"1ce53565-ab5e-4da7-84db-ec207b53b5c3\")>,\n",
       " <selenium.webdriver.remote.webelement.WebElement (session=\"837098ad3970ece255759ccf12b5dfa8\", element=\"05a069f8-9172-45b0-af7c-7653d24e342a\")>,\n",
       " <selenium.webdriver.remote.webelement.WebElement (session=\"837098ad3970ece255759ccf12b5dfa8\", element=\"b6967df9-b96a-4203-863d-837501177d00\")>,\n",
       " <selenium.webdriver.remote.webelement.WebElement (session=\"837098ad3970ece255759ccf12b5dfa8\", element=\"7f2a8f3e-cc72-4cd6-b4f8-d9455051b760\")>,\n",
       " <selenium.webdriver.remote.webelement.WebElement (session=\"837098ad3970ece255759ccf12b5dfa8\", element=\"4639eddd-67fe-4e3e-8a0b-43fdd777f412\")>,\n",
       " <selenium.webdriver.remote.webelement.WebElement (session=\"837098ad3970ece255759ccf12b5dfa8\", element=\"963bea66-7234-4ce5-947e-f66b7120cd39\")>,\n",
       " <selenium.webdriver.remote.webelement.WebElement (session=\"837098ad3970ece255759ccf12b5dfa8\", element=\"936d84ed-6fd6-40ad-a412-0e65d4516b91\")>,\n",
       " <selenium.webdriver.remote.webelement.WebElement (session=\"837098ad3970ece255759ccf12b5dfa8\", element=\"4f3c82f2-f81e-435a-aab3-227b09fe9825\")>,\n",
       " <selenium.webdriver.remote.webelement.WebElement (session=\"837098ad3970ece255759ccf12b5dfa8\", element=\"b5078c61-4abe-477d-8d11-58c74182c466\")>,\n",
       " <selenium.webdriver.remote.webelement.WebElement (session=\"837098ad3970ece255759ccf12b5dfa8\", element=\"a99e2d58-93d0-499a-a36f-92a9350aece3\")>,\n",
       " <selenium.webdriver.remote.webelement.WebElement (session=\"837098ad3970ece255759ccf12b5dfa8\", element=\"41b17849-3430-4947-a67f-2d5fb7c21772\")>,\n",
       " <selenium.webdriver.remote.webelement.WebElement (session=\"837098ad3970ece255759ccf12b5dfa8\", element=\"29624eb0-6c23-461b-8fc4-e0ee42a973bb\")>,\n",
       " <selenium.webdriver.remote.webelement.WebElement (session=\"837098ad3970ece255759ccf12b5dfa8\", element=\"ad15810b-27c9-45b8-aabb-3285c933722c\")>,\n",
       " <selenium.webdriver.remote.webelement.WebElement (session=\"837098ad3970ece255759ccf12b5dfa8\", element=\"6ba61bdf-8a71-4755-b537-cf1793e5281c\")>,\n",
       " <selenium.webdriver.remote.webelement.WebElement (session=\"837098ad3970ece255759ccf12b5dfa8\", element=\"a49b03a2-2f7e-484f-92ab-f38668de3df4\")>,\n",
       " <selenium.webdriver.remote.webelement.WebElement (session=\"837098ad3970ece255759ccf12b5dfa8\", element=\"c2069e4d-0887-411d-8872-54a80e39a47a\")>,\n",
       " <selenium.webdriver.remote.webelement.WebElement (session=\"837098ad3970ece255759ccf12b5dfa8\", element=\"aa0e503c-5aaf-44f7-afe8-46b999a1e669\")>,\n",
       " <selenium.webdriver.remote.webelement.WebElement (session=\"837098ad3970ece255759ccf12b5dfa8\", element=\"b541bf85-9e85-4098-ab34-d4e5a139b056\")>,\n",
       " <selenium.webdriver.remote.webelement.WebElement (session=\"837098ad3970ece255759ccf12b5dfa8\", element=\"61300286-49a6-4942-b714-ee0cc5bfde49\")>,\n",
       " <selenium.webdriver.remote.webelement.WebElement (session=\"837098ad3970ece255759ccf12b5dfa8\", element=\"0f38b53a-4e03-469e-bc78-c9971e23ff2b\")>,\n",
       " <selenium.webdriver.remote.webelement.WebElement (session=\"837098ad3970ece255759ccf12b5dfa8\", element=\"81653de0-6238-4a34-8ddb-c5562b94e146\")>,\n",
       " <selenium.webdriver.remote.webelement.WebElement (session=\"837098ad3970ece255759ccf12b5dfa8\", element=\"25a5f218-dcc0-4deb-8a4c-ea1c915c29fb\")>,\n",
       " <selenium.webdriver.remote.webelement.WebElement (session=\"837098ad3970ece255759ccf12b5dfa8\", element=\"7b2f724d-4b97-45b3-a095-9623af08fbef\")>,\n",
       " <selenium.webdriver.remote.webelement.WebElement (session=\"837098ad3970ece255759ccf12b5dfa8\", element=\"dee09e22-7be7-4638-bc49-e08d2e3a153f\")>,\n",
       " <selenium.webdriver.remote.webelement.WebElement (session=\"837098ad3970ece255759ccf12b5dfa8\", element=\"55c47e10-c0b0-4a5f-86ca-fff33fdbe3be\")>,\n",
       " <selenium.webdriver.remote.webelement.WebElement (session=\"837098ad3970ece255759ccf12b5dfa8\", element=\"458161f1-bd95-410b-87b0-94bdc002be1f\")>,\n",
       " <selenium.webdriver.remote.webelement.WebElement (session=\"837098ad3970ece255759ccf12b5dfa8\", element=\"54e36ba3-e9a7-47ec-bd94-533e2cda75c2\")>,\n",
       " <selenium.webdriver.remote.webelement.WebElement (session=\"837098ad3970ece255759ccf12b5dfa8\", element=\"027b115c-dd92-4dbb-8b3e-3fa9bb2e4529\")>,\n",
       " <selenium.webdriver.remote.webelement.WebElement (session=\"837098ad3970ece255759ccf12b5dfa8\", element=\"a4245c94-6565-4b85-a606-2c6dcd3ae3be\")>,\n",
       " <selenium.webdriver.remote.webelement.WebElement (session=\"837098ad3970ece255759ccf12b5dfa8\", element=\"38056b21-6d96-4f23-a7a6-9ca4c586b0ca\")>,\n",
       " <selenium.webdriver.remote.webelement.WebElement (session=\"837098ad3970ece255759ccf12b5dfa8\", element=\"56bae07f-47c4-45aa-bfc6-eab7e7430715\")>,\n",
       " <selenium.webdriver.remote.webelement.WebElement (session=\"837098ad3970ece255759ccf12b5dfa8\", element=\"ef891fa0-58ca-4e8d-92bf-b9676f9302cf\")>,\n",
       " <selenium.webdriver.remote.webelement.WebElement (session=\"837098ad3970ece255759ccf12b5dfa8\", element=\"fef59e29-aa8e-4c09-9609-c7e9d97c6fbc\")>,\n",
       " <selenium.webdriver.remote.webelement.WebElement (session=\"837098ad3970ece255759ccf12b5dfa8\", element=\"63da18c1-1e0f-4bf3-966f-53c6ae2e62b0\")>,\n",
       " <selenium.webdriver.remote.webelement.WebElement (session=\"837098ad3970ece255759ccf12b5dfa8\", element=\"de331e7b-8247-4922-8a45-c8cbab5b763b\")>,\n",
       " <selenium.webdriver.remote.webelement.WebElement (session=\"837098ad3970ece255759ccf12b5dfa8\", element=\"499efba8-5b7d-437c-bc55-83cd9333548f\")>,\n",
       " <selenium.webdriver.remote.webelement.WebElement (session=\"837098ad3970ece255759ccf12b5dfa8\", element=\"4be4c48a-a778-448e-a27c-f7903d4ed19e\")>,\n",
       " <selenium.webdriver.remote.webelement.WebElement (session=\"837098ad3970ece255759ccf12b5dfa8\", element=\"ca46b49c-1b3b-4248-98ce-ac071569086b\")>,\n",
       " <selenium.webdriver.remote.webelement.WebElement (session=\"837098ad3970ece255759ccf12b5dfa8\", element=\"0e2ae65e-5a92-4c84-9477-64e94f26d6db\")>,\n",
       " <selenium.webdriver.remote.webelement.WebElement (session=\"837098ad3970ece255759ccf12b5dfa8\", element=\"667ff846-403b-444d-9a49-3e5d8b83164a\")>,\n",
       " <selenium.webdriver.remote.webelement.WebElement (session=\"837098ad3970ece255759ccf12b5dfa8\", element=\"7e1748a9-d172-41d4-b70f-2690342ee5f5\")>,\n",
       " <selenium.webdriver.remote.webelement.WebElement (session=\"837098ad3970ece255759ccf12b5dfa8\", element=\"bd5489fd-c9ef-4fc8-be07-c9cfcbe51ee6\")>,\n",
       " <selenium.webdriver.remote.webelement.WebElement (session=\"837098ad3970ece255759ccf12b5dfa8\", element=\"054f1172-0f8d-44be-a45b-b214a531f725\")>,\n",
       " <selenium.webdriver.remote.webelement.WebElement (session=\"837098ad3970ece255759ccf12b5dfa8\", element=\"17a5a095-d8e7-4c84-8977-05a998dbb8f8\")>,\n",
       " <selenium.webdriver.remote.webelement.WebElement (session=\"837098ad3970ece255759ccf12b5dfa8\", element=\"a69306e3-7f8d-40f0-b91f-8582c1e2ec71\")>,\n",
       " <selenium.webdriver.remote.webelement.WebElement (session=\"837098ad3970ece255759ccf12b5dfa8\", element=\"37b08137-4507-4c0b-9f4f-09355543d47e\")>,\n",
       " <selenium.webdriver.remote.webelement.WebElement (session=\"837098ad3970ece255759ccf12b5dfa8\", element=\"aa536173-a20d-4a2b-90ff-f4a661b14aa1\")>,\n",
       " <selenium.webdriver.remote.webelement.WebElement (session=\"837098ad3970ece255759ccf12b5dfa8\", element=\"b528ec61-676b-4eee-bb85-0f4ddf38606d\")>,\n",
       " <selenium.webdriver.remote.webelement.WebElement (session=\"837098ad3970ece255759ccf12b5dfa8\", element=\"58ad723e-0592-44eb-a576-33815480886e\")>,\n",
       " <selenium.webdriver.remote.webelement.WebElement (session=\"837098ad3970ece255759ccf12b5dfa8\", element=\"2ca1c85c-ff44-4ad3-ae3c-8abbb359938e\")>,\n",
       " <selenium.webdriver.remote.webelement.WebElement (session=\"837098ad3970ece255759ccf12b5dfa8\", element=\"7cce138a-4f2c-450d-8de2-4b69c8bdcea0\")>,\n",
       " <selenium.webdriver.remote.webelement.WebElement (session=\"837098ad3970ece255759ccf12b5dfa8\", element=\"772acec8-629c-446a-a86d-dc54bc93a11f\")>,\n",
       " <selenium.webdriver.remote.webelement.WebElement (session=\"837098ad3970ece255759ccf12b5dfa8\", element=\"90ce764c-fa12-45e8-8caa-e95c54907df1\")>,\n",
       " <selenium.webdriver.remote.webelement.WebElement (session=\"837098ad3970ece255759ccf12b5dfa8\", element=\"ecdd3620-c927-4065-8140-10920a4e6836\")>,\n",
       " <selenium.webdriver.remote.webelement.WebElement (session=\"837098ad3970ece255759ccf12b5dfa8\", element=\"e4115ea6-9adf-4351-8fb3-7cffd9bc0eb7\")>,\n",
       " <selenium.webdriver.remote.webelement.WebElement (session=\"837098ad3970ece255759ccf12b5dfa8\", element=\"7e6fc2f3-370d-4564-b8b0-0cbe4cf61629\")>,\n",
       " <selenium.webdriver.remote.webelement.WebElement (session=\"837098ad3970ece255759ccf12b5dfa8\", element=\"fc224754-0b8b-437d-9437-aa74bae39ff6\")>,\n",
       " <selenium.webdriver.remote.webelement.WebElement (session=\"837098ad3970ece255759ccf12b5dfa8\", element=\"9e1bbcc8-9208-41bf-b6b3-1e132036a2fb\")>,\n",
       " <selenium.webdriver.remote.webelement.WebElement (session=\"837098ad3970ece255759ccf12b5dfa8\", element=\"a6e3a051-952a-4dce-a624-5a77da329447\")>,\n",
       " <selenium.webdriver.remote.webelement.WebElement (session=\"837098ad3970ece255759ccf12b5dfa8\", element=\"d1ca4e1f-e92f-43bd-b41f-75aa379ea944\")>,\n",
       " <selenium.webdriver.remote.webelement.WebElement (session=\"837098ad3970ece255759ccf12b5dfa8\", element=\"b58df391-a77b-4642-a6a9-bfaeb92cbfed\")>,\n",
       " <selenium.webdriver.remote.webelement.WebElement (session=\"837098ad3970ece255759ccf12b5dfa8\", element=\"243caa56-fdd0-4ee9-b4be-fe62cbe6848b\")>,\n",
       " <selenium.webdriver.remote.webelement.WebElement (session=\"837098ad3970ece255759ccf12b5dfa8\", element=\"6b2f4b1b-d4e7-485f-ab0a-20796c1b2b3e\")>,\n",
       " <selenium.webdriver.remote.webelement.WebElement (session=\"837098ad3970ece255759ccf12b5dfa8\", element=\"11e6082c-d4eb-4ba4-bc14-bc37bc49f079\")>,\n",
       " <selenium.webdriver.remote.webelement.WebElement (session=\"837098ad3970ece255759ccf12b5dfa8\", element=\"b7744864-06eb-44b0-95f1-fe65a4f658d2\")>,\n",
       " <selenium.webdriver.remote.webelement.WebElement (session=\"837098ad3970ece255759ccf12b5dfa8\", element=\"9d3e84db-4827-4220-993c-b488695c57a5\")>,\n",
       " <selenium.webdriver.remote.webelement.WebElement (session=\"837098ad3970ece255759ccf12b5dfa8\", element=\"f2bd319c-a74b-4f76-b81b-2685e088135f\")>,\n",
       " <selenium.webdriver.remote.webelement.WebElement (session=\"837098ad3970ece255759ccf12b5dfa8\", element=\"a3147a3e-292b-4142-a400-086f0702e2b5\")>,\n",
       " <selenium.webdriver.remote.webelement.WebElement (session=\"837098ad3970ece255759ccf12b5dfa8\", element=\"3d44d140-9cf3-40c6-bd52-8b13fdf70c1b\")>,\n",
       " <selenium.webdriver.remote.webelement.WebElement (session=\"837098ad3970ece255759ccf12b5dfa8\", element=\"b1884676-ecef-488b-82bd-3b2306bae082\")>,\n",
       " <selenium.webdriver.remote.webelement.WebElement (session=\"837098ad3970ece255759ccf12b5dfa8\", element=\"25b45cbb-5328-4fbc-b070-ca2e4b03aaa2\")>,\n",
       " <selenium.webdriver.remote.webelement.WebElement (session=\"837098ad3970ece255759ccf12b5dfa8\", element=\"3639eef3-0c21-4462-b486-f46992700d71\")>,\n",
       " <selenium.webdriver.remote.webelement.WebElement (session=\"837098ad3970ece255759ccf12b5dfa8\", element=\"2525632f-9b63-4ea9-aabf-605cdb9681c6\")>,\n",
       " <selenium.webdriver.remote.webelement.WebElement (session=\"837098ad3970ece255759ccf12b5dfa8\", element=\"eaf46155-0a00-48a4-b789-d46222f7da94\")>,\n",
       " <selenium.webdriver.remote.webelement.WebElement (session=\"837098ad3970ece255759ccf12b5dfa8\", element=\"d70af1e2-c82d-457e-9114-4fbaef02c2d4\")>,\n",
       " <selenium.webdriver.remote.webelement.WebElement (session=\"837098ad3970ece255759ccf12b5dfa8\", element=\"cadb1e70-b78c-4841-848f-174e47e59ced\")>,\n",
       " <selenium.webdriver.remote.webelement.WebElement (session=\"837098ad3970ece255759ccf12b5dfa8\", element=\"eb7aaea2-2c60-444b-8202-cf49df883634\")>,\n",
       " <selenium.webdriver.remote.webelement.WebElement (session=\"837098ad3970ece255759ccf12b5dfa8\", element=\"6faa4f81-b924-4887-92de-97e9fd5de7d2\")>,\n",
       " <selenium.webdriver.remote.webelement.WebElement (session=\"837098ad3970ece255759ccf12b5dfa8\", element=\"e9a1dd8f-5b1e-410f-af78-c49460d5311d\")>,\n",
       " <selenium.webdriver.remote.webelement.WebElement (session=\"837098ad3970ece255759ccf12b5dfa8\", element=\"55070c5e-6222-4d48-b9d8-30f520fe5fe7\")>,\n",
       " <selenium.webdriver.remote.webelement.WebElement (session=\"837098ad3970ece255759ccf12b5dfa8\", element=\"37b3e9ee-1492-4088-bc9c-f8321d8bc9af\")>,\n",
       " <selenium.webdriver.remote.webelement.WebElement (session=\"837098ad3970ece255759ccf12b5dfa8\", element=\"3d8fcf29-c263-4702-a8f0-85c7faf69652\")>,\n",
       " <selenium.webdriver.remote.webelement.WebElement (session=\"837098ad3970ece255759ccf12b5dfa8\", element=\"68e37b11-2ad6-46e8-b9f7-22f5e9801754\")>,\n",
       " <selenium.webdriver.remote.webelement.WebElement (session=\"837098ad3970ece255759ccf12b5dfa8\", element=\"f064f1b8-dd8a-4b0d-87d8-acb3902f8095\")>,\n",
       " <selenium.webdriver.remote.webelement.WebElement (session=\"837098ad3970ece255759ccf12b5dfa8\", element=\"b2c37509-2568-41ff-a231-b1f428a5fd28\")>,\n",
       " <selenium.webdriver.remote.webelement.WebElement (session=\"837098ad3970ece255759ccf12b5dfa8\", element=\"305cf65b-217b-49f7-844f-d388a6210da5\")>,\n",
       " <selenium.webdriver.remote.webelement.WebElement (session=\"837098ad3970ece255759ccf12b5dfa8\", element=\"488f8ed8-b780-454d-970e-2541dfbd24e5\")>,\n",
       " <selenium.webdriver.remote.webelement.WebElement (session=\"837098ad3970ece255759ccf12b5dfa8\", element=\"008ac0eb-bc14-4743-bccd-66436f5a7807\")>,\n",
       " <selenium.webdriver.remote.webelement.WebElement (session=\"837098ad3970ece255759ccf12b5dfa8\", element=\"2c9473a6-b251-4ce4-92eb-97a802b61c84\")>,\n",
       " <selenium.webdriver.remote.webelement.WebElement (session=\"837098ad3970ece255759ccf12b5dfa8\", element=\"45ab0b62-c29e-4474-b04c-8fa07218b8d3\")>,\n",
       " <selenium.webdriver.remote.webelement.WebElement (session=\"837098ad3970ece255759ccf12b5dfa8\", element=\"cc1612b4-2428-4520-9a82-bc32d79d02dc\")>,\n",
       " <selenium.webdriver.remote.webelement.WebElement (session=\"837098ad3970ece255759ccf12b5dfa8\", element=\"e91dccd1-c3df-4c4d-bcc7-8bc777f8f999\")>,\n",
       " <selenium.webdriver.remote.webelement.WebElement (session=\"837098ad3970ece255759ccf12b5dfa8\", element=\"753a60ac-b6f1-4fcc-9d5a-7a7e2c12dead\")>,\n",
       " <selenium.webdriver.remote.webelement.WebElement (session=\"837098ad3970ece255759ccf12b5dfa8\", element=\"156c5cbc-2b4e-4208-933f-52ebb0fe5593\")>,\n",
       " <selenium.webdriver.remote.webelement.WebElement (session=\"837098ad3970ece255759ccf12b5dfa8\", element=\"6bbf61ba-4ed9-447a-995d-a3533afa2123\")>,\n",
       " <selenium.webdriver.remote.webelement.WebElement (session=\"837098ad3970ece255759ccf12b5dfa8\", element=\"e9f5b8d8-5bac-4444-9587-8b431190bd2c\")>,\n",
       " <selenium.webdriver.remote.webelement.WebElement (session=\"837098ad3970ece255759ccf12b5dfa8\", element=\"ba6c2a8c-1d39-4ff4-95dd-a187ebc59156\")>,\n",
       " <selenium.webdriver.remote.webelement.WebElement (session=\"837098ad3970ece255759ccf12b5dfa8\", element=\"0afd9848-b8af-4760-8765-69097cc73e86\")>,\n",
       " <selenium.webdriver.remote.webelement.WebElement (session=\"837098ad3970ece255759ccf12b5dfa8\", element=\"10547c7a-7049-4ebf-8ca4-3f5be60d597e\")>,\n",
       " <selenium.webdriver.remote.webelement.WebElement (session=\"837098ad3970ece255759ccf12b5dfa8\", element=\"7e046ab4-4ac0-48db-9318-9acd1bab429f\")>,\n",
       " <selenium.webdriver.remote.webelement.WebElement (session=\"837098ad3970ece255759ccf12b5dfa8\", element=\"b6f5d0f9-3b41-44e1-a5dd-25cb5493b301\")>,\n",
       " <selenium.webdriver.remote.webelement.WebElement (session=\"837098ad3970ece255759ccf12b5dfa8\", element=\"8fcb7f63-9075-4681-910b-01abfdee1216\")>,\n",
       " <selenium.webdriver.remote.webelement.WebElement (session=\"837098ad3970ece255759ccf12b5dfa8\", element=\"c7e5634d-2e20-4ccd-859b-61673dc4c935\")>,\n",
       " <selenium.webdriver.remote.webelement.WebElement (session=\"837098ad3970ece255759ccf12b5dfa8\", element=\"9f93aa95-2c30-449e-91c1-47df10f74556\")>,\n",
       " <selenium.webdriver.remote.webelement.WebElement (session=\"837098ad3970ece255759ccf12b5dfa8\", element=\"6ec8f0c8-5cfa-4520-9553-699406a770f1\")>,\n",
       " <selenium.webdriver.remote.webelement.WebElement (session=\"837098ad3970ece255759ccf12b5dfa8\", element=\"0a94ff5a-670c-4a0d-aed4-dd1da1f71c19\")>,\n",
       " <selenium.webdriver.remote.webelement.WebElement (session=\"837098ad3970ece255759ccf12b5dfa8\", element=\"cd828112-9a91-41e4-8c41-68238d39a041\")>,\n",
       " <selenium.webdriver.remote.webelement.WebElement (session=\"837098ad3970ece255759ccf12b5dfa8\", element=\"77e4874a-2c03-43c3-8d3c-e6c48996c13c\")>,\n",
       " <selenium.webdriver.remote.webelement.WebElement (session=\"837098ad3970ece255759ccf12b5dfa8\", element=\"22206ede-db61-4d93-b38c-ec4c8059b466\")>,\n",
       " <selenium.webdriver.remote.webelement.WebElement (session=\"837098ad3970ece255759ccf12b5dfa8\", element=\"8a8cddcf-beae-4e28-85f0-f06ceb740acc\")>,\n",
       " <selenium.webdriver.remote.webelement.WebElement (session=\"837098ad3970ece255759ccf12b5dfa8\", element=\"2f2b2d2f-4570-42d5-ba2e-76b93ef01cb9\")>,\n",
       " <selenium.webdriver.remote.webelement.WebElement (session=\"837098ad3970ece255759ccf12b5dfa8\", element=\"0bf1d1d8-6334-47ed-8232-b4c3dc01acd6\")>,\n",
       " <selenium.webdriver.remote.webelement.WebElement (session=\"837098ad3970ece255759ccf12b5dfa8\", element=\"e58c5c2c-f7ee-4699-a218-7718396c4dfa\")>,\n",
       " <selenium.webdriver.remote.webelement.WebElement (session=\"837098ad3970ece255759ccf12b5dfa8\", element=\"d882389b-c404-430d-bc04-f1e1839b5c49\")>,\n",
       " <selenium.webdriver.remote.webelement.WebElement (session=\"837098ad3970ece255759ccf12b5dfa8\", element=\"416e136e-614f-492e-b111-f9d78e3c2193\")>,\n",
       " <selenium.webdriver.remote.webelement.WebElement (session=\"837098ad3970ece255759ccf12b5dfa8\", element=\"a7f5214a-c73c-47f4-8c9d-79080f7a69c8\")>,\n",
       " <selenium.webdriver.remote.webelement.WebElement (session=\"837098ad3970ece255759ccf12b5dfa8\", element=\"911d1fc4-ce2f-4145-aabc-012fdeef57ac\")>,\n",
       " <selenium.webdriver.remote.webelement.WebElement (session=\"837098ad3970ece255759ccf12b5dfa8\", element=\"05240c1f-693a-4e8a-ac3b-56e20394c1cc\")>,\n",
       " <selenium.webdriver.remote.webelement.WebElement (session=\"837098ad3970ece255759ccf12b5dfa8\", element=\"8e45f9e6-2da8-4478-9d15-7ad43e5b972f\")>,\n",
       " <selenium.webdriver.remote.webelement.WebElement (session=\"837098ad3970ece255759ccf12b5dfa8\", element=\"f5fe8a6f-0da1-4aca-a5dc-c72b36a11437\")>,\n",
       " <selenium.webdriver.remote.webelement.WebElement (session=\"837098ad3970ece255759ccf12b5dfa8\", element=\"69abcc5c-c59b-44fb-9b8e-359999e92a21\")>,\n",
       " <selenium.webdriver.remote.webelement.WebElement (session=\"837098ad3970ece255759ccf12b5dfa8\", element=\"9ab8ef7f-393e-4ed5-9f33-8f2de0575eee\")>,\n",
       " <selenium.webdriver.remote.webelement.WebElement (session=\"837098ad3970ece255759ccf12b5dfa8\", element=\"571131c4-0310-4988-8e41-0ce449599079\")>,\n",
       " <selenium.webdriver.remote.webelement.WebElement (session=\"837098ad3970ece255759ccf12b5dfa8\", element=\"e8c125c2-7523-4ed3-8b37-04aef80ec072\")>,\n",
       " <selenium.webdriver.remote.webelement.WebElement (session=\"837098ad3970ece255759ccf12b5dfa8\", element=\"5d791ca3-fcf6-44ce-939e-d8770ff5fc43\")>,\n",
       " <selenium.webdriver.remote.webelement.WebElement (session=\"837098ad3970ece255759ccf12b5dfa8\", element=\"2476f7f7-55c5-45f9-b251-47ade432555e\")>,\n",
       " <selenium.webdriver.remote.webelement.WebElement (session=\"837098ad3970ece255759ccf12b5dfa8\", element=\"8a82cf12-5d49-4e89-97c9-b46c1d949761\")>,\n",
       " <selenium.webdriver.remote.webelement.WebElement (session=\"837098ad3970ece255759ccf12b5dfa8\", element=\"37d3cbf3-ba8d-4992-9e40-a41ec549b13b\")>,\n",
       " <selenium.webdriver.remote.webelement.WebElement (session=\"837098ad3970ece255759ccf12b5dfa8\", element=\"203fdbf4-06a5-4759-9f51-f093f3813ee2\")>,\n",
       " <selenium.webdriver.remote.webelement.WebElement (session=\"837098ad3970ece255759ccf12b5dfa8\", element=\"5d44fe2d-8d4a-4c90-9f8a-db025316992d\")>,\n",
       " <selenium.webdriver.remote.webelement.WebElement (session=\"837098ad3970ece255759ccf12b5dfa8\", element=\"53e4c56f-4a95-4e51-82bd-9d23a2c62323\")>,\n",
       " <selenium.webdriver.remote.webelement.WebElement (session=\"837098ad3970ece255759ccf12b5dfa8\", element=\"6810173f-b52a-4a34-abd8-32e8ec828a4e\")>,\n",
       " <selenium.webdriver.remote.webelement.WebElement (session=\"837098ad3970ece255759ccf12b5dfa8\", element=\"d87461c6-b137-47aa-91ce-b100696e6a3e\")>,\n",
       " <selenium.webdriver.remote.webelement.WebElement (session=\"837098ad3970ece255759ccf12b5dfa8\", element=\"7ac0c940-895f-45fa-aad6-67e3c4e558b2\")>,\n",
       " <selenium.webdriver.remote.webelement.WebElement (session=\"837098ad3970ece255759ccf12b5dfa8\", element=\"18989551-c990-4bb6-a1f7-987d1c792125\")>,\n",
       " <selenium.webdriver.remote.webelement.WebElement (session=\"837098ad3970ece255759ccf12b5dfa8\", element=\"bea199b3-7518-4934-a1e0-4eac51f812ec\")>,\n",
       " <selenium.webdriver.remote.webelement.WebElement (session=\"837098ad3970ece255759ccf12b5dfa8\", element=\"051ddb78-53b7-4a7a-ba6d-9f47dc0e6237\")>,\n",
       " <selenium.webdriver.remote.webelement.WebElement (session=\"837098ad3970ece255759ccf12b5dfa8\", element=\"e752c151-ae20-4328-ab71-e63b260c6a86\")>,\n",
       " <selenium.webdriver.remote.webelement.WebElement (session=\"837098ad3970ece255759ccf12b5dfa8\", element=\"f519e445-1884-4904-991d-229c21dda115\")>,\n",
       " <selenium.webdriver.remote.webelement.WebElement (session=\"837098ad3970ece255759ccf12b5dfa8\", element=\"b345ccf2-60fc-400c-be11-c632f8d93109\")>,\n",
       " <selenium.webdriver.remote.webelement.WebElement (session=\"837098ad3970ece255759ccf12b5dfa8\", element=\"9d56510a-f183-4e34-a271-7042408d61c1\")>,\n",
       " <selenium.webdriver.remote.webelement.WebElement (session=\"837098ad3970ece255759ccf12b5dfa8\", element=\"338218bc-3082-4081-9cc1-b81fb3a4f14e\")>,\n",
       " <selenium.webdriver.remote.webelement.WebElement (session=\"837098ad3970ece255759ccf12b5dfa8\", element=\"3463b4a4-ea12-4c6a-8aab-9775df171908\")>,\n",
       " <selenium.webdriver.remote.webelement.WebElement (session=\"837098ad3970ece255759ccf12b5dfa8\", element=\"230df905-1694-4f2b-b58e-1f10d8df81db\")>,\n",
       " <selenium.webdriver.remote.webelement.WebElement (session=\"837098ad3970ece255759ccf12b5dfa8\", element=\"faecc908-4479-4e09-bc67-831ec09a92f9\")>,\n",
       " <selenium.webdriver.remote.webelement.WebElement (session=\"837098ad3970ece255759ccf12b5dfa8\", element=\"b2dc3a39-7185-4a36-8e82-da8d07f4fa0b\")>,\n",
       " <selenium.webdriver.remote.webelement.WebElement (session=\"837098ad3970ece255759ccf12b5dfa8\", element=\"195552d8-06c5-42c3-bf53-a1784e1fcb66\")>,\n",
       " <selenium.webdriver.remote.webelement.WebElement (session=\"837098ad3970ece255759ccf12b5dfa8\", element=\"16ce135d-2e58-46aa-9fa2-981cadaa2a27\")>,\n",
       " <selenium.webdriver.remote.webelement.WebElement (session=\"837098ad3970ece255759ccf12b5dfa8\", element=\"0308e37d-2889-4a0a-8098-6a7c2bf0d9ad\")>,\n",
       " <selenium.webdriver.remote.webelement.WebElement (session=\"837098ad3970ece255759ccf12b5dfa8\", element=\"ae787c3b-bbd0-4330-8359-c64d78fd97b1\")>,\n",
       " <selenium.webdriver.remote.webelement.WebElement (session=\"837098ad3970ece255759ccf12b5dfa8\", element=\"1ff24db5-4bc7-4b89-ad4c-c5b0702014b8\")>,\n",
       " <selenium.webdriver.remote.webelement.WebElement (session=\"837098ad3970ece255759ccf12b5dfa8\", element=\"43e1ffa4-ef3f-43e5-a3b4-c848411489cc\")>,\n",
       " <selenium.webdriver.remote.webelement.WebElement (session=\"837098ad3970ece255759ccf12b5dfa8\", element=\"fd248354-9d13-405c-a937-ca26c4bcc4cf\")>,\n",
       " <selenium.webdriver.remote.webelement.WebElement (session=\"837098ad3970ece255759ccf12b5dfa8\", element=\"fdd13879-347b-4eee-8007-77e9c80165b6\")>,\n",
       " <selenium.webdriver.remote.webelement.WebElement (session=\"837098ad3970ece255759ccf12b5dfa8\", element=\"f338d1b9-79b3-4716-8465-0ef6090e632e\")>,\n",
       " <selenium.webdriver.remote.webelement.WebElement (session=\"837098ad3970ece255759ccf12b5dfa8\", element=\"6035f8ee-8cef-40da-b0b7-d731d3ae7868\")>,\n",
       " <selenium.webdriver.remote.webelement.WebElement (session=\"837098ad3970ece255759ccf12b5dfa8\", element=\"d86167f8-f421-451f-a277-2ad61b6ab15f\")>,\n",
       " <selenium.webdriver.remote.webelement.WebElement (session=\"837098ad3970ece255759ccf12b5dfa8\", element=\"4f32fa1a-9eac-4356-a93f-0717dd0f055e\")>,\n",
       " <selenium.webdriver.remote.webelement.WebElement (session=\"837098ad3970ece255759ccf12b5dfa8\", element=\"a07c86dc-ac54-4496-b5d1-ef9556873156\")>,\n",
       " <selenium.webdriver.remote.webelement.WebElement (session=\"837098ad3970ece255759ccf12b5dfa8\", element=\"47c76073-ad6f-4a97-adad-fbeb40c793a6\")>,\n",
       " <selenium.webdriver.remote.webelement.WebElement (session=\"837098ad3970ece255759ccf12b5dfa8\", element=\"b5a30e47-1bae-4858-a3b2-aee94d6e9fb0\")>,\n",
       " <selenium.webdriver.remote.webelement.WebElement (session=\"837098ad3970ece255759ccf12b5dfa8\", element=\"8851e476-a84d-4752-851e-b7dea411456b\")>,\n",
       " <selenium.webdriver.remote.webelement.WebElement (session=\"837098ad3970ece255759ccf12b5dfa8\", element=\"552222a1-524e-4d94-81e3-a9ba48e5543c\")>,\n",
       " <selenium.webdriver.remote.webelement.WebElement (session=\"837098ad3970ece255759ccf12b5dfa8\", element=\"46f80cff-3753-4893-b9fb-4011d1f01586\")>,\n",
       " <selenium.webdriver.remote.webelement.WebElement (session=\"837098ad3970ece255759ccf12b5dfa8\", element=\"a2c26cf7-890a-4818-8e4e-ae5b251bd5c9\")>,\n",
       " <selenium.webdriver.remote.webelement.WebElement (session=\"837098ad3970ece255759ccf12b5dfa8\", element=\"0102ec1f-bcd9-4cf6-858b-20675c73e7b6\")>,\n",
       " <selenium.webdriver.remote.webelement.WebElement (session=\"837098ad3970ece255759ccf12b5dfa8\", element=\"942445a1-c1be-4715-bb87-2e3da798369f\")>,\n",
       " <selenium.webdriver.remote.webelement.WebElement (session=\"837098ad3970ece255759ccf12b5dfa8\", element=\"5d806de7-7c65-48cc-8e4e-eae96c3d160d\")>,\n",
       " <selenium.webdriver.remote.webelement.WebElement (session=\"837098ad3970ece255759ccf12b5dfa8\", element=\"c32e2d0a-0753-4005-8c61-4fe65d3aa06e\")>,\n",
       " <selenium.webdriver.remote.webelement.WebElement (session=\"837098ad3970ece255759ccf12b5dfa8\", element=\"af6a1827-0679-4ea8-b78d-3c2cd856a48f\")>,\n",
       " <selenium.webdriver.remote.webelement.WebElement (session=\"837098ad3970ece255759ccf12b5dfa8\", element=\"c211c6c0-f90b-4123-ae96-5afe9a70f95c\")>,\n",
       " <selenium.webdriver.remote.webelement.WebElement (session=\"837098ad3970ece255759ccf12b5dfa8\", element=\"28c55dbc-4ad0-4040-b982-59b44a90300e\")>,\n",
       " <selenium.webdriver.remote.webelement.WebElement (session=\"837098ad3970ece255759ccf12b5dfa8\", element=\"2b3d2356-ee80-42e4-a2db-622117d25ef7\")>,\n",
       " <selenium.webdriver.remote.webelement.WebElement (session=\"837098ad3970ece255759ccf12b5dfa8\", element=\"0143d336-15e2-4f64-a789-da3430c754ae\")>,\n",
       " <selenium.webdriver.remote.webelement.WebElement (session=\"837098ad3970ece255759ccf12b5dfa8\", element=\"eed2a6f5-b897-4127-abc7-9ba18054f079\")>,\n",
       " <selenium.webdriver.remote.webelement.WebElement (session=\"837098ad3970ece255759ccf12b5dfa8\", element=\"8b2d20f2-2e0b-458d-880a-902e1ead896b\")>,\n",
       " <selenium.webdriver.remote.webelement.WebElement (session=\"837098ad3970ece255759ccf12b5dfa8\", element=\"befed699-c516-4ac7-9786-ed3ca3d77c7c\")>,\n",
       " <selenium.webdriver.remote.webelement.WebElement (session=\"837098ad3970ece255759ccf12b5dfa8\", element=\"4111836f-d979-4a9e-b1f2-7175996b077a\")>,\n",
       " <selenium.webdriver.remote.webelement.WebElement (session=\"837098ad3970ece255759ccf12b5dfa8\", element=\"46e0d7e3-7f6a-410b-902b-e0d0a5c0fd21\")>,\n",
       " <selenium.webdriver.remote.webelement.WebElement (session=\"837098ad3970ece255759ccf12b5dfa8\", element=\"bc035a6b-4b15-4ea5-a640-5f20937bd5d8\")>,\n",
       " <selenium.webdriver.remote.webelement.WebElement (session=\"837098ad3970ece255759ccf12b5dfa8\", element=\"e68a2f75-5548-4a45-ba67-175869aa16c3\")>,\n",
       " <selenium.webdriver.remote.webelement.WebElement (session=\"837098ad3970ece255759ccf12b5dfa8\", element=\"e0e10997-0f0a-494a-9198-ea74547da45c\")>,\n",
       " <selenium.webdriver.remote.webelement.WebElement (session=\"837098ad3970ece255759ccf12b5dfa8\", element=\"073164df-85bb-449c-aaa9-a44f80f45c29\")>,\n",
       " <selenium.webdriver.remote.webelement.WebElement (session=\"837098ad3970ece255759ccf12b5dfa8\", element=\"e6b74eb8-7e70-4d2e-ad3c-a423339fd5c7\")>,\n",
       " <selenium.webdriver.remote.webelement.WebElement (session=\"837098ad3970ece255759ccf12b5dfa8\", element=\"77dd6aaa-fee8-45f9-9ab0-edbccdf1fd57\")>,\n",
       " <selenium.webdriver.remote.webelement.WebElement (session=\"837098ad3970ece255759ccf12b5dfa8\", element=\"f21f0394-dba5-47b1-b070-f3bae9802ca6\")>,\n",
       " <selenium.webdriver.remote.webelement.WebElement (session=\"837098ad3970ece255759ccf12b5dfa8\", element=\"0d8adae0-5bc3-4a49-8fc6-cf57453a83b0\")>,\n",
       " <selenium.webdriver.remote.webelement.WebElement (session=\"837098ad3970ece255759ccf12b5dfa8\", element=\"ba619182-374c-4878-a0c8-288dd781c973\")>,\n",
       " <selenium.webdriver.remote.webelement.WebElement (session=\"837098ad3970ece255759ccf12b5dfa8\", element=\"77672807-5037-4045-93f0-a80991e67289\")>,\n",
       " <selenium.webdriver.remote.webelement.WebElement (session=\"837098ad3970ece255759ccf12b5dfa8\", element=\"f65f7f3c-f874-441e-90da-aff05929cd61\")>,\n",
       " <selenium.webdriver.remote.webelement.WebElement (session=\"837098ad3970ece255759ccf12b5dfa8\", element=\"318c81f4-f986-40be-98b3-ffab932a34b6\")>,\n",
       " <selenium.webdriver.remote.webelement.WebElement (session=\"837098ad3970ece255759ccf12b5dfa8\", element=\"e3ce14ae-29c9-4c02-aef4-d509ab09daf0\")>,\n",
       " <selenium.webdriver.remote.webelement.WebElement (session=\"837098ad3970ece255759ccf12b5dfa8\", element=\"8adbb519-23e8-4293-a6e9-4bbfe733a49e\")>,\n",
       " <selenium.webdriver.remote.webelement.WebElement (session=\"837098ad3970ece255759ccf12b5dfa8\", element=\"608bf68d-7c9b-4ee7-a8cb-2962380a6884\")>,\n",
       " <selenium.webdriver.remote.webelement.WebElement (session=\"837098ad3970ece255759ccf12b5dfa8\", element=\"67109e55-8768-43c7-991f-f1671525a226\")>,\n",
       " <selenium.webdriver.remote.webelement.WebElement (session=\"837098ad3970ece255759ccf12b5dfa8\", element=\"b099ee3b-615a-4e12-a0fe-84f65bca44c6\")>,\n",
       " <selenium.webdriver.remote.webelement.WebElement (session=\"837098ad3970ece255759ccf12b5dfa8\", element=\"4077f31b-10d9-4d3b-8d04-7dcbeb263a8f\")>,\n",
       " <selenium.webdriver.remote.webelement.WebElement (session=\"837098ad3970ece255759ccf12b5dfa8\", element=\"0a68a4d8-6b00-4f72-8050-9e890e057368\")>,\n",
       " <selenium.webdriver.remote.webelement.WebElement (session=\"837098ad3970ece255759ccf12b5dfa8\", element=\"14b5e7a9-473c-4f77-b720-acd18eceebc7\")>,\n",
       " <selenium.webdriver.remote.webelement.WebElement (session=\"837098ad3970ece255759ccf12b5dfa8\", element=\"e7abeae3-e930-4f3c-9d37-c4551a249725\")>,\n",
       " <selenium.webdriver.remote.webelement.WebElement (session=\"837098ad3970ece255759ccf12b5dfa8\", element=\"0edb30ad-9a79-40d1-b56f-6207261e545a\")>,\n",
       " <selenium.webdriver.remote.webelement.WebElement (session=\"837098ad3970ece255759ccf12b5dfa8\", element=\"2234d25a-0d87-4af8-99d1-9f5027347142\")>,\n",
       " <selenium.webdriver.remote.webelement.WebElement (session=\"837098ad3970ece255759ccf12b5dfa8\", element=\"452f92aa-6f27-4411-8318-b34d166cf7d1\")>,\n",
       " <selenium.webdriver.remote.webelement.WebElement (session=\"837098ad3970ece255759ccf12b5dfa8\", element=\"32273278-d6bb-450f-aed2-29c545175641\")>,\n",
       " <selenium.webdriver.remote.webelement.WebElement (session=\"837098ad3970ece255759ccf12b5dfa8\", element=\"2e27c8ec-caf6-4b89-8539-b069c1de0c71\")>,\n",
       " <selenium.webdriver.remote.webelement.WebElement (session=\"837098ad3970ece255759ccf12b5dfa8\", element=\"e3f3d960-bd1d-4539-819c-4a4c999502fb\")>,\n",
       " <selenium.webdriver.remote.webelement.WebElement (session=\"837098ad3970ece255759ccf12b5dfa8\", element=\"9f359a72-d6be-4787-96e9-82f693bda44d\")>,\n",
       " <selenium.webdriver.remote.webelement.WebElement (session=\"837098ad3970ece255759ccf12b5dfa8\", element=\"f6eeded5-56f3-4959-85db-5491da3ef8cb\")>,\n",
       " <selenium.webdriver.remote.webelement.WebElement (session=\"837098ad3970ece255759ccf12b5dfa8\", element=\"2c7f70a0-18af-4e5d-852c-da54db3bc8c1\")>,\n",
       " <selenium.webdriver.remote.webelement.WebElement (session=\"837098ad3970ece255759ccf12b5dfa8\", element=\"89f8be00-32a1-4a4c-9093-444e144d43b1\")>,\n",
       " <selenium.webdriver.remote.webelement.WebElement (session=\"837098ad3970ece255759ccf12b5dfa8\", element=\"fdfb5126-ec50-43c3-b033-7cea5cf02013\")>,\n",
       " <selenium.webdriver.remote.webelement.WebElement (session=\"837098ad3970ece255759ccf12b5dfa8\", element=\"5bc03787-7d4a-4e69-b758-d126c66a202c\")>,\n",
       " <selenium.webdriver.remote.webelement.WebElement (session=\"837098ad3970ece255759ccf12b5dfa8\", element=\"5b347c6e-e6f0-41b2-adbb-33a65f4359ba\")>,\n",
       " <selenium.webdriver.remote.webelement.WebElement (session=\"837098ad3970ece255759ccf12b5dfa8\", element=\"4428cebd-f458-4227-8fe0-8612c0a4e8ec\")>,\n",
       " <selenium.webdriver.remote.webelement.WebElement (session=\"837098ad3970ece255759ccf12b5dfa8\", element=\"40825327-8448-41c9-8c05-c32454494cd4\")>,\n",
       " <selenium.webdriver.remote.webelement.WebElement (session=\"837098ad3970ece255759ccf12b5dfa8\", element=\"d7b62b43-a9fd-4038-a66a-bcbdcce43e9c\")>,\n",
       " <selenium.webdriver.remote.webelement.WebElement (session=\"837098ad3970ece255759ccf12b5dfa8\", element=\"b3dddde1-ef48-410b-a093-6d1cf3662f64\")>,\n",
       " <selenium.webdriver.remote.webelement.WebElement (session=\"837098ad3970ece255759ccf12b5dfa8\", element=\"2491b4b5-3ffb-4e72-9020-76f5a6e9ee71\")>,\n",
       " <selenium.webdriver.remote.webelement.WebElement (session=\"837098ad3970ece255759ccf12b5dfa8\", element=\"13a17b1e-8472-42a3-b45c-54742029c68e\")>,\n",
       " <selenium.webdriver.remote.webelement.WebElement (session=\"837098ad3970ece255759ccf12b5dfa8\", element=\"40047967-2198-41f9-a97c-27021731e95d\")>,\n",
       " <selenium.webdriver.remote.webelement.WebElement (session=\"837098ad3970ece255759ccf12b5dfa8\", element=\"d56f865a-e119-436b-88a4-a952a426a3bc\")>,\n",
       " <selenium.webdriver.remote.webelement.WebElement (session=\"837098ad3970ece255759ccf12b5dfa8\", element=\"4acecbfe-7a7d-4513-bec7-ca3b968940d9\")>,\n",
       " <selenium.webdriver.remote.webelement.WebElement (session=\"837098ad3970ece255759ccf12b5dfa8\", element=\"5ca5e367-0d6a-48fa-832a-b52bb9c5563d\")>,\n",
       " <selenium.webdriver.remote.webelement.WebElement (session=\"837098ad3970ece255759ccf12b5dfa8\", element=\"7c5c1770-5308-4298-9489-0a8cb7f8bdcb\")>,\n",
       " <selenium.webdriver.remote.webelement.WebElement (session=\"837098ad3970ece255759ccf12b5dfa8\", element=\"606b176a-99c4-4a7a-9ebe-535dc19c1107\")>,\n",
       " <selenium.webdriver.remote.webelement.WebElement (session=\"837098ad3970ece255759ccf12b5dfa8\", element=\"75de2cb8-5bc2-431f-8495-c2544c8f0d11\")>,\n",
       " <selenium.webdriver.remote.webelement.WebElement (session=\"837098ad3970ece255759ccf12b5dfa8\", element=\"47430c22-f18d-4554-86b4-94f833695136\")>,\n",
       " <selenium.webdriver.remote.webelement.WebElement (session=\"837098ad3970ece255759ccf12b5dfa8\", element=\"be881f65-5d90-46bd-82a3-89c433f1f171\")>,\n",
       " <selenium.webdriver.remote.webelement.WebElement (session=\"837098ad3970ece255759ccf12b5dfa8\", element=\"284f7454-f820-4841-b7ba-93d9ac968a96\")>,\n",
       " <selenium.webdriver.remote.webelement.WebElement (session=\"837098ad3970ece255759ccf12b5dfa8\", element=\"38e3a6c5-8733-489f-8f0f-27e2ebb51704\")>,\n",
       " <selenium.webdriver.remote.webelement.WebElement (session=\"837098ad3970ece255759ccf12b5dfa8\", element=\"0e3a1c41-6ce1-4a04-8454-96f33d73371d\")>,\n",
       " <selenium.webdriver.remote.webelement.WebElement (session=\"837098ad3970ece255759ccf12b5dfa8\", element=\"37268ee7-0700-418e-8d44-812fef9b156c\")>,\n",
       " <selenium.webdriver.remote.webelement.WebElement (session=\"837098ad3970ece255759ccf12b5dfa8\", element=\"6682b3ea-c133-4f73-95ff-605f765271ff\")>,\n",
       " <selenium.webdriver.remote.webelement.WebElement (session=\"837098ad3970ece255759ccf12b5dfa8\", element=\"f08510ef-f832-4522-8b33-cfac547eb13e\")>,\n",
       " <selenium.webdriver.remote.webelement.WebElement (session=\"837098ad3970ece255759ccf12b5dfa8\", element=\"d4a6ff22-0c49-47cb-ad61-060dd73c098e\")>,\n",
       " <selenium.webdriver.remote.webelement.WebElement (session=\"837098ad3970ece255759ccf12b5dfa8\", element=\"a98018b4-e857-4bab-91af-673ef574a274\")>,\n",
       " <selenium.webdriver.remote.webelement.WebElement (session=\"837098ad3970ece255759ccf12b5dfa8\", element=\"64b48619-6626-4861-899e-216ada18212e\")>,\n",
       " <selenium.webdriver.remote.webelement.WebElement (session=\"837098ad3970ece255759ccf12b5dfa8\", element=\"de91037c-8528-4446-bfe9-a81786d815ef\")>,\n",
       " <selenium.webdriver.remote.webelement.WebElement (session=\"837098ad3970ece255759ccf12b5dfa8\", element=\"366d9a11-9f2e-406e-ab42-5a2a12e908ad\")>,\n",
       " <selenium.webdriver.remote.webelement.WebElement (session=\"837098ad3970ece255759ccf12b5dfa8\", element=\"5408f1e7-2900-4ce7-a29a-f621724cc02c\")>,\n",
       " <selenium.webdriver.remote.webelement.WebElement (session=\"837098ad3970ece255759ccf12b5dfa8\", element=\"1ee8bf5d-06f6-404c-89e3-79c9b7168e5a\")>,\n",
       " <selenium.webdriver.remote.webelement.WebElement (session=\"837098ad3970ece255759ccf12b5dfa8\", element=\"72c6d336-c3cc-4053-aec0-b216fb491293\")>,\n",
       " <selenium.webdriver.remote.webelement.WebElement (session=\"837098ad3970ece255759ccf12b5dfa8\", element=\"81cf0453-6273-49a6-8fb7-dd19c63778ad\")>,\n",
       " <selenium.webdriver.remote.webelement.WebElement (session=\"837098ad3970ece255759ccf12b5dfa8\", element=\"3dd848b5-6fe9-4805-b77c-2850ea2d68ca\")>,\n",
       " <selenium.webdriver.remote.webelement.WebElement (session=\"837098ad3970ece255759ccf12b5dfa8\", element=\"76071ae3-e2e2-478a-9669-3444a92939cc\")>,\n",
       " <selenium.webdriver.remote.webelement.WebElement (session=\"837098ad3970ece255759ccf12b5dfa8\", element=\"a16603ca-6f98-4ff4-b1ab-d6cd6aa17c97\")>,\n",
       " <selenium.webdriver.remote.webelement.WebElement (session=\"837098ad3970ece255759ccf12b5dfa8\", element=\"34ebb25f-00af-457e-9ab0-845db9214dfd\")>,\n",
       " <selenium.webdriver.remote.webelement.WebElement (session=\"837098ad3970ece255759ccf12b5dfa8\", element=\"5e60d048-9912-47f0-ac10-10c755ab77b6\")>,\n",
       " <selenium.webdriver.remote.webelement.WebElement (session=\"837098ad3970ece255759ccf12b5dfa8\", element=\"5085515f-7ab3-481d-8ce4-7c7a4569ec35\")>,\n",
       " <selenium.webdriver.remote.webelement.WebElement (session=\"837098ad3970ece255759ccf12b5dfa8\", element=\"12d11d81-8122-44c9-9d68-2bd8bcea7c19\")>,\n",
       " <selenium.webdriver.remote.webelement.WebElement (session=\"837098ad3970ece255759ccf12b5dfa8\", element=\"ed9ea7eb-b869-4286-8bf4-5f50b2ef96c4\")>,\n",
       " <selenium.webdriver.remote.webelement.WebElement (session=\"837098ad3970ece255759ccf12b5dfa8\", element=\"106bd5cd-26fa-42b3-b6f3-824ef505c73c\")>,\n",
       " <selenium.webdriver.remote.webelement.WebElement (session=\"837098ad3970ece255759ccf12b5dfa8\", element=\"4c86cdfd-dc7c-4d83-9bf7-7b1eeca7e1c4\")>,\n",
       " <selenium.webdriver.remote.webelement.WebElement (session=\"837098ad3970ece255759ccf12b5dfa8\", element=\"9c343ada-cc8d-4f5d-b31f-23c75afecf2a\")>,\n",
       " <selenium.webdriver.remote.webelement.WebElement (session=\"837098ad3970ece255759ccf12b5dfa8\", element=\"01888c7c-ce02-4341-864e-aa60616b159b\")>,\n",
       " <selenium.webdriver.remote.webelement.WebElement (session=\"837098ad3970ece255759ccf12b5dfa8\", element=\"d2c99f9e-dc5c-46cc-99eb-837a8466f14c\")>,\n",
       " <selenium.webdriver.remote.webelement.WebElement (session=\"837098ad3970ece255759ccf12b5dfa8\", element=\"12c67d80-4743-4105-96df-871c7b5973af\")>,\n",
       " <selenium.webdriver.remote.webelement.WebElement (session=\"837098ad3970ece255759ccf12b5dfa8\", element=\"9d963a64-17fb-45eb-9fc8-5d033429940b\")>,\n",
       " <selenium.webdriver.remote.webelement.WebElement (session=\"837098ad3970ece255759ccf12b5dfa8\", element=\"22d7cd37-0705-4c0d-b120-ec521ae75b32\")>,\n",
       " <selenium.webdriver.remote.webelement.WebElement (session=\"837098ad3970ece255759ccf12b5dfa8\", element=\"82044c7a-bdde-4804-a964-f683e179d3eb\")>,\n",
       " <selenium.webdriver.remote.webelement.WebElement (session=\"837098ad3970ece255759ccf12b5dfa8\", element=\"186f595c-f7b4-4419-96d2-942d4cc1cef4\")>,\n",
       " <selenium.webdriver.remote.webelement.WebElement (session=\"837098ad3970ece255759ccf12b5dfa8\", element=\"2dffe789-a92c-42bc-ba62-9cf882fd88ff\")>,\n",
       " <selenium.webdriver.remote.webelement.WebElement (session=\"837098ad3970ece255759ccf12b5dfa8\", element=\"3a1521c5-f9e4-41a7-a216-0ffc6651a916\")>,\n",
       " <selenium.webdriver.remote.webelement.WebElement (session=\"837098ad3970ece255759ccf12b5dfa8\", element=\"9864ee3f-e07b-4204-894e-c3d2ede35f6a\")>,\n",
       " <selenium.webdriver.remote.webelement.WebElement (session=\"837098ad3970ece255759ccf12b5dfa8\", element=\"f8f123df-82e0-4398-b1b4-4e4114eb6f8f\")>,\n",
       " <selenium.webdriver.remote.webelement.WebElement (session=\"837098ad3970ece255759ccf12b5dfa8\", element=\"2fdb1e2f-dd2b-411b-9086-c2f2ce2840e6\")>,\n",
       " <selenium.webdriver.remote.webelement.WebElement (session=\"837098ad3970ece255759ccf12b5dfa8\", element=\"b5cad7a2-f96e-4025-9633-b1cda0a09675\")>,\n",
       " <selenium.webdriver.remote.webelement.WebElement (session=\"837098ad3970ece255759ccf12b5dfa8\", element=\"4726510c-0b8c-4344-9ab0-f2612718e31c\")>,\n",
       " <selenium.webdriver.remote.webelement.WebElement (session=\"837098ad3970ece255759ccf12b5dfa8\", element=\"f22bcd7f-1e4d-450f-a859-d241c114fba6\")>,\n",
       " <selenium.webdriver.remote.webelement.WebElement (session=\"837098ad3970ece255759ccf12b5dfa8\", element=\"1b49d188-1185-480e-ab18-8a370577632e\")>,\n",
       " <selenium.webdriver.remote.webelement.WebElement (session=\"837098ad3970ece255759ccf12b5dfa8\", element=\"92065661-9bde-403e-90a6-04f214e9ecb7\")>,\n",
       " <selenium.webdriver.remote.webelement.WebElement (session=\"837098ad3970ece255759ccf12b5dfa8\", element=\"3543a7e3-e888-499c-a3c0-0c974dc09f4a\")>,\n",
       " <selenium.webdriver.remote.webelement.WebElement (session=\"837098ad3970ece255759ccf12b5dfa8\", element=\"9107d77b-bf22-42a7-bc00-a16d118c5bff\")>,\n",
       " <selenium.webdriver.remote.webelement.WebElement (session=\"837098ad3970ece255759ccf12b5dfa8\", element=\"397f48ac-31f9-4906-aba8-43f792ebd62f\")>,\n",
       " <selenium.webdriver.remote.webelement.WebElement (session=\"837098ad3970ece255759ccf12b5dfa8\", element=\"ff19277f-22ad-4988-b1fc-e5206742868a\")>,\n",
       " <selenium.webdriver.remote.webelement.WebElement (session=\"837098ad3970ece255759ccf12b5dfa8\", element=\"c302dfe8-6b60-4c96-aba6-4d66cc8a474b\")>,\n",
       " <selenium.webdriver.remote.webelement.WebElement (session=\"837098ad3970ece255759ccf12b5dfa8\", element=\"7c78ff46-50ff-4ba1-b263-d69723b29158\")>,\n",
       " <selenium.webdriver.remote.webelement.WebElement (session=\"837098ad3970ece255759ccf12b5dfa8\", element=\"861d3cde-fe3b-4c2c-95be-f29cac82221a\")>,\n",
       " <selenium.webdriver.remote.webelement.WebElement (session=\"837098ad3970ece255759ccf12b5dfa8\", element=\"e5d5b068-d7e4-41a2-bfc5-dba6b6dbba94\")>,\n",
       " <selenium.webdriver.remote.webelement.WebElement (session=\"837098ad3970ece255759ccf12b5dfa8\", element=\"0241ba97-19d9-41aa-b0ee-472b0e898682\")>,\n",
       " <selenium.webdriver.remote.webelement.WebElement (session=\"837098ad3970ece255759ccf12b5dfa8\", element=\"12dba24e-932b-4264-86d9-60a996833336\")>,\n",
       " <selenium.webdriver.remote.webelement.WebElement (session=\"837098ad3970ece255759ccf12b5dfa8\", element=\"726d57d0-fd30-4833-9913-b729296c05ef\")>,\n",
       " <selenium.webdriver.remote.webelement.WebElement (session=\"837098ad3970ece255759ccf12b5dfa8\", element=\"2a1b43e2-9f9a-4e0d-a219-a6fbdc13ed1e\")>,\n",
       " <selenium.webdriver.remote.webelement.WebElement (session=\"837098ad3970ece255759ccf12b5dfa8\", element=\"19146f0c-9a84-4ab8-8237-200960f6fdeb\")>,\n",
       " <selenium.webdriver.remote.webelement.WebElement (session=\"837098ad3970ece255759ccf12b5dfa8\", element=\"98420078-966a-4245-bb37-28f38dd48d2f\")>,\n",
       " <selenium.webdriver.remote.webelement.WebElement (session=\"837098ad3970ece255759ccf12b5dfa8\", element=\"92c8f206-2990-4b47-84b9-77df4fc73ed9\")>,\n",
       " <selenium.webdriver.remote.webelement.WebElement (session=\"837098ad3970ece255759ccf12b5dfa8\", element=\"cd0bb150-2033-4156-8a00-ad725604e799\")>,\n",
       " <selenium.webdriver.remote.webelement.WebElement (session=\"837098ad3970ece255759ccf12b5dfa8\", element=\"fce80329-48ae-4442-9535-ada3e8e167ee\")>,\n",
       " <selenium.webdriver.remote.webelement.WebElement (session=\"837098ad3970ece255759ccf12b5dfa8\", element=\"7708c4de-a1da-4942-972e-5ed384fe5a50\")>,\n",
       " <selenium.webdriver.remote.webelement.WebElement (session=\"837098ad3970ece255759ccf12b5dfa8\", element=\"8d94a7d3-9c8c-4473-adcd-2f4d331dcadf\")>,\n",
       " <selenium.webdriver.remote.webelement.WebElement (session=\"837098ad3970ece255759ccf12b5dfa8\", element=\"c71f4692-9b81-45cf-9802-27cb9f19f659\")>,\n",
       " <selenium.webdriver.remote.webelement.WebElement (session=\"837098ad3970ece255759ccf12b5dfa8\", element=\"68f51ec0-0c05-4712-a8b9-5684400ea239\")>,\n",
       " <selenium.webdriver.remote.webelement.WebElement (session=\"837098ad3970ece255759ccf12b5dfa8\", element=\"258e12dd-74b5-4ea4-9432-3e99648a8b49\")>,\n",
       " <selenium.webdriver.remote.webelement.WebElement (session=\"837098ad3970ece255759ccf12b5dfa8\", element=\"8921fc23-d4b3-4da6-abc8-9bbd8b77a06c\")>,\n",
       " <selenium.webdriver.remote.webelement.WebElement (session=\"837098ad3970ece255759ccf12b5dfa8\", element=\"bb2d0d20-593b-4297-9202-9a6600cc623d\")>,\n",
       " <selenium.webdriver.remote.webelement.WebElement (session=\"837098ad3970ece255759ccf12b5dfa8\", element=\"a269a09d-57e5-4504-99eb-ff7905d9b130\")>,\n",
       " <selenium.webdriver.remote.webelement.WebElement (session=\"837098ad3970ece255759ccf12b5dfa8\", element=\"0747d289-a5ca-4dba-8dad-1e02db1353aa\")>,\n",
       " <selenium.webdriver.remote.webelement.WebElement (session=\"837098ad3970ece255759ccf12b5dfa8\", element=\"300af909-e8c8-470b-a998-8df348aa2ffb\")>,\n",
       " <selenium.webdriver.remote.webelement.WebElement (session=\"837098ad3970ece255759ccf12b5dfa8\", element=\"d55f5882-070e-40a6-ba10-5b7d1c7e0218\")>,\n",
       " <selenium.webdriver.remote.webelement.WebElement (session=\"837098ad3970ece255759ccf12b5dfa8\", element=\"1ba92828-01a4-47d9-9970-e35550422c19\")>,\n",
       " <selenium.webdriver.remote.webelement.WebElement (session=\"837098ad3970ece255759ccf12b5dfa8\", element=\"b324a9b1-1992-4ce0-9a18-da68c2442173\")>,\n",
       " <selenium.webdriver.remote.webelement.WebElement (session=\"837098ad3970ece255759ccf12b5dfa8\", element=\"ae84d789-41a7-4bcb-a9cd-0902275751b8\")>,\n",
       " <selenium.webdriver.remote.webelement.WebElement (session=\"837098ad3970ece255759ccf12b5dfa8\", element=\"15b57292-4547-4de7-8767-97ca1d7f4415\")>,\n",
       " <selenium.webdriver.remote.webelement.WebElement (session=\"837098ad3970ece255759ccf12b5dfa8\", element=\"e7744d61-526a-4e65-88c9-10ab77357622\")>,\n",
       " <selenium.webdriver.remote.webelement.WebElement (session=\"837098ad3970ece255759ccf12b5dfa8\", element=\"4ac404a5-072a-4f7b-8874-7032857d6f45\")>,\n",
       " <selenium.webdriver.remote.webelement.WebElement (session=\"837098ad3970ece255759ccf12b5dfa8\", element=\"9959f8df-dc28-467f-b8d4-fde20d4afe2f\")>,\n",
       " <selenium.webdriver.remote.webelement.WebElement (session=\"837098ad3970ece255759ccf12b5dfa8\", element=\"75476ecf-965b-41e3-b7ce-7c9c8cd4882f\")>,\n",
       " <selenium.webdriver.remote.webelement.WebElement (session=\"837098ad3970ece255759ccf12b5dfa8\", element=\"d169d1ad-8958-4223-87a8-3f8dc4142046\")>,\n",
       " <selenium.webdriver.remote.webelement.WebElement (session=\"837098ad3970ece255759ccf12b5dfa8\", element=\"0bab6a15-70f3-4367-9ae6-63d45f153026\")>,\n",
       " <selenium.webdriver.remote.webelement.WebElement (session=\"837098ad3970ece255759ccf12b5dfa8\", element=\"7355c271-7bf7-473a-8902-609d406859a5\")>,\n",
       " <selenium.webdriver.remote.webelement.WebElement (session=\"837098ad3970ece255759ccf12b5dfa8\", element=\"3423ce1a-ed75-4f7b-ad67-c205e4066118\")>,\n",
       " <selenium.webdriver.remote.webelement.WebElement (session=\"837098ad3970ece255759ccf12b5dfa8\", element=\"dc0d3eb6-a62b-4761-89aa-9f236e9fcd03\")>,\n",
       " <selenium.webdriver.remote.webelement.WebElement (session=\"837098ad3970ece255759ccf12b5dfa8\", element=\"876ebf1f-d01f-404a-baf0-a8c8c8c7afa7\")>,\n",
       " <selenium.webdriver.remote.webelement.WebElement (session=\"837098ad3970ece255759ccf12b5dfa8\", element=\"bb0210c1-ca09-48c9-ab9a-52036a93e6d7\")>,\n",
       " <selenium.webdriver.remote.webelement.WebElement (session=\"837098ad3970ece255759ccf12b5dfa8\", element=\"83e6b963-5198-48fd-966b-37ce8e0fecf6\")>,\n",
       " <selenium.webdriver.remote.webelement.WebElement (session=\"837098ad3970ece255759ccf12b5dfa8\", element=\"d074b977-8b94-491f-a5ff-63c31b898f31\")>,\n",
       " <selenium.webdriver.remote.webelement.WebElement (session=\"837098ad3970ece255759ccf12b5dfa8\", element=\"9abf818c-0a68-4411-96cd-eda4943b8d28\")>,\n",
       " <selenium.webdriver.remote.webelement.WebElement (session=\"837098ad3970ece255759ccf12b5dfa8\", element=\"e581e98a-0aa0-4c0e-9b13-f7b01e599766\")>,\n",
       " <selenium.webdriver.remote.webelement.WebElement (session=\"837098ad3970ece255759ccf12b5dfa8\", element=\"210b3d99-2348-44a8-bf6c-8e353f5e8afa\")>,\n",
       " <selenium.webdriver.remote.webelement.WebElement (session=\"837098ad3970ece255759ccf12b5dfa8\", element=\"c232d2a5-bdc8-4aec-acd8-f2e3b46ea3fa\")>,\n",
       " <selenium.webdriver.remote.webelement.WebElement (session=\"837098ad3970ece255759ccf12b5dfa8\", element=\"17425520-b2c4-45a4-8575-48ac59182853\")>,\n",
       " <selenium.webdriver.remote.webelement.WebElement (session=\"837098ad3970ece255759ccf12b5dfa8\", element=\"05da2f82-8afe-4a35-b48e-23b6593ec3db\")>,\n",
       " <selenium.webdriver.remote.webelement.WebElement (session=\"837098ad3970ece255759ccf12b5dfa8\", element=\"af318ea6-b6eb-448d-b58e-a73c76ac761c\")>,\n",
       " <selenium.webdriver.remote.webelement.WebElement (session=\"837098ad3970ece255759ccf12b5dfa8\", element=\"fcf21ae1-fe0f-482f-b77f-f091babb5864\")>,\n",
       " <selenium.webdriver.remote.webelement.WebElement (session=\"837098ad3970ece255759ccf12b5dfa8\", element=\"841c774f-5421-4260-8e73-0b4fd88ab949\")>,\n",
       " <selenium.webdriver.remote.webelement.WebElement (session=\"837098ad3970ece255759ccf12b5dfa8\", element=\"db851b5d-3898-48f4-9e64-e1a8ccdef795\")>,\n",
       " <selenium.webdriver.remote.webelement.WebElement (session=\"837098ad3970ece255759ccf12b5dfa8\", element=\"a00377f9-5212-4d1f-8f7d-e09b63de1f9d\")>,\n",
       " <selenium.webdriver.remote.webelement.WebElement (session=\"837098ad3970ece255759ccf12b5dfa8\", element=\"d7eb8349-822f-48d8-8eba-bdfb9b440e2f\")>,\n",
       " <selenium.webdriver.remote.webelement.WebElement (session=\"837098ad3970ece255759ccf12b5dfa8\", element=\"af81630c-c15a-4dea-8327-4288e403d774\")>,\n",
       " <selenium.webdriver.remote.webelement.WebElement (session=\"837098ad3970ece255759ccf12b5dfa8\", element=\"449d4d14-f6f9-43f5-bbe7-039d46515ecf\")>,\n",
       " <selenium.webdriver.remote.webelement.WebElement (session=\"837098ad3970ece255759ccf12b5dfa8\", element=\"99d398fe-61f2-4cbd-8af6-a884c92cebbc\")>,\n",
       " <selenium.webdriver.remote.webelement.WebElement (session=\"837098ad3970ece255759ccf12b5dfa8\", element=\"5f20d412-ead1-454b-9689-dec3da3e2316\")>,\n",
       " <selenium.webdriver.remote.webelement.WebElement (session=\"837098ad3970ece255759ccf12b5dfa8\", element=\"c5c45f8a-19de-4fc3-9b1a-0c1bcf56f7a0\")>,\n",
       " <selenium.webdriver.remote.webelement.WebElement (session=\"837098ad3970ece255759ccf12b5dfa8\", element=\"5eefbefb-ed84-4253-bb65-2709e59400b2\")>,\n",
       " <selenium.webdriver.remote.webelement.WebElement (session=\"837098ad3970ece255759ccf12b5dfa8\", element=\"11b4424b-8b6d-478f-890d-23e23a35378a\")>,\n",
       " <selenium.webdriver.remote.webelement.WebElement (session=\"837098ad3970ece255759ccf12b5dfa8\", element=\"641ac8e3-47b5-487e-8c37-ec0c8daa54d4\")>,\n",
       " <selenium.webdriver.remote.webelement.WebElement (session=\"837098ad3970ece255759ccf12b5dfa8\", element=\"7d53fb9f-8462-4549-81c5-b85fed8719f5\")>,\n",
       " <selenium.webdriver.remote.webelement.WebElement (session=\"837098ad3970ece255759ccf12b5dfa8\", element=\"48c61d03-112a-49b8-8b13-1a12d38cb256\")>,\n",
       " <selenium.webdriver.remote.webelement.WebElement (session=\"837098ad3970ece255759ccf12b5dfa8\", element=\"7497acfd-d8bb-4b64-b357-adb439a593b9\")>,\n",
       " <selenium.webdriver.remote.webelement.WebElement (session=\"837098ad3970ece255759ccf12b5dfa8\", element=\"1ca04d1a-96ae-4f38-8571-ec0af229199b\")>,\n",
       " <selenium.webdriver.remote.webelement.WebElement (session=\"837098ad3970ece255759ccf12b5dfa8\", element=\"11ac7ea9-a210-449f-9609-1350b7bab57e\")>,\n",
       " <selenium.webdriver.remote.webelement.WebElement (session=\"837098ad3970ece255759ccf12b5dfa8\", element=\"32b2bc24-11fa-415d-8138-8a6a47351166\")>,\n",
       " <selenium.webdriver.remote.webelement.WebElement (session=\"837098ad3970ece255759ccf12b5dfa8\", element=\"6f4c5442-1143-4eb0-97aa-9c671a455895\")>,\n",
       " <selenium.webdriver.remote.webelement.WebElement (session=\"837098ad3970ece255759ccf12b5dfa8\", element=\"c49e3b72-c569-4667-be8d-3c29c473aef4\")>,\n",
       " <selenium.webdriver.remote.webelement.WebElement (session=\"837098ad3970ece255759ccf12b5dfa8\", element=\"efd4f994-d233-42aa-ae63-83df30ad9f19\")>,\n",
       " <selenium.webdriver.remote.webelement.WebElement (session=\"837098ad3970ece255759ccf12b5dfa8\", element=\"e17dc4c5-6f1e-4f0c-957c-f60434050c4c\")>,\n",
       " <selenium.webdriver.remote.webelement.WebElement (session=\"837098ad3970ece255759ccf12b5dfa8\", element=\"00b019f4-5cb9-4fe2-8769-85df5ae8f870\")>,\n",
       " <selenium.webdriver.remote.webelement.WebElement (session=\"837098ad3970ece255759ccf12b5dfa8\", element=\"e4fe984c-5133-4bb8-bfa3-7e819d23862f\")>,\n",
       " <selenium.webdriver.remote.webelement.WebElement (session=\"837098ad3970ece255759ccf12b5dfa8\", element=\"26ac5ee2-8461-4dda-b8ac-1479b3305565\")>,\n",
       " <selenium.webdriver.remote.webelement.WebElement (session=\"837098ad3970ece255759ccf12b5dfa8\", element=\"f81e35c6-3514-42fd-9689-fff4e4717daa\")>,\n",
       " <selenium.webdriver.remote.webelement.WebElement (session=\"837098ad3970ece255759ccf12b5dfa8\", element=\"69e09e55-1540-442d-ac86-ea51edb47dbf\")>,\n",
       " <selenium.webdriver.remote.webelement.WebElement (session=\"837098ad3970ece255759ccf12b5dfa8\", element=\"480093e3-e8f0-40ee-9065-8a39dbac0f07\")>,\n",
       " <selenium.webdriver.remote.webelement.WebElement (session=\"837098ad3970ece255759ccf12b5dfa8\", element=\"24b1bbe1-50e6-42f7-bfcd-8c420789df92\")>,\n",
       " <selenium.webdriver.remote.webelement.WebElement (session=\"837098ad3970ece255759ccf12b5dfa8\", element=\"5e699ea0-7e2e-42f9-8adf-f84e91443a49\")>,\n",
       " <selenium.webdriver.remote.webelement.WebElement (session=\"837098ad3970ece255759ccf12b5dfa8\", element=\"87a5368d-a04b-4316-b519-23cbf01adfab\")>,\n",
       " <selenium.webdriver.remote.webelement.WebElement (session=\"837098ad3970ece255759ccf12b5dfa8\", element=\"a0a899c3-0303-4383-a046-4984a5264d83\")>,\n",
       " <selenium.webdriver.remote.webelement.WebElement (session=\"837098ad3970ece255759ccf12b5dfa8\", element=\"833d0fb8-99cd-4946-92d9-717daba6b143\")>,\n",
       " <selenium.webdriver.remote.webelement.WebElement (session=\"837098ad3970ece255759ccf12b5dfa8\", element=\"04d88558-ec68-4646-8d1f-c3b8e17d807e\")>,\n",
       " <selenium.webdriver.remote.webelement.WebElement (session=\"837098ad3970ece255759ccf12b5dfa8\", element=\"eb2ba0f3-2bac-4c90-bacf-b42b4e33d36e\")>,\n",
       " <selenium.webdriver.remote.webelement.WebElement (session=\"837098ad3970ece255759ccf12b5dfa8\", element=\"b3aa6b93-cbba-4444-a720-869bf6f9ba7b\")>,\n",
       " <selenium.webdriver.remote.webelement.WebElement (session=\"837098ad3970ece255759ccf12b5dfa8\", element=\"20e07346-9b6a-4ff1-b2c5-7dfced10cda0\")>,\n",
       " <selenium.webdriver.remote.webelement.WebElement (session=\"837098ad3970ece255759ccf12b5dfa8\", element=\"a1246078-3020-451e-aba1-7e5550d2dc57\")>,\n",
       " <selenium.webdriver.remote.webelement.WebElement (session=\"837098ad3970ece255759ccf12b5dfa8\", element=\"9dadafe6-d102-4be8-be63-bbf0abb84131\")>,\n",
       " <selenium.webdriver.remote.webelement.WebElement (session=\"837098ad3970ece255759ccf12b5dfa8\", element=\"9bcb4274-806d-4903-a8e6-3c4f8fec7502\")>,\n",
       " <selenium.webdriver.remote.webelement.WebElement (session=\"837098ad3970ece255759ccf12b5dfa8\", element=\"076576ed-d367-4c24-84c2-027ee3cbdd2d\")>,\n",
       " <selenium.webdriver.remote.webelement.WebElement (session=\"837098ad3970ece255759ccf12b5dfa8\", element=\"148a77c4-28b2-4e2f-ba87-89e59c1df987\")>,\n",
       " <selenium.webdriver.remote.webelement.WebElement (session=\"837098ad3970ece255759ccf12b5dfa8\", element=\"cc998b4b-2f04-44d9-a855-9ea81d619bcd\")>,\n",
       " <selenium.webdriver.remote.webelement.WebElement (session=\"837098ad3970ece255759ccf12b5dfa8\", element=\"ee48c994-7eeb-45ed-9f8b-0fe42ecbb0e9\")>,\n",
       " <selenium.webdriver.remote.webelement.WebElement (session=\"837098ad3970ece255759ccf12b5dfa8\", element=\"255daa6d-9777-479e-bb79-3f7c855d64bd\")>,\n",
       " <selenium.webdriver.remote.webelement.WebElement (session=\"837098ad3970ece255759ccf12b5dfa8\", element=\"c0e233d8-25fb-4a47-8631-895aa48b59e1\")>,\n",
       " <selenium.webdriver.remote.webelement.WebElement (session=\"837098ad3970ece255759ccf12b5dfa8\", element=\"d8ff1226-db5b-4cb8-8e5a-d28089c97711\")>,\n",
       " <selenium.webdriver.remote.webelement.WebElement (session=\"837098ad3970ece255759ccf12b5dfa8\", element=\"efab18dc-7a1d-4587-be4e-b4ae37a382f8\")>,\n",
       " <selenium.webdriver.remote.webelement.WebElement (session=\"837098ad3970ece255759ccf12b5dfa8\", element=\"0e0e58f8-9f2e-49d0-b446-581edf88457a\")>,\n",
       " <selenium.webdriver.remote.webelement.WebElement (session=\"837098ad3970ece255759ccf12b5dfa8\", element=\"26ae3ca6-a150-4282-835f-ff645ad72ffe\")>,\n",
       " <selenium.webdriver.remote.webelement.WebElement (session=\"837098ad3970ece255759ccf12b5dfa8\", element=\"7f5304db-5b8c-4c82-a4a7-a21e7fd3c990\")>,\n",
       " <selenium.webdriver.remote.webelement.WebElement (session=\"837098ad3970ece255759ccf12b5dfa8\", element=\"f4f2b87a-56bd-4274-b9ac-7aa8a2e994cd\")>,\n",
       " <selenium.webdriver.remote.webelement.WebElement (session=\"837098ad3970ece255759ccf12b5dfa8\", element=\"10c4117e-8a1c-464f-879f-c0d771dcdb59\")>,\n",
       " <selenium.webdriver.remote.webelement.WebElement (session=\"837098ad3970ece255759ccf12b5dfa8\", element=\"1cc46736-1895-47c4-816f-a9ccc82fe8f4\")>,\n",
       " <selenium.webdriver.remote.webelement.WebElement (session=\"837098ad3970ece255759ccf12b5dfa8\", element=\"606220e0-a439-4e55-8790-c29708811ab9\")>,\n",
       " <selenium.webdriver.remote.webelement.WebElement (session=\"837098ad3970ece255759ccf12b5dfa8\", element=\"32e005d7-b683-42a5-a30f-75013fbf7564\")>,\n",
       " <selenium.webdriver.remote.webelement.WebElement (session=\"837098ad3970ece255759ccf12b5dfa8\", element=\"1d1f519d-ee2e-46e1-b743-9b120507eb7d\")>,\n",
       " <selenium.webdriver.remote.webelement.WebElement (session=\"837098ad3970ece255759ccf12b5dfa8\", element=\"d2454d1b-4c0a-4fe9-903c-a2785ea285ac\")>,\n",
       " <selenium.webdriver.remote.webelement.WebElement (session=\"837098ad3970ece255759ccf12b5dfa8\", element=\"7b83c74e-ee42-4b07-90f2-3a5d2b9638e7\")>,\n",
       " <selenium.webdriver.remote.webelement.WebElement (session=\"837098ad3970ece255759ccf12b5dfa8\", element=\"305725a6-46aa-480c-b5f7-91cef552889b\")>,\n",
       " <selenium.webdriver.remote.webelement.WebElement (session=\"837098ad3970ece255759ccf12b5dfa8\", element=\"e8570121-0464-4ba3-ac46-c080b3451bca\")>,\n",
       " <selenium.webdriver.remote.webelement.WebElement (session=\"837098ad3970ece255759ccf12b5dfa8\", element=\"0da2206e-378d-4079-bde4-c71dbdbb3f75\")>,\n",
       " <selenium.webdriver.remote.webelement.WebElement (session=\"837098ad3970ece255759ccf12b5dfa8\", element=\"11e93279-3d9c-458c-b446-57245f520fe0\")>,\n",
       " <selenium.webdriver.remote.webelement.WebElement (session=\"837098ad3970ece255759ccf12b5dfa8\", element=\"69f5b64b-443d-4c38-b323-c9dcd7e45f50\")>,\n",
       " <selenium.webdriver.remote.webelement.WebElement (session=\"837098ad3970ece255759ccf12b5dfa8\", element=\"19b98c6d-2d89-424d-b9c9-60d3660c6302\")>,\n",
       " <selenium.webdriver.remote.webelement.WebElement (session=\"837098ad3970ece255759ccf12b5dfa8\", element=\"4cd6ff0b-149c-4e50-b5c6-83fd314e5d52\")>,\n",
       " <selenium.webdriver.remote.webelement.WebElement (session=\"837098ad3970ece255759ccf12b5dfa8\", element=\"ebb9ebf1-3e30-43d3-a8dd-cb3d46f5fd98\")>,\n",
       " <selenium.webdriver.remote.webelement.WebElement (session=\"837098ad3970ece255759ccf12b5dfa8\", element=\"f4937a89-290c-4a76-b574-09aaf1fed425\")>,\n",
       " <selenium.webdriver.remote.webelement.WebElement (session=\"837098ad3970ece255759ccf12b5dfa8\", element=\"ef53a99a-f0e1-4018-a439-2e101a05cc8a\")>,\n",
       " <selenium.webdriver.remote.webelement.WebElement (session=\"837098ad3970ece255759ccf12b5dfa8\", element=\"e4a0436c-7dda-400f-a912-7233a2194598\")>,\n",
       " <selenium.webdriver.remote.webelement.WebElement (session=\"837098ad3970ece255759ccf12b5dfa8\", element=\"e95c306b-7f85-4ca8-b773-bae60192227a\")>,\n",
       " <selenium.webdriver.remote.webelement.WebElement (session=\"837098ad3970ece255759ccf12b5dfa8\", element=\"0650ff39-91db-4da3-b411-b3e5aa99b235\")>,\n",
       " <selenium.webdriver.remote.webelement.WebElement (session=\"837098ad3970ece255759ccf12b5dfa8\", element=\"6187cfc3-debe-4701-a15a-b7eccbca1396\")>,\n",
       " <selenium.webdriver.remote.webelement.WebElement (session=\"837098ad3970ece255759ccf12b5dfa8\", element=\"b3ea9801-6e4e-4101-998a-fe967d3c3a1c\")>,\n",
       " <selenium.webdriver.remote.webelement.WebElement (session=\"837098ad3970ece255759ccf12b5dfa8\", element=\"6564abb0-7ed4-4cb5-9bd6-84f6020fafdf\")>,\n",
       " <selenium.webdriver.remote.webelement.WebElement (session=\"837098ad3970ece255759ccf12b5dfa8\", element=\"2cb678ed-0f00-4a3c-a995-d1c7c24e4946\")>,\n",
       " <selenium.webdriver.remote.webelement.WebElement (session=\"837098ad3970ece255759ccf12b5dfa8\", element=\"b441dd12-54c4-4c5a-b4e2-e5ce1b0e46f8\")>,\n",
       " <selenium.webdriver.remote.webelement.WebElement (session=\"837098ad3970ece255759ccf12b5dfa8\", element=\"9d8fd1fc-621b-4f1e-8eb8-9c317158d3f5\")>,\n",
       " <selenium.webdriver.remote.webelement.WebElement (session=\"837098ad3970ece255759ccf12b5dfa8\", element=\"493136cf-5f87-4ef2-8216-1591bcfeb14b\")>,\n",
       " <selenium.webdriver.remote.webelement.WebElement (session=\"837098ad3970ece255759ccf12b5dfa8\", element=\"d24881a1-7a03-4c17-ac60-f3a6d85014d8\")>,\n",
       " <selenium.webdriver.remote.webelement.WebElement (session=\"837098ad3970ece255759ccf12b5dfa8\", element=\"d607ffe4-9f20-4471-a1d1-c9cf8002abe3\")>,\n",
       " <selenium.webdriver.remote.webelement.WebElement (session=\"837098ad3970ece255759ccf12b5dfa8\", element=\"ac0529ca-f344-4746-bdc0-827ce98fb245\")>,\n",
       " <selenium.webdriver.remote.webelement.WebElement (session=\"837098ad3970ece255759ccf12b5dfa8\", element=\"5efd51b7-402e-4501-bd9f-10e31dd4c49e\")>,\n",
       " <selenium.webdriver.remote.webelement.WebElement (session=\"837098ad3970ece255759ccf12b5dfa8\", element=\"b9df3320-1d72-4f02-b7f4-175f76eac1aa\")>,\n",
       " <selenium.webdriver.remote.webelement.WebElement (session=\"837098ad3970ece255759ccf12b5dfa8\", element=\"e7a6691d-53eb-411c-88c1-65335b33f6f9\")>,\n",
       " <selenium.webdriver.remote.webelement.WebElement (session=\"837098ad3970ece255759ccf12b5dfa8\", element=\"c324f908-6e7e-4cb5-b118-75fe7897df87\")>,\n",
       " <selenium.webdriver.remote.webelement.WebElement (session=\"837098ad3970ece255759ccf12b5dfa8\", element=\"b5eb6adb-85be-4012-b4d6-bfb7c7afca0f\")>,\n",
       " <selenium.webdriver.remote.webelement.WebElement (session=\"837098ad3970ece255759ccf12b5dfa8\", element=\"689bcb3f-3104-427d-9514-0907952ad511\")>,\n",
       " <selenium.webdriver.remote.webelement.WebElement (session=\"837098ad3970ece255759ccf12b5dfa8\", element=\"ce85ffa4-0833-4878-976a-e95d528ca061\")>,\n",
       " <selenium.webdriver.remote.webelement.WebElement (session=\"837098ad3970ece255759ccf12b5dfa8\", element=\"09272994-3f71-400c-8c8b-f01bf1e3eea5\")>,\n",
       " <selenium.webdriver.remote.webelement.WebElement (session=\"837098ad3970ece255759ccf12b5dfa8\", element=\"1cc551f3-2555-4505-b9a4-d1fa0b3adfc7\")>,\n",
       " <selenium.webdriver.remote.webelement.WebElement (session=\"837098ad3970ece255759ccf12b5dfa8\", element=\"0f105dfa-2664-4b79-9972-3a6efbcc239e\")>,\n",
       " <selenium.webdriver.remote.webelement.WebElement (session=\"837098ad3970ece255759ccf12b5dfa8\", element=\"a0e6ff66-ecdc-491b-beb5-6c365199edaf\")>,\n",
       " <selenium.webdriver.remote.webelement.WebElement (session=\"837098ad3970ece255759ccf12b5dfa8\", element=\"fa1bfa79-41fc-4621-a13c-bdf140a8217b\")>,\n",
       " <selenium.webdriver.remote.webelement.WebElement (session=\"837098ad3970ece255759ccf12b5dfa8\", element=\"ca793607-6067-40e9-b160-c2749cbddd44\")>,\n",
       " <selenium.webdriver.remote.webelement.WebElement (session=\"837098ad3970ece255759ccf12b5dfa8\", element=\"2379fd7b-a154-4f47-bc4c-dd5939dee7dc\")>,\n",
       " <selenium.webdriver.remote.webelement.WebElement (session=\"837098ad3970ece255759ccf12b5dfa8\", element=\"fa7b2da9-2599-47e5-9cbe-4ce8a917ec7e\")>,\n",
       " <selenium.webdriver.remote.webelement.WebElement (session=\"837098ad3970ece255759ccf12b5dfa8\", element=\"da24e5b8-6879-41e5-be92-8ca5e87025bf\")>,\n",
       " <selenium.webdriver.remote.webelement.WebElement (session=\"837098ad3970ece255759ccf12b5dfa8\", element=\"920eea0e-09c3-4b6a-b2c2-73e8df9157c1\")>,\n",
       " <selenium.webdriver.remote.webelement.WebElement (session=\"837098ad3970ece255759ccf12b5dfa8\", element=\"50685ea5-49cf-40b5-a9fb-8bd4530a0a5a\")>,\n",
       " <selenium.webdriver.remote.webelement.WebElement (session=\"837098ad3970ece255759ccf12b5dfa8\", element=\"51d60cd8-671d-4c24-a2dc-790f318234d3\")>,\n",
       " <selenium.webdriver.remote.webelement.WebElement (session=\"837098ad3970ece255759ccf12b5dfa8\", element=\"8c454813-94e6-410b-bd61-cd92be72c782\")>,\n",
       " <selenium.webdriver.remote.webelement.WebElement (session=\"837098ad3970ece255759ccf12b5dfa8\", element=\"c7591bff-fb99-4c3c-b636-3abb9a733809\")>,\n",
       " <selenium.webdriver.remote.webelement.WebElement (session=\"837098ad3970ece255759ccf12b5dfa8\", element=\"cf15df6c-633d-444c-bbca-1fd960cdc2e9\")>,\n",
       " <selenium.webdriver.remote.webelement.WebElement (session=\"837098ad3970ece255759ccf12b5dfa8\", element=\"68a7d9c7-cda6-4549-b49a-94a4f77fdf86\")>,\n",
       " <selenium.webdriver.remote.webelement.WebElement (session=\"837098ad3970ece255759ccf12b5dfa8\", element=\"880220a5-8aa9-49a3-8488-5020a6b77f33\")>,\n",
       " <selenium.webdriver.remote.webelement.WebElement (session=\"837098ad3970ece255759ccf12b5dfa8\", element=\"291e791a-8cce-4f21-b93e-eb629c8b3207\")>,\n",
       " <selenium.webdriver.remote.webelement.WebElement (session=\"837098ad3970ece255759ccf12b5dfa8\", element=\"bed858f1-9511-46d7-bab7-eee8315c534b\")>,\n",
       " <selenium.webdriver.remote.webelement.WebElement (session=\"837098ad3970ece255759ccf12b5dfa8\", element=\"df3b0d10-fc29-4a1a-b3ed-764b643fb862\")>,\n",
       " <selenium.webdriver.remote.webelement.WebElement (session=\"837098ad3970ece255759ccf12b5dfa8\", element=\"8e173cb3-d52f-4fd8-8ea9-f6bca733d0e8\")>,\n",
       " <selenium.webdriver.remote.webelement.WebElement (session=\"837098ad3970ece255759ccf12b5dfa8\", element=\"9bcef71d-9fef-4418-985b-1c397db8c5a6\")>,\n",
       " <selenium.webdriver.remote.webelement.WebElement (session=\"837098ad3970ece255759ccf12b5dfa8\", element=\"0836b23b-b6ac-49f6-b349-8a8c8cdac1a6\")>,\n",
       " <selenium.webdriver.remote.webelement.WebElement (session=\"837098ad3970ece255759ccf12b5dfa8\", element=\"27450ead-1f8d-41a8-91e7-e48b3cc1e8b0\")>,\n",
       " <selenium.webdriver.remote.webelement.WebElement (session=\"837098ad3970ece255759ccf12b5dfa8\", element=\"05464c66-198b-4a28-b27b-cba423d4a5e5\")>,\n",
       " <selenium.webdriver.remote.webelement.WebElement (session=\"837098ad3970ece255759ccf12b5dfa8\", element=\"c05912cc-68c6-4eef-907d-eb47b8f5b615\")>,\n",
       " <selenium.webdriver.remote.webelement.WebElement (session=\"837098ad3970ece255759ccf12b5dfa8\", element=\"dbaea77f-656b-47b5-9d9d-a04e29badc84\")>,\n",
       " <selenium.webdriver.remote.webelement.WebElement (session=\"837098ad3970ece255759ccf12b5dfa8\", element=\"dfd82923-94c2-4c54-8c87-4367dc1a359e\")>,\n",
       " <selenium.webdriver.remote.webelement.WebElement (session=\"837098ad3970ece255759ccf12b5dfa8\", element=\"c9e9c347-31c7-4db1-b727-f8d02c218264\")>,\n",
       " <selenium.webdriver.remote.webelement.WebElement (session=\"837098ad3970ece255759ccf12b5dfa8\", element=\"f3eaf622-d289-45c4-bf95-2f08464c28bf\")>,\n",
       " <selenium.webdriver.remote.webelement.WebElement (session=\"837098ad3970ece255759ccf12b5dfa8\", element=\"2aaa59a9-a12d-4160-bf0c-59d0a2811434\")>,\n",
       " <selenium.webdriver.remote.webelement.WebElement (session=\"837098ad3970ece255759ccf12b5dfa8\", element=\"364d4ef9-8e1b-42cf-8656-5d76ff1d6f31\")>,\n",
       " <selenium.webdriver.remote.webelement.WebElement (session=\"837098ad3970ece255759ccf12b5dfa8\", element=\"b55279de-e9df-4a5b-9210-d5966eb1690f\")>,\n",
       " <selenium.webdriver.remote.webelement.WebElement (session=\"837098ad3970ece255759ccf12b5dfa8\", element=\"ff2387e1-b4f3-48d6-948d-dff76ee4b17a\")>,\n",
       " <selenium.webdriver.remote.webelement.WebElement (session=\"837098ad3970ece255759ccf12b5dfa8\", element=\"717c7e04-5c2b-4da6-b93e-d9a6e9c7b5e2\")>,\n",
       " <selenium.webdriver.remote.webelement.WebElement (session=\"837098ad3970ece255759ccf12b5dfa8\", element=\"13bdfdb7-f9f2-401b-a25d-ea4a0c554068\")>,\n",
       " <selenium.webdriver.remote.webelement.WebElement (session=\"837098ad3970ece255759ccf12b5dfa8\", element=\"8f48701d-c631-4a05-8c0c-2cc835ef405a\")>,\n",
       " <selenium.webdriver.remote.webelement.WebElement (session=\"837098ad3970ece255759ccf12b5dfa8\", element=\"13d19569-680a-478d-8008-27fbdb7488d9\")>,\n",
       " <selenium.webdriver.remote.webelement.WebElement (session=\"837098ad3970ece255759ccf12b5dfa8\", element=\"4bb7652e-abf4-47ab-834d-471ed0a714e5\")>,\n",
       " <selenium.webdriver.remote.webelement.WebElement (session=\"837098ad3970ece255759ccf12b5dfa8\", element=\"feea9094-274b-4910-8ba6-f5b826d64de0\")>,\n",
       " <selenium.webdriver.remote.webelement.WebElement (session=\"837098ad3970ece255759ccf12b5dfa8\", element=\"8e31de4e-ee65-408b-8e48-714f13058935\")>,\n",
       " <selenium.webdriver.remote.webelement.WebElement (session=\"837098ad3970ece255759ccf12b5dfa8\", element=\"e1e7ff0c-0efe-4cd7-848a-8968e5af684f\")>,\n",
       " <selenium.webdriver.remote.webelement.WebElement (session=\"837098ad3970ece255759ccf12b5dfa8\", element=\"9ef0680d-4741-4379-af24-24d81e1672b7\")>,\n",
       " <selenium.webdriver.remote.webelement.WebElement (session=\"837098ad3970ece255759ccf12b5dfa8\", element=\"ce2071cb-8d6b-4ab6-99b5-829ef2a6ff14\")>,\n",
       " <selenium.webdriver.remote.webelement.WebElement (session=\"837098ad3970ece255759ccf12b5dfa8\", element=\"6d62355d-cc12-4997-a66d-81cb8fb83149\")>,\n",
       " <selenium.webdriver.remote.webelement.WebElement (session=\"837098ad3970ece255759ccf12b5dfa8\", element=\"9885402f-1030-45a2-ac3d-00318c4aed11\")>,\n",
       " <selenium.webdriver.remote.webelement.WebElement (session=\"837098ad3970ece255759ccf12b5dfa8\", element=\"984ee0c9-e66e-49fa-a4f1-8b3125a8ea73\")>,\n",
       " <selenium.webdriver.remote.webelement.WebElement (session=\"837098ad3970ece255759ccf12b5dfa8\", element=\"7b17df44-d19c-495a-ad28-816f994cfd4d\")>,\n",
       " <selenium.webdriver.remote.webelement.WebElement (session=\"837098ad3970ece255759ccf12b5dfa8\", element=\"5b7b7742-d85d-48c8-bce0-f87504249136\")>,\n",
       " <selenium.webdriver.remote.webelement.WebElement (session=\"837098ad3970ece255759ccf12b5dfa8\", element=\"eb65db8a-9398-4da5-8e2e-ad11aca824eb\")>,\n",
       " <selenium.webdriver.remote.webelement.WebElement (session=\"837098ad3970ece255759ccf12b5dfa8\", element=\"be63941b-ae6a-41ff-b71d-eb800035c0a3\")>,\n",
       " <selenium.webdriver.remote.webelement.WebElement (session=\"837098ad3970ece255759ccf12b5dfa8\", element=\"4912a1df-c69b-4fe2-8511-e0f6ae976048\")>,\n",
       " <selenium.webdriver.remote.webelement.WebElement (session=\"837098ad3970ece255759ccf12b5dfa8\", element=\"db990c5b-be0a-446e-90cc-26533ecd2b20\")>,\n",
       " <selenium.webdriver.remote.webelement.WebElement (session=\"837098ad3970ece255759ccf12b5dfa8\", element=\"641a3b45-96d1-4f73-a2ce-edd43cefa06d\")>,\n",
       " <selenium.webdriver.remote.webelement.WebElement (session=\"837098ad3970ece255759ccf12b5dfa8\", element=\"f703e95f-281e-49a8-a722-24c2f12be772\")>,\n",
       " <selenium.webdriver.remote.webelement.WebElement (session=\"837098ad3970ece255759ccf12b5dfa8\", element=\"a7bd64d0-1207-493a-97ff-713c1a6df4f8\")>,\n",
       " <selenium.webdriver.remote.webelement.WebElement (session=\"837098ad3970ece255759ccf12b5dfa8\", element=\"946fe2b4-3f83-4e68-957e-dc7ef1717adc\")>,\n",
       " <selenium.webdriver.remote.webelement.WebElement (session=\"837098ad3970ece255759ccf12b5dfa8\", element=\"c5849b45-15c1-4b3c-bd0e-feb3493c716d\")>,\n",
       " <selenium.webdriver.remote.webelement.WebElement (session=\"837098ad3970ece255759ccf12b5dfa8\", element=\"eefc78e0-189b-4907-8f66-1a155c4e487b\")>,\n",
       " <selenium.webdriver.remote.webelement.WebElement (session=\"837098ad3970ece255759ccf12b5dfa8\", element=\"8c56fbcb-95d0-4a3a-aecd-e8cef2ea3e2e\")>,\n",
       " <selenium.webdriver.remote.webelement.WebElement (session=\"837098ad3970ece255759ccf12b5dfa8\", element=\"7dd44292-a78a-45c7-bb39-c8366d8c803d\")>,\n",
       " <selenium.webdriver.remote.webelement.WebElement (session=\"837098ad3970ece255759ccf12b5dfa8\", element=\"67c9371d-7483-44c1-9aff-213b52cb6983\")>,\n",
       " <selenium.webdriver.remote.webelement.WebElement (session=\"837098ad3970ece255759ccf12b5dfa8\", element=\"57adfb5c-0f10-4220-809a-7f2e0cd2f6cb\")>,\n",
       " <selenium.webdriver.remote.webelement.WebElement (session=\"837098ad3970ece255759ccf12b5dfa8\", element=\"9abbd388-fe1d-4566-99d1-471a34d8d5d9\")>,\n",
       " <selenium.webdriver.remote.webelement.WebElement (session=\"837098ad3970ece255759ccf12b5dfa8\", element=\"203803ba-e19a-4537-aa06-f34f66dbb1ba\")>,\n",
       " <selenium.webdriver.remote.webelement.WebElement (session=\"837098ad3970ece255759ccf12b5dfa8\", element=\"a2929e1f-19a2-4899-91e6-e29bc91f4868\")>,\n",
       " <selenium.webdriver.remote.webelement.WebElement (session=\"837098ad3970ece255759ccf12b5dfa8\", element=\"b25cf060-957d-4fc2-9a92-6bec6c419edd\")>,\n",
       " <selenium.webdriver.remote.webelement.WebElement (session=\"837098ad3970ece255759ccf12b5dfa8\", element=\"10fa4f57-633d-4f4f-8023-efa4879eb184\")>,\n",
       " <selenium.webdriver.remote.webelement.WebElement (session=\"837098ad3970ece255759ccf12b5dfa8\", element=\"0e68bda8-5ade-4576-a78e-28d196ccfc4b\")>,\n",
       " <selenium.webdriver.remote.webelement.WebElement (session=\"837098ad3970ece255759ccf12b5dfa8\", element=\"c9678b44-fd77-429c-aa6e-609ade03bf8f\")>,\n",
       " <selenium.webdriver.remote.webelement.WebElement (session=\"837098ad3970ece255759ccf12b5dfa8\", element=\"d328ba01-2951-4c76-b2b3-56488c977d11\")>,\n",
       " <selenium.webdriver.remote.webelement.WebElement (session=\"837098ad3970ece255759ccf12b5dfa8\", element=\"da2991c8-8247-4758-b7a7-daba740c86cd\")>,\n",
       " <selenium.webdriver.remote.webelement.WebElement (session=\"837098ad3970ece255759ccf12b5dfa8\", element=\"8fa0fb39-cb11-4b41-ad52-6bb0501f1bd1\")>,\n",
       " <selenium.webdriver.remote.webelement.WebElement (session=\"837098ad3970ece255759ccf12b5dfa8\", element=\"48ab9ba1-8357-4465-9eed-f7f6a72c42d2\")>,\n",
       " <selenium.webdriver.remote.webelement.WebElement (session=\"837098ad3970ece255759ccf12b5dfa8\", element=\"7119f3d6-f07c-493a-af59-7304205bc4b7\")>,\n",
       " <selenium.webdriver.remote.webelement.WebElement (session=\"837098ad3970ece255759ccf12b5dfa8\", element=\"4f849a60-8be9-42c0-8eed-33de4e4a15c9\")>,\n",
       " <selenium.webdriver.remote.webelement.WebElement (session=\"837098ad3970ece255759ccf12b5dfa8\", element=\"55959d99-800e-435f-8dd6-13bc6640a900\")>,\n",
       " <selenium.webdriver.remote.webelement.WebElement (session=\"837098ad3970ece255759ccf12b5dfa8\", element=\"0f94809a-3753-44d0-a9ec-bf9ee3cb19cb\")>,\n",
       " <selenium.webdriver.remote.webelement.WebElement (session=\"837098ad3970ece255759ccf12b5dfa8\", element=\"6e9c1845-72d7-43c9-9be8-50f4f625d5f3\")>,\n",
       " <selenium.webdriver.remote.webelement.WebElement (session=\"837098ad3970ece255759ccf12b5dfa8\", element=\"6cb2fce6-fc3d-48ae-8ccf-088454ec32fb\")>,\n",
       " <selenium.webdriver.remote.webelement.WebElement (session=\"837098ad3970ece255759ccf12b5dfa8\", element=\"46222be0-abf6-4867-a2ea-a7208b5d2a68\")>,\n",
       " <selenium.webdriver.remote.webelement.WebElement (session=\"837098ad3970ece255759ccf12b5dfa8\", element=\"f1d11ee4-d87a-4b78-b200-f25c4b725689\")>,\n",
       " <selenium.webdriver.remote.webelement.WebElement (session=\"837098ad3970ece255759ccf12b5dfa8\", element=\"4496e6f0-4134-41da-ae9f-324e7b9aae64\")>,\n",
       " <selenium.webdriver.remote.webelement.WebElement (session=\"837098ad3970ece255759ccf12b5dfa8\", element=\"3920e2c2-99b2-4a2f-800f-67509877a4c9\")>,\n",
       " <selenium.webdriver.remote.webelement.WebElement (session=\"837098ad3970ece255759ccf12b5dfa8\", element=\"390efdf5-96c3-4f29-a242-3fb15fa5f1c9\")>,\n",
       " <selenium.webdriver.remote.webelement.WebElement (session=\"837098ad3970ece255759ccf12b5dfa8\", element=\"0ddf2bad-9459-49cb-b723-c18e86155fc8\")>,\n",
       " <selenium.webdriver.remote.webelement.WebElement (session=\"837098ad3970ece255759ccf12b5dfa8\", element=\"083069ff-81a5-4e6d-9630-48ef495bba91\")>,\n",
       " <selenium.webdriver.remote.webelement.WebElement (session=\"837098ad3970ece255759ccf12b5dfa8\", element=\"8dcc04e5-2cbb-4d52-bfc7-bcee8b099701\")>,\n",
       " <selenium.webdriver.remote.webelement.WebElement (session=\"837098ad3970ece255759ccf12b5dfa8\", element=\"c9842182-6cef-4fe0-82d7-49e435086890\")>,\n",
       " <selenium.webdriver.remote.webelement.WebElement (session=\"837098ad3970ece255759ccf12b5dfa8\", element=\"faca5482-5df6-4bab-a9fe-eab781cc8734\")>,\n",
       " <selenium.webdriver.remote.webelement.WebElement (session=\"837098ad3970ece255759ccf12b5dfa8\", element=\"e9aed252-7e64-497a-b2bf-f12474949abe\")>,\n",
       " <selenium.webdriver.remote.webelement.WebElement (session=\"837098ad3970ece255759ccf12b5dfa8\", element=\"99a00580-6db0-4154-a2bf-bf098324178e\")>,\n",
       " <selenium.webdriver.remote.webelement.WebElement (session=\"837098ad3970ece255759ccf12b5dfa8\", element=\"40df61c2-236c-4db9-b715-0e5531fa54a6\")>,\n",
       " <selenium.webdriver.remote.webelement.WebElement (session=\"837098ad3970ece255759ccf12b5dfa8\", element=\"4eb298f4-b087-432e-90c2-9be34f1d24be\")>,\n",
       " <selenium.webdriver.remote.webelement.WebElement (session=\"837098ad3970ece255759ccf12b5dfa8\", element=\"d2c8dcd5-e0e8-45f6-8645-38042245489a\")>,\n",
       " <selenium.webdriver.remote.webelement.WebElement (session=\"837098ad3970ece255759ccf12b5dfa8\", element=\"65d77c29-3e63-4847-b720-5894c9b07642\")>,\n",
       " <selenium.webdriver.remote.webelement.WebElement (session=\"837098ad3970ece255759ccf12b5dfa8\", element=\"db41cc7b-421f-4b0a-8661-aa958d94ac6c\")>,\n",
       " <selenium.webdriver.remote.webelement.WebElement (session=\"837098ad3970ece255759ccf12b5dfa8\", element=\"4541ac7f-3be2-4a2e-8b8e-ad8ae5ba9bc3\")>,\n",
       " <selenium.webdriver.remote.webelement.WebElement (session=\"837098ad3970ece255759ccf12b5dfa8\", element=\"35edc1ed-1a6a-4ab8-8096-b5e6b889657d\")>,\n",
       " <selenium.webdriver.remote.webelement.WebElement (session=\"837098ad3970ece255759ccf12b5dfa8\", element=\"3122a87f-3b77-499b-aea7-4ddb0aa22935\")>,\n",
       " <selenium.webdriver.remote.webelement.WebElement (session=\"837098ad3970ece255759ccf12b5dfa8\", element=\"d3ca239c-aa71-40be-b752-8e03880a5d4d\")>,\n",
       " <selenium.webdriver.remote.webelement.WebElement (session=\"837098ad3970ece255759ccf12b5dfa8\", element=\"8ce59594-c7a4-448f-8370-5629bf5aeb57\")>,\n",
       " <selenium.webdriver.remote.webelement.WebElement (session=\"837098ad3970ece255759ccf12b5dfa8\", element=\"a9dfd23f-f978-4ca9-bef9-9d64336952d5\")>,\n",
       " <selenium.webdriver.remote.webelement.WebElement (session=\"837098ad3970ece255759ccf12b5dfa8\", element=\"2c4a9e22-de06-4727-bb25-73d9bb1c5817\")>,\n",
       " <selenium.webdriver.remote.webelement.WebElement (session=\"837098ad3970ece255759ccf12b5dfa8\", element=\"308f131f-a9d0-4365-aca2-2d7de04785df\")>,\n",
       " <selenium.webdriver.remote.webelement.WebElement (session=\"837098ad3970ece255759ccf12b5dfa8\", element=\"7de71fbe-8b50-460f-97d5-56aa5c5fee2f\")>,\n",
       " <selenium.webdriver.remote.webelement.WebElement (session=\"837098ad3970ece255759ccf12b5dfa8\", element=\"7e70266a-64fa-49b7-823c-1e0e57ad5e3d\")>,\n",
       " <selenium.webdriver.remote.webelement.WebElement (session=\"837098ad3970ece255759ccf12b5dfa8\", element=\"690e7f39-5067-4199-abc6-26393583968e\")>,\n",
       " <selenium.webdriver.remote.webelement.WebElement (session=\"837098ad3970ece255759ccf12b5dfa8\", element=\"de359af3-531b-4bb9-ae97-a493c353a0ee\")>,\n",
       " <selenium.webdriver.remote.webelement.WebElement (session=\"837098ad3970ece255759ccf12b5dfa8\", element=\"a800f4c2-038d-4d5d-abcf-0a5bae837d6a\")>,\n",
       " <selenium.webdriver.remote.webelement.WebElement (session=\"837098ad3970ece255759ccf12b5dfa8\", element=\"db214b2a-b477-4683-9b00-266bd7109653\")>,\n",
       " <selenium.webdriver.remote.webelement.WebElement (session=\"837098ad3970ece255759ccf12b5dfa8\", element=\"61a0d67c-d426-4e4f-b7d5-7e34f9f8e5bc\")>,\n",
       " <selenium.webdriver.remote.webelement.WebElement (session=\"837098ad3970ece255759ccf12b5dfa8\", element=\"3067ed69-810d-4b26-b9e2-7a81b052f97d\")>,\n",
       " <selenium.webdriver.remote.webelement.WebElement (session=\"837098ad3970ece255759ccf12b5dfa8\", element=\"760504ef-e497-466e-a381-acd78fcc927f\")>,\n",
       " <selenium.webdriver.remote.webelement.WebElement (session=\"837098ad3970ece255759ccf12b5dfa8\", element=\"29f8f88c-4e83-4735-8862-6a52dff2d95a\")>,\n",
       " <selenium.webdriver.remote.webelement.WebElement (session=\"837098ad3970ece255759ccf12b5dfa8\", element=\"1b871883-6e23-488f-a078-83da347041b3\")>,\n",
       " <selenium.webdriver.remote.webelement.WebElement (session=\"837098ad3970ece255759ccf12b5dfa8\", element=\"a78a01c2-6b35-43f1-85f9-bdb7ae1ac08a\")>,\n",
       " <selenium.webdriver.remote.webelement.WebElement (session=\"837098ad3970ece255759ccf12b5dfa8\", element=\"59721710-bad4-42ff-b073-52a84006ca29\")>,\n",
       " <selenium.webdriver.remote.webelement.WebElement (session=\"837098ad3970ece255759ccf12b5dfa8\", element=\"646e1b66-493d-43f9-8161-f76a80e7ec9f\")>,\n",
       " <selenium.webdriver.remote.webelement.WebElement (session=\"837098ad3970ece255759ccf12b5dfa8\", element=\"d9df4466-5e26-4afa-9f41-f9a8c38c2193\")>,\n",
       " <selenium.webdriver.remote.webelement.WebElement (session=\"837098ad3970ece255759ccf12b5dfa8\", element=\"088a174b-7c58-405b-8d71-6581660f29b3\")>,\n",
       " <selenium.webdriver.remote.webelement.WebElement (session=\"837098ad3970ece255759ccf12b5dfa8\", element=\"8c2fcd5c-86be-4678-8a6c-7a6f4bc027fb\")>,\n",
       " <selenium.webdriver.remote.webelement.WebElement (session=\"837098ad3970ece255759ccf12b5dfa8\", element=\"cda8c801-e503-4fdb-9b0c-6f9f6b8e4889\")>,\n",
       " <selenium.webdriver.remote.webelement.WebElement (session=\"837098ad3970ece255759ccf12b5dfa8\", element=\"f6795e51-f850-4c8b-a661-1d5213cc58cb\")>,\n",
       " <selenium.webdriver.remote.webelement.WebElement (session=\"837098ad3970ece255759ccf12b5dfa8\", element=\"fd409bf7-287d-465f-9ed5-0a5f76b19afe\")>,\n",
       " <selenium.webdriver.remote.webelement.WebElement (session=\"837098ad3970ece255759ccf12b5dfa8\", element=\"4014f680-74cf-48eb-85d0-9cd2a2bfb139\")>,\n",
       " <selenium.webdriver.remote.webelement.WebElement (session=\"837098ad3970ece255759ccf12b5dfa8\", element=\"6959b7c4-75da-47e2-bd41-55b9d1f3e3aa\")>,\n",
       " <selenium.webdriver.remote.webelement.WebElement (session=\"837098ad3970ece255759ccf12b5dfa8\", element=\"e63e8cf6-176b-4bcb-ab52-79ea79d007b2\")>,\n",
       " <selenium.webdriver.remote.webelement.WebElement (session=\"837098ad3970ece255759ccf12b5dfa8\", element=\"dd70f68d-ac3e-4072-8c87-56143d45b7ac\")>,\n",
       " <selenium.webdriver.remote.webelement.WebElement (session=\"837098ad3970ece255759ccf12b5dfa8\", element=\"4b835f15-5764-40a4-8eac-469a64187c16\")>,\n",
       " <selenium.webdriver.remote.webelement.WebElement (session=\"837098ad3970ece255759ccf12b5dfa8\", element=\"879e9acd-60d6-4ee0-bc49-27b5e598abaf\")>,\n",
       " <selenium.webdriver.remote.webelement.WebElement (session=\"837098ad3970ece255759ccf12b5dfa8\", element=\"1bcb6a96-4430-4bd9-ac25-2666ecd42f49\")>,\n",
       " <selenium.webdriver.remote.webelement.WebElement (session=\"837098ad3970ece255759ccf12b5dfa8\", element=\"a8d28e5d-9307-4e42-9863-ef6868c1f126\")>,\n",
       " <selenium.webdriver.remote.webelement.WebElement (session=\"837098ad3970ece255759ccf12b5dfa8\", element=\"a0f94516-26c5-4392-8633-cb1a04777b89\")>,\n",
       " <selenium.webdriver.remote.webelement.WebElement (session=\"837098ad3970ece255759ccf12b5dfa8\", element=\"810028a2-e32c-49ca-8721-e6030c223058\")>,\n",
       " <selenium.webdriver.remote.webelement.WebElement (session=\"837098ad3970ece255759ccf12b5dfa8\", element=\"dcaf2633-eca4-4ff6-b247-5e42c8637561\")>,\n",
       " <selenium.webdriver.remote.webelement.WebElement (session=\"837098ad3970ece255759ccf12b5dfa8\", element=\"126e624f-78f7-4af1-80ac-95d7ded34a1a\")>,\n",
       " <selenium.webdriver.remote.webelement.WebElement (session=\"837098ad3970ece255759ccf12b5dfa8\", element=\"c8909d1a-0c7a-4fcd-bd78-3de1cd2d7594\")>,\n",
       " <selenium.webdriver.remote.webelement.WebElement (session=\"837098ad3970ece255759ccf12b5dfa8\", element=\"5ed1363f-80fc-4eb7-b860-f9658672f9cf\")>,\n",
       " <selenium.webdriver.remote.webelement.WebElement (session=\"837098ad3970ece255759ccf12b5dfa8\", element=\"dcf0479c-d259-4d46-a409-9f4ac8ce5dcb\")>,\n",
       " <selenium.webdriver.remote.webelement.WebElement (session=\"837098ad3970ece255759ccf12b5dfa8\", element=\"86cdf17e-0241-4ed9-9a32-f70bb1dbc747\")>,\n",
       " <selenium.webdriver.remote.webelement.WebElement (session=\"837098ad3970ece255759ccf12b5dfa8\", element=\"2a32c8a9-5ae7-4e6b-983c-11bed51f1a0c\")>,\n",
       " <selenium.webdriver.remote.webelement.WebElement (session=\"837098ad3970ece255759ccf12b5dfa8\", element=\"b7133083-fa80-4583-917c-8e12ec5e2e89\")>,\n",
       " <selenium.webdriver.remote.webelement.WebElement (session=\"837098ad3970ece255759ccf12b5dfa8\", element=\"6bf2a734-1210-4c59-8149-001321a0c9a8\")>,\n",
       " <selenium.webdriver.remote.webelement.WebElement (session=\"837098ad3970ece255759ccf12b5dfa8\", element=\"bc1a96ea-1817-49e7-8b85-7eac4db24726\")>,\n",
       " <selenium.webdriver.remote.webelement.WebElement (session=\"837098ad3970ece255759ccf12b5dfa8\", element=\"6478bb54-bc6c-44f7-99b1-ee087b078320\")>,\n",
       " <selenium.webdriver.remote.webelement.WebElement (session=\"837098ad3970ece255759ccf12b5dfa8\", element=\"24b4b08a-15dc-468f-a11a-847e20e43bb3\")>,\n",
       " <selenium.webdriver.remote.webelement.WebElement (session=\"837098ad3970ece255759ccf12b5dfa8\", element=\"1009d54d-6eac-414c-afea-44566ba45f7c\")>,\n",
       " <selenium.webdriver.remote.webelement.WebElement (session=\"837098ad3970ece255759ccf12b5dfa8\", element=\"b097d87a-892f-4522-837c-230ed7e7d3e3\")>,\n",
       " <selenium.webdriver.remote.webelement.WebElement (session=\"837098ad3970ece255759ccf12b5dfa8\", element=\"df9e6790-0ab6-4d3c-8c60-b3ab1f94a887\")>,\n",
       " <selenium.webdriver.remote.webelement.WebElement (session=\"837098ad3970ece255759ccf12b5dfa8\", element=\"4bd14caa-7b33-4817-81b0-10f819c3360f\")>,\n",
       " <selenium.webdriver.remote.webelement.WebElement (session=\"837098ad3970ece255759ccf12b5dfa8\", element=\"5bfebe2f-742f-48cc-8c58-d3cf964b0009\")>,\n",
       " <selenium.webdriver.remote.webelement.WebElement (session=\"837098ad3970ece255759ccf12b5dfa8\", element=\"170cdc6d-642b-4984-935e-fdc948c6fc9a\")>,\n",
       " <selenium.webdriver.remote.webelement.WebElement (session=\"837098ad3970ece255759ccf12b5dfa8\", element=\"6cf247aa-fd55-4c2a-a69d-4ce2f8ba8579\")>,\n",
       " <selenium.webdriver.remote.webelement.WebElement (session=\"837098ad3970ece255759ccf12b5dfa8\", element=\"45b2c058-bb85-4bf5-aaf2-c1667e5cc3af\")>,\n",
       " <selenium.webdriver.remote.webelement.WebElement (session=\"837098ad3970ece255759ccf12b5dfa8\", element=\"85c7aa01-0ce5-4851-93a8-21b72d3ceb78\")>,\n",
       " <selenium.webdriver.remote.webelement.WebElement (session=\"837098ad3970ece255759ccf12b5dfa8\", element=\"0a18f378-ff1a-4297-b5f9-5f7e960c26ea\")>,\n",
       " <selenium.webdriver.remote.webelement.WebElement (session=\"837098ad3970ece255759ccf12b5dfa8\", element=\"312bb90a-0681-4cdc-8cf2-976f4a575ea1\")>,\n",
       " <selenium.webdriver.remote.webelement.WebElement (session=\"837098ad3970ece255759ccf12b5dfa8\", element=\"42c1d58e-c446-4af5-b4f7-8026b8c8c96f\")>,\n",
       " <selenium.webdriver.remote.webelement.WebElement (session=\"837098ad3970ece255759ccf12b5dfa8\", element=\"889d1f03-12c3-4d7e-b7f8-af6e7d7b9689\")>,\n",
       " <selenium.webdriver.remote.webelement.WebElement (session=\"837098ad3970ece255759ccf12b5dfa8\", element=\"d5d32c46-f00a-4059-8261-5c98f0ece5a2\")>,\n",
       " <selenium.webdriver.remote.webelement.WebElement (session=\"837098ad3970ece255759ccf12b5dfa8\", element=\"20a4164c-116f-4c6e-8cba-cac893ab8690\")>,\n",
       " <selenium.webdriver.remote.webelement.WebElement (session=\"837098ad3970ece255759ccf12b5dfa8\", element=\"d9c8324f-e376-4c17-bb4c-d0ff80f3b05f\")>,\n",
       " <selenium.webdriver.remote.webelement.WebElement (session=\"837098ad3970ece255759ccf12b5dfa8\", element=\"40f282df-d6a9-4d33-9c2b-2069188b6f0e\")>,\n",
       " <selenium.webdriver.remote.webelement.WebElement (session=\"837098ad3970ece255759ccf12b5dfa8\", element=\"5d14448e-339e-47fe-b04f-1dfee5fa6230\")>,\n",
       " <selenium.webdriver.remote.webelement.WebElement (session=\"837098ad3970ece255759ccf12b5dfa8\", element=\"544c713f-93a6-45b4-9fe3-3c7cf5556a12\")>,\n",
       " <selenium.webdriver.remote.webelement.WebElement (session=\"837098ad3970ece255759ccf12b5dfa8\", element=\"17bdc8da-e862-4456-9b77-5add027423cc\")>,\n",
       " <selenium.webdriver.remote.webelement.WebElement (session=\"837098ad3970ece255759ccf12b5dfa8\", element=\"36480c2d-6f22-439d-a29c-413b59c91744\")>,\n",
       " <selenium.webdriver.remote.webelement.WebElement (session=\"837098ad3970ece255759ccf12b5dfa8\", element=\"195b1c10-f533-42ab-9429-658e97e4904c\")>,\n",
       " <selenium.webdriver.remote.webelement.WebElement (session=\"837098ad3970ece255759ccf12b5dfa8\", element=\"263e491d-5b7d-491a-9349-72c1cafb9778\")>,\n",
       " <selenium.webdriver.remote.webelement.WebElement (session=\"837098ad3970ece255759ccf12b5dfa8\", element=\"67a7972c-943c-41ba-9cf2-acc289df6041\")>,\n",
       " <selenium.webdriver.remote.webelement.WebElement (session=\"837098ad3970ece255759ccf12b5dfa8\", element=\"4d454697-969f-4075-bd90-ff2432f46ae9\")>,\n",
       " <selenium.webdriver.remote.webelement.WebElement (session=\"837098ad3970ece255759ccf12b5dfa8\", element=\"f1ced1d1-8335-4785-a692-6d06546f5092\")>,\n",
       " <selenium.webdriver.remote.webelement.WebElement (session=\"837098ad3970ece255759ccf12b5dfa8\", element=\"ba2dad61-68b5-4694-aa58-b3e48d549c34\")>,\n",
       " <selenium.webdriver.remote.webelement.WebElement (session=\"837098ad3970ece255759ccf12b5dfa8\", element=\"bf750e55-a8d8-44f7-8088-4d96833a3551\")>,\n",
       " <selenium.webdriver.remote.webelement.WebElement (session=\"837098ad3970ece255759ccf12b5dfa8\", element=\"4a44db1f-f1d5-4694-b9d8-46191cfad62f\")>,\n",
       " <selenium.webdriver.remote.webelement.WebElement (session=\"837098ad3970ece255759ccf12b5dfa8\", element=\"4c24a020-3b5b-4c3b-b2f8-86f531e81094\")>,\n",
       " <selenium.webdriver.remote.webelement.WebElement (session=\"837098ad3970ece255759ccf12b5dfa8\", element=\"473a2888-b016-4a71-b780-e2397a0565f9\")>,\n",
       " <selenium.webdriver.remote.webelement.WebElement (session=\"837098ad3970ece255759ccf12b5dfa8\", element=\"d5e52b76-e91a-47b9-b568-8e8e4edb0f85\")>,\n",
       " <selenium.webdriver.remote.webelement.WebElement (session=\"837098ad3970ece255759ccf12b5dfa8\", element=\"463a269e-d70f-4a09-ab7f-0e1b893f899e\")>,\n",
       " <selenium.webdriver.remote.webelement.WebElement (session=\"837098ad3970ece255759ccf12b5dfa8\", element=\"741c3f6c-8541-41fe-b69d-e595c4a31ed6\")>,\n",
       " <selenium.webdriver.remote.webelement.WebElement (session=\"837098ad3970ece255759ccf12b5dfa8\", element=\"367a349a-db3e-4690-9b3d-5de8a147e6f7\")>,\n",
       " <selenium.webdriver.remote.webelement.WebElement (session=\"837098ad3970ece255759ccf12b5dfa8\", element=\"d1cd0616-3c9b-4583-b4d7-8a9a1343324e\")>,\n",
       " <selenium.webdriver.remote.webelement.WebElement (session=\"837098ad3970ece255759ccf12b5dfa8\", element=\"bea4135b-1ae2-4af0-aa05-8653069395e7\")>,\n",
       " <selenium.webdriver.remote.webelement.WebElement (session=\"837098ad3970ece255759ccf12b5dfa8\", element=\"5d16bef1-d8c4-497c-b056-5b9eaa581a21\")>,\n",
       " <selenium.webdriver.remote.webelement.WebElement (session=\"837098ad3970ece255759ccf12b5dfa8\", element=\"ff2cf547-9f78-40b8-b3be-8d30ef5b20aa\")>,\n",
       " <selenium.webdriver.remote.webelement.WebElement (session=\"837098ad3970ece255759ccf12b5dfa8\", element=\"2973b212-3c00-4421-ac14-7f932444b343\")>,\n",
       " <selenium.webdriver.remote.webelement.WebElement (session=\"837098ad3970ece255759ccf12b5dfa8\", element=\"47652960-f4f0-4599-a303-5d439ccce005\")>,\n",
       " <selenium.webdriver.remote.webelement.WebElement (session=\"837098ad3970ece255759ccf12b5dfa8\", element=\"7b321000-eaa6-41f8-a1a8-cc5a8a8b00b6\")>,\n",
       " <selenium.webdriver.remote.webelement.WebElement (session=\"837098ad3970ece255759ccf12b5dfa8\", element=\"3a3c7773-2678-46ce-8ca6-cb58f7c4f46a\")>,\n",
       " <selenium.webdriver.remote.webelement.WebElement (session=\"837098ad3970ece255759ccf12b5dfa8\", element=\"5171fd80-df87-4108-b18a-af3cf6fde8ba\")>,\n",
       " <selenium.webdriver.remote.webelement.WebElement (session=\"837098ad3970ece255759ccf12b5dfa8\", element=\"e479ad91-a3ac-412f-8aaf-06d085a6bf99\")>,\n",
       " <selenium.webdriver.remote.webelement.WebElement (session=\"837098ad3970ece255759ccf12b5dfa8\", element=\"e7daa505-4a49-4328-b775-4040bee569ca\")>,\n",
       " <selenium.webdriver.remote.webelement.WebElement (session=\"837098ad3970ece255759ccf12b5dfa8\", element=\"835a6520-0a86-47c4-95b5-f27bef6bd279\")>,\n",
       " <selenium.webdriver.remote.webelement.WebElement (session=\"837098ad3970ece255759ccf12b5dfa8\", element=\"411239c2-5c38-4432-94da-d9ac3ae7aacc\")>,\n",
       " <selenium.webdriver.remote.webelement.WebElement (session=\"837098ad3970ece255759ccf12b5dfa8\", element=\"c99ebdc3-9de8-4788-b2a3-5f82c3e2a4f7\")>,\n",
       " <selenium.webdriver.remote.webelement.WebElement (session=\"837098ad3970ece255759ccf12b5dfa8\", element=\"ae9b545e-ed1d-487d-b8a9-dd208041012b\")>,\n",
       " <selenium.webdriver.remote.webelement.WebElement (session=\"837098ad3970ece255759ccf12b5dfa8\", element=\"426413ee-892e-4f1a-8940-803617598a4e\")>,\n",
       " <selenium.webdriver.remote.webelement.WebElement (session=\"837098ad3970ece255759ccf12b5dfa8\", element=\"1f730329-b386-4051-ab33-69768378ca50\")>,\n",
       " <selenium.webdriver.remote.webelement.WebElement (session=\"837098ad3970ece255759ccf12b5dfa8\", element=\"74e3e43b-4ade-4427-b9e0-458fc3a6ec86\")>,\n",
       " <selenium.webdriver.remote.webelement.WebElement (session=\"837098ad3970ece255759ccf12b5dfa8\", element=\"8a877955-afdf-46cd-9056-2447163c4b15\")>,\n",
       " <selenium.webdriver.remote.webelement.WebElement (session=\"837098ad3970ece255759ccf12b5dfa8\", element=\"e39f67e2-5620-41b7-9c17-8e76c8689dac\")>,\n",
       " <selenium.webdriver.remote.webelement.WebElement (session=\"837098ad3970ece255759ccf12b5dfa8\", element=\"44270c3b-d31e-4be5-b8fc-9428d0ccbc7f\")>,\n",
       " <selenium.webdriver.remote.webelement.WebElement (session=\"837098ad3970ece255759ccf12b5dfa8\", element=\"eb2fb634-f349-45bc-8da2-61837886ac7e\")>,\n",
       " <selenium.webdriver.remote.webelement.WebElement (session=\"837098ad3970ece255759ccf12b5dfa8\", element=\"c5bc21f6-3cbf-4e89-b847-6c9a7d0914d0\")>,\n",
       " <selenium.webdriver.remote.webelement.WebElement (session=\"837098ad3970ece255759ccf12b5dfa8\", element=\"3ec7f7e5-3691-4494-8711-b05e039ff7b6\")>,\n",
       " <selenium.webdriver.remote.webelement.WebElement (session=\"837098ad3970ece255759ccf12b5dfa8\", element=\"ace61554-7191-4b4c-8ebc-b3b7cd45ee1a\")>,\n",
       " <selenium.webdriver.remote.webelement.WebElement (session=\"837098ad3970ece255759ccf12b5dfa8\", element=\"4636516e-1f75-4f83-8acb-1216331b77f2\")>,\n",
       " <selenium.webdriver.remote.webelement.WebElement (session=\"837098ad3970ece255759ccf12b5dfa8\", element=\"0f3c0e0c-e1b9-42d7-8107-31533c8751e6\")>,\n",
       " <selenium.webdriver.remote.webelement.WebElement (session=\"837098ad3970ece255759ccf12b5dfa8\", element=\"367c0179-e2de-47c0-8fbc-ce3bf1b6e2b8\")>,\n",
       " <selenium.webdriver.remote.webelement.WebElement (session=\"837098ad3970ece255759ccf12b5dfa8\", element=\"24908b8a-92f8-44ad-88dd-85a56b326f08\")>,\n",
       " <selenium.webdriver.remote.webelement.WebElement (session=\"837098ad3970ece255759ccf12b5dfa8\", element=\"4d2c89bd-1681-400f-8e27-e17d9b6f2f9b\")>,\n",
       " <selenium.webdriver.remote.webelement.WebElement (session=\"837098ad3970ece255759ccf12b5dfa8\", element=\"795a5dc1-fad4-418e-ab7a-f0f7cbca46ef\")>,\n",
       " <selenium.webdriver.remote.webelement.WebElement (session=\"837098ad3970ece255759ccf12b5dfa8\", element=\"a47f9451-ce74-4471-bb67-42da9d0ac28e\")>,\n",
       " <selenium.webdriver.remote.webelement.WebElement (session=\"837098ad3970ece255759ccf12b5dfa8\", element=\"580cf9e0-4326-495f-ac41-b90ca8c3a3cb\")>,\n",
       " <selenium.webdriver.remote.webelement.WebElement (session=\"837098ad3970ece255759ccf12b5dfa8\", element=\"d52dae48-557d-43aa-9175-d96456ef590b\")>,\n",
       " <selenium.webdriver.remote.webelement.WebElement (session=\"837098ad3970ece255759ccf12b5dfa8\", element=\"a603018b-e1dd-413c-ab8c-f2ba7c09ad04\")>,\n",
       " <selenium.webdriver.remote.webelement.WebElement (session=\"837098ad3970ece255759ccf12b5dfa8\", element=\"4297ff98-fd85-4d83-8f49-fde7b3c5664b\")>,\n",
       " <selenium.webdriver.remote.webelement.WebElement (session=\"837098ad3970ece255759ccf12b5dfa8\", element=\"3d460235-f031-4532-babc-a5b24d32ad36\")>,\n",
       " <selenium.webdriver.remote.webelement.WebElement (session=\"837098ad3970ece255759ccf12b5dfa8\", element=\"9b37af6c-7dd3-44b8-a383-65e4f0b01ee8\")>,\n",
       " <selenium.webdriver.remote.webelement.WebElement (session=\"837098ad3970ece255759ccf12b5dfa8\", element=\"ff370c1a-b1eb-4b1a-b21e-5912023d6bf1\")>,\n",
       " <selenium.webdriver.remote.webelement.WebElement (session=\"837098ad3970ece255759ccf12b5dfa8\", element=\"832cdd56-1fb1-45f3-84a1-c7668621952c\")>,\n",
       " <selenium.webdriver.remote.webelement.WebElement (session=\"837098ad3970ece255759ccf12b5dfa8\", element=\"23556b85-d863-4dcf-b0bd-c9f65fb8687a\")>,\n",
       " <selenium.webdriver.remote.webelement.WebElement (session=\"837098ad3970ece255759ccf12b5dfa8\", element=\"8c22cea2-2659-42e3-bb1a-2d9cdb95ac69\")>,\n",
       " <selenium.webdriver.remote.webelement.WebElement (session=\"837098ad3970ece255759ccf12b5dfa8\", element=\"393299e4-d3ec-4a2c-8213-98aef04084cc\")>,\n",
       " <selenium.webdriver.remote.webelement.WebElement (session=\"837098ad3970ece255759ccf12b5dfa8\", element=\"627e4388-c2eb-4f16-ae5f-44e4ef1e20d0\")>,\n",
       " <selenium.webdriver.remote.webelement.WebElement (session=\"837098ad3970ece255759ccf12b5dfa8\", element=\"c0828e3e-28d9-4716-b322-6e89573b3e25\")>,\n",
       " <selenium.webdriver.remote.webelement.WebElement (session=\"837098ad3970ece255759ccf12b5dfa8\", element=\"334acc5e-c04c-4d74-aa15-12c77c4174b0\")>,\n",
       " <selenium.webdriver.remote.webelement.WebElement (session=\"837098ad3970ece255759ccf12b5dfa8\", element=\"0ba2da13-b3a2-450c-8212-37e64a4068e6\")>,\n",
       " <selenium.webdriver.remote.webelement.WebElement (session=\"837098ad3970ece255759ccf12b5dfa8\", element=\"a3d6cdc8-494c-4835-81d6-991799d19275\")>,\n",
       " <selenium.webdriver.remote.webelement.WebElement (session=\"837098ad3970ece255759ccf12b5dfa8\", element=\"85e20507-3eb4-4244-bf1c-e9a94edc7683\")>,\n",
       " <selenium.webdriver.remote.webelement.WebElement (session=\"837098ad3970ece255759ccf12b5dfa8\", element=\"3dad750b-0819-4601-8be4-3ffd73c199d1\")>,\n",
       " <selenium.webdriver.remote.webelement.WebElement (session=\"837098ad3970ece255759ccf12b5dfa8\", element=\"c9d400d2-53f2-4676-8379-bb23523b5c4b\")>,\n",
       " <selenium.webdriver.remote.webelement.WebElement (session=\"837098ad3970ece255759ccf12b5dfa8\", element=\"2a504deb-27a0-49c4-902a-140e6383671e\")>,\n",
       " <selenium.webdriver.remote.webelement.WebElement (session=\"837098ad3970ece255759ccf12b5dfa8\", element=\"fe669e29-4866-4cf2-84ce-5b7da7e5c580\")>,\n",
       " <selenium.webdriver.remote.webelement.WebElement (session=\"837098ad3970ece255759ccf12b5dfa8\", element=\"16686ec8-78f8-4678-a5ab-88d9bc1ae78b\")>,\n",
       " <selenium.webdriver.remote.webelement.WebElement (session=\"837098ad3970ece255759ccf12b5dfa8\", element=\"7ba59951-5993-4447-be66-c29129f208c1\")>,\n",
       " <selenium.webdriver.remote.webelement.WebElement (session=\"837098ad3970ece255759ccf12b5dfa8\", element=\"bb08f1a7-361f-4e46-bd44-7796ba2b39d7\")>,\n",
       " <selenium.webdriver.remote.webelement.WebElement (session=\"837098ad3970ece255759ccf12b5dfa8\", element=\"8844eeab-5bb4-484a-8b08-8f9cabc5a0fa\")>,\n",
       " <selenium.webdriver.remote.webelement.WebElement (session=\"837098ad3970ece255759ccf12b5dfa8\", element=\"8bfb89b1-3902-4735-9df0-ce27ba0332b9\")>,\n",
       " <selenium.webdriver.remote.webelement.WebElement (session=\"837098ad3970ece255759ccf12b5dfa8\", element=\"37c5d8e6-6a9d-47ea-bceb-d17c96438c9a\")>,\n",
       " <selenium.webdriver.remote.webelement.WebElement (session=\"837098ad3970ece255759ccf12b5dfa8\", element=\"ce10ef58-17ef-4df2-84a4-1a83c08ef809\")>,\n",
       " <selenium.webdriver.remote.webelement.WebElement (session=\"837098ad3970ece255759ccf12b5dfa8\", element=\"10742edf-a00c-48dd-9347-73dd84730f11\")>,\n",
       " <selenium.webdriver.remote.webelement.WebElement (session=\"837098ad3970ece255759ccf12b5dfa8\", element=\"33d59344-aa4d-4c79-ae4d-f21793882bbb\")>,\n",
       " <selenium.webdriver.remote.webelement.WebElement (session=\"837098ad3970ece255759ccf12b5dfa8\", element=\"f4cbf604-f507-44fa-962a-9ca51475431d\")>,\n",
       " <selenium.webdriver.remote.webelement.WebElement (session=\"837098ad3970ece255759ccf12b5dfa8\", element=\"1cf117b2-7ec7-4031-a1c7-3aac2f52ec4c\")>,\n",
       " <selenium.webdriver.remote.webelement.WebElement (session=\"837098ad3970ece255759ccf12b5dfa8\", element=\"f4096409-fcd0-457e-993b-2021979d3a45\")>,\n",
       " <selenium.webdriver.remote.webelement.WebElement (session=\"837098ad3970ece255759ccf12b5dfa8\", element=\"1ffae6ab-c504-41aa-b61f-91cd49955979\")>,\n",
       " <selenium.webdriver.remote.webelement.WebElement (session=\"837098ad3970ece255759ccf12b5dfa8\", element=\"7852dc90-50ac-4978-82cc-b392f6022105\")>,\n",
       " <selenium.webdriver.remote.webelement.WebElement (session=\"837098ad3970ece255759ccf12b5dfa8\", element=\"2935888c-9913-4159-9a05-1988e763a5c6\")>,\n",
       " <selenium.webdriver.remote.webelement.WebElement (session=\"837098ad3970ece255759ccf12b5dfa8\", element=\"0207f358-70fb-4bbd-a449-18ab1354a9ce\")>,\n",
       " <selenium.webdriver.remote.webelement.WebElement (session=\"837098ad3970ece255759ccf12b5dfa8\", element=\"637f6f3c-b715-4178-a37d-582d30fdc8de\")>,\n",
       " <selenium.webdriver.remote.webelement.WebElement (session=\"837098ad3970ece255759ccf12b5dfa8\", element=\"241f9811-bb72-443b-9364-c7d7a0b86375\")>,\n",
       " <selenium.webdriver.remote.webelement.WebElement (session=\"837098ad3970ece255759ccf12b5dfa8\", element=\"2497e2f0-88a6-4450-b082-93578f0305e3\")>,\n",
       " <selenium.webdriver.remote.webelement.WebElement (session=\"837098ad3970ece255759ccf12b5dfa8\", element=\"a4d9c209-8124-4e8a-884b-f62f628d4031\")>,\n",
       " <selenium.webdriver.remote.webelement.WebElement (session=\"837098ad3970ece255759ccf12b5dfa8\", element=\"592cb4b8-dc62-46ab-a05a-3bdd6e6f7927\")>,\n",
       " <selenium.webdriver.remote.webelement.WebElement (session=\"837098ad3970ece255759ccf12b5dfa8\", element=\"e808921c-3375-41da-91de-cdab49491429\")>,\n",
       " <selenium.webdriver.remote.webelement.WebElement (session=\"837098ad3970ece255759ccf12b5dfa8\", element=\"702939d4-5fef-422f-bef0-ca3961680faa\")>,\n",
       " <selenium.webdriver.remote.webelement.WebElement (session=\"837098ad3970ece255759ccf12b5dfa8\", element=\"966c48d1-7ad6-4239-835d-1379a4baad9a\")>,\n",
       " <selenium.webdriver.remote.webelement.WebElement (session=\"837098ad3970ece255759ccf12b5dfa8\", element=\"bdfbcb45-f67a-49f1-81b0-69846d9a47b0\")>,\n",
       " <selenium.webdriver.remote.webelement.WebElement (session=\"837098ad3970ece255759ccf12b5dfa8\", element=\"2a7f8f78-6bd5-404b-8701-92af49b9f3d8\")>,\n",
       " <selenium.webdriver.remote.webelement.WebElement (session=\"837098ad3970ece255759ccf12b5dfa8\", element=\"8fa25b5c-cc66-411f-9d8b-22b5477ebb2c\")>,\n",
       " <selenium.webdriver.remote.webelement.WebElement (session=\"837098ad3970ece255759ccf12b5dfa8\", element=\"73c98b75-4e86-4bcc-bdf9-8a2244a55ba5\")>,\n",
       " <selenium.webdriver.remote.webelement.WebElement (session=\"837098ad3970ece255759ccf12b5dfa8\", element=\"b5dfe279-d5a3-4782-9b9f-5f4c49ac0280\")>,\n",
       " <selenium.webdriver.remote.webelement.WebElement (session=\"837098ad3970ece255759ccf12b5dfa8\", element=\"308adef9-1518-4fa8-b633-d2453b630213\")>,\n",
       " <selenium.webdriver.remote.webelement.WebElement (session=\"837098ad3970ece255759ccf12b5dfa8\", element=\"ac6da56a-1af0-43ed-8129-eafae56a68bd\")>,\n",
       " <selenium.webdriver.remote.webelement.WebElement (session=\"837098ad3970ece255759ccf12b5dfa8\", element=\"880f529f-8d44-44dc-8aa2-aeeeddd078c8\")>,\n",
       " <selenium.webdriver.remote.webelement.WebElement (session=\"837098ad3970ece255759ccf12b5dfa8\", element=\"a514f912-a7c5-461b-a1ce-412f6bcf3832\")>,\n",
       " <selenium.webdriver.remote.webelement.WebElement (session=\"837098ad3970ece255759ccf12b5dfa8\", element=\"4454c112-56c9-4d26-8c9f-fef3fec66bf7\")>,\n",
       " <selenium.webdriver.remote.webelement.WebElement (session=\"837098ad3970ece255759ccf12b5dfa8\", element=\"6a32cde2-8870-4464-9fee-e29255b141a0\")>,\n",
       " <selenium.webdriver.remote.webelement.WebElement (session=\"837098ad3970ece255759ccf12b5dfa8\", element=\"0f88051b-9fd2-45b6-813d-f48e90fe6984\")>,\n",
       " <selenium.webdriver.remote.webelement.WebElement (session=\"837098ad3970ece255759ccf12b5dfa8\", element=\"09f9d92b-d317-4442-a625-c784939ce8a8\")>,\n",
       " <selenium.webdriver.remote.webelement.WebElement (session=\"837098ad3970ece255759ccf12b5dfa8\", element=\"5ebab8f2-27d5-443f-9906-1c828ff83356\")>,\n",
       " <selenium.webdriver.remote.webelement.WebElement (session=\"837098ad3970ece255759ccf12b5dfa8\", element=\"858cd324-cdf2-495a-b077-fe03ea7ed0b0\")>,\n",
       " <selenium.webdriver.remote.webelement.WebElement (session=\"837098ad3970ece255759ccf12b5dfa8\", element=\"fa6d1b0d-be08-4463-9bba-1e3b33ee1285\")>,\n",
       " <selenium.webdriver.remote.webelement.WebElement (session=\"837098ad3970ece255759ccf12b5dfa8\", element=\"3161a55e-d04b-4c50-9fb2-19b2c1d9a18c\")>,\n",
       " <selenium.webdriver.remote.webelement.WebElement (session=\"837098ad3970ece255759ccf12b5dfa8\", element=\"2102862f-2cf9-4a90-af54-f96af4048921\")>,\n",
       " <selenium.webdriver.remote.webelement.WebElement (session=\"837098ad3970ece255759ccf12b5dfa8\", element=\"ace6db9d-408c-47c8-a29d-1685b21ec7a2\")>,\n",
       " <selenium.webdriver.remote.webelement.WebElement (session=\"837098ad3970ece255759ccf12b5dfa8\", element=\"9f25c210-8e29-4804-a41c-7139dd3b4fa2\")>,\n",
       " <selenium.webdriver.remote.webelement.WebElement (session=\"837098ad3970ece255759ccf12b5dfa8\", element=\"8866fe71-e278-4192-916f-ec30b179e5e2\")>,\n",
       " <selenium.webdriver.remote.webelement.WebElement (session=\"837098ad3970ece255759ccf12b5dfa8\", element=\"b4a6fa7c-fd6b-495b-a14d-70f6a063ac25\")>,\n",
       " <selenium.webdriver.remote.webelement.WebElement (session=\"837098ad3970ece255759ccf12b5dfa8\", element=\"3eb598c4-b3e5-4d8d-bc59-c933563a1cf2\")>,\n",
       " <selenium.webdriver.remote.webelement.WebElement (session=\"837098ad3970ece255759ccf12b5dfa8\", element=\"d911e2c5-9c5a-4b7f-9f21-a00f4432b7a6\")>,\n",
       " <selenium.webdriver.remote.webelement.WebElement (session=\"837098ad3970ece255759ccf12b5dfa8\", element=\"0795e7cd-0aaf-4241-9c96-65a3a00d04ec\")>,\n",
       " <selenium.webdriver.remote.webelement.WebElement (session=\"837098ad3970ece255759ccf12b5dfa8\", element=\"0fdfbd69-95ee-4ea4-9d18-a2a3e6b659f0\")>,\n",
       " <selenium.webdriver.remote.webelement.WebElement (session=\"837098ad3970ece255759ccf12b5dfa8\", element=\"7853cec5-662c-4345-ba2e-02c35a8eec42\")>,\n",
       " <selenium.webdriver.remote.webelement.WebElement (session=\"837098ad3970ece255759ccf12b5dfa8\", element=\"49ce3b9f-e6f6-4fa7-a652-c7023de1441e\")>,\n",
       " <selenium.webdriver.remote.webelement.WebElement (session=\"837098ad3970ece255759ccf12b5dfa8\", element=\"728a7122-23b8-46f0-9d47-625bde45a11b\")>,\n",
       " <selenium.webdriver.remote.webelement.WebElement (session=\"837098ad3970ece255759ccf12b5dfa8\", element=\"82152b1e-bf30-4784-8bd5-fac905893120\")>,\n",
       " <selenium.webdriver.remote.webelement.WebElement (session=\"837098ad3970ece255759ccf12b5dfa8\", element=\"b0bb8645-d6d9-4ca0-a3e5-061b56d58772\")>,\n",
       " <selenium.webdriver.remote.webelement.WebElement (session=\"837098ad3970ece255759ccf12b5dfa8\", element=\"587033e8-3570-4dff-aedb-65b9d98cd5b6\")>,\n",
       " <selenium.webdriver.remote.webelement.WebElement (session=\"837098ad3970ece255759ccf12b5dfa8\", element=\"0f22a266-6590-470c-b6a4-38dbbd2422de\")>,\n",
       " <selenium.webdriver.remote.webelement.WebElement (session=\"837098ad3970ece255759ccf12b5dfa8\", element=\"9dd46441-bc2d-441a-b829-11c7b018a34a\")>,\n",
       " <selenium.webdriver.remote.webelement.WebElement (session=\"837098ad3970ece255759ccf12b5dfa8\", element=\"3381e012-de90-4453-b1ca-2cc4d0275060\")>,\n",
       " <selenium.webdriver.remote.webelement.WebElement (session=\"837098ad3970ece255759ccf12b5dfa8\", element=\"9e86c939-0690-49ab-948e-77c565748fdc\")>,\n",
       " <selenium.webdriver.remote.webelement.WebElement (session=\"837098ad3970ece255759ccf12b5dfa8\", element=\"4b0acbff-97b2-4d7b-9c35-d193f2a0f85b\")>,\n",
       " <selenium.webdriver.remote.webelement.WebElement (session=\"837098ad3970ece255759ccf12b5dfa8\", element=\"79d3cdc3-5ded-48bd-b206-c0884f5ab374\")>,\n",
       " <selenium.webdriver.remote.webelement.WebElement (session=\"837098ad3970ece255759ccf12b5dfa8\", element=\"638bd3d0-e58c-44f4-ac87-7f202adbd29e\")>,\n",
       " <selenium.webdriver.remote.webelement.WebElement (session=\"837098ad3970ece255759ccf12b5dfa8\", element=\"2094e153-33da-41f7-ba25-a2f0b8d5728d\")>,\n",
       " <selenium.webdriver.remote.webelement.WebElement (session=\"837098ad3970ece255759ccf12b5dfa8\", element=\"f0f5fe25-460e-443e-86be-2be0f6482517\")>,\n",
       " <selenium.webdriver.remote.webelement.WebElement (session=\"837098ad3970ece255759ccf12b5dfa8\", element=\"7d8f0184-08be-4560-a38b-722a384786bf\")>,\n",
       " <selenium.webdriver.remote.webelement.WebElement (session=\"837098ad3970ece255759ccf12b5dfa8\", element=\"316a12a5-4c0b-44af-8c58-5917c4e540a6\")>,\n",
       " <selenium.webdriver.remote.webelement.WebElement (session=\"837098ad3970ece255759ccf12b5dfa8\", element=\"1640c20f-5572-453d-9aa1-174e82b65cb7\")>,\n",
       " <selenium.webdriver.remote.webelement.WebElement (session=\"837098ad3970ece255759ccf12b5dfa8\", element=\"6cc444d7-e166-4d23-b875-e2d92c167168\")>,\n",
       " <selenium.webdriver.remote.webelement.WebElement (session=\"837098ad3970ece255759ccf12b5dfa8\", element=\"044b217f-5b63-436b-aa37-93fbf7726fee\")>,\n",
       " <selenium.webdriver.remote.webelement.WebElement (session=\"837098ad3970ece255759ccf12b5dfa8\", element=\"040cfb9d-dae9-4152-a2eb-6e8220a7d6ab\")>,\n",
       " <selenium.webdriver.remote.webelement.WebElement (session=\"837098ad3970ece255759ccf12b5dfa8\", element=\"7a82db3d-f230-4b04-9a44-8f0aafb95f87\")>,\n",
       " <selenium.webdriver.remote.webelement.WebElement (session=\"837098ad3970ece255759ccf12b5dfa8\", element=\"a0332907-1c07-4f28-b3ee-ee7ac34e11c0\")>,\n",
       " <selenium.webdriver.remote.webelement.WebElement (session=\"837098ad3970ece255759ccf12b5dfa8\", element=\"08ba329d-32b4-40bc-a192-35547a19511f\")>,\n",
       " <selenium.webdriver.remote.webelement.WebElement (session=\"837098ad3970ece255759ccf12b5dfa8\", element=\"9af59032-8cb5-4222-93e3-8d0d9c7afecd\")>,\n",
       " <selenium.webdriver.remote.webelement.WebElement (session=\"837098ad3970ece255759ccf12b5dfa8\", element=\"385221b8-8ceb-4587-961a-f216b9c84aeb\")>,\n",
       " <selenium.webdriver.remote.webelement.WebElement (session=\"837098ad3970ece255759ccf12b5dfa8\", element=\"8b666d72-ad72-4af7-9d11-c41dd2a6f9c6\")>,\n",
       " <selenium.webdriver.remote.webelement.WebElement (session=\"837098ad3970ece255759ccf12b5dfa8\", element=\"6967eb2f-1c96-467d-9f13-bf9459c1d023\")>,\n",
       " <selenium.webdriver.remote.webelement.WebElement (session=\"837098ad3970ece255759ccf12b5dfa8\", element=\"880db2e0-22f6-4dae-8501-c308db2b9b37\")>,\n",
       " <selenium.webdriver.remote.webelement.WebElement (session=\"837098ad3970ece255759ccf12b5dfa8\", element=\"2306d60a-93a9-402e-b72c-fa00503fc670\")>,\n",
       " <selenium.webdriver.remote.webelement.WebElement (session=\"837098ad3970ece255759ccf12b5dfa8\", element=\"b70c57fb-d7bf-43a6-bc5b-bb5aad068778\")>,\n",
       " <selenium.webdriver.remote.webelement.WebElement (session=\"837098ad3970ece255759ccf12b5dfa8\", element=\"4ee0e95d-a0e0-4850-adc8-d20e15e692fe\")>,\n",
       " <selenium.webdriver.remote.webelement.WebElement (session=\"837098ad3970ece255759ccf12b5dfa8\", element=\"b3eb6e83-c72d-4c6a-a611-f256730f2e0f\")>,\n",
       " <selenium.webdriver.remote.webelement.WebElement (session=\"837098ad3970ece255759ccf12b5dfa8\", element=\"bc1d0bb3-ee3b-4d37-b922-fc27868c12d3\")>,\n",
       " <selenium.webdriver.remote.webelement.WebElement (session=\"837098ad3970ece255759ccf12b5dfa8\", element=\"da999465-92cb-4b4a-8c50-b5617672acd9\")>,\n",
       " <selenium.webdriver.remote.webelement.WebElement (session=\"837098ad3970ece255759ccf12b5dfa8\", element=\"021d1cee-a65a-4b88-84d6-88ef7ca80e5f\")>,\n",
       " <selenium.webdriver.remote.webelement.WebElement (session=\"837098ad3970ece255759ccf12b5dfa8\", element=\"98004599-2373-4561-b25c-386a820d371d\")>,\n",
       " <selenium.webdriver.remote.webelement.WebElement (session=\"837098ad3970ece255759ccf12b5dfa8\", element=\"c6ec0e12-e4a1-42a1-a8fe-e70ff97fce8c\")>,\n",
       " <selenium.webdriver.remote.webelement.WebElement (session=\"837098ad3970ece255759ccf12b5dfa8\", element=\"e5364853-0b7b-4a7f-912c-5d7d35e81f3e\")>,\n",
       " <selenium.webdriver.remote.webelement.WebElement (session=\"837098ad3970ece255759ccf12b5dfa8\", element=\"36c93b73-08bf-40db-b98b-dfd1f19c0c63\")>,\n",
       " <selenium.webdriver.remote.webelement.WebElement (session=\"837098ad3970ece255759ccf12b5dfa8\", element=\"7502e783-6180-4826-a60c-115518975bae\")>,\n",
       " <selenium.webdriver.remote.webelement.WebElement (session=\"837098ad3970ece255759ccf12b5dfa8\", element=\"ba29e31d-309e-478e-8c76-bec023c2e5b4\")>,\n",
       " <selenium.webdriver.remote.webelement.WebElement (session=\"837098ad3970ece255759ccf12b5dfa8\", element=\"cc8bbd76-0474-4eac-ac32-697bc7efa55c\")>,\n",
       " <selenium.webdriver.remote.webelement.WebElement (session=\"837098ad3970ece255759ccf12b5dfa8\", element=\"4fb61923-9e5d-4a7f-a397-9c53e4b669ae\")>,\n",
       " <selenium.webdriver.remote.webelement.WebElement (session=\"837098ad3970ece255759ccf12b5dfa8\", element=\"bd0258fd-8577-4557-bfd5-9540535965b9\")>,\n",
       " <selenium.webdriver.remote.webelement.WebElement (session=\"837098ad3970ece255759ccf12b5dfa8\", element=\"47612c21-2d60-4859-bd56-06726cee7eb5\")>,\n",
       " <selenium.webdriver.remote.webelement.WebElement (session=\"837098ad3970ece255759ccf12b5dfa8\", element=\"3c411e16-7348-4c44-b929-23ceec338c31\")>,\n",
       " <selenium.webdriver.remote.webelement.WebElement (session=\"837098ad3970ece255759ccf12b5dfa8\", element=\"81a48ee9-8cb5-4373-96ff-54441eb23a24\")>,\n",
       " <selenium.webdriver.remote.webelement.WebElement (session=\"837098ad3970ece255759ccf12b5dfa8\", element=\"220dd804-2718-42b8-9de1-03bd1f4822a1\")>,\n",
       " <selenium.webdriver.remote.webelement.WebElement (session=\"837098ad3970ece255759ccf12b5dfa8\", element=\"b7b68818-e6b3-4dd3-8ec7-7c55306e4284\")>,\n",
       " <selenium.webdriver.remote.webelement.WebElement (session=\"837098ad3970ece255759ccf12b5dfa8\", element=\"6f5fafbf-8acb-4d71-a0ef-f738a1901ae7\")>,\n",
       " <selenium.webdriver.remote.webelement.WebElement (session=\"837098ad3970ece255759ccf12b5dfa8\", element=\"6471bc48-154f-497a-bf37-0795d496ab9e\")>,\n",
       " <selenium.webdriver.remote.webelement.WebElement (session=\"837098ad3970ece255759ccf12b5dfa8\", element=\"1b029713-b57a-4879-af91-892684e89ca3\")>,\n",
       " <selenium.webdriver.remote.webelement.WebElement (session=\"837098ad3970ece255759ccf12b5dfa8\", element=\"5507c9d5-a789-4843-9e21-fb3858187058\")>,\n",
       " <selenium.webdriver.remote.webelement.WebElement (session=\"837098ad3970ece255759ccf12b5dfa8\", element=\"c01552f3-537f-4209-8892-50869204323b\")>,\n",
       " <selenium.webdriver.remote.webelement.WebElement (session=\"837098ad3970ece255759ccf12b5dfa8\", element=\"ed278e18-93e0-4e73-b0da-1d9c567ef14e\")>,\n",
       " <selenium.webdriver.remote.webelement.WebElement (session=\"837098ad3970ece255759ccf12b5dfa8\", element=\"555851ba-28b3-4ac2-98e8-641e35ccb343\")>,\n",
       " <selenium.webdriver.remote.webelement.WebElement (session=\"837098ad3970ece255759ccf12b5dfa8\", element=\"97a11415-45f8-444b-b032-30dbf656a89f\")>,\n",
       " <selenium.webdriver.remote.webelement.WebElement (session=\"837098ad3970ece255759ccf12b5dfa8\", element=\"5a4274c5-739c-41f2-a402-e06c06107ead\")>,\n",
       " <selenium.webdriver.remote.webelement.WebElement (session=\"837098ad3970ece255759ccf12b5dfa8\", element=\"73410d75-1a95-4500-a031-dcd90b31ecd6\")>,\n",
       " <selenium.webdriver.remote.webelement.WebElement (session=\"837098ad3970ece255759ccf12b5dfa8\", element=\"2c3d8e07-6c10-4c10-9d4e-49b7ddc772a1\")>,\n",
       " <selenium.webdriver.remote.webelement.WebElement (session=\"837098ad3970ece255759ccf12b5dfa8\", element=\"d78c57d9-98ec-42b3-9090-f9edaff80695\")>,\n",
       " <selenium.webdriver.remote.webelement.WebElement (session=\"837098ad3970ece255759ccf12b5dfa8\", element=\"6a6b31fc-f9fc-42de-ac9e-e2c0a6837b89\")>,\n",
       " <selenium.webdriver.remote.webelement.WebElement (session=\"837098ad3970ece255759ccf12b5dfa8\", element=\"3b28b7fa-11b5-4eb7-92fd-e3adedb12c5a\")>,\n",
       " <selenium.webdriver.remote.webelement.WebElement (session=\"837098ad3970ece255759ccf12b5dfa8\", element=\"d1df484c-3f12-4cdc-be3d-136b338de9d0\")>,\n",
       " <selenium.webdriver.remote.webelement.WebElement (session=\"837098ad3970ece255759ccf12b5dfa8\", element=\"1cecb6bd-2a9e-40c9-9faa-ad161b6f9d53\")>,\n",
       " <selenium.webdriver.remote.webelement.WebElement (session=\"837098ad3970ece255759ccf12b5dfa8\", element=\"76c959c4-8873-4c19-b70d-387b0f2a4f0e\")>,\n",
       " <selenium.webdriver.remote.webelement.WebElement (session=\"837098ad3970ece255759ccf12b5dfa8\", element=\"cfe9c887-f07f-4744-b35b-f9e947fc2dbc\")>,\n",
       " <selenium.webdriver.remote.webelement.WebElement (session=\"837098ad3970ece255759ccf12b5dfa8\", element=\"eb2a127a-9bc2-4b44-874d-a723d3f736d3\")>,\n",
       " <selenium.webdriver.remote.webelement.WebElement (session=\"837098ad3970ece255759ccf12b5dfa8\", element=\"bbfe695a-f16d-4641-85a9-44430de46e00\")>,\n",
       " <selenium.webdriver.remote.webelement.WebElement (session=\"837098ad3970ece255759ccf12b5dfa8\", element=\"d3d116ab-e21a-4e62-978b-2443354ce8cc\")>,\n",
       " <selenium.webdriver.remote.webelement.WebElement (session=\"837098ad3970ece255759ccf12b5dfa8\", element=\"1f35349a-d6ce-443a-bd0d-a184ec104863\")>,\n",
       " <selenium.webdriver.remote.webelement.WebElement (session=\"837098ad3970ece255759ccf12b5dfa8\", element=\"d593edb3-cf5b-4332-ae78-ee381744dcf9\")>,\n",
       " <selenium.webdriver.remote.webelement.WebElement (session=\"837098ad3970ece255759ccf12b5dfa8\", element=\"46dd6661-69d7-4ff9-ae0e-65f6e711ad4e\")>,\n",
       " <selenium.webdriver.remote.webelement.WebElement (session=\"837098ad3970ece255759ccf12b5dfa8\", element=\"e2c107ad-d828-4d3d-b7b6-a5d01793df2f\")>,\n",
       " <selenium.webdriver.remote.webelement.WebElement (session=\"837098ad3970ece255759ccf12b5dfa8\", element=\"1ef272ed-1a9a-4ccf-8f15-a3241223cc3e\")>,\n",
       " <selenium.webdriver.remote.webelement.WebElement (session=\"837098ad3970ece255759ccf12b5dfa8\", element=\"9d111b78-ab73-40a7-9400-1257749bfa89\")>,\n",
       " <selenium.webdriver.remote.webelement.WebElement (session=\"837098ad3970ece255759ccf12b5dfa8\", element=\"668a68ca-f69b-4f67-94db-bc787c38e2d4\")>,\n",
       " <selenium.webdriver.remote.webelement.WebElement (session=\"837098ad3970ece255759ccf12b5dfa8\", element=\"d53f314d-3ce1-4275-bac1-a3dcc8090256\")>,\n",
       " <selenium.webdriver.remote.webelement.WebElement (session=\"837098ad3970ece255759ccf12b5dfa8\", element=\"d45cedda-f349-4996-afae-ef1dda16ffa6\")>,\n",
       " <selenium.webdriver.remote.webelement.WebElement (session=\"837098ad3970ece255759ccf12b5dfa8\", element=\"c19a5684-3260-44ea-bfa6-10a9940de188\")>,\n",
       " <selenium.webdriver.remote.webelement.WebElement (session=\"837098ad3970ece255759ccf12b5dfa8\", element=\"20469f59-74d0-4239-86a2-0cd4e6a66c3d\")>,\n",
       " <selenium.webdriver.remote.webelement.WebElement (session=\"837098ad3970ece255759ccf12b5dfa8\", element=\"e16e929a-5df0-4044-a71e-0b9b9eaf9408\")>,\n",
       " <selenium.webdriver.remote.webelement.WebElement (session=\"837098ad3970ece255759ccf12b5dfa8\", element=\"90a45cd6-af37-45ed-880b-5fdde4a16186\")>,\n",
       " <selenium.webdriver.remote.webelement.WebElement (session=\"837098ad3970ece255759ccf12b5dfa8\", element=\"dbf0e1fc-c17f-44fd-864a-3e605a2eeaad\")>,\n",
       " <selenium.webdriver.remote.webelement.WebElement (session=\"837098ad3970ece255759ccf12b5dfa8\", element=\"c3245178-6dcc-4f26-88e0-82d0cbf771e5\")>,\n",
       " <selenium.webdriver.remote.webelement.WebElement (session=\"837098ad3970ece255759ccf12b5dfa8\", element=\"3aa5abe5-d72d-4c56-8410-772a6b158bed\")>,\n",
       " <selenium.webdriver.remote.webelement.WebElement (session=\"837098ad3970ece255759ccf12b5dfa8\", element=\"d67096e3-3c2b-45e8-9603-1f6c09255c1d\")>,\n",
       " <selenium.webdriver.remote.webelement.WebElement (session=\"837098ad3970ece255759ccf12b5dfa8\", element=\"1cc10c5f-c68f-44d5-a496-57e6dba97d81\")>,\n",
       " <selenium.webdriver.remote.webelement.WebElement (session=\"837098ad3970ece255759ccf12b5dfa8\", element=\"ca3fa772-8591-40a0-9d3d-db75ea02e3ff\")>,\n",
       " <selenium.webdriver.remote.webelement.WebElement (session=\"837098ad3970ece255759ccf12b5dfa8\", element=\"32b633fc-8ceb-49dd-80af-4fb7a0f6ade8\")>,\n",
       " <selenium.webdriver.remote.webelement.WebElement (session=\"837098ad3970ece255759ccf12b5dfa8\", element=\"bd8e9717-afed-4016-a23d-95871a50a7a9\")>,\n",
       " <selenium.webdriver.remote.webelement.WebElement (session=\"837098ad3970ece255759ccf12b5dfa8\", element=\"9f90d161-150d-4385-bb5e-d251178103b5\")>,\n",
       " <selenium.webdriver.remote.webelement.WebElement (session=\"837098ad3970ece255759ccf12b5dfa8\", element=\"01180438-dcbc-4205-a4fb-8f400c09ea40\")>,\n",
       " <selenium.webdriver.remote.webelement.WebElement (session=\"837098ad3970ece255759ccf12b5dfa8\", element=\"6a50e60e-0440-4388-9465-f926ef1c4077\")>,\n",
       " <selenium.webdriver.remote.webelement.WebElement (session=\"837098ad3970ece255759ccf12b5dfa8\", element=\"d4113670-9c53-4e3b-ad46-53f74a2225fb\")>,\n",
       " <selenium.webdriver.remote.webelement.WebElement (session=\"837098ad3970ece255759ccf12b5dfa8\", element=\"e07bdfa0-974d-4373-aded-4f83a7137c7f\")>,\n",
       " <selenium.webdriver.remote.webelement.WebElement (session=\"837098ad3970ece255759ccf12b5dfa8\", element=\"0367e31e-c9dc-44ef-8b1c-ab9a64f0884a\")>,\n",
       " <selenium.webdriver.remote.webelement.WebElement (session=\"837098ad3970ece255759ccf12b5dfa8\", element=\"f37ee1bd-8f8e-43a2-b39a-a3883fc6176f\")>,\n",
       " <selenium.webdriver.remote.webelement.WebElement (session=\"837098ad3970ece255759ccf12b5dfa8\", element=\"720603b2-a41a-4099-9543-b57e1af20d95\")>,\n",
       " <selenium.webdriver.remote.webelement.WebElement (session=\"837098ad3970ece255759ccf12b5dfa8\", element=\"e11f806a-ca6e-41b5-b712-3096c123f7a8\")>,\n",
       " <selenium.webdriver.remote.webelement.WebElement (session=\"837098ad3970ece255759ccf12b5dfa8\", element=\"c8abf242-e59d-45f5-a0e1-030ddbebe1dc\")>,\n",
       " <selenium.webdriver.remote.webelement.WebElement (session=\"837098ad3970ece255759ccf12b5dfa8\", element=\"e3d068fc-3700-48fc-8cff-1369fe9b5c82\")>,\n",
       " <selenium.webdriver.remote.webelement.WebElement (session=\"837098ad3970ece255759ccf12b5dfa8\", element=\"56e4f581-a070-43fe-8fa0-055b35d2a3c0\")>,\n",
       " <selenium.webdriver.remote.webelement.WebElement (session=\"837098ad3970ece255759ccf12b5dfa8\", element=\"78dcb860-47f5-4030-8f8f-b5b80a7ddec3\")>,\n",
       " <selenium.webdriver.remote.webelement.WebElement (session=\"837098ad3970ece255759ccf12b5dfa8\", element=\"37c865d8-78be-45ab-a80e-f165499a6791\")>,\n",
       " <selenium.webdriver.remote.webelement.WebElement (session=\"837098ad3970ece255759ccf12b5dfa8\", element=\"9c61edd4-653b-40d8-b70f-05855aaca45e\")>,\n",
       " <selenium.webdriver.remote.webelement.WebElement (session=\"837098ad3970ece255759ccf12b5dfa8\", element=\"a0815448-949f-47f0-8a33-7d3bb3dfed2d\")>,\n",
       " <selenium.webdriver.remote.webelement.WebElement (session=\"837098ad3970ece255759ccf12b5dfa8\", element=\"0788e715-c6e7-42c7-bc6b-6f6bc3ea5b54\")>,\n",
       " <selenium.webdriver.remote.webelement.WebElement (session=\"837098ad3970ece255759ccf12b5dfa8\", element=\"6a588d8a-2da4-44b8-a8df-ce65b2d5538c\")>,\n",
       " <selenium.webdriver.remote.webelement.WebElement (session=\"837098ad3970ece255759ccf12b5dfa8\", element=\"37c1a81f-5af8-481a-9791-b26be77e808a\")>,\n",
       " <selenium.webdriver.remote.webelement.WebElement (session=\"837098ad3970ece255759ccf12b5dfa8\", element=\"fb28286b-9efa-4ab8-a1e3-39132eb86b9d\")>,\n",
       " <selenium.webdriver.remote.webelement.WebElement (session=\"837098ad3970ece255759ccf12b5dfa8\", element=\"ce73ebc8-5278-4bdd-93aa-0878a6810507\")>,\n",
       " <selenium.webdriver.remote.webelement.WebElement (session=\"837098ad3970ece255759ccf12b5dfa8\", element=\"50c65631-7acb-432d-b3db-5f4cfc9658b1\")>,\n",
       " <selenium.webdriver.remote.webelement.WebElement (session=\"837098ad3970ece255759ccf12b5dfa8\", element=\"774626bc-f050-40a8-bba6-f11bdc81b971\")>,\n",
       " <selenium.webdriver.remote.webelement.WebElement (session=\"837098ad3970ece255759ccf12b5dfa8\", element=\"95576f0e-d26e-434d-bcdb-5effb17c0d8d\")>,\n",
       " <selenium.webdriver.remote.webelement.WebElement (session=\"837098ad3970ece255759ccf12b5dfa8\", element=\"0a8a4625-f494-4971-a022-7178606863a2\")>,\n",
       " <selenium.webdriver.remote.webelement.WebElement (session=\"837098ad3970ece255759ccf12b5dfa8\", element=\"de5bb5ee-3fdd-4a62-a296-03387ecefe3c\")>,\n",
       " <selenium.webdriver.remote.webelement.WebElement (session=\"837098ad3970ece255759ccf12b5dfa8\", element=\"5c9da75b-d8ce-4738-8152-e56d082fe8d2\")>,\n",
       " <selenium.webdriver.remote.webelement.WebElement (session=\"837098ad3970ece255759ccf12b5dfa8\", element=\"e708c685-27aa-4bf3-9a7e-83a61f2e0d22\")>,\n",
       " <selenium.webdriver.remote.webelement.WebElement (session=\"837098ad3970ece255759ccf12b5dfa8\", element=\"adf01a85-add6-44e8-a4db-f6ffde4871cd\")>,\n",
       " <selenium.webdriver.remote.webelement.WebElement (session=\"837098ad3970ece255759ccf12b5dfa8\", element=\"06ab3981-9571-4ff6-91a8-9a4a3c482302\")>,\n",
       " <selenium.webdriver.remote.webelement.WebElement (session=\"837098ad3970ece255759ccf12b5dfa8\", element=\"cf0bc467-054c-4284-b360-706b6c3280a1\")>,\n",
       " <selenium.webdriver.remote.webelement.WebElement (session=\"837098ad3970ece255759ccf12b5dfa8\", element=\"c4f5bd6c-94b7-47a9-9b0f-5f0ff3cfe253\")>,\n",
       " <selenium.webdriver.remote.webelement.WebElement (session=\"837098ad3970ece255759ccf12b5dfa8\", element=\"25aea22b-ce19-4fc2-ac3d-7a4cf38ef608\")>,\n",
       " <selenium.webdriver.remote.webelement.WebElement (session=\"837098ad3970ece255759ccf12b5dfa8\", element=\"e546b480-8902-4bf7-99b7-72d99daded0b\")>,\n",
       " <selenium.webdriver.remote.webelement.WebElement (session=\"837098ad3970ece255759ccf12b5dfa8\", element=\"1a59eb28-594c-473c-83d8-810cd220973f\")>,\n",
       " <selenium.webdriver.remote.webelement.WebElement (session=\"837098ad3970ece255759ccf12b5dfa8\", element=\"e2e8d272-fe23-4097-9a5c-8d4cf6976841\")>,\n",
       " <selenium.webdriver.remote.webelement.WebElement (session=\"837098ad3970ece255759ccf12b5dfa8\", element=\"cdc3861f-5cee-4a54-9c93-6efd605585a1\")>,\n",
       " <selenium.webdriver.remote.webelement.WebElement (session=\"837098ad3970ece255759ccf12b5dfa8\", element=\"5d7d0d44-3638-4e98-aabe-763e1e2d26ad\")>,\n",
       " <selenium.webdriver.remote.webelement.WebElement (session=\"837098ad3970ece255759ccf12b5dfa8\", element=\"3a6fe09c-99ba-4e30-a357-58051c9ff4f9\")>,\n",
       " <selenium.webdriver.remote.webelement.WebElement (session=\"837098ad3970ece255759ccf12b5dfa8\", element=\"f76fad05-4005-4eb2-ba70-2fe5972a9472\")>,\n",
       " <selenium.webdriver.remote.webelement.WebElement (session=\"837098ad3970ece255759ccf12b5dfa8\", element=\"c10326a5-90ba-45ae-aa54-dd0e86b46ad9\")>,\n",
       " <selenium.webdriver.remote.webelement.WebElement (session=\"837098ad3970ece255759ccf12b5dfa8\", element=\"ebb06e14-22ab-4242-b74e-23392f5f0e22\")>,\n",
       " <selenium.webdriver.remote.webelement.WebElement (session=\"837098ad3970ece255759ccf12b5dfa8\", element=\"ee3f2c38-d405-4d62-b7aa-a9f5a6431588\")>,\n",
       " <selenium.webdriver.remote.webelement.WebElement (session=\"837098ad3970ece255759ccf12b5dfa8\", element=\"1996717e-37b7-4231-9114-01990b40d00e\")>,\n",
       " <selenium.webdriver.remote.webelement.WebElement (session=\"837098ad3970ece255759ccf12b5dfa8\", element=\"9f163144-896c-4e4d-a141-0f180881ec3f\")>,\n",
       " <selenium.webdriver.remote.webelement.WebElement (session=\"837098ad3970ece255759ccf12b5dfa8\", element=\"35f1f2d3-a9a0-4130-94a8-441ec409d4c7\")>,\n",
       " <selenium.webdriver.remote.webelement.WebElement (session=\"837098ad3970ece255759ccf12b5dfa8\", element=\"ea8ebafe-16db-495a-8aeb-2366f24ac8da\")>,\n",
       " <selenium.webdriver.remote.webelement.WebElement (session=\"837098ad3970ece255759ccf12b5dfa8\", element=\"2db3f803-b802-4021-944a-c77af90c44f0\")>,\n",
       " <selenium.webdriver.remote.webelement.WebElement (session=\"837098ad3970ece255759ccf12b5dfa8\", element=\"9c5be0d7-47cd-4940-886d-e883041f6236\")>,\n",
       " <selenium.webdriver.remote.webelement.WebElement (session=\"837098ad3970ece255759ccf12b5dfa8\", element=\"9e11720f-520e-42d4-9ee6-1c2fadb101e5\")>,\n",
       " <selenium.webdriver.remote.webelement.WebElement (session=\"837098ad3970ece255759ccf12b5dfa8\", element=\"61ff6cab-5f79-436a-b416-bb560748f2a3\")>,\n",
       " <selenium.webdriver.remote.webelement.WebElement (session=\"837098ad3970ece255759ccf12b5dfa8\", element=\"213298ce-221e-4a4e-a3ee-ebbd67f69f54\")>,\n",
       " <selenium.webdriver.remote.webelement.WebElement (session=\"837098ad3970ece255759ccf12b5dfa8\", element=\"1b13b49d-85a0-42d0-8a5a-676323f2312d\")>,\n",
       " <selenium.webdriver.remote.webelement.WebElement (session=\"837098ad3970ece255759ccf12b5dfa8\", element=\"7522094f-4710-4578-905a-d025c9fe7cb5\")>,\n",
       " <selenium.webdriver.remote.webelement.WebElement (session=\"837098ad3970ece255759ccf12b5dfa8\", element=\"172df934-3a47-4b88-874b-ef6a45c8862a\")>,\n",
       " <selenium.webdriver.remote.webelement.WebElement (session=\"837098ad3970ece255759ccf12b5dfa8\", element=\"0949a7ca-6d3e-4444-adfe-3f84ea4d05c4\")>,\n",
       " <selenium.webdriver.remote.webelement.WebElement (session=\"837098ad3970ece255759ccf12b5dfa8\", element=\"cd310772-686c-48e2-826b-088e3a161719\")>,\n",
       " <selenium.webdriver.remote.webelement.WebElement (session=\"837098ad3970ece255759ccf12b5dfa8\", element=\"45c03d4f-5869-4753-b4ac-09708223d6f8\")>,\n",
       " <selenium.webdriver.remote.webelement.WebElement (session=\"837098ad3970ece255759ccf12b5dfa8\", element=\"e9969504-b3b6-492a-8ce2-c033e52fa0c7\")>,\n",
       " <selenium.webdriver.remote.webelement.WebElement (session=\"837098ad3970ece255759ccf12b5dfa8\", element=\"343482cd-a734-485f-a090-414833d8c993\")>,\n",
       " <selenium.webdriver.remote.webelement.WebElement (session=\"837098ad3970ece255759ccf12b5dfa8\", element=\"73416caf-9512-41a4-af80-aad4b01d1723\")>,\n",
       " <selenium.webdriver.remote.webelement.WebElement (session=\"837098ad3970ece255759ccf12b5dfa8\", element=\"d3b81389-ef84-4b4b-9e7a-37aca00f0008\")>,\n",
       " <selenium.webdriver.remote.webelement.WebElement (session=\"837098ad3970ece255759ccf12b5dfa8\", element=\"56d7f3f9-67d5-4c1d-9b22-821a18c6bcf2\")>,\n",
       " <selenium.webdriver.remote.webelement.WebElement (session=\"837098ad3970ece255759ccf12b5dfa8\", element=\"c4eab40a-d6a2-4535-a202-e01ef183e346\")>,\n",
       " <selenium.webdriver.remote.webelement.WebElement (session=\"837098ad3970ece255759ccf12b5dfa8\", element=\"b537fa6e-3742-44f7-a263-2b98579d36cc\")>,\n",
       " <selenium.webdriver.remote.webelement.WebElement (session=\"837098ad3970ece255759ccf12b5dfa8\", element=\"cda600d4-3c7c-4fd4-a0da-3e2af180815d\")>,\n",
       " <selenium.webdriver.remote.webelement.WebElement (session=\"837098ad3970ece255759ccf12b5dfa8\", element=\"0d36c6c9-fb56-4df9-887e-42fd9487d8e5\")>,\n",
       " <selenium.webdriver.remote.webelement.WebElement (session=\"837098ad3970ece255759ccf12b5dfa8\", element=\"74564cd2-985a-459d-9010-86b07b7da31b\")>,\n",
       " <selenium.webdriver.remote.webelement.WebElement (session=\"837098ad3970ece255759ccf12b5dfa8\", element=\"d78b2359-cd3d-4ba6-97f8-5cdb92f88585\")>,\n",
       " <selenium.webdriver.remote.webelement.WebElement (session=\"837098ad3970ece255759ccf12b5dfa8\", element=\"7c326c19-1850-43c8-87f4-7c1d3b433c69\")>,\n",
       " <selenium.webdriver.remote.webelement.WebElement (session=\"837098ad3970ece255759ccf12b5dfa8\", element=\"f9050431-e7ef-4acf-a3bd-a5b1b345f43d\")>,\n",
       " <selenium.webdriver.remote.webelement.WebElement (session=\"837098ad3970ece255759ccf12b5dfa8\", element=\"3a6b8751-9a4e-425f-9bc1-3ce4f07c6b9c\")>,\n",
       " <selenium.webdriver.remote.webelement.WebElement (session=\"837098ad3970ece255759ccf12b5dfa8\", element=\"2b246855-4af4-4d53-ae28-f3d33a7c06e4\")>,\n",
       " <selenium.webdriver.remote.webelement.WebElement (session=\"837098ad3970ece255759ccf12b5dfa8\", element=\"7d6704f8-1c94-43b6-a7b3-56035acee01b\")>,\n",
       " <selenium.webdriver.remote.webelement.WebElement (session=\"837098ad3970ece255759ccf12b5dfa8\", element=\"dcfaf4b3-803f-454b-880f-4910873754c5\")>,\n",
       " <selenium.webdriver.remote.webelement.WebElement (session=\"837098ad3970ece255759ccf12b5dfa8\", element=\"d306e2a4-b8ba-446e-ad31-9266321df7e8\")>,\n",
       " <selenium.webdriver.remote.webelement.WebElement (session=\"837098ad3970ece255759ccf12b5dfa8\", element=\"a9a1daea-6acc-492b-8706-f34ce645f99c\")>,\n",
       " <selenium.webdriver.remote.webelement.WebElement (session=\"837098ad3970ece255759ccf12b5dfa8\", element=\"424cd5e0-c0e1-4643-a777-350402ca1cb1\")>,\n",
       " <selenium.webdriver.remote.webelement.WebElement (session=\"837098ad3970ece255759ccf12b5dfa8\", element=\"e6e96a93-a079-45f2-8ead-d9889f6f043b\")>,\n",
       " <selenium.webdriver.remote.webelement.WebElement (session=\"837098ad3970ece255759ccf12b5dfa8\", element=\"5c0d428f-7d19-4ee5-bcf5-2fb027572115\")>,\n",
       " <selenium.webdriver.remote.webelement.WebElement (session=\"837098ad3970ece255759ccf12b5dfa8\", element=\"b4563f77-815b-4d60-879a-3275ccec06e5\")>,\n",
       " <selenium.webdriver.remote.webelement.WebElement (session=\"837098ad3970ece255759ccf12b5dfa8\", element=\"e2911df5-02b9-44dc-b1c7-16fbb9c047fa\")>,\n",
       " <selenium.webdriver.remote.webelement.WebElement (session=\"837098ad3970ece255759ccf12b5dfa8\", element=\"cba962ae-3630-4307-8a79-747a2fb00ade\")>,\n",
       " <selenium.webdriver.remote.webelement.WebElement (session=\"837098ad3970ece255759ccf12b5dfa8\", element=\"b7283c19-235a-4c49-b899-aee5ce3825f6\")>,\n",
       " <selenium.webdriver.remote.webelement.WebElement (session=\"837098ad3970ece255759ccf12b5dfa8\", element=\"60db2270-3c67-478c-9f8c-4bdb996015b0\")>,\n",
       " <selenium.webdriver.remote.webelement.WebElement (session=\"837098ad3970ece255759ccf12b5dfa8\", element=\"2c4831dc-66c7-4f83-9a7e-2739fa0c3fea\")>,\n",
       " <selenium.webdriver.remote.webelement.WebElement (session=\"837098ad3970ece255759ccf12b5dfa8\", element=\"914e4ebe-6d58-44f8-b014-a8391eb6490e\")>,\n",
       " <selenium.webdriver.remote.webelement.WebElement (session=\"837098ad3970ece255759ccf12b5dfa8\", element=\"f579e8bc-e6b4-4155-8284-44ff2bcb93be\")>,\n",
       " <selenium.webdriver.remote.webelement.WebElement (session=\"837098ad3970ece255759ccf12b5dfa8\", element=\"7d28853d-71af-42d4-aa4e-b557ae6067d2\")>,\n",
       " <selenium.webdriver.remote.webelement.WebElement (session=\"837098ad3970ece255759ccf12b5dfa8\", element=\"f5754099-083c-4cec-a6a3-964bf95dff20\")>,\n",
       " <selenium.webdriver.remote.webelement.WebElement (session=\"837098ad3970ece255759ccf12b5dfa8\", element=\"05272def-894f-42e5-8b07-bc227e406e5e\")>,\n",
       " <selenium.webdriver.remote.webelement.WebElement (session=\"837098ad3970ece255759ccf12b5dfa8\", element=\"768b2c44-dc7a-4b32-b93a-c515183ae402\")>,\n",
       " <selenium.webdriver.remote.webelement.WebElement (session=\"837098ad3970ece255759ccf12b5dfa8\", element=\"12dc1a29-b47a-4954-8e30-69a5d887a408\")>,\n",
       " <selenium.webdriver.remote.webelement.WebElement (session=\"837098ad3970ece255759ccf12b5dfa8\", element=\"760b7e57-a6ae-4284-94c2-77972c9873d7\")>,\n",
       " <selenium.webdriver.remote.webelement.WebElement (session=\"837098ad3970ece255759ccf12b5dfa8\", element=\"93f388ef-530a-4adb-b2db-ee5071605bb6\")>,\n",
       " <selenium.webdriver.remote.webelement.WebElement (session=\"837098ad3970ece255759ccf12b5dfa8\", element=\"c7d57d97-ea81-463e-83ff-fd5dd7d9ba2a\")>,\n",
       " <selenium.webdriver.remote.webelement.WebElement (session=\"837098ad3970ece255759ccf12b5dfa8\", element=\"0ad48598-87f0-4c96-96ff-4c2e152af52c\")>,\n",
       " <selenium.webdriver.remote.webelement.WebElement (session=\"837098ad3970ece255759ccf12b5dfa8\", element=\"734bb066-e893-4d5a-ba4d-b5606351aa65\")>,\n",
       " <selenium.webdriver.remote.webelement.WebElement (session=\"837098ad3970ece255759ccf12b5dfa8\", element=\"59369791-dc35-405e-a300-5951f03f8d9b\")>,\n",
       " <selenium.webdriver.remote.webelement.WebElement (session=\"837098ad3970ece255759ccf12b5dfa8\", element=\"6d3ba9dd-3a3a-4315-8166-968ac90ab020\")>,\n",
       " <selenium.webdriver.remote.webelement.WebElement (session=\"837098ad3970ece255759ccf12b5dfa8\", element=\"b391f596-165a-4831-aa9a-7b7609711b4b\")>,\n",
       " <selenium.webdriver.remote.webelement.WebElement (session=\"837098ad3970ece255759ccf12b5dfa8\", element=\"c6d8fa49-7346-4585-80f1-3c5cf1901088\")>,\n",
       " <selenium.webdriver.remote.webelement.WebElement (session=\"837098ad3970ece255759ccf12b5dfa8\", element=\"dd5e8a2d-3c29-4f1d-9fc8-2af6a7dc0aa8\")>,\n",
       " <selenium.webdriver.remote.webelement.WebElement (session=\"837098ad3970ece255759ccf12b5dfa8\", element=\"8615e34d-293f-4060-a9ac-45ea2ad9a811\")>,\n",
       " <selenium.webdriver.remote.webelement.WebElement (session=\"837098ad3970ece255759ccf12b5dfa8\", element=\"ce0c4d10-6de1-416e-8837-1ace22c22ef8\")>,\n",
       " <selenium.webdriver.remote.webelement.WebElement (session=\"837098ad3970ece255759ccf12b5dfa8\", element=\"9c26cd78-1998-4a7c-8616-80f4db656eee\")>,\n",
       " <selenium.webdriver.remote.webelement.WebElement (session=\"837098ad3970ece255759ccf12b5dfa8\", element=\"cff7a3a2-3ec8-4df1-9d25-0bdd9430d579\")>,\n",
       " <selenium.webdriver.remote.webelement.WebElement (session=\"837098ad3970ece255759ccf12b5dfa8\", element=\"38fbc3fc-af67-4f88-bcb1-0c40c866ba11\")>,\n",
       " <selenium.webdriver.remote.webelement.WebElement (session=\"837098ad3970ece255759ccf12b5dfa8\", element=\"1f288a74-7e4d-46d7-bdfa-04881f00950a\")>,\n",
       " <selenium.webdriver.remote.webelement.WebElement (session=\"837098ad3970ece255759ccf12b5dfa8\", element=\"926eeffd-cf5f-45c8-b10d-44cc29d01a1f\")>,\n",
       " <selenium.webdriver.remote.webelement.WebElement (session=\"837098ad3970ece255759ccf12b5dfa8\", element=\"88d5a80f-5e28-48b5-9431-6cd8a6f0390b\")>,\n",
       " <selenium.webdriver.remote.webelement.WebElement (session=\"837098ad3970ece255759ccf12b5dfa8\", element=\"1122f429-681d-4005-b0b7-fd635a852be4\")>,\n",
       " <selenium.webdriver.remote.webelement.WebElement (session=\"837098ad3970ece255759ccf12b5dfa8\", element=\"d5c4703d-51b7-42b9-b10e-d0b5e66e764a\")>,\n",
       " <selenium.webdriver.remote.webelement.WebElement (session=\"837098ad3970ece255759ccf12b5dfa8\", element=\"b7d699ba-60c1-481a-abd9-944a9e454bc3\")>,\n",
       " <selenium.webdriver.remote.webelement.WebElement (session=\"837098ad3970ece255759ccf12b5dfa8\", element=\"db277839-85ae-47cd-9412-e9c7d5f8c87d\")>,\n",
       " <selenium.webdriver.remote.webelement.WebElement (session=\"837098ad3970ece255759ccf12b5dfa8\", element=\"56f61307-9be2-49cd-98e2-c8778865a537\")>,\n",
       " <selenium.webdriver.remote.webelement.WebElement (session=\"837098ad3970ece255759ccf12b5dfa8\", element=\"57989120-395e-4c99-9982-ec65b351dd19\")>,\n",
       " <selenium.webdriver.remote.webelement.WebElement (session=\"837098ad3970ece255759ccf12b5dfa8\", element=\"a5097696-79bc-41a6-9292-9a0f554c65c3\")>,\n",
       " ...]"
      ]
     },
     "execution_count": 14,
     "metadata": {},
     "output_type": "execute_result"
    }
   ],
   "source": [
    "select_tn = driver.find_elements_by_tag_name('li')  #그러니 다 찾아서 리스트로 반환해주는 elements 사용\n",
    "select_tn"
   ]
  },
  {
   "cell_type": "code",
   "execution_count": 24,
   "metadata": {},
   "outputs": [
    {
     "ename": "NoSuchElementException",
     "evalue": "Message: no such element: Unable to locate element: {\"method\":\"css selector\",\"selector\":\"[id=\"sp_nws1\"]\"}\n  (Session info: chrome=75.0.3770.80)\n",
     "output_type": "error",
     "traceback": [
      "\u001b[1;31m---------------------------------------------------------------------------\u001b[0m",
      "\u001b[1;31mNoSuchElementException\u001b[0m                    Traceback (most recent call last)",
      "\u001b[1;32m<ipython-input-24-cbc326850d08>\u001b[0m in \u001b[0;36m<module>\u001b[1;34m\u001b[0m\n\u001b[1;32m----> 1\u001b[1;33m \u001b[0mselect_tn_2\u001b[0m \u001b[1;33m=\u001b[0m \u001b[0mselect_tn\u001b[0m\u001b[1;33m[\u001b[0m\u001b[1;36m0\u001b[0m\u001b[1;33m]\u001b[0m\u001b[1;33m.\u001b[0m\u001b[0mfind_element_by_id\u001b[0m\u001b[1;33m(\u001b[0m\u001b[1;34m'sp_nws1'\u001b[0m\u001b[1;33m)\u001b[0m\u001b[1;33m\u001b[0m\u001b[1;33m\u001b[0m\u001b[0m\n\u001b[0m\u001b[0;32m      2\u001b[0m \u001b[0mselect_tn_2\u001b[0m       \u001b[1;31m# No search element error 뜬다. 입력한 id 값을 가진 태그가 없어서 오류\u001b[0m\u001b[1;33m\u001b[0m\u001b[1;33m\u001b[0m\u001b[0m\n",
      "\u001b[1;32mC:\\ProgramData\\Anaconda3\\envs\\finance\\lib\\site-packages\\selenium\\webdriver\\remote\\webelement.py\u001b[0m in \u001b[0;36mfind_element_by_id\u001b[1;34m(self, id_)\u001b[0m\n\u001b[0;32m    174\u001b[0m             \u001b[0mfoo_element\u001b[0m \u001b[1;33m=\u001b[0m \u001b[0melement\u001b[0m\u001b[1;33m.\u001b[0m\u001b[0mfind_element_by_id\u001b[0m\u001b[1;33m(\u001b[0m\u001b[1;34m'foo'\u001b[0m\u001b[1;33m)\u001b[0m\u001b[1;33m\u001b[0m\u001b[1;33m\u001b[0m\u001b[0m\n\u001b[0;32m    175\u001b[0m         \"\"\"\n\u001b[1;32m--> 176\u001b[1;33m         \u001b[1;32mreturn\u001b[0m \u001b[0mself\u001b[0m\u001b[1;33m.\u001b[0m\u001b[0mfind_element\u001b[0m\u001b[1;33m(\u001b[0m\u001b[0mby\u001b[0m\u001b[1;33m=\u001b[0m\u001b[0mBy\u001b[0m\u001b[1;33m.\u001b[0m\u001b[0mID\u001b[0m\u001b[1;33m,\u001b[0m \u001b[0mvalue\u001b[0m\u001b[1;33m=\u001b[0m\u001b[0mid_\u001b[0m\u001b[1;33m)\u001b[0m\u001b[1;33m\u001b[0m\u001b[1;33m\u001b[0m\u001b[0m\n\u001b[0m\u001b[0;32m    177\u001b[0m \u001b[1;33m\u001b[0m\u001b[0m\n\u001b[0;32m    178\u001b[0m     \u001b[1;32mdef\u001b[0m \u001b[0mfind_elements_by_id\u001b[0m\u001b[1;33m(\u001b[0m\u001b[0mself\u001b[0m\u001b[1;33m,\u001b[0m \u001b[0mid_\u001b[0m\u001b[1;33m)\u001b[0m\u001b[1;33m:\u001b[0m\u001b[1;33m\u001b[0m\u001b[1;33m\u001b[0m\u001b[0m\n",
      "\u001b[1;32mC:\\ProgramData\\Anaconda3\\envs\\finance\\lib\\site-packages\\selenium\\webdriver\\remote\\webelement.py\u001b[0m in \u001b[0;36mfind_element\u001b[1;34m(self, by, value)\u001b[0m\n\u001b[0;32m    657\u001b[0m \u001b[1;33m\u001b[0m\u001b[0m\n\u001b[0;32m    658\u001b[0m         return self._execute(Command.FIND_CHILD_ELEMENT,\n\u001b[1;32m--> 659\u001b[1;33m                              {\"using\": by, \"value\": value})['value']\n\u001b[0m\u001b[0;32m    660\u001b[0m \u001b[1;33m\u001b[0m\u001b[0m\n\u001b[0;32m    661\u001b[0m     \u001b[1;32mdef\u001b[0m \u001b[0mfind_elements\u001b[0m\u001b[1;33m(\u001b[0m\u001b[0mself\u001b[0m\u001b[1;33m,\u001b[0m \u001b[0mby\u001b[0m\u001b[1;33m=\u001b[0m\u001b[0mBy\u001b[0m\u001b[1;33m.\u001b[0m\u001b[0mID\u001b[0m\u001b[1;33m,\u001b[0m \u001b[0mvalue\u001b[0m\u001b[1;33m=\u001b[0m\u001b[1;32mNone\u001b[0m\u001b[1;33m)\u001b[0m\u001b[1;33m:\u001b[0m\u001b[1;33m\u001b[0m\u001b[1;33m\u001b[0m\u001b[0m\n",
      "\u001b[1;32mC:\\ProgramData\\Anaconda3\\envs\\finance\\lib\\site-packages\\selenium\\webdriver\\remote\\webelement.py\u001b[0m in \u001b[0;36m_execute\u001b[1;34m(self, command, params)\u001b[0m\n\u001b[0;32m    631\u001b[0m             \u001b[0mparams\u001b[0m \u001b[1;33m=\u001b[0m \u001b[1;33m{\u001b[0m\u001b[1;33m}\u001b[0m\u001b[1;33m\u001b[0m\u001b[1;33m\u001b[0m\u001b[0m\n\u001b[0;32m    632\u001b[0m         \u001b[0mparams\u001b[0m\u001b[1;33m[\u001b[0m\u001b[1;34m'id'\u001b[0m\u001b[1;33m]\u001b[0m \u001b[1;33m=\u001b[0m \u001b[0mself\u001b[0m\u001b[1;33m.\u001b[0m\u001b[0m_id\u001b[0m\u001b[1;33m\u001b[0m\u001b[1;33m\u001b[0m\u001b[0m\n\u001b[1;32m--> 633\u001b[1;33m         \u001b[1;32mreturn\u001b[0m \u001b[0mself\u001b[0m\u001b[1;33m.\u001b[0m\u001b[0m_parent\u001b[0m\u001b[1;33m.\u001b[0m\u001b[0mexecute\u001b[0m\u001b[1;33m(\u001b[0m\u001b[0mcommand\u001b[0m\u001b[1;33m,\u001b[0m \u001b[0mparams\u001b[0m\u001b[1;33m)\u001b[0m\u001b[1;33m\u001b[0m\u001b[1;33m\u001b[0m\u001b[0m\n\u001b[0m\u001b[0;32m    634\u001b[0m \u001b[1;33m\u001b[0m\u001b[0m\n\u001b[0;32m    635\u001b[0m     \u001b[1;32mdef\u001b[0m \u001b[0mfind_element\u001b[0m\u001b[1;33m(\u001b[0m\u001b[0mself\u001b[0m\u001b[1;33m,\u001b[0m \u001b[0mby\u001b[0m\u001b[1;33m=\u001b[0m\u001b[0mBy\u001b[0m\u001b[1;33m.\u001b[0m\u001b[0mID\u001b[0m\u001b[1;33m,\u001b[0m \u001b[0mvalue\u001b[0m\u001b[1;33m=\u001b[0m\u001b[1;32mNone\u001b[0m\u001b[1;33m)\u001b[0m\u001b[1;33m:\u001b[0m\u001b[1;33m\u001b[0m\u001b[1;33m\u001b[0m\u001b[0m\n",
      "\u001b[1;32mC:\\ProgramData\\Anaconda3\\envs\\finance\\lib\\site-packages\\selenium\\webdriver\\remote\\webdriver.py\u001b[0m in \u001b[0;36mexecute\u001b[1;34m(self, driver_command, params)\u001b[0m\n\u001b[0;32m    319\u001b[0m         \u001b[0mresponse\u001b[0m \u001b[1;33m=\u001b[0m \u001b[0mself\u001b[0m\u001b[1;33m.\u001b[0m\u001b[0mcommand_executor\u001b[0m\u001b[1;33m.\u001b[0m\u001b[0mexecute\u001b[0m\u001b[1;33m(\u001b[0m\u001b[0mdriver_command\u001b[0m\u001b[1;33m,\u001b[0m \u001b[0mparams\u001b[0m\u001b[1;33m)\u001b[0m\u001b[1;33m\u001b[0m\u001b[1;33m\u001b[0m\u001b[0m\n\u001b[0;32m    320\u001b[0m         \u001b[1;32mif\u001b[0m \u001b[0mresponse\u001b[0m\u001b[1;33m:\u001b[0m\u001b[1;33m\u001b[0m\u001b[1;33m\u001b[0m\u001b[0m\n\u001b[1;32m--> 321\u001b[1;33m             \u001b[0mself\u001b[0m\u001b[1;33m.\u001b[0m\u001b[0merror_handler\u001b[0m\u001b[1;33m.\u001b[0m\u001b[0mcheck_response\u001b[0m\u001b[1;33m(\u001b[0m\u001b[0mresponse\u001b[0m\u001b[1;33m)\u001b[0m\u001b[1;33m\u001b[0m\u001b[1;33m\u001b[0m\u001b[0m\n\u001b[0m\u001b[0;32m    322\u001b[0m             response['value'] = self._unwrap_value(\n\u001b[0;32m    323\u001b[0m                 response.get('value', None))\n",
      "\u001b[1;32mC:\\ProgramData\\Anaconda3\\envs\\finance\\lib\\site-packages\\selenium\\webdriver\\remote\\errorhandler.py\u001b[0m in \u001b[0;36mcheck_response\u001b[1;34m(self, response)\u001b[0m\n\u001b[0;32m    240\u001b[0m                 \u001b[0malert_text\u001b[0m \u001b[1;33m=\u001b[0m \u001b[0mvalue\u001b[0m\u001b[1;33m[\u001b[0m\u001b[1;34m'alert'\u001b[0m\u001b[1;33m]\u001b[0m\u001b[1;33m.\u001b[0m\u001b[0mget\u001b[0m\u001b[1;33m(\u001b[0m\u001b[1;34m'text'\u001b[0m\u001b[1;33m)\u001b[0m\u001b[1;33m\u001b[0m\u001b[1;33m\u001b[0m\u001b[0m\n\u001b[0;32m    241\u001b[0m             \u001b[1;32mraise\u001b[0m \u001b[0mexception_class\u001b[0m\u001b[1;33m(\u001b[0m\u001b[0mmessage\u001b[0m\u001b[1;33m,\u001b[0m \u001b[0mscreen\u001b[0m\u001b[1;33m,\u001b[0m \u001b[0mstacktrace\u001b[0m\u001b[1;33m,\u001b[0m \u001b[0malert_text\u001b[0m\u001b[1;33m)\u001b[0m\u001b[1;33m\u001b[0m\u001b[1;33m\u001b[0m\u001b[0m\n\u001b[1;32m--> 242\u001b[1;33m         \u001b[1;32mraise\u001b[0m \u001b[0mexception_class\u001b[0m\u001b[1;33m(\u001b[0m\u001b[0mmessage\u001b[0m\u001b[1;33m,\u001b[0m \u001b[0mscreen\u001b[0m\u001b[1;33m,\u001b[0m \u001b[0mstacktrace\u001b[0m\u001b[1;33m)\u001b[0m\u001b[1;33m\u001b[0m\u001b[1;33m\u001b[0m\u001b[0m\n\u001b[0m\u001b[0;32m    243\u001b[0m \u001b[1;33m\u001b[0m\u001b[0m\n\u001b[0;32m    244\u001b[0m     \u001b[1;32mdef\u001b[0m \u001b[0m_value_or_default\u001b[0m\u001b[1;33m(\u001b[0m\u001b[0mself\u001b[0m\u001b[1;33m,\u001b[0m \u001b[0mobj\u001b[0m\u001b[1;33m,\u001b[0m \u001b[0mkey\u001b[0m\u001b[1;33m,\u001b[0m \u001b[0mdefault\u001b[0m\u001b[1;33m)\u001b[0m\u001b[1;33m:\u001b[0m\u001b[1;33m\u001b[0m\u001b[1;33m\u001b[0m\u001b[0m\n",
      "\u001b[1;31mNoSuchElementException\u001b[0m: Message: no such element: Unable to locate element: {\"method\":\"css selector\",\"selector\":\"[id=\"sp_nws1\"]\"}\n  (Session info: chrome=75.0.3770.80)\n"
     ]
    }
   ],
   "source": [
    "select_tn_2 = select_tn[0].find_element_by_id('######')\n",
    "select_tn_2       # No search element error 뜬다. 입력한 id 값을 가진 태그가 없어서 오류"
   ]
  },
  {
   "cell_type": "code",
   "execution_count": null,
   "metadata": {},
   "outputs": [],
   "source": [
    "select_cn = driver.find_element_by_class_name('type01')\n",
    "select_cn.text"
   ]
  },
  {
   "cell_type": "code",
   "execution_count": 16,
   "metadata": {},
   "outputs": [
    {
     "ename": "NameError",
     "evalue": "name 'select_cn' is not defined",
     "output_type": "error",
     "traceback": [
      "\u001b[1;31m---------------------------------------------------------------------------\u001b[0m",
      "\u001b[1;31mNameError\u001b[0m                                 Traceback (most recent call last)",
      "\u001b[1;32m<ipython-input-16-f90e1c1cdc6f>\u001b[0m in \u001b[0;36m<module>\u001b[1;34m\u001b[0m\n\u001b[1;32m----> 1\u001b[1;33m \u001b[0mselect_li\u001b[0m \u001b[1;33m=\u001b[0m \u001b[0mselect_cn\u001b[0m\u001b[1;33m.\u001b[0m\u001b[0mfind_elements_by_tag_name\u001b[0m\u001b[1;33m(\u001b[0m\u001b[1;34m'li'\u001b[0m\u001b[1;33m)\u001b[0m\u001b[1;33m\u001b[0m\u001b[1;33m\u001b[0m\u001b[0m\n\u001b[0m\u001b[0;32m      2\u001b[0m \u001b[1;33m\u001b[0m\u001b[0m\n\u001b[0;32m      3\u001b[0m \u001b[0mselect_li\u001b[0m\u001b[1;33m\u001b[0m\u001b[1;33m\u001b[0m\u001b[0m\n",
      "\u001b[1;31mNameError\u001b[0m: name 'select_cn' is not defined"
     ]
    }
   ],
   "source": [
    "select_li = select_cn.find_elements_by_tag_name('li')\n",
    "\n",
    "select_li"
   ]
  },
  {
   "cell_type": "code",
   "execution_count": 17,
   "metadata": {},
   "outputs": [
    {
     "data": {
      "text/plain": [
       "<selenium.webdriver.remote.webelement.WebElement (session=\"837098ad3970ece255759ccf12b5dfa8\", element=\"aeb4572f-b81d-44da-a879-30fa0e42ef13\")>"
      ]
     },
     "execution_count": 17,
     "metadata": {},
     "output_type": "execute_result"
    }
   ],
   "source": [
    "select_xpath = driver.find_element_by_xpath('//li[@id=\"sp_nws1\"]')   # li라는 태그 안에 id=\"sp_nws1\"이라는 속성값 가진 아이 찾기\n",
    "select_xpath"
   ]
  },
  {
   "cell_type": "code",
   "execution_count": 18,
   "metadata": {},
   "outputs": [
    {
     "data": {
      "text/plain": [
       "<selenium.webdriver.remote.webelement.WebElement (session=\"837098ad3970ece255759ccf12b5dfa8\", element=\"aeb4572f-b81d-44da-a879-30fa0e42ef13\")>"
      ]
     },
     "execution_count": 18,
     "metadata": {},
     "output_type": "execute_result"
    }
   ],
   "source": [
    "select_xpath = driver.find_element_by_xpath('//li[@id=\"sp_nws1\"]')  \n",
    "select_xpath"
   ]
  },
  {
   "cell_type": "markdown",
   "metadata": {},
   "source": [
    "Q. xpath를 이용해서 뉴스 기사제목이 담겨있는 a태그를 읽어보셈"
   ]
  },
  {
   "cell_type": "code",
   "execution_count": 19,
   "metadata": {},
   "outputs": [
    {
     "data": {
      "text/plain": [
       "'방탄소년단, 유럽 스타디움 투어 피날레…23만 관객 동원 연합뉴스언론사 선정 1일 전 네이버뉴스 보내기\\n해외 언론, 비틀스에 빗대며 \"팝의 국경 없는 미래 구현\" 그룹 방탄소년단이 23만 관객을 동원하며 스타디움 투어 \\'러브 유어셀프 : 스피크 유어셀프\\'(LOVE YOURSELF: SPEAK YOURSELF) 유럽 공연을 마쳤다. 10일 소속사...\\n유럽 투어 마친 방탄소년단, 해바라기 탈 쓰고 공항 등장한 이유는? 한국경제TV 15시간 전 네이버뉴스\\n\\'방탄소년단\\' 금의환향, 미주·유럽 스타디움 투어 대박 뉴시스 17시간 전 네이버뉴스\\n\\'해바라기 변신\\' 방탄소년단, 유럽투어 마치고 귀국(종합) 연합뉴스 17시간 전 네이버뉴스\\n방탄소년단, 유럽 투어 피날레…\"아미 열정 놀라워\" 디스패치 1일 전 네이버뉴스\\n관련뉴스 13건 전체보기'"
      ]
     },
     "execution_count": 19,
     "metadata": {},
     "output_type": "execute_result"
    }
   ],
   "source": [
    "select_xpath.text"
   ]
  },
  {
   "cell_type": "code",
   "execution_count": 20,
   "metadata": {},
   "outputs": [
    {
     "name": "stdout",
     "output_type": "stream",
     "text": [
      "[<selenium.webdriver.remote.webelement.WebElement (session=\"837098ad3970ece255759ccf12b5dfa8\", element=\"1a83f207-32eb-44b0-98ab-6b0aa18d8101\")>, <selenium.webdriver.remote.webelement.WebElement (session=\"837098ad3970ece255759ccf12b5dfa8\", element=\"b35748f9-9abc-4a4c-8016-49401d51d54f\")>, <selenium.webdriver.remote.webelement.WebElement (session=\"837098ad3970ece255759ccf12b5dfa8\", element=\"1b6831ce-60b8-4dd5-8fca-fbd8e13d0967\")>, <selenium.webdriver.remote.webelement.WebElement (session=\"837098ad3970ece255759ccf12b5dfa8\", element=\"232f2011-feea-4f15-b8e5-54d800e16372\")>, <selenium.webdriver.remote.webelement.WebElement (session=\"837098ad3970ece255759ccf12b5dfa8\", element=\"51bcba0a-06e8-4485-a236-c419407446e5\")>, <selenium.webdriver.remote.webelement.WebElement (session=\"837098ad3970ece255759ccf12b5dfa8\", element=\"3c68fce0-5c29-4c5e-83c8-128fecfdc5d4\")>, <selenium.webdriver.remote.webelement.WebElement (session=\"837098ad3970ece255759ccf12b5dfa8\", element=\"dcf709d2-de25-4a7e-ace8-23ae3191dae2\")>, <selenium.webdriver.remote.webelement.WebElement (session=\"837098ad3970ece255759ccf12b5dfa8\", element=\"36f1aa2e-bdaa-4e44-8361-dbf6da96ce6c\")>, <selenium.webdriver.remote.webelement.WebElement (session=\"837098ad3970ece255759ccf12b5dfa8\", element=\"bfe11329-0bfb-4e43-a3d5-ef3d794bff4e\")>, <selenium.webdriver.remote.webelement.WebElement (session=\"837098ad3970ece255759ccf12b5dfa8\", element=\"45ead08a-672d-46f3-a185-1245c66b6ac4\")>]\n",
      "[<selenium.webdriver.remote.webelement.WebElement (session=\"837098ad3970ece255759ccf12b5dfa8\", element=\"1a83f207-32eb-44b0-98ab-6b0aa18d8101\")>, <selenium.webdriver.remote.webelement.WebElement (session=\"837098ad3970ece255759ccf12b5dfa8\", element=\"b35748f9-9abc-4a4c-8016-49401d51d54f\")>, <selenium.webdriver.remote.webelement.WebElement (session=\"837098ad3970ece255759ccf12b5dfa8\", element=\"1b6831ce-60b8-4dd5-8fca-fbd8e13d0967\")>, <selenium.webdriver.remote.webelement.WebElement (session=\"837098ad3970ece255759ccf12b5dfa8\", element=\"232f2011-feea-4f15-b8e5-54d800e16372\")>, <selenium.webdriver.remote.webelement.WebElement (session=\"837098ad3970ece255759ccf12b5dfa8\", element=\"51bcba0a-06e8-4485-a236-c419407446e5\")>, <selenium.webdriver.remote.webelement.WebElement (session=\"837098ad3970ece255759ccf12b5dfa8\", element=\"3c68fce0-5c29-4c5e-83c8-128fecfdc5d4\")>, <selenium.webdriver.remote.webelement.WebElement (session=\"837098ad3970ece255759ccf12b5dfa8\", element=\"dcf709d2-de25-4a7e-ace8-23ae3191dae2\")>, <selenium.webdriver.remote.webelement.WebElement (session=\"837098ad3970ece255759ccf12b5dfa8\", element=\"36f1aa2e-bdaa-4e44-8361-dbf6da96ce6c\")>, <selenium.webdriver.remote.webelement.WebElement (session=\"837098ad3970ece255759ccf12b5dfa8\", element=\"bfe11329-0bfb-4e43-a3d5-ef3d794bff4e\")>, <selenium.webdriver.remote.webelement.WebElement (session=\"837098ad3970ece255759ccf12b5dfa8\", element=\"45ead08a-672d-46f3-a185-1245c66b6ac4\")>]\n",
      "[<selenium.webdriver.remote.webelement.WebElement (session=\"837098ad3970ece255759ccf12b5dfa8\", element=\"1a83f207-32eb-44b0-98ab-6b0aa18d8101\")>, <selenium.webdriver.remote.webelement.WebElement (session=\"837098ad3970ece255759ccf12b5dfa8\", element=\"b35748f9-9abc-4a4c-8016-49401d51d54f\")>, <selenium.webdriver.remote.webelement.WebElement (session=\"837098ad3970ece255759ccf12b5dfa8\", element=\"1b6831ce-60b8-4dd5-8fca-fbd8e13d0967\")>, <selenium.webdriver.remote.webelement.WebElement (session=\"837098ad3970ece255759ccf12b5dfa8\", element=\"232f2011-feea-4f15-b8e5-54d800e16372\")>, <selenium.webdriver.remote.webelement.WebElement (session=\"837098ad3970ece255759ccf12b5dfa8\", element=\"51bcba0a-06e8-4485-a236-c419407446e5\")>, <selenium.webdriver.remote.webelement.WebElement (session=\"837098ad3970ece255759ccf12b5dfa8\", element=\"3c68fce0-5c29-4c5e-83c8-128fecfdc5d4\")>, <selenium.webdriver.remote.webelement.WebElement (session=\"837098ad3970ece255759ccf12b5dfa8\", element=\"dcf709d2-de25-4a7e-ace8-23ae3191dae2\")>, <selenium.webdriver.remote.webelement.WebElement (session=\"837098ad3970ece255759ccf12b5dfa8\", element=\"36f1aa2e-bdaa-4e44-8361-dbf6da96ce6c\")>, <selenium.webdriver.remote.webelement.WebElement (session=\"837098ad3970ece255759ccf12b5dfa8\", element=\"bfe11329-0bfb-4e43-a3d5-ef3d794bff4e\")>, <selenium.webdriver.remote.webelement.WebElement (session=\"837098ad3970ece255759ccf12b5dfa8\", element=\"45ead08a-672d-46f3-a185-1245c66b6ac4\")>]\n",
      "[<selenium.webdriver.remote.webelement.WebElement (session=\"837098ad3970ece255759ccf12b5dfa8\", element=\"1a83f207-32eb-44b0-98ab-6b0aa18d8101\")>, <selenium.webdriver.remote.webelement.WebElement (session=\"837098ad3970ece255759ccf12b5dfa8\", element=\"b35748f9-9abc-4a4c-8016-49401d51d54f\")>, <selenium.webdriver.remote.webelement.WebElement (session=\"837098ad3970ece255759ccf12b5dfa8\", element=\"1b6831ce-60b8-4dd5-8fca-fbd8e13d0967\")>, <selenium.webdriver.remote.webelement.WebElement (session=\"837098ad3970ece255759ccf12b5dfa8\", element=\"232f2011-feea-4f15-b8e5-54d800e16372\")>, <selenium.webdriver.remote.webelement.WebElement (session=\"837098ad3970ece255759ccf12b5dfa8\", element=\"51bcba0a-06e8-4485-a236-c419407446e5\")>, <selenium.webdriver.remote.webelement.WebElement (session=\"837098ad3970ece255759ccf12b5dfa8\", element=\"3c68fce0-5c29-4c5e-83c8-128fecfdc5d4\")>, <selenium.webdriver.remote.webelement.WebElement (session=\"837098ad3970ece255759ccf12b5dfa8\", element=\"dcf709d2-de25-4a7e-ace8-23ae3191dae2\")>, <selenium.webdriver.remote.webelement.WebElement (session=\"837098ad3970ece255759ccf12b5dfa8\", element=\"36f1aa2e-bdaa-4e44-8361-dbf6da96ce6c\")>, <selenium.webdriver.remote.webelement.WebElement (session=\"837098ad3970ece255759ccf12b5dfa8\", element=\"bfe11329-0bfb-4e43-a3d5-ef3d794bff4e\")>, <selenium.webdriver.remote.webelement.WebElement (session=\"837098ad3970ece255759ccf12b5dfa8\", element=\"45ead08a-672d-46f3-a185-1245c66b6ac4\")>]\n",
      "[<selenium.webdriver.remote.webelement.WebElement (session=\"837098ad3970ece255759ccf12b5dfa8\", element=\"1a83f207-32eb-44b0-98ab-6b0aa18d8101\")>, <selenium.webdriver.remote.webelement.WebElement (session=\"837098ad3970ece255759ccf12b5dfa8\", element=\"b35748f9-9abc-4a4c-8016-49401d51d54f\")>, <selenium.webdriver.remote.webelement.WebElement (session=\"837098ad3970ece255759ccf12b5dfa8\", element=\"1b6831ce-60b8-4dd5-8fca-fbd8e13d0967\")>, <selenium.webdriver.remote.webelement.WebElement (session=\"837098ad3970ece255759ccf12b5dfa8\", element=\"232f2011-feea-4f15-b8e5-54d800e16372\")>, <selenium.webdriver.remote.webelement.WebElement (session=\"837098ad3970ece255759ccf12b5dfa8\", element=\"51bcba0a-06e8-4485-a236-c419407446e5\")>, <selenium.webdriver.remote.webelement.WebElement (session=\"837098ad3970ece255759ccf12b5dfa8\", element=\"3c68fce0-5c29-4c5e-83c8-128fecfdc5d4\")>, <selenium.webdriver.remote.webelement.WebElement (session=\"837098ad3970ece255759ccf12b5dfa8\", element=\"dcf709d2-de25-4a7e-ace8-23ae3191dae2\")>, <selenium.webdriver.remote.webelement.WebElement (session=\"837098ad3970ece255759ccf12b5dfa8\", element=\"36f1aa2e-bdaa-4e44-8361-dbf6da96ce6c\")>, <selenium.webdriver.remote.webelement.WebElement (session=\"837098ad3970ece255759ccf12b5dfa8\", element=\"bfe11329-0bfb-4e43-a3d5-ef3d794bff4e\")>, <selenium.webdriver.remote.webelement.WebElement (session=\"837098ad3970ece255759ccf12b5dfa8\", element=\"45ead08a-672d-46f3-a185-1245c66b6ac4\")>]\n",
      "[<selenium.webdriver.remote.webelement.WebElement (session=\"837098ad3970ece255759ccf12b5dfa8\", element=\"1a83f207-32eb-44b0-98ab-6b0aa18d8101\")>, <selenium.webdriver.remote.webelement.WebElement (session=\"837098ad3970ece255759ccf12b5dfa8\", element=\"b35748f9-9abc-4a4c-8016-49401d51d54f\")>, <selenium.webdriver.remote.webelement.WebElement (session=\"837098ad3970ece255759ccf12b5dfa8\", element=\"1b6831ce-60b8-4dd5-8fca-fbd8e13d0967\")>, <selenium.webdriver.remote.webelement.WebElement (session=\"837098ad3970ece255759ccf12b5dfa8\", element=\"232f2011-feea-4f15-b8e5-54d800e16372\")>, <selenium.webdriver.remote.webelement.WebElement (session=\"837098ad3970ece255759ccf12b5dfa8\", element=\"51bcba0a-06e8-4485-a236-c419407446e5\")>, <selenium.webdriver.remote.webelement.WebElement (session=\"837098ad3970ece255759ccf12b5dfa8\", element=\"3c68fce0-5c29-4c5e-83c8-128fecfdc5d4\")>, <selenium.webdriver.remote.webelement.WebElement (session=\"837098ad3970ece255759ccf12b5dfa8\", element=\"dcf709d2-de25-4a7e-ace8-23ae3191dae2\")>, <selenium.webdriver.remote.webelement.WebElement (session=\"837098ad3970ece255759ccf12b5dfa8\", element=\"36f1aa2e-bdaa-4e44-8361-dbf6da96ce6c\")>, <selenium.webdriver.remote.webelement.WebElement (session=\"837098ad3970ece255759ccf12b5dfa8\", element=\"bfe11329-0bfb-4e43-a3d5-ef3d794bff4e\")>, <selenium.webdriver.remote.webelement.WebElement (session=\"837098ad3970ece255759ccf12b5dfa8\", element=\"45ead08a-672d-46f3-a185-1245c66b6ac4\")>]\n",
      "[<selenium.webdriver.remote.webelement.WebElement (session=\"837098ad3970ece255759ccf12b5dfa8\", element=\"1a83f207-32eb-44b0-98ab-6b0aa18d8101\")>, <selenium.webdriver.remote.webelement.WebElement (session=\"837098ad3970ece255759ccf12b5dfa8\", element=\"b35748f9-9abc-4a4c-8016-49401d51d54f\")>, <selenium.webdriver.remote.webelement.WebElement (session=\"837098ad3970ece255759ccf12b5dfa8\", element=\"1b6831ce-60b8-4dd5-8fca-fbd8e13d0967\")>, <selenium.webdriver.remote.webelement.WebElement (session=\"837098ad3970ece255759ccf12b5dfa8\", element=\"232f2011-feea-4f15-b8e5-54d800e16372\")>, <selenium.webdriver.remote.webelement.WebElement (session=\"837098ad3970ece255759ccf12b5dfa8\", element=\"51bcba0a-06e8-4485-a236-c419407446e5\")>, <selenium.webdriver.remote.webelement.WebElement (session=\"837098ad3970ece255759ccf12b5dfa8\", element=\"3c68fce0-5c29-4c5e-83c8-128fecfdc5d4\")>, <selenium.webdriver.remote.webelement.WebElement (session=\"837098ad3970ece255759ccf12b5dfa8\", element=\"dcf709d2-de25-4a7e-ace8-23ae3191dae2\")>, <selenium.webdriver.remote.webelement.WebElement (session=\"837098ad3970ece255759ccf12b5dfa8\", element=\"36f1aa2e-bdaa-4e44-8361-dbf6da96ce6c\")>, <selenium.webdriver.remote.webelement.WebElement (session=\"837098ad3970ece255759ccf12b5dfa8\", element=\"bfe11329-0bfb-4e43-a3d5-ef3d794bff4e\")>, <selenium.webdriver.remote.webelement.WebElement (session=\"837098ad3970ece255759ccf12b5dfa8\", element=\"45ead08a-672d-46f3-a185-1245c66b6ac4\")>]\n",
      "[<selenium.webdriver.remote.webelement.WebElement (session=\"837098ad3970ece255759ccf12b5dfa8\", element=\"1a83f207-32eb-44b0-98ab-6b0aa18d8101\")>, <selenium.webdriver.remote.webelement.WebElement (session=\"837098ad3970ece255759ccf12b5dfa8\", element=\"b35748f9-9abc-4a4c-8016-49401d51d54f\")>, <selenium.webdriver.remote.webelement.WebElement (session=\"837098ad3970ece255759ccf12b5dfa8\", element=\"1b6831ce-60b8-4dd5-8fca-fbd8e13d0967\")>, <selenium.webdriver.remote.webelement.WebElement (session=\"837098ad3970ece255759ccf12b5dfa8\", element=\"232f2011-feea-4f15-b8e5-54d800e16372\")>, <selenium.webdriver.remote.webelement.WebElement (session=\"837098ad3970ece255759ccf12b5dfa8\", element=\"51bcba0a-06e8-4485-a236-c419407446e5\")>, <selenium.webdriver.remote.webelement.WebElement (session=\"837098ad3970ece255759ccf12b5dfa8\", element=\"3c68fce0-5c29-4c5e-83c8-128fecfdc5d4\")>, <selenium.webdriver.remote.webelement.WebElement (session=\"837098ad3970ece255759ccf12b5dfa8\", element=\"dcf709d2-de25-4a7e-ace8-23ae3191dae2\")>, <selenium.webdriver.remote.webelement.WebElement (session=\"837098ad3970ece255759ccf12b5dfa8\", element=\"36f1aa2e-bdaa-4e44-8361-dbf6da96ce6c\")>, <selenium.webdriver.remote.webelement.WebElement (session=\"837098ad3970ece255759ccf12b5dfa8\", element=\"bfe11329-0bfb-4e43-a3d5-ef3d794bff4e\")>, <selenium.webdriver.remote.webelement.WebElement (session=\"837098ad3970ece255759ccf12b5dfa8\", element=\"45ead08a-672d-46f3-a185-1245c66b6ac4\")>]\n",
      "[<selenium.webdriver.remote.webelement.WebElement (session=\"837098ad3970ece255759ccf12b5dfa8\", element=\"1a83f207-32eb-44b0-98ab-6b0aa18d8101\")>, <selenium.webdriver.remote.webelement.WebElement (session=\"837098ad3970ece255759ccf12b5dfa8\", element=\"b35748f9-9abc-4a4c-8016-49401d51d54f\")>, <selenium.webdriver.remote.webelement.WebElement (session=\"837098ad3970ece255759ccf12b5dfa8\", element=\"1b6831ce-60b8-4dd5-8fca-fbd8e13d0967\")>, <selenium.webdriver.remote.webelement.WebElement (session=\"837098ad3970ece255759ccf12b5dfa8\", element=\"232f2011-feea-4f15-b8e5-54d800e16372\")>, <selenium.webdriver.remote.webelement.WebElement (session=\"837098ad3970ece255759ccf12b5dfa8\", element=\"51bcba0a-06e8-4485-a236-c419407446e5\")>, <selenium.webdriver.remote.webelement.WebElement (session=\"837098ad3970ece255759ccf12b5dfa8\", element=\"3c68fce0-5c29-4c5e-83c8-128fecfdc5d4\")>, <selenium.webdriver.remote.webelement.WebElement (session=\"837098ad3970ece255759ccf12b5dfa8\", element=\"dcf709d2-de25-4a7e-ace8-23ae3191dae2\")>, <selenium.webdriver.remote.webelement.WebElement (session=\"837098ad3970ece255759ccf12b5dfa8\", element=\"36f1aa2e-bdaa-4e44-8361-dbf6da96ce6c\")>, <selenium.webdriver.remote.webelement.WebElement (session=\"837098ad3970ece255759ccf12b5dfa8\", element=\"bfe11329-0bfb-4e43-a3d5-ef3d794bff4e\")>, <selenium.webdriver.remote.webelement.WebElement (session=\"837098ad3970ece255759ccf12b5dfa8\", element=\"45ead08a-672d-46f3-a185-1245c66b6ac4\")>]\n",
      "[<selenium.webdriver.remote.webelement.WebElement (session=\"837098ad3970ece255759ccf12b5dfa8\", element=\"1a83f207-32eb-44b0-98ab-6b0aa18d8101\")>, <selenium.webdriver.remote.webelement.WebElement (session=\"837098ad3970ece255759ccf12b5dfa8\", element=\"b35748f9-9abc-4a4c-8016-49401d51d54f\")>, <selenium.webdriver.remote.webelement.WebElement (session=\"837098ad3970ece255759ccf12b5dfa8\", element=\"1b6831ce-60b8-4dd5-8fca-fbd8e13d0967\")>, <selenium.webdriver.remote.webelement.WebElement (session=\"837098ad3970ece255759ccf12b5dfa8\", element=\"232f2011-feea-4f15-b8e5-54d800e16372\")>, <selenium.webdriver.remote.webelement.WebElement (session=\"837098ad3970ece255759ccf12b5dfa8\", element=\"51bcba0a-06e8-4485-a236-c419407446e5\")>, <selenium.webdriver.remote.webelement.WebElement (session=\"837098ad3970ece255759ccf12b5dfa8\", element=\"3c68fce0-5c29-4c5e-83c8-128fecfdc5d4\")>, <selenium.webdriver.remote.webelement.WebElement (session=\"837098ad3970ece255759ccf12b5dfa8\", element=\"dcf709d2-de25-4a7e-ace8-23ae3191dae2\")>, <selenium.webdriver.remote.webelement.WebElement (session=\"837098ad3970ece255759ccf12b5dfa8\", element=\"36f1aa2e-bdaa-4e44-8361-dbf6da96ce6c\")>, <selenium.webdriver.remote.webelement.WebElement (session=\"837098ad3970ece255759ccf12b5dfa8\", element=\"bfe11329-0bfb-4e43-a3d5-ef3d794bff4e\")>, <selenium.webdriver.remote.webelement.WebElement (session=\"837098ad3970ece255759ccf12b5dfa8\", element=\"45ead08a-672d-46f3-a185-1245c66b6ac4\")>]\n",
      "--------------------------------------------------\n"
     ]
    }
   ],
   "source": [
    "select_xpath = driver.find_elements_by_xpath('//ul[@class=\"type01\"]/li/dl/dt/a') \n",
    "for i in select_xpath:\n",
    "    print(select_xpath)\n",
    "    \n",
    "\n",
    "print('-'*50)\n",
    "# select_last = driver.find_element_by_xpath('//ul[@class_=\"type01\"]/li[last()]/dl/dt/a') \n",
    "# select_last.text"
   ]
  },
  {
   "cell_type": "code",
   "execution_count": 21,
   "metadata": {},
   "outputs": [
    {
     "ename": "NameError",
     "evalue": "name 'select_last' is not defined",
     "output_type": "error",
     "traceback": [
      "\u001b[1;31m---------------------------------------------------------------------------\u001b[0m",
      "\u001b[1;31mNameError\u001b[0m                                 Traceback (most recent call last)",
      "\u001b[1;32m<ipython-input-21-71340a755a3b>\u001b[0m in \u001b[0;36m<module>\u001b[1;34m\u001b[0m\n\u001b[0;32m      1\u001b[0m \u001b[1;31m#속성에 접근 : get_attribute\u001b[0m\u001b[1;33m\u001b[0m\u001b[1;33m\u001b[0m\u001b[1;33m\u001b[0m\u001b[0m\n\u001b[1;32m----> 2\u001b[1;33m \u001b[0mselect_last\u001b[0m\u001b[1;33m.\u001b[0m\u001b[0mget_attribute\u001b[0m\u001b[1;33m(\u001b[0m\u001b[1;34m'href'\u001b[0m\u001b[1;33m)\u001b[0m\u001b[1;33m\u001b[0m\u001b[1;33m\u001b[0m\u001b[0m\n\u001b[0m",
      "\u001b[1;31mNameError\u001b[0m: name 'select_last' is not defined"
     ]
    }
   ],
   "source": [
    "#속성에 접근 : get_attribute\n",
    "select_last.get_attribute('href')"
   ]
  },
  {
   "cell_type": "markdown",
   "metadata": {},
   "source": [
    "#### headless"
   ]
  },
  {
   "cell_type": "code",
   "execution_count": 22,
   "metadata": {},
   "outputs": [],
   "source": [
    "# 셀레늄은 웹브라우저로 직접 접속해서  웹브라우저 창이 뜬다 :장점-> 바로바로 디버깅이 된다.\n",
    "# 셀레늄에 인터페이스가 내장되어있어서 바로 접속\n",
    "# 인터페이스는 연결고리\n",
    "# 인터페이스가 작용하지 않도록(웹페이지 뜨지 않도록) headless 기능 사용\n"
   ]
  },
  {
   "cell_type": "code",
   "execution_count": 3,
   "metadata": {},
   "outputs": [],
   "source": [
    "options = webdriver.ChromeOptions()\n",
    "options.add_argument('headless')"
   ]
  },
  {
   "cell_type": "code",
   "execution_count": 47,
   "metadata": {},
   "outputs": [],
   "source": [
    "# driver = webdriver.Chrome(driver_path, chrome_options=options)\n",
    "\n",
    "driver.get('http://www.naver.com')"
   ]
  },
  {
   "cell_type": "markdown",
   "metadata": {},
   "source": [
    "#### webbrowser 제어"
   ]
  },
  {
   "cell_type": "markdown",
   "metadata": {},
   "source": [
    "- 마우스 제어 : click()\n",
    "- 키보드 제어 : send_keys()"
   ]
  },
  {
   "cell_type": "markdown",
   "metadata": {},
   "source": [
    "키보드 제어  \n",
    "- 특수키 제어\n",
    "ex) NULL, ENTER, F1, F2 ~~"
   ]
  },
  {
   "cell_type": "code",
   "execution_count": 56,
   "metadata": {},
   "outputs": [
    {
     "data": {
      "text/plain": [
       "[<selenium.webdriver.remote.webelement.WebElement (session=\"b12682bd324af84799fb58d2ff685949\", element=\"6c888f13-8f2e-4ab0-848e-097292f4c0dd\")>,\n",
       " <selenium.webdriver.remote.webelement.WebElement (session=\"b12682bd324af84799fb58d2ff685949\", element=\"7149442c-5742-414f-b510-28ce7a2d0315\")>,\n",
       " <selenium.webdriver.remote.webelement.WebElement (session=\"b12682bd324af84799fb58d2ff685949\", element=\"f0f4cc90-9b3d-49bb-ac3a-611d22711986\")>,\n",
       " <selenium.webdriver.remote.webelement.WebElement (session=\"b12682bd324af84799fb58d2ff685949\", element=\"4dd94fe1-24fa-41b9-9fb9-862c8a2ff55c\")>,\n",
       " <selenium.webdriver.remote.webelement.WebElement (session=\"b12682bd324af84799fb58d2ff685949\", element=\"19fef7a0-47c5-4f72-8b8c-ce518bd04929\")>,\n",
       " <selenium.webdriver.remote.webelement.WebElement (session=\"b12682bd324af84799fb58d2ff685949\", element=\"1fd1dfa6-0517-44bb-8820-9470454e983f\")>,\n",
       " <selenium.webdriver.remote.webelement.WebElement (session=\"b12682bd324af84799fb58d2ff685949\", element=\"c6f73602-6344-4f15-9d7e-7836db48f4f7\")>,\n",
       " <selenium.webdriver.remote.webelement.WebElement (session=\"b12682bd324af84799fb58d2ff685949\", element=\"342065ec-cafa-4331-8cad-d5f02070ca00\")>,\n",
       " <selenium.webdriver.remote.webelement.WebElement (session=\"b12682bd324af84799fb58d2ff685949\", element=\"9ce5a0ca-1007-48dd-985e-fc65979d787c\")>,\n",
       " <selenium.webdriver.remote.webelement.WebElement (session=\"b12682bd324af84799fb58d2ff685949\", element=\"66205dda-21c8-46cf-991e-97551cfa3372\")>]"
      ]
     },
     "execution_count": 56,
     "metadata": {},
     "output_type": "execute_result"
    }
   ],
   "source": [
    "driver = webdriver.Chrome(driver_path)\n",
    "\n",
    "url = 'https://search.naver.com/search.naver?where=news&sm=tab_jum&query=워너원'\n",
    "driver.get(url)\n",
    "\n",
    "select_xpath = driver.find_elements_by_xpath('//ul[@class=\"type01\"]/li/dl/dt/a')\n",
    "select_xpath"
   ]
  },
  {
   "cell_type": "code",
   "execution_count": 57,
   "metadata": {},
   "outputs": [
    {
     "name": "stdout",
     "output_type": "stream",
     "text": [
      "http://starin.edaily.co.kr/news/newspath.asp?newsid=01210326622520736\n",
      "'워너원' 옹성우, 신곡 'Heart Sign' 오늘(11일) 발매\n",
      "http://biz.heraldcorp.com/view.php?ud=201906110820042177626_1\n",
      "라이관린X박지훈, 워너원 우정ing‥라지팀의 비주얼 폭격\n",
      "http://www.joynews24.com/view/1185058\n",
      "뮤지코인, 워너원 탄생시킨 작곡가들 만난다…'설렘 데이트'\n",
      "http://isplus.live.joins.com/news/article/aid.asp?aid=23085969\n",
      "\"워너원 우정 ing\"..라이관린X박지훈, 두 미소년의 훈훈 투샷\n",
      "http://www.spotvnews.co.kr/?mod=news&act=articleView&idxno=294614\n",
      "워너원 센터→소속사 분쟁→1인 기획사…강다니엘, 솔로 활동 '꽃길' or '가시...\n",
      "http://www.chuksannews.co.kr/news/article.html?no=180194\n",
      "‘라디오스타’ AB6IX로 데뷔하기 전 워너원 멤버로...\n",
      "http://star.mbn.co.kr/view.php?year=2019&no=400900&refer=portal\n",
      "‘2019 아시아 모델 어워즈’ 박지훈 “워너원 멤버들 정말 보고 싶어”\n",
      "http://sports.khan.co.kr/news/sk_index.html?art_id=201906100941003&sec_id=540101&pt=nv\n",
      "워너원 출신 박지훈 헬스케어 브랜드 모델 발탁 ‘9월에는 연기자 변신’\n",
      "http://www.osen.co.kr/article/G1111160293\n",
      "'5개월만 소통' 강다니엘, 1인기획사 설립→7월 데뷔설 vs LM과 심문기일 변경...\n",
      "http://www.gqkorea.co.kr/?p=141280\n",
      "방탄소년단의 뒤를 이를 새로운 보이 그룹은?\n"
     ]
    }
   ],
   "source": [
    "select_xpath = driver.find_elements_by_xpath('//ul[@class=\"type01\"]/li/dl/dt/a')\n",
    "for a in select_xpath:\n",
    "    print(a.get_attribute('href'))\n",
    "    print(a.text)\n",
    "    a.click()"
   ]
  },
  {
   "cell_type": "markdown",
   "metadata": {},
   "source": [
    "v = input('검색:')\n",
    "\n",
    "select_xpath = driver.find_elements_by_xpath('//span[@class=\"keyword\"]/input')\n",
    "select_xpath.send_keys(v)"
   ]
  },
  {
   "cell_type": "code",
   "execution_count": 62,
   "metadata": {
    "scrolled": false
   },
   "outputs": [
    {
     "name": "stdout",
     "output_type": "stream",
     "text": [
      "검색 : 안녕\n"
     ]
    }
   ],
   "source": [
    "search  = input('검색 : ')\n",
    "select_input = driver.find_element_by_xpath('//*[@id=\"nx_query\"]')\n",
    "select_input.clear()\n",
    "select_input.send_keys(search)\n",
    "\n",
    "select_button = driver.find_element_by_xpath('//*[@id=\"nx_search_form\"]/fieldset/button/span')\n",
    "select_button.click()"
   ]
  },
  {
   "cell_type": "code",
   "execution_count": 2,
   "metadata": {},
   "outputs": [
    {
     "ename": "NameError",
     "evalue": "name 'driver' is not defined",
     "output_type": "error",
     "traceback": [
      "\u001b[1;31m---------------------------------------------------------------------------\u001b[0m",
      "\u001b[1;31mNameError\u001b[0m                                 Traceback (most recent call last)",
      "\u001b[1;32m<ipython-input-2-78b8afc35a42>\u001b[0m in \u001b[0;36m<module>\u001b[1;34m\u001b[0m\n\u001b[0;32m      3\u001b[0m \u001b[1;32mfrom\u001b[0m \u001b[0mselenium\u001b[0m \u001b[1;32mimport\u001b[0m \u001b[0mwebdriver\u001b[0m\u001b[1;33m\u001b[0m\u001b[1;33m\u001b[0m\u001b[0m\n\u001b[0;32m      4\u001b[0m \u001b[1;31m#from selenium.webdriver.common.keys import keys\u001b[0m\u001b[1;33m\u001b[0m\u001b[1;33m\u001b[0m\u001b[1;33m\u001b[0m\u001b[0m\n\u001b[1;32m----> 5\u001b[1;33m \u001b[0mselect_input\u001b[0m \u001b[1;33m=\u001b[0m \u001b[0mdriver\u001b[0m\u001b[1;33m.\u001b[0m\u001b[0mfind_element_by_xpath\u001b[0m\u001b[1;33m(\u001b[0m\u001b[1;34m'//*[@id=\"nx_query\"]'\u001b[0m\u001b[1;33m)\u001b[0m\u001b[1;33m\u001b[0m\u001b[1;33m\u001b[0m\u001b[0m\n\u001b[0m\u001b[0;32m      6\u001b[0m \u001b[0mselect_input\u001b[0m\u001b[1;33m.\u001b[0m\u001b[0mclear\u001b[0m\u001b[1;33m(\u001b[0m\u001b[1;33m)\u001b[0m\u001b[1;33m\u001b[0m\u001b[1;33m\u001b[0m\u001b[0m\n\u001b[0;32m      7\u001b[0m \u001b[0melect_input\u001b[0m\u001b[1;33m.\u001b[0m\u001b[0msend_keys\u001b[0m\u001b[1;33m(\u001b[0m\u001b[1;34m'검색어'\u001b[0m\u001b[1;33m)\u001b[0m\u001b[1;33m\u001b[0m\u001b[1;33m\u001b[0m\u001b[0m\n",
      "\u001b[1;31mNameError\u001b[0m: name 'driver' is not defined"
     ]
    }
   ],
   "source": [
    "# 위에 clear함수 안먹으면\n",
    "import selenium\n",
    "from selenium import webdriver\n",
    "#from selenium.webdriver.common.keys import keys\n",
    "select_input = driver.find_element_by_xpath('//*[@id=\"nx_query\"]')\n",
    "select_input.clear()\n",
    "elect_input.send_keys('검색어')"
   ]
  },
  {
   "cell_type": "markdown",
   "metadata": {},
   "source": [
    "naver 검색해주는 함수"
   ]
  },
  {
   "cell_type": "code",
   "execution_count": 78,
   "metadata": {},
   "outputs": [
    {
     "name": "stdout",
     "output_type": "stream",
     "text": [
      "검색 : a\n"
     ]
    }
   ],
   "source": [
    "def naver_search(search_word): # 검색어 입력 받아서 검색해주는 함수 만들기\n",
    "    driver = webdriver.Chrome(driver_path)\n",
    "    url = 'https://www.naver.com/'\n",
    "    driver.get(url)\n",
    "    \n",
    "    select_input = driver.find_element_by_xpath('//*[@id=\"query\"]')\n",
    "    select_input.clear()\n",
    "    select_input.send_keys(search_word)\n",
    "    \n",
    "    select_button = driver.find_element_by_xpath('//*[@id=\"search_btn\"]')\n",
    "    select_button.click()\n",
    "\n",
    "\n",
    "a =  input('검색 : ')\n",
    "naver_search(a)"
   ]
  },
  {
   "cell_type": "code",
   "execution_count": 90,
   "metadata": {},
   "outputs": [
    {
     "name": "stdout",
     "output_type": "stream",
     "text": [
      "검색 : 스위치\n",
      "연관 검색어\n",
      "fromswitch\n",
      "switch\n",
      "닌텐도 스위치\n",
      "스위치 구관\n",
      "스위치 구체관절인형\n",
      "스위치 성향\n",
      "드라마 스위치\n",
      "연극 스위치\n",
      "스위치 드라마\n",
      "스위치 연극\n"
     ]
    }
   ],
   "source": [
    "#import selenium\n",
    "#from selenium import webdriver\n",
    "#from selenium.webdriver.common.keys import keys\n",
    "import numpy\n",
    "\n",
    "def naver_search(search_word): # 검색어 입력 받아서 검색해주는 함수 만들기\n",
    "    driver = webdriver.Chrome(driver_path)\n",
    "    url = 'https://www.naver.com/'\n",
    "    driver.get(url)\n",
    "    \n",
    "    select_input = driver.find_element_by_xpath('//*[@id=\"query\"]')\n",
    "    select_input.clear()\n",
    "    select_input.send_keys(search_word)\n",
    "    \n",
    "    select_button = driver.find_element_by_xpath('//*[@id=\"search_btn\"]')\n",
    "    select_button.click()\n",
    "    \n",
    "    related_word = driver.find_elements_by_xpath('//*[@id=\"nx_related_keywords\"]/dl/dd[1]') # 원래 첫번째는 0번째인데 html은 첫번째가 1번째\n",
    "    # 연관검색어는 하이퍼텍스트, 하이퍼텍스트는 하이퍼링크가 포함된 텍스트\n",
    "    print('연관 검색어')\n",
    "    for w in related_word:\n",
    "        print(w.text)\n",
    "\n",
    "\n",
    "a =  input('검색 : ')\n",
    "naver_search(a)"
   ]
  },
  {
   "cell_type": "markdown",
   "metadata": {},
   "source": [
    " 썜 솔루션\n",
    "def naver_search(search_word):\n",
    "    driver = webdriver.Chrome(driver_path)\n",
    "    url = 'https://www.naver.com/'\n",
    "    driver.get(url)\n",
    "    \n",
    "    select_input = driver.find_element_by_xpath('//*[@id=\"query\"]')\n",
    "    select_input.clear()\n",
    "    select_input.send_keys(search_word)\n",
    "    select_input.send_keys(Keys.ENTER)\n",
    "    \n",
    "    #연관검색어\n",
    "    relati"
   ]
  },
  {
   "cell_type": "code",
   "execution_count": 113,
   "metadata": {
    "scrolled": true
   },
   "outputs": [
    {
     "ename": "NoSuchElementException",
     "evalue": "Message: no such element: Unable to locate element: {\"method\":\"xpath\",\"selector\":\"//*[@id=\"a_cont_cinema\"]/div/div[4]/div[2]/div/dl[1]/dd/ul[2]/li[1]/a\"}\n  (Session info: chrome=75.0.3770.80)\n",
     "output_type": "error",
     "traceback": [
      "\u001b[1;31m---------------------------------------------------------------------------\u001b[0m",
      "\u001b[1;31mNoSuchElementException\u001b[0m                    Traceback (most recent call last)",
      "\u001b[1;32m<ipython-input-113-a6f3ba966338>\u001b[0m in \u001b[0;36m<module>\u001b[1;34m\u001b[0m\n\u001b[0;32m     14\u001b[0m \u001b[1;33m\u001b[0m\u001b[0m\n\u001b[0;32m     15\u001b[0m \u001b[1;33m\u001b[0m\u001b[0m\n\u001b[1;32m---> 16\u001b[1;33m \u001b[0mmovie\u001b[0m \u001b[1;33m=\u001b[0m \u001b[0mdriver\u001b[0m\u001b[1;33m.\u001b[0m\u001b[0mfind_element_by_xpath\u001b[0m\u001b[1;33m(\u001b[0m\u001b[1;34m'//*[@id=\"a_cont_cinema\"]/div/div[4]/div[2]/div/dl[1]/dd/ul[2]/li[1]/a'\u001b[0m\u001b[1;33m)\u001b[0m\u001b[1;33m\u001b[0m\u001b[1;33m\u001b[0m\u001b[0m\n\u001b[0m\u001b[0;32m     17\u001b[0m \u001b[0mmovie\u001b[0m\u001b[1;33m.\u001b[0m\u001b[0mclick\u001b[0m\u001b[1;33m(\u001b[0m\u001b[1;33m)\u001b[0m\u001b[1;33m\u001b[0m\u001b[1;33m\u001b[0m\u001b[0m\n",
      "\u001b[1;32mC:\\ProgramData\\Anaconda3\\envs\\finance\\lib\\site-packages\\selenium\\webdriver\\remote\\webdriver.py\u001b[0m in \u001b[0;36mfind_element_by_xpath\u001b[1;34m(self, xpath)\u001b[0m\n\u001b[0;32m    392\u001b[0m             \u001b[0melement\u001b[0m \u001b[1;33m=\u001b[0m \u001b[0mdriver\u001b[0m\u001b[1;33m.\u001b[0m\u001b[0mfind_element_by_xpath\u001b[0m\u001b[1;33m(\u001b[0m\u001b[1;34m'//div/td[1]'\u001b[0m\u001b[1;33m)\u001b[0m\u001b[1;33m\u001b[0m\u001b[1;33m\u001b[0m\u001b[0m\n\u001b[0;32m    393\u001b[0m         \"\"\"\n\u001b[1;32m--> 394\u001b[1;33m         \u001b[1;32mreturn\u001b[0m \u001b[0mself\u001b[0m\u001b[1;33m.\u001b[0m\u001b[0mfind_element\u001b[0m\u001b[1;33m(\u001b[0m\u001b[0mby\u001b[0m\u001b[1;33m=\u001b[0m\u001b[0mBy\u001b[0m\u001b[1;33m.\u001b[0m\u001b[0mXPATH\u001b[0m\u001b[1;33m,\u001b[0m \u001b[0mvalue\u001b[0m\u001b[1;33m=\u001b[0m\u001b[0mxpath\u001b[0m\u001b[1;33m)\u001b[0m\u001b[1;33m\u001b[0m\u001b[1;33m\u001b[0m\u001b[0m\n\u001b[0m\u001b[0;32m    395\u001b[0m \u001b[1;33m\u001b[0m\u001b[0m\n\u001b[0;32m    396\u001b[0m     \u001b[1;32mdef\u001b[0m \u001b[0mfind_elements_by_xpath\u001b[0m\u001b[1;33m(\u001b[0m\u001b[0mself\u001b[0m\u001b[1;33m,\u001b[0m \u001b[0mxpath\u001b[0m\u001b[1;33m)\u001b[0m\u001b[1;33m:\u001b[0m\u001b[1;33m\u001b[0m\u001b[1;33m\u001b[0m\u001b[0m\n",
      "\u001b[1;32mC:\\ProgramData\\Anaconda3\\envs\\finance\\lib\\site-packages\\selenium\\webdriver\\remote\\webdriver.py\u001b[0m in \u001b[0;36mfind_element\u001b[1;34m(self, by, value)\u001b[0m\n\u001b[0;32m    976\u001b[0m         return self.execute(Command.FIND_ELEMENT, {\n\u001b[0;32m    977\u001b[0m             \u001b[1;34m'using'\u001b[0m\u001b[1;33m:\u001b[0m \u001b[0mby\u001b[0m\u001b[1;33m,\u001b[0m\u001b[1;33m\u001b[0m\u001b[1;33m\u001b[0m\u001b[0m\n\u001b[1;32m--> 978\u001b[1;33m             'value': value})['value']\n\u001b[0m\u001b[0;32m    979\u001b[0m \u001b[1;33m\u001b[0m\u001b[0m\n\u001b[0;32m    980\u001b[0m     \u001b[1;32mdef\u001b[0m \u001b[0mfind_elements\u001b[0m\u001b[1;33m(\u001b[0m\u001b[0mself\u001b[0m\u001b[1;33m,\u001b[0m \u001b[0mby\u001b[0m\u001b[1;33m=\u001b[0m\u001b[0mBy\u001b[0m\u001b[1;33m.\u001b[0m\u001b[0mID\u001b[0m\u001b[1;33m,\u001b[0m \u001b[0mvalue\u001b[0m\u001b[1;33m=\u001b[0m\u001b[1;32mNone\u001b[0m\u001b[1;33m)\u001b[0m\u001b[1;33m:\u001b[0m\u001b[1;33m\u001b[0m\u001b[1;33m\u001b[0m\u001b[0m\n",
      "\u001b[1;32mC:\\ProgramData\\Anaconda3\\envs\\finance\\lib\\site-packages\\selenium\\webdriver\\remote\\webdriver.py\u001b[0m in \u001b[0;36mexecute\u001b[1;34m(self, driver_command, params)\u001b[0m\n\u001b[0;32m    319\u001b[0m         \u001b[0mresponse\u001b[0m \u001b[1;33m=\u001b[0m \u001b[0mself\u001b[0m\u001b[1;33m.\u001b[0m\u001b[0mcommand_executor\u001b[0m\u001b[1;33m.\u001b[0m\u001b[0mexecute\u001b[0m\u001b[1;33m(\u001b[0m\u001b[0mdriver_command\u001b[0m\u001b[1;33m,\u001b[0m \u001b[0mparams\u001b[0m\u001b[1;33m)\u001b[0m\u001b[1;33m\u001b[0m\u001b[1;33m\u001b[0m\u001b[0m\n\u001b[0;32m    320\u001b[0m         \u001b[1;32mif\u001b[0m \u001b[0mresponse\u001b[0m\u001b[1;33m:\u001b[0m\u001b[1;33m\u001b[0m\u001b[1;33m\u001b[0m\u001b[0m\n\u001b[1;32m--> 321\u001b[1;33m             \u001b[0mself\u001b[0m\u001b[1;33m.\u001b[0m\u001b[0merror_handler\u001b[0m\u001b[1;33m.\u001b[0m\u001b[0mcheck_response\u001b[0m\u001b[1;33m(\u001b[0m\u001b[0mresponse\u001b[0m\u001b[1;33m)\u001b[0m\u001b[1;33m\u001b[0m\u001b[1;33m\u001b[0m\u001b[0m\n\u001b[0m\u001b[0;32m    322\u001b[0m             response['value'] = self._unwrap_value(\n\u001b[0;32m    323\u001b[0m                 response.get('value', None))\n",
      "\u001b[1;32mC:\\ProgramData\\Anaconda3\\envs\\finance\\lib\\site-packages\\selenium\\webdriver\\remote\\errorhandler.py\u001b[0m in \u001b[0;36mcheck_response\u001b[1;34m(self, response)\u001b[0m\n\u001b[0;32m    240\u001b[0m                 \u001b[0malert_text\u001b[0m \u001b[1;33m=\u001b[0m \u001b[0mvalue\u001b[0m\u001b[1;33m[\u001b[0m\u001b[1;34m'alert'\u001b[0m\u001b[1;33m]\u001b[0m\u001b[1;33m.\u001b[0m\u001b[0mget\u001b[0m\u001b[1;33m(\u001b[0m\u001b[1;34m'text'\u001b[0m\u001b[1;33m)\u001b[0m\u001b[1;33m\u001b[0m\u001b[1;33m\u001b[0m\u001b[0m\n\u001b[0;32m    241\u001b[0m             \u001b[1;32mraise\u001b[0m \u001b[0mexception_class\u001b[0m\u001b[1;33m(\u001b[0m\u001b[0mmessage\u001b[0m\u001b[1;33m,\u001b[0m \u001b[0mscreen\u001b[0m\u001b[1;33m,\u001b[0m \u001b[0mstacktrace\u001b[0m\u001b[1;33m,\u001b[0m \u001b[0malert_text\u001b[0m\u001b[1;33m)\u001b[0m\u001b[1;33m\u001b[0m\u001b[1;33m\u001b[0m\u001b[0m\n\u001b[1;32m--> 242\u001b[1;33m         \u001b[1;32mraise\u001b[0m \u001b[0mexception_class\u001b[0m\u001b[1;33m(\u001b[0m\u001b[0mmessage\u001b[0m\u001b[1;33m,\u001b[0m \u001b[0mscreen\u001b[0m\u001b[1;33m,\u001b[0m \u001b[0mstacktrace\u001b[0m\u001b[1;33m)\u001b[0m\u001b[1;33m\u001b[0m\u001b[1;33m\u001b[0m\u001b[0m\n\u001b[0m\u001b[0;32m    243\u001b[0m \u001b[1;33m\u001b[0m\u001b[0m\n\u001b[0;32m    244\u001b[0m     \u001b[1;32mdef\u001b[0m \u001b[0m_value_or_default\u001b[0m\u001b[1;33m(\u001b[0m\u001b[0mself\u001b[0m\u001b[1;33m,\u001b[0m \u001b[0mobj\u001b[0m\u001b[1;33m,\u001b[0m \u001b[0mkey\u001b[0m\u001b[1;33m,\u001b[0m \u001b[0mdefault\u001b[0m\u001b[1;33m)\u001b[0m\u001b[1;33m:\u001b[0m\u001b[1;33m\u001b[0m\u001b[1;33m\u001b[0m\u001b[0m\n",
      "\u001b[1;31mNoSuchElementException\u001b[0m: Message: no such element: Unable to locate element: {\"method\":\"xpath\",\"selector\":\"//*[@id=\"a_cont_cinema\"]/div/div[4]/div[2]/div/dl[1]/dd/ul[2]/li[1]/a\"}\n  (Session info: chrome=75.0.3770.80)\n"
     ]
    }
   ],
   "source": [
    "import time  # 셀레늄 느려서 사이트 키고 접속하는 동안 코드 진행되지 않도록 코드진행 멈추는 함수 쓰기 위해 import\n",
    "\n",
    "\n",
    "driver = webdriver.Chrome(driver_path)\n",
    "url = 'http://www.lottecinema.co.kr'\n",
    "driver.get(url)\n",
    "\n",
    "theater = driver.find_element_by_xpath('//*[@id=\"wrap\"]/div[2]/div[7]/ul/li[3]/a')\n",
    "theater.click()\n",
    "region = driver.find_element_by_xpath('//*[@id=\"wrap\"]/div[2]/div[7]/ul/li[3]/div/ul/li[2]/a')\n",
    "region.click()\n",
    "vill = driver.find_element_by_xpath('//*[@id=\"wrap\"]/div[2]/div[7]/ul/li[3]/div/ul/li[2]/div/ul/li[12]/a')\n",
    "vill.click()\n",
    "\n",
    "\n",
    "movie = driver.find_element_by_xpath('//*[@id=\"a_cont_cinema\"]/div/div[4]/div[2]/div/dl[1]/dd/ul[2]/li[1]/a')\n",
    "movie.click()"
   ]
  },
  {
   "cell_type": "code",
   "execution_count": 125,
   "metadata": {},
   "outputs": [],
   "source": [
    "import re"
   ]
  },
  {
   "cell_type": "code",
   "execution_count": 5,
   "metadata": {},
   "outputs": [
    {
     "name": "stdout",
     "output_type": "stream",
     "text": [
      "1 ['맨 인 블랙: 인터내셔널', '조조10:20', '3관', '248석 / 261석']\n",
      "2 ['기생충', '11:35', '5관', '24석 / 27석']\n",
      "3 ['알라딘', '조조09:40', '3관', '247석 / 261석']\n",
      "4 ['글로리아 벨', '조조10:35', '5관', '25석 / 27석']\n",
      "5 ['닥치고 피아노!', '12:40', '3관', '258석 / 261석']\n",
      "6 ['물의 기억', '22:35', '5관', '26석 / 27석']\n"
     ]
    }
   ],
   "source": [
    "import time\n",
    "import selenium\n",
    "from selenium import webdriver\n",
    "\n",
    "driver_path = 'Webdriver/chromedriver.exe'\n",
    "\n",
    "driver = webdriver.Chrome(driver_path)\n",
    "url = 'http://www.lottecinema.co.kr'\n",
    "driver.get(url)\n",
    "\n",
    "theater = driver.find_element_by_xpath('//*[@id=\"wrap\"]/div[2]/div[7]/ul/li[3]/a')\n",
    "theater.click()\n",
    "region = driver.find_element_by_xpath('//*[@id=\"wrap\"]/div[2]/div[7]/ul/li[3]/div/ul/li[2]/a')\n",
    "region.click()\n",
    "vill = driver.find_element_by_xpath('//*[@id=\"wrap\"]/div[2]/div[7]/ul/li[3]/div/ul/li[2]/div/ul/li[12]/a')\n",
    "vill.click()\n",
    "\n",
    "time.sleep(1)\n",
    "\n",
    "\n",
    "# #movie_info = driver.find_elements_by_xpath('//*[@id=\"a_cont_cinema\"]/div/div[4]/div[2]/div/dl')\n",
    "\n",
    "\n",
    "title = []\n",
    "table = []\n",
    "title_info = driver.find_elements_by_xpath('//*[@id=\"a_cont_cinema\"]/div/div[4]/div[2]/div/dl/dt')\n",
    "\n",
    "for t in title_info:\n",
    "    a = t.text\n",
    "    title.append(a.lstrip('12|15|19|07|전체'))\n",
    "\n",
    "for ti in range(len(title)):\n",
    "    \n",
    "    \n",
    "    time_info = driver.find_elements_by_xpath('//*[@id=\"a_cont_cinema\"]/div/div[4]/div[2]/div/dl['+str(ti+1)+']/dd/ul[2]/li/a/span[2]')\n",
    "    room_info = driver.find_elements_by_xpath('//*[@id=\"a_cont_cinema\"]/div/div[4]/div[2]/div/dl/dd/ul[2]/li['+str(ti+1)+']/a/span[1]')\n",
    "    seat = driver.find_elements_by_xpath('//*[@id=\"a_cont_cinema\"]/div/div[4]/div[2]/div/dl[1]/dd/ul[2]/li['+str(ti+1)+']/a/span[3]')\n",
    "    \n",
    "    for t,r,s in zip(time_info, room_info, seat):\n",
    "        table.append([title[ti],t.text, r.text, s.text])\n",
    "        \n",
    "#         c = ts.text\n",
    "#         table.append(c)\n",
    "    #for ts in \n",
    "# 코드의 가독성을 위해 xpath를 상대경로로 써보자\n",
    "         \n",
    "    \n",
    "\n",
    "for (n,i) in enumerate(table):\n",
    "    print(n+1,i)"
   ]
  },
  {
   "cell_type": "code",
   "execution_count": null,
   "metadata": {},
   "outputs": [],
   "source": [
    "def movie(region, movie):\n",
    "    import time\n",
    "    import selenium\n",
    "    from selenium import webdriver\n",
    "\n",
    "    driver_path = 'Webdriver/chromedriver.exe'\n",
    "\n",
    "    driver = webdriver.Chrome(driver_path)\n",
    "    url = 'http://www.lottecinema.co.kr'\n",
    "    driver.get(url)\n",
    "\n",
    "    theater = driver.find_element_by_xpath('//*[@id=\"wrap\"]/div[2]/div[7]/ul/li[3]/a')\n",
    "    theater.click()\n",
    "    region = driver.find_element_by_xpath('//*[@id=\"wrap\"]/div[2]/div[7]/ul/li[3]/div/ul/li[2]/a')\n",
    "    region.click()\n",
    "    vill = driver.find_element_by_xpath('//*[@id=\"wrap\"]/div[2]/div[7]/ul/li[3]/div/ul/li[2]/div/ul/li[12]/a')\n",
    "    vill.click()\n",
    "\n",
    "    time.sleep(1)\n",
    "\n",
    "\n",
    "    # #movie_info = driver.find_elements_by_xpath('//*[@id=\"a_cont_cinema\"]/div/div[4]/div[2]/div/dl')\n",
    "\n",
    "\n",
    "    title = []\n",
    "    table = []\n",
    "    title_info = driver.find_elements_by_xpath('//*[@id=\"a_cont_cinema\"]/div/div[4]/div[2]/div/dl/dt')\n",
    "\n",
    "    for t in title_info:\n",
    "        a = t.text\n",
    "        title.append(a.lstrip('12|15|19|07|전체'))\n",
    "\n",
    "    for ti in range(len(title)):\n",
    "        i = ti+1\n",
    "\n",
    "        time_info = driver.find_elements_by_xpath('//*[@id=\"a_cont_cinema\"]/div/div[4]/div[2]/div/dl['+str(i)+']/dd/ul[2]/li/a/span[2]')\n",
    "        room_info = driver.find_elements_by_xpath('//*[@id=\"a_cont_cinema\"]/div/div[4]/div[2]/div/dl/dd/ul[2]/li['+str(i)+']/a/span[1]')\n",
    "        seat = driver.find_elements_by_xpath('//*[@id=\"a_cont_cinema\"]/div/div[4]/div[2]/div/dl[1]/dd/ul[2]/li['+str(i)+']/a/span[3]')\n",
    "\n",
    "        for t,r,s in zip(time_info, room_info, seat):\n",
    "            table.append([title[ti],t.text, r.text, s.text])\n",
    "\n",
    "    #         c = ts.text\n",
    "    #         table.append(c)\n",
    "        #for ts in \n",
    "\n",
    "\n",
    "\n",
    "\n",
    "    for (n,i) in enumerate(table):\n",
    "        print(n+1,i)\n",
    "    "
   ]
  },
  {
   "cell_type": "code",
   "execution_count": 122,
   "metadata": {},
   "outputs": [
    {
     "ename": "AttributeError",
     "evalue": "'list' object has no attribute 'size'",
     "output_type": "error",
     "traceback": [
      "\u001b[1;31m---------------------------------------------------------------------------\u001b[0m",
      "\u001b[1;31mAttributeError\u001b[0m                            Traceback (most recent call last)",
      "\u001b[1;32m<ipython-input-122-edbd07116fdc>\u001b[0m in \u001b[0;36m<module>\u001b[1;34m\u001b[0m\n\u001b[1;32m----> 1\u001b[1;33m \u001b[0mtotal_seat\u001b[0m\u001b[1;33m.\u001b[0m\u001b[0msize\u001b[0m\u001b[1;33m,\u001b[0m \u001b[0mtime_info\u001b[0m\u001b[1;33m.\u001b[0m\u001b[0msize\u001b[0m\u001b[1;33m\u001b[0m\u001b[1;33m\u001b[0m\u001b[0m\n\u001b[0m",
      "\u001b[1;31mAttributeError\u001b[0m: 'list' object has no attribute 'size'"
     ]
    }
   ],
   "source": [
    "total_seat.size, time_info.size"
   ]
  },
  {
   "cell_type": "code",
   "execution_count": 117,
   "metadata": {},
   "outputs": [
    {
     "name": "stdout",
     "output_type": "stream",
     "text": [
      "1 ['기생충', '21:55', '3관']\n",
      "2 ['기생충', '23:10', '5관']\n",
      "3 ['기생충', '심야24:30', '1관']\n",
      "4 ['로켓맨', '22:05', '2관']\n",
      "5 ['로켓맨', '심야24:30', '5관']\n",
      "6 ['엑스맨: 다크 피닉스', '22:05', '3관']\n"
     ]
    }
   ],
   "source": [
    "for (n,i) in enumerate(table):\n",
    "    print(n+1,i)"
   ]
  },
  {
   "cell_type": "code",
   "execution_count": null,
   "metadata": {},
   "outputs": [],
   "source": [
    "//*[@id=\"a_cont_cinema\"]/div/div[4]/div[2]/div/dl[1]/dd/ul[2]/li[1]/a/span[3]\n",
    "//*[@id=\"a_cont_cinema\"]/div/div[4]/div[2]/div/dl[1]/dd/ul[2]/li[2]/a/span[3]"
   ]
  },
  {
   "cell_type": "code",
   "execution_count": null,
   "metadata": {},
   "outputs": [],
   "source": [
    "time_list = driver.find_elements_by_xpath('//*[@id=\"a_cont_cinema\"]/div/div[4]/div[2]/div/dl/dd/ul[2]/li/a/span[2]')\n",
    "\n",
    "\n",
    "time = []\n",
    "for t in time_list:\n",
    "    a = t.text\n",
    "    time.append(a)\n",
    "time"
   ]
  },
  {
   "cell_type": "code",
   "execution_count": 166,
   "metadata": {},
   "outputs": [
    {
     "data": {
      "text/plain": [
       "['기생충', '알라딘', '엑스맨: 다크 피닉스', '로켓맨', '글로리아 벨', '닥치고 피아노!', '물의 기억']"
      ]
     },
     "execution_count": 166,
     "metadata": {},
     "output_type": "execute_result"
    }
   ],
   "source": [
    "title = []\n",
    "for t in title_list:\n",
    "    a = t.text\n",
    "    title.append(a.lstrip('12|15|19|07|전체'))\n",
    "title"
   ]
  },
  {
   "cell_type": "code",
   "execution_count": 169,
   "metadata": {
    "scrolled": false
   },
   "outputs": [
    {
     "ename": "NameError",
     "evalue": "name 'time_list' is not defined",
     "output_type": "error",
     "traceback": [
      "\u001b[1;31m---------------------------------------------------------------------------\u001b[0m",
      "\u001b[1;31mNameError\u001b[0m                                 Traceback (most recent call last)",
      "\u001b[1;32m<ipython-input-169-0a478c63e07c>\u001b[0m in \u001b[0;36m<module>\u001b[1;34m\u001b[0m\n\u001b[0;32m      1\u001b[0m \u001b[0mtime\u001b[0m \u001b[1;33m=\u001b[0m \u001b[1;33m[\u001b[0m\u001b[1;33m]\u001b[0m\u001b[1;33m\u001b[0m\u001b[1;33m\u001b[0m\u001b[0m\n\u001b[1;32m----> 2\u001b[1;33m \u001b[1;32mfor\u001b[0m \u001b[0mt\u001b[0m \u001b[1;32min\u001b[0m \u001b[0mtime_list\u001b[0m\u001b[1;33m:\u001b[0m\u001b[1;33m\u001b[0m\u001b[1;33m\u001b[0m\u001b[0m\n\u001b[0m\u001b[0;32m      3\u001b[0m     \u001b[0ma\u001b[0m \u001b[1;33m=\u001b[0m \u001b[0mt\u001b[0m\u001b[1;33m.\u001b[0m\u001b[0mtext\u001b[0m\u001b[1;33m\u001b[0m\u001b[1;33m\u001b[0m\u001b[0m\n\u001b[0;32m      4\u001b[0m     \u001b[0mtime\u001b[0m\u001b[1;33m.\u001b[0m\u001b[0mappend\u001b[0m\u001b[1;33m(\u001b[0m\u001b[0ma\u001b[0m\u001b[1;33m)\u001b[0m\u001b[1;33m\u001b[0m\u001b[1;33m\u001b[0m\u001b[0m\n\u001b[0;32m      5\u001b[0m \u001b[0mtime\u001b[0m\u001b[1;33m\u001b[0m\u001b[1;33m\u001b[0m\u001b[0m\n",
      "\u001b[1;31mNameError\u001b[0m: name 'time_list' is not defined"
     ]
    }
   ],
   "source": [
    "time = []\n",
    "for t in time_list:\n",
    "    a = t.text\n",
    "    time.append(a)\n",
    "time"
   ]
  },
  {
   "cell_type": "markdown",
   "metadata": {},
   "source": [
    "#### 묵시적 대기\n",
    "\n",
    "- 명시적 대기(time.sleep(5))의 문제점의 한계\n",
    "5초 뒤에 켜질지 어떻게 장담할 수 있을까?\n",
    "-> 불확실한 점을 보완하기 위해(명시적 대기의 한계를 극복하기 위해) 위의 브라우저가 다 켜지고 난 뒤 그 다음 코드 진행되게 하면 된다.\n",
    "그럼 완료 상황을 어떻게 전달해줄 것인가?\n",
    "-> 브라우저 다 켜지고 나야 찾을 수 있는 태그를 기준으로 하자\n",
    "-> 특정 코드를 찾기 전까지 기다리고 찾아지면 그 다음이 진행되게 하자\n",
    "\n",
    "-> 효율적으로 보이지만 실제로 코딩해보면 사람의 체감 시간상 그렇게 효율적이진 않다ㅋㅋㅋㅋ"
   ]
  },
  {
   "cell_type": "code",
   "execution_count": 8,
   "metadata": {},
   "outputs": [],
   "source": [
    "from selenium.webdriver.common.by import By                # 특정 지정자는 선언할때\n",
    "from selenium.webdriver.support.ui import WebDriverWait    #드라이버를 대기시키는 아이\n",
    "from selenium.webdriver.support import expected_conditions as EC   #어떤 상태를 긁어오고 싶을때\n",
    "\n",
    "# 이 3개를 조합해서 묵시적 대기를 수행할 수 있다.\n",
    "element = WebDriverWait(driver,3).until(\n",
    "    EC.presence_of _element_located((By.ID, 'search_btn'))) # 최대 3초 기다리는데 ID의 속상이 sezrch_btn인 애가 나타날 때까지 기다린다."
   ]
  },
  {
   "cell_type": "markdown",
   "metadata": {},
   "source": [
    "###  bs4와 selenium"
   ]
  },
  {
   "cell_type": "code",
   "execution_count": 14,
   "metadata": {},
   "outputs": [
    {
     "name": "stdout",
     "output_type": "stream",
     "text": [
      "3.429131269454956\n"
     ]
    }
   ],
   "source": [
    "# 시간 비교\n",
    "import time\n",
    "from selenium import webdriver\n",
    "import requests\n",
    "from bs4 import BeautifulSoup \n",
    "\n",
    "url = 'http://www.naver.com'\n",
    "\n",
    "# selenium으로 읽어들이자\n",
    "\n",
    "\n",
    "start_selenium = time.time()\n",
    "\n",
    "\n",
    "driver =  webdriver.Chrome(driver_path)\n",
    "driver.get(url)\n",
    "\n",
    "for _ in range(10):\n",
    "    element_div = driver.find_elements_by_tag_name('div')\n",
    "\n",
    "end_selenium = time.time()\n",
    "print(end_selenium - start_selenium)\n",
    "\n"
   ]
  },
  {
   "cell_type": "code",
   "execution_count": 15,
   "metadata": {},
   "outputs": [
    {
     "name": "stdout",
     "output_type": "stream",
     "text": [
      "0.14040470123291016\n"
     ]
    }
   ],
   "source": [
    "import time\n",
    "from selenium import webdriver\n",
    "import requests\n",
    "from bs4 import BeautifulSoup \n",
    "\n",
    "url = 'http://www.naver.com'\n",
    "# bs4로 읽어들이자\n",
    "\n",
    "start_bs4 = time.time()\n",
    "\n",
    "request = requests.get(url)\n",
    "\n",
    "r_parsing = BeautifulSoup(request.content,'lxml')\n",
    "\n",
    "for _ in range(10):\n",
    "    tag_div = r_parsing.find_all('div')\n",
    "\n",
    "end_bs4 = time.time()\n",
    "\n",
    "print(end_bs4 - start_bs4)\n"
   ]
  },
  {
   "cell_type": "code",
   "execution_count": 18,
   "metadata": {},
   "outputs": [
    {
     "data": {
      "text/plain": [
       "'<html lang=\"ko\"><head>\\n<meta charset=\"utf-8\">\\n<meta name=\"Referrer\" content=\"origin\">\\n<meta http-equiv=\"Content-Script-Type\" content=\"text/javascript\">\\n<meta http-equiv=\"Content-Style-Type\" content=\"text/css\">\\n<meta http-equiv=\"X-UA-Compatible\" content=\"IE=edge\">\\n<meta name=\"viewport\" content=\"width=1100\">\\n<meta name=\"apple-mobile-web-app-title\" content=\"NAVER\">\\n<meta name=\"robots\" content=\"index,nofollow\">\\n<meta name=\"description\" content=\"네이버 메인에서 다양한 정보와 유용한 컨텐츠를 만나 보세요\">\\n<meta property=\"og:title\" content=\"네이버\">\\n<meta property=\"og:url\" content=\"https://www.naver.com/\">\\n<meta property=\"og:image\" content=\"https://s.pstatic.net/static/www/mobile/edit/2016/0705/mobile_212852414260.png\">\\n<meta property=\"og:description\" content=\"네이버 메인에서 다양한 정보와 유용한 컨텐츠를 만나 보세요\">\\n<meta name=\"twitter:card\" content=\"summary\">\\n<meta name=\"twitter:title\" content=\"\">\\n<meta name=\"twitter:url\" content=\"https://www.naver.com/\">\\n<meta name=\"twitter:image\" content=\"https://s.pstatic.net/static/www/mobile/edit/2016/0705/mobile_212852414260.png\">\\n<meta name=\"twitter:description\" content=\"네이버 메인에서 다양한 정보와 유용한 컨텐츠를 만나 보세요\">\\n\\n\\n<link rel=\"shortcut icon\" type=\"image/x-icon\" href=\"/favicon.ico?1\">\\n\\n<link rel=\"stylesheet\" type=\"text/css\" href=\"https://pm.pstatic.net/css/main_v190523.css\"> \\n<link rel=\"stylesheet\" type=\"text/css\" href=\"https://pm.pstatic.net/css/webfont_v170623.css\">\\n<link rel=\"stylesheet\" type=\"text/css\" href=\"https://ssl.pstatic.net/sstatic/search/pc/css/api_atcmp_181122.css\">\\n\\n\\n<script type=\"text/javascript\" src=\"https://pm.pstatic.net/js/c/nlog_v181107.js\"></script>\\n\\n<script type=\"text/javascript\" src=\"https://ssl.pstatic.net/tveta/libs/assets/js/common/min/probe.min.js\"></script>\\n<script type=\"text/javascript\">\\nvar nsc = \"navertop.v3\";\\ndocument.domain = \"naver.com\";\\nvar jindoAll = \"\";\\nvar iframeLazyLoad = false;\\nif (!!!window.console) {window.console={};window.console[\"log\"]=function(){}}\\nvar isLogin = false; \\nfunction refreshLcs(etc) {etc = etc ? etc : {};if(document.cookie.indexOf(\"nrefreshx=1\") != -1) {etc[\"mrf\"]=\"1\";} else {etc[\"pan\"]=\"mom\";}return etc;}\\n\\n</script>\\n<title>NAVER</title>\\n<style>\\n\\t#_nx_kbd .setkorhelp a { display:none; }\\n</style><script type=\"text/javascript\" charset=\"utf-8\" src=\"https://pm.pstatic.net/js/c/nmain_v190523.js\"></script><script type=\"text/javascript\" charset=\"utf-8\" src=\"https://ssl.pstatic.net/tveta/libs/assets/js/pc/main/min/pc.veta.core.min.js?20180330\"></script></head>\\n\\n\\n\\n\\n\\n\\n\\n\\n\\n\\n\\n\\n\\n\\n\\n\\n\\n\\n\\n\\n<body class=\"\">\\n\\t<!-- 스킵 내비게이션 -->\\n\\t<div class=\"u_skip\">\\n\\t\\t<a href=\"#news_cast\" onclick=\"document.getElementById(\\'news_cast2\\').tabIndex = -1;document.getElementById(\\'news_cast2\\').focus();return false;\"><span>연합뉴스 바로가기</span></a>\\n\\t\\t<a href=\"#themecast\" onclick=\"document.getElementById(\\'themecast\\').tabIndex = -1;document.getElementById(\\'themecast\\').focus();return false;\"><span>주제별캐스트 바로가기</span></a>\\n\\t\\t<a href=\"#time_square\" onclick=\"document.getElementById(\\'time_square\\').tabIndex = -1;document.getElementById(\\'time_square\\').focus();return false;\"><span>타임스퀘어 바로가기</span></a>\\n\\t\\t<a href=\"#shp_cst\" onclick=\"document.getElementById(\\'shp_cst\\').tabIndex = -1;document.getElementById(\\'shp_cst\\').focus();return false;\"><span>쇼핑캐스트 바로가기</span></a>\\n\\t\\t<a href=\"#account\" onclick=\"document.getElementById(\\'account\\').tabIndex = -1;document.getElementById(\\'account\\').focus();return false;\"><span>로그인 바로가기</span></a>\\n\\t</div>\\n\\t<!-- //스킵 내비게이션 -->\\n\\t\\n\\n\\n\\n\\n\\n\\n\\n\\n\\n\\n\\n\\n \\n\\n\\t<div id=\"PM_ID_ct\" class=\"wrap\">\\n\\t\\t<!-- 헤더 -->\\n<div class=\"header\" role=\"banner\">\\n\\t\\n\\n\\n\\n\\n\\n\\n<div class=\"special_bg\">\\n<div class=\"area_flex\">\\n<div class=\"area_logo\">\\n<h1>\\n<a data-clk=\"top.logo\" href=\"/\"><span class=\"naver_logo\">네이버</span></a>\\n</h1>\\n</div>\\n<div class=\"area_links\">\\n<a data-clk=\"top.mkhome\" href=\"http://help.naver.com/support/alias/contents2/naverhome/naverhome_1.naver\" class=\"al_favorite\">네이버를 시작페이지로<span class=\"al_ico_link\"></span></a>\\n<span class=\"al_bar\"></span>\\n<a data-clk=\"top.jrnaver\" href=\"http://jr.naver.com\" class=\"al_jr\"><span class=\"blind\">쥬니어네이버</span><span class=\"al_ico\"></span></a>\\n<a data-clk=\"top.happybean\" href=\"http://happybean.naver.com/main/SectionMain.nhn\" class=\"al_happybean\"><span class=\"blind\">해피빈</span><span class=\"al_ico\"></span></a>\\n</div>\\n<div id=\"search\" class=\"search\">\\n<!--자동완성 입력창-->\\n\\n<form id=\"sform\" name=\"sform\" action=\"https://search.naver.com/search.naver\" method=\"get\">\\n\\n\\t<fieldset>\\n   \\t\\t<legend class=\"blind\">검색</legend>\\n        <input type=\"hidden\" id=\"sm\" name=\"sm\" value=\"top_hty\">\\n        <input type=\"hidden\" id=\"fbm\" name=\"fbm\" value=\"0\">\\n        <input type=\"hidden\" id=\"acr\" name=\"acr\" value=\"\" disabled=\"disabled\">\\n        <input type=\"hidden\" id=\"acq\" name=\"acq\" value=\"\" disabled=\"disabled\">\\n        <input type=\"hidden\" id=\"qdt\" name=\"qdt\" value=\"\" disabled=\"disabled\">\\n        <input type=\"hidden\" id=\"ie\" name=\"ie\" value=\"utf8\">\\n        <input type=\"hidden\" id=\"acir\" name=\"acir\" value=\"\" disabled=\"disabled\">\\n        <input type=\"hidden\" id=\"os\" name=\"os\" value=\"\" disabled=\"disabled\">\\n        <input type=\"hidden\" id=\"bid\" name=\"bid\" value=\"\" disabled=\"disabled\">\\n        <input type=\"hidden\" id=\"pkid\" name=\"pkid\" value=\"\" disabled=\"disabled\">\\n        <input type=\"hidden\" id=\"eid\" name=\"eid\" value=\"\" disabled=\"disabled\">\\n        <input type=\"hidden\" id=\"mra\" name=\"mra\" value=\"\" disabled=\"disabled\">\\n        <span class=\"green_window\">\\n            <input id=\"query\" name=\"query\" type=\"text\" title=\"검색어 입력\" maxlength=\"255\" class=\"input_text\" tabindex=\"1\" accesskey=\"s\" style=\"ime-mode:active;\" autocomplete=\"off\" onclick=\"document.getElementById(\\'fbm\\').value=1;\" value=\"\">\\n        </span>\\n        <div id=\"nautocomplete\" class=\"autocomplete\">\\n            <!-- 자동완성 열린 경우 fold 클래스 추가, 딤드인 경우 dim 추가 -->\\n            <a href=\"javascript:;\" role=\"button\" tabindex=\"2\" class=\"btn_arw _btn_arw fold\"><span class=\"blind _text\">자동완성 펼치기</span><span class=\"ico_arr\"></span></a>\\n        </div>\\n        <button id=\"search_btn\" type=\"submit\" title=\"검색\" tabindex=\"3\" class=\"sch_smit\" onmouseover=\"this.className=\\'sch_smit over\\'\" onmousedown=\"this.className=\\'sch_smit down\\'\" onmouseout=\"this.className=\\'sch_smit\\'\" onclick=\"clickcr(this,\\'sch.action\\',\\'\\',\\'\\',event);\"><span class=\"blind\">검색</span><span class=\"ico_search_submit\"></span></button>\\n    </fieldset>\\n</form>\\n<!--자동완성 입력창-->\\n<!--한글입력기 -->\\n<a href=\"javascript:;\" id=\"ke_kbd_btn\" role=\"button\" class=\"btn_keyboard\" onclick=\"nx_ime_load(this)\" data-clk=\"sch.ime\"><span class=\"blind\">한글 입력기</span><span class=\"ico_keyboard\"></span></a>\\n<style type=\"text/css\" id=\"_nx_kbd_style\"></style>\\n<div id=\"_nx_kbd\" style=\"display:none;\"></div>\\n<!--한글입력기 -->\\n<!--자동완성 레이어 -->\\n<div id=\"autoFrame\" class=\"reatcmp\" style=\"background-color:rgb(255, 255, 255);display:none;\">\\n    <div class=\"api_atcmp_wrap _atcmp\" style=\"display:none;\">\\n        <div class=\"words _words\">\\n            <div class=\"_atcmp_result_wrap\">\\n                <ul class=\"_resultBox\"></ul>\\n                <ul class=\"_resultBox\"></ul>\\n                <ul class=\"_resultBox\"></ul>\\n                <ul class=\"_resultBox\"></ul>\\n            </div>\\n            <!-- 우측 정답형 영역 -->\\n            <div class=\"add_group _atcmp_answer_wrap\"></div>\\n        </div>\\n        <!-- 컨텍스트 자동완성 플러스 -->\\n        <!-- [AU] _plus -->\\n        <div class=\"atcmp_plus _plus\">\\n            <span class=\"desc\">\\n                <span class=\"plus_txt _plusTxt\">시간대와 관심사에 맞춘 <em class=\"txt\">컨텍스트 자동완성</em></span>\\n                <a onclick=\"__atcmpCR(event, this, \\'plus.help\\', \\'\\',\\'\\',\\'\\');\" href=\"https://help.naver.com/support/contents/contents.nhn?serviceNo=606&amp;categoryNo=16658\" target=\"_blank\" class=\"spat ico_info _plusHelp\"><span class=\"blind\">도움말 보기</span></a>\\n            </span>\\n            <!-- [AU] _plus_btn -->\\n            <span class=\"switch _plus_btn\">\\n                <a href=\"#\" class=\"btn_turnon active\" onclick=\"__atcmpCR(event, this, \\'plus.use\\', \\'\\',\\'\\',\\'\\');\">ON<span class=\"blind\">선택됨</span></a>\\n                <a href=\"#\" class=\"btn_turnoff\" onclick=\"__atcmpCR(event, this, \\'plus.unuse\\', \\'\\',\\'\\',\\'\\');\">OFF</a>\\n            </span>\\n            <div class=\"layer_plus _plusAlert\">\\n                <strong class=\"tit\">컨텍스트 자동완성</strong>\\n                <div class=\"_logout\" style=\"display:block;\">\\n                    <p class=\"dsc\"><em class=\"txt\">동일한 시간대/연령/남녀별</em> 사용자 그룹의<br>관심사에 맞춰 자동완성을 제공합니다.</p>\\n                    <div class=\"btn_area\">\\n                        <a onclick=\"__atcmpCR(event, this, \\'plus.login\\', \\'\\',\\'\\',\\'\\');\" href=\"https://nid.naver.com/nidlogin.login\" class=\"btn btn_login\">로그인</a>\\n                        <a target=\"_blank\" onclick=\"__atcmpCR(event, this, \\'plus.detail\\', \\'\\',\\'\\',\\'\\');\" href=\"https://help.naver.com/support/alias/search/word/word_16.naver\" class=\"btn btn_view\">자세히</a>\\n                    </div>\\n                </div>\\n                <div class=\"_login\" style=\"display:none;\">\\n                    <p class=\"dsc\">ON/OFF설정은<br>해당 기기(브라우저)에 저장됩니다.</p>\\n                    <div class=\"btn_area\">\\n                        <a target=\"_blank\" onclick=\"__atcmpCR(event, this, \\'plus.detail\\', \\'\\',\\'\\',\\'\\');\" href=\"https://help.naver.com/support/contents/contents.nhn?serviceNo=606&amp;categoryNo=16659\" class=\"btn btn_view\">자세히</a>\\n                    </div>\\n                </div>\\n                <button type=\"button\" class=\"btn_close _close\" onclick=\"__atcmpCR(event, this, \\'plus.close\\', \\'\\',\\'\\',\\'\\');\"><i class=\"spat ico_close\">컨텍스트 자동완성 레이어 닫기</i></button>\\n            </div>\\n        </div>\\n        <!-- //컨텍스트 자동완성 플러스 -->\\n        <p class=\"func _atcmpBtnGroup\"><span class=\"fl\"><a class=\"_help\" onclick=\"__atcmpCR(event, this, \\'help\\', \\'\\',\\'\\',\\'\\');\" href=\"https://help.naver.com/support/service/main.nhn?serviceNo=606&amp;categoryNo=1987\" target=\"_blank\">도움말</a><span class=\"atcmp_bar\"></span><a onclick=\"__atcmpCR(event, this, \\'report\\', \\'\\',\\'\\',\\'\\');\" href=\"https://help.naver.com/support/contents/contents.nhn?serviceNo=605&amp;categoryNo=18215\" target=\"_blank\">신고</a></span><span><em><a class=\"hisoff\" href=\"javascript:;\">검색어저장 켜기</a><span class=\"atcmp_bar\"></span></em><a class=\"funoff\" href=\"javascript:;\">자동완성 끄기</a></span></p>\\n        <span class=\"atcmp_helper _help_tooltip1\">기능을 다시 켤 때는 <em class=\"ico_search spat\">자동완성 펼치기</em>을 클릭하세요</span>\\n    </div>\\n    <div class=\"api_atcmp_wrap _atcmpIng\" style=\"display:none;\">\\n        <div class=\"words\"><p class=\"info_words\">현재 자동완성 기능을 사용하고 계십니다.</p></div>\\n        <p class=\"func _atcmpBtnGroup\"><span class=\"fl\"><a class=\"_help\" onclick=\"__atcmpCR(event, this, \\'help\\', \\'\\',\\'\\',\\'\\');\" href=\"https://help.naver.com/support/service/main.nhn?serviceNo=606&amp;categoryNo=1987\" target=\"_blank\">도움말</a><span class=\"atcmp_bar\"></span><a onclick=\"__atcmpCR(event, this, \\'report\\', \\'\\',\\'\\',\\'\\');\" href=\"https://help.naver.com/support/contents/contents.nhn?serviceNo=605&amp;categoryNo=18215\" target=\"_blank\">신고</a></span><span><em><a class=\"hisoff\" href=\"javascript:;\">검색어저장 켜기</a><span class=\"atcmp_bar\"></span></em><a class=\"funoff\" href=\"javascript:;\">자동완성 끄기</a></span></p>\\n        <span class=\"atcmp_helper _help_tooltip2\">기능을 다시 켤 때는 <em class=\"ico_search spat\">자동완성 펼치기</em>을 클릭하세요</span>\\n    </div>\\n    <div class=\"api_atcmp_wrap _atcmpStart\" style=\"display:none;\">\\n        <div class=\"words\"><p class=\"info_words\">자동완성 기능이 활성화되었습니다.</p></div>\\n        <p class=\"func _atcmpBtnGroup\"><span class=\"fl\"><a class=\"_help\" onclick=\"__atcmpCR(event, this, \\'help\\', \\'\\',\\'\\',\\'\\');\" href=\"https://help.naver.com/support/service/main.nhn?serviceNo=606&amp;categoryNo=1987\" target=\"_blank\">도움말</a><span class=\"atcmp_bar\"></span><a onclick=\"__atcmpCR(event, this, \\'report\\', \\'\\',\\'\\',\\'\\');\" href=\"https://help.naver.com/support/contents/contents.nhn?serviceNo=605&amp;categoryNo=18215\" target=\"_blank\">신고</a></span><span><em><a class=\"hisoff\" href=\"javascript:;\">검색어저장 켜기</a><span class=\"atcmp_bar\"></span></em><a class=\"funoff\" href=\"javascript:;\">자동완성 끄기</a></span></p>\\n        <span class=\"atcmp_helper _help_tooltip3\">기능을 다시 켤 때는 <em class=\"ico_search spat\">자동완성 펼치기</em>을 클릭하세요</span>\\n    </div>\\n    <div class=\"api_atcmp_wrap _atcmpOff\" style=\"display:none;\">\\n        <div class=\"words\"><p class=\"info_words\">자동완성 기능이 꺼져 있습니다.</p></div>\\n        <p class=\"func _atcmpBtnGroup\"><span class=\"fl\"><a class=\"_help\" onclick=\"__atcmpCR(event, this, \\'help\\', \\'\\',\\'\\',\\'\\');\" href=\"https://help.naver.com/support/service/main.nhn?serviceNo=606&amp;categoryNo=1987\" target=\"_blank\">도움말</a><span class=\"atcmp_bar\"></span><a onclick=\"__atcmpCR(event, this, \\'report\\', \\'\\',\\'\\',\\'\\');\" href=\"https://help.naver.com/support/contents/contents.nhn?serviceNo=605&amp;categoryNo=18215\" target=\"_blank\">신고</a></span><span><em><a class=\"hisoff\" href=\"javascript:;\">검색어저장 켜기</a><span class=\"atcmp_bar\"></span></em><a class=\"funoff\" href=\"javascript:;\">자동완성 켜기</a></span></p>\\n    </div>\\n    <!-- 최근검색어 & 내검색어 -->\\n    <div class=\"api_atcmp_wrap _keywords\" style=\"display:none;\">\\n        <div class=\"my_words\">\\n            <div class=\"lst_tab\">\\n                <ul><li class=\"on _recentTab\"><a href=\"javascript:;\">최근검색어</a></li><li class=\"_myTab\"><a href=\"javascript:;\">내 검색어</a></li></ul>\\n            </div>\\n            <div class=\"words _recent\">\\n                <ul><li data-rank=\"@rank@\"><a class=\"t@my@ _star _myBtn\" title=\"내 검색어 등록\" href=\"javascript:;\"><em class=\"spat\">내 검색어 등록</em></a><a href=\"javascript:;\" class=\"keyword\">@txt@</a><em class=\"keyword_date\">@date@.</em><a href=\"javascript:;\" class=\"btn_delete spat _del\" title=\"검색어삭제\">삭제</a><span style=\"display:none\">@in_txt@</span></li></ul>\\n                <div class=\"info_words _recentNone\" style=\"display:none\">최근검색어 내역이 없습니다.</div>\\n                <p class=\"info_words _offMsg\" style=\"display:none\">검색어 저장 기능이 꺼져 있습니다.</p>\\n            </div>\\n            <div class=\"words _my\" style=\"display:none\">\\n                <ul><li data-rank=\"@rank@\"><a class=\"ton _star _myBtn\" title=\"내 검색어 해제\" href=\"javascript:;\"><em class=\"spat\">내 검색어 해제</em></a><a href=\"javascript:;\" class=\"keyword\">@txt@</a></li></ul>\\n                <div class=\"info_words _myNone\" style=\"display:none\">설정된 내 검색어가 없습니다.<br>최근검색어에서 <span class=\"star spat\">내 검색어 등록</span>를 선택하여 자주 찾는 검색어를<br>내 검색어로 저장해 보세요.</div>\\n                <p class=\"info_words _offMsg\" style=\"display:none\">검색어 저장 기능이 꺼져 있습니다.</p>\\n            </div>\\n            <p class=\"noti _noti\" style=\"display:none\"><em class=\"ico_noti spat\"><span class=\"blind\">알림</span></em>공용 PC에서는 개인정보 보호를 위하여 반드시 로그아웃을 해 주세요.</p>\\n            <p class=\"func _recentBtnGroup\"><span class=\"fl\"><a class=\"_delMode\" href=\"javascript:;\">기록 삭제</a></span><span><a class=\"_keywordOff\" href=\"javascript:;\">검색어저장 끄기</a><span class=\"atcmp_bar\"></span><a class=\"_acOff\" href=\"javascript:;\">자동완성 끄기</a></span></p>\\n            <p class=\"func _recentDelBtnGroup\" style=\"display:none\"><span class=\"fl\"><a class=\"_delAll\" href=\"javascript:;\" title=\"최근 검색어 기록을 모두 삭제합니다.\">기록 전체 삭제</a></span><span><a class=\"_delDone\" href=\"javascript:;\">완료</a></span></p>\\n            <p class=\"func _myBtnGroup\" style=\"display:none\"><span class=\"fl\"><a class=\"_delAll\" href=\"javascript:;\" title=\"설정된 내 검색어를 모두 삭제합니다.\">기록 전체 삭제</a></span><span><a class=\"_keywordOff\" href=\"javascript:;\">검색어저장 끄기</a><span class=\"atcmp_bar\"></span><a class=\"_acOff\" href=\"javascript:;\">자동완성 끄기</a></span></p>\\n            <span class=\"atcmp_helper _help2\">기능을 다시 켤 때는 <em class=\"ico_search spat\">자동완성 펼치기</em>을 클릭하세요</span>\\n            <div class=\"ly_noti _maxLayer\" style=\"display:none\">\\n                <span class=\"mask\"></span>\\n                <p><span class=\"ico_alert spat\"></span>내 검색어는 <em>최대 10</em>개 까지 저장할 수 있습니다.<br>추가하시려면 기존 내 검색어를 지워주세요. <a href=\"javascript:;\" class=\"btn_close _close\"><i class=\"spat ico_close\">닫기</i></a></p>\\n            </div>\\n        </div>\\n    </div>\\n    <!-- 자동완성 안내문구 (선거) -->\\n    <div class=\"api_atcmp_wrap _alert\" style=\"display:none;\">\\n        <div class=\"api_atcmp_alert\">\\n            <span class=\"ico_alert spat\"></span>\\n            <p class=\"dsc_txt\"><em class=\"_passage\"></em><br>\\n                <a class=\"_link\" target=\"_blank\" href=\"\" onclick=\"clickcr(this,\\'sug.vote\\',\\'\\',\\'\\',event);\">자세히보기</a></p>\\n        </div>\\n    </div>\\n    <!-- //자동완성 안내문구 (선거) -->\\n    <!-- [D] IE 계열, wmode=\"window\" flash와 겹치지 않기 위함 -->\\n    <iframe vspace=\"0\" hspace=\"0\" border=\"0\" style=\"display:none;display:block\\\\9;display:block\\\\0/;position:absolute;left:0;top:0;width:100%;height:100%;z-index:-1;\" title=\"빈 프레임\"></iframe>\\n</div>\\t\\t\\t\\n<!--자동완성 레이어 -->\\n\\n<!--자동완성 템플릿 추가-->\\n<!-- 신규 공통 템플릿 -->\\n<script type=\"text/template\" id=\"_atcmp_answer_0\">\\n    <div class=\"add_opt _item\" data-sm=\"@2@\" data-keyword=\"@1@\" data-template_id=\"@0@\" data-acir=\"@rank@\" data-os=\"@8@\" data-bid=\"@9@\" data-eid=\"@3@\" data-pkid=\"@10@\" data-mra=\"@11@\" >\\n        <a href=\"#\" class=\"opt_dsc\">\\n            <span class=\"dsc_thmb\" style=\"@style7@\">@image7@</span>\\n            <span class=\"dsc_group\">\\n                <span class=\"dsc_cate\">@6@</span>\\n                <strong class=\"dsc_word\">@1@</strong>\\n                <span class=\"dsc_sub\" style=\"@style12@\">@12@</span>\\n            </span>\\n        </a>\\n    </div>\\n</script>\\n<!-- 로또당첨번호 -->\\n<script type=\"text/template\" id=\"_atcmp_answer_3\">\\n    <div class=\"add_opt _item\" data-sm=\"@2@\" data-keyword=\"@1@\" data-template_id=\"@0@\" data-acir=\"@rank@\">\\n        <a href=\"javascript:;\" class=\"opt_lotto\">\\n            <span class=\"lotto_num_area\">\\n                <span class=\"spat lotto_num lotto_num@6@\">@6@</span><span class=\"spat lotto_num lotto_num@7@\">@7@</span><span class=\"spat lotto_num lotto_num@8@\">@8@</span><span class=\"spat lotto_num lotto_num@9@\">@9@</span><span class=\"spat lotto_num lotto_num@10@\">@10@</span><span class=\"spat lotto_num lotto_num@11@\">@11@</span><span class=\"spat lotto_bonus\">+</span><span class=\"spat lotto_num lotto_num@12@\">@12@</span>\\n            </span>\\n            <span class=\"lotto_sub\">@5@회차<em class=\"lotto_date\">(@13@.)</em></span>\\n        </a>\\n    </div>\\n</script>\\n<!-- 환율:엔화환율 -->\\n<script type=\"text/template\" id=\"_atcmp_answer_9\">\\n    <div class=\"add_opt _item\" data-sm=\"@2@\" data-keyword=\"@1@\" data-template_id=\"@0@\" data-acir=\"@rank@\">\\n        <a href=\"javascript:;\" class=\"opt_exchange opt_exchange_@11@\">\\n            <span class=\"opt_nation\">\\n                <img src=\"https://ssl.pstatic.net/sstatic/keypage/lifesrch/exchange/ico_@12@1.gif\" alt=\"\" />\\n                @14@<span class=\"tx_nation\">@money@</span>\\n            </span>\\n            <span class=\"opt_amount\">\\n                <span class=\"amount\"><strong>@6@</strong>원</span><span class=\"changes\"><i class=\"bullet\">@10@</i> @8@ (@9@%)<span class=\"opt_time\"><time datetime=\"@fulldate@\">@7@</time></span></span>\\n            </span>\\n        </a>\\n    </div>\\n</script>\\n<!-- 해외날씨 : 파리날씨 -->\\n<script type=\"text/template\" id=\"_atcmp_answer_10\">\\n    <div class=\"add_opt _item\" data-sm=\"@2@\" data-keyword=\"@1@\" data-template_id=\"@0@\" data-acir=\"@rank@\">\\n        <a href=\"javascript:;\" class=\"opt_weather\">\\n            <span class=\"opt_weather_thmb\">\\n                <img src=\"https://ssl.pstatic.net/sstatic/search/pc/img/wt_@6@.png\" width=\"56\" height=\"56\" alt=\"@7@\">\\n            </span>\\n            <span class=\"opt_weather_group\">\\n                <span class=\"opt_weather_state\">@7@</span>\\n                <span class=\"opt_weather_state\">기온 <em class=\"opt_deg\">@8@</em><span class=\"opt_unit\">℃</span></span>\\n                <span class=\"opt_weather_state\">@9@ <em>@10@</em><span class=\"opt_unit\">@11@</span></span>\\n\\t\\t\\t\\t<span class=\"opt_weather_state\"><span class=\"opt_time\"><time datetime=\"@fulldate@\">@5@</time></span></span>\\n            </span>\\n        </a>\\n    </div>\\n</script>\\n<!-- 국내날씨 : 서울날씨 -->\\n<script type=\"text/template\" id=\"_atcmp_answer_11\">\\n    <div class=\"add_opt _item\" data-sm=\"@2@\" data-keyword=\"@1@\" data-template_id=\"@0@\" data-acir=\"@rank@\">\\n        <a href=\"javascript:;\" class=\"opt_weather\">\\n            <span class=\"opt_weather_thmb\">\\n                <img src=\"https://ssl.pstatic.net/sstatic/search/pc/img/wt_@6@.png\" width=\"56\" height=\"56\" alt=\"@7@\">\\n            </span>\\n            <span class=\"opt_weather_group\">\\n                <span class=\"opt_weather_state\">@7@</span>\\n                <span class=\"opt_weather_state\">기온 <em class=\"opt_deg\">@8@</em><span class=\"opt_unit\">℃</span></span>\\n                <span class=\"opt_weather_state\">@9@ <em>@10@</em><span class=\"opt_unit\">@11@</span></span>\\n\\t\\t\\t\\t<span class=\"opt_weather_state\"><span class=\"opt_time\"><time datetime=\"@fulldate@\">@5@</time></span></span>\\n            </span>\\n        </a>\\n    </div>\\n</script>\\n<!-- 바로가기 -->\\n<script type=\"text/template\" id=\"_atcmp_answer_17\">\\n    <div class=\"add_opt _item\" data-sm=\"@2@\" data-keyword=\"@1@\" data-template_id=\"@0@\" data-acir=\"@rank@\">\\n        <a href=\"@5@\" target=\"_blank\" class=\"opt_shortcut\">\\n            <span class=\"opt_url\">@display_link@</span>\\n            <span class=\"opt_txt\">사이트로 바로 이동</span>\\n        </a>\\n    </div>\\n</script>\\n<!-- 해외날씨 : 국내날씨 형태로 제공하기 위한 새로운 템플릿(10번으로 ID변경됨) -->\\n<script type=\"text/template\" id=\"_atcmp_answer_20\"></script>\\n<!-- 문맥검색 -->\\n<script type=\"text/template\" id=\"_atcmp_intend\">\\n    <div class=\"add_opt type_context _item\" data-sm=\"asct\" data-keyword=\"@transquery@\" data-acir=\"@rank@\">\\n        <a href=\"#\" class=\"opt_context\">\\n            <span class=\"opt_tit\"><strong>@query@</strong></span>\\n            <span class=\"opt_sub\">@intend@</span>\\n        </a>\\n    </div>\\n</script>\\n<!-- 결과 키워드 템플릿 (좌측 결과목록 템플릿:정답형 템플릿 아님) -->\\n<script type=\"text/template\" id=\"_atcmp_result_item_tpl\">\\n    <li class=\"_item @url_class@\" data-acr=\"@rank@\">\\n        <a href=\"#\" class=\"atcmp_keyword\" onclick=\"return false;\" title=\"\"><span class=\"atcmp_keyword_txt\">@txt@<span class=\"spat ic_expand\"></span></span></a>\\n        <a href=\"@url@\" target=\"_blank\" class=\"mquick\">바로이동</a>\\n        <span style=\"display:none\">@in_txt@</span>\\n    </li>\\n</script>\\n<!-- 일반 자동완성 하이라이팅 템플릿 -->\\n<script type=\"text/template\" id=\"_atcmp_keyword_highlight_tpl\">\\n    @mismatch_before@<strong>@match@</strong>@mismatch_after@\\n</script>\\n<!-- 부분 자동완성 하이라이팅 템플릿 -->\\n<script type=\"text/template\" id=\"_atcmp_keyword_partial_match_highlight_tpl\">\\n    @mismatch_before@<strong>@match@</strong>@mismatch_after@\\n</script>\\n<!--자동완성 템플릿 추가-->\\n</div>\\n<!-- EMPTY --></div>\\n</div>\\n\\n\\t<div class=\"section_navbar\">\\n\\t\\t<div class=\"area_navigation\" role=\"navigation\">\\n\\t\\t\\t<ul class=\"an_l\">\\n\\t\\t\\t\\t<li class=\"an_item\">\\n\\t\\t\\t\\t\\t<a href=\"https://mail.naver.com/\" class=\"an_a mn_mail\" data-clk=\"svc.mail\">\\n\\t\\t\\t\\t\\t\\t<span class=\"an_icon\"></span><span class=\"an_txt\">메일</span>\\n\\t\\t\\t\\t\\t</a>\\n\\t\\t\\t\\t</li>\\n\\t\\t\\t\\t<li class=\"an_item\">\\n\\t\\t\\t\\t\\t<a href=\"https://section.cafe.naver.com/\" class=\"an_a mn_cafe\" data-clk=\"svc.cafe\">\\n\\t\\t\\t\\t\\t\\t<span class=\"an_icon\"></span><span class=\"an_txt\">카페</span>\\n\\t\\t\\t\\t\\t</a>\\n\\t\\t\\t\\t</li>\\n\\t\\t\\t\\t<li class=\"an_item\">\\n\\t\\t\\t\\t\\t<a href=\"https://section.blog.naver.com/\" class=\"an_a mn_blog\" data-clk=\"svc.blog\">\\n\\t\\t\\t\\t\\t\\t<span class=\"an_icon\"></span><span class=\"an_txt\">블로그</span>\\n\\t\\t\\t\\t\\t</a>\\n\\t\\t\\t\\t</li>\\n\\t\\t\\t\\t<li class=\"an_item\">\\n\\t\\t\\t\\t\\t<a href=\"https://kin.naver.com/\" class=\"an_a mn_kin\" data-clk=\"svc.kin\">\\n\\t\\t\\t\\t\\t\\t<span class=\"an_icon\"></span><span class=\"an_txt\">지식인</span>\\n\\t\\t\\t\\t\\t</a>\\n\\t\\t\\t\\t</li>\\n\\t\\t\\t\\t<li class=\"an_item\">\\n\\t\\t\\t\\t\\t<a href=\"https://shopping.naver.com/\" class=\"an_a mn_shopping\" data-clk=\"svc.shopping\">\\n\\t\\t\\t\\t\\t\\t<span class=\"an_icon\"></span><span class=\"an_txt\">쇼핑</span>\\n\\t\\t\\t\\t\\t</a>\\n\\t\\t\\t\\t</li>\\n\\t\\t\\t\\t<li class=\"an_item\">\\n\\t\\t\\t\\t\\t<a href=\"https://order.pay.naver.com/home\" class=\"an_a mn_checkout\" data-clk=\"svc.pay\">\\n\\t\\t\\t\\t\\t\\t<span class=\"an_icon\"></span><span class=\"an_txt\">네이버페이</span>\\n\\t\\t\\t\\t\\t</a>\\n\\t\\t\\t\\t</li>\\n\\t\\t\\t\\t<li class=\"an_item\">\\n\\t\\t\\t\\t\\t<a href=\"https://tv.naver.com/\" class=\"an_a mn_tvcast\" data-clk=\"svc.tvcast\">\\n\\t\\t\\t\\t\\t\\t<span class=\"an_icon\"></span><span class=\"an_txt\">네이버TV</span>\\n\\t\\t\\t\\t\\t</a>\\n\\t\\t\\t\\t</li>\\t\\n\\t\\t\\t</ul>\\n\\t\\t\\t<ul id=\"PM_ID_serviceNavi\" class=\"an_l\">\\n\\t\\t\\t\\t<li class=\"an_item\"><a href=\"https://dict.naver.com/\" class=\"an_a mn_dic\" data-clk=\"svc.dic\"><span class=\"an_icon\"></span><span class=\"an_txt\">사전</span></a></li>\\n<li class=\"an_item\"><a href=\"https://news.naver.com/\" class=\"an_a mn_news\" data-clk=\"svc.news\"><span class=\"an_icon\"></span><span class=\"an_txt\">뉴스</span></a></li>\\n<li class=\"an_item\"><a href=\"https://finance.naver.com/\" class=\"an_a mn_stock\" data-clk=\"svc.stock\"><span class=\"an_icon\"></span><span class=\"an_txt\">증권(금융)</span></a></li>\\n<li class=\"an_item\"><a href=\"https://land.naver.com/\" class=\"an_a mn_land\" data-clk=\"svc.land\"><span class=\"an_icon\"></span><span class=\"an_txt\">부동산</span></a></li>\\n<li class=\"an_item\"><a href=\"https://map.naver.com/\" class=\"an_a mn_map\" data-clk=\"svc.map\"><span class=\"an_icon\"></span><span class=\"an_txt\">지도</span></a></li>\\n<li class=\"an_item\"><a href=\"https://movie.naver.com/\" class=\"an_a mn_movie\" data-clk=\"svc.movie\"><span class=\"an_icon\"></span><span class=\"an_txt\">영화</span></a></li>\\n<li class=\"an_item\"><a href=\"https://music.naver.com\" class=\"an_a mn_music\" data-clk=\"svc.music\"><span class=\"an_icon\"></span><span class=\"an_txt\">뮤직</span></a></li>\\n<li class=\"an_item\"><a href=\"https://book.naver.com/\" class=\"an_a mn_book\" data-clk=\"svc.book\"><span class=\"an_icon\"></span><span class=\"an_txt\">책</span></a></li>\\n<li class=\"an_item\"><a href=\"https://comic.naver.com/\" class=\"an_a mn_comic\" data-clk=\"svc.webtoon\"><span class=\"an_icon\"></span><span class=\"an_txt\">만화 / 웹툰</span></a></li>\\n\\n\\t\\t\\t</ul>\\n\\t\\t\\t<ul id=\"PM_ID_serviceNaviEmpty\" class=\"an_l an_custom\" style=\"display:none\">\\n\\t\\t\\t\\t<li class=\"an_item an_pointer\"><span class=\"an_empty\"></span></li>\\n\\t\\t\\t\\t<li class=\"an_item\"><span class=\"an_empty\"></span></li>\\n\\t\\t\\t\\t<li class=\"an_item\"><span class=\"an_empty\"></span></li>\\n\\t\\t\\t\\t<li class=\"an_item\"><span class=\"an_empty\"></span></li>\\n\\t\\t\\t\\t<li class=\"an_item\"><span class=\"an_empty\"></span></li>\\n\\t\\t\\t</ul>\\n\\t\\t\\t<div class=\"an_bar\"></div>\\n\\t\\t\\t<a href=\"#\" id=\"PM_ID_btnServiceMore\" role=\"button\" class=\"PM_CL_btnServiceMore an_btn_more\" data-clk=\"svc.more\"><span class=\"an_mtxt\"><span class=\"blind\">더보기</span></span><span class=\"ico_an_more\"></span></a>\\n\\t\\t</div>\\n\\t\\t<div class=\"area_hotkeyword PM_CL_realtimeKeyword_base\">\\n\\t\\t\\t<div class=\"ah_roll PM_CL_realtimeKeyword_rolling_base\" aria-hidden=\"false\">\\n<h3 class=\"blind\">급상승 검색어 검색어</h3>\\n<div class=\"ah_roll_area PM_CL_realtimeKeyword_rolling\">\\n<ul class=\"ah_l\">\\n<li class=\"ah_item\">\\n<a href=\"#\" class=\"ah_a\" data-clk=\"lve.keyword\">\\n<span class=\"ah_r\">1</span>\\n<span class=\"ah_k\">이희호 여사</span>\\n</a>\\n</li>\\n<li class=\"ah_item\">\\n<a href=\"#\" class=\"ah_a\" data-clk=\"lve.keyword\">\\n<span class=\"ah_r\">2</span>\\n<span class=\"ah_k\">대한민국 이란</span>\\n</a>\\n</li>\\n<li class=\"ah_item\">\\n<a href=\"#\" class=\"ah_a\" data-clk=\"lve.keyword\">\\n<span class=\"ah_r\">3</span>\\n<span class=\"ah_k\">김동성</span>\\n</a>\\n</li>\\n<li class=\"ah_item\">\\n<a href=\"#\" class=\"ah_a\" data-clk=\"lve.keyword\">\\n<span class=\"ah_r\">4</span>\\n<span class=\"ah_k\">최홍만</span>\\n</a>\\n</li>\\n<li class=\"ah_item\">\\n<a href=\"#\" class=\"ah_a\" data-clk=\"lve.keyword\">\\n<span class=\"ah_r\">5</span>\\n<span class=\"ah_k\">홍자</span>\\n</a>\\n</li>\\n<li class=\"ah_item\">\\n<a href=\"#\" class=\"ah_a\" data-clk=\"lve.keyword\">\\n<span class=\"ah_r\">6</span>\\n<span class=\"ah_k\">미스트롯 홍자</span>\\n</a>\\n</li>\\n<li class=\"ah_item\">\\n<a href=\"#\" class=\"ah_a\" data-clk=\"lve.keyword\">\\n<span class=\"ah_r\">7</span>\\n<span class=\"ah_k\">한국 이란</span>\\n</a>\\n</li>\\n<li class=\"ah_item\">\\n<a href=\"#\" class=\"ah_a\" data-clk=\"lve.keyword\">\\n<span class=\"ah_r\">8</span>\\n<span class=\"ah_k\">김대중</span>\\n</a>\\n</li>\\n<li class=\"ah_item\">\\n<a href=\"#\" class=\"ah_a\" data-clk=\"lve.keyword\">\\n<span class=\"ah_r\">9</span>\\n<span class=\"ah_k\">롤리타렘피카 향수</span>\\n</a>\\n</li>\\n<li class=\"ah_item\">\\n<a href=\"#\" class=\"ah_a\" data-clk=\"lve.keyword\">\\n<span class=\"ah_r\">10</span>\\n<span class=\"ah_k\">2019 싸이 흠뻑쇼 티켓팅</span>\\n</a>\\n</li>\\n<li class=\"ah_item\">\\n<a href=\"#\" class=\"ah_a\" data-clk=\"lve.keyword\">\\n<span class=\"ah_r\">11</span>\\n<span class=\"ah_k\">한국 에콰도르</span>\\n</a>\\n</li>\\n<li class=\"ah_item\">\\n<a href=\"#\" class=\"ah_a\" data-clk=\"lve.keyword\">\\n<span class=\"ah_r\">12</span>\\n<span class=\"ah_k\">티몬타임적립금</span>\\n</a>\\n</li>\\n<li class=\"ah_item\">\\n<a href=\"#\" class=\"ah_a\" data-clk=\"lve.keyword\">\\n<span class=\"ah_r\">13</span>\\n<span class=\"ah_k\">상암 월드컵경기장</span>\\n</a>\\n</li>\\n<li class=\"ah_item\">\\n<a href=\"#\" class=\"ah_a\" data-clk=\"lve.keyword\">\\n<span class=\"ah_r\">14</span>\\n<span class=\"ah_k\">옥션 싱글데이</span>\\n</a>\\n</li>\\n<li class=\"ah_item\">\\n<a href=\"#\" class=\"ah_a\" data-clk=\"lve.keyword\">\\n<span class=\"ah_r\">15</span>\\n<span class=\"ah_k\">크릴오일</span>\\n</a>\\n</li>\\n<li class=\"ah_item\">\\n<a href=\"#\" class=\"ah_a\" data-clk=\"lve.keyword\">\\n<span class=\"ah_r\">16</span>\\n<span class=\"ah_k\">헝가리 실종자 명단</span>\\n</a>\\n</li>\\n<li class=\"ah_item\">\\n<a href=\"#\" class=\"ah_a\" data-clk=\"lve.keyword\">\\n<span class=\"ah_r\">17</span>\\n<span class=\"ah_k\">오픈베이스</span>\\n</a>\\n</li>\\n<li class=\"ah_item\">\\n<a href=\"#\" class=\"ah_a\" data-clk=\"lve.keyword\">\\n<span class=\"ah_r\">18</span>\\n<span class=\"ah_k\">고유정 살해방법</span>\\n</a>\\n</li>\\n<li class=\"ah_item\">\\n<a href=\"#\" class=\"ah_a\" data-clk=\"lve.keyword\">\\n<span class=\"ah_r\">19</span>\\n<span class=\"ah_k\">이란전</span>\\n</a>\\n</li>\\n<li class=\"ah_item\">\\n<a href=\"#\" class=\"ah_a\" data-clk=\"lve.keyword\">\\n<span class=\"ah_r\">20</span>\\n<span class=\"ah_k\">류현진 방어율</span>\\n</a>\\n</li>\\n</ul>\\n</div>\\n</div>\\n\\t\\t\\t<span class=\"ah_ico_open\"></span>\\n\\t\\t\\t<div class=\"ah_list PM_CL_realtimeKeyword_list_base\" aria-hidden=\"true\">\\n<h3 class=\"ah_ltit\">급상승 검색어</h3>\\n<a href=\"http://datalab.naver.com/keyword/realtimeList.naver?where=main\" class=\"ah_ha\" data-clk=\"lve.rankhistory\"><span class=\"ah_ico_datalab\">DataLab.</span>급상승 트래킹<span class=\"ah_ico_hlink\"></span></a>\\n<div class=\"ah_tab\">\\n<a href=\"#\" role=\"tab\" class=\"ah_tab_btn ah_tab_on\" data-tab=\"1to10\" data-clk=\"lve.tab1\">1~10위</a>\\n<a href=\"#\" role=\"tab\" class=\"ah_tab_btn\" data-tab=\"11to20\" data-clk=\"lve.tab2\">11~20위</a>\\n</div>\\n<h4 class=\"blind PM_CL_realtimeKeyword_sublist_heading\">급상승 검색어 1~10위</h4>\\n<ul class=\"ah_l\" data-list=\"1to10\">\\n<li class=\"ah_item\" data-order=\"1\">\\n<a href=\"http://search.naver.com/search.naver?where=nexearch&amp;query=%EC%9D%B4%ED%9D%AC%ED%98%B8+%EC%97%AC%EC%82%AC&amp;sm=top_lve&amp;ie=utf8\" class=\"ah_a\" data-ssl=\"https://search.naver.com/search.naver?where=nexearch&amp;query=%EC%9D%B4%ED%9D%AC%ED%98%B8+%EC%97%AC%EC%82%AC&amp;sm=top_lve&amp;ie=utf8\" data-clk=\"lve.keyword\">\\n<span class=\"ah_r\">1</span>\\n<span class=\"ah_k\">이희호 여사</span>\\n</a>\\n<a href=\"http://datalab.naver.com/keyword/realtimeDetail.naver?datetime=2019-06-11T17:27:00&amp;query=%EC%9D%B4%ED%9D%AC%ED%98%B8+%EC%97%AC%EC%82%AC&amp;where=main\" class=\"ah_da\" data-clk=\"lve.kwdhistory\">\\n<span class=\"blind\">데이터랩 그래프 보기</span>\\n<span class=\"ah_ico_datagraph\"></span>\\n</a>\\n</li>\\n<li class=\"ah_item\" data-order=\"2\">\\n<a href=\"http://search.naver.com/search.naver?where=nexearch&amp;query=%EB%8C%80%ED%95%9C%EB%AF%BC%EA%B5%AD+%EC%9D%B4%EB%9E%80&amp;sm=top_lve&amp;ie=utf8\" class=\"ah_a\" data-ssl=\"https://search.naver.com/search.naver?where=nexearch&amp;query=%EB%8C%80%ED%95%9C%EB%AF%BC%EA%B5%AD+%EC%9D%B4%EB%9E%80&amp;sm=top_lve&amp;ie=utf8\" data-clk=\"lve.keyword\">\\n<span class=\"ah_r\">2</span>\\n<span class=\"ah_k\">대한민국 이란</span>\\n</a>\\n<a href=\"http://datalab.naver.com/keyword/realtimeDetail.naver?datetime=2019-06-11T17:27:00&amp;query=%EB%8C%80%ED%95%9C%EB%AF%BC%EA%B5%AD+%EC%9D%B4%EB%9E%80&amp;where=main\" class=\"ah_da\" data-clk=\"lve.kwdhistory\">\\n<span class=\"blind\">데이터랩 그래프 보기</span>\\n<span class=\"ah_ico_datagraph\"></span>\\n</a>\\n</li>\\n<li class=\"ah_item\" data-order=\"3\">\\n<a href=\"http://search.naver.com/search.naver?where=nexearch&amp;query=%EA%B9%80%EB%8F%99%EC%84%B1&amp;sm=top_lve&amp;ie=utf8\" class=\"ah_a\" data-ssl=\"https://search.naver.com/search.naver?where=nexearch&amp;query=%EA%B9%80%EB%8F%99%EC%84%B1&amp;sm=top_lve&amp;ie=utf8\" data-clk=\"lve.keyword\">\\n<span class=\"ah_r\">3</span>\\n<span class=\"ah_k\">김동성</span>\\n</a>\\n<a href=\"http://datalab.naver.com/keyword/realtimeDetail.naver?datetime=2019-06-11T17:27:00&amp;query=%EA%B9%80%EB%8F%99%EC%84%B1&amp;where=main\" class=\"ah_da\" data-clk=\"lve.kwdhistory\">\\n<span class=\"blind\">데이터랩 그래프 보기</span>\\n<span class=\"ah_ico_datagraph\"></span>\\n</a>\\n</li>\\n<li class=\"ah_item\" data-order=\"4\">\\n<a href=\"http://search.naver.com/search.naver?where=nexearch&amp;query=%EC%B5%9C%ED%99%8D%EB%A7%8C&amp;sm=top_lve&amp;ie=utf8\" class=\"ah_a\" data-ssl=\"https://search.naver.com/search.naver?where=nexearch&amp;query=%EC%B5%9C%ED%99%8D%EB%A7%8C&amp;sm=top_lve&amp;ie=utf8\" data-clk=\"lve.keyword\">\\n<span class=\"ah_r\">4</span>\\n<span class=\"ah_k\">최홍만</span>\\n</a>\\n<a href=\"http://datalab.naver.com/keyword/realtimeDetail.naver?datetime=2019-06-11T17:27:00&amp;query=%EC%B5%9C%ED%99%8D%EB%A7%8C&amp;where=main\" class=\"ah_da\" data-clk=\"lve.kwdhistory\">\\n<span class=\"blind\">데이터랩 그래프 보기</span>\\n<span class=\"ah_ico_datagraph\"></span>\\n</a>\\n</li>\\n<li class=\"ah_item\" data-order=\"5\">\\n<a href=\"http://search.naver.com/search.naver?where=nexearch&amp;query=%ED%99%8D%EC%9E%90&amp;sm=top_lve&amp;ie=utf8\" class=\"ah_a\" data-ssl=\"https://search.naver.com/search.naver?where=nexearch&amp;query=%ED%99%8D%EC%9E%90&amp;sm=top_lve&amp;ie=utf8\" data-clk=\"lve.keyword\">\\n<span class=\"ah_r\">5</span>\\n<span class=\"ah_k\">홍자</span>\\n</a>\\n<a href=\"http://datalab.naver.com/keyword/realtimeDetail.naver?datetime=2019-06-11T17:27:00&amp;query=%ED%99%8D%EC%9E%90&amp;where=main\" class=\"ah_da\" data-clk=\"lve.kwdhistory\">\\n<span class=\"blind\">데이터랩 그래프 보기</span>\\n<span class=\"ah_ico_datagraph\"></span>\\n</a>\\n</li>\\n<li class=\"ah_item\" data-order=\"6\">\\n<a href=\"http://search.naver.com/search.naver?where=nexearch&amp;query=%EB%AF%B8%EC%8A%A4%ED%8A%B8%EB%A1%AF+%ED%99%8D%EC%9E%90&amp;sm=top_lve&amp;ie=utf8\" class=\"ah_a\" data-ssl=\"https://search.naver.com/search.naver?where=nexearch&amp;query=%EB%AF%B8%EC%8A%A4%ED%8A%B8%EB%A1%AF+%ED%99%8D%EC%9E%90&amp;sm=top_lve&amp;ie=utf8\" data-clk=\"lve.keyword\">\\n<span class=\"ah_r\">6</span>\\n<span class=\"ah_k\">미스트롯 홍자</span>\\n</a>\\n<a href=\"http://datalab.naver.com/keyword/realtimeDetail.naver?datetime=2019-06-11T17:27:00&amp;query=%EB%AF%B8%EC%8A%A4%ED%8A%B8%EB%A1%AF+%ED%99%8D%EC%9E%90&amp;where=main\" class=\"ah_da\" data-clk=\"lve.kwdhistory\">\\n<span class=\"blind\">데이터랩 그래프 보기</span>\\n<span class=\"ah_ico_datagraph\"></span>\\n</a>\\n</li>\\n<li class=\"ah_item\" data-order=\"7\">\\n<a href=\"http://search.naver.com/search.naver?where=nexearch&amp;query=%ED%95%9C%EA%B5%AD+%EC%9D%B4%EB%9E%80&amp;sm=top_lve&amp;ie=utf8\" class=\"ah_a\" data-ssl=\"https://search.naver.com/search.naver?where=nexearch&amp;query=%ED%95%9C%EA%B5%AD+%EC%9D%B4%EB%9E%80&amp;sm=top_lve&amp;ie=utf8\" data-clk=\"lve.keyword\">\\n<span class=\"ah_r\">7</span>\\n<span class=\"ah_k\">한국 이란</span>\\n</a>\\n<a href=\"http://datalab.naver.com/keyword/realtimeDetail.naver?datetime=2019-06-11T17:27:00&amp;query=%ED%95%9C%EA%B5%AD+%EC%9D%B4%EB%9E%80&amp;where=main\" class=\"ah_da\" data-clk=\"lve.kwdhistory\">\\n<span class=\"blind\">데이터랩 그래프 보기</span>\\n<span class=\"ah_ico_datagraph\"></span>\\n</a>\\n</li>\\n<li class=\"ah_item\" data-order=\"8\">\\n<a href=\"http://search.naver.com/search.naver?where=nexearch&amp;query=%EA%B9%80%EB%8C%80%EC%A4%91&amp;sm=top_lve&amp;ie=utf8\" class=\"ah_a\" data-ssl=\"https://search.naver.com/search.naver?where=nexearch&amp;query=%EA%B9%80%EB%8C%80%EC%A4%91&amp;sm=top_lve&amp;ie=utf8\" data-clk=\"lve.keyword\">\\n<span class=\"ah_r\">8</span>\\n<span class=\"ah_k\">김대중</span>\\n</a>\\n<a href=\"http://datalab.naver.com/keyword/realtimeDetail.naver?datetime=2019-06-11T17:27:00&amp;query=%EA%B9%80%EB%8C%80%EC%A4%91&amp;where=main\" class=\"ah_da\" data-clk=\"lve.kwdhistory\">\\n<span class=\"blind\">데이터랩 그래프 보기</span>\\n<span class=\"ah_ico_datagraph\"></span>\\n</a>\\n</li>\\n<li class=\"ah_item\" data-order=\"9\">\\n<a href=\"http://search.naver.com/search.naver?where=nexearch&amp;query=%EB%A1%A4%EB%A6%AC%ED%83%80%EB%A0%98%ED%94%BC%EC%B9%B4+%ED%96%A5%EC%88%98&amp;sm=top_lve&amp;ie=utf8\" class=\"ah_a\" data-ssl=\"https://search.naver.com/search.naver?where=nexearch&amp;query=%EB%A1%A4%EB%A6%AC%ED%83%80%EB%A0%98%ED%94%BC%EC%B9%B4+%ED%96%A5%EC%88%98&amp;sm=top_lve&amp;ie=utf8\" data-clk=\"lve.keyword\">\\n<span class=\"ah_r\">9</span>\\n<span class=\"ah_k\">롤리타렘피카 향수</span>\\n</a>\\n<a href=\"http://datalab.naver.com/keyword/realtimeDetail.naver?datetime=2019-06-11T17:27:00&amp;query=%EB%A1%A4%EB%A6%AC%ED%83%80%EB%A0%98%ED%94%BC%EC%B9%B4+%ED%96%A5%EC%88%98&amp;where=main\" class=\"ah_da\" data-clk=\"lve.kwdhistory\">\\n<span class=\"blind\">데이터랩 그래프 보기</span>\\n<span class=\"ah_ico_datagraph\"></span>\\n</a>\\n</li>\\n<li class=\"ah_item\" data-order=\"10\">\\n<a href=\"http://search.naver.com/search.naver?where=nexearch&amp;query=2019+%EC%8B%B8%EC%9D%B4+%ED%9D%A0%EB%BB%91%EC%87%BC+%ED%8B%B0%EC%BC%93%ED%8C%85&amp;sm=top_lve&amp;ie=utf8\" class=\"ah_a\" data-ssl=\"https://search.naver.com/search.naver?where=nexearch&amp;query=2019+%EC%8B%B8%EC%9D%B4+%ED%9D%A0%EB%BB%91%EC%87%BC+%ED%8B%B0%EC%BC%93%ED%8C%85&amp;sm=top_lve&amp;ie=utf8\" data-clk=\"lve.keyword\">\\n<span class=\"ah_r\">10</span>\\n<span class=\"ah_k\">2019 싸이 흠뻑쇼 티켓팅</span>\\n</a>\\n<a href=\"http://datalab.naver.com/keyword/realtimeDetail.naver?datetime=2019-06-11T17:27:00&amp;query=2019+%EC%8B%B8%EC%9D%B4+%ED%9D%A0%EB%BB%91%EC%87%BC+%ED%8B%B0%EC%BC%93%ED%8C%85&amp;where=main\" class=\"ah_da\" data-clk=\"lve.kwdhistory\">\\n<span class=\"blind\">데이터랩 그래프 보기</span>\\n<span class=\"ah_ico_datagraph\"></span>\\n</a>\\n</li>\\n</ul>\\n<ul class=\"ah_l\" style=\"display:none;\" data-list=\"11to20\">\\n<li class=\"ah_item\" data-order=\"11\">\\n<a href=\"http://search.naver.com/search.naver?where=nexearch&amp;query=%ED%95%9C%EA%B5%AD+%EC%97%90%EC%BD%B0%EB%8F%84%EB%A5%B4&amp;sm=top_lve&amp;ie=utf8\" class=\"ah_a\" data-ssl=\"https://search.naver.com/search.naver?where=nexearch&amp;query=%ED%95%9C%EA%B5%AD+%EC%97%90%EC%BD%B0%EB%8F%84%EB%A5%B4&amp;sm=top_lve&amp;ie=utf8\" data-clk=\"lve.keyword\">\\n<span class=\"ah_r\">11</span>\\n<span class=\"ah_k\">한국 에콰도르</span>\\n</a>\\n<a href=\"http://datalab.naver.com/keyword/realtimeDetail.naver?datetime=2019-06-11T17:27:00&amp;query=%ED%95%9C%EA%B5%AD+%EC%97%90%EC%BD%B0%EB%8F%84%EB%A5%B4&amp;where=main\" class=\"ah_da\" data-clk=\"lve.kwdhistory\">\\n<span class=\"blind\">데이터랩 그래프 보기</span>\\n<span class=\"ah_ico_datagraph\"></span>\\n</a>\\n</li>\\n<li class=\"ah_item\" data-order=\"12\">\\n<a href=\"http://search.naver.com/search.naver?where=nexearch&amp;query=%ED%8B%B0%EB%AA%AC%ED%83%80%EC%9E%84%EC%A0%81%EB%A6%BD%EA%B8%88&amp;sm=top_lve&amp;ie=utf8\" class=\"ah_a\" data-ssl=\"https://search.naver.com/search.naver?where=nexearch&amp;query=%ED%8B%B0%EB%AA%AC%ED%83%80%EC%9E%84%EC%A0%81%EB%A6%BD%EA%B8%88&amp;sm=top_lve&amp;ie=utf8\" data-clk=\"lve.keyword\">\\n<span class=\"ah_r\">12</span>\\n<span class=\"ah_k\">티몬타임적립금</span>\\n</a>\\n<a href=\"http://datalab.naver.com/keyword/realtimeDetail.naver?datetime=2019-06-11T17:27:00&amp;query=%ED%8B%B0%EB%AA%AC%ED%83%80%EC%9E%84%EC%A0%81%EB%A6%BD%EA%B8%88&amp;where=main\" class=\"ah_da\" data-clk=\"lve.kwdhistory\">\\n<span class=\"blind\">데이터랩 그래프 보기</span>\\n<span class=\"ah_ico_datagraph\"></span>\\n</a>\\n</li>\\n<li class=\"ah_item\" data-order=\"13\">\\n<a href=\"http://search.naver.com/search.naver?where=nexearch&amp;query=%EC%83%81%EC%95%94+%EC%9B%94%EB%93%9C%EC%BB%B5%EA%B2%BD%EA%B8%B0%EC%9E%A5&amp;sm=top_lve&amp;ie=utf8\" class=\"ah_a\" data-ssl=\"https://search.naver.com/search.naver?where=nexearch&amp;query=%EC%83%81%EC%95%94+%EC%9B%94%EB%93%9C%EC%BB%B5%EA%B2%BD%EA%B8%B0%EC%9E%A5&amp;sm=top_lve&amp;ie=utf8\" data-clk=\"lve.keyword\">\\n<span class=\"ah_r\">13</span>\\n<span class=\"ah_k\">상암 월드컵경기장</span>\\n</a>\\n<a href=\"http://datalab.naver.com/keyword/realtimeDetail.naver?datetime=2019-06-11T17:27:00&amp;query=%EC%83%81%EC%95%94+%EC%9B%94%EB%93%9C%EC%BB%B5%EA%B2%BD%EA%B8%B0%EC%9E%A5&amp;where=main\" class=\"ah_da\" data-clk=\"lve.kwdhistory\">\\n<span class=\"blind\">데이터랩 그래프 보기</span>\\n<span class=\"ah_ico_datagraph\"></span>\\n</a>\\n</li>\\n<li class=\"ah_item\" data-order=\"14\">\\n<a href=\"http://search.naver.com/search.naver?where=nexearch&amp;query=%EC%98%A5%EC%85%98+%EC%8B%B1%EA%B8%80%EB%8D%B0%EC%9D%B4&amp;sm=top_lve&amp;ie=utf8\" class=\"ah_a\" data-ssl=\"https://search.naver.com/search.naver?where=nexearch&amp;query=%EC%98%A5%EC%85%98+%EC%8B%B1%EA%B8%80%EB%8D%B0%EC%9D%B4&amp;sm=top_lve&amp;ie=utf8\" data-clk=\"lve.keyword\">\\n<span class=\"ah_r\">14</span>\\n<span class=\"ah_k\">옥션 싱글데이</span>\\n</a>\\n<a href=\"http://datalab.naver.com/keyword/realtimeDetail.naver?datetime=2019-06-11T17:27:00&amp;query=%EC%98%A5%EC%85%98+%EC%8B%B1%EA%B8%80%EB%8D%B0%EC%9D%B4&amp;where=main\" class=\"ah_da\" data-clk=\"lve.kwdhistory\">\\n<span class=\"blind\">데이터랩 그래프 보기</span>\\n<span class=\"ah_ico_datagraph\"></span>\\n</a>\\n</li>\\n<li class=\"ah_item\" data-order=\"15\">\\n<a href=\"http://search.naver.com/search.naver?where=nexearch&amp;query=%ED%81%AC%EB%A6%B4%EC%98%A4%EC%9D%BC&amp;sm=top_lve&amp;ie=utf8\" class=\"ah_a\" data-ssl=\"https://search.naver.com/search.naver?where=nexearch&amp;query=%ED%81%AC%EB%A6%B4%EC%98%A4%EC%9D%BC&amp;sm=top_lve&amp;ie=utf8\" data-clk=\"lve.keyword\">\\n<span class=\"ah_r\">15</span>\\n<span class=\"ah_k\">크릴오일</span>\\n</a>\\n<a href=\"http://datalab.naver.com/keyword/realtimeDetail.naver?datetime=2019-06-11T17:27:00&amp;query=%ED%81%AC%EB%A6%B4%EC%98%A4%EC%9D%BC&amp;where=main\" class=\"ah_da\" data-clk=\"lve.kwdhistory\">\\n<span class=\"blind\">데이터랩 그래프 보기</span>\\n<span class=\"ah_ico_datagraph\"></span>\\n</a>\\n</li>\\n<li class=\"ah_item\" data-order=\"16\">\\n<a href=\"http://search.naver.com/search.naver?where=nexearch&amp;query=%ED%97%9D%EA%B0%80%EB%A6%AC+%EC%8B%A4%EC%A2%85%EC%9E%90+%EB%AA%85%EB%8B%A8&amp;sm=top_lve&amp;ie=utf8\" class=\"ah_a\" data-ssl=\"https://search.naver.com/search.naver?where=nexearch&amp;query=%ED%97%9D%EA%B0%80%EB%A6%AC+%EC%8B%A4%EC%A2%85%EC%9E%90+%EB%AA%85%EB%8B%A8&amp;sm=top_lve&amp;ie=utf8\" data-clk=\"lve.keyword\">\\n<span class=\"ah_r\">16</span>\\n<span class=\"ah_k\">헝가리 실종자 명단</span>\\n</a>\\n<a href=\"http://datalab.naver.com/keyword/realtimeDetail.naver?datetime=2019-06-11T17:27:00&amp;query=%ED%97%9D%EA%B0%80%EB%A6%AC+%EC%8B%A4%EC%A2%85%EC%9E%90+%EB%AA%85%EB%8B%A8&amp;where=main\" class=\"ah_da\" data-clk=\"lve.kwdhistory\">\\n<span class=\"blind\">데이터랩 그래프 보기</span>\\n<span class=\"ah_ico_datagraph\"></span>\\n</a>\\n</li>\\n<li class=\"ah_item\" data-order=\"17\">\\n<a href=\"http://search.naver.com/search.naver?where=nexearch&amp;query=%EC%98%A4%ED%94%88%EB%B2%A0%EC%9D%B4%EC%8A%A4&amp;sm=top_lve&amp;ie=utf8\" class=\"ah_a\" data-ssl=\"https://search.naver.com/search.naver?where=nexearch&amp;query=%EC%98%A4%ED%94%88%EB%B2%A0%EC%9D%B4%EC%8A%A4&amp;sm=top_lve&amp;ie=utf8\" data-clk=\"lve.keyword\">\\n<span class=\"ah_r\">17</span>\\n<span class=\"ah_k\">오픈베이스</span>\\n</a>\\n<a href=\"http://datalab.naver.com/keyword/realtimeDetail.naver?datetime=2019-06-11T17:27:00&amp;query=%EC%98%A4%ED%94%88%EB%B2%A0%EC%9D%B4%EC%8A%A4&amp;where=main\" class=\"ah_da\" data-clk=\"lve.kwdhistory\">\\n<span class=\"blind\">데이터랩 그래프 보기</span>\\n<span class=\"ah_ico_datagraph\"></span>\\n</a>\\n</li>\\n<li class=\"ah_item\" data-order=\"18\">\\n<a href=\"http://search.naver.com/search.naver?where=nexearch&amp;query=%EA%B3%A0%EC%9C%A0%EC%A0%95+%EC%82%B4%ED%95%B4%EB%B0%A9%EB%B2%95&amp;sm=top_lve&amp;ie=utf8\" class=\"ah_a\" data-ssl=\"https://search.naver.com/search.naver?where=nexearch&amp;query=%EA%B3%A0%EC%9C%A0%EC%A0%95+%EC%82%B4%ED%95%B4%EB%B0%A9%EB%B2%95&amp;sm=top_lve&amp;ie=utf8\" data-clk=\"lve.keyword\">\\n<span class=\"ah_r\">18</span>\\n<span class=\"ah_k\">고유정 살해방법</span>\\n</a>\\n<a href=\"http://datalab.naver.com/keyword/realtimeDetail.naver?datetime=2019-06-11T17:27:00&amp;query=%EA%B3%A0%EC%9C%A0%EC%A0%95+%EC%82%B4%ED%95%B4%EB%B0%A9%EB%B2%95&amp;where=main\" class=\"ah_da\" data-clk=\"lve.kwdhistory\">\\n<span class=\"blind\">데이터랩 그래프 보기</span>\\n<span class=\"ah_ico_datagraph\"></span>\\n</a>\\n</li>\\n<li class=\"ah_item\" data-order=\"19\">\\n<a href=\"http://search.naver.com/search.naver?where=nexearch&amp;query=%EC%9D%B4%EB%9E%80%EC%A0%84&amp;sm=top_lve&amp;ie=utf8\" class=\"ah_a\" data-ssl=\"https://search.naver.com/search.naver?where=nexearch&amp;query=%EC%9D%B4%EB%9E%80%EC%A0%84&amp;sm=top_lve&amp;ie=utf8\" data-clk=\"lve.keyword\">\\n<span class=\"ah_r\">19</span>\\n<span class=\"ah_k\">이란전</span>\\n</a>\\n<a href=\"http://datalab.naver.com/keyword/realtimeDetail.naver?datetime=2019-06-11T17:27:00&amp;query=%EC%9D%B4%EB%9E%80%EC%A0%84&amp;where=main\" class=\"ah_da\" data-clk=\"lve.kwdhistory\">\\n<span class=\"blind\">데이터랩 그래프 보기</span>\\n<span class=\"ah_ico_datagraph\"></span>\\n</a>\\n</li>\\n<li class=\"ah_item\" data-order=\"20\">\\n<a href=\"http://search.naver.com/search.naver?where=nexearch&amp;query=%EB%A5%98%ED%98%84%EC%A7%84+%EB%B0%A9%EC%96%B4%EC%9C%A8&amp;sm=top_lve&amp;ie=utf8\" class=\"ah_a\" data-ssl=\"https://search.naver.com/search.naver?where=nexearch&amp;query=%EB%A5%98%ED%98%84%EC%A7%84+%EB%B0%A9%EC%96%B4%EC%9C%A8&amp;sm=top_lve&amp;ie=utf8\" data-clk=\"lve.keyword\">\\n<span class=\"ah_r\">20</span>\\n<span class=\"ah_k\">류현진 방어율</span>\\n</a>\\n<a href=\"http://datalab.naver.com/keyword/realtimeDetail.naver?datetime=2019-06-11T17:27:00&amp;query=%EB%A5%98%ED%98%84%EC%A7%84+%EB%B0%A9%EC%96%B4%EC%9C%A8&amp;where=main\" class=\"ah_da\" data-clk=\"lve.kwdhistory\">\\n<span class=\"blind\">데이터랩 그래프 보기</span>\\n<span class=\"ah_ico_datagraph\"></span>\\n</a>\\n</li>\\n</ul>\\n<p class=\"ah_time\" data-time=\"20190611172700\">2019.06.11. 17:27:00 기준 <a href=\"http://help.naver.com/support/alias/search/word/word_5.naver\" data-ssl=\"https://help.naver.com/support/alias/search/word/word_5.naver\" class=\"ah_btn_help\" data-clk=\"lve.help\"><span class=\"ah_ico_help\"></span><span class=\"blind\">도움말</span></a></p>\\n</div>\\n\\t\\t</div>\\n\\t</div>\\n\\n</div>\\n<!-- //헤더 -->\\n<div style=\"position:relative;width:1080px;margin:0 auto;z-index:11\">\\n\\t<div id=\"da_top\"></div>\\n\\t<div id=\"da_brand\"></div>\\n\\t<div id=\"da_stake\"></div>\\n\\t<div id=\"da_expwide\"></div>\\n</div>\\n\\n\\n\\t\\t<div class=\"container\" role=\"main\">\\n\\t\\t\\t<div class=\"column_left\">\\n\\t<!-- AD TOP -->\\n\\t<div id=\"veta_top\">\\n\\t\\t<iframe id=\"da_iframe_time\" name=\"da_iframe_time\" src=\"https://nv.veta.naver.com/fxshow?su=SU10079&amp;nrefreshx=0\" data-veta-preview=\"main_time\" title=\"광고\" width=\"740\" height=\"120\" marginheight=\"0\" marginwidth=\"0\" scrolling=\"no\" frameborder=\"0\"></iframe>\\n\\t\\t<div class=\"veta_bdt\"></div><div class=\"veta_bdr\"></div><div class=\"veta_bdb\"></div><div class=\"veta_bdl\"></div>\\n\\t</div>\\n\\t<!-- //AD TOP -->\\n\\n\\t<!-- 뉴스캐스트 -->\\n    \\n    \\n\\n    \\n\\n    \\n\\n    \\n    \\t\\n    <div id=\"news_cast\" class=\"section_newscast\">\\n        <div class=\"area_newstop\">\\n            <div class=\"cast_flash\">\\n                <h3 class=\"cf_tit\">\\n                    <a href=\"http://news.naver.com/main/list.nhn?mode=LPOD&amp;mid=sec&amp;sid1=001&amp;sid2=140&amp;oid=001&amp;isYeonhapFlash=Y\" data-clk=\"ncy.newsflash\" class=\"cf_ta\">연합뉴스<span class=\"cf_ico_link\"></span></a>\\n                </h3>\\n                <div class=\"cast_atc _PM_newsstand_rolling\">\\n                    <ol class=\"ca_l\">\\n\\t\\t\\t\\t\\t\\t<li class=\"ca_item\"><a href=\"http://news.naver.com/main/list.nhn?mode=LPOD&amp;mid=sec&amp;sid1=001&amp;sid2=140&amp;oid=001&amp;isYeonhapFlash=Y&amp;aid=0010882621\" class=\"ca_a\" data-clk=\"ncy.quickarticle\">\\'다뉴브의 비극\\' 허블레아니 인양 중 한국인 추정 시신 3구 수습</a></li>\\n<li class=\"ca_item\"><a href=\"http://news.naver.com/main/list.nhn?mode=LPOD&amp;mid=sec&amp;sid1=001&amp;sid2=140&amp;oid=001&amp;isYeonhapFlash=Y&amp;aid=0010882646\" class=\"ca_a\" data-clk=\"ncy.quickarticle\">故이희호 여사 조문 첫날 추모 발길</a></li>\\n<li class=\"ca_item\"><a href=\"http://news.naver.com/main/list.nhn?mode=LPOD&amp;mid=sec&amp;sid1=001&amp;sid2=140&amp;oid=001&amp;isYeonhapFlash=Y&amp;aid=0010882634\" class=\"ca_a\" data-clk=\"ncy.quickarticle\">여야 국회정상화 의견 접근…정개·사개특위 연장 변수</a></li>\\n<li class=\"ca_item\"><a href=\"http://news.naver.com/main/list.nhn?mode=LPOD&amp;mid=sec&amp;sid1=001&amp;sid2=140&amp;oid=001&amp;isYeonhapFlash=Y&amp;aid=0010882592\" class=\"ca_a\" data-clk=\"ncy.quickarticle\">文대통령, 핀란드 총리와 회담…미세먼지 대응 등 협력 논의</a></li>\\n<li class=\"ca_item\"><a href=\"http://news.naver.com/main/list.nhn?mode=LPOD&amp;mid=sec&amp;sid1=001&amp;sid2=140&amp;oid=001&amp;isYeonhapFlash=Y&amp;aid=0010882699\" class=\"ca_a\" data-clk=\"ncy.quickarticle\">전광훈 \"문 대통령 청와대 나와야\"…하야 거듭 요구</a></li>\\n<li class=\"ca_item\"><a href=\"http://news.naver.com/main/list.nhn?mode=LPOD&amp;mid=sec&amp;sid1=001&amp;sid2=140&amp;oid=001&amp;isYeonhapFlash=Y&amp;aid=0010881966\" class=\"ca_a\" data-clk=\"ncy.quickarticle\">\\'성접대 뇌물수수\\' 김학의, 내달 4일 재판절차 시작</a></li>\\n<li class=\"ca_item\"><a href=\"http://news.naver.com/main/list.nhn?mode=LPOD&amp;mid=sec&amp;sid1=001&amp;sid2=140&amp;oid=001&amp;isYeonhapFlash=Y&amp;aid=0010882522\" class=\"ca_a\" data-clk=\"ncy.quickarticle\">뭉쳐서 약자 괴롭히는 10대 범죄 \\'잊을만하면 또\\'</a></li>\\n<li class=\"ca_item\"><a href=\"http://news.naver.com/main/list.nhn?mode=LPOD&amp;mid=sec&amp;sid1=001&amp;sid2=140&amp;oid=001&amp;isYeonhapFlash=Y&amp;aid=0010882610\" class=\"ca_a\" data-clk=\"ncy.quickarticle\">중국, 네이버 대문에 빗장 걸었다…인터넷 통제 강화</a></li>\\n<li class=\"ca_item\"><a href=\"http://news.naver.com/main/list.nhn?mode=LPOD&amp;mid=sec&amp;sid1=001&amp;sid2=140&amp;oid=001&amp;isYeonhapFlash=Y&amp;aid=0010882222\" class=\"ca_a\" data-clk=\"ncy.quickarticle\">류현진 \"이것도 야구의 일부…선발역할 해낸데 만족\"</a></li>\\n<li class=\"ca_item\"><a href=\"http://news.naver.com/main/list.nhn?mode=LPOD&amp;mid=sec&amp;sid1=001&amp;sid2=140&amp;oid=001&amp;isYeonhapFlash=Y&amp;aid=0010882742\" class=\"ca_a\" data-clk=\"ncy.quickarticle\">\\'피오르 관광\\' 민경욱 SNS에 민주 \"또 막말\" vs 한국 \"비유일뿐\"</a></li>\\n                    </ol>\\n                </div>\\n            </div>\\n            <ul class=\"cast_link\">\\n\\t\\t\\t\\t<li class=\"cl_item\">\\n<a href=\"http://news.naver.com/\" class=\"cl_a cl_news\" data-clk=\"ncy.newshome\">\\n네이버뉴스</a>\\n</li>\\n<li class=\"cl_item\">\\n<a href=\"http://entertain.naver.com/home\" class=\"cl_a cl_ent\" data-clk=\"ncy.entertainment\">\\n연예</a>\\n</li>\\n<li class=\"cl_item\">\\n<a href=\"http://sports.news.naver.com/\" class=\"cl_a cl_sports\" data-clk=\"ncy.sports\">\\n스포츠</a>\\n</li>\\n<li class=\"cl_item\">\\n<a href=\"http://news.naver.com/main/main.nhn?mode=LSD&amp;mid=shm&amp;sid1=101\" class=\"cl_a cl_finance\" data-clk=\"ncy.economy\">\\n경제</a>\\n</li>\\n            </ul>\\n        </div>\\n        <div class=\"area_newsstand\">\\n            <div class=\"an_menulist\">\\n\\t\\t\\t\\t<h3 class=\"an_tit\">\\n\\t\\t\\t\\t\\t<a href=\"http://newsstand.naver.com/\" class=\"an_ta\" target=\"_blank\" data-clk=\"nsd.title\">뉴스스탠드<span class=\"an_ico_link\"></span></a>\\n\\t\\t\\t\\t</h3>\\n                <div class=\"an_menulist_section1\">\\n                    <div class=\"an_sort\" role=\"tablist\">\\n                        <a class=\"as_btn_press _PM_newsstand_total_type is_selected\" href=\"#\" role=\"tab\" aria-selected=\"true\" data-clk=\"nsd.all\">전체 언론사</a>\\n                        <span class=\"as_bar\" role=\"presentation\"></span>\\n                        <a class=\"as_btn_my _PM_newsstand_my_type\" href=\"#\" role=\"tab\" aria-selected=\"false\" data-clk=\"nsd.my\">MY 뉴스</a>\\n                    </div>\\n                </div>\\n                <div class=\"an_menulist_section2\">\\n                    <div class=\"an_sort2\" role=\"tablist\">\\n                        <a class=\"as2_btn _PM_newsstand_thumb_type is_selected\" href=\"#\" role=\"tab\" aria-selected=\"true\" data-clk=\"nsd.pressview\"><i class=\"as2_btn_ico ico_image\"></i><span class=\"blind\">이미지형</span></a>\\n                        <a class=\"as2_btn _PM_newsstand_list_type\" href=\"#\" role=\"tab\" aria-selected=\"false\" data-clk=\"nsd.articleview\"><i class=\"as2_btn_ico ico_list\"></i><span class=\"blind\">리스트형</span></a>\\n                        <a class=\"as2_btn\" href=\"http://newsstand.naver.com/config.html\" data-clk=\"nsd.set\" target=\"_blank\"><i class=\"as2_btn_ico ico_setting\"></i><span class=\"blind\">설정</span></a>\\n                    </div>\\n                    <ul class=\"an_paging\">\\n                        <li class=\"ap_list\"><a class=\"ap_btn _PM_newsstand_prev\" href=\"#\" data-clk=\"nsd.prev\"><i class=\"ap_btn_ico ico_left\"></i><span class=\"blind\">이전 페이지</span></a></li>\\n                        <li class=\"ap_list\"><a class=\"ap_btn _PM_newsstand_next\" href=\"#\" data-clk=\"nsd.next\"><i class=\"ap_btn_ico ico_right\"></i><span class=\"blind\">다음 페이지</span></a></li>\\n                    </ul>\\n                </div>\\n            </div>\\n            <div class=\"an_panel_image _PM_newsstand_thumb\" role=\"tabpanel\">\\n                <div class=\"api_list_wrap\">\\n                    <h3><span class=\"blind\">언론사 목록</span></h3>\\n                    <div class=\"flick-view\">\\n                        <div class=\"flick-container\">\\n                            <div class=\"flick-panel\">\\n                                <ul class=\"api_list\">\\n\\t\\t\\t\\t\\t\\t\\t\\t\\t\\n \\t\\t\\t\\t\\t\\t\\t\\t\\t\\t\\n<li id=\"NS_215\" class=\"api_item\" data-pid=\"215\">\\n<a class=\"api_link\" href=\"http://newsstand.naver.com/?list=ct1&amp;pcode=215\" aria-haspopup=\"true\" target=\"_blank\">\\n<img src=\"https://s.pstatic.net/static/newsstand/up/2017/0424/nsd172755139.png\" height=\"24\" alt=\"한국경제TV\" class=\"api_logo\">\\n</a>\\n<div class=\"api_popup_btn_set\" role=\"alertdialog\">\\n<div class=\"api_pbs_inner\">\\n<a href=\"#\" class=\"api_pbs_btn _PM_newsstand_subscribe\" role=\"button\" data-pid=\"215\" data-clk=\"nsd_all*p.sub\">구독</a>\\n<a href=\"#\" class=\"api_pbs_btn _PM_newsstand_unsubscribe\" role=\"button\" data-pid=\"215\" data-clk=\"nsd_all*p.sub\" style=\"display:none\">해지</a>\\n<a href=\"http://newsstand.naver.com/?list=ct1&amp;pcode=215\" class=\"api_pbs_btn api_pbs_lb\" role=\"button\" target=\"_blank\" data-all-clk=\"nsd_all*p.logo\" data-my-clk=\"nsd_myn*p.logo\">기사보기</a>\\n</div>\\n</div>\\n</li>\\n<li id=\"NS_028\" class=\"api_item\" data-pid=\"028\">\\n<a class=\"api_link\" href=\"http://newsstand.naver.com/?list=ct1&amp;pcode=028\" aria-haspopup=\"true\" target=\"_blank\">\\n<img src=\"https://s.pstatic.net/static/newsstand/up/2017/0424/nsd17263596.png\" height=\"24\" alt=\"한겨레\" class=\"api_logo\">\\n</a>\\n<div class=\"api_popup_btn_set\" role=\"alertdialog\">\\n<div class=\"api_pbs_inner\">\\n<a href=\"#\" class=\"api_pbs_btn _PM_newsstand_subscribe\" role=\"button\" data-pid=\"028\" data-clk=\"nsd_all*p.sub\">구독</a>\\n<a href=\"#\" class=\"api_pbs_btn _PM_newsstand_unsubscribe\" role=\"button\" data-pid=\"028\" data-clk=\"nsd_all*p.sub\" style=\"display:none\">해지</a>\\n<a href=\"http://newsstand.naver.com/?list=ct1&amp;pcode=028\" class=\"api_pbs_btn api_pbs_lb\" role=\"button\" target=\"_blank\" data-all-clk=\"nsd_all*p.logo\" data-my-clk=\"nsd_myn*p.logo\">기사보기</a>\\n</div>\\n</div>\\n</li>\\n<li id=\"NS_055\" class=\"api_item\" data-pid=\"055\">\\n<a class=\"api_link\" href=\"http://newsstand.naver.com/?list=ct1&amp;pcode=055\" aria-haspopup=\"true\" target=\"_blank\">\\n<img src=\"https://s.pstatic.net/static/newsstand/up/2017/0424/nsd173335676.png\" height=\"24\" alt=\"SBS\" class=\"api_logo\">\\n</a>\\n<div class=\"api_popup_btn_set\" role=\"alertdialog\">\\n<div class=\"api_pbs_inner\">\\n<a href=\"#\" class=\"api_pbs_btn _PM_newsstand_subscribe\" role=\"button\" data-pid=\"055\" data-clk=\"nsd_all*p.sub\">구독</a>\\n<a href=\"#\" class=\"api_pbs_btn _PM_newsstand_unsubscribe\" role=\"button\" data-pid=\"055\" data-clk=\"nsd_all*p.sub\" style=\"display:none\">해지</a>\\n<a href=\"http://newsstand.naver.com/?list=ct1&amp;pcode=055\" class=\"api_pbs_btn api_pbs_lb\" role=\"button\" target=\"_blank\" data-all-clk=\"nsd_all*p.logo\" data-my-clk=\"nsd_myn*p.logo\">기사보기</a>\\n</div>\\n</div>\\n</li>\\n<li id=\"NS_023\" class=\"api_item\" data-pid=\"023\">\\n<a class=\"api_link\" href=\"http://newsstand.naver.com/?list=ct1&amp;pcode=023\" aria-haspopup=\"true\" target=\"_blank\">\\n<img src=\"https://s.pstatic.net/static/newsstand/up/2017/0424/nsd162718792.png\" height=\"24\" alt=\"조선일보\" class=\"api_logo\">\\n</a>\\n<div class=\"api_popup_btn_set\" role=\"alertdialog\">\\n<div class=\"api_pbs_inner\">\\n<a href=\"#\" class=\"api_pbs_btn _PM_newsstand_subscribe\" role=\"button\" data-pid=\"023\" data-clk=\"nsd_all*p.sub\">구독</a>\\n<a href=\"#\" class=\"api_pbs_btn _PM_newsstand_unsubscribe\" role=\"button\" data-pid=\"023\" data-clk=\"nsd_all*p.sub\" style=\"display:none\">해지</a>\\n<a href=\"http://newsstand.naver.com/?list=ct1&amp;pcode=023\" class=\"api_pbs_btn api_pbs_lb\" role=\"button\" target=\"_blank\" data-all-clk=\"nsd_all*p.logo\" data-my-clk=\"nsd_myn*p.logo\">기사보기</a>\\n</div>\\n</div>\\n</li>\\n<li id=\"NS_056\" class=\"api_item\" data-pid=\"056\">\\n<a class=\"api_link\" href=\"http://newsstand.naver.com/?list=ct1&amp;pcode=056\" aria-haspopup=\"true\" target=\"_blank\">\\n<img src=\"https://s.pstatic.net/static/newsstand/up/2017/0424/nsd173124306.png\" height=\"24\" alt=\"KBS\" class=\"api_logo\">\\n</a>\\n<div class=\"api_popup_btn_set\" role=\"alertdialog\">\\n<div class=\"api_pbs_inner\">\\n<a href=\"#\" class=\"api_pbs_btn _PM_newsstand_subscribe\" role=\"button\" data-pid=\"056\" data-clk=\"nsd_all*p.sub\">구독</a>\\n<a href=\"#\" class=\"api_pbs_btn _PM_newsstand_unsubscribe\" role=\"button\" data-pid=\"056\" data-clk=\"nsd_all*p.sub\" style=\"display:none\">해지</a>\\n<a href=\"http://newsstand.naver.com/?list=ct1&amp;pcode=056\" class=\"api_pbs_btn api_pbs_lb\" role=\"button\" target=\"_blank\" data-all-clk=\"nsd_all*p.logo\" data-my-clk=\"nsd_myn*p.logo\">기사보기</a>\\n</div>\\n</div>\\n</li>\\n<li id=\"NS_057\" class=\"api_item\" data-pid=\"057\">\\n<a class=\"api_link\" href=\"http://newsstand.naver.com/?list=ct1&amp;pcode=057\" aria-haspopup=\"true\" target=\"_blank\">\\n<img src=\"https://s.pstatic.net/static/newsstand/up/2017/0424/nsd173223533.png\" height=\"24\" alt=\"MBN\" class=\"api_logo\">\\n</a>\\n<div class=\"api_popup_btn_set\" role=\"alertdialog\">\\n<div class=\"api_pbs_inner\">\\n<a href=\"#\" class=\"api_pbs_btn _PM_newsstand_subscribe\" role=\"button\" data-pid=\"057\" data-clk=\"nsd_all*p.sub\">구독</a>\\n<a href=\"#\" class=\"api_pbs_btn _PM_newsstand_unsubscribe\" role=\"button\" data-pid=\"057\" data-clk=\"nsd_all*p.sub\" style=\"display:none\">해지</a>\\n<a href=\"http://newsstand.naver.com/?list=ct1&amp;pcode=057\" class=\"api_pbs_btn api_pbs_lb\" role=\"button\" target=\"_blank\" data-all-clk=\"nsd_all*p.logo\" data-my-clk=\"nsd_myn*p.logo\">기사보기</a>\\n</div>\\n</div>\\n</li>\\n<li id=\"NS_025\" class=\"api_item\" data-pid=\"025\">\\n<a class=\"api_link\" href=\"http://newsstand.naver.com/?list=ct1&amp;pcode=025\" aria-haspopup=\"true\" target=\"_blank\">\\n<img src=\"https://s.pstatic.net/static/newsstand/up/2018/0807/nsd1484475.png\" height=\"24\" alt=\"중앙일보\" class=\"api_logo\">\\n</a>\\n<div class=\"api_popup_btn_set\" role=\"alertdialog\">\\n<div class=\"api_pbs_inner\">\\n<a href=\"#\" class=\"api_pbs_btn _PM_newsstand_subscribe\" role=\"button\" data-pid=\"025\" data-clk=\"nsd_all*p.sub\">구독</a>\\n<a href=\"#\" class=\"api_pbs_btn _PM_newsstand_unsubscribe\" role=\"button\" data-pid=\"025\" data-clk=\"nsd_all*p.sub\" style=\"display:none\">해지</a>\\n<a href=\"http://newsstand.naver.com/?list=ct1&amp;pcode=025\" class=\"api_pbs_btn api_pbs_lb\" role=\"button\" target=\"_blank\" data-all-clk=\"nsd_all*p.logo\" data-my-clk=\"nsd_myn*p.logo\">기사보기</a>\\n</div>\\n</div>\\n</li>\\n<li id=\"NS_038\" class=\"api_item\" data-pid=\"038\">\\n<a class=\"api_link\" href=\"http://newsstand.naver.com/?list=ct1&amp;pcode=038\" aria-haspopup=\"true\" target=\"_blank\">\\n<img src=\"https://s.pstatic.net/static/newsstand/up/2017/0424/nsd172837200.png\" height=\"24\" alt=\"한국일보\" class=\"api_logo\">\\n</a>\\n<div class=\"api_popup_btn_set\" role=\"alertdialog\">\\n<div class=\"api_pbs_inner\">\\n<a href=\"#\" class=\"api_pbs_btn _PM_newsstand_subscribe\" role=\"button\" data-pid=\"038\" data-clk=\"nsd_all*p.sub\">구독</a>\\n<a href=\"#\" class=\"api_pbs_btn _PM_newsstand_unsubscribe\" role=\"button\" data-pid=\"038\" data-clk=\"nsd_all*p.sub\" style=\"display:none\">해지</a>\\n<a href=\"http://newsstand.naver.com/?list=ct1&amp;pcode=038\" class=\"api_pbs_btn api_pbs_lb\" role=\"button\" target=\"_blank\" data-all-clk=\"nsd_all*p.logo\" data-my-clk=\"nsd_myn*p.logo\">기사보기</a>\\n</div>\\n</div>\\n</li>\\n<li id=\"NS_003\" class=\"api_item\" data-pid=\"003\">\\n<a class=\"api_link\" href=\"http://newsstand.naver.com/?list=ct1&amp;pcode=003\" aria-haspopup=\"true\" target=\"_blank\">\\n<img src=\"https://s.pstatic.net/static/newsstand/up/2017/0424/nsd14449981.png\" height=\"24\" alt=\"뉴시스\" class=\"api_logo\">\\n</a>\\n<div class=\"api_popup_btn_set\" role=\"alertdialog\">\\n<div class=\"api_pbs_inner\">\\n<a href=\"#\" class=\"api_pbs_btn _PM_newsstand_subscribe\" role=\"button\" data-pid=\"003\" data-clk=\"nsd_all*p.sub\">구독</a>\\n<a href=\"#\" class=\"api_pbs_btn _PM_newsstand_unsubscribe\" role=\"button\" data-pid=\"003\" data-clk=\"nsd_all*p.sub\" style=\"display:none\">해지</a>\\n<a href=\"http://newsstand.naver.com/?list=ct1&amp;pcode=003\" class=\"api_pbs_btn api_pbs_lb\" role=\"button\" target=\"_blank\" data-all-clk=\"nsd_all*p.logo\" data-my-clk=\"nsd_myn*p.logo\">기사보기</a>\\n</div>\\n</div>\\n</li>\\n<li id=\"NS_214\" class=\"api_item\" data-pid=\"214\">\\n<a class=\"api_link\" href=\"http://newsstand.naver.com/?list=ct1&amp;pcode=214\" aria-haspopup=\"true\" target=\"_blank\">\\n<img src=\"https://s.pstatic.net/static/newsstand/up/2017/0424/nsd17324940.png\" height=\"24\" alt=\"MBC\" class=\"api_logo\">\\n</a>\\n<div class=\"api_popup_btn_set\" role=\"alertdialog\">\\n<div class=\"api_pbs_inner\">\\n<a href=\"#\" class=\"api_pbs_btn _PM_newsstand_subscribe\" role=\"button\" data-pid=\"214\" data-clk=\"nsd_all*p.sub\">구독</a>\\n<a href=\"#\" class=\"api_pbs_btn _PM_newsstand_unsubscribe\" role=\"button\" data-pid=\"214\" data-clk=\"nsd_all*p.sub\" style=\"display:none\">해지</a>\\n<a href=\"http://newsstand.naver.com/?list=ct1&amp;pcode=214\" class=\"api_pbs_btn api_pbs_lb\" role=\"button\" target=\"_blank\" data-all-clk=\"nsd_all*p.logo\" data-my-clk=\"nsd_myn*p.logo\">기사보기</a>\\n</div>\\n</div>\\n</li>\\n<li id=\"NS_018\" class=\"api_item\" data-pid=\"018\">\\n<a class=\"api_link\" href=\"http://newsstand.naver.com/?list=ct1&amp;pcode=018\" aria-haspopup=\"true\" target=\"_blank\">\\n<img src=\"https://s.pstatic.net/static/newsstand/up/2017/0424/nsd154426359.png\" height=\"24\" alt=\"이데일리\" class=\"api_logo\">\\n</a>\\n<div class=\"api_popup_btn_set\" role=\"alertdialog\">\\n<div class=\"api_pbs_inner\">\\n<a href=\"#\" class=\"api_pbs_btn _PM_newsstand_subscribe\" role=\"button\" data-pid=\"018\" data-clk=\"nsd_all*p.sub\">구독</a>\\n<a href=\"#\" class=\"api_pbs_btn _PM_newsstand_unsubscribe\" role=\"button\" data-pid=\"018\" data-clk=\"nsd_all*p.sub\" style=\"display:none\">해지</a>\\n<a href=\"http://newsstand.naver.com/?list=ct1&amp;pcode=018\" class=\"api_pbs_btn api_pbs_lb\" role=\"button\" target=\"_blank\" data-all-clk=\"nsd_all*p.logo\" data-my-clk=\"nsd_myn*p.logo\">기사보기</a>\\n</div>\\n</div>\\n</li>\\n<li id=\"NS_052\" class=\"api_item\" data-pid=\"052\">\\n<a class=\"api_link\" href=\"http://newsstand.naver.com/?list=ct1&amp;pcode=052\" aria-haspopup=\"true\" target=\"_blank\">\\n<img src=\"https://s.pstatic.net/static/newsstand/up/2017/0424/nsd173559874.png\" height=\"24\" alt=\"YTN\" class=\"api_logo\">\\n</a>\\n<div class=\"api_popup_btn_set\" role=\"alertdialog\">\\n<div class=\"api_pbs_inner\">\\n<a href=\"#\" class=\"api_pbs_btn _PM_newsstand_subscribe\" role=\"button\" data-pid=\"052\" data-clk=\"nsd_all*p.sub\">구독</a>\\n<a href=\"#\" class=\"api_pbs_btn _PM_newsstand_unsubscribe\" role=\"button\" data-pid=\"052\" data-clk=\"nsd_all*p.sub\" style=\"display:none\">해지</a>\\n<a href=\"http://newsstand.naver.com/?list=ct1&amp;pcode=052\" class=\"api_pbs_btn api_pbs_lb\" role=\"button\" target=\"_blank\" data-all-clk=\"nsd_all*p.logo\" data-my-clk=\"nsd_myn*p.logo\">기사보기</a>\\n</div>\\n</div>\\n</li>\\n<li id=\"NS_948\" class=\"api_item\" data-pid=\"948\">\\n<a class=\"api_link\" href=\"http://newsstand.naver.com/?list=ct7&amp;pcode=948\" aria-haspopup=\"true\" target=\"_blank\">\\n<img src=\"https://s.pstatic.net/static/newsstand/up/2017/0424/nsd172654646.png\" height=\"24\" alt=\"한겨레21\" class=\"api_logo\">\\n</a>\\n<div class=\"api_popup_btn_set\" role=\"alertdialog\">\\n<div class=\"api_pbs_inner\">\\n<a href=\"#\" class=\"api_pbs_btn _PM_newsstand_subscribe\" role=\"button\" data-pid=\"948\" data-clk=\"nsd_all*p.sub\">구독</a>\\n<a href=\"#\" class=\"api_pbs_btn _PM_newsstand_unsubscribe\" role=\"button\" data-pid=\"948\" data-clk=\"nsd_all*p.sub\" style=\"display:none\">해지</a>\\n<a href=\"http://newsstand.naver.com/?list=ct7&amp;pcode=948\" class=\"api_pbs_btn api_pbs_lb\" role=\"button\" target=\"_blank\" data-all-clk=\"nsd_all*p.logo\" data-my-clk=\"nsd_myn*p.logo\">기사보기</a>\\n</div>\\n</div>\\n</li>\\n<li id=\"NS_312\" class=\"api_item\" data-pid=\"312\">\\n<a class=\"api_link\" href=\"http://newsstand.naver.com/?list=ct6&amp;pcode=312\" aria-haspopup=\"true\" target=\"_blank\">\\n<img src=\"https://s.pstatic.net/static/newsstand/up/2017/0424/nsd172519405.png\" height=\"24\" alt=\"텐아시아\" class=\"api_logo\">\\n</a>\\n<div class=\"api_popup_btn_set\" role=\"alertdialog\">\\n<div class=\"api_pbs_inner\">\\n<a href=\"#\" class=\"api_pbs_btn _PM_newsstand_subscribe\" role=\"button\" data-pid=\"312\" data-clk=\"nsd_all*p.sub\">구독</a>\\n<a href=\"#\" class=\"api_pbs_btn _PM_newsstand_unsubscribe\" role=\"button\" data-pid=\"312\" data-clk=\"nsd_all*p.sub\" style=\"display:none\">해지</a>\\n<a href=\"http://newsstand.naver.com/?list=ct6&amp;pcode=312\" class=\"api_pbs_btn api_pbs_lb\" role=\"button\" target=\"_blank\" data-all-clk=\"nsd_all*p.logo\" data-my-clk=\"nsd_myn*p.logo\">기사보기</a>\\n</div>\\n</div>\\n</li>\\n<li id=\"NS_329\" class=\"api_item\" data-pid=\"329\">\\n<a class=\"api_link\" href=\"http://newsstand.naver.com/?list=ct7&amp;pcode=329\" aria-haspopup=\"true\" target=\"_blank\">\\n<img src=\"https://s.pstatic.net/static/newsstand/up/2017/0424/nsd14583498.png\" height=\"24\" alt=\"소년한국일보\" class=\"api_logo\">\\n</a>\\n<div class=\"api_popup_btn_set\" role=\"alertdialog\">\\n<div class=\"api_pbs_inner\">\\n<a href=\"#\" class=\"api_pbs_btn _PM_newsstand_subscribe\" role=\"button\" data-pid=\"329\" data-clk=\"nsd_all*p.sub\">구독</a>\\n<a href=\"#\" class=\"api_pbs_btn _PM_newsstand_unsubscribe\" role=\"button\" data-pid=\"329\" data-clk=\"nsd_all*p.sub\" style=\"display:none\">해지</a>\\n<a href=\"http://newsstand.naver.com/?list=ct7&amp;pcode=329\" class=\"api_pbs_btn api_pbs_lb\" role=\"button\" target=\"_blank\" data-all-clk=\"nsd_all*p.logo\" data-my-clk=\"nsd_myn*p.logo\">기사보기</a>\\n</div>\\n</div>\\n</li>\\n<li id=\"NS_013\" class=\"api_item\" data-pid=\"013\">\\n<a class=\"api_link\" href=\"http://newsstand.naver.com/?list=ct2&amp;pcode=013\" aria-haspopup=\"true\" target=\"_blank\">\\n<img src=\"https://s.pstatic.net/static/newsstand/up/2017/0424/nsd154238686.png\" height=\"24\" alt=\"연합인포맥스\" class=\"api_logo\">\\n</a>\\n<div class=\"api_popup_btn_set\" role=\"alertdialog\">\\n<div class=\"api_pbs_inner\">\\n<a href=\"#\" class=\"api_pbs_btn _PM_newsstand_subscribe\" role=\"button\" data-pid=\"013\" data-clk=\"nsd_all*p.sub\">구독</a>\\n<a href=\"#\" class=\"api_pbs_btn _PM_newsstand_unsubscribe\" role=\"button\" data-pid=\"013\" data-clk=\"nsd_all*p.sub\" style=\"display:none\">해지</a>\\n<a href=\"http://newsstand.naver.com/?list=ct2&amp;pcode=013\" class=\"api_pbs_btn api_pbs_lb\" role=\"button\" target=\"_blank\" data-all-clk=\"nsd_all*p.logo\" data-my-clk=\"nsd_myn*p.logo\">기사보기</a>\\n</div>\\n</div>\\n</li>\\n<li id=\"NS_966\" class=\"api_item\" data-pid=\"966\">\\n<a class=\"api_link\" href=\"http://newsstand.naver.com/?list=ct7&amp;pcode=966\" aria-haspopup=\"true\" target=\"_blank\">\\n<img src=\"https://s.pstatic.net/static/newsstand/up/2017/1201/nsd161847464.png\" height=\"24\" alt=\"정신의학신문\" class=\"api_logo\">\\n</a>\\n<div class=\"api_popup_btn_set\" role=\"alertdialog\">\\n<div class=\"api_pbs_inner\">\\n<a href=\"#\" class=\"api_pbs_btn _PM_newsstand_subscribe\" role=\"button\" data-pid=\"966\" data-clk=\"nsd_all*p.sub\">구독</a>\\n<a href=\"#\" class=\"api_pbs_btn _PM_newsstand_unsubscribe\" role=\"button\" data-pid=\"966\" data-clk=\"nsd_all*p.sub\" style=\"display:none\">해지</a>\\n<a href=\"http://newsstand.naver.com/?list=ct7&amp;pcode=966\" class=\"api_pbs_btn api_pbs_lb\" role=\"button\" target=\"_blank\" data-all-clk=\"nsd_all*p.logo\" data-my-clk=\"nsd_myn*p.logo\">기사보기</a>\\n</div>\\n</div>\\n</li>\\n<li id=\"NS_917\" class=\"api_item\" data-pid=\"917\">\\n<a class=\"api_link\" href=\"http://newsstand.naver.com/?list=ct4&amp;pcode=917\" aria-haspopup=\"true\" target=\"_blank\">\\n<img src=\"https://s.pstatic.net/static/newsstand/up/2017/0424/nsd173057968.png\" height=\"24\" alt=\"IT조선\" class=\"api_logo\">\\n</a>\\n<div class=\"api_popup_btn_set\" role=\"alertdialog\">\\n<div class=\"api_pbs_inner\">\\n<a href=\"#\" class=\"api_pbs_btn _PM_newsstand_subscribe\" role=\"button\" data-pid=\"917\" data-clk=\"nsd_all*p.sub\">구독</a>\\n<a href=\"#\" class=\"api_pbs_btn _PM_newsstand_unsubscribe\" role=\"button\" data-pid=\"917\" data-clk=\"nsd_all*p.sub\" style=\"display:none\">해지</a>\\n<a href=\"http://newsstand.naver.com/?list=ct4&amp;pcode=917\" class=\"api_pbs_btn api_pbs_lb\" role=\"button\" target=\"_blank\" data-all-clk=\"nsd_all*p.logo\" data-my-clk=\"nsd_myn*p.logo\">기사보기</a>\\n</div>\\n</div>\\n</li>\\n\\t\\t\\t\\t\\t\\t\\t\\t\\t\\n                                </ul>\\n                            </div>\\n                        </div>\\n                    </div>\\n                    <i class=\"api_list_border_right\" role=\"presentation\" aria-hidden=\"true\"></i>\\n                    <i class=\"api_list_border_horizontal1\" role=\"presentation\" aria-hidden=\"true\"></i>\\n                    <i class=\"api_list_border_horizontal2\" role=\"presentation\" aria-hidden=\"true\"></i>\\n                </div>\\n            </div>\\n            <div class=\"an_panel_list _PM_newsstand_list\" role=\"tabpanel\" aria-hidden=\"false\" style=\"display:none;\">\\n                <div class=\"apl_category_wrap\">\\n                    <h3><span class=\"blind\">언론사 목록</span></h3>\\n                    <ul class=\"aplc_list\" data-tab=\"total\">\\n                        <li class=\"aplc_item\"><a class=\"aplc_link is_selected\" href=\"#\" data-category=\"ct2\" data-clk=\"nsd_all.daei\"><span class=\"aplc_name\">종합/경제</span><span class=\"aplc_paging\"></span></a></li>\\n                        <li class=\"aplc_item\"><a class=\"aplc_link\" href=\"#\" data-category=\"ct3\" data-clk=\"nsd_all.dtvcom\"><span class=\"aplc_name\">방송/통신</span><span class=\"aplc_paging\"></span></a></li>\\n                        <li class=\"aplc_item\"><a class=\"aplc_link\" href=\"#\" data-category=\"ct4\" data-clk=\"nsd_all.dit\"><span class=\"aplc_name\">IT</span><span class=\"aplc_paging\"></span></a></li>\\n                        <li class=\"aplc_item\"><a class=\"aplc_link\" href=\"#\" data-category=\"ct5\" data-clk=\"nsd_all.deng\"><span class=\"aplc_name\">영자지</span><span class=\"aplc_paging\"></span></a></li>\\n                        <li class=\"aplc_item\"><a class=\"aplc_link\" href=\"#\" data-category=\"ct6\" data-clk=\"nsd_all.dsporent\"><span class=\"aplc_name\">스포츠/연예</span><span class=\"aplc_paging\"></span></a></li>\\n                        <li class=\"aplc_item\"><a class=\"aplc_link\" href=\"#\" data-category=\"ct7\" data-clk=\"nsd_all.dmagtec\"><span class=\"aplc_name\">매거진/전문지</span><span class=\"aplc_paging\"></span></a></li>\\n                        <li class=\"aplc_item\"><a class=\"aplc_link\" href=\"#\" data-category=\"ct8\" data-clk=\"nsd_all.dloc\"><span class=\"aplc_name\">지역</span><span class=\"aplc_paging\"></span></a></li>\\n                    </ul>\\n\\t\\t\\t\\t\\t<ul class=\"aplc_list\" data-tab=\"my\" style=\"display:none;\">\\n\\t\\t\\t\\t\\t\\t<!-- nvpaperlist:empty -->\\n\\t\\t\\t\\t\\t</ul>\\n                </div>\\n                <div class=\"flick-view\">\\n                    <div class=\"flick-container\">\\n                        <div class=\"flick-panel\">\\n                            \\n\\t\\t\\t\\t\\t\\t\\t\\n                        </div>\\n                    </div>\\n                </div>\\n            </div>\\n            <div class=\"an_panel_list _PM_newsstand_info\" role=\"tabpanel\" aria-hidden=\"false\" style=\"display:none;\">\\n                <div class=\"flick-view\">\\n                    <div class=\"flick-container\">\\n                        <div class=\"flick-panel\">\\n                            <div class=\"an_nopress_view\">\\n                                <div class=\"anv_wrap\">\\n                                    <em class=\"anv_tit\">설정한 언론사가 없습니다.</em><p class=\"anv_text\">언론사 구독 설정에서 MY언론사를 추가하면</p><p class=\"anv_text\">설정한 언론사의 기사들을 네이버 홈에서 바로 보실 수 있습니다.</p>\\n                                \\t<a class=\"anv_btn\" href=\"http://newsstand.naver.com/config.html\" role=\"button\" data-clk=\"nsd_myn*a.thum\" target=\"_blank\">언론사 추가</a>\\n                            \\t</div>\\n                        \\t</div>\\n                        </div>\\n                    </div>\\n                </div>\\n            </div>\\n\\t\\t\\t<div class=\"PM_CL_newsstand_layer\">\\n\\t\\t\\t</div>\\n        </div>\\n    </div>\\n\\t<!-- //뉴스캐스트 -->\\n</div>\\n\\n\\t\\t\\t<div class=\"column_right\">\\n\\t<!-- 로그인 -->\\n\\t\\n\\t\\t\\n\\n\\n\\n\\n\\n\\t\\n\\n\\n<div id=\"account\" class=\"section_login\">\\n\\t<h2 class=\"blind\">로그인</h2>\\n\\t<div class=\"lg_local\">\\n\\t\\t<p class=\"lg_local_text\">네이버를 더 안전하고 편리하게 이용하세요.</p>\\n\\t\\t<a class=\"lg_local_btn\" href=\"https://nid.naver.com/nidlogin.login?mode=form&amp;url=https%3A%2F%2Fwww.naver.com\" role=\"button\" data-clk=\"log_off.login\">\\n\\t\\t\\t<i class=\"ico_local_login lang_ko\"><span class=\"blind\">NAVER 로그인</span></i>\\n\\t\\t</a>\\n\\t\\t<div class=\"lg_links\">\\n\\t\\t\\t<a href=\"https://nid.naver.com/nidregister.form?url=https%3A%2F%2Fwww.naver.com\" class=\"lg_link_join\" data-clk=\"log_off.registration\">회원가입</a>\\n\\t\\t\\t<span class=\"lg_link_find\"><a href=\"https://nid.naver.com/user/help.nhn?todo=idinquiry\" class=\"lg_find_text\" data-clk=\"log_off.searchid\">아이디</a>·<a href=\"https://nid.naver.com/nidreminder.form\" class=\"lg_find_text\" data-clk=\"log_off.searchpass\">비밀번호 찾기</a></span>\\n\\t\\t</div>\\n\\t</div>\\n</div>\\n\\n\\n\\t\\n\\t<!-- //로그인 -->\\n\\t<div id=\"ad_branding_hide\"></div>\\n\\t<!-- 타임스퀘어 -->\\n\\t<div class=\"_PM_timesquare_wrapper\" id=\"time_square\">\\n\\t\\t\\n<div class=\"section_timesquare _PM_timesquare_base\" data-code=\"conversation\">\\n<h2 class=\"blind\">타임스퀘어</h2>\\n<div class=\"area_header\">\\n<div class=\"header_info _PM_timesquare_info\">\\n<a href=\"https://calendar.naver.com\" data-clk=\"squ.date\" class=\"hi_date\"><span class=\"hi_dnum\">06.11.</span><span class=\"hi_day\">(화)</span></a><i class=\"hi_slash\" aria-hidden=\"true\" role=\"presentation\">|</i>\\n\\n<a href=\"#\" data-clk=\"squ_lan.set\" class=\"hi_tit _PM_timesquare_lang_type\">영어회화<i class=\"ico_btn_arrow\" aria-hidden=\"true\"></i></a>\\n</div>\\n<div class=\"header_paging _PM_timesquare_navi\">\\n</div>\\n<div class=\"header_btns\">\\n<a data-clk=\"squ.pre\" class=\"header_btn_prev _PM_timesquare_prev\" href=\"#\"><i class=\"ico_btn_prev\" aria-hidden=\"true\"></i><span class=\"blind\">앞의 목록으로 이동</span></a>\\n<a data-clk=\"squ.next\" class=\"header_btn_next _PM_timesquare_next\" href=\"#\"><i class=\"ico_btn_next\" aria-hidden=\"true\"></i><span class=\"blind\">뒤의 목록으로 이동</span></a>\\n</div>\\n</div>\\n<div class=\"area_ct\">\\n<div class=\"flick-view\">\\n<div class=\"flick-container\">\\n<div class=\"flick-panel _PM_timesquare_list\" data-code=\"conversation\">\\n<div class=\"type_conv\">\\n<a data-clk=\"squ_lan.con\" href=\"https://phrase.dict.naver.com/detail.nhn?bigCategoryNo=9&amp;middleCategoryNo=74&amp;smallCategoryNo=329&amp;targetLanguage=en\" class=\"tc_link\">\\n<div class=\"tc_content\">\\n<p class=\"tc_tt\"><em class=\"tc_accent\">심야 영화</em>로 봐요.</p>\\n<p class=\"tc_st\">Let\\'s&nbsp;see&nbsp;a&nbsp;<em class=\"tc_accent\">late-night movie</em>.</p>\\n<p class=\"tc_pronounce\">렛츠 씨 어&nbsp;<em class=\"tc_accent\">레잇 나잇 무비</em></p>\\n</div>\\n</a>\\n</div>\\n</div>\\n</div>\\n</div>\\n</div>\\n</div>\\n\\n\\t\\n\\t</div>\\n\\t<!-- //타임스퀘어 -->\\n\\n\\t<!-- 광고 -->\\n\\t<div id=\"veta_branding\">\\n\\t<iframe id=\"da_iframe_rolling\" name=\"da_iframe_rolling\" src=\"https://nv.veta.naver.com/fxshow?su=SU10078&amp;nrefreshx=0\" data-veta-preview=\"main_rolling\" title=\"광고\" width=\"332\" height=\"150\" marginheight=\"0\" marginwidth=\"0\" scrolling=\"no\" frameborder=\"0\"></iframe>\\n\\t\\t<div class=\"veta_bdt\"></div><div class=\"veta_bdr\"></div><div class=\"veta_bdb\"></div><div class=\"veta_bdl\"></div>\\n\\t</div>\\n\\t<!-- //광고 -->\\n</div>\\n\\n\\t\\t\\t<!-- EMPTY -->\\n\\t\\t\\t<div class=\"column_bottom\">\\n\\t<!-- 주제형캐스트 -->\\n\\t<div id=\"themecast\" class=\"section_themecast\">\\n\\t\\t<h2 class=\"blind\">주제형 캐스트</h2>\\n\\t\\t<div id=\"PM_ID_themecastNavi\" class=\"themecast_category\">\\n\\t\\t\\t<div class=\"area_category\">\\n\\t\\t\\t\\t<h3 class=\"blind\">관심 주제 선택</h3>\\n\\t\\t\\t\\t<div class=\"ac_scroll\" role=\"tablist\">\\n\\t\\t\\t\\t\\t<div class=\"scroll-area\" role=\"presentation\">\\n\\t\\t\\t\\t\\t\\t<!-- style=\"width:xxxxPX\" -->\\n\\t\\t\\t\\t\\t\\t<div id=\"PM_ID_themelist\" class=\"rolling-container\" role=\"presentation\" style=\"width:587;overflow:hidden;\">\\n\\t\\t\\t\\t\\t\\t\\t<ul style=\"width:2000px\">\\n\\t\\t\\t\\t\\t\\t\\t\\t<li class=\"rolling-panel\" role=\"presentation\">\\n\\t<a href=\"#LIVINGHOME\" role=\"tab\" aria-selected=\"false\" data-id=\"LIVINGHOME\" data-nclick=\"lif\" data-clk=\"tct.lif\" class=\"PM_CL_themeItem ac_a tcc_livinghome\">리빙</a>\\n</li><li class=\"rolling-panel\" role=\"presentation\">\\n\\t<a href=\"#LIVING\" role=\"tab\" aria-selected=\"false\" data-id=\"LIVING\" data-nclick=\"fod\" data-clk=\"tct.fod\" class=\"PM_CL_themeItem ac_a tcc_living\">푸드</a>\\n</li><li class=\"rolling-panel\" role=\"presentation\">\\n\\t<a href=\"#SPORTS\" role=\"tab\" aria-selected=\"false\" data-id=\"SPORTS\" data-nclick=\"spo\" data-clk=\"tct.spo\" class=\"PM_CL_themeItem ac_a tcc_sports\">스포츠</a>\\n</li><li class=\"rolling-panel\" role=\"presentation\">\\n\\t<a href=\"#CARGAME\" role=\"tab\" aria-selected=\"false\" data-id=\"CARGAME\" data-nclick=\"aut\" data-clk=\"tct.aut\" class=\"PM_CL_themeItem ac_a tcc_cargame\">자동차</a>\\n</li><li class=\"rolling-panel\" role=\"presentation\">\\n\\t<a href=\"#BEAUTY\" role=\"tab\" aria-selected=\"false\" data-id=\"BEAUTY\" data-nclick=\"bty\" data-clk=\"tct.bty\" class=\"PM_CL_themeItem ac_a tcc_beauty\">패션뷰티</a>\\n</li><li class=\"rolling-panel\" role=\"presentation\">\\n\\t<a href=\"#MOMKIDS\" role=\"tab\" aria-selected=\"true\" data-id=\"MOMKIDS\" data-nclick=\"mom\" data-clk=\"tct.mom\" class=\"PM_CL_themeItem ac_a tcc_momkids\">부모i</a>\\n</li><li class=\"rolling-panel\" role=\"presentation\">\\n\\t<a href=\"#HEALTH\" role=\"tab\" aria-selected=\"false\" data-id=\"HEALTH\" data-nclick=\"hea\" data-clk=\"tct.hea\" class=\"PM_CL_themeItem ac_a tcc_health\">건강</a>\\n</li><li class=\"rolling-panel\" role=\"presentation\">\\n\\t<a href=\"#BBOOM\" role=\"tab\" aria-selected=\"false\" data-id=\"BBOOM\" data-nclick=\"web\" data-clk=\"tct.web\" class=\"PM_CL_themeItem ac_a tcc_bboom\">웹툰</a>\\n</li><li class=\"rolling-panel\" role=\"presentation\">\\n\\t<a href=\"#GAMEAPP\" role=\"tab\" aria-selected=\"false\" data-id=\"GAMEAPP\" data-nclick=\"gam\" data-clk=\"tct.gam\" class=\"PM_CL_themeItem ac_a tcc_gameapp\">게임</a>\\n</li><li class=\"rolling-panel\" role=\"presentation\">\\n\\t<a href=\"#VIDEO\" role=\"tab\" aria-selected=\"false\" data-id=\"VIDEO\" data-nclick=\"tvc\" data-clk=\"tct.tvc\" class=\"PM_CL_themeItem ac_a tcc_video\">TV연예</a>\\n</li><li class=\"rolling-panel\" role=\"presentation\">\\n\\t<a href=\"#MUSIC\" role=\"tab\" aria-selected=\"false\" data-id=\"MUSIC\" data-nclick=\"muc\" data-clk=\"tct.muc\" class=\"PM_CL_themeItem ac_a tcc_music\">뮤직</a>\\n</li><li class=\"rolling-panel\" role=\"presentation\">\\n\\t<a href=\"#MOVIE\" role=\"tab\" aria-selected=\"false\" data-id=\"MOVIE\" data-nclick=\"mov\" data-clk=\"tct.mov\" class=\"PM_CL_themeItem ac_a tcc_movie\">영화</a>\\n</li><li class=\"rolling-panel\" role=\"presentation\">\\n\\t<a href=\"#CULTURE\" role=\"tab\" aria-selected=\"false\" data-id=\"CULTURE\" data-nclick=\"bok\" data-clk=\"tct.bok\" class=\"PM_CL_themeItem ac_a tcc_culture\">책문화</a>\\n</li><li class=\"rolling-panel\" role=\"presentation\">\\n\\t<a href=\"#WITH\" role=\"tab\" aria-selected=\"false\" data-id=\"WITH\" data-nclick=\"pub\" data-clk=\"tct.pub\" class=\"PM_CL_themeItem ac_a tcc_with\">함께N</a>\\n</li><li class=\"rolling-panel\" role=\"presentation\">\\n\\t<a href=\"#TRAVEL\" role=\"tab\" aria-selected=\"false\" data-id=\"TRAVEL\" data-nclick=\"tra\" data-clk=\"tct.tra\" class=\"PM_CL_themeItem ac_a tcc_travel\">여행+</a>\\n</li><li class=\"rolling-panel\" role=\"presentation\">\\n\\t<a href=\"#DESIGN\" role=\"tab\" aria-selected=\"false\" data-id=\"DESIGN\" data-nclick=\"des\" data-clk=\"tct.des\" class=\"PM_CL_themeItem ac_a tcc_design\">디자인</a>\\n</li><li class=\"rolling-panel\" role=\"presentation\">\\n\\t<a href=\"#FINANCE\" role=\"tab\" aria-selected=\"false\" data-id=\"FINANCE\" data-nclick=\"fin\" data-clk=\"tct.fin\" class=\"PM_CL_themeItem ac_a tcc_finance\">경제M</a>\\n</li><li class=\"rolling-panel\" role=\"presentation\">\\n\\t<a href=\"#JOB\" role=\"tab\" aria-selected=\"false\" data-id=\"JOB\" data-nclick=\"job\" data-clk=\"tct.job\" class=\"PM_CL_themeItem ac_a tcc_job\">JOB&amp;</a>\\n</li><li class=\"rolling-panel\" role=\"presentation\">\\n\\t<a href=\"#SCIENCE\" role=\"tab\" aria-selected=\"false\" data-id=\"SCIENCE\" data-nclick=\"sci\" data-clk=\"tct.sci\" class=\"PM_CL_themeItem ac_a tcc_science\">과학</a>\\n</li><li class=\"rolling-panel\" role=\"presentation\">\\n\\t<a href=\"#CHINA\" role=\"tab\" aria-selected=\"false\" data-id=\"CHINA\" data-nclick=\"chn\" data-clk=\"tct.chn\" class=\"PM_CL_themeItem ac_a tcc_china\">중국</a>\\n</li><li class=\"rolling-panel\" role=\"presentation\">\\n\\t<a href=\"#BUSINESS\" role=\"tab\" aria-selected=\"false\" data-id=\"BUSINESS\" data-nclick=\"bsn\" data-clk=\"tct.bsn\" class=\"PM_CL_themeItem ac_a tcc_business\">비즈니스</a>\\n</li><li class=\"rolling-panel\" role=\"presentation\">\\n\\t<a href=\"#FARM\" role=\"tab\" aria-selected=\"false\" data-id=\"FARM\" data-nclick=\"far\" data-clk=\"tct.far\" class=\"PM_CL_themeItem ac_a tcc_farm\">FARM</a>\\n</li><li class=\"rolling-panel\" role=\"presentation\">\\n\\t<a href=\"#SCHOOL\" role=\"tab\" aria-selected=\"false\" data-id=\"SCHOOL\" data-nclick=\"scl\" data-clk=\"tct.scl\" class=\"PM_CL_themeItem ac_a tcc_school\">스쿨잼</a>\\n</li><li class=\"rolling-panel\" role=\"presentation\">\\n\\t<a href=\"#SHOW\" role=\"tab\" aria-selected=\"false\" data-id=\"SHOW\" data-nclick=\"sow\" data-clk=\"tct.sow\" class=\"PM_CL_themeItem ac_a tcc_show\">공연전시</a>\\n</li><li class=\"rolling-panel\" role=\"presentation\">\\n\\t<a href=\"#LAW\" role=\"tab\" aria-selected=\"false\" data-id=\"LAW\" data-nclick=\"law\" data-clk=\"tct.law\" class=\"PM_CL_themeItem ac_a tcc_law\">법률</a>\\n</li><li class=\"rolling-panel\" role=\"presentation\">\\n\\t<a href=\"#ANIMAL\" role=\"tab\" aria-selected=\"false\" data-id=\"ANIMAL\" data-nclick=\"ani\" data-clk=\"tct.ani\" class=\"PM_CL_themeItem ac_a tcc_animal\">동물공감</a>\\n</li><li class=\"rolling-panel\" role=\"presentation\">\\n\\t<a href=\"#WEDDING\" role=\"tab\" aria-selected=\"false\" data-id=\"WEDDING\" data-nclick=\"wed\" data-clk=\"tct.wed\" class=\"PM_CL_themeItem ac_a tcc_wedding\">연애·결혼</a>\\n</li><li class=\"rolling-panel\" role=\"presentation\">\\n\\t<a href=\"#ITTECH\" role=\"tab\" aria-selected=\"false\" data-id=\"ITTECH\" data-nclick=\"tec\" data-clk=\"tct.tec\" class=\"PM_CL_themeItem ac_a tcc_ittech\">테크</a>\\n</li><li class=\"rolling-panel\" role=\"presentation\">\\n\\t<a href=\"#EMOTION\" role=\"tab\" aria-selected=\"false\" data-id=\"EMOTION\" data-nclick=\"emo\" data-clk=\"tct.emo\" class=\"PM_CL_themeItem ac_a tcc_emotion\">감성충전</a>\\n</li>\\n\\t\\t\\t\\t\\t\\t\\t</ul>\\n\\t\\t\\t\\t\\t\\t</div>\\n\\t\\t\\t\\t\\t</div>\\n\\t\\t\\t\\t</div>\\n\\t\\t\\t</div>\\n\\t\\t\\t<div class=\"area_catebtns\">\\n\\t\\t\\t\\t<a href=\"#\" class=\"ac_btn_prev PM_CL_btnThemePrev\" data-clk=\"tct.prev\" role=\"button\"><span class=\"blind\">이전 주제</span><span class=\"ac_bicon\"></span></a>\\n\\t\\t\\t\\t<a href=\"#\" class=\"ac_btn_next PM_CL_btnThemeNext\" data-clk=\"tct.next\" role=\"button\"><span class=\"blind\">다음 주제</span><span class=\"ac_bicon\"></span></a>\\n\\t\\t\\t\\t<a href=\"#\" class=\"ac_btn_cate PM_CL_btnThemeEdit\" data-clk=\"tct.menu\" role=\"button\"><span class=\"blind\">전체 주제 열기</span><span class=\"ac_bicon\"></span></a>\\n\\t\\t\\t\\t<div id=\"PM_ID_themeNaviLeft\" class=\"ac_bgl\" style=\"display:none\"></div>\\n\\t\\t\\t\\t<div id=\"PM_ID_themeNaviRight\" class=\"ac_bgr\" style=\"display:none\"></div>\\n\\t\\t\\t</div>\\n\\t\\t</div>\\n\\t\\t<div id=\"PM_ID_themeEdit\" class=\"area_themesetting\" aria-hidden=\"true\">\\n\\t<h3 class=\"blind\">관심 주제 설정</h3>\\n\\t<script id=\"PM_ID_themeEditItem\" type=\"text/template\">\\n\\t\\t<li class=\"at_item PM_CL_themeEditItem\" data-clk=\"tca*l.{=nclick}\">\\n\\t\\t\\t<div class=\"at_iw\" role=\"checkbox\" aria-checked=\"{if subscribed}true{/if}\" >\\n\\t\\t\\t\\t<span class=\"at_iradio\">\\n\\t\\t\\t\\t\\t<span data-id=\"{=code}\" class=\"PM_CL_themeItemCheck radio-mark{if subscribed} radio-checked{/if}\"></span>\\n\\t\\t\\t\\t\\t<input type=\"checkbox\" id=\"config_tcc_{=css}\" class=\"at_ipt\">\\n\\t\\t\\t\\t</span>\\n\\t\\t\\t\\t<label for=\"config_tcc_{=css}\">{=name}</label>\\n\\t\\t\\t</div>\\n\\t\\t</li>\\n\\t</script>\\n\\t<script id=\"PM_ID_themeSelectItem\" type=\"text/template\">\\n\\t\\t<li class=\"at_item\" role=\"presentation\" data-clk=\"tca.{=nclick}\"{if subscribed} data-nclick=\"{=nclick}\"{/if}>\\n\\t\\t\\t<a href=\"#{=code}\" data-id=\"{=code}\" role=\"tab\" aria-selected=\"{if subscribed}true{else}false{/if}\" class=\"PM_CL_themeItemSelect at_a tcc_{=css}\">\\n\\t\\t\\t\\t<span class=\"at_icon\"></span>{=name}\\n\\t\\t\\t\\t{if isNewPanel }<span class=\"at_ico_new\">NEW</span>{/if}\\n\\t\\t\\t</a>\\n\\t\\t</li>\\n\\t</script>\\n\\t<script id=\"PM_ID_themeNaviItem\" type=\"text/template\">\\n\\t\\t<li class=\"rolling-panel\" role=\"presentation\">\\n\\t\\t\\t<span href=\"#{=code}\" data-id=\"{=code}\" role=\"tab\" aria-selected=\"false\" class=\"ac_a tcc_{=css}\">{=name}</span>\\n\\t\\t</li>\\t\\n\\t</script>\\n\\t<script id=\"PM_ID_themeNaviEmptyItem\" type=\"text/template\">\\n\\t\\t<li class=\"rolling-panel{if first} ac_pointer {/if}\" role=\"presentation\">\\n\\t\\t\\t<span class=\"ac_empty\"></span>\\n\\t\\t</li>\\n\\t</script>\\n\\t<script id=\"PM_ID_themeSubscribePopup\" type=\"text/template\">\\n\\t\\t<div class=\"area_alert_confirm\" style=\"top:{=top}px;left:{=left}px\">\\n\\t\\t\\t<div class=\"aa_wrap\">\\n\\t\\t\\t\\t<p class=\"aa_txt\"><strong class=\"aa_st tcc_{=css}\">\\'{=name}\\'</strong>를 관심주제로 <br>설정하시겠습니까?</p>\\n\\t\\t\\t\\t<div class=\"aa_btns\">\\n\\t\\t\\t\\t\\t<a href=\"#\" data-id=\"{=code}\" data-nclick=\"{=nclick}\" role=\"button\" class=\"PM_CL_themeAddOk aa_btn_confirm\" data-clk=\"tca.likeok\">확인</a>\\n\\t\\t\\t\\t\\t<a href=\"#\" role=\"button\" class=\"PM_CL_themeAddCancel aa_btn_cancel\" data-clk=\"tca.likecancel\">취소</a>\\n\\t\\t\\t\\t</div>\\n\\t\\t\\t</div>\\n\\t\\t</div>\\n\\t</script>\\n\\t<script id=\"PM_ID_themeImportPopup\" type=\"text/template\">\\n\\t\\t<div class=\"area_alert_confirm\">\\n\\t\\t\\t<div class=\"aa_wrap\">\\n\\t\\t\\t<p class=\"aa_txt\"><strong class=\"aa_st\">모바일에서 설정한 주제</strong>를 <br>가져오시겠습니까?</p>\\n\\t\\t\\t<div class=\"aa_btns\">\\n\\t\\t\\t\\t<a href=\"#\" role=\"button\" class=\"PM_CL_themeImportOk aa_btn_confirm\" data-clk=\"tca.mobileok\">확인</a>\\n\\t\\t\\t\\t<a href=\"#\" role=\"button\" class=\"PM_CL_themeImportCancel aa_btn_cancel\" data-clk=\"tca.mobilecancel\">취소</a>\\n\\t\\t\\t\\t</div>\\n\\t\\t\\t</div>\\n\\t\\t</div>\\t\\n\\t</script>\\n\\t<ul id=\"PM_ID_themeEditItemList\" class=\"at_all\" role=\"tablist\">\\n\\t</ul>\\n\\t<a href=\"#\" class=\"at_btn_close PM_CL_btnThemeEdit\" role=\"button\" data-clk=\"tca.close\"><span class=\"blind\">전체 주제 목록 닫기</span><span class=\"at_bicon\"></span></a>\\n\\t<div id=\"PM_ID_btnBoxShortcut\" class=\"at_btns\">\\n\\t\\t<a href=\"#\" class=\"at_btn_setting PM_CL_btnThemeEditShow\" role=\"button\" data-clk=\"tca.like\"><span class=\"at_bicon\"></span>관심주제 설정</a>\\n\\t\\t<span class=\"at_bar\"></span>\\n<a href=\"#\" data-login-url=\"https://nid.naver.com/nidlogin.login?url=http%3A%2F%2Fwww.naver.com\" class=\"at_btn_import PM_CL_btnThemeImport\" role=\"button\" data-clk=\"tca.mobile\"><span class=\"at_bicon\"></span>모바일 관심 주제 가져오기</a>\\n\\n<span class=\"at_import_login PM_CL_importMessage2\" style=\"display:none\">\\n\\t<span href=\"https://nid.naver.com/nidlogin.login?url=http%3A%2F%2Fwww.naver.com\" class=\"at_lt\" data-clk=\"tca.tip\">\\n\\t\\t<strong class=\"at_ls\">로그인</strong>후 사용 가능합니다\\n\\t</span>\\n</span>\\n\\n\\n\\t</div>\\t\\n\\t<div id=\"PM_ID_btnBoxEdit\" v=\"\" class=\"at_btns\" style=\"display:none\">\\n\\t\\t<a href=\"#\" class=\"at_btn_cancel PM_CL_btnThemeEditCancel\" role=\"button\" data-clk=\"tca*l.cancel\">취소</a>\\n\\t\\t<a href=\"#\" class=\"at_btn_confirm PM_CL_btnThemeEditOk\" role=\"button\" data-clk=\"tca*l.ok\">확인</a>\\n\\t\\t<a href=\"#\" class=\"at_btn_reset PM_CL_btnThemeEditInit\" role=\"button\" data-clk=\"tca*l.reset\"><span class=\"at_bicon\"></span>초기화</a>\\n\\t\\t<a href=\"#\" class=\"at_btn_all PM_CL_btnThemeSelectAll\" role=\"button\" data-clk=\"\">전체선택</a>\\t\\t\\n\\t\\t<span class=\"at_bar\"></span>\\n<a href=\"#\" data-login-url=\"https://nid.naver.com/nidlogin.login?url=http%3A%2F%2Fwww.naver.com\" class=\"at_btn_import PM_CL_btnThemeImport\" role=\"button\" data-clk=\"tca.mobile\"><span class=\"at_bicon\"></span>모바일 관심 주제 가져오기</a>\\n\\n<span class=\"at_import_login PM_CL_importMessage2\" style=\"display:none\">\\n\\t<span href=\"https://nid.naver.com/nidlogin.login?url=http%3A%2F%2Fwww.naver.com\" class=\"at_lt\" data-clk=\"tca.tip\">\\n\\t\\t<strong class=\"at_ls\">로그인</strong>후 사용 가능합니다\\n\\t</span>\\n</span>\\n\\n\\n\\t</div>\\n</div>\\n\\n\\t\\t<div id=\"PM_ID_themecastBody\" class=\"themecast_flick\">\\n\\t\\t\\t<div class=\"flick-container\">\\n\\t\\t\\t\\t<div class=\"flick-panel\">\\n\\t\\t\\t\\t\\t<div class=\"area_themecast id_momkids\">\\n\\n<!--EMPTY-->\\n<ul class=\"themecast_list\">\\n<li class=\"tl_title\" data-seq=\"261\">\\n<div class=\"tt_mw\">\\n<img src=\"https://s.pstatic.net/static/www/mobile/edit/2017/0608/mobile_171852583382.png\" width=\"166\" height=\"185\" alt=\"\" class=\"tt_m\">\\n</div>\\n<h3 class=\"tt_tit\">부모i</h3>\\n<div class=\"tt_bar\"></div>\\n<ul class=\"tt_links\">\\n<li class=\"tt_litem\"><a href=\"https://search.naver.com/search.naver?where=m&amp;sm=top_scc&amp;query=%EC%9E%84%EC%8B%A03%EA%B0%9C%EC%9B%94%EC%A6%9D%EC%83%81&amp;ie=utf8\" class=\"tt_la\" data-clk=\"tcc_mom.link\" data-gdid=\"UAT_1293588\">임신 10개월</a></li>\\n<li class=\"tt_litem\"><a href=\"http://search.naver.com/search.naver?sm=tab_hty.top&amp;where=nexearch&amp;query=4%EC%84%B8+%EC%95%84%EC%9D%B4+%EB%B0%9C%EB%8B%AC&amp;oquery=4%EC%84%B8+%EC%95%84%EC%9D%B4+%EB%B0%9C%EB%8B%AC&amp;tqi=TzbqJdpVuE4sssoIjmRssssssCl-004579\" class=\"tt_la\" data-clk=\"tcc_mom.link\" data-gdid=\"UAT_1293589\">연령별 발달</a></li>\\n<li class=\"tt_litem\"><a href=\"http://tv.naver.com/momkids\" class=\"tt_la\" data-clk=\"tcc_mom.link\" data-gdid=\"UAT_1293590\">네이버 TV</a></li>\\n<li class=\"tt_litem\"><a href=\"http://post.naver.com/subject/list.nhn?navigationType=current&amp;categoryNo=33&amp;orderType=RECOMMEND&amp;subjectType=CATEGORY&amp;mainMenu=MOMKIDS\" class=\"tt_la\" data-clk=\"tcc_mom.link\" data-gdid=\"UAT_1293591\">육아 포스트</a></li>\\n<li class=\"tt_litem\"><a href=\"https://audioclip.naver.com/categories/6/channels\" class=\"tt_la\" data-clk=\"tcc_mom.link\" data-gdid=\"UAT_1293592\">육아 오디오클립</a></li>\\n<li class=\"tt_litem\"><a href=\"http://shoppingw.naver.com/kids/home\" class=\"tt_la\" data-clk=\"tcc_mom.link\" data-gdid=\"UAT_1293593\">키즈 윈도</a></li>\\n</ul>\\n</li><li class=\"tl_bigimage\" data-seq=\"318946\">\\n<a href=\"https://grafolio.com/works/886577\" class=\"tb_a\" data-clk=\"tcc_mom.two\" data-gdid=\"UAT_4239570\">\\n<div class=\"tb_mw\">\\n<img src=\"https://s.pstatic.net/static/www/mobile/edit/2019/0610/mobile_143346369783.jpg\" width=\"346\" height=\"185\" alt=\"\" class=\"tb_m\">\\n<span class=\"tb_bd\"></span>\\n</div>\\n<div class=\"tb_ow\">\\n<span class=\"tb_bg\"></span>\\n<span class=\"tb_tw\">\\n<span class=\"tb_d\">이수종</span>\\n<span class=\"tb_t\">기념사진｜한컷공감</span>\\n</span>\\n<span class=\"tb_align\"></span>\\n</div>\\n</a>\\n</li><li class=\"tl_bundle\" data-seq=\"318958\" data-title=\"인기 부모i ① 친구들이 말을 안 해준 육아의 민낯\" data-expsstartymdt=\"2019-06-11 05:00\" data-expsendymdt=\"2019-06-13 04:59\" data-fixedseq=\"81876\" data-fixedexpsstartymdt=\"2019-06-11 05:00\" data-fixedexpsendymdt=\"2019-06-12 04:59\">\\n<ul class=\"tb_l\">\\n<li class=\"tb_text\">\\n<a href=\"https://blog.naver.com/plus_99/221529783338\" class=\"tbt_a\" data-clk=\"tcc_mom.list\" data-gdid=\"UAT_4239743\">인기 부모i ① 친구들이 말을 안 해준 육아의 민낯</a>\\n</li>\\n<li class=\"tb_text\">\\n<a href=\"https://blog.naver.com/ddiamosho/221498982197\" class=\"tbt_a\" data-clk=\"tcc_mom.list\" data-gdid=\"UAT_4239744\">② 꾹 참아온 눈물이 수도꼭지처럼 터진 날</a>\\n</li>\\n<li class=\"tb_text\">\\n<a href=\"https://blog.naver.com/grimeda/221510109588\" class=\"tbt_a\" data-clk=\"tcc_mom.list\" data-gdid=\"UAT_4239745\">③ 이제서야 이해돼요, 크는 게 아쉬울 거란 말</a>\\n</li>\\n</ul>\\n</li><li class=\"tl_default\" id=\"p_main_momkids_00\" data-veta-preview=\"p_main_momkids_00\"><a href=\"https://nv.veta.naver.com/fxclick?eu=EU10019954&amp;calp=-&amp;oj=WoyLGncKe57HQd86aJeLwi8DebIgLRtqeYF%2FmjcnuGeXOat4BmC5m4utYexg5qV2ak8U1Qq8SSAS%2BUoPLQdpT6W5V7N9Y1X0Wwr7MSSa4YA&amp;ac=7865741&amp;src=3890499&amp;br=2920691&amp;evtcd=P901&amp;x_ti=943&amp;tb=MOMKIDS_1&amp;oid=&amp;sid1=&amp;sid2=&amp;rk=cb1cf1cbba3fc4b89279f55187502b08&amp;eltts=Rph1G7YkcYAKLuTMsv%2BvbQ%3D%3D&amp;lu=&amp;brs=Y&amp;\" class=\"td_a\">\\n\\t<span class=\"td_mw\">\\n\\t\\t<img src=\"https://ssl.pstatic.net/tveta/libs/1241/1241025/38d6ff55c7b5ceab5565_20190611170757189.jpg\" width=\"166\" height=\"108\" alt=\"몸이 굳어져가는 쌍둥이 형제\" class=\"td_m\">\\n\\t\\t<span class=\"td_bd\"></span>\\n\\t</span>\\n\\t<span class=\"td_tw\">\\n\\t\\t<span class=\"td_t\">몸이 굳어져가는 쌍둥이 형제</span>\\n\\t</span>\\n</a>\\n<span class=\"td_ad\">AD</span>\\n<span class=\"td_ow\">\\n\\t<span class=\"td_o\">밀알복지재단</span>\\n</span>\\n<script id=\"p_main_momkids_00_script\" type=\"text/template\">\\n(function() {\\n\\tvar naver_corp_da = window.naver_corp_da || {};\\n\\tvar da_dom_id = \\'p_main_momkids_00\\'\\n\\tvar uId = (da_dom_id.length > 0) ? da_dom_id : (typeof nbp_ad !== \\'undefined\\') ? nbp_ad.mobilenetwork.ad_div_id : \\'adw_da\\';\\n\\tvar tarEl = NBP_CORP.$(uId);\\n\\t\\n\\tvar util = naver_corp_da.Util ? new naver_corp_da.Util() : new NBP_CORP.Nimp();\\n\\n\\tif(tarEl) {\\n\\t\\t/* ActiveView */\\n\\t\\tvar ac_end_date = \"20190616235959\";\\n\\t\\tvar ad_end_date = \"20190616235959\";\\n\\n\\t\\tvar scroll_target = (typeof da_scroll_target !== \\'undefined\\') ? da_scroll_target.targetEl : window;\\n\\t\\tvar orientation_change_time = 500;\\n\\n\\t\\tvar callback = function () {\\n\\t\\t\\tvar url = \"https://nv.veta.naver.com/fxview?eu=EU10019954&calp=-&oj=WoyLGncKe57HQd86aJeLwi8DebIgLRtqeYF%2FmjcnuGeXOat4BmC5m4utYexg5qV2ak8U1Qq8SSAS%2BUoPLQdpT6W5V7N9Y1X0Wwr7MSSa4YA&ac=7865741&src=3890499&evtcd=V900&x_ti=943&tb=MOMKIDS_1&oid=&sid1=&sid2=&rk=cb1cf1cbba3fc4b89279f55187502b08&eltts=Rph1G7YkcYAKLuTMsv%2BvbQ%3D%3D&brs=Y&&eid=V900&x_ev=\";\\n\\t\\t\\tvar x_ev = \\'\\';\\n\\t\\t\\ttry {\\n\\t\\t\\t\\tvar target = NBP_CORP.$(uId);\\n\\t\\t\\t\\tx_ev = (target) ? ((parseInt(target.getBoundingClientRect().height || target.offsetHeight, 10) === 0) ? \\'000\\' : \\'111\\') : \\'000\\';\\n\\t\\t\\t} catch(e) {\\n\\t\\t\\t\\tx_ev = \\'000\\';\\n\\t\\t\\t} finally {\\n\\t\\t\\t\\turl += x_ev;\\n\\t\\t\\t\\tutil.log(url);\\n\\t\\t\\t}\\n\\t\\t};\\n\\n\\t\\tvar callbackForInValid = function () {};\\n\\n\\t\\tnaver_corp_da.activeViews[uId] = naver_corp_da.activeViews[uId] || null;\\n\\n\\t\\tif(naver_corp_da.activeViews[uId]){\\n\\t\\t\\tnaver_corp_da.activeViews[uId].clearActiveView();\\n\\t\\t\\tnaver_corp_da.activeViews[uId] = null;\\n\\t\\t} \\n\\n\\t\\tnaver_corp_da.activeViews[uId] = new naver_corp_da.ActiveView({\\n\\t\\t\\tadDivId : uId,\\n\\t\\t\\tacEndDate : ac_end_date,\\n\\t\\t\\tadEndDate : ad_end_date,\\n\\t\\t\\tscrollTarget : scroll_target,\\n\\t\\t\\tactiveViewTime : 1000,\\n\\t\\t\\tactiveViewPercentage : 0.5,\\n\\t\\t\\torientationChangeTime : orientation_change_time,\\n\\t\\t\\tcallback : callback,\\n\\t\\t\\tcallbackForInValid : callbackForInValid\\n\\t\\t});\\n\\n\\t\\tnaver_corp_da.activeViews[uId].checkActiveView();\\n\\t}\\n})();\\n</script></li><li class=\"tl_default\" data-seq=\"318970\" data-title=\"힘들어하는 자녀 위해 부모가 할 수 있는 것\" data-expsstartymdt=\"2019-06-11 05:00\" data-expsendymdt=\"2019-06-13 04:59\" data-fixedseq=\"81878\" data-fixedexpsstartymdt=\"2019-06-11 05:00\" data-fixedexpsendymdt=\"2019-06-12 04:59\">\\n<a href=\"https://audioclip.naver.com/channels/596/clips/35\" class=\"td_a\" data-clk=\"tcc_mom.contents\" data-gdid=\"UAT_4239788\">\\n<span class=\"td_mw\">\\n<img src=\"https://s.pstatic.net/static/www/mobile/edit/2019/0610/cropImg_166x108_2086275869785762.jpeg\" width=\"166\" height=\"108\" alt=\"\" class=\"td_m\">\\n<span class=\"td_bd\"></span>\\n<span class=\"td_ico_video\"><span class=\"blind\">ë\\x8f\\x99ì\\x98\\x81ì\\x83\\x81</span><span class=\"td_bg\"></span><span class=\"td_icon\"></span></span>\\n</span>\\n<span class=\"td_tw\">\\n<span class=\"td_t\">힘들어하는 자녀 위해 부모가 할 수 있는 것</span>\\n</span>\\n</a>\\n<span class=\"td_ow\">\\n<span class=\"td_o\">NEW 오늘의 육아</span>\\n<span class=\"td_bar\"></span>\\n<span class=\"td_o\">윤홍균의..</span>\\n</span>\\n</li>\\n<li class=\"tl_default\" data-seq=\"318972\" data-title=\"이보연 아동발달, 우리 아이 낯가림 극복기\" data-expsstartymdt=\"2019-06-11 05:00\" data-expsendymdt=\"2019-06-13 04:59\" data-fixedseq=\"81879\" data-fixedexpsstartymdt=\"2019-06-11 05:00\" data-fixedexpsendymdt=\"2019-06-12 04:59\">\\n<a href=\"https://blog.naver.com/borisane/221555815351\" class=\"td_a\" data-clk=\"tcc_mom.contents\" data-gdid=\"UAT_4239792\">\\n<span class=\"td_mw\">\\n<img src=\"https://s.pstatic.net/static/www/mobile/edit/2019/0610/cropImg_166x108_2086339010141840.jpeg\" width=\"166\" height=\"108\" alt=\"\" class=\"td_m\">\\n<span class=\"td_bd\"></span>\\n</span>\\n<span class=\"td_tw\">\\n<span class=\"td_t\">이보연 아동발달, 우리 아이 낯가림 극복기</span>\\n</span>\\n</a>\\n<span class=\"td_ow\">\\n<span class=\"td_o\">NEW 오늘의 육아</span>\\n<span class=\"td_bar\"></span>\\n<span class=\"td_o\">이보연</span>\\n</span>\\n</li>\\n<li class=\"tl_default\" data-seq=\"318973\" data-title=\"\\'김영훈 두뇌교육\\' 4세, 실전 그림책 고르는 법\" data-expsstartymdt=\"2019-06-11 05:00\" data-expsendymdt=\"2019-06-13 04:59\" data-fixedseq=\"81880\" data-fixedexpsstartymdt=\"2019-06-11 05:00\" data-fixedexpsendymdt=\"2019-06-12 04:59\">\\n<a href=\"https://post.naver.com/viewer/postView.nhn?volumeNo=20064646&amp;memberNo=16265963\" class=\"td_a\" data-clk=\"tcc_mom.contents\" data-gdid=\"UAT_4239799\">\\n<span class=\"td_mw\">\\n<img src=\"https://s.pstatic.net/static/www/mobile/edit/2019/0610/cropImg_166x108_2086406013292804.jpeg\" width=\"166\" height=\"108\" alt=\"\" class=\"td_m\">\\n<span class=\"td_bd\"></span>\\n</span>\\n<span class=\"td_tw\">\\n<span class=\"td_t\">\\'김영훈 두뇌교육\\' 4세, 실전 그림책 고르는 법</span>\\n</span>\\n</a>\\n<span class=\"td_ow\">\\n<span class=\"td_o\">NEW 오늘의 육아</span>\\n<span class=\"td_bar\"></span>\\n<span class=\"td_o\">김영훈아..</span>\\n</span>\\n</li>\\n<li class=\"tl_default\" data-seq=\"318974\" data-title=\"왜! 또! 뭐가 문젠데!? 나를 미치게 하는 네 살\" data-expsstartymdt=\"2019-06-11 05:00\" data-expsendymdt=\"2019-06-13 04:59\" data-fixedseq=\"81881\" data-fixedexpsstartymdt=\"2019-06-11 05:00\" data-fixedexpsendymdt=\"2019-06-12 04:59\">\\n<a href=\"https://blog.naver.com/withapril16/221550149795\" class=\"td_a\" data-clk=\"tcc_mom.contents\" data-gdid=\"UAT_4239810\">\\n<span class=\"td_mw\">\\n<img src=\"https://s.pstatic.net/static/www/m/guide/dummy_1X1.jpg\" data-src=\"https://s.pstatic.net/static/www/mobile/edit/2019/0610/cropImg_166x108_2086477166792393.jpeg\" width=\"166\" height=\"108\" alt=\"\" class=\"td_m\">\\n<span class=\"td_bd\"></span>\\n</span>\\n<span class=\"td_tw\">\\n<span class=\"td_t\">왜! 또! 뭐가 문젠데!? 나를 미치게 하는 네 살</span>\\n</span>\\n</a>\\n<span class=\"td_ow\">\\n<span class=\"td_o\">엄마 아빠 리얼 일기</span>\\n<span class=\"td_bar\"></span>\\n<span class=\"td_o\">루니맘</span>\\n</span>\\n</li>\\n<li class=\"tl_default\" data-seq=\"318977\" data-title=\"아이를 혼내다 눈물이.. 아이에게 배운 공감과 배려\" data-expsstartymdt=\"2019-06-11 05:00\" data-expsendymdt=\"2019-06-13 04:59\" data-fixedseq=\"81882\" data-fixedexpsstartymdt=\"2019-06-11 05:00\" data-fixedexpsendymdt=\"2019-06-12 04:59\">\\n<a href=\"https://post.naver.com/viewer/postView.nhn?volumeNo=20895921&amp;memberNo=8640733\" class=\"td_a\" data-clk=\"tcc_mom.contents\" data-gdid=\"UAT_4239813\">\\n<span class=\"td_mw\">\\n<img src=\"https://s.pstatic.net/static/www/m/guide/dummy_1X1.jpg\" data-src=\"https://s.pstatic.net/static/www/mobile/edit/2019/0610/cropImg_166x108_2086538509899639.jpeg\" width=\"166\" height=\"108\" alt=\"\" class=\"td_m\">\\n<span class=\"td_bd\"></span>\\n</span>\\n<span class=\"td_tw\">\\n<span class=\"td_t\">아이를 혼내다 눈물이.. 아이에게 배운 공감과 배려</span>\\n</span>\\n</a>\\n<span class=\"td_ow\">\\n<span class=\"td_o\">엄마 아빠 리얼 일기</span>\\n<span class=\"td_bar\"></span>\\n<span class=\"td_o\">보통..</span>\\n</span>\\n</li>\\n<li class=\"tl_default\" data-seq=\"318979\" data-title=\"18년 차 리포터의 여행으로 육아하기\" data-expsstartymdt=\"2019-06-11 05:00\" data-expsendymdt=\"2019-06-13 04:59\" data-fixedseq=\"81883\" data-fixedexpsstartymdt=\"2019-06-11 05:00\" data-fixedexpsendymdt=\"2019-06-12 04:59\">\\n<a href=\"https://audioclip.naver.com/channels/815/clips/16\" class=\"td_a\" data-clk=\"tcc_mom.contents\" data-gdid=\"UAT_4239815\">\\n<span class=\"td_mw\">\\n<img src=\"https://s.pstatic.net/static/www/m/guide/dummy_1X1.jpg\" data-src=\"https://s.pstatic.net/static/www/mobile/edit/2019/0610/mobile_150112725997.jpg\" width=\"166\" height=\"108\" alt=\"\" class=\"td_m\">\\n<span class=\"td_bd\"></span>\\n<span class=\"td_ico_video\"><span class=\"blind\">ë\\x8f\\x99ì\\x98\\x81ì\\x83\\x81</span><span class=\"td_bg\"></span><span class=\"td_icon\"></span></span>\\n</span>\\n<span class=\"td_tw\">\\n<span class=\"td_t\">18년 차 리포터의 여행으로 육아하기</span>\\n</span>\\n</a>\\n<span class=\"td_ow\">\\n<span class=\"td_o\">오디오클립</span>\\n<span class=\"td_bar\"></span>\\n<span class=\"td_o\">김정근의 육아..</span>\\n</span>\\n</li>\\n<li class=\"tl_default\" data-seq=\"318982\" data-title=\"훈육이 뭐냐고? 딱 두 가지만 기억하세요\" data-expsstartymdt=\"2019-06-11 05:00\" data-expsendymdt=\"2019-06-13 04:59\" data-fixedseq=\"81884\" data-fixedexpsstartymdt=\"2019-06-11 05:00\" data-fixedexpsendymdt=\"2019-06-12 04:59\">\\n<a href=\"https://audioclip.naver.com/channels/730/clips/39\" class=\"td_a\" data-clk=\"tcc_mom.contents\" data-gdid=\"UAT_4239871\">\\n<span class=\"td_mw\">\\n<img src=\"https://s.pstatic.net/static/www/m/guide/dummy_1X1.jpg\" data-src=\"https://s.pstatic.net/static/www/mobile/edit/2019/0603/mobile_183023613772.jpg\" width=\"166\" height=\"108\" alt=\"\" class=\"td_m\">\\n<span class=\"td_bd\"></span>\\n<span class=\"td_ico_video\"><span class=\"blind\">ë\\x8f\\x99ì\\x98\\x81ì\\x83\\x81</span><span class=\"td_bg\"></span><span class=\"td_icon\"></span></span>\\n</span>\\n<span class=\"td_tw\">\\n<span class=\"td_t\">훈육이 뭐냐고? 딱 두 가지만 기억하세요</span>\\n</span>\\n</a>\\n<span class=\"td_ow\">\\n<span class=\"td_o\">오디오클립</span>\\n<span class=\"td_bar\"></span>\\n<span class=\"td_o\">자람패밀리 부..</span>\\n</span>\\n</li>\\n<li class=\"tl_default\" data-seq=\"318984\" data-title=\"친화력이 좋은 아이로, 사회성 발달의 핵심은 \\'이것\\'!\" data-expsstartymdt=\"2019-06-11 05:00\" data-expsendymdt=\"2019-06-13 04:59\" data-fixedseq=\"81885\" data-fixedexpsstartymdt=\"2019-06-11 05:00\" data-fixedexpsendymdt=\"2019-06-12 04:59\">\\n<a href=\"https://post.naver.com/viewer/postView.nhn?volumeNo=20358844&amp;memberNo=22346125\" class=\"td_a\" data-clk=\"tcc_mom.contents\" data-gdid=\"UAT_4239947\">\\n<span class=\"td_mw\">\\n<img src=\"https://s.pstatic.net/static/www/m/guide/dummy_1X1.jpg\" data-src=\"https://s.pstatic.net/static/www/mobile/edit/2019/0610/cropImg_166x108_2087002455879556.jpeg\" width=\"166\" height=\"108\" alt=\"\" class=\"td_m\">\\n<span class=\"td_bd\"></span>\\n<span class=\"td_tag\"><span class=\"td_tagtxt\">2세</span><span class=\"td_bg\"></span></span>\\n</span>\\n<span class=\"td_tw\">\\n<span class=\"td_t\">친화력이 좋은 아이로, 사회성 발달의 핵심은 \\'이것\\'!</span>\\n</span>\\n</a>\\n<span class=\"td_ow\">\\n<span class=\"td_o\">연령별 육아 정보</span>\\n<span class=\"td_bar\"></span>\\n<span class=\"td_o\">리드맘</span>\\n</span>\\n</li>\\n<li class=\"tl_default\" data-seq=\"318985\" data-title=\"내 아이와 싸움 그치기 위한 환경 재구성하는 방법\" data-expsstartymdt=\"2019-06-11 05:00\" data-expsendymdt=\"2019-06-13 04:59\" data-fixedseq=\"81886\" data-fixedexpsstartymdt=\"2019-06-11 05:00\" data-fixedexpsendymdt=\"2019-06-12 04:59\">\\n<a href=\"https://post.naver.com/viewer/postView.nhn?volumeNo=20162480&amp;memberNo=22718804\" class=\"td_a\" data-clk=\"tcc_mom.contents\" data-gdid=\"UAT_4239970\">\\n<span class=\"td_mw\">\\n<img src=\"https://s.pstatic.net/static/www/m/guide/dummy_1X1.jpg\" data-src=\"https://s.pstatic.net/static/www/mobile/edit/2019/0610/cropImg_166x108_2087058293258280.jpeg\" width=\"166\" height=\"108\" alt=\"\" class=\"td_m\">\\n<span class=\"td_bd\"></span>\\n<span class=\"td_tag\"><span class=\"td_tagtxt\">6세</span><span class=\"td_bg\"></span></span>\\n</span>\\n<span class=\"td_tw\">\\n<span class=\"td_t\">내 아이와 싸움 그치기 위한 환경 재구성하는 방법</span>\\n</span>\\n</a>\\n<span class=\"td_ow\">\\n<span class=\"td_o\">연령별 육아 정보</span>\\n<span class=\"td_bar\"></span>\\n<span class=\"td_o\">베이비뉴스</span>\\n</span>\\n</li>\\n<li class=\"tl_default\" data-seq=\"318989\" data-title=\"영유아·어린이 맞춤, 체험하며 배우는 체험형 전시 4\" data-expsstartymdt=\"2019-06-11 05:00\" data-expsendymdt=\"2019-06-13 04:59\" data-fixedseq=\"81887\" data-fixedexpsstartymdt=\"2019-06-11 05:00\" data-fixedexpsendymdt=\"2019-06-12 04:59\">\\n<a href=\"https://blog.naver.com/momsmap/221538722123\" class=\"td_a\" data-clk=\"tcc_mom.contents\" data-gdid=\"UAT_4240021\">\\n<span class=\"td_mw\">\\n<img src=\"https://s.pstatic.net/static/www/m/guide/dummy_1X1.jpg\" data-src=\"https://s.pstatic.net/static/www/mobile/edit/2019/0610/cropImg_166x108_2087136883849871.png\" width=\"166\" height=\"108\" alt=\"\" class=\"td_m\">\\n<span class=\"td_bd\"></span>\\n<span class=\"td_tag\"><span class=\"td_tagtxt\">4세</span><span class=\"td_bg\"></span></span>\\n</span>\\n<span class=\"td_tw\">\\n<span class=\"td_t\">영유아·어린이 맞춤, 체험하며 배우는 체험형 전시 4</span>\\n</span>\\n</a>\\n<span class=\"td_ow\">\\n<span class=\"td_o\">연령별 육아 정보</span>\\n<span class=\"td_bar\"></span>\\n<span class=\"td_o\">엄마의지도</span>\\n</span>\\n</li>\\n<li class=\"tl_default\" data-seq=\"318990\" data-title=\"\\'초등 경제 교육\\' 용돈 교육 프로젝트, 경제관념 키우기\" data-expsstartymdt=\"2019-06-11 05:00\" data-expsendymdt=\"2019-06-13 04:59\" data-fixedseq=\"81888\" data-fixedexpsstartymdt=\"2019-06-11 05:00\" data-fixedexpsendymdt=\"2019-06-12 04:59\">\\n<a href=\"https://blog.naver.com/raon2029/221554588408\" class=\"td_a\" data-clk=\"tcc_mom.contents\" data-gdid=\"UAT_4240047\">\\n<span class=\"td_mw\">\\n<img src=\"https://s.pstatic.net/static/www/m/guide/dummy_1X1.jpg\" data-src=\"https://s.pstatic.net/static/www/mobile/edit/2019/0610/cropImg_166x108_2087205624901827.jpeg\" width=\"166\" height=\"108\" alt=\"\" class=\"td_m\">\\n<span class=\"td_bd\"></span>\\n<span class=\"td_tag\"><span class=\"td_tagtxt\">초등저</span><span class=\"td_bg\"></span></span>\\n</span>\\n<span class=\"td_tw\">\\n<span class=\"td_t\">\\'초등 경제 교육\\' 용돈 교육 프로젝트, 경제관념 키우기</span>\\n</span>\\n</a>\\n<span class=\"td_ow\">\\n<span class=\"td_o\">연령별 육아 정보</span>\\n<span class=\"td_bar\"></span>\\n<span class=\"td_o\">선생 조..</span>\\n</span>\\n</li>\\n</ul>\\n</div>\\n\\t\\t\\t\\t</div>\\n\\t\\t\\t</div>\\n\\t\\t</div>\\n\\t</div>\\n\\t<!-- //주제형캐스트 -->\\n\\t<div id=\"shp_cst\" class=\"section_shoppingcast\">\\n\\t\\t<iframe src=\"https://castbox.shopping.naver.com/shopbox/main.nhn?\" id=\"cnsv_shbx\" title=\"쇼핑캐스트\" marginheight=\"0\" marginwidth=\"0\" scrolling=\"no\" frameborder=\"0\" width=\"330\" height=\"882\">쇼핑캐스트 : <a href=\"https://castbox.shopping.naver.com/shopbox/main.nhn?\">https://castbox.shopping.naver.com/shopbox/main.nhn?</a></iframe>\\n\\t</div>\\n</div>\\n\\n<div class=\"column_banner\">\\n\\t<div class=\"section_btmbn\">\\n\\t\\t<ul class=\"btmbanner_list\">\\n\\t\\t\\t\\n<li class=\"bl_item\">\\n<a data-clk=\"mcb.left\" href=\"http://phishing-keeper.fss.or.kr\" class=\"bl_a\" target=\"_blank\">\\n<div class=\"bl_mw\">\\n<img src=\"https://s.pstatic.net/static/www/mobile/edit/2019/0604/mobile_093729598116.jpg\" width=\"166\" height=\"88\" alt=\"보이스피싱 경보 매일 10억이 사라진다 의심하고! 전화끊고! 확인하고!\" title=\"보이스피싱 경보 매일 10억이 사라진다 의심하고! 전화끊고! 확인하고!\" class=\"bl_m\">\\n<span class=\"bl_bd\"></span>\\n</div>\\n<div class=\"bl_tw\">\\n<span class=\"bl_s\">보이스피싱 경보</span>\\n<strong class=\"bl_t\">매일 10억이 사라진다</strong>\\n<span class=\"bl_d\">의심하고! 전화끊고!<br>확인하고!</span>\\n</div>\\n</a>\\n</li>\\n\\n\\t\\t\\t\\n<li class=\"bl_item\">\\n<a data-clk=\"mcb.right\" href=\"http://fcidogshow.org/\" class=\"bl_a\" target=\"_blank\">\\n<div class=\"bl_mw\">\\n<img src=\"https://s.pstatic.net/static/www/mobile/edit/2019/0514/mobile_093602562597.png\" width=\"166\" height=\"88\" alt=\"2019펫페스티벌 댕댕이와 함께 오게! 반려동물 볼거리로 가득찬 펫 박람회에 놀러 오세요!\" title=\"2019펫페스티벌 댕댕이와 함께 오게! 반려동물 볼거리로 가득찬 펫 박람회에 놀러 오세요!\" class=\"bl_m\">\\n<span class=\"bl_bd\"></span>\\n</div>\\n<div class=\"bl_tw\">\\n<span class=\"bl_s\">2019펫페스티벌</span>\\n<strong class=\"bl_t\">댕댕이와 함께 오게!</strong>\\n<span class=\"bl_d\">반려동물 볼거리로 가득찬<br>펫 박람회에 놀러 오세요!</span>\\n</div>\\n</a>\\n</li>\\n\\t\\t</ul>\\n\\t</div>\\n\\n\\t<div class=\"section_rbn\">\\n\\n\\t\\t<!-- 광고 -->\\n\\t\\t<div id=\"veta_time2\">\\n\\t\\t\\t<iframe id=\"da_iframe_below\" name=\"da_iframe_below\" src=\"https://nv.veta.naver.com/fxshow?su=SU10082&amp;nrefreshx=0\" data-veta-preview=\"main_below\" width=\"332\" height=\"130\" marginheight=\"0\" marginwidth=\"0\" scrolling=\"no\" frameborder=\"0\" align=\"center\" title=\"광고\"></iframe>\\n\\t\\t\\t<div class=\"veta_bdt\"></div><div class=\"veta_bdr\"></div><div class=\"veta_bdb\"></div><div class=\"veta_bdl\"></div>\\n\\t\\t</div>\\n\\t\\t<!-- //광고 -->\\n\\n\\t</div>\\n</div>\\n\\n\\t\\t</div>\\n\\t\\t<div class=\"section_footer\" role=\"contentinfo\">\\n\\t<div class=\"notice\">\\n\\t\\t<div class=\"area_notice\">\\n\\t\\t\\t<h3 class=\"an_tit\"><a href=\"//www.naver.com/NOTICE\" class=\"an_ta\" data-clk=\"ntc.notice\">공지사항</a></h3>\\n\\t\\t\\t<!-- EMPTY -->\\n\\t\\t</div>\\n\\t\\t<div class=\"area_services\">\\n\\t\\t\\t<a href=\"more.html\" class=\"as_a\" data-clk=\"ntc.svcmap\">서비스 전체보기<span class=\"as_ico_all\"></span></a>\\n\\t\\t</div>\\n\\t</div>\\n\\n\\n\\t<div class=\"aside\">\\n\\t\\t<div class=\"area_flower\">\\n\\t\\t\\t<div class=\"af_tw\">\\n\\t\\t\\t\\t<h3 class=\"af_tit\">프로젝트 꽃</h3>\\n\\t\\t\\t\\t<a href=\"https://search.naver.com/search.naver?where=nexearch&amp;sm=top_hty&amp;fbm=1&amp;ie=utf8&amp;query=%ED%94%84%EB%A1%9C%EC%A0%9D%ED%8A%B8%EA%BD%83\" data-clk=\"prj.link\" class=\"af_a\">바로가기</a>\\n\\t\\t\\t</div>\\n\\t\\t\\t<div class=\"af_mw\">\\n\\t\\t\\t\\t<a href=\"https://search.naver.com/search.naver?where=nexearch&amp;sm=top_hty&amp;fbm=1&amp;ie=utf8&amp;query=%ED%94%84%EB%A1%9C%EC%A0%9D%ED%8A%B8%EA%BD%83\" data-clk=\"prj.link\" class=\"af_qr\"><span class=\"blind\">프로젝트 꽃</span></a>\\n\\t\\t\\t</div>\\n\\t\\t</div>\\n\\t\\t<div class=\"area_newmain\">\\n<div class=\"an_tw\">\\n<h3 class=\"an_tit\">새로운<br>네이버모바일</h3>\\n<a href=\"https://alpha.naver.com/experiment/newnaverapp/beta\" data-clk=\"new.main\" class=\"an_a\">이용 안내</a>\\n</div>\\n<div class=\"an_mw\">\\n<a href=\"https://alpha.naver.com/experiment/newnaverapp/beta\" data-clk=\"new.main\" class=\"an_qr\"><span class=\"blind\">새로운 네이버 모바일</span></a>\\n</div>\\n</div>\\n\\t\\t<div class=\"area_user\">\\n\\t\\t\\t<div class=\"au_wrap\">\\n\\t\\t\\t\\t<h3 class=\"au_tit\">Creators</h3>\\n\\t\\t\\t\\t<ul class=\"au_l\">\\n\\t\\t\\t\\t\\t<li class=\"au_item\"><a href=\"https://www.navercorp.com/service/creators\" data-clk=\"crt.creator\" class=\"au_a\">크리에이터</a></li>\\n\\t\\t\\t\\t\\t<li class=\"au_item\"><span class=\"au_bar\"></span><a href=\"https://www.navercorp.com/service/business\" data-clk=\"crt.smbusiness\" class=\"au_a\">스몰비즈니스</a></li>\\n\\t\\t\\t\\t</ul>\\n\\t\\t\\t</div>\\n\\t\\t\\t<div class=\"au_wrap\">\\n\\t\\t\\t\\t<h3 class=\"au_tit\">Partners</h3>\\n\\t\\t\\t\\t<ul class=\"au_l\">\\n\\t\\t\\t\\t\\t<li class=\"au_item\"><a href=\"https://business.naver.com/service.html\" data-clk=\"ptn.service\" class=\"au_a\">비즈니스 · 광고</a></li>\\n\\t\\t\\t\\t\\t<li class=\"au_item\"><span class=\"au_bar\"></span><a href=\"https://sell.storefarm.naver.com/#/home/about\" data-clk=\"ptn.store\" class=\"au_a\">스토어 개설</a></li>\\n\\t\\t\\t\\t\\t<li class=\"au_item\"><span class=\"au_bar\"></span><a href=\"https://smartplace.naver.com/\" data-clk=\"ptn.place\" class=\"au_a\">지역업체 등록</a></li>\\n\\t\\t\\t\\t</ul>\\n\\t\\t\\t</div>\\n\\t\\t\\t<div class=\"au_wrap\">\\n\\t\\t\\t\\t<h3 class=\"au_tit\">Developers</h3>\\n\\t\\t\\t\\t<ul class=\"au_l\">\\n\\t\\t\\t\\t\\t<li class=\"au_item\"><a href=\"https://developers.naver.com\" data-clk=\"dvl.center\" class=\"au_a au_sa\">네이버 개발자센터</a></li>\\n\\t\\t\\t\\t\\t<li class=\"au_item\"><span class=\"au_bar\"></span><a href=\"https://developers.naver.com/docs/common/openapiguide/#/apilist.md/\" data-clk=\"dvl.openapi\" class=\"au_a\">오픈 API</a></li>\\n\\t\\t\\t\\t\\t<li class=\"au_item\"><span class=\"au_bar\"></span><a href=\"https://naver.github.io/\" data-clk=\"dvl.opensource\" class=\"au_a\">오픈소스</a></li>\\n\\t\\t\\t\\t\\t<li class=\"au_item\"><span class=\"au_bar\"></span><a href=\"https://d2.naver.com/\" data-clk=\"dvl.d2\" class=\"au_a\">네이버 D2</a></li>\\n\\t\\t\\t\\t\\t<li class=\"au_item\"><span class=\"au_bar\"></span><a href=\"https://www.naverlabs.com/\" data-clk=\"dvl.labs\" class=\"au_a\">네이버 랩스</a></li>\\n\\t\\t\\t\\t</ul>\\n\\t\\t\\t</div>\\n\\t\\t</div>\\n\\t</div>\\n\\n\\t<div class=\"footer\">\\n\\t\\t<div class=\"area_terms\">\\n\\t\\t\\t<h3 class=\"blind\">네이버 정책 및 약관</h3>\\n\\t\\t\\t<ul class=\"at_l\">\\n\\t\\t\\t\\t<li class=\"at_item\"><a href=\"https://www.navercorp.com/\" class=\"at_a\" data-clk=\"plc.intronhn\">회사소개</a></li>\\n\\t\\t\\t\\t<li class=\"at_item\"><span class=\"at_bar\"></span><a href=\"https://recruit.navercorp.com/naver/recruitMain\" class=\"at_a\" data-clk=\"plc.recruit\">인재채용</a></li>\\n\\t\\t\\t\\t<li class=\"at_item\"><span class=\"at_bar\"></span><a href=\"https://www.navercorp.com/naver/proposalGuide\" class=\"at_a\" data-clk=\"plc.contact\">제휴제안</a></li>\\n\\t\\t\\t\\t<li class=\"at_item\"><span class=\"at_bar\"></span><a href=\"/policy/service.html\" class=\"at_a\" data-clk=\"plc.service\">이용약관</a></li>\\n\\t\\t\\t\\t<li class=\"at_item\"><span class=\"at_bar\"></span><a href=\"/policy/privacy.html\" class=\"at_a\" data-clk=\"plc.privacy\"><strong class=\"at_st\">개인정보처리방침</strong></a></li>\\n\\t\\t\\t\\t<li class=\"at_item\"><span class=\"at_bar\"></span><a href=\"/policy/youthpolicy.html\" class=\"at_a\" data-clk=\"plc.youth\">청소년보호정책</a></li>\\n\\t\\t\\t\\t<li class=\"at_item\"><span class=\"at_bar\"></span><a href=\"/policy/spamcheck.html\" class=\"at_a\" data-clk=\"plc.policy\">네이버 정책</a></li>\\n\\t\\t\\t\\t<li class=\"at_item\"><span class=\"at_bar\"></span><a href=\"https://help.naver.com/\" class=\"at_a\" data-clk=\"plc.helpcenter\">고객센터</a></li>\\n\\t\\t\\t</ul>\\n\\t\\t\\t<address class=\"at_cr\">ⓒ <a href=\"https://www.navercorp.com/\" target=\"_blank\" class=\"at_ca\" data-clk=\"plc.nhn\">NAVER Corp.</a></address>\\n\\t\\t</div>\\n\\t</div>\\n</div>\\n\\n\\t</div>\\n\\t\\n\\t<script src=\"https://pm.pstatic.net/js/c/jindo_v180212.js\"></script>\\n\\t\\n\\t\\n\\t<script>\\n\\t\\tvar svr = \"<!--aweb101.ntop-->\";\\n\\t\\tvar svt = \"20190611172709\";\\n\\t\\tvar aPanelListAll;\\n\\t\\t\\n\\t\\tvar nmainJS = [\"https://pm.pstatic.net/js/c/nmain_v190523.js\"];\\n\\t\\t\\n\\t\\tvar sThemecastAdScriptUrl = \\'https://ssl.pstatic.net/tveta/libs/assets/js/pc/main/min/pc.veta.core.min.js?20180330\\';\\n\\t\\tnmainJS.push(sThemecastAdScriptUrl);\\n\\n\\t\\tfunction loadJS() {\\n\\n\\t\\t\\t\\n\\t\\t\\t\\tsetTimeout(function() { lcs_do(refreshLcs()); }, 0);\\n\\t\\t\\t\\n\\n\\t\\t\\tjindo.LazyLoading.load(nmainJS, function(){\\n\\n\\t\\t\\t\\ttry { naver.main.nelo.setEnable(true); } catch(e) { };\\n\\n\\t\\t\\t\\tif ( svr === \"<!--cweb301.ntop-->\" ) {\\n\\t\\t\\t\\t\\tJEagleEyeClient.setEnable(true);\\n\\t\\t\\t\\t}\\n\\n\\t\\t\\t\\tif(typeof initPage != \\'undefined\\') {\\n    \\t\\t\\t\\tinitPage();\\n\\t\\t\\t\\t}\\t\\n\\n\\t\\t\\t\\ttry {\\n\\t\\t\\t\\t\\taPanelListAll = [{\"adMap\":null,\"code\":\"LIVINGHOME\",\"name\":\"리빙\",\"css\":\"livinghome\",\"nclick\":\"lif\",\"openDate\":null},{\"adMap\":null,\"code\":\"LIVING\",\"name\":\"푸드\",\"css\":\"living\",\"nclick\":\"fod\",\"openDate\":null},{\"adMap\":null,\"code\":\"SPORTS\",\"name\":\"스포츠\",\"css\":\"sports\",\"nclick\":\"spo\",\"openDate\":null},{\"adMap\":null,\"code\":\"CARGAME\",\"name\":\"자동차\",\"css\":\"cargame\",\"nclick\":\"aut\",\"openDate\":null},{\"adMap\":null,\"code\":\"BEAUTY\",\"name\":\"패션뷰티\",\"css\":\"beauty\",\"nclick\":\"bty\",\"openDate\":null},{\"adMap\":null,\"code\":\"MOMKIDS\",\"name\":\"부모i\",\"css\":\"momkids\",\"nclick\":\"mom\",\"openDate\":null},{\"adMap\":null,\"code\":\"HEALTH\",\"name\":\"건강\",\"css\":\"health\",\"nclick\":\"hea\",\"openDate\":null},{\"adMap\":null,\"code\":\"BBOOM\",\"name\":\"웹툰\",\"css\":\"bboom\",\"nclick\":\"web\",\"openDate\":null},{\"adMap\":null,\"code\":\"GAMEAPP\",\"name\":\"게임\",\"css\":\"gameapp\",\"nclick\":\"gam\",\"openDate\":null},{\"adMap\":null,\"code\":\"VIDEO\",\"name\":\"TV연예\",\"css\":\"video\",\"nclick\":\"tvc\",\"openDate\":null},{\"adMap\":null,\"code\":\"MUSIC\",\"name\":\"뮤직\",\"css\":\"music\",\"nclick\":\"muc\",\"openDate\":null},{\"adMap\":{\"id\":\"p_main_movie_00\",\"adPath\":\"%2Ffxshow%3Fsu%3DSU10199%26da_dom_id%3Dp_main_movie_00%26tb%3DMOVIE_1\"},\"code\":\"MOVIE\",\"name\":\"영화\",\"css\":\"movie\",\"nclick\":\"mov\",\"openDate\":null},{\"adMap\":null,\"code\":\"CULTURE\",\"name\":\"책문화\",\"css\":\"culture\",\"nclick\":\"bok\",\"openDate\":null},{\"adMap\":null,\"code\":\"WITH\",\"name\":\"함께N\",\"css\":\"with\",\"nclick\":\"pub\",\"openDate\":null},{\"adMap\":{\"id\":\"p_main_travel_00\",\"adPath\":\"%2Ffxshow%3Fsu%3DSU10198%26da_dom_id%3Dp_main_travel_00%26tb%3DTRAVEL_1\"},\"code\":\"TRAVEL\",\"name\":\"여행+\",\"css\":\"travel\",\"nclick\":\"tra\",\"openDate\":null},{\"adMap\":null,\"code\":\"DESIGN\",\"name\":\"디자인\",\"css\":\"design\",\"nclick\":\"des\",\"openDate\":null},{\"adMap\":null,\"code\":\"FINANCE\",\"name\":\"경제M\",\"css\":\"finance\",\"nclick\":\"fin\",\"openDate\":null},{\"adMap\":{\"id\":\"p_main_job_00\",\"adPath\":\"%2Ffxshow%3Fsu%3DSU10200%26da_dom_id%3Dp_main_job_00%26tb%3DJOB_1\"},\"code\":\"JOB\",\"name\":\"JOB&\",\"css\":\"job\",\"nclick\":\"job\",\"openDate\":null},{\"adMap\":null,\"code\":\"SCIENCE\",\"name\":\"과학\",\"css\":\"science\",\"nclick\":\"sci\",\"openDate\":null},{\"adMap\":null,\"code\":\"CHINA\",\"name\":\"중국\",\"css\":\"china\",\"nclick\":\"chn\",\"openDate\":null},{\"adMap\":{\"id\":\"p_main_business_00\",\"adPath\":\"%2Ffxshow%3Fsu%3DSU10204%26da_dom_id%3Dp_main_business_00%26tb%3DBUSINESS_1\"},\"code\":\"BUSINESS\",\"name\":\"비즈니스\",\"css\":\"business\",\"nclick\":\"bsn\",\"openDate\":null},{\"adMap\":null,\"code\":\"FARM\",\"name\":\"FARM\",\"css\":\"farm\",\"nclick\":\"far\",\"openDate\":null},{\"adMap\":{\"id\":\"p_main_school_01\",\"adPath\":\"%2Ffxshow%3Fsu%3DSU10210%26da_dom_id%3Dp_main_school_01%26tb%3DSCHOOL_1\"},\"code\":\"SCHOOL\",\"name\":\"스쿨잼\",\"css\":\"school\",\"nclick\":\"scl\",\"openDate\":null},{\"adMap\":null,\"code\":\"SHOW\",\"name\":\"공연전시\",\"css\":\"show\",\"nclick\":\"sow\",\"openDate\":\"20170622\"},{\"adMap\":null,\"code\":\"LAW\",\"name\":\"법률\",\"css\":\"law\",\"nclick\":\"law\",\"openDate\":\"20170803\"},{\"adMap\":null,\"code\":\"ANIMAL\",\"name\":\"동물공감\",\"css\":\"animal\",\"nclick\":\"ani\",\"openDate\":\"20170824\"},{\"adMap\":null,\"code\":\"WEDDING\",\"name\":\"연애·결혼\",\"css\":\"wedding\",\"nclick\":\"wed\",\"openDate\":\"20170831\"},{\"adMap\":null,\"code\":\"ITTECH\",\"name\":\"테크\",\"css\":\"ittech\",\"nclick\":\"tec\",\"openDate\":\"20170921\"},{\"adMap\":null,\"code\":\"EMOTION\",\"name\":\"감성충전\",\"css\":\"emotion\",\"nclick\":\"emo\",\"openDate\":\"20180322\"}]; \\n\\t\\t\\t\\t} catch(e) {\\n\\t\\t\\t\\t\\tJEagleEyeClient.sendError(\"invalid panel.json\");\\n\\t\\t\\t\\t}\\n\\t\\t\\t\\tnaver.main.PageRefresh.init();\\n\\n\\t\\t\\t\\tnaver.main.Panel.init(aPanelListAll);\\n\\n\\t\\t\\t\\tnaver.main.Log.init();\\n\\n\\t\\t\\t\\tnaver.main.ServiceNavi.init();\\n\\t\\t\\t\\tnaver.main.ThemecastNavi.init({\\n\\t\\t\\t\\t\\tbFlick: false,\\n\\t\\t\\t\\t\\tsAdList: \\'{\"header\":{\"msg\":\"success\",\"code\":0},\"body\":{\"adScriptList\":[{\"adScriptPCMain1\":{\"http\":\"https://ssl.pstatic.net/tveta/libs/assets/js/pc/main/min/pc.veta.core.min.js?20180330\",\"https\":\"https://ssl.pstatic.net/tveta/libs/assets/js/pc/main/min/pc.veta.core.min.js?20180330\"}}],\"adList\":[{\"menu\":\"ANIMAL\",\"childMenu\":\"\",\"adType\":\"singleDom\",\"multiDomAdUrl\":\"\",\"multiDomUnit\":\"\",\"infoList\":[{\"adposId\":\"1000124\",\"singleDomAdUrl\":\"https://nv.veta.naver.com/fxshow\",\"param\":{\"da_dom_id\":\"p_main_animal_00\",\"tb\":\"ANIMAL_1\",\"unit\":\"SU10261\",\"calp\":\"-\"},\"type\":{\"position\":\"rel\",\"positionIndex\":0,\"subject\":\"contents\"},\"dom\":null}]},{\"menu\":\"BEAUTY\",\"childMenu\":\"\",\"adType\":\"singleDom\",\"multiDomAdUrl\":\"\",\"multiDomUnit\":\"\",\"infoList\":[{\"adposId\":\"1000106\",\"singleDomAdUrl\":\"http://nv.veta.naver.com/fxshow\",\"param\":{\"da_dom_id\":\"p_main_beauty_00\",\"tb\":\"BEAUTY_1\",\"unit\":\"SU10249\",\"calp\":\"-\"},\"type\":{\"position\":\"rel\",\"positionIndex\":0,\"subject\":\"contents\"},\"dom\":null}]},{\"menu\":\"BUSINESS\",\"childMenu\":\"\",\"adType\":\"singleDom\",\"multiDomAdUrl\":\"\",\"multiDomUnit\":\"\",\"infoList\":[{\"adposId\":\"1000084\",\"singleDomAdUrl\":\"http://nv.veta.naver.com/fxshow\",\"param\":{\"da_dom_id\":\"p_main_business_00\",\"tb\":\"BUSINESS_1\",\"unit\":\"SU10204\",\"calp\":\"-\"},\"type\":{\"position\":\"rel\",\"positionIndex\":0,\"subject\":\"contents\"},\"dom\":null}]},{\"menu\":\"CARGAME\",\"childMenu\":\"\",\"adType\":\"singleDom\",\"multiDomAdUrl\":\"\",\"multiDomUnit\":\"\",\"infoList\":[{\"adposId\":\"1000102\",\"singleDomAdUrl\":\"http://nv.veta.naver.com/fxshow\",\"param\":{\"da_dom_id\":\"p_main_cargame_00\",\"tb\":\"CARGAME_1\",\"unit\":\"SU10253\",\"calp\":\"-\"},\"type\":{\"position\":\"rel\",\"positionIndex\":0,\"subject\":\"contents\"},\"dom\":null}]},{\"menu\":\"CHINA\",\"childMenu\":\"\",\"adType\":\"singleDom\",\"multiDomAdUrl\":\"\",\"multiDomUnit\":\"\",\"infoList\":[{\"adposId\":\"1000107\",\"singleDomAdUrl\":\"http://nv.veta.naver.com/fxshow\",\"param\":{\"da_dom_id\":\"p_main_china_00\",\"tb\":\"CHINA_1\",\"unit\":\"SU10206\",\"calp\":\"-\"},\"type\":{\"position\":\"rel\",\"positionIndex\":0,\"subject\":\"contents\"},\"dom\":null}]},{\"menu\":\"DESIGN\",\"childMenu\":\"\",\"adType\":\"singleDom\",\"multiDomAdUrl\":\"\",\"multiDomUnit\":\"\",\"infoList\":[{\"adposId\":\"1000090\",\"singleDomAdUrl\":\"http://nv.veta.naver.com/fxshow\",\"param\":{\"da_dom_id\":\"p_main_design_00\",\"tb\":\"DESIGN_1\",\"unit\":\"SU10205\",\"calp\":\"-\"},\"type\":{\"position\":\"rel\",\"positionIndex\":0,\"subject\":\"contents\"},\"dom\":null}]},{\"menu\":\"FARM\",\"childMenu\":\"\",\"adType\":\"singleDom\",\"multiDomAdUrl\":\"\",\"multiDomUnit\":\"\",\"infoList\":[{\"adposId\":\"1000101\",\"singleDomAdUrl\":\"http://nv.veta.naver.com/fxshow\",\"param\":{\"da_dom_id\":\"p_main_farm_00\",\"tb\":\"FARM_1\",\"unit\":\"SU10207\",\"calp\":\"-\"},\"type\":{\"position\":\"rel\",\"positionIndex\":0,\"subject\":\"contents\"},\"dom\":null}]},{\"menu\":\"FINANCE\",\"childMenu\":\"\",\"adType\":\"singleDom\",\"multiDomAdUrl\":\"\",\"multiDomUnit\":\"\",\"infoList\":[{\"adposId\":\"1000105\",\"singleDomAdUrl\":\"http://nv.veta.naver.com/fxshow\",\"param\":{\"da_dom_id\":\"p_main_finance_00\",\"tb\":\"FINANCE_1\",\"unit\":\"SU10250\",\"calp\":\"-\"},\"type\":{\"position\":\"rel\",\"positionIndex\":0,\"subject\":\"contents\"},\"dom\":null}]},{\"menu\":\"ITTECH\",\"childMenu\":\"\",\"adType\":\"singleDom\",\"multiDomAdUrl\":\"\",\"multiDomUnit\":\"\",\"infoList\":[{\"adposId\":\"1000113\",\"singleDomAdUrl\":\"https://nv.veta.naver.com/fxshow\",\"param\":{\"da_dom_id\":\"p_main_ittech_00\",\"tb\":\"ITTECH_1\",\"unit\":\"SU10260\",\"calp\":\"-\"},\"type\":{\"position\":\"rel\",\"positionIndex\":0,\"subject\":\"contents\"},\"dom\":null}]},{\"menu\":\"JOB\",\"childMenu\":\"\",\"adType\":\"singleDom\",\"multiDomAdUrl\":\"\",\"multiDomUnit\":\"\",\"infoList\":[{\"adposId\":\"1000088\",\"singleDomAdUrl\":\"http://nv.veta.naver.com/fxshow\",\"param\":{\"da_dom_id\":\"p_main_job_00\",\"tb\":\"JOB_1\",\"unit\":\"SU10200\",\"calp\":\"-\"},\"type\":{\"position\":\"rel\",\"positionIndex\":0,\"subject\":\"contents\"},\"dom\":null}]},{\"menu\":\"LAW\",\"childMenu\":\"\",\"adType\":\"singleDom\",\"multiDomAdUrl\":\"\",\"multiDomUnit\":\"\",\"infoList\":[{\"adposId\":\"1000100\",\"singleDomAdUrl\":\"http://nv.veta.naver.com/fxshow\",\"param\":{\"da_dom_id\":\"p_main_law_00\",\"tb\":\"LAW_1\",\"unit\":\"SU10255\",\"calp\":\"-\"},\"type\":{\"position\":\"rel\",\"positionIndex\":0,\"subject\":\"contents\"},\"dom\":null}]},{\"menu\":\"LIVING\",\"childMenu\":\"\",\"adType\":\"singleDom\",\"multiDomAdUrl\":\"\",\"multiDomUnit\":\"\",\"infoList\":[{\"adposId\":\"1000104\",\"singleDomAdUrl\":\"http://nv.veta.naver.com/fxshow\",\"param\":{\"da_dom_id\":\"p_main_living_00\",\"tb\":\"LIVING_1\",\"unit\":\"SU10251\",\"calp\":\"-\"},\"type\":{\"position\":\"rel\",\"positionIndex\":0,\"subject\":\"contents\"},\"dom\":null}]},{\"menu\":\"LIVINGHOME\",\"childMenu\":\"\",\"adType\":\"singleDom\",\"multiDomAdUrl\":\"\",\"multiDomUnit\":\"\",\"infoList\":[{\"adposId\":\"1000103\",\"singleDomAdUrl\":\"http://nv.veta.naver.com/fxshow\",\"param\":{\"da_dom_id\":\"p_main_livinghome_00\",\"tb\":\"LIVINGHOME_1\",\"unit\":\"SU10252\",\"calp\":\"-\"},\"type\":{\"position\":\"rel\",\"positionIndex\":0,\"subject\":\"contents\"},\"dom\":null}]},{\"menu\":\"MOMKIDS\",\"childMenu\":\"\",\"adType\":\"singleDom\",\"multiDomAdUrl\":\"\",\"multiDomUnit\":\"\",\"infoList\":[{\"adposId\":\"1000089\",\"singleDomAdUrl\":\"http://nv.veta.naver.com/fxshow\",\"param\":{\"da_dom_id\":\"p_main_momkids_00\",\"tb\":\"MOMKIDS_1\",\"unit\":\"SU10226\",\"calp\":\"-\"},\"type\":{\"position\":\"rel\",\"positionIndex\":0,\"subject\":\"contents\"},\"dom\":null}]},{\"menu\":\"MOVIE\",\"childMenu\":\"\",\"adType\":\"singleDom\",\"multiDomAdUrl\":\"\",\"multiDomUnit\":\"\",\"infoList\":[{\"adposId\":\"1000087\",\"singleDomAdUrl\":\"http://nv.veta.naver.com/fxshow\",\"param\":{\"da_dom_id\":\"p_main_movie_00\",\"tb\":\"MOVIE_1\",\"unit\":\"SU10199\",\"calp\":\"-\"},\"type\":{\"position\":\"rel\",\"positionIndex\":0,\"subject\":\"contents\"},\"dom\":null}]},{\"menu\":\"SCHOOL\",\"childMenu\":\"\",\"adType\":\"singleDom\",\"multiDomAdUrl\":\"\",\"multiDomUnit\":\"\",\"infoList\":[{\"adposId\":\"1000085\",\"singleDomAdUrl\":\"http://nv.veta.naver.com/fxshow\",\"param\":{\"da_dom_id\":\"p_main_school_01\",\"tb\":\"SCHOOL_1\",\"unit\":\"SU10210\",\"calp\":\"-\"},\"type\":{\"position\":\"rel\",\"positionIndex\":0,\"subject\":\"contents\"},\"dom\":null}]},{\"menu\":\"SHOW\",\"childMenu\":\"\",\"adType\":\"singleDom\",\"multiDomAdUrl\":\"\",\"multiDomUnit\":\"\",\"infoList\":[{\"adposId\":\"1000112\",\"singleDomAdUrl\":\"https://nv.veta.naver.com/fxshow\",\"param\":{\"da_dom_id\":\"p_main_show_00\",\"tb\":\"SHOW_1\",\"unit\":\"SU10262\",\"calp\":\"-\"},\"type\":{\"position\":\"rel\",\"positionIndex\":0,\"subject\":\"contents\"},\"dom\":null}]},{\"menu\":\"TRAVEL\",\"childMenu\":\"\",\"adType\":\"singleDom\",\"multiDomAdUrl\":\"\",\"multiDomUnit\":\"\",\"infoList\":[{\"adposId\":\"1000086\",\"singleDomAdUrl\":\"http://nv.veta.naver.com/fxshow\",\"param\":{\"da_dom_id\":\"p_main_travel_00\",\"tb\":\"TRAVEL_1\",\"unit\":\"SU10198\",\"calp\":\"-\"},\"type\":{\"position\":\"rel\",\"positionIndex\":0,\"subject\":\"contents\"},\"dom\":null}]},{\"menu\":\"WEDDING\",\"childMenu\":\"\",\"adType\":\"singleDom\",\"multiDomAdUrl\":\"\",\"multiDomUnit\":\"\",\"infoList\":[{\"adposId\":\"1000128\",\"singleDomAdUrl\":\"https://nv.veta.naver.com/fxshow\",\"param\":{\"da_dom_id\":\"p_main_wedding_00\",\"tb\":\"WEDDING_1\",\"unit\":\"SU10263\",\"calp\":\"-\"},\"type\":{\"position\":\"rel\",\"positionIndex\":0,\"subject\":\"contents\"},\"dom\":null}]}]}}\\'\\n\\t\\t\\t\\t});\\n\\t\\t\\t\\tnaver.main.CenterBanner.init();\\n\\t\\t\\t\\tnewSmartSearch();\\n\\t\\n\\t\\t\\t\\tnew naver.main.Newsstand({\\n\\t\\t\\t\\t\\trcode : \"09680101\",\\n        \\t\\t    newspaperURL : \"newspaper.naver.com\",\\n            \\t\\tnewsStandURL : \"newsstand.naver.com\",\\n\\t\\t            userInfoURL : \"userinfo.www.naver.com\",\\n    \\t\\t        newsCastInfo : \"\",\\n        \\t\\t    newsStandInfo : \"\",\\n            \\t\\theadlineList : {\"pid\" : [\"002\",\"003\",\"005\",\"006\",\"008\",\"009\",\"011\",\"013\",\"014\",\"015\",\"016\",\"018\",\"020\",\"021\",\"022\",\"023\",\"024\",\"025\",\"028\",\"029\",\"030\",\"031\",\"032\",\"038\",\"042\",\"044\",\"047\",\"050\",\"052\",\"055\",\"056\",\"057\",\"073\",\"075\",\"076\",\"079\",\"081\",\"082\",\"083\",\"087\",\"088\",\"089\",\"092\",\"108\",\"109\",\"117\",\"120\",\"122\",\"123\",\"135\",\"138\",\"139\",\"140\",\"143\",\"144\",\"213\",\"214\",\"215\",\"241\",\"243\",\"277\",\"293\",\"296\",\"301\",\"308\",\"310\",\"311\",\"312\",\"314\",\"326\",\"327\",\"328\",\"329\",\"330\",\"331\",\"332\",\"333\",\"334\",\"335\",\"336\",\"337\",\"338\",\"339\",\"340\",\"344\",\"345\",\"346\",\"353\",\"354\",\"355\",\"356\",\"361\",\"362\",\"363\",\"364\",\"366\",\"368\",\"374\",\"376\",\"384\",\"385\",\"387\",\"388\",\"389\",\"390\",\"391\",\"396\",\"404\",\"410\",\"416\",\"417\",\"421\",\"422\",\"440\",\"447\",\"477\",\"529\",\"536\",\"539\",\"801\",\"802\",\"803\",\"804\",\"806\",\"807\",\"808\",\"809\",\"810\",\"901\",\"902\",\"903\",\"904\",\"905\",\"906\",\"907\",\"908\",\"909\",\"910\",\"911\",\"912\",\"913\",\"914\",\"915\",\"916\",\"917\",\"920\",\"921\",\"922\",\"923\",\"924\",\"925\",\"926\",\"927\",\"928\",\"930\",\"932\",\"933\",\"934\",\"935\",\"936\",\"937\",\"938\",\"939\",\"940\",\"941\",\"942\",\"943\",\"944\",\"945\",\"946\",\"947\",\"948\",\"949\",\"950\",\"951\",\"952\",\"953\",\"954\",\"955\",\"956\",\"957\",\"958\",\"959\",\"960\",\"961\",\"962\",\"963\",\"964\",\"965\",\"966\",\"967\",\"968\",\"969\",\"970\",\"971\",\"972\",\"973\",\"974\",\"975\",\"976\",\"977\",\"978\",\"979\",\"980\",\"981\",\"982\",\"983\",\"984\",\"986\",\"987\",\"988\",\"989\",\"990\",\"991\",\"993\"], \"amigo\" : [], \"invalid\" : []},\\n\\t\\t\\t\\t\\tpressCategory : {\"ct1\":[{\"pid\":\"032\",\"name\":\"경향신문\",\"img\":\"https://s.pstatic.net/static/newsstand/up/2017/0424/nsd14372435.png\",\"cate\":\"ct2\",\"amigo\":\"N\",\"viewer\":\"Y\",\"today\":\"N\",\"local\":null},{\"pid\":\"005\",\"name\":\"국민일보\",\"img\":\"https://s.pstatic.net/static/newsstand/up/2017/0424/nsd1438916.png\",\"cate\":\"ct2\",\"amigo\":\"N\",\"viewer\":\"Y\",\"today\":\"N\",\"local\":null},{\"pid\":\"079\",\"name\":\"노컷뉴스\",\"img\":\"https://s.pstatic.net/static/newsstand/up/2017/0424/nsd143958887.png\",\"cate\":\"ct2\",\"amigo\":\"N\",\"viewer\":\"Y\",\"today\":\"N\",\"local\":null},{\"pid\":\"327\",\"name\":\"뉴데일리\",\"img\":\"https://s.pstatic.net/static/newsstand/up/2017/0424/nsd144037935.png\",\"cate\":\"ct2\",\"amigo\":\"N\",\"viewer\":\"Y\",\"today\":\"N\",\"local\":null},{\"pid\":\"930\",\"name\":\"뉴스타파\",\"img\":\"https://s.pstatic.net/static/newsstand/up/2017/0424/nsd144152433.png\",\"cate\":\"ct2\",\"amigo\":\"N\",\"viewer\":\"Y\",\"today\":\"N\",\"local\":null},{\"pid\":\"003\",\"name\":\"뉴시스\",\"img\":\"https://s.pstatic.net/static/newsstand/up/2017/0424/nsd14449981.png\",\"cate\":\"ct3\",\"amigo\":\"N\",\"viewer\":\"Y\",\"today\":\"N\",\"local\":null},{\"pid\":\"368\",\"name\":\"데일리안\",\"img\":\"https://s.pstatic.net/static/newsstand/up/2017/0424/nsd14463367.png\",\"cate\":\"ct2\",\"amigo\":\"N\",\"viewer\":\"Y\",\"today\":\"N\",\"local\":null},{\"pid\":\"020\",\"name\":\"동아일보\",\"img\":\"https://s.pstatic.net/static/newsstand/up/2017/0424/nsd14479875.png\",\"cate\":\"ct2\",\"amigo\":\"N\",\"viewer\":\"Y\",\"today\":\"N\",\"local\":null},{\"pid\":\"029\",\"name\":\"디지털타임스\",\"img\":\"https://s.pstatic.net/static/newsstand/up/2018/0719/nsd162516824.png\",\"cate\":\"ct4\",\"amigo\":\"N\",\"viewer\":\"Y\",\"today\":\"N\",\"local\":null},{\"pid\":\"117\",\"name\":\"마이데일리\",\"img\":\"https://s.pstatic.net/static/newsstand/up/2017/0424/nsd144944309.png\",\"cate\":\"ct6\",\"amigo\":\"N\",\"viewer\":\"Y\",\"today\":\"N\",\"local\":null},{\"pid\":\"009\",\"name\":\"매일경제\",\"img\":\"https://s.pstatic.net/static/newsstand/up/2017/0424/nsd145032565.png\",\"cate\":\"ct2\",\"amigo\":\"N\",\"viewer\":\"Y\",\"today\":\"N\",\"local\":null},{\"pid\":\"008\",\"name\":\"머니투데이\",\"img\":\"https://s.pstatic.net/static/newsstand/up/2017/0424/nsd145214517.png\",\"cate\":\"ct2\",\"amigo\":\"N\",\"viewer\":\"Y\",\"today\":\"N\",\"local\":null},{\"pid\":\"021\",\"name\":\"문화일보\",\"img\":\"https://s.pstatic.net/static/newsstand/up/2017/0424/nsd19245981.png\",\"cate\":\"ct2\",\"amigo\":\"N\",\"viewer\":\"Y\",\"today\":\"N\",\"local\":null},{\"pid\":\"006\",\"name\":\"미디어오늘\",\"img\":\"https://s.pstatic.net/static/newsstand/up/2017/0424/nsd145346617.png\",\"cate\":\"ct2\",\"amigo\":\"N\",\"viewer\":\"Y\",\"today\":\"N\",\"local\":null},{\"pid\":\"293\",\"name\":\"블로터\",\"img\":\"https://s.pstatic.net/static/newsstand/up/2018/0316/nsd175350622.png\",\"cate\":\"ct4\",\"amigo\":\"N\",\"viewer\":\"Y\",\"today\":\"N\",\"local\":null},{\"pid\":\"011\",\"name\":\"서울경제\",\"img\":\"https://s.pstatic.net/static/newsstand/up/2017/0424/nsd145718601.png\",\"cate\":\"ct2\",\"amigo\":\"N\",\"viewer\":\"Y\",\"today\":\"N\",\"local\":null},{\"pid\":\"081\",\"name\":\"서울신문\",\"img\":\"https://s.pstatic.net/static/newsstand/up/2017/0424/nsd145738195.png\",\"cate\":\"ct2\",\"amigo\":\"N\",\"viewer\":\"Y\",\"today\":\"N\",\"local\":null},{\"pid\":\"022\",\"name\":\"세계일보\",\"img\":\"https://s.pstatic.net/static/newsstand/up/2017/0424/nsd145813557.png\",\"cate\":\"ct2\",\"amigo\":\"N\",\"viewer\":\"Y\",\"today\":\"N\",\"local\":null},{\"pid\":\"314\",\"name\":\"스포츠동아\",\"img\":\"https://s.pstatic.net/static/newsstand/up/2017/0424/nsd145951763.png\",\"cate\":\"ct6\",\"amigo\":\"N\",\"viewer\":\"Y\",\"today\":\"N\",\"local\":null},{\"pid\":\"073\",\"name\":\"스포츠서울\",\"img\":\"https://s.pstatic.net/static/newsstand/up/2017/0424/nsd15042554.png\",\"cate\":\"ct6\",\"amigo\":\"N\",\"viewer\":\"Y\",\"today\":\"N\",\"local\":null},{\"pid\":\"076\",\"name\":\"스포츠조선\",\"img\":\"https://s.pstatic.net/static/newsstand/up/2017/0424/nsd183553864.png\",\"cate\":\"ct6\",\"amigo\":\"N\",\"viewer\":\"Y\",\"today\":\"N\",\"local\":null},{\"pid\":\"139\",\"name\":\"스포탈코리아\",\"img\":\"https://s.pstatic.net/static/newsstand/up/2017/0424/nsd151840663.png\",\"cate\":\"ct6\",\"amigo\":\"N\",\"viewer\":\"Y\",\"today\":\"N\",\"local\":null},{\"pid\":\"308\",\"name\":\"시사인\",\"img\":\"https://s.pstatic.net/static/newsstand/up/2017/0424/nsd151929775.png\",\"cate\":\"ct7\",\"amigo\":\"N\",\"viewer\":\"Y\",\"today\":\"N\",\"local\":null},{\"pid\":\"277\",\"name\":\"아시아경제\",\"img\":\"https://s.pstatic.net/static/newsstand/up/2017/0424/nsd153432228.png\",\"cate\":\"ct2\",\"amigo\":\"N\",\"viewer\":\"Y\",\"today\":\"N\",\"local\":null},{\"pid\":\"031\",\"name\":\"아이뉴스24\",\"img\":\"https://s.pstatic.net/static/newsstand/up/2017/0424/nsd153955864.png\",\"cate\":\"ct2\",\"amigo\":\"N\",\"viewer\":\"Y\",\"today\":\"N\",\"local\":null},{\"pid\":\"422\",\"name\":\"연합뉴스TV\",\"img\":\"https://s.pstatic.net/static/newsstand/up/2017/0424/nsd154219877.png\",\"cate\":\"ct3\",\"amigo\":\"N\",\"viewer\":\"Y\",\"today\":\"N\",\"local\":null},{\"pid\":\"047\",\"name\":\"오마이뉴스\",\"img\":\"https://s.pstatic.net/static/newsstand/up/2017/0424/nsd154314463.png\",\"cate\":\"ct2\",\"amigo\":\"N\",\"viewer\":\"Y\",\"today\":\"N\",\"local\":null},{\"pid\":\"018\",\"name\":\"이데일리\",\"img\":\"https://s.pstatic.net/static/newsstand/up/2017/0424/nsd154426359.png\",\"cate\":\"ct2\",\"amigo\":\"N\",\"viewer\":\"Y\",\"today\":\"N\",\"local\":null},{\"pid\":\"241\",\"name\":\"일간스포츠\",\"img\":\"https://s.pstatic.net/static/newsstand/up/2017/0424/nsd154619739.png\",\"cate\":\"ct6\",\"amigo\":\"N\",\"viewer\":\"Y\",\"today\":\"N\",\"local\":null},{\"pid\":\"030\",\"name\":\"전자신문\",\"img\":\"https://s.pstatic.net/static/newsstand/up/2017/0424/nsd162528724.png\",\"cate\":\"ct4\",\"amigo\":\"N\",\"viewer\":\"Y\",\"today\":\"N\",\"local\":null},{\"pid\":\"366\",\"name\":\"조선비즈\",\"img\":\"https://s.pstatic.net/static/newsstand/up/2017/0424/nsd162659528.png\",\"cate\":\"ct2\",\"amigo\":\"N\",\"viewer\":\"Y\",\"today\":\"N\",\"local\":null},{\"pid\":\"023\",\"name\":\"조선일보\",\"img\":\"https://s.pstatic.net/static/newsstand/up/2017/0424/nsd162718792.png\",\"cate\":\"ct2\",\"amigo\":\"N\",\"viewer\":\"Y\",\"today\":\"N\",\"local\":null},{\"pid\":\"330\",\"name\":\"중앙데일리\",\"img\":\"https://s.pstatic.net/static/newsstand/up/2018/0626/nsd103519292.png\",\"cate\":\"ct5\",\"amigo\":\"N\",\"viewer\":\"Y\",\"today\":\"N\",\"local\":null},{\"pid\":\"025\",\"name\":\"중앙일보\",\"img\":\"https://s.pstatic.net/static/newsstand/up/2018/0807/nsd1484475.png\",\"cate\":\"ct2\",\"amigo\":\"N\",\"viewer\":\"Y\",\"today\":\"N\",\"local\":null},{\"pid\":\"092\",\"name\":\"지디넷코리아\",\"img\":\"https://s.pstatic.net/static/newsstand/up/2017/0424/nsd16425834.png\",\"cate\":\"ct4\",\"amigo\":\"N\",\"viewer\":\"Y\",\"today\":\"N\",\"local\":null},{\"pid\":\"376\",\"name\":\"지지통신\",\"img\":\"https://s.pstatic.net/static/newsstand/up/2017/0424/nsd16432873.png\",\"cate\":\"ct3\",\"amigo\":\"N\",\"viewer\":\"Y\",\"today\":\"N\",\"local\":null},{\"pid\":\"044\",\"name\":\"코리아헤럴드\",\"img\":\"https://s.pstatic.net/static/newsstand/up/2017/0424/nsd17341942.png\",\"cate\":\"ct5\",\"amigo\":\"N\",\"viewer\":\"Y\",\"today\":\"N\",\"local\":null},{\"pid\":\"014\",\"name\":\"파이낸셜뉴스\",\"img\":\"https://s.pstatic.net/static/newsstand/up/2017/0424/nsd172557496.png\",\"cate\":\"ct2\",\"amigo\":\"N\",\"viewer\":\"Y\",\"today\":\"N\",\"local\":null},{\"pid\":\"002\",\"name\":\"프레시안\",\"img\":\"https://s.pstatic.net/static/newsstand/up/2017/0424/nsd172615885.png\",\"cate\":\"ct2\",\"amigo\":\"N\",\"viewer\":\"Y\",\"today\":\"N\",\"local\":null},{\"pid\":\"028\",\"name\":\"한겨레\",\"img\":\"https://s.pstatic.net/static/newsstand/up/2017/0424/nsd17263596.png\",\"cate\":\"ct2\",\"amigo\":\"N\",\"viewer\":\"Y\",\"today\":\"N\",\"local\":null},{\"pid\":\"015\",\"name\":\"한국경제\",\"img\":\"https://s.pstatic.net/static/newsstand/up/2017/0424/nsd172736175.png\",\"cate\":\"ct2\",\"amigo\":\"N\",\"viewer\":\"Y\",\"today\":\"N\",\"local\":null},{\"pid\":\"215\",\"name\":\"한국경제TV\",\"img\":\"https://s.pstatic.net/static/newsstand/up/2017/0424/nsd172755139.png\",\"cate\":\"ct3\",\"amigo\":\"N\",\"viewer\":\"Y\",\"today\":\"N\",\"local\":null},{\"pid\":\"038\",\"name\":\"한국일보\",\"img\":\"https://s.pstatic.net/static/newsstand/up/2017/0424/nsd172837200.png\",\"cate\":\"ct2\",\"amigo\":\"N\",\"viewer\":\"Y\",\"today\":\"N\",\"local\":null},{\"pid\":\"016\",\"name\":\"헤럴드경제\",\"img\":\"https://s.pstatic.net/static/newsstand/up/2017/0424/nsd172855569.png\",\"cate\":\"ct2\",\"amigo\":\"N\",\"viewer\":\"Y\",\"today\":\"N\",\"local\":null},{\"pid\":\"904\",\"name\":\"JTBC\",\"img\":\"https://s.pstatic.net/static/newsstand/up/2017/0424/nsd173111263.png\",\"cate\":\"ct3\",\"amigo\":\"N\",\"viewer\":\"Y\",\"today\":\"N\",\"local\":null},{\"pid\":\"056\",\"name\":\"KBS\",\"img\":\"https://s.pstatic.net/static/newsstand/up/2017/0424/nsd173124306.png\",\"cate\":\"ct3\",\"amigo\":\"N\",\"viewer\":\"Y\",\"today\":\"N\",\"local\":null},{\"pid\":\"326\",\"name\":\"KBS World\",\"img\":\"https://s.pstatic.net/static/newsstand/up/2017/0424/nsd173138949.png\",\"cate\":\"ct5\",\"amigo\":\"N\",\"viewer\":\"Y\",\"today\":\"N\",\"local\":null},{\"pid\":\"214\",\"name\":\"MBC\",\"img\":\"https://s.pstatic.net/static/newsstand/up/2017/0424/nsd17324940.png\",\"cate\":\"ct3\",\"amigo\":\"N\",\"viewer\":\"Y\",\"today\":\"N\",\"local\":null},{\"pid\":\"057\",\"name\":\"MBN\",\"img\":\"https://s.pstatic.net/static/newsstand/up/2017/0424/nsd173223533.png\",\"cate\":\"ct3\",\"amigo\":\"N\",\"viewer\":\"Y\",\"today\":\"N\",\"local\":null},{\"pid\":\"109\",\"name\":\"OSEN\",\"img\":\"https://s.pstatic.net/static/newsstand/up/2017/0424/nsd17338859.png\",\"cate\":\"ct6\",\"amigo\":\"N\",\"viewer\":\"Y\",\"today\":\"N\",\"local\":null},{\"pid\":\"055\",\"name\":\"SBS\",\"img\":\"https://s.pstatic.net/static/newsstand/up/2017/0424/nsd173335676.png\",\"cate\":\"ct3\",\"amigo\":\"N\",\"viewer\":\"Y\",\"today\":\"N\",\"local\":null},{\"pid\":\"052\",\"name\":\"YTN\",\"img\":\"https://s.pstatic.net/static/newsstand/up/2017/0424/nsd173559874.png\",\"cate\":\"ct3\",\"amigo\":\"N\",\"viewer\":\"Y\",\"today\":\"N\",\"local\":null}],\"ct2\":[{\"pid\":\"960\",\"name\":\"건설경제신문\",\"img\":\"https://s.pstatic.net/static/newsstand/up/2017/1201/nsd161545206.png\",\"cate\":\"ct2\",\"amigo\":\"N\",\"viewer\":\"Y\",\"today\":\"N\",\"local\":null},{\"pid\":\"032\",\"name\":\"경향신문\",\"img\":\"https://s.pstatic.net/static/newsstand/up/2017/0424/nsd14372435.png\",\"cate\":\"ct2\",\"amigo\":\"N\",\"viewer\":\"Y\",\"today\":\"N\",\"local\":null},{\"pid\":\"005\",\"name\":\"국민일보\",\"img\":\"https://s.pstatic.net/static/newsstand/up/2017/0424/nsd1438916.png\",\"cate\":\"ct2\",\"amigo\":\"N\",\"viewer\":\"Y\",\"today\":\"N\",\"local\":null},{\"pid\":\"944\",\"name\":\"나우뉴스\",\"img\":\"https://s.pstatic.net/static/newsstand/up/2017/0424/nsd14392079.png\",\"cate\":\"ct2\",\"amigo\":\"N\",\"viewer\":\"Y\",\"today\":\"N\",\"local\":null},{\"pid\":\"079\",\"name\":\"노컷뉴스\",\"img\":\"https://s.pstatic.net/static/newsstand/up/2017/0424/nsd143958887.png\",\"cate\":\"ct2\",\"amigo\":\"N\",\"viewer\":\"Y\",\"today\":\"N\",\"local\":null},{\"pid\":\"327\",\"name\":\"뉴데일리\",\"img\":\"https://s.pstatic.net/static/newsstand/up/2017/0424/nsd144037935.png\",\"cate\":\"ct2\",\"amigo\":\"N\",\"viewer\":\"Y\",\"today\":\"N\",\"local\":null},{\"pid\":\"930\",\"name\":\"뉴스타파\",\"img\":\"https://s.pstatic.net/static/newsstand/up/2017/0424/nsd144152433.png\",\"cate\":\"ct2\",\"amigo\":\"N\",\"viewer\":\"Y\",\"today\":\"N\",\"local\":null},{\"pid\":\"913\",\"name\":\"뉴스토마토\",\"img\":\"https://s.pstatic.net/static/newsstand/up/2017/0424/nsd14431117.png\",\"cate\":\"ct2\",\"amigo\":\"N\",\"viewer\":\"Y\",\"today\":\"N\",\"local\":null},{\"pid\":\"914\",\"name\":\"뉴스핌\",\"img\":\"https://s.pstatic.net/static/newsstand/up/2017/0613/nsd173430698.png\",\"cate\":\"ct2\",\"amigo\":\"N\",\"viewer\":\"Y\",\"today\":\"N\",\"local\":null},{\"pid\":\"536\",\"name\":\"더팩트\",\"img\":\"https://s.pstatic.net/static/newsstand/up/2017/0424/nsd144543120.png\",\"cate\":\"ct2\",\"amigo\":\"N\",\"viewer\":\"Y\",\"today\":\"N\",\"local\":null},{\"pid\":\"804\",\"name\":\"데이터뉴스\",\"img\":\"https://s.pstatic.net/static/newsstand/up/2019/0311/nsd10146709.png\",\"cate\":\"ct2\",\"amigo\":\"N\",\"viewer\":\"Y\",\"today\":\"N\",\"local\":null},{\"pid\":\"368\",\"name\":\"데일리안\",\"img\":\"https://s.pstatic.net/static/newsstand/up/2017/0424/nsd14463367.png\",\"cate\":\"ct2\",\"amigo\":\"N\",\"viewer\":\"Y\",\"today\":\"N\",\"local\":null},{\"pid\":\"020\",\"name\":\"동아일보\",\"img\":\"https://s.pstatic.net/static/newsstand/up/2017/0424/nsd14479875.png\",\"cate\":\"ct2\",\"amigo\":\"N\",\"viewer\":\"Y\",\"today\":\"N\",\"local\":null},{\"pid\":\"009\",\"name\":\"매일경제\",\"img\":\"https://s.pstatic.net/static/newsstand/up/2017/0424/nsd145032565.png\",\"cate\":\"ct2\",\"amigo\":\"N\",\"viewer\":\"Y\",\"today\":\"N\",\"local\":null},{\"pid\":\"969\",\"name\":\"매일노동뉴스\",\"img\":\"https://s.pstatic.net/static/newsstand/up/2017/1201/nsd161443290.png\",\"cate\":\"ct2\",\"amigo\":\"N\",\"viewer\":\"Y\",\"today\":\"N\",\"local\":null},{\"pid\":\"417\",\"name\":\"머니에스\",\"img\":\"https://s.pstatic.net/static/newsstand/up/2017/0424/nsd145150694.png\",\"cate\":\"ct2\",\"amigo\":\"N\",\"viewer\":\"Y\",\"today\":\"N\",\"local\":null},{\"pid\":\"008\",\"name\":\"머니투데이\",\"img\":\"https://s.pstatic.net/static/newsstand/up/2017/0424/nsd145214517.png\",\"cate\":\"ct2\",\"amigo\":\"N\",\"viewer\":\"Y\",\"today\":\"N\",\"local\":null},{\"pid\":\"961\",\"name\":\"메트로신문\",\"img\":\"https://s.pstatic.net/static/newsstand/up/2017/1201/nsd161618979.png\",\"cate\":\"ct2\",\"amigo\":\"N\",\"viewer\":\"Y\",\"today\":\"N\",\"local\":null},{\"pid\":\"021\",\"name\":\"문화일보\",\"img\":\"https://s.pstatic.net/static/newsstand/up/2017/0424/nsd19245981.png\",\"cate\":\"ct2\",\"amigo\":\"N\",\"viewer\":\"Y\",\"today\":\"N\",\"local\":null},{\"pid\":\"006\",\"name\":\"미디어오늘\",\"img\":\"https://s.pstatic.net/static/newsstand/up/2017/0424/nsd145346617.png\",\"cate\":\"ct2\",\"amigo\":\"N\",\"viewer\":\"Y\",\"today\":\"N\",\"local\":null},{\"pid\":\"809\",\"name\":\"미디어펜\",\"img\":\"https://s.pstatic.net/static/newsstand/up/2019/0520/nsd172316495.png\",\"cate\":\"ct2\",\"amigo\":\"N\",\"viewer\":\"Y\",\"today\":\"N\",\"local\":null},{\"pid\":\"939\",\"name\":\"브릿지경제\",\"img\":\"https://s.pstatic.net/static/newsstand/up/2017/0424/nsd145512265.png\",\"cate\":\"ct2\",\"amigo\":\"N\",\"viewer\":\"Y\",\"today\":\"N\",\"local\":null},{\"pid\":\"943\",\"name\":\"비즈니스워치\",\"img\":\"https://s.pstatic.net/static/newsstand/up/2017/1102/nsd155540688.png\",\"cate\":\"ct2\",\"amigo\":\"N\",\"viewer\":\"Y\",\"today\":\"N\",\"local\":null},{\"pid\":\"942\",\"name\":\"비즈니스포스트\",\"img\":\"https://s.pstatic.net/static/newsstand/up/2017/0424/nsd145630550.png\",\"cate\":\"ct2\",\"amigo\":\"N\",\"viewer\":\"Y\",\"today\":\"N\",\"local\":null},{\"pid\":\"973\",\"name\":\"비즈한국\",\"img\":\"https://s.pstatic.net/static/newsstand/up/2017/1209/nsd14224593.png\",\"cate\":\"ct2\",\"amigo\":\"N\",\"viewer\":\"Y\",\"today\":\"N\",\"local\":null},{\"pid\":\"011\",\"name\":\"서울경제\",\"img\":\"https://s.pstatic.net/static/newsstand/up/2017/0424/nsd145718601.png\",\"cate\":\"ct2\",\"amigo\":\"N\",\"viewer\":\"Y\",\"today\":\"N\",\"local\":null},{\"pid\":\"081\",\"name\":\"서울신문\",\"img\":\"https://s.pstatic.net/static/newsstand/up/2017/0424/nsd145738195.png\",\"cate\":\"ct2\",\"amigo\":\"N\",\"viewer\":\"Y\",\"today\":\"N\",\"local\":null},{\"pid\":\"022\",\"name\":\"세계일보\",\"img\":\"https://s.pstatic.net/static/newsstand/up/2017/0424/nsd145813557.png\",\"cate\":\"ct2\",\"amigo\":\"N\",\"viewer\":\"Y\",\"today\":\"N\",\"local\":null},{\"pid\":\"970\",\"name\":\"소비자가만드는신문\",\"img\":\"https://s.pstatic.net/static/newsstand/up/2018/1016/nsd1687672.png\",\"cate\":\"ct2\",\"amigo\":\"N\",\"viewer\":\"Y\",\"today\":\"N\",\"local\":null},{\"pid\":\"957\",\"name\":\"시사위크\",\"img\":\"https://s.pstatic.net/static/newsstand/up/2017/1127/nsd8401364.png\",\"cate\":\"ct2\",\"amigo\":\"N\",\"viewer\":\"Y\",\"today\":\"N\",\"local\":null},{\"pid\":\"975\",\"name\":\"시사저널이코노미\",\"img\":\"https://s.pstatic.net/static/newsstand/up/2017/1209/nsd1413096.png\",\"cate\":\"ct2\",\"amigo\":\"N\",\"viewer\":\"Y\",\"today\":\"N\",\"local\":null},{\"pid\":\"810\",\"name\":\"신아일보\",\"img\":\"https://s.pstatic.net/static/newsstand/up/2019/0318/nsd15471273.png\",\"cate\":\"ct2\",\"amigo\":\"N\",\"viewer\":\"Y\",\"today\":\"N\",\"local\":null},{\"pid\":\"277\",\"name\":\"아시아경제\",\"img\":\"https://s.pstatic.net/static/newsstand/up/2017/0424/nsd153432228.png\",\"cate\":\"ct2\",\"amigo\":\"N\",\"viewer\":\"Y\",\"today\":\"N\",\"local\":null},{\"pid\":\"920\",\"name\":\"아시아투데이\",\"img\":\"https://s.pstatic.net/static/newsstand/up/2017/0424/nsd153458161.png\",\"cate\":\"ct2\",\"amigo\":\"N\",\"viewer\":\"Y\",\"today\":\"N\",\"local\":null},{\"pid\":\"031\",\"name\":\"아이뉴스24\",\"img\":\"https://s.pstatic.net/static/newsstand/up/2017/0424/nsd153955864.png\",\"cate\":\"ct2\",\"amigo\":\"N\",\"viewer\":\"Y\",\"today\":\"N\",\"local\":null},{\"pid\":\"921\",\"name\":\"아주경제\",\"img\":\"https://s.pstatic.net/static/newsstand/up/2018/0611/nsd111954432.png\",\"cate\":\"ct2\",\"amigo\":\"N\",\"viewer\":\"Y\",\"today\":\"N\",\"local\":null},{\"pid\":\"963\",\"name\":\"에너지경제\",\"img\":\"https://s.pstatic.net/static/newsstand/up/2018/0118/nsd105113618.png\",\"cate\":\"ct2\",\"amigo\":\"N\",\"viewer\":\"Y\",\"today\":\"N\",\"local\":null},{\"pid\":\"013\",\"name\":\"연합인포맥스\",\"img\":\"https://s.pstatic.net/static/newsstand/up/2017/0424/nsd154238686.png\",\"cate\":\"ct2\",\"amigo\":\"N\",\"viewer\":\"Y\",\"today\":\"N\",\"local\":null},{\"pid\":\"047\",\"name\":\"오마이뉴스\",\"img\":\"https://s.pstatic.net/static/newsstand/up/2017/0424/nsd154314463.png\",\"cate\":\"ct2\",\"amigo\":\"N\",\"viewer\":\"Y\",\"today\":\"N\",\"local\":null},{\"pid\":\"801\",\"name\":\"위키리크스한국\",\"img\":\"https://s.pstatic.net/static/newsstand/up/2019/0311/nsd10043701.png\",\"cate\":\"ct2\",\"amigo\":\"N\",\"viewer\":\"Y\",\"today\":\"N\",\"local\":null},{\"pid\":\"539\",\"name\":\"위키트리\",\"img\":\"https://s.pstatic.net/static/newsstand/up/2017/0424/nsd15444343.png\",\"cate\":\"ct2\",\"amigo\":\"N\",\"viewer\":\"Y\",\"today\":\"N\",\"local\":null},{\"pid\":\"964\",\"name\":\"이뉴스투데이\",\"img\":\"https://s.pstatic.net/static/newsstand/up/2017/1201/nsd16174237.png\",\"cate\":\"ct2\",\"amigo\":\"N\",\"viewer\":\"Y\",\"today\":\"N\",\"local\":null},{\"pid\":\"018\",\"name\":\"이데일리\",\"img\":\"https://s.pstatic.net/static/newsstand/up/2017/0424/nsd154426359.png\",\"cate\":\"ct2\",\"amigo\":\"N\",\"viewer\":\"Y\",\"today\":\"N\",\"local\":null},{\"pid\":\"243\",\"name\":\"이코노미스트\",\"img\":\"https://s.pstatic.net/static/newsstand/up/2017/0424/nsd15444742.png\",\"cate\":\"ct2\",\"amigo\":\"N\",\"viewer\":\"Y\",\"today\":\"N\",\"local\":null},{\"pid\":\"922\",\"name\":\"이투데이\",\"img\":\"https://s.pstatic.net/static/newsstand/up/2018/1016/nsd16842870.png\",\"cate\":\"ct2\",\"amigo\":\"N\",\"viewer\":\"Y\",\"today\":\"N\",\"local\":null},{\"pid\":\"803\",\"name\":\"인더스트리뉴스\",\"img\":\"https://s.pstatic.net/static/newsstand/up/2019/0313/nsd71954506.png\",\"cate\":\"ct2\",\"amigo\":\"N\",\"viewer\":\"Y\",\"today\":\"N\",\"local\":null},{\"pid\":\"923\",\"name\":\"인민망\",\"img\":\"https://s.pstatic.net/static/newsstand/up/2017/0424/nsd154522345.png\",\"cate\":\"ct2\",\"amigo\":\"N\",\"viewer\":\"Y\",\"today\":\"N\",\"local\":null},{\"pid\":\"971\",\"name\":\"일요시사\",\"img\":\"https://s.pstatic.net/static/newsstand/up/2019/0318/nsd154758272.png\",\"cate\":\"ct2\",\"amigo\":\"N\",\"viewer\":\"Y\",\"today\":\"N\",\"local\":null},{\"pid\":\"925\",\"name\":\"일요신문\",\"img\":\"https://s.pstatic.net/static/newsstand/up/2017/0424/nsd192546763.png\",\"cate\":\"ct2\",\"amigo\":\"N\",\"viewer\":\"Y\",\"today\":\"N\",\"local\":null},{\"pid\":\"366\",\"name\":\"조선비즈\",\"img\":\"https://s.pstatic.net/static/newsstand/up/2017/0424/nsd162659528.png\",\"cate\":\"ct2\",\"amigo\":\"N\",\"viewer\":\"Y\",\"today\":\"N\",\"local\":null},{\"pid\":\"023\",\"name\":\"조선일보\",\"img\":\"https://s.pstatic.net/static/newsstand/up/2017/0424/nsd162718792.png\",\"cate\":\"ct2\",\"amigo\":\"N\",\"viewer\":\"Y\",\"today\":\"N\",\"local\":null},{\"pid\":\"123\",\"name\":\"조세일보\",\"img\":\"https://s.pstatic.net/static/newsstand/up/2017/0424/nsd162739461.png\",\"cate\":\"ct2\",\"amigo\":\"N\",\"viewer\":\"Y\",\"today\":\"N\",\"local\":null},{\"pid\":\"353\",\"name\":\"중앙SUNDAY\",\"img\":\"https://s.pstatic.net/static/newsstand/up/2019/0319/nsd152835299.png\",\"cate\":\"ct2\",\"amigo\":\"N\",\"viewer\":\"Y\",\"today\":\"N\",\"local\":null},{\"pid\":\"025\",\"name\":\"중앙일보\",\"img\":\"https://s.pstatic.net/static/newsstand/up/2018/0807/nsd1484475.png\",\"cate\":\"ct2\",\"amigo\":\"N\",\"viewer\":\"Y\",\"today\":\"N\",\"local\":null},{\"pid\":\"941\",\"name\":\"초이스경제\",\"img\":\"https://s.pstatic.net/static/newsstand/up/2017/0424/nsd164431529.png\",\"cate\":\"ct2\",\"amigo\":\"N\",\"viewer\":\"Y\",\"today\":\"N\",\"local\":null},{\"pid\":\"143\",\"name\":\"쿠키뉴스\",\"img\":\"https://s.pstatic.net/static/newsstand/up/2017/0424/nsd172415111.png\",\"cate\":\"ct2\",\"amigo\":\"N\",\"viewer\":\"Y\",\"today\":\"N\",\"local\":null},{\"pid\":\"014\",\"name\":\"파이낸셜뉴스\",\"img\":\"https://s.pstatic.net/static/newsstand/up/2017/0424/nsd172557496.png\",\"cate\":\"ct2\",\"amigo\":\"N\",\"viewer\":\"Y\",\"today\":\"N\",\"local\":null},{\"pid\":\"002\",\"name\":\"프레시안\",\"img\":\"https://s.pstatic.net/static/newsstand/up/2017/0424/nsd172615885.png\",\"cate\":\"ct2\",\"amigo\":\"N\",\"viewer\":\"Y\",\"today\":\"N\",\"local\":null},{\"pid\":\"028\",\"name\":\"한겨레\",\"img\":\"https://s.pstatic.net/static/newsstand/up/2017/0424/nsd17263596.png\",\"cate\":\"ct2\",\"amigo\":\"N\",\"viewer\":\"Y\",\"today\":\"N\",\"local\":null},{\"pid\":\"015\",\"name\":\"한국경제\",\"img\":\"https://s.pstatic.net/static/newsstand/up/2017/0424/nsd172736175.png\",\"cate\":\"ct2\",\"amigo\":\"N\",\"viewer\":\"Y\",\"today\":\"N\",\"local\":null},{\"pid\":\"968\",\"name\":\"한국금융신문\",\"img\":\"https://s.pstatic.net/static/newsstand/up/2017/1201/nsd161235556.png\",\"cate\":\"ct2\",\"amigo\":\"N\",\"viewer\":\"Y\",\"today\":\"N\",\"local\":null},{\"pid\":\"038\",\"name\":\"한국일보\",\"img\":\"https://s.pstatic.net/static/newsstand/up/2017/0424/nsd172837200.png\",\"cate\":\"ct2\",\"amigo\":\"N\",\"viewer\":\"Y\",\"today\":\"N\",\"local\":null},{\"pid\":\"993\",\"name\":\"허프포스트코리아\",\"img\":\"https://s.pstatic.net/static/newsstand/up/2018/1210/nsd162234841.png\",\"cate\":\"ct2\",\"amigo\":\"N\",\"viewer\":\"Y\",\"today\":\"N\",\"local\":null},{\"pid\":\"016\",\"name\":\"헤럴드경제\",\"img\":\"https://s.pstatic.net/static/newsstand/up/2017/0424/nsd172855569.png\",\"cate\":\"ct2\",\"amigo\":\"N\",\"viewer\":\"Y\",\"today\":\"N\",\"local\":null},{\"pid\":\"974\",\"name\":\"BBS NEWS\",\"img\":\"https://s.pstatic.net/static/newsstand/up/2017/1209/nsd14324918.png\",\"cate\":\"ct2\",\"amigo\":\"N\",\"viewer\":\"Y\",\"today\":\"N\",\"local\":null},{\"pid\":\"932\",\"name\":\"CEO스코어데일리\",\"img\":\"https://s.pstatic.net/static/newsstand/up/2018/0627/nsd124328796.png\",\"cate\":\"ct2\",\"amigo\":\"N\",\"viewer\":\"Y\",\"today\":\"N\",\"local\":null},{\"pid\":\"954\",\"name\":\"CNB뉴스\",\"img\":\"https://s.pstatic.net/static/newsstand/up/2017/1122/nsd113655834.png\",\"cate\":\"ct2\",\"amigo\":\"N\",\"viewer\":\"Y\",\"today\":\"N\",\"local\":null},{\"pid\":\"120\",\"name\":\"EBN\",\"img\":\"https://s.pstatic.net/static/newsstand/up/2017/1017/nsd173540697.png\",\"cate\":\"ct2\",\"amigo\":\"N\",\"viewer\":\"Y\",\"today\":\"N\",\"local\":null},{\"pid\":\"959\",\"name\":\"M이코노미뉴스\",\"img\":\"https://s.pstatic.net/static/newsstand/up/2017/1201/nsd161518383.png\",\"cate\":\"ct2\",\"amigo\":\"N\",\"viewer\":\"Y\",\"today\":\"N\",\"local\":null},{\"pid\":\"972\",\"name\":\"PD저널\",\"img\":\"https://s.pstatic.net/static/newsstand/up/2017/1207/nsd13738461.png\",\"cate\":\"ct2\",\"amigo\":\"N\",\"viewer\":\"Y\",\"today\":\"N\",\"local\":null}],\"ct3\":[{\"pid\":\"421\",\"name\":\"뉴스1\",\"img\":\"https://s.pstatic.net/static/newsstand/up/2017/0424/nsd14405515.png\",\"cate\":\"ct3\",\"amigo\":\"N\",\"viewer\":\"Y\",\"today\":\"N\",\"local\":null},{\"pid\":\"003\",\"name\":\"뉴시스\",\"img\":\"https://s.pstatic.net/static/newsstand/up/2017/0424/nsd14449981.png\",\"cate\":\"ct3\",\"amigo\":\"N\",\"viewer\":\"Y\",\"today\":\"N\",\"local\":null},{\"pid\":\"916\",\"name\":\"머니투데이방송\",\"img\":\"https://s.pstatic.net/static/newsstand/up/2017/0424/nsd145249746.png\",\"cate\":\"ct3\",\"amigo\":\"N\",\"viewer\":\"Y\",\"today\":\"N\",\"local\":null},{\"pid\":\"934\",\"name\":\"아리랑TV\",\"img\":\"https://s.pstatic.net/static/newsstand/up/2017/0424/nsd153357809.png\",\"cate\":\"ct3\",\"amigo\":\"N\",\"viewer\":\"Y\",\"today\":\"N\",\"local\":null},{\"pid\":\"422\",\"name\":\"연합뉴스TV\",\"img\":\"https://s.pstatic.net/static/newsstand/up/2017/0424/nsd154219877.png\",\"cate\":\"ct3\",\"amigo\":\"N\",\"viewer\":\"Y\",\"today\":\"N\",\"local\":null},{\"pid\":\"376\",\"name\":\"지지통신\",\"img\":\"https://s.pstatic.net/static/newsstand/up/2017/0424/nsd16432873.png\",\"cate\":\"ct3\",\"amigo\":\"N\",\"viewer\":\"Y\",\"today\":\"N\",\"local\":null},{\"pid\":\"903\",\"name\":\"채널에이\",\"img\":\"https://s.pstatic.net/static/newsstand/up/2017/0424/nsd164352456.png\",\"cate\":\"ct3\",\"amigo\":\"N\",\"viewer\":\"Y\",\"today\":\"N\",\"local\":null},{\"pid\":\"215\",\"name\":\"한국경제TV\",\"img\":\"https://s.pstatic.net/static/newsstand/up/2017/0424/nsd172755139.png\",\"cate\":\"ct3\",\"amigo\":\"N\",\"viewer\":\"Y\",\"today\":\"N\",\"local\":null},{\"pid\":\"933\",\"name\":\"CNN\",\"img\":\"https://s.pstatic.net/static/newsstand/up/2017/0424/nsd173010586.png\",\"cate\":\"ct3\",\"amigo\":\"N\",\"viewer\":\"Y\",\"today\":\"N\",\"local\":null},{\"pid\":\"344\",\"name\":\"EBS\",\"img\":\"https://s.pstatic.net/static/newsstand/up/2017/0424/nsd173043431.png\",\"cate\":\"ct3\",\"amigo\":\"N\",\"viewer\":\"Y\",\"today\":\"N\",\"local\":null},{\"pid\":\"904\",\"name\":\"JTBC\",\"img\":\"https://s.pstatic.net/static/newsstand/up/2017/0424/nsd173111263.png\",\"cate\":\"ct3\",\"amigo\":\"N\",\"viewer\":\"Y\",\"today\":\"N\",\"local\":null},{\"pid\":\"980\",\"name\":\"KBC광주방송\",\"img\":\"https://s.pstatic.net/static/newsstand/up/2018/0126/nsd114019464.png\",\"cate\":\"ct3\",\"amigo\":\"N\",\"viewer\":\"Y\",\"today\":\"N\",\"local\":null},{\"pid\":\"056\",\"name\":\"KBS\",\"img\":\"https://s.pstatic.net/static/newsstand/up/2017/0424/nsd173124306.png\",\"cate\":\"ct3\",\"amigo\":\"N\",\"viewer\":\"Y\",\"today\":\"N\",\"local\":null},{\"pid\":\"906\",\"name\":\"KNN\",\"img\":\"https://s.pstatic.net/static/newsstand/up/2017/0424/nsd173151831.png\",\"cate\":\"ct3\",\"amigo\":\"N\",\"viewer\":\"Y\",\"today\":\"N\",\"local\":null},{\"pid\":\"214\",\"name\":\"MBC\",\"img\":\"https://s.pstatic.net/static/newsstand/up/2017/0424/nsd17324940.png\",\"cate\":\"ct3\",\"amigo\":\"N\",\"viewer\":\"Y\",\"today\":\"N\",\"local\":null},{\"pid\":\"057\",\"name\":\"MBN\",\"img\":\"https://s.pstatic.net/static/newsstand/up/2017/0424/nsd173223533.png\",\"cate\":\"ct3\",\"amigo\":\"N\",\"viewer\":\"Y\",\"today\":\"N\",\"local\":null},{\"pid\":\"340\",\"name\":\"OBS\",\"img\":\"https://s.pstatic.net/static/newsstand/up/2017/0424/nsd173252323.png\",\"cate\":\"ct3\",\"amigo\":\"N\",\"viewer\":\"Y\",\"today\":\"N\",\"local\":null},{\"pid\":\"055\",\"name\":\"SBS\",\"img\":\"https://s.pstatic.net/static/newsstand/up/2017/0424/nsd173335676.png\",\"cate\":\"ct3\",\"amigo\":\"N\",\"viewer\":\"Y\",\"today\":\"N\",\"local\":null},{\"pid\":\"374\",\"name\":\"SBSCNBC\",\"img\":\"https://s.pstatic.net/static/newsstand/up/2017/0424/nsd173348251.png\",\"cate\":\"ct3\",\"amigo\":\"N\",\"viewer\":\"Y\",\"today\":\"N\",\"local\":null},{\"pid\":\"989\",\"name\":\"TBC대구방송\",\"img\":\"https://s.pstatic.net/static/newsstand/up/2018/1004/nsd113150397.png\",\"cate\":\"ct3\",\"amigo\":\"N\",\"viewer\":\"Y\",\"today\":\"N\",\"local\":null},{\"pid\":\"902\",\"name\":\"TV조선\",\"img\":\"https://s.pstatic.net/static/newsstand/up/2018/0904/nsd153923387.png\",\"cate\":\"ct3\",\"amigo\":\"N\",\"viewer\":\"Y\",\"today\":\"N\",\"local\":null},{\"pid\":\"052\",\"name\":\"YTN\",\"img\":\"https://s.pstatic.net/static/newsstand/up/2017/0424/nsd173559874.png\",\"cate\":\"ct3\",\"amigo\":\"N\",\"viewer\":\"Y\",\"today\":\"N\",\"local\":null},{\"pid\":\"945\",\"name\":\"YTN사이언스\",\"img\":\"https://s.pstatic.net/static/newsstand/up/2017/0424/nsd173618176.png\",\"cate\":\"ct3\",\"amigo\":\"N\",\"viewer\":\"Y\",\"today\":\"N\",\"local\":null},{\"pid\":\"981\",\"name\":\"tbs교통방송\",\"img\":\"https://s.pstatic.net/static/newsstand/up/2018/0201/nsd19842442.png\",\"cate\":\"ct3\",\"amigo\":\"N\",\"viewer\":\"Y\",\"today\":\"N\",\"local\":null}],\"ct4\":[{\"pid\":\"910\",\"name\":\"넥스트데일리\",\"img\":\"https://s.pstatic.net/static/newsstand/up/2017/0424/nsd143938201.png\",\"cate\":\"ct4\",\"amigo\":\"N\",\"viewer\":\"Y\",\"today\":\"N\",\"local\":null},{\"pid\":\"138\",\"name\":\"디지털데일리\",\"img\":\"https://s.pstatic.net/static/newsstand/up/2017/0424/nsd14481127.png\",\"cate\":\"ct4\",\"amigo\":\"N\",\"viewer\":\"Y\",\"today\":\"N\",\"local\":null},{\"pid\":\"029\",\"name\":\"디지털타임스\",\"img\":\"https://s.pstatic.net/static/newsstand/up/2018/0719/nsd162516824.png\",\"cate\":\"ct4\",\"amigo\":\"N\",\"viewer\":\"Y\",\"today\":\"N\",\"local\":null},{\"pid\":\"952\",\"name\":\"보안뉴스\",\"img\":\"https://s.pstatic.net/static/newsstand/up/2017/1122/nsd113617499.png\",\"cate\":\"ct4\",\"amigo\":\"N\",\"viewer\":\"Y\",\"today\":\"N\",\"local\":null},{\"pid\":\"293\",\"name\":\"블로터\",\"img\":\"https://s.pstatic.net/static/newsstand/up/2018/0316/nsd175350622.png\",\"cate\":\"ct4\",\"amigo\":\"N\",\"viewer\":\"Y\",\"today\":\"N\",\"local\":null},{\"pid\":\"030\",\"name\":\"전자신문\",\"img\":\"https://s.pstatic.net/static/newsstand/up/2017/0424/nsd162528724.png\",\"cate\":\"ct4\",\"amigo\":\"N\",\"viewer\":\"Y\",\"today\":\"N\",\"local\":null},{\"pid\":\"092\",\"name\":\"지디넷코리아\",\"img\":\"https://s.pstatic.net/static/newsstand/up/2017/0424/nsd16425834.png\",\"cate\":\"ct4\",\"amigo\":\"N\",\"viewer\":\"Y\",\"today\":\"N\",\"local\":null},{\"pid\":\"953\",\"name\":\"키뉴스\",\"img\":\"https://s.pstatic.net/static/newsstand/up/2017/1122/nsd113635611.png\",\"cate\":\"ct4\",\"amigo\":\"N\",\"viewer\":\"Y\",\"today\":\"N\",\"local\":null},{\"pid\":\"977\",\"name\":\"헬로디디\",\"img\":\"https://s.pstatic.net/static/newsstand/up/2017/1214/nsd112148521.png\",\"cate\":\"ct4\",\"amigo\":\"N\",\"viewer\":\"Y\",\"today\":\"N\",\"local\":null},{\"pid\":\"917\",\"name\":\"IT조선\",\"img\":\"https://s.pstatic.net/static/newsstand/up/2017/0424/nsd173057968.png\",\"cate\":\"ct4\",\"amigo\":\"N\",\"viewer\":\"Y\",\"today\":\"N\",\"local\":null}],\"ct5\":[{\"pid\":\"330\",\"name\":\"중앙데일리\",\"img\":\"https://s.pstatic.net/static/newsstand/up/2018/0626/nsd103519292.png\",\"cate\":\"ct5\",\"amigo\":\"N\",\"viewer\":\"Y\",\"today\":\"N\",\"local\":null},{\"pid\":\"044\",\"name\":\"코리아헤럴드\",\"img\":\"https://s.pstatic.net/static/newsstand/up/2017/0424/nsd17341942.png\",\"cate\":\"ct5\",\"amigo\":\"N\",\"viewer\":\"Y\",\"today\":\"N\",\"local\":null},{\"pid\":\"326\",\"name\":\"KBS World\",\"img\":\"https://s.pstatic.net/static/newsstand/up/2017/0424/nsd173138949.png\",\"cate\":\"ct5\",\"amigo\":\"N\",\"viewer\":\"Y\",\"today\":\"N\",\"local\":null},{\"pid\":\"946\",\"name\":\"YONHAPNEWS\",\"img\":\"https://s.pstatic.net/static/newsstand/up/2017/0424/nsd173542219.png\",\"cate\":\"ct5\",\"amigo\":\"N\",\"viewer\":\"Y\",\"today\":\"N\",\"local\":null}],\"ct6\":[{\"pid\":\"447\",\"name\":\"뉴스엔\",\"img\":\"https://s.pstatic.net/static/newsstand/up/2017/0424/nsd144110729.png\",\"cate\":\"ct6\",\"amigo\":\"N\",\"viewer\":\"Y\",\"today\":\"N\",\"local\":null},{\"pid\":\"117\",\"name\":\"마이데일리\",\"img\":\"https://s.pstatic.net/static/newsstand/up/2017/0424/nsd144944309.png\",\"cate\":\"ct6\",\"amigo\":\"N\",\"viewer\":\"Y\",\"today\":\"N\",\"local\":null},{\"pid\":\"108\",\"name\":\"스타뉴스\",\"img\":\"https://s.pstatic.net/static/newsstand/up/2017/0424/nsd14592836.png\",\"cate\":\"ct6\",\"amigo\":\"N\",\"viewer\":\"Y\",\"today\":\"N\",\"local\":null},{\"pid\":\"802\",\"name\":\"스포츠Q\",\"img\":\"https://s.pstatic.net/static/newsstand/up/2019/0313/nsd71851694.png\",\"cate\":\"ct6\",\"amigo\":\"N\",\"viewer\":\"Y\",\"today\":\"N\",\"local\":null},{\"pid\":\"144\",\"name\":\"스포츠경향\",\"img\":\"https://s.pstatic.net/static/newsstand/up/2017/0424/nsd14593063.png\",\"cate\":\"ct6\",\"amigo\":\"N\",\"viewer\":\"Y\",\"today\":\"N\",\"local\":null},{\"pid\":\"314\",\"name\":\"스포츠동아\",\"img\":\"https://s.pstatic.net/static/newsstand/up/2017/0424/nsd145951763.png\",\"cate\":\"ct6\",\"amigo\":\"N\",\"viewer\":\"Y\",\"today\":\"N\",\"local\":null},{\"pid\":\"073\",\"name\":\"스포츠서울\",\"img\":\"https://s.pstatic.net/static/newsstand/up/2017/0424/nsd15042554.png\",\"cate\":\"ct6\",\"amigo\":\"N\",\"viewer\":\"Y\",\"today\":\"N\",\"local\":null},{\"pid\":\"396\",\"name\":\"스포츠월드\",\"img\":\"https://s.pstatic.net/static/newsstand/up/2017/0424/nsd1521496.png\",\"cate\":\"ct6\",\"amigo\":\"N\",\"viewer\":\"Y\",\"today\":\"N\",\"local\":null},{\"pid\":\"076\",\"name\":\"스포츠조선\",\"img\":\"https://s.pstatic.net/static/newsstand/up/2017/0424/nsd183553864.png\",\"cate\":\"ct6\",\"amigo\":\"N\",\"viewer\":\"Y\",\"today\":\"N\",\"local\":null},{\"pid\":\"940\",\"name\":\"스포츠투데이\",\"img\":\"https://s.pstatic.net/static/newsstand/up/2017/0424/nsd183628961.png\",\"cate\":\"ct6\",\"amigo\":\"N\",\"viewer\":\"Y\",\"today\":\"N\",\"local\":null},{\"pid\":\"962\",\"name\":\"스포츠한국\",\"img\":\"https://s.pstatic.net/static/newsstand/up/2017/1201/nsd161647719.png\",\"cate\":\"ct6\",\"amigo\":\"N\",\"viewer\":\"Y\",\"today\":\"N\",\"local\":null},{\"pid\":\"139\",\"name\":\"스포탈코리아\",\"img\":\"https://s.pstatic.net/static/newsstand/up/2017/0424/nsd151840663.png\",\"cate\":\"ct6\",\"amigo\":\"N\",\"viewer\":\"Y\",\"today\":\"N\",\"local\":null},{\"pid\":\"477\",\"name\":\"스포티비뉴스\",\"img\":\"https://s.pstatic.net/static/newsstand/up/2017/1221/nsd134325318.png\",\"cate\":\"ct6\",\"amigo\":\"N\",\"viewer\":\"Y\",\"today\":\"N\",\"local\":null},{\"pid\":\"311\",\"name\":\"엑스포츠뉴스\",\"img\":\"https://s.pstatic.net/static/newsstand/up/2017/0424/nsd154117.png\",\"cate\":\"ct6\",\"amigo\":\"N\",\"viewer\":\"Y\",\"today\":\"N\",\"local\":null},{\"pid\":\"529\",\"name\":\"엠스플뉴스\",\"img\":\"https://s.pstatic.net/static/newsstand/up/2018/1122/nsd113027714.png\",\"cate\":\"ct6\",\"amigo\":\"N\",\"viewer\":\"Y\",\"today\":\"N\",\"local\":null},{\"pid\":\"241\",\"name\":\"일간스포츠\",\"img\":\"https://s.pstatic.net/static/newsstand/up/2017/0424/nsd154619739.png\",\"cate\":\"ct6\",\"amigo\":\"N\",\"viewer\":\"Y\",\"today\":\"N\",\"local\":null},{\"pid\":\"947\",\"name\":\"조이뉴스24\",\"img\":\"https://s.pstatic.net/static/newsstand/up/2017/0424/nsd162759461.png\",\"cate\":\"ct6\",\"amigo\":\"N\",\"viewer\":\"Y\",\"today\":\"N\",\"local\":null},{\"pid\":\"312\",\"name\":\"텐아시아\",\"img\":\"https://s.pstatic.net/static/newsstand/up/2017/0424/nsd172519405.png\",\"cate\":\"ct6\",\"amigo\":\"N\",\"viewer\":\"Y\",\"today\":\"N\",\"local\":null},{\"pid\":\"440\",\"name\":\"티브이데일리\",\"img\":\"https://s.pstatic.net/static/newsstand/up/2017/0424/nsd172538465.png\",\"cate\":\"ct6\",\"amigo\":\"N\",\"viewer\":\"Y\",\"today\":\"N\",\"local\":null},{\"pid\":\"410\",\"name\":\"MK스포츠\",\"img\":\"https://s.pstatic.net/static/newsstand/up/2017/0424/nsd173237747.png\",\"cate\":\"ct6\",\"amigo\":\"N\",\"viewer\":\"Y\",\"today\":\"N\",\"local\":null},{\"pid\":\"109\",\"name\":\"OSEN\",\"img\":\"https://s.pstatic.net/static/newsstand/up/2017/0424/nsd17338859.png\",\"cate\":\"ct6\",\"amigo\":\"N\",\"viewer\":\"Y\",\"today\":\"N\",\"local\":null},{\"pid\":\"416\",\"name\":\"SBS연예스포츠\",\"img\":\"https://s.pstatic.net/static/newsstand/up/2017/0424/nsd173430905.png\",\"cate\":\"ct6\",\"amigo\":\"N\",\"viewer\":\"Y\",\"today\":\"N\",\"local\":null},{\"pid\":\"213\",\"name\":\"TV리포트\",\"img\":\"https://s.pstatic.net/static/newsstand/up/2017/0424/nsd173446621.png\",\"cate\":\"ct6\",\"amigo\":\"N\",\"viewer\":\"Y\",\"today\":\"N\",\"local\":null},{\"pid\":\"404\",\"name\":\"enews24\",\"img\":\"https://s.pstatic.net/static/newsstand/up/2017/0424/nsd173715121.png\",\"cate\":\"ct6\",\"amigo\":\"N\",\"viewer\":\"Y\",\"today\":\"N\",\"local\":null}],\"ct7\":[{\"pid\":\"356\",\"name\":\"게임메카\",\"img\":\"https://s.pstatic.net/static/newsstand/up/2017/0424/nsd143454437.png\",\"cate\":\"ct7\",\"amigo\":\"N\",\"viewer\":\"Y\",\"today\":\"N\",\"local\":null},{\"pid\":\"363\",\"name\":\"과학동아\",\"img\":\"https://s.pstatic.net/static/newsstand/up/2017/0424/nsd143721586.png\",\"cate\":\"ct7\",\"amigo\":\"N\",\"viewer\":\"Y\",\"today\":\"N\",\"local\":null},{\"pid\":\"908\",\"name\":\"국방일보\",\"img\":\"https://s.pstatic.net/static/newsstand/up/2017/0424/nsd143827635.png\",\"cate\":\"ct7\",\"amigo\":\"N\",\"viewer\":\"Y\",\"today\":\"N\",\"local\":null},{\"pid\":\"938\",\"name\":\"그린포스트코리아\",\"img\":\"https://s.pstatic.net/static/newsstand/up/2017/1106/nsd95428551.png\",\"cate\":\"ct7\",\"amigo\":\"N\",\"viewer\":\"Y\",\"today\":\"N\",\"local\":null},{\"pid\":\"984\",\"name\":\"낚시춘추\",\"img\":\"https://s.pstatic.net/static/newsstand/up/2018/0312/nsd11361752.png\",\"cate\":\"ct7\",\"amigo\":\"N\",\"viewer\":\"Y\",\"today\":\"N\",\"local\":null},{\"pid\":\"911\",\"name\":\"농민신문\",\"img\":\"https://s.pstatic.net/static/newsstand/up/2017/0424/nsd144020188.png\",\"cate\":\"ct7\",\"amigo\":\"N\",\"viewer\":\"Y\",\"today\":\"N\",\"local\":null},{\"pid\":\"912\",\"name\":\"뉴스컬처\",\"img\":\"https://s.pstatic.net/static/newsstand/up/2018/0525/nsd141715196.png\",\"cate\":\"ct7\",\"amigo\":\"N\",\"viewer\":\"Y\",\"today\":\"N\",\"local\":null},{\"pid\":\"905\",\"name\":\"더스쿠프\",\"img\":\"https://s.pstatic.net/static/newsstand/up/2018/0626/nsd103415937.png\",\"cate\":\"ct7\",\"amigo\":\"N\",\"viewer\":\"Y\",\"today\":\"N\",\"local\":null},{\"pid\":\"991\",\"name\":\"데일리NK\",\"img\":\"https://s.pstatic.net/static/newsstand/up/2018/1008/nsd101815434.png\",\"cate\":\"ct7\",\"amigo\":\"N\",\"viewer\":\"Y\",\"today\":\"N\",\"local\":null},{\"pid\":\"042\",\"name\":\"데일리한국\",\"img\":\"https://s.pstatic.net/static/newsstand/up/2017/0424/nsd144629578.png\",\"cate\":\"ct7\",\"amigo\":\"N\",\"viewer\":\"Y\",\"today\":\"N\",\"local\":null},{\"pid\":\"955\",\"name\":\"독서신문\",\"img\":\"https://s.pstatic.net/static/newsstand/up/2019/0207/nsd141354748.png\",\"cate\":\"ct7\",\"amigo\":\"N\",\"viewer\":\"Y\",\"today\":\"N\",\"local\":null},{\"pid\":\"345\",\"name\":\"디자인정글\",\"img\":\"https://s.pstatic.net/static/newsstand/up/2017/0424/nsd144732945.png\",\"cate\":\"ct7\",\"amigo\":\"N\",\"viewer\":\"Y\",\"today\":\"N\",\"local\":null},{\"pid\":\"915\",\"name\":\"르몽드 디플로마티크\",\"img\":\"https://s.pstatic.net/static/newsstand/up/2017/0424/nsd1449112.png\",\"cate\":\"ct7\",\"amigo\":\"N\",\"viewer\":\"Y\",\"today\":\"N\",\"local\":null},{\"pid\":\"024\",\"name\":\"매경이코노미\",\"img\":\"https://s.pstatic.net/static/newsstand/up/2017/0424/nsd145011543.png\",\"cate\":\"ct7\",\"amigo\":\"N\",\"viewer\":\"Y\",\"today\":\"N\",\"local\":null},{\"pid\":\"075\",\"name\":\"맥스무비\",\"img\":\"https://s.pstatic.net/static/newsstand/up/2017/0424/nsd183033195.png\",\"cate\":\"ct7\",\"amigo\":\"N\",\"viewer\":\"Y\",\"today\":\"N\",\"local\":null},{\"pid\":\"122\",\"name\":\"법률신문\",\"img\":\"https://s.pstatic.net/static/newsstand/up/2017/0424/nsd145431309.png\",\"cate\":\"ct7\",\"amigo\":\"N\",\"viewer\":\"Y\",\"today\":\"N\",\"local\":null},{\"pid\":\"958\",\"name\":\"베리타스알파\",\"img\":\"https://s.pstatic.net/static/newsstand/up/2017/1201/nsd161315555.png\",\"cate\":\"ct7\",\"amigo\":\"N\",\"viewer\":\"Y\",\"today\":\"N\",\"local\":null},{\"pid\":\"355\",\"name\":\"사이언스타임즈\",\"img\":\"https://s.pstatic.net/static/newsstand/up/2017/0424/nsd145657590.png\",\"cate\":\"ct7\",\"amigo\":\"N\",\"viewer\":\"Y\",\"today\":\"N\",\"local\":null},{\"pid\":\"808\",\"name\":\"산업일보\",\"img\":\"https://s.pstatic.net/static/newsstand/up/2019/0314/nsd11030667.png\",\"cate\":\"ct7\",\"amigo\":\"N\",\"viewer\":\"Y\",\"today\":\"N\",\"local\":null},{\"pid\":\"329\",\"name\":\"소년한국일보\",\"img\":\"https://s.pstatic.net/static/newsstand/up/2017/0424/nsd14583498.png\",\"cate\":\"ct7\",\"amigo\":\"N\",\"viewer\":\"Y\",\"today\":\"N\",\"local\":null},{\"pid\":\"308\",\"name\":\"시사인\",\"img\":\"https://s.pstatic.net/static/newsstand/up/2017/0424/nsd151929775.png\",\"cate\":\"ct7\",\"amigo\":\"N\",\"viewer\":\"Y\",\"today\":\"N\",\"local\":null},{\"pid\":\"135\",\"name\":\"시사저널\",\"img\":\"https://s.pstatic.net/static/newsstand/up/2017/0424/nsd153228485.png\",\"cate\":\"ct7\",\"amigo\":\"N\",\"viewer\":\"Y\",\"today\":\"N\",\"local\":null},{\"pid\":\"140\",\"name\":\"씨네21\",\"img\":\"https://s.pstatic.net/static/newsstand/up/2017/0424/nsd153251814.png\",\"cate\":\"ct7\",\"amigo\":\"N\",\"viewer\":\"Y\",\"today\":\"N\",\"local\":null},{\"pid\":\"979\",\"name\":\"약사공론\",\"img\":\"https://s.pstatic.net/static/newsstand/up/2018/0212/nsd161550299.png\",\"cate\":\"ct7\",\"amigo\":\"N\",\"viewer\":\"Y\",\"today\":\"N\",\"local\":null},{\"pid\":\"328\",\"name\":\"에이블뉴스\",\"img\":\"https://s.pstatic.net/static/newsstand/up/2017/0424/nsd154040656.png\",\"cate\":\"ct7\",\"amigo\":\"N\",\"viewer\":\"Y\",\"today\":\"N\",\"local\":null},{\"pid\":\"354\",\"name\":\"엘르\",\"img\":\"https://s.pstatic.net/static/newsstand/up/2017/0424/nsd154119884.png\",\"cate\":\"ct7\",\"amigo\":\"N\",\"viewer\":\"Y\",\"today\":\"N\",\"local\":null},{\"pid\":\"310\",\"name\":\"여성신문\",\"img\":\"https://s.pstatic.net/static/newsstand/up/2017/0424/nsd154151666.png\",\"cate\":\"ct7\",\"amigo\":\"N\",\"viewer\":\"Y\",\"today\":\"N\",\"local\":null},{\"pid\":\"950\",\"name\":\"월간중앙\",\"img\":\"https://s.pstatic.net/static/newsstand/up/2017/1122/nsd113515807.png\",\"cate\":\"ct7\",\"amigo\":\"N\",\"viewer\":\"Y\",\"today\":\"N\",\"local\":null},{\"pid\":\"988\",\"name\":\"이웃집과학자\",\"img\":\"https://s.pstatic.net/static/newsstand/up/2018/0906/nsd1125619.png\",\"cate\":\"ct7\",\"amigo\":\"N\",\"viewer\":\"Y\",\"today\":\"N\",\"local\":null},{\"pid\":\"982\",\"name\":\"이코노미조선\",\"img\":\"https://s.pstatic.net/static/newsstand/up/2018/0226/nsd13574834.png\",\"cate\":\"ct7\",\"amigo\":\"N\",\"viewer\":\"Y\",\"today\":\"N\",\"local\":null},{\"pid\":\"924\",\"name\":\"인벤\",\"img\":\"https://s.pstatic.net/static/newsstand/up/2017/0424/nsd154539705.png\",\"cate\":\"ct7\",\"amigo\":\"N\",\"viewer\":\"Y\",\"today\":\"N\",\"local\":null},{\"pid\":\"807\",\"name\":\"인사이트코리아\",\"img\":\"https://s.pstatic.net/static/newsstand/up/2019/0311/nsd10115926.png\",\"cate\":\"ct7\",\"amigo\":\"N\",\"viewer\":\"Y\",\"today\":\"N\",\"local\":null},{\"pid\":\"362\",\"name\":\"자동차생활\",\"img\":\"https://s.pstatic.net/static/newsstand/up/2017/0424/nsd162354371.png\",\"cate\":\"ct7\",\"amigo\":\"N\",\"viewer\":\"Y\",\"today\":\"N\",\"local\":null},{\"pid\":\"965\",\"name\":\"전기신문\",\"img\":\"https://s.pstatic.net/static/newsstand/up/2017/1201/nsd161818802.png\",\"cate\":\"ct7\",\"amigo\":\"N\",\"viewer\":\"Y\",\"today\":\"N\",\"local\":null},{\"pid\":\"966\",\"name\":\"정신의학신문\",\"img\":\"https://s.pstatic.net/static/newsstand/up/2017/1201/nsd161847464.png\",\"cate\":\"ct7\",\"amigo\":\"N\",\"viewer\":\"Y\",\"today\":\"N\",\"local\":null},{\"pid\":\"990\",\"name\":\"주간조선\",\"img\":\"https://s.pstatic.net/static/newsstand/up/2018/0913/nsd104554287.png\",\"cate\":\"ct7\",\"amigo\":\"N\",\"viewer\":\"Y\",\"today\":\"N\",\"local\":null},{\"pid\":\"361\",\"name\":\"채널예스\",\"img\":\"https://s.pstatic.net/static/newsstand/up/2017/0424/nsd164412540.png\",\"cate\":\"ct7\",\"amigo\":\"N\",\"viewer\":\"Y\",\"today\":\"N\",\"local\":null},{\"pid\":\"956\",\"name\":\"철강금속신문\",\"img\":\"https://s.pstatic.net/static/newsstand/up/2018/0406/nsd201637238.png\",\"cate\":\"ct7\",\"amigo\":\"N\",\"viewer\":\"Y\",\"today\":\"N\",\"local\":null},{\"pid\":\"928\",\"name\":\"컴퓨터월드\",\"img\":\"https://s.pstatic.net/static/newsstand/up/2017/0424/nsd17150763.png\",\"cate\":\"ct7\",\"amigo\":\"N\",\"viewer\":\"Y\",\"today\":\"N\",\"local\":null},{\"pid\":\"967\",\"name\":\"코리아쉬핑가제트\",\"img\":\"https://s.pstatic.net/static/newsstand/up/2017/1201/nsd162046351.png\",\"cate\":\"ct7\",\"amigo\":\"N\",\"viewer\":\"Y\",\"today\":\"N\",\"local\":null},{\"pid\":\"296\",\"name\":\"코메디닷컴\",\"img\":\"https://s.pstatic.net/static/newsstand/up/2017/0424/nsd172354656.png\",\"cate\":\"ct7\",\"amigo\":\"N\",\"viewer\":\"Y\",\"today\":\"N\",\"local\":null},{\"pid\":\"986\",\"name\":\"투데이신문\",\"img\":\"https://s.pstatic.net/static/newsstand/up/2018/0903/nsd92617272.png\",\"cate\":\"ct7\",\"amigo\":\"N\",\"viewer\":\"Y\",\"today\":\"N\",\"local\":null},{\"pid\":\"951\",\"name\":\"포브스코리아\",\"img\":\"https://s.pstatic.net/static/newsstand/up/2017/1122/nsd113546163.png\",\"cate\":\"ct7\",\"amigo\":\"N\",\"viewer\":\"Y\",\"today\":\"N\",\"local\":null},{\"pid\":\"948\",\"name\":\"한겨레21\",\"img\":\"https://s.pstatic.net/static/newsstand/up/2017/0424/nsd172654646.png\",\"cate\":\"ct7\",\"amigo\":\"N\",\"viewer\":\"Y\",\"today\":\"N\",\"local\":null},{\"pid\":\"050\",\"name\":\"한경비즈니스\",\"img\":\"https://s.pstatic.net/static/newsstand/up/2017/0424/nsd172712628.png\",\"cate\":\"ct7\",\"amigo\":\"N\",\"viewer\":\"Y\",\"today\":\"N\",\"local\":null},{\"pid\":\"384\",\"name\":\"한국대학신문\",\"img\":\"https://s.pstatic.net/static/newsstand/up/2017/0424/nsd172816434.png\",\"cate\":\"ct7\",\"amigo\":\"N\",\"viewer\":\"Y\",\"today\":\"N\",\"local\":null},{\"pid\":\"346\",\"name\":\"헬스조선\",\"img\":\"https://s.pstatic.net/static/newsstand/up/2017/0424/nsd172911723.png\",\"cate\":\"ct7\",\"amigo\":\"N\",\"viewer\":\"Y\",\"today\":\"N\",\"local\":null},{\"pid\":\"806\",\"name\":\"MONEY\",\"img\":\"https://s.pstatic.net/static/newsstand/up/2019/0319/nsd13114644.png\",\"cate\":\"ct7\",\"amigo\":\"N\",\"viewer\":\"Y\",\"today\":\"N\",\"local\":null},{\"pid\":\"364\",\"name\":\"PC사랑\",\"img\":\"https://s.pstatic.net/static/newsstand/up/2017/0424/nsd173322105.png\",\"cate\":\"ct7\",\"amigo\":\"N\",\"viewer\":\"Y\",\"today\":\"N\",\"local\":null},{\"pid\":\"949\",\"name\":\"TheAsiaN\",\"img\":\"https://s.pstatic.net/static/newsstand/up/2017/0424/nsd173523100.png\",\"cate\":\"ct7\",\"amigo\":\"N\",\"viewer\":\"Y\",\"today\":\"N\",\"local\":null}],\"ct8\":[{\"pid\":\"335\",\"name\":\"강원도민일보\",\"img\":\"https://s.pstatic.net/static/newsstand/up/2017/0424/nsd14341394.png\",\"cate\":\"ct8\",\"amigo\":\"N\",\"viewer\":\"Y\",\"today\":\"N\",\"local\":[{\"name\":\"강원\",\"code\":\"01\"}]},{\"pid\":\"087\",\"name\":\"강원일보\",\"img\":\"https://s.pstatic.net/static/newsstand/up/2017/0424/nsd143434899.png\",\"cate\":\"ct8\",\"amigo\":\"N\",\"viewer\":\"Y\",\"today\":\"N\",\"local\":[{\"name\":\"강원\",\"code\":\"01\"}]},{\"pid\":\"339\",\"name\":\"경기일보\",\"img\":\"https://s.pstatic.net/static/newsstand/up/2017/0424/nsd143511509.png\",\"cate\":\"ct8\",\"amigo\":\"N\",\"viewer\":\"Y\",\"today\":\"N\",\"local\":[{\"name\":\"경기\",\"code\":\"02\"},{\"name\":\"인천\",\"code\":\"11\"}]},{\"pid\":\"333\",\"name\":\"경남신문\",\"img\":\"https://s.pstatic.net/static/newsstand/up/2017/0424/nsd143531816.png\",\"cate\":\"ct8\",\"amigo\":\"N\",\"viewer\":\"Y\",\"today\":\"N\",\"local\":[{\"name\":\"경남\",\"code\":\"03\"},{\"name\":\"부산\",\"code\":\"08\"},{\"name\":\"울산\",\"code\":\"10\"}]},{\"pid\":\"978\",\"name\":\"경북도민일보\",\"img\":\"https://s.pstatic.net/static/newsstand/up/2017/1214/nsd111929299.png\",\"cate\":\"ct8\",\"amigo\":\"N\",\"viewer\":\"Y\",\"today\":\"N\",\"local\":[{\"name\":\"경북\",\"code\":\"04\"},{\"name\":\"대구\",\"code\":\"06\"}]},{\"pid\":\"907\",\"name\":\"경북매일신문\",\"img\":\"https://s.pstatic.net/static/newsstand/up/2017/0424/nsd143555345.png\",\"cate\":\"ct8\",\"amigo\":\"N\",\"viewer\":\"Y\",\"today\":\"N\",\"local\":[{\"name\":\"경북\",\"code\":\"04\"},{\"name\":\"대구\",\"code\":\"06\"}]},{\"pid\":\"337\",\"name\":\"경북일보\",\"img\":\"https://s.pstatic.net/static/newsstand/up/2017/0424/nsd143612100.png\",\"cate\":\"ct8\",\"amigo\":\"N\",\"viewer\":\"Y\",\"today\":\"N\",\"local\":[{\"name\":\"경북\",\"code\":\"04\"},{\"name\":\"대구\",\"code\":\"06\"},{\"name\":\"울산\",\"code\":\"10\"}]},{\"pid\":\"935\",\"name\":\"경상일보\",\"img\":\"https://s.pstatic.net/static/newsstand/up/2017/0424/nsd143628241.png\",\"cate\":\"ct8\",\"amigo\":\"N\",\"viewer\":\"Y\",\"today\":\"N\",\"local\":[{\"name\":\"울산\",\"code\":\"10\"}]},{\"pid\":\"338\",\"name\":\"경인일보\",\"img\":\"https://s.pstatic.net/static/newsstand/up/2017/0424/nsd143645415.png\",\"cate\":\"ct8\",\"amigo\":\"N\",\"viewer\":\"Y\",\"today\":\"N\",\"local\":[{\"name\":\"경기\",\"code\":\"02\"},{\"name\":\"인천\",\"code\":\"11\"}]},{\"pid\":\"301\",\"name\":\"광주드림\",\"img\":\"https://s.pstatic.net/static/newsstand/up/2017/1201/nsd17629468.png\",\"cate\":\"ct8\",\"amigo\":\"N\",\"viewer\":\"Y\",\"today\":\"N\",\"local\":[{\"name\":\"광주\",\"code\":\"05\"}]},{\"pid\":\"083\",\"name\":\"광주일보\",\"img\":\"https://s.pstatic.net/static/newsstand/up/2017/0424/nsd143742681.png\",\"cate\":\"ct8\",\"amigo\":\"N\",\"viewer\":\"Y\",\"today\":\"N\",\"local\":[{\"name\":\"광주\",\"code\":\"05\"},{\"name\":\"전남\",\"code\":\"12\"}]},{\"pid\":\"332\",\"name\":\"국제신문\",\"img\":\"https://s.pstatic.net/static/newsstand/up/2017/0424/nsd143844997.png\",\"cate\":\"ct8\",\"amigo\":\"N\",\"viewer\":\"Y\",\"today\":\"N\",\"local\":[{\"name\":\"경남\",\"code\":\"03\"},{\"name\":\"부산\",\"code\":\"08\"},{\"name\":\"울산\",\"code\":\"10\"}]},{\"pid\":\"909\",\"name\":\"기호일보\",\"img\":\"https://s.pstatic.net/static/newsstand/up/2017/0424/nsd14392544.png\",\"cate\":\"ct8\",\"amigo\":\"N\",\"viewer\":\"Y\",\"today\":\"N\",\"local\":[{\"name\":\"경기\",\"code\":\"02\"},{\"name\":\"인천\",\"code\":\"11\"}]},{\"pid\":\"936\",\"name\":\"대구일보\",\"img\":\"https://s.pstatic.net/static/newsstand/up/2017/0424/nsd144433908.png\",\"cate\":\"ct8\",\"amigo\":\"N\",\"viewer\":\"Y\",\"today\":\"N\",\"local\":[{\"name\":\"경북\",\"code\":\"04\"},{\"name\":\"대구\",\"code\":\"06\"}]},{\"pid\":\"089\",\"name\":\"대전일보\",\"img\":\"https://s.pstatic.net/static/newsstand/up/2017/0424/nsd144457151.png\",\"cate\":\"ct8\",\"amigo\":\"N\",\"viewer\":\"Y\",\"today\":\"N\",\"local\":[{\"name\":\"대전\",\"code\":\"07\"},{\"name\":\"충남\",\"code\":\"15\"},{\"name\":\"충북\",\"code\":\"16\"},{\"name\":\"세종\",\"code\":\"17\"}]},{\"pid\":\"088\",\"name\":\"매일신문\",\"img\":\"https://s.pstatic.net/static/newsstand/up/2017/0424/nsd14505572.png\",\"cate\":\"ct8\",\"amigo\":\"N\",\"viewer\":\"Y\",\"today\":\"N\",\"local\":[{\"name\":\"경북\",\"code\":\"04\"},{\"name\":\"대구\",\"code\":\"06\"}]},{\"pid\":\"976\",\"name\":\"무등일보\",\"img\":\"https://s.pstatic.net/static/newsstand/up/2017/1221/nsd13422489.png\",\"cate\":\"ct8\",\"amigo\":\"N\",\"viewer\":\"Y\",\"today\":\"N\",\"local\":[{\"name\":\"광주\",\"code\":\"05\"},{\"name\":\"전남\",\"code\":\"12\"}]},{\"pid\":\"082\",\"name\":\"부산일보\",\"img\":\"https://s.pstatic.net/static/newsstand/up/2017/0424/nsd145450220.png\",\"cate\":\"ct8\",\"amigo\":\"N\",\"viewer\":\"Y\",\"today\":\"N\",\"local\":[{\"name\":\"경남\",\"code\":\"03\"},{\"name\":\"부산\",\"code\":\"08\"},{\"name\":\"울산\",\"code\":\"10\"}]},{\"pid\":\"385\",\"name\":\"영남일보\",\"img\":\"https://s.pstatic.net/static/newsstand/up/2017/0424/nsd154255890.png\",\"cate\":\"ct8\",\"amigo\":\"N\",\"viewer\":\"Y\",\"today\":\"N\",\"local\":[{\"name\":\"경북\",\"code\":\"04\"},{\"name\":\"대구\",\"code\":\"06\"}]},{\"pid\":\"387\",\"name\":\"인천일보\",\"img\":\"https://s.pstatic.net/static/newsstand/up/2017/0424/nsd154558680.png\",\"cate\":\"ct8\",\"amigo\":\"N\",\"viewer\":\"Y\",\"today\":\"N\",\"local\":[{\"name\":\"경기\",\"code\":\"02\"},{\"name\":\"인천\",\"code\":\"11\"}]},{\"pid\":\"388\",\"name\":\"전남일보\",\"img\":\"https://s.pstatic.net/static/newsstand/up/2019/0207/nsd141413617.png\",\"cate\":\"ct8\",\"amigo\":\"N\",\"viewer\":\"Y\",\"today\":\"N\",\"local\":[{\"name\":\"광주\",\"code\":\"05\"},{\"name\":\"전남\",\"code\":\"12\"}]},{\"pid\":\"937\",\"name\":\"전북도민일보\",\"img\":\"https://s.pstatic.net/static/newsstand/up/2017/0424/nsd16244628.png\",\"cate\":\"ct8\",\"amigo\":\"N\",\"viewer\":\"Y\",\"today\":\"N\",\"local\":[{\"name\":\"전북\",\"code\":\"13\"}]},{\"pid\":\"336\",\"name\":\"전북일보\",\"img\":\"https://s.pstatic.net/static/newsstand/up/2017/0424/nsd16256807.png\",\"cate\":\"ct8\",\"amigo\":\"N\",\"viewer\":\"Y\",\"today\":\"N\",\"local\":[{\"name\":\"전북\",\"code\":\"13\"}]},{\"pid\":\"901\",\"name\":\"제민일보\",\"img\":\"https://s.pstatic.net/static/newsstand/up/2017/0424/nsd16254923.png\",\"cate\":\"ct8\",\"amigo\":\"N\",\"viewer\":\"Y\",\"today\":\"N\",\"local\":[{\"name\":\"제주\",\"code\":\"14\"}]},{\"pid\":\"389\",\"name\":\"제주도민일보\",\"img\":\"https://s.pstatic.net/static/newsstand/up/2017/0424/nsd1626960.png\",\"cate\":\"ct8\",\"amigo\":\"N\",\"viewer\":\"Y\",\"today\":\"N\",\"local\":[{\"name\":\"제주\",\"code\":\"14\"}]},{\"pid\":\"334\",\"name\":\"제주의소리\",\"img\":\"https://s.pstatic.net/static/newsstand/up/2017/0424/nsd162631114.png\",\"cate\":\"ct8\",\"amigo\":\"N\",\"viewer\":\"Y\",\"today\":\"N\",\"local\":[{\"name\":\"제주\",\"code\":\"14\"}]},{\"pid\":\"390\",\"name\":\"중도일보\",\"img\":\"https://s.pstatic.net/static/newsstand/up/2017/0424/nsd162822857.png\",\"cate\":\"ct8\",\"amigo\":\"N\",\"viewer\":\"Y\",\"today\":\"N\",\"local\":[{\"name\":\"대전\",\"code\":\"07\"},{\"name\":\"충남\",\"code\":\"15\"}]},{\"pid\":\"983\",\"name\":\"중부매일신문\",\"img\":\"https://s.pstatic.net/static/newsstand/up/2018/0212/nsd162058391.png\",\"cate\":\"ct8\",\"amigo\":\"N\",\"viewer\":\"Y\",\"today\":\"N\",\"local\":[{\"name\":\"대전\",\"code\":\"07\"},{\"name\":\"충남\",\"code\":\"15\"},{\"name\":\"충북\",\"code\":\"16\"},{\"name\":\"세종\",\"code\":\"17\"}]},{\"pid\":\"926\",\"name\":\"중부일보\",\"img\":\"https://s.pstatic.net/static/newsstand/up/2017/0424/nsd162931439.png\",\"cate\":\"ct8\",\"amigo\":\"N\",\"viewer\":\"Y\",\"today\":\"N\",\"local\":[{\"name\":\"경기\",\"code\":\"02\"},{\"name\":\"인천\",\"code\":\"11\"}]},{\"pid\":\"927\",\"name\":\"충북일보\",\"img\":\"https://s.pstatic.net/static/newsstand/up/2017/0424/nsd164449667.png\",\"cate\":\"ct8\",\"amigo\":\"N\",\"viewer\":\"Y\",\"today\":\"N\",\"local\":[{\"name\":\"충북\",\"code\":\"16\"},{\"name\":\"세종\",\"code\":\"17\"}]},{\"pid\":\"391\",\"name\":\"충청일보\",\"img\":\"https://s.pstatic.net/static/newsstand/up/2017/0424/nsd17115481.png\",\"cate\":\"ct8\",\"amigo\":\"N\",\"viewer\":\"Y\",\"today\":\"N\",\"local\":[{\"name\":\"대전\",\"code\":\"07\"},{\"name\":\"충남\",\"code\":\"15\"},{\"name\":\"충북\",\"code\":\"16\"},{\"name\":\"세종\",\"code\":\"17\"}]},{\"pid\":\"331\",\"name\":\"충청투데이\",\"img\":\"https://s.pstatic.net/static/newsstand/up/2017/0424/nsd17133978.png\",\"cate\":\"ct8\",\"amigo\":\"N\",\"viewer\":\"Y\",\"today\":\"N\",\"local\":[{\"name\":\"대전\",\"code\":\"07\"},{\"name\":\"충남\",\"code\":\"15\"},{\"name\":\"충북\",\"code\":\"16\"},{\"name\":\"세종\",\"code\":\"17\"}]},{\"pid\":\"987\",\"name\":\"한라일보\",\"img\":\"https://s.pstatic.net/static/newsstand/up/2018/0917/nsd1045519.png\",\"cate\":\"ct8\",\"amigo\":\"N\",\"viewer\":\"Y\",\"today\":\"N\",\"local\":null}]},\\n\\t\\t\\t\\t\\tisSupportedFlicking : false\\n    \\t\\t    });\\n\\n\\t\\t\\t\\tnew naver.main.Timesquare({\\n    \\t    \\t    aOrderedPanel : [{\"code\":\"weather\",\"name\":\"날씨\"},{\"code\":\"news\",\"name\":\"뉴스\"},{\"code\":\"sports\",\"name\":\"스포츠\"},{\"code\":\"finance\",\"name\":\"금융\"},{\"code\":\"conversation\",\"name\":\"회화\"},{\"code\":\"lifetools\",\"name\":\"생활도구\"}],\\n        \\t    \\tisSupportedFlicking : false\\n\\t\\t        });\\n\\n\\t\\t\\t\\tnew naver.main.RealtimeKeyword();\\n\\t\\t\\t\\tif ( !($Agent().navigator().ie && $Agent().navigator().version <= 8) ) {\\t\\n\\t\\t\\t\\t\\tnaver_adbd.Manager().activate();\\n\\t\\t\\t\\t}\\n\\n\\t\\t\\t\\tnaver.main.SchoolFixed.init(\"(none)\");\\n\\t\\t\\t\\tnaver.main.bestseller.init();\\n\\t\\t\\t\\tnaver.main.PromotionTopBanner.init();\\n\\n\\t\\t\\t\\tsetTimeout(function() {\\n\\t\\t\\t\\t\\tif (iframeLazyLoad) {\\n\\t\\t\\t\\t\\t\\t$Element(\"da_iframe_time\").attr(\"src\", urlDaIframeTime);\\n\\t\\t\\t\\t\\t\\tvar welMinime = $Element(\"minime\");\\n\\t\\t\\t\\t\\t\\tif (welMinime) {\\n\\t\\t\\t\\t\\t\\t\\twelMinime.attr(\"src\", urlMinime);\\n\\t\\t\\t\\t\\t\\t}\\n\\t\\t\\t\\t\\t\\t$Element(\"da_iframe_rolling\").attr(\"src\", urlDaIframeRolling);\\n\\t\\t\\t\\t\\t\\t$Element(\"cnsv_shbx\").attr(\"src\", urlCnsvShbx);\\n\\t\\t\\t\\t\\t\\t$Element(\"da_iframe_below\").attr(\"src\", urlDaIframeBelow);\\n\\t\\t\\t\\t\\t}\\n\\t\\t\\t\\t\\t//console.log(performance.timing.loadEventEnd - performance.timing.navigationStart);\\n\\t\\t\\t\\t}, 0);\\n\\n\\t\\t\\t});\\n\\t\\t}\\n\\n\\t\\tif (window.addEventListener) { \\n\\t\\t\\twindow.addEventListener(\"load\", function() { loadJS(); }, true);\\n\\t\\t} else if (window.attachEvent) { \\n\\t\\t\\twindow.attachEvent(\"onload\", loadJS);\\n\\t\\t} else {\\n\\t\\t\\twindow.onload = loadJS;\\n\\t\\t}\\n\\t\\t\\n\\t</script>\\n\\n\\n</body></html>'"
      ]
     },
     "execution_count": 18,
     "metadata": {},
     "output_type": "execute_result"
    }
   ],
   "source": [
    "# bs4와 selenium 조합\n",
    "# selenium으로 읽어들인 페이지소스 bs4로 변환해서 쓸 수 있다\n",
    "\n",
    "driver = webdriver.Chrome(driver_path)\n",
    "\n",
    "driver.get(url)\n",
    "\n",
    "driver.page_source    #  type 찍어보면 str"
   ]
  },
  {
   "cell_type": "code",
   "execution_count": 17,
   "metadata": {},
   "outputs": [
    {
     "ename": "WebDriverException",
     "evalue": "Message: chrome not reachable\n  (Session info: chrome=75.0.3770.80)\n",
     "output_type": "error",
     "traceback": [
      "\u001b[1;31m---------------------------------------------------------------------------\u001b[0m",
      "\u001b[1;31mWebDriverException\u001b[0m                        Traceback (most recent call last)",
      "\u001b[1;32m<ipython-input-17-731af99b6e45>\u001b[0m in \u001b[0;36m<module>\u001b[1;34m\u001b[0m\n\u001b[1;32m----> 1\u001b[1;33m \u001b[0msoup\u001b[0m \u001b[1;33m=\u001b[0m \u001b[0mBeautifulSoup\u001b[0m\u001b[1;33m(\u001b[0m\u001b[0mdriver\u001b[0m\u001b[1;33m.\u001b[0m\u001b[0mpage_source\u001b[0m\u001b[1;33m,\u001b[0m\u001b[1;34m'lxml'\u001b[0m\u001b[1;33m)\u001b[0m   \u001b[1;31m#bs4로 형변환\u001b[0m\u001b[1;33m\u001b[0m\u001b[1;33m\u001b[0m\u001b[0m\n\u001b[0m\u001b[0;32m      2\u001b[0m \u001b[1;33m\u001b[0m\u001b[0m\n\u001b[0;32m      3\u001b[0m \u001b[0mtag_div\u001b[0m \u001b[1;33m=\u001b[0m \u001b[0msoup\u001b[0m\u001b[1;33m.\u001b[0m\u001b[0mfind_all\u001b[0m\u001b[1;33m(\u001b[0m\u001b[1;34m'div'\u001b[0m\u001b[1;33m)\u001b[0m\u001b[1;33m\u001b[0m\u001b[1;33m\u001b[0m\u001b[0m\n",
      "\u001b[1;32mC:\\ProgramData\\Anaconda3\\envs\\finance\\lib\\site-packages\\selenium\\webdriver\\remote\\webdriver.py\u001b[0m in \u001b[0;36mpage_source\u001b[1;34m(self)\u001b[0m\n\u001b[0;32m    677\u001b[0m             \u001b[0mdriver\u001b[0m\u001b[1;33m.\u001b[0m\u001b[0mpage_source\u001b[0m\u001b[1;33m\u001b[0m\u001b[1;33m\u001b[0m\u001b[0m\n\u001b[0;32m    678\u001b[0m         \"\"\"\n\u001b[1;32m--> 679\u001b[1;33m         \u001b[1;32mreturn\u001b[0m \u001b[0mself\u001b[0m\u001b[1;33m.\u001b[0m\u001b[0mexecute\u001b[0m\u001b[1;33m(\u001b[0m\u001b[0mCommand\u001b[0m\u001b[1;33m.\u001b[0m\u001b[0mGET_PAGE_SOURCE\u001b[0m\u001b[1;33m)\u001b[0m\u001b[1;33m[\u001b[0m\u001b[1;34m'value'\u001b[0m\u001b[1;33m]\u001b[0m\u001b[1;33m\u001b[0m\u001b[1;33m\u001b[0m\u001b[0m\n\u001b[0m\u001b[0;32m    680\u001b[0m \u001b[1;33m\u001b[0m\u001b[0m\n\u001b[0;32m    681\u001b[0m     \u001b[1;32mdef\u001b[0m \u001b[0mclose\u001b[0m\u001b[1;33m(\u001b[0m\u001b[0mself\u001b[0m\u001b[1;33m)\u001b[0m\u001b[1;33m:\u001b[0m\u001b[1;33m\u001b[0m\u001b[1;33m\u001b[0m\u001b[0m\n",
      "\u001b[1;32mC:\\ProgramData\\Anaconda3\\envs\\finance\\lib\\site-packages\\selenium\\webdriver\\remote\\webdriver.py\u001b[0m in \u001b[0;36mexecute\u001b[1;34m(self, driver_command, params)\u001b[0m\n\u001b[0;32m    319\u001b[0m         \u001b[0mresponse\u001b[0m \u001b[1;33m=\u001b[0m \u001b[0mself\u001b[0m\u001b[1;33m.\u001b[0m\u001b[0mcommand_executor\u001b[0m\u001b[1;33m.\u001b[0m\u001b[0mexecute\u001b[0m\u001b[1;33m(\u001b[0m\u001b[0mdriver_command\u001b[0m\u001b[1;33m,\u001b[0m \u001b[0mparams\u001b[0m\u001b[1;33m)\u001b[0m\u001b[1;33m\u001b[0m\u001b[1;33m\u001b[0m\u001b[0m\n\u001b[0;32m    320\u001b[0m         \u001b[1;32mif\u001b[0m \u001b[0mresponse\u001b[0m\u001b[1;33m:\u001b[0m\u001b[1;33m\u001b[0m\u001b[1;33m\u001b[0m\u001b[0m\n\u001b[1;32m--> 321\u001b[1;33m             \u001b[0mself\u001b[0m\u001b[1;33m.\u001b[0m\u001b[0merror_handler\u001b[0m\u001b[1;33m.\u001b[0m\u001b[0mcheck_response\u001b[0m\u001b[1;33m(\u001b[0m\u001b[0mresponse\u001b[0m\u001b[1;33m)\u001b[0m\u001b[1;33m\u001b[0m\u001b[1;33m\u001b[0m\u001b[0m\n\u001b[0m\u001b[0;32m    322\u001b[0m             response['value'] = self._unwrap_value(\n\u001b[0;32m    323\u001b[0m                 response.get('value', None))\n",
      "\u001b[1;32mC:\\ProgramData\\Anaconda3\\envs\\finance\\lib\\site-packages\\selenium\\webdriver\\remote\\errorhandler.py\u001b[0m in \u001b[0;36mcheck_response\u001b[1;34m(self, response)\u001b[0m\n\u001b[0;32m    240\u001b[0m                 \u001b[0malert_text\u001b[0m \u001b[1;33m=\u001b[0m \u001b[0mvalue\u001b[0m\u001b[1;33m[\u001b[0m\u001b[1;34m'alert'\u001b[0m\u001b[1;33m]\u001b[0m\u001b[1;33m.\u001b[0m\u001b[0mget\u001b[0m\u001b[1;33m(\u001b[0m\u001b[1;34m'text'\u001b[0m\u001b[1;33m)\u001b[0m\u001b[1;33m\u001b[0m\u001b[1;33m\u001b[0m\u001b[0m\n\u001b[0;32m    241\u001b[0m             \u001b[1;32mraise\u001b[0m \u001b[0mexception_class\u001b[0m\u001b[1;33m(\u001b[0m\u001b[0mmessage\u001b[0m\u001b[1;33m,\u001b[0m \u001b[0mscreen\u001b[0m\u001b[1;33m,\u001b[0m \u001b[0mstacktrace\u001b[0m\u001b[1;33m,\u001b[0m \u001b[0malert_text\u001b[0m\u001b[1;33m)\u001b[0m\u001b[1;33m\u001b[0m\u001b[1;33m\u001b[0m\u001b[0m\n\u001b[1;32m--> 242\u001b[1;33m         \u001b[1;32mraise\u001b[0m \u001b[0mexception_class\u001b[0m\u001b[1;33m(\u001b[0m\u001b[0mmessage\u001b[0m\u001b[1;33m,\u001b[0m \u001b[0mscreen\u001b[0m\u001b[1;33m,\u001b[0m \u001b[0mstacktrace\u001b[0m\u001b[1;33m)\u001b[0m\u001b[1;33m\u001b[0m\u001b[1;33m\u001b[0m\u001b[0m\n\u001b[0m\u001b[0;32m    243\u001b[0m \u001b[1;33m\u001b[0m\u001b[0m\n\u001b[0;32m    244\u001b[0m     \u001b[1;32mdef\u001b[0m \u001b[0m_value_or_default\u001b[0m\u001b[1;33m(\u001b[0m\u001b[0mself\u001b[0m\u001b[1;33m,\u001b[0m \u001b[0mobj\u001b[0m\u001b[1;33m,\u001b[0m \u001b[0mkey\u001b[0m\u001b[1;33m,\u001b[0m \u001b[0mdefault\u001b[0m\u001b[1;33m)\u001b[0m\u001b[1;33m:\u001b[0m\u001b[1;33m\u001b[0m\u001b[1;33m\u001b[0m\u001b[0m\n",
      "\u001b[1;31mWebDriverException\u001b[0m: Message: chrome not reachable\n  (Session info: chrome=75.0.3770.80)\n"
     ]
    }
   ],
   "source": [
    "soup = BeautifulSoup(driver.page_source,'lxml')   #bs4로 형변환\n",
    "\n",
    "tag_div = soup.find_all('div')"
   ]
  },
  {
   "cell_type": "code",
   "execution_count": null,
   "metadata": {},
   "outputs": [],
   "source": []
  }
 ],
 "metadata": {
  "kernelspec": {
   "display_name": "Python 3",
   "language": "python",
   "name": "python3"
  },
  "language_info": {
   "codemirror_mode": {
    "name": "ipython",
    "version": 3
   },
   "file_extension": ".py",
   "mimetype": "text/x-python",
   "name": "python",
   "nbconvert_exporter": "python",
   "pygments_lexer": "ipython3",
   "version": "3.7.3"
  }
 },
 "nbformat": 4,
 "nbformat_minor": 2
}
