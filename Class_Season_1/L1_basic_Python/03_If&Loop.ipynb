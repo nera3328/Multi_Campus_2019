{
 "cells": [
  {
   "cell_type": "markdown",
   "metadata": {},
   "source": [
    "# 조건제어(if, if elif, if else, if if)"
   ]
  },
  {
   "cell_type": "markdown",
   "metadata": {},
   "source": [
    "### if(만약에말야)"
   ]
  },
  {
   "cell_type": "code",
   "execution_count": 11,
   "metadata": {},
   "outputs": [],
   "source": [
    "THI = 3"
   ]
  },
  {
   "cell_type": "markdown",
   "metadata": {},
   "source": [
    "Quiz) 불쾌지수가 5 이상일 때는 \"달달한 레몬에이드 한잔 어떠세요?\"라고 출력해주세요."
   ]
  },
  {
   "cell_type": "code",
   "execution_count": 12,
   "metadata": {},
   "outputs": [
    {
     "name": "stdout",
     "output_type": "stream",
     "text": [
      "오늘도 화이팅!\n"
     ]
    }
   ],
   "source": [
    "if THI >= 5: #주절:\n",
    "    print(\"달달쓰?\") #    종속절\n",
    "print(\"오늘도 화이팅!\")"
   ]
  },
  {
   "cell_type": "markdown",
   "metadata": {},
   "source": [
    "### if else(그렇지않다면)"
   ]
  },
  {
   "cell_type": "markdown",
   "metadata": {},
   "source": [
    "Quiz) THI >=5 : \"달달쓰?\" THI < 5 : \"아아쓰?\""
   ]
  },
  {
   "cell_type": "code",
   "execution_count": 13,
   "metadata": {},
   "outputs": [
    {
     "name": "stdout",
     "output_type": "stream",
     "text": [
      "아아?\n",
      "오늘도 화이팅!\n"
     ]
    }
   ],
   "source": [
    "if THI >= 5:\n",
    "    print(\"달달?\")\n",
    "else:\n",
    "    print(\"아아?\")\n",
    "print('오늘도 화이팅!')"
   ]
  },
  {
   "cell_type": "code",
   "execution_count": 17,
   "metadata": {},
   "outputs": [],
   "source": [
    "THI, SI = 6, 3"
   ]
  },
  {
   "cell_type": "markdown",
   "metadata": {},
   "source": [
    "Quiz) THI >=5 and SI >=5 : \"Go Home\", else : \"함께하자\""
   ]
  },
  {
   "cell_type": "code",
   "execution_count": 18,
   "metadata": {},
   "outputs": [
    {
     "name": "stdout",
     "output_type": "stream",
     "text": [
      "together\n"
     ]
    }
   ],
   "source": [
    "if THI >= 5 and SI >= 5:\n",
    "    print(\"Go Home\")\n",
    "else:\n",
    "    print(\"together\")"
   ]
  },
  {
   "cell_type": "markdown",
   "metadata": {},
   "source": [
    "### if elif (그렇지않고!)"
   ]
  },
  {
   "cell_type": "markdown",
   "metadata": {},
   "source": [
    "Quiz)   \n",
    "THI >=5 and SI >=5: \"Go Home\"  \n",
    "THI < 5 and SI >=5: \"Go Sleep\"  \n",
    "THI >=5 and SI < 5: \"Go DalDal\"\n",
    "else : \"Go Study\""
   ]
  },
  {
   "cell_type": "code",
   "execution_count": 20,
   "metadata": {},
   "outputs": [
    {
     "name": "stdout",
     "output_type": "stream",
     "text": [
      "Go Twosome\n"
     ]
    }
   ],
   "source": [
    "if THI >= 5 and SI >= 5:\n",
    "    print(\"Go Home\")\n",
    "elif THI < 5 and SI >= 5:\n",
    "    print(\"Go Sleep\")\n",
    "elif THI >= 5 and SI < 5:\n",
    "    print(\"Go Twosome\")\n",
    "else:\n",
    "    print(\"Go Study\")"
   ]
  },
  {
   "cell_type": "markdown",
   "metadata": {},
   "source": [
    "### if if (만약에, 만약에말야)"
   ]
  },
  {
   "cell_type": "markdown",
   "metadata": {},
   "source": [
    "Quiz)   \n",
    "THI >=5 and SI >=5: \"Go Home\"  \n",
    "THI < 5 and SI >=5: \"Go Sleep\"  \n",
    "THI >=5 and SI < 5: \"Go DalDal\"\n",
    "else : \"Go Study\""
   ]
  },
  {
   "cell_type": "code",
   "execution_count": 21,
   "metadata": {},
   "outputs": [
    {
     "name": "stdout",
     "output_type": "stream",
     "text": [
      "DalDal\n"
     ]
    }
   ],
   "source": [
    "if THI >= 5:\n",
    "    if SI >= 5:\n",
    "        print(\"Home\")\n",
    "    else:\n",
    "        print(\"DalDal\")\n",
    "else:\n",
    "    if SI >= 5:\n",
    "        print('Sleep')\n",
    "    else:\n",
    "        print(\"study\")"
   ]
  },
  {
   "cell_type": "markdown",
   "metadata": {},
   "source": [
    "### if 제어문에 대한 고찰"
   ]
  },
  {
   "cell_type": "markdown",
   "metadata": {},
   "source": [
    "if (조건) : # (조건)이 참이면 = (조건)의 return값이 1(True)이면  \n",
    "    (종속절) # (종속절) 실행된다."
   ]
  },
  {
   "cell_type": "markdown",
   "metadata": {},
   "source": [
    "- (조건) -> 논리/비교연산 : 결과가 True = return값이 1(True)\n",
    "- (조건) -> 숫자 자체 : 0이 아닌 숫자 = return값이 1(True)\n",
    "- (조건) -> 문자 자체 : ''이 아닌 문자 = return값이 1(True)"
   ]
  },
  {
   "cell_type": "code",
   "execution_count": 24,
   "metadata": {},
   "outputs": [
    {
     "name": "stdout",
     "output_type": "stream",
     "text": [
      "너 0이 아니구나! True!\n"
     ]
    }
   ],
   "source": [
    "if 15:\n",
    "    print(\"너 0이 아니구나! True!\")"
   ]
  },
  {
   "cell_type": "code",
   "execution_count": 26,
   "metadata": {},
   "outputs": [
    {
     "name": "stdout",
     "output_type": "stream",
     "text": [
      "너 ''이구나 False!\n"
     ]
    }
   ],
   "source": [
    "if '':\n",
    "    print(\"너 ''이 아니구나! True!\")\n",
    "else:\n",
    "    print(\"너 ''이구나 False!\")"
   ]
  },
  {
   "cell_type": "markdown",
   "metadata": {},
   "source": [
    "Quiz) a의 값이 짝수면 \"짝수구나!\"  \n",
    "홀수면 \"홀수로구나!\"  \n",
    "라고 출력하는 코드를 최대한 단순하게 작성해보세요!"
   ]
  },
  {
   "cell_type": "code",
   "execution_count": 28,
   "metadata": {},
   "outputs": [
    {
     "name": "stdout",
     "output_type": "stream",
     "text": [
      "홀수로구나\n"
     ]
    }
   ],
   "source": [
    "a = 23\n",
    "if a%2 == 0:\n",
    "    print('짝수구나')\n",
    "else:\n",
    "    print('홀수로구나')"
   ]
  },
  {
   "cell_type": "code",
   "execution_count": 30,
   "metadata": {},
   "outputs": [
    {
     "name": "stdout",
     "output_type": "stream",
     "text": [
      "짝수로구나\n"
     ]
    }
   ],
   "source": [
    "a = 22\n",
    "if a%2:\n",
    "    print('홀수구나')\n",
    "else:\n",
    "    print('짝수로구나')"
   ]
  },
  {
   "cell_type": "markdown",
   "metadata": {},
   "source": [
    "# For 제어문(반복제어문)"
   ]
  },
  {
   "cell_type": "markdown",
   "metadata": {},
   "source": [
    "Quiz) 1, 2, 3, ~~~ , 100까지 출력해보세요.(한줄에 한 숫자씩만)"
   ]
  },
  {
   "cell_type": "code",
   "execution_count": 31,
   "metadata": {},
   "outputs": [
    {
     "name": "stdout",
     "output_type": "stream",
     "text": [
      "1 2 3 4 5 6 7 8 9 10\n"
     ]
    }
   ],
   "source": [
    "print(1, 2, 3, 4, 5, 6, 7, 8, 9, 10)"
   ]
  },
  {
   "cell_type": "code",
   "execution_count": 33,
   "metadata": {},
   "outputs": [
    {
     "name": "stdout",
     "output_type": "stream",
     "text": [
      "1\n",
      "2\n",
      "3\n"
     ]
    }
   ],
   "source": [
    "print(1)\n",
    "print(2)\n",
    "print(3) #(귀찮다.)"
   ]
  },
  {
   "cell_type": "code",
   "execution_count": 36,
   "metadata": {},
   "outputs": [
    {
     "name": "stdout",
     "output_type": "stream",
     "text": [
      "1 2 3 4 5 6 7 8 9 10 \n",
      "11 12 13 14 15 16 17 18 19 20 \n",
      "21 22 23 24 25 26 27 28 29 30 \n",
      "31 32 33 34 35 36 37 38 39 40 \n",
      "41 42 43 44 45 46 47 48 49 50 \n",
      "51 52 53 54 55 56 57 58 59 60 \n",
      "61 62 63 64 65 66 67 68 69 70 \n",
      "71 72 73 74 75 76 77 78 79 80 \n",
      "81 82 83 84 85 86 87 88 89 90 \n",
      "91 92 93 94 95 96 97 98 99 100 \n"
     ]
    }
   ],
   "source": [
    "for i in range(1, 101, 1): #range(시작점, 끝점+1, 증감간격)\n",
    "    print(i, end=' ')\n",
    "    if i%10 == 0:\n",
    "        print()"
   ]
  },
  {
   "cell_type": "code",
   "execution_count": 38,
   "metadata": {},
   "outputs": [
    {
     "name": "stdout",
     "output_type": "stream",
     "text": [
      "1 2 3 4 5 6 7 8 9 10\n",
      "11 12 13 14 15 16 17 18 19 20\n",
      "21 22 23 24 25 26 27 28 29 30\n",
      "31 32 33 34 35 36 37 38 39 40\n",
      "41 42 43 44 45 46 47 48 49 50\n",
      "51 52 53 54 55 56 57 58 59 60\n",
      "61 62 63 64 65 66 67 68 69 70\n",
      "71 72 73 74 75 76 77 78 79 80\n",
      "81 82 83 84 85 86 87 88 89 90\n",
      "91 92 93 94 95 96 97 98 99 100\n"
     ]
    }
   ],
   "source": [
    "for i in range(1, 101, 1): #range(시작점, 끝점+1, 증감간격)\n",
    "    if i%10:\n",
    "        print(i, end=' ')\n",
    "    else:\n",
    "        print(i)"
   ]
  },
  {
   "cell_type": "markdown",
   "metadata": {},
   "source": [
    "### for문에 대한 고찰"
   ]
  },
  {
   "cell_type": "markdown",
   "metadata": {},
   "source": [
    "for i in range(시작, 끝+1, 간격):\n",
    "    (종속절)\n",
    "    \n",
    "i가 (시작)부터 (끝)까지 도달할 때까지 (종속절)을 반복\n",
    "\n",
    "- 시작: 쓰지 않아도 됨. 대신 시작 = 0으로 간주\n",
    "- 끝+1: 무조건 써야함. /\n",
    "- 간격: 쓰지 않아도 됨. 대신 간격 = 1으로 간주"
   ]
  },
  {
   "cell_type": "code",
   "execution_count": 39,
   "metadata": {},
   "outputs": [
    {
     "name": "stdout",
     "output_type": "stream",
     "text": [
      "0 1 2 3 4 5 6 7 8 9 10 11 12 13 14 15 16 17 18 19 20 21 22 23 24 25 26 27 28 29 30 31 32 33 34 35 36 37 38 39 40 41 42 43 44 45 46 47 48 49 50 51 52 53 54 55 56 57 58 59 60 61 62 63 64 65 66 67 68 69 70 71 72 73 74 75 76 77 78 79 80 81 82 83 84 85 86 87 88 89 90 91 92 93 94 95 96 97 98 99 "
     ]
    }
   ],
   "source": [
    "for i in range(100): #시작=0, 끝+1=100(끝=99), 간격=1\n",
    "    print(i, end=' ')"
   ]
  },
  {
   "cell_type": "markdown",
   "metadata": {},
   "source": [
    "Quiz) print(i, end=' ') 는 총 몇번 실행되었을까?"
   ]
  },
  {
   "cell_type": "markdown",
   "metadata": {},
   "source": [
    "answer) 100번"
   ]
  },
  {
   "cell_type": "raw",
   "metadata": {},
   "source": [
    "Quiz) * 피라미드 쌓기\n",
    "      * 1개\n",
    "     * * 2개\n",
    "    * * * 3개 \n",
    "   * * * * 4개\n",
    "     ...\n",
    " *         * 10개"
   ]
  },
  {
   "cell_type": "code",
   "execution_count": 63,
   "metadata": {},
   "outputs": [
    {
     "name": "stdout",
     "output_type": "stream",
     "text": [
      "          * \n",
      "         * * \n",
      "        * * * \n",
      "       * * * * \n",
      "      * * * * * \n",
      "     * * * * * * \n",
      "    * * * * * * * \n",
      "   * * * * * * * * \n",
      "  * * * * * * * * * \n",
      " * * * * * * * * * * \n"
     ]
    }
   ],
   "source": [
    "for i in range(10):\n",
    "    print(' '*(10-i) + '* '*(i+1))"
   ]
  },
  {
   "cell_type": "raw",
   "metadata": {},
   "source": [
    "Quiz) * 다이아 쌓기\n",
    "      * 1개\n",
    "     * * 2개\n",
    "    * * * 3개 \n",
    "   * * * * 4개\n",
    "    * * * 3개 \n",
    "     * * 2개\n",
    "      * 1개     "
   ]
  },
  {
   "cell_type": "code",
   "execution_count": 68,
   "metadata": {},
   "outputs": [
    {
     "name": "stdout",
     "output_type": "stream",
     "text": [
      "        * \n",
      "       * * \n",
      "      * * * \n",
      "     * * * * \n",
      "      * * * \n",
      "       * * \n",
      "        * \n"
     ]
    }
   ],
   "source": [
    "for i in range(7):\n",
    "    if i <= 3: # i == 0, 1, 2, 3\n",
    "        print(' '*(7-i), '* '*(i+1))\n",
    "    else: # i == 4, 5, 6\n",
    "        print(' '*(i+1), '* '*(7-i))"
   ]
  },
  {
   "cell_type": "markdown",
   "metadata": {},
   "source": [
    "### while문(반복제어문)"
   ]
  },
  {
   "cell_type": "markdown",
   "metadata": {},
   "source": [
    "while (조건): #조건이 참이라면  \n",
    "    (종속절) #종속절 실행(반복)"
   ]
  },
  {
   "cell_type": "raw",
   "metadata": {},
   "source": [
    "while 1: #무한반복 = why? 조건이 계속 참일 수 밖에 없으니까\n",
    "    print('지문찍기!!')"
   ]
  },
  {
   "cell_type": "code",
   "execution_count": 1,
   "metadata": {},
   "outputs": [],
   "source": [
    "while 0:\n",
    "    print('출력') #실행안됨"
   ]
  },
  {
   "cell_type": "code",
   "execution_count": 5,
   "metadata": {},
   "outputs": [
    {
     "name": "stdout",
     "output_type": "stream",
     "text": [
      "0 1 2 3 4 5 6 7 8 9 "
     ]
    }
   ],
   "source": [
    "number = 0\n",
    "while number < 10:\n",
    "    print(number, end=' ')\n",
    "    number += 1 # number = number + 1"
   ]
  },
  {
   "cell_type": "markdown",
   "metadata": {},
   "source": [
    "### 무한반복 + continue/break 사용하기"
   ]
  },
  {
   "cell_type": "code",
   "execution_count": 1,
   "metadata": {},
   "outputs": [
    {
     "name": "stdout",
     "output_type": "stream",
     "text": [
      "0 1 2 3 4 5 6 7 8 9 "
     ]
    }
   ],
   "source": [
    "number = 0\n",
    "while 1:\n",
    "    print(number, end=' ')\n",
    "    number += 1\n",
    "    \n",
    "    if number == 10:\n",
    "        break"
   ]
  },
  {
   "cell_type": "code",
   "execution_count": 5,
   "metadata": {},
   "outputs": [
    {
     "name": "stdout",
     "output_type": "stream",
     "text": [
      "0 1 2 3 4 5 6 7 8 9 10 "
     ]
    }
   ],
   "source": [
    "number = 0\n",
    "while 1:\n",
    "    print(number, end=' ')\n",
    "    number += 1\n",
    "    \n",
    "    if number <= 10:\n",
    "        continue # 현재시행을 여기서 끝내고, 다음 시행으로 바로 넘어감.\n",
    "    else:\n",
    "        break # 반복시행을 종료함\n",
    "        \n",
    "    print('-')"
   ]
  },
  {
   "cell_type": "markdown",
   "metadata": {},
   "source": [
    "### 컴프리헨션(내포)"
   ]
  },
  {
   "cell_type": "markdown",
   "metadata": {},
   "source": [
    "- 제어문을 리스트와 같은 자료형에 내포시켜 사용하는 것을 말함"
   ]
  },
  {
   "cell_type": "markdown",
   "metadata": {},
   "source": [
    "#### 리스트 컴프리헨션\n",
    "  \n",
    "data = ['<종속절=리스트의 구성원>' for i in range()]"
   ]
  },
  {
   "cell_type": "code",
   "execution_count": 9,
   "metadata": {},
   "outputs": [
    {
     "name": "stdout",
     "output_type": "stream",
     "text": [
      "0 1 2 3 4 5 6 7 8 9 \n",
      "[0, 1, 2, 3, 4, 5, 6, 7, 8, 9]\n"
     ]
    }
   ],
   "source": [
    "# 일반적인 for 문과 비교\n",
    "for i in range(10):\n",
    "    print(i, end=' ')\n",
    "\n",
    "print()    \n",
    "\n",
    "#리스트 컴프리헨션(내포)\n",
    "data = [0, 1, 2, 3, 4, 5, 6, 7, 8, 9]\n",
    "\n",
    "data_com = [i for i in range(10)]\n",
    "print(data_com)"
   ]
  },
  {
   "cell_type": "markdown",
   "metadata": {},
   "source": [
    "Quiz) 1, 2, 3, ... , 19, 20으로 구성되는 리스트 a를 만들어보세요."
   ]
  },
  {
   "cell_type": "code",
   "execution_count": 12,
   "metadata": {},
   "outputs": [
    {
     "data": {
      "text/plain": [
       "[1, 2, 3, 4, 5, 6, 7, 8, 9, 10, 11, 12, 13, 14, 15, 16, 17, 18, 19, 20]"
      ]
     },
     "execution_count": 12,
     "metadata": {},
     "output_type": "execute_result"
    }
   ],
   "source": [
    "a = [i for i in range(1, 21)]\n",
    "a"
   ]
  },
  {
   "cell_type": "markdown",
   "metadata": {},
   "source": [
    "Quiz) 5, 10, 15, 20, 25, 30, 35, ..., 100 으로 구성되는 리스트 data를 만들어보세요."
   ]
  },
  {
   "cell_type": "code",
   "execution_count": 26,
   "metadata": {
    "scrolled": true
   },
   "outputs": [
    {
     "name": "stdout",
     "output_type": "stream",
     "text": [
      "[5, 10, 15, 20, 25, 30, 35, 40, 45, 50, 55, 60, 65, 70, 75, 80, 85, 90, 95, 100]\n",
      "[5, 10, 15, 20, 25, 30, 35, 40, 45, 50, 55, 60, 65, 70, 75, 80, 85, 90, 95, 100]\n",
      "[5, 10, 15, 20, 25, 30, 35, 40, 45, 50, 55, 60, 65, 70, 75, 80, 85, 90, 95, 100]\n"
     ]
    }
   ],
   "source": [
    "data1 = [i*5 for i in range(1, 21)]\n",
    "print(data1)\n",
    "\n",
    "data2 = [i for i in range(5, 101, 5)]\n",
    "print(data2)\n",
    "\n",
    "data3 = [i for i in range(1, 101) if i%5 == 0]\n",
    "print(data3)\n",
    "\n",
    "# for i in range(1, 101):\n",
    "#     if i%5 == 0:\n",
    "#         i"
   ]
  },
  {
   "cell_type": "markdown",
   "metadata": {},
   "source": [
    "### 리스트를 활용한 반복제어문"
   ]
  },
  {
   "cell_type": "code",
   "execution_count": 31,
   "metadata": {},
   "outputs": [
    {
     "name": "stdout",
     "output_type": "stream",
     "text": [
      "0 1 2 3 4 5 6 7 8 9 "
     ]
    }
   ],
   "source": [
    "data = [i for i in range(10)]\n",
    "\n",
    "for d in data:\n",
    "    print(d, end=' ')"
   ]
  },
  {
   "cell_type": "markdown",
   "metadata": {},
   "source": [
    "Quiz) data 안에 5가 들어있는지 확인하고, 5가 있다면, \"찾았다!\"출력"
   ]
  },
  {
   "cell_type": "markdown",
   "metadata": {},
   "source": [
    "풀이) data라는 리스트의 원소를 하나씩 탐색 -> 5를 찾으면 \"찾았다\"출력 시행"
   ]
  },
  {
   "cell_type": "code",
   "execution_count": 33,
   "metadata": {
    "scrolled": true
   },
   "outputs": [
    {
     "name": "stdout",
     "output_type": "stream",
     "text": [
      "찾았다! 5\n"
     ]
    }
   ],
   "source": [
    "for d in data: #data 안의 원소 하나씩 탐색하겠다는 의미\n",
    "    if d == 5:\n",
    "        print(\"찾았다!\", d)"
   ]
  },
  {
   "cell_type": "code",
   "execution_count": 34,
   "metadata": {},
   "outputs": [
    {
     "name": "stdout",
     "output_type": "stream",
     "text": [
      "이원재\n",
      "김가영\n",
      "김강빈\n",
      "김민철\n",
      "김원중\n",
      "김홍덕\n"
     ]
    }
   ],
   "source": [
    "name = ['이원재', '김가영', '김강빈', '김민철', '김원중', '김홍덕']\n",
    "\n",
    "for n in name:\n",
    "    print(n)"
   ]
  },
  {
   "cell_type": "markdown",
   "metadata": {},
   "source": [
    "Quiz) name에서 '이름'과 함께 index도 같이 확인해보고 싶다면?"
   ]
  },
  {
   "cell_type": "markdown",
   "metadata": {},
   "source": [
    "#### enumerate"
   ]
  },
  {
   "cell_type": "code",
   "execution_count": 35,
   "metadata": {},
   "outputs": [
    {
     "name": "stdout",
     "output_type": "stream",
     "text": [
      "0 이원재\n",
      "1 김가영\n",
      "2 김강빈\n",
      "3 김민철\n",
      "4 김원중\n",
      "5 김홍덕\n"
     ]
    }
   ],
   "source": [
    "for i, n in enumerate(name):\n",
    "    print(i, n)"
   ]
  },
  {
   "cell_type": "markdown",
   "metadata": {},
   "source": [
    "- 2개의 리스트를 동시에 for문으로 제어할 수 있을까?"
   ]
  },
  {
   "cell_type": "markdown",
   "metadata": {},
   "source": [
    "#### zip"
   ]
  },
  {
   "cell_type": "code",
   "execution_count": 38,
   "metadata": {},
   "outputs": [
    {
     "name": "stdout",
     "output_type": "stream",
     "text": [
      "이원재 song\n",
      "김가영 movie\n",
      "김강빈 TV\n",
      "김민철 coding\n",
      "김원중 sleep\n",
      "김홍덕 cycle\n"
     ]
    }
   ],
   "source": [
    "name = ['이원재', '김가영', '김강빈', '김민철', '김원중', '김홍덕']\n",
    "hobby = ['song', 'movie', 'TV', 'coding', 'sleep', 'cycle']\n",
    "\n",
    "for n, h in zip(name, hobby):\n",
    "    print(n, h)name = ['이원재', '김가영', '김강빈', '김민철', '김원중', '김홍덕']\n",
    "hobby = ['song', 'movie', 'TV', 'coding', 'sleep', 'cycle']\n",
    "\n",
    "for n, h in zip(name, hobby):\n",
    "    print(n, h)"
   ]
  },
  {
   "cell_type": "markdown",
   "metadata": {},
   "source": [
    "#### 다중 for문"
   ]
  },
  {
   "cell_type": "code",
   "execution_count": 42,
   "metadata": {},
   "outputs": [
    {
     "name": "stdout",
     "output_type": "stream",
     "text": [
      "0 ['이원재', '김가영', '김강빈', '김민철', '김원중', '김홍덕']\n",
      "1 ['song', 'movie', 'TV', 'coding', 'sleep', 'cycle']\n"
     ]
    }
   ],
   "source": [
    "data =[['이원재', '김가영', '김강빈', '김민철', '김원중', '김홍덕'],\n",
    "       ['song', 'movie', 'TV', 'coding', 'sleep', 'cycle']]\n",
    "\n",
    "for i, d in enumerate(data):\n",
    "    print(i, d)"
   ]
  },
  {
   "cell_type": "markdown",
   "metadata": {},
   "source": [
    "- data의 각 원소 하나하나를 지정해야된다면?"
   ]
  },
  {
   "cell_type": "code",
   "execution_count": 48,
   "metadata": {},
   "outputs": [
    {
     "name": "stdout",
     "output_type": "stream",
     "text": [
      "data 0 : ['이원재', '김가영', '김강빈', '김민철', '김원중', '김홍덕']\n",
      "0 이원재\n",
      "1 김가영\n",
      "2 김강빈\n",
      "3 김민철\n",
      "4 김원중\n",
      "5 김홍덕\n",
      "------\n",
      "data 1 : ['song', 'movie', 'TV', 'coding', 'sleep', 'cycle']\n",
      "0 song\n",
      "1 movie\n",
      "2 TV\n",
      "3 coding\n",
      "4 sleep\n",
      "5 cycle\n",
      "------\n"
     ]
    }
   ],
   "source": [
    "for d_index, d in enumerate(data):\n",
    "    print(\"data\", d_index, \":\", d)\n",
    "    for i_index, i in enumerate(d):\n",
    "        print(i_index, i)\n",
    "    \n",
    "    print('------')"
   ]
  },
  {
   "cell_type": "code",
   "execution_count": null,
   "metadata": {},
   "outputs": [],
   "source": []
  }
 ],
 "metadata": {
  "kernelspec": {
   "display_name": "Python 3",
   "language": "python",
   "name": "python3"
  },
  "language_info": {
   "codemirror_mode": {
    "name": "ipython",
    "version": 3
   },
   "file_extension": ".py",
   "mimetype": "text/x-python",
   "name": "python",
   "nbconvert_exporter": "python",
   "pygments_lexer": "ipython3",
   "version": "3.7.3"
  }
 },
 "nbformat": 4,
 "nbformat_minor": 2
}
