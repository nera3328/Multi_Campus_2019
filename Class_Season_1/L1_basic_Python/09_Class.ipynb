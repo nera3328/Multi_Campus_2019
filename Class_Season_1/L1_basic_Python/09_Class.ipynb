{
 "cells": [
  {
   "cell_type": "code",
   "execution_count": 18,
   "metadata": {},
   "outputs": [],
   "source": [
    "class Bicycle():\n",
    "    \n",
    "    def __init__(self, wheel, color):\n",
    "        self.wheel = wheel\n",
    "        self.color = color\n",
    "        print('Bicycle call')\n",
    "        \n",
    "    def move(self, speed):\n",
    "        print(\"시속 {}km로 이동\".format(speed))\n",
    "        \n",
    "    def turn(self, direction):\n",
    "        print(\"{}회전\".format(direction))\n",
    "\n",
    "    def stop(self):\n",
    "        print(\"Bycicle({}, {}) 정지\".format(self.wheel, self.color))"
   ]
  },
  {
   "cell_type": "code",
   "execution_count": 19,
   "metadata": {},
   "outputs": [
    {
     "name": "stdout",
     "output_type": "stream",
     "text": [
      "Bicycle call\n",
      "시속 200km로 이동\n",
      "우회전\n",
      "Bycicle(26, b) 정지\n"
     ]
    }
   ],
   "source": [
    "samcheonri = Bicycle(26, 'b')\n",
    "\n",
    "samcheonri.move(200)\n",
    "\n",
    "samcheonri.turn('우')\n",
    "\n",
    "samcheonri.stop()"
   ]
  },
  {
   "cell_type": "code",
   "execution_count": 20,
   "metadata": {},
   "outputs": [
    {
     "name": "stdout",
     "output_type": "stream",
     "text": [
      "Bicycle call\n",
      "시속 300km로 이동\n",
      "left회전\n",
      "Bycicle(30, white) 정지\n"
     ]
    }
   ],
   "source": [
    "BMW = Bicycle(30, 'white')\n",
    "\n",
    "BMW.move(300)\n",
    "\n",
    "BMW.turn('left')\n",
    "\n",
    "BMW.stop()"
   ]
  },
  {
   "cell_type": "markdown",
   "metadata": {},
   "source": [
    "### 클래스 변수와 인스턴스 변수"
   ]
  },
  {
   "cell_type": "code",
   "execution_count": 4,
   "metadata": {},
   "outputs": [],
   "source": [
    "class Car():\n",
    "    \n",
    "    instance_count = 0\n",
    "    \n",
    "    def __init__(self, wheel, color):\n",
    "        self.wheel = wheel # 인스턴스 변수 santafe.wheel = 30\n",
    "        self.color = color # 인스턴스 변수 satafe.color = 'white'\n",
    "        Car.instance_count += 1 # 클래스명.변수명 = 클래스 변수\n",
    "        print('Car call..')\n",
    "        print('현재 객체 수: {}'.format(Car.instance_count))\n",
    "        \n",
    "    def move(self, speed):\n",
    "        print(\"시속 {}km로 이동\".format(speed))\n",
    "        \n",
    "    def turn(self, direction):\n",
    "        print(\"{}회전\".format(direction))\n",
    "\n",
    "    def stop(self):\n",
    "        print(\"Car({}, {}) 정지\".format(self.wheel, self.color))"
   ]
  },
  {
   "cell_type": "code",
   "execution_count": 5,
   "metadata": {},
   "outputs": [
    {
     "name": "stdout",
     "output_type": "stream",
     "text": [
      "Car call..\n",
      "현재 객체 수: 1\n"
     ]
    }
   ],
   "source": [
    "santafe = Car(30, 'white')"
   ]
  },
  {
   "cell_type": "code",
   "execution_count": 6,
   "metadata": {},
   "outputs": [
    {
     "name": "stdout",
     "output_type": "stream",
     "text": [
      "Car call..\n",
      "현재 객체 수: 2\n"
     ]
    }
   ],
   "source": [
    "spotage = Car(29, 'black')"
   ]
  },
  {
   "cell_type": "code",
   "execution_count": 7,
   "metadata": {},
   "outputs": [
    {
     "name": "stdout",
     "output_type": "stream",
     "text": [
      "Car call..\n",
      "현재 객체 수: 3\n"
     ]
    }
   ],
   "source": [
    "avante = Car(27, 'red')"
   ]
  },
  {
   "cell_type": "code",
   "execution_count": 8,
   "metadata": {},
   "outputs": [
    {
     "data": {
      "text/plain": [
       "(30, 'white')"
      ]
     },
     "execution_count": 8,
     "metadata": {},
     "output_type": "execute_result"
    }
   ],
   "source": [
    "santafe.wheel, santafe.color # self.변수명 = instance.변수명 = 객체.변수명"
   ]
  },
  {
   "cell_type": "code",
   "execution_count": 42,
   "metadata": {},
   "outputs": [
    {
     "data": {
      "text/plain": [
       "(29, 'black')"
      ]
     },
     "execution_count": 42,
     "metadata": {},
     "output_type": "execute_result"
    }
   ],
   "source": [
    "spotage.wheel, spotage.color"
   ]
  },
  {
   "cell_type": "code",
   "execution_count": 44,
   "metadata": {},
   "outputs": [
    {
     "data": {
      "text/plain": [
       "3"
      ]
     },
     "execution_count": 44,
     "metadata": {},
     "output_type": "execute_result"
    }
   ],
   "source": [
    "Car.instance_count # 클래스명.변수명"
   ]
  },
  {
   "cell_type": "code",
   "execution_count": 49,
   "metadata": {},
   "outputs": [
    {
     "data": {
      "text/plain": [
       "3"
      ]
     },
     "execution_count": 49,
     "metadata": {},
     "output_type": "execute_result"
    }
   ],
   "source": [
    "santafe.instance_count"
   ]
  },
  {
   "cell_type": "code",
   "execution_count": 50,
   "metadata": {},
   "outputs": [
    {
     "data": {
      "text/plain": [
       "3"
      ]
     },
     "execution_count": 50,
     "metadata": {},
     "output_type": "execute_result"
    }
   ],
   "source": [
    "spotage.instance_count"
   ]
  },
  {
   "cell_type": "markdown",
   "metadata": {},
   "source": [
    "### 함수 : 인스턴스 메서드, 클래스 메서드, 스태틱 메서드"
   ]
  },
  {
   "cell_type": "code",
   "execution_count": 29,
   "metadata": {},
   "outputs": [],
   "source": [
    "class Car():\n",
    "    \n",
    "    instance_count = 0\n",
    "    \n",
    "    def __init__(self, wheel, color):\n",
    "        self.wheel = wheel # 인스턴스 변수\n",
    "        self.color = color # 인스턴스 변수\n",
    "        Car.instance_count += 1 # 클래스명.변수명 = 클래스 변수\n",
    "        print('Car call..')\n",
    "        \n",
    "    def move(self, speed):\n",
    "        print(\"시속 {}km로 이동\".format(speed))\n",
    "        \n",
    "    def turn(self, direction):\n",
    "        print(\"{}회전\".format(direction))\n",
    "\n",
    "    def stop(self):\n",
    "        print(\"Car({}, {}) 정지\".format(self.wheel, self.color))\n",
    "    \n",
    "#     def classmethod(original_method):\n",
    "#         return original_method\n",
    "    \n",
    "#     count_instance = classmethod(count_instance)    \n",
    "    @classmethod\n",
    "    def count_instance(cls):\n",
    "        print('현재 객체 수: {}'.format(Car.instance_count))\n",
    "    \n",
    "    @staticmethod\n",
    "    def check_type(model_code):\n",
    "        if(model_code >= 20):\n",
    "            print(\"전기차입니다.\")\n",
    "        elif(10 <= model_code <= 20):\n",
    "            print(\"수소차입니다.\")\n",
    "        else:\n",
    "            print(\"디젤차입니다.\")        "
   ]
  },
  {
   "cell_type": "code",
   "execution_count": 30,
   "metadata": {},
   "outputs": [
    {
     "name": "stdout",
     "output_type": "stream",
     "text": [
      "현재 객체 수: 0\n"
     ]
    }
   ],
   "source": [
    "Car.count_instance() # 인스턴스(객체)를 만들기 전에 사용할 수도 있다."
   ]
  },
  {
   "cell_type": "code",
   "execution_count": 56,
   "metadata": {},
   "outputs": [
    {
     "name": "stdout",
     "output_type": "stream",
     "text": [
      "현재 객체 수: 0\n"
     ]
    }
   ],
   "source": [
    "Car_1 = Car.count_instance() # 클래스명.클래스메서드 로 객체 생성을 할 수도 있다."
   ]
  },
  {
   "cell_type": "code",
   "execution_count": 58,
   "metadata": {},
   "outputs": [
    {
     "name": "stdout",
     "output_type": "stream",
     "text": [
      "전기차입니다.\n"
     ]
    }
   ],
   "source": [
    "Car.check_type(25) # 클래스명.스태틱메서드 로 사용 -> 편의상"
   ]
  },
  {
   "cell_type": "markdown",
   "metadata": {},
   "source": [
    "### 클래스 상속"
   ]
  },
  {
   "cell_type": "markdown",
   "metadata": {},
   "source": [
    "- 게임을 만든다고 했을 때, 히어로 객체도 필요, 악당 객체도 필요\n",
    "- 게임 상의 유닛 : 히어로, 악당"
   ]
  },
  {
   "cell_type": "code",
   "execution_count": 59,
   "metadata": {},
   "outputs": [],
   "source": [
    "class hero():\n",
    "    pass\n",
    "\n",
    "class devil():\n",
    "    pass"
   ]
  },
  {
   "cell_type": "markdown",
   "metadata": {},
   "source": [
    "- 위의 두 클래스는 분명 속성(변수)과 행위(함수)가 겹치는 게 많을 것이다.  \n",
    "  \n",
    "- 하나의 부모 클래스를 만들고, 나머지 클래스는 부모 클래스로부터 상속받도록 하자."
   ]
  },
  {
   "cell_type": "code",
   "execution_count": 60,
   "metadata": {},
   "outputs": [],
   "source": [
    "class Unit(): #부모 클래스\n",
    "    pass\n",
    "\n",
    "class Hero(): #자식 1 클래스\n",
    "    pass\n",
    "\n",
    "class Devil(): #자식 2 클래스\n",
    "    pass"
   ]
  },
  {
   "cell_type": "code",
   "execution_count": 61,
   "metadata": {},
   "outputs": [],
   "source": [
    "class Bicycle():\n",
    "    \n",
    "    def __init__(self, wheel, color):\n",
    "        self.wheel = wheel\n",
    "        self.color = color\n",
    "        print('Bicycle call')\n",
    "        \n",
    "    def move(self, speed):\n",
    "        print(\"시속 {}km로 이동\".format(speed))\n",
    "        \n",
    "    def turn(self, direction):\n",
    "        print(\"{}회전\".format(direction))\n",
    "\n",
    "    def stop(self):\n",
    "        print(\"Bycicle({}, {}) 정지\".format(self.wheel, self.color))"
   ]
  },
  {
   "cell_type": "code",
   "execution_count": 64,
   "metadata": {},
   "outputs": [],
   "source": [
    "class FoldingBicycle():\n",
    "    \n",
    "    def __init__(self, wheel, color, state):\n",
    "        Bicycle.__init__(self, wheel, color) #부모클래스 __init__ 재사용\n",
    "#         Bicycle 대신 super()를 사용할 수 있음. \n",
    "        self.state = state\n",
    "    \n",
    "    def fold(self):\n",
    "        self.state = 'folding'\n",
    "        print(\"자전거 접기\")\n"
   ]
  },
  {
   "cell_type": "code",
   "execution_count": 65,
   "metadata": {},
   "outputs": [
    {
     "name": "stdout",
     "output_type": "stream",
     "text": [
      "Bicycle call\n"
     ]
    }
   ],
   "source": [
    "minibelo = FoldingBicycle(14, 'white', 'unfolding')"
   ]
  },
  {
   "cell_type": "markdown",
   "metadata": {},
   "source": [
    "#### hero & vilian"
   ]
  },
  {
   "cell_type": "code",
   "execution_count": 26,
   "metadata": {},
   "outputs": [],
   "source": [
    "class Unit(): # Unit() == Unit(object) *단, python3.x에서\n",
    "    def __init__(self, ability, level):\n",
    "        self.ability = ability\n",
    "        self.level = level\n",
    "        print('unit이 생성되었습니다.')\n",
    "    \n",
    "    def show_info(self):\n",
    "        print('ability : {}'.format(self.ability))\n",
    "        print('level : {}'.format(self.level))\n",
    "\n",
    "class Hero(Unit):\n",
    "    def __init__(self, ability, level, weapon):\n",
    "        super().__init__(ability, level)\n",
    "        self.weapon = weapon\n",
    "        \n",
    "    def show_info(self):\n",
    "        super().show_info()\n",
    "        print('weapon : {}'.format(self.weapon))\n",
    "\n",
    "class AvengersHero(Hero): #속성 += hometown\n",
    "    def __init__(self, ability, level, weapon, hometown):\n",
    "        super().__init__(ability, level, weapon)\n",
    "        self.hometown = hometown\n",
    "        \n",
    "    def show_info(self):\n",
    "        super().show_info()\n",
    "        print('hometown : {}'.format(self.hometown))"
   ]
  },
  {
   "cell_type": "code",
   "execution_count": 24,
   "metadata": {},
   "outputs": [
    {
     "name": "stdout",
     "output_type": "stream",
     "text": [
      "unit이 생성되었습니다.\n",
      "ability : money\n",
      "level : 7\n"
     ]
    }
   ],
   "source": [
    "batman = Hero('money', 7)\n",
    "batman.show_info()"
   ]
  },
  {
   "cell_type": "code",
   "execution_count": 25,
   "metadata": {},
   "outputs": [
    {
     "name": "stdout",
     "output_type": "stream",
     "text": [
      "Help on Hero in module __main__ object:\n",
      "\n",
      "class Hero(Unit)\n",
      " |  Hero(ability, level)\n",
      " |  \n",
      " |  Method resolution order:\n",
      " |      Hero\n",
      " |      Unit\n",
      " |      builtins.object\n",
      " |  \n",
      " |  Methods inherited from Unit:\n",
      " |  \n",
      " |  __init__(self, ability, level)\n",
      " |      Initialize self.  See help(type(self)) for accurate signature.\n",
      " |  \n",
      " |  show_info(self)\n",
      " |  \n",
      " |  ----------------------------------------------------------------------\n",
      " |  Data descriptors inherited from Unit:\n",
      " |  \n",
      " |  __dict__\n",
      " |      dictionary for instance variables (if defined)\n",
      " |  \n",
      " |  __weakref__\n",
      " |      list of weak references to the object (if defined)\n",
      "\n"
     ]
    }
   ],
   "source": [
    "help(batman)"
   ]
  },
  {
   "cell_type": "code",
   "execution_count": 27,
   "metadata": {},
   "outputs": [
    {
     "name": "stdout",
     "output_type": "stream",
     "text": [
      "unit이 생성되었습니다.\n",
      "ability : thunder\n",
      "level : 9\n",
      "weapon : 망치\n",
      "hometown : 아스가르드\n"
     ]
    }
   ],
   "source": [
    "Thor = AvengersHero('thunder', 9, '망치', '아스가르드')\n",
    "Thor.show_info()"
   ]
  },
  {
   "cell_type": "code",
   "execution_count": 28,
   "metadata": {},
   "outputs": [
    {
     "name": "stdout",
     "output_type": "stream",
     "text": [
      "Help on AvengersHero in module __main__ object:\n",
      "\n",
      "class AvengersHero(Hero)\n",
      " |  AvengersHero(ability, level, weapon, hometown)\n",
      " |  \n",
      " |  Method resolution order:\n",
      " |      AvengersHero\n",
      " |      Hero\n",
      " |      Unit\n",
      " |      builtins.object\n",
      " |  \n",
      " |  Methods defined here:\n",
      " |  \n",
      " |  __init__(self, ability, level, weapon, hometown)\n",
      " |      Initialize self.  See help(type(self)) for accurate signature.\n",
      " |  \n",
      " |  show_info(self)\n",
      " |  \n",
      " |  ----------------------------------------------------------------------\n",
      " |  Data descriptors inherited from Unit:\n",
      " |  \n",
      " |  __dict__\n",
      " |      dictionary for instance variables (if defined)\n",
      " |  \n",
      " |  __weakref__\n",
      " |      list of weak references to the object (if defined)\n",
      "\n"
     ]
    }
   ],
   "source": [
    "help(Thor)"
   ]
  },
  {
   "cell_type": "code",
   "execution_count": null,
   "metadata": {},
   "outputs": [],
   "source": []
  }
 ],
 "metadata": {
  "kernelspec": {
   "display_name": "Python 3",
   "language": "python",
   "name": "python3"
  },
  "language_info": {
   "codemirror_mode": {
    "name": "ipython",
    "version": 3
   },
   "file_extension": ".py",
   "mimetype": "text/x-python",
   "name": "python",
   "nbconvert_exporter": "python",
   "pygments_lexer": "ipython3",
   "version": "3.7.3"
  }
 },
 "nbformat": 4,
 "nbformat_minor": 2
}
