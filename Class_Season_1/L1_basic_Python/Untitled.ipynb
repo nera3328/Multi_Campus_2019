{
 "cells": [
  {
   "cell_type": "code",
   "execution_count": 15,
   "metadata": {},
   "outputs": [
    {
     "name": "stdout",
     "output_type": "stream",
     "text": [
      "Help on class Hero in module __main__:\n",
      "\n",
      "class Hero(Unit)\n",
      " |  Hero(ability, weapon, level)\n",
      " |  \n",
      " |  Method resolution order:\n",
      " |      Hero\n",
      " |      Unit\n",
      " |      builtins.object\n",
      " |  \n",
      " |  Methods inherited from Unit:\n",
      " |  \n",
      " |  __init__(self, ability, weapon, level)\n",
      " |      Initialize self.  See help(type(self)) for accurate signature.\n",
      " |  \n",
      " |  show_info(self)\n",
      " |  \n",
      " |  ----------------------------------------------------------------------\n",
      " |  Data descriptors inherited from Unit:\n",
      " |  \n",
      " |  __dict__\n",
      " |      dictionary for instance variables (if defined)\n",
      " |  \n",
      " |  __weakref__\n",
      " |      list of weak references to the object (if defined)\n",
      "\n",
      "None\n"
     ]
    }
   ],
   "source": [
    "class Unit:\n",
    "    def __init__(self, ability, weapon, level):\n",
    "        self.ability = ability\n",
    "        self.weapon = weapon\n",
    "        self.level = level\n",
    "        \n",
    "    def show_info(self):\n",
    "        print('능력: {}'.format(self.ability))\n",
    "        print('무기: {}'.format(self.weapon))\n",
    "        print('레벨: {}'.format(self.level))        \n",
    "\n",
    "class Hero(Unit):\n",
    "    pass\n",
    "\n",
    "print(help(Hero))"
   ]
  },
  {
   "cell_type": "code",
   "execution_count": 16,
   "metadata": {},
   "outputs": [],
   "source": [
    "hulk = Hero('transform', 'force', 10)"
   ]
  },
  {
   "cell_type": "code",
   "execution_count": 17,
   "metadata": {},
   "outputs": [
    {
     "name": "stdout",
     "output_type": "stream",
     "text": [
      "능력: transform\n",
      "무기: force\n",
      "레벨: 10\n"
     ]
    }
   ],
   "source": [
    "hulk.show_info()"
   ]
  },
  {
   "cell_type": "markdown",
   "metadata": {},
   "source": [
    "- 속성을 추가 하고 싶다면?"
   ]
  },
  {
   "cell_type": "code",
   "execution_count": 32,
   "metadata": {},
   "outputs": [
    {
     "name": "stdout",
     "output_type": "stream",
     "text": [
      "Help on class Hero in module __main__:\n",
      "\n",
      "class Hero(Unit)\n",
      " |  Hero(ability, weapon, level, type_fight)\n",
      " |  \n",
      " |  Method resolution order:\n",
      " |      Hero\n",
      " |      Unit\n",
      " |      builtins.object\n",
      " |  \n",
      " |  Methods defined here:\n",
      " |  \n",
      " |  __init__(self, ability, weapon, level, type_fight)\n",
      " |      Initialize self.  See help(type(self)) for accurate signature.\n",
      " |  \n",
      " |  show_info(self)\n",
      " |  \n",
      " |  ----------------------------------------------------------------------\n",
      " |  Data descriptors inherited from Unit:\n",
      " |  \n",
      " |  __dict__\n",
      " |      dictionary for instance variables (if defined)\n",
      " |  \n",
      " |  __weakref__\n",
      " |      list of weak references to the object (if defined)\n",
      "\n",
      "None\n"
     ]
    }
   ],
   "source": [
    "class Unit:\n",
    "    def __init__(self, ability, weapon, level):\n",
    "        self.ability = ability\n",
    "        self.weapon = weapon\n",
    "        self.level = level\n",
    "        \n",
    "    def show_info(self):\n",
    "        print('능력: {}'.format(self.ability))\n",
    "        print('무기: {}'.format(self.weapon))\n",
    "        print('레벨: {}'.format(self.level))        \n",
    "\n",
    "class Hero(Unit):\n",
    "    def __init__(self, ability, weapon, level, type_fight):\n",
    "        super().__init__(ability, weapon, level)\n",
    "        self.type_fight = type_fight\n",
    "    \n",
    "    def show_info(self):\n",
    "        super().show_info()\n",
    "        print('전투 유형:{}'.format(self.type_fight))   \n",
    "\n",
    "print(help(Hero))"
   ]
  },
  {
   "cell_type": "code",
   "execution_count": 34,
   "metadata": {},
   "outputs": [
    {
     "name": "stdout",
     "output_type": "stream",
     "text": [
      "능력: transform\n",
      "무기: force\n",
      "레벨: 10\n",
      "전투 유형:근거리 개싸움\n",
      "고향:지구\n"
     ]
    }
   ],
   "source": [
    "hulk = Avengers('transform', 'force', 10, '근거리 개싸움', '지구')\n",
    "hulk.show_info()"
   ]
  },
  {
   "cell_type": "code",
   "execution_count": 35,
   "metadata": {},
   "outputs": [
    {
     "name": "stdout",
     "output_type": "stream",
     "text": [
      "Help on Avengers in module __main__ object:\n",
      "\n",
      "class Avengers(Hero)\n",
      " |  Avengers(ability, weapon, level, type_fight, hometown)\n",
      " |  \n",
      " |  Method resolution order:\n",
      " |      Avengers\n",
      " |      Hero\n",
      " |      Unit\n",
      " |      builtins.object\n",
      " |  \n",
      " |  Methods defined here:\n",
      " |  \n",
      " |  __init__(self, ability, weapon, level, type_fight, hometown)\n",
      " |      Initialize self.  See help(type(self)) for accurate signature.\n",
      " |  \n",
      " |  show_info(self)\n",
      " |  \n",
      " |  ----------------------------------------------------------------------\n",
      " |  Data descriptors inherited from Unit:\n",
      " |  \n",
      " |  __dict__\n",
      " |      dictionary for instance variables (if defined)\n",
      " |  \n",
      " |  __weakref__\n",
      " |      list of weak references to the object (if defined)\n",
      "\n",
      "None\n"
     ]
    }
   ],
   "source": [
    "print(help(hulk))"
   ]
  },
  {
   "cell_type": "markdown",
   "metadata": {},
   "source": [
    "- Hero를 상속받는 Avengers를 만들어보자"
   ]
  },
  {
   "cell_type": "code",
   "execution_count": null,
   "metadata": {},
   "outputs": [],
   "source": [
    "class Unit:\n",
    "    def __init__(self, ability, weapon, level):\n",
    "        self.ability = ability\n",
    "        self.weapon = weapon\n",
    "        self.level = level\n",
    "        \n",
    "    def show_info(self):\n",
    "        print('능력: {}'.format(self.ability))\n",
    "        print('무기: {}'.format(self.weapon))\n",
    "        print('레벨: {}'.format(self.level))        \n",
    "\n",
    "class Hero(Unit):\n",
    "    def __init__(self, ability, weapon, level, type_fight):\n",
    "        super().__init__(ability, weapon, level)\n",
    "        self.type_fight = type_fight\n",
    "    \n",
    "    def show_info(self):\n",
    "        super().show_info()\n",
    "        print('전투 유형:{}'.format(self.type_fight))   \n",
    "\n",
    "        \n",
    "class Avengers(Hero):\n",
    "    def __init__(self, ability, weapon, level, type_fight, hometown):\n",
    "        super().__init__(ability, weapon, level, type_fight)\n",
    "        self.hometown = hometown\n",
    "    \n",
    "    def show_info(self):\n",
    "        super().show_info()\n",
    "        print('고향:{}'.format(self.hometown))\n",
    "\n",
    "print(help(Hero))"
   ]
  },
  {
   "cell_type": "markdown",
   "metadata": {},
   "source": [
    "- Unit을 상속받는 또다른 클래스 Vilian을 만들어보자"
   ]
  },
  {
   "cell_type": "code",
   "execution_count": 42,
   "metadata": {},
   "outputs": [
    {
     "name": "stdout",
     "output_type": "stream",
     "text": [
      "능력: force\n",
      "무기: sphere\n",
      "레벨: 10\n",
      "보유한 타임스톤:['space', 'time', 'power']\n"
     ]
    }
   ],
   "source": [
    "class Unit:\n",
    "    def __init__(self, ability, weapon, level):\n",
    "        self.ability = ability\n",
    "        self.weapon = weapon\n",
    "        self.level = level\n",
    "        \n",
    "    def show_info(self):\n",
    "        print('능력: {}'.format(self.ability))\n",
    "        print('무기: {}'.format(self.weapon))\n",
    "        print('레벨: {}'.format(self.level))        \n",
    "\n",
    "class Vilian(Unit):\n",
    "    def __init__(self, ability, weapon, level, ston):\n",
    "        super().__init__(ability, weapon, level)\n",
    "        self.ston = ston\n",
    "    \n",
    "    def show_info(self):\n",
    "        super().show_info()\n",
    "        print('보유한 타임스톤:{}'.format(self.ston))\n",
    "\n",
    "tanos = Vilian('force', 'sphere', 10, ['space', 'time', 'power'])\n",
    "tanos.show_info()"
   ]
  },
  {
   "cell_type": "code",
   "execution_count": 43,
   "metadata": {},
   "outputs": [
    {
     "name": "stdout",
     "output_type": "stream",
     "text": [
      "Help on class Vilian in module __main__:\n",
      "\n",
      "class Vilian(Unit)\n",
      " |  Vilian(ability, weapon, level, ston)\n",
      " |  \n",
      " |  Method resolution order:\n",
      " |      Vilian\n",
      " |      Unit\n",
      " |      builtins.object\n",
      " |  \n",
      " |  Methods defined here:\n",
      " |  \n",
      " |  __init__(self, ability, weapon, level, ston)\n",
      " |      Initialize self.  See help(type(self)) for accurate signature.\n",
      " |  \n",
      " |  show_info(self)\n",
      " |  \n",
      " |  ----------------------------------------------------------------------\n",
      " |  Data descriptors inherited from Unit:\n",
      " |  \n",
      " |  __dict__\n",
      " |      dictionary for instance variables (if defined)\n",
      " |  \n",
      " |  __weakref__\n",
      " |      list of weak references to the object (if defined)\n",
      "\n",
      "None\n"
     ]
    }
   ],
   "source": [
    "print(help(Vilian))"
   ]
  },
  {
   "cell_type": "markdown",
   "metadata": {},
   "source": [
    "# Module"
   ]
  },
  {
   "cell_type": "markdown",
   "metadata": {},
   "source": [
    "#### Test할때는 %run  && if__name__ == '__main__':"
   ]
  },
  {
   "cell_type": "markdown",
   "metadata": {},
   "source": [
    "#### 패키지 만들기"
   ]
  },
  {
   "cell_type": "markdown",
   "metadata": {},
   "source": [
    "mkdir"
   ]
  },
  {
   "cell_type": "raw",
   "metadata": {},
   "source": []
  }
 ],
 "metadata": {
  "kernelspec": {
   "display_name": "Python 3",
   "language": "python",
   "name": "python3"
  },
  "language_info": {
   "codemirror_mode": {
    "name": "ipython",
    "version": 3
   },
   "file_extension": ".py",
   "mimetype": "text/x-python",
   "name": "python",
   "nbconvert_exporter": "python",
   "pygments_lexer": "ipython3",
   "version": "3.7.3"
  }
 },
 "nbformat": 4,
 "nbformat_minor": 2
}
