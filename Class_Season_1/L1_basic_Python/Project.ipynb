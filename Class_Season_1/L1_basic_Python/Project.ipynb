{
 "cells": [
  {
   "cell_type": "code",
   "execution_count": 27,
   "metadata": {},
   "outputs": [
    {
     "name": "stdout",
     "output_type": "stream",
     "text": [
      "7 7 5 6 8 9 3 4\n",
      "54\n",
      "틀리셨습니다. 랭킹을 등록하겠습니다. 이름을 입력해주세요\n",
      "으씨\n",
      "더 진행할려고 y를 입력하고, 종료할거면 n을 입력해주세요(랭킹보기 : 1)\n",
      "n\n"
     ]
    },
    {
     "ename": "SystemExit",
     "evalue": "0",
     "output_type": "error",
     "traceback": [
      "An exception has occurred, use %tb to see the full traceback.\n",
      "\u001b[1;31mSystemExit\u001b[0m\u001b[1;31m:\u001b[0m 0\n"
     ]
    }
   ],
   "source": [
    "import random\n",
    "import sys\n",
    "from time  import sleep\n",
    "from IPython.display import clear_output\n",
    "\n",
    "\n",
    "print(\"기억력 테스트를 시작하겠습니다,\")\n",
    "print(\"3초동안 보시고 입력을 하시면 됩니다.\")\n",
    "level=1\n",
    "user=[]\n",
    "rank={}\n",
    "\n",
    "while(1) :\n",
    "    user.clear()\n",
    "    sw=1 \n",
    "    ran=[random.randrange(1,10) for i in range(level*2+1)]\n",
    "    print(ran)\n",
    "    sleep(3)\n",
    "    clear_output()\n",
    "    for i in range(level*2+1) :\n",
    "        user.append(input())\n",
    "        user = \" \".join(user)\n",
    "        user = user.split()\n",
    "        if len(user) >= level*2+1 : break\n",
    "    for i in range(1,level*2+1):\n",
    "        if int(user[i]) == ran[i] : continue\n",
    "        sw=0\n",
    "    if (sw) : \n",
    "        print(\"다 맞추셨습니다\\n레벨업을 진행하겠습니다\")\n",
    "        level+=1\n",
    "    else  :\n",
    "        name = input(\"틀리셨습니다. 랭킹을 등록하겠습니다. 이름을 입력해주세요\\n\")\n",
    "        rank[name]=level\n",
    "        while(1) :\n",
    "            x=input(\"더 진행할려고 y를 입력하고, 종료할거면 n을 입력해주세요(랭킹보기 : 1)\\n\")\n",
    "            if (x=='y'): \n",
    "                level=1\n",
    "                break\n",
    "            elif(x=='n'): sys.exit(0)\n",
    "            elif(x=='1') :print(rank,end=\" \")\n",
    "            else : print(\"제대로 입력해주세요\")\n",
    "    print(\"초기화 중입니다\")\n",
    "    sleep(2)\n",
    "    clear_output()"
   ]
  },
  {
   "cell_type": "code",
   "execution_count": 28,
   "metadata": {},
   "outputs": [
    {
     "name": "stdout",
     "output_type": "stream",
     "text": [
      "안녕하세요 당신은 미로에 갇히게 되었습니다.\n",
      "\n",
      "간단합니다 미로에서 탈출 하시면 됩니다.\n",
      "1.시작하기\n",
      "2.설명보기\n",
      "3.끝내기\n",
      "\n",
      "1\n",
      "miro_level_0.txt\n",
      "당신은 미궁에 갇혔고 탈출하시며 됩니다.\n",
      "\n",
      "후회없는 선택이 있길 빌겠습니다.\n",
      "1. 주위를 살펴보기 : 행동력 변동없음\n",
      "2, 이동하기 : 행동력 -1\n",
      "3. 아이템 사용하기 : 행동력 변동 없음\n",
      "1\n"
     ]
    },
    {
     "ename": "TypeError",
     "evalue": "'int' object is not subscriptable",
     "output_type": "error",
     "traceback": [
      "\u001b[1;31m---------------------------------------------------------------------------\u001b[0m",
      "\u001b[1;31mTypeError\u001b[0m                                 Traceback (most recent call last)",
      "\u001b[1;32m<ipython-input-28-070ad4b2ce16>\u001b[0m in \u001b[0;36m<module>\u001b[1;34m\u001b[0m\n\u001b[0;32m     17\u001b[0m     \u001b[0mprint\u001b[0m\u001b[1;33m(\u001b[0m\u001b[1;34m\"1.시작하기\\n2.설명보기\\n3.끝내기\\n\"\u001b[0m\u001b[1;33m)\u001b[0m\u001b[1;33m\u001b[0m\u001b[1;33m\u001b[0m\u001b[0m\n\u001b[0;32m     18\u001b[0m     \u001b[0mdata\u001b[0m \u001b[1;33m=\u001b[0m \u001b[0mint\u001b[0m\u001b[1;33m(\u001b[0m\u001b[0minput\u001b[0m\u001b[1;33m(\u001b[0m\u001b[1;33m)\u001b[0m\u001b[1;33m)\u001b[0m\u001b[1;33m\u001b[0m\u001b[1;33m\u001b[0m\u001b[0m\n\u001b[1;32m---> 19\u001b[1;33m     \u001b[1;32mif\u001b[0m \u001b[0mdata\u001b[0m\u001b[1;33m==\u001b[0m\u001b[1;36m1\u001b[0m \u001b[1;33m:\u001b[0m\u001b[0mmiro\u001b[0m\u001b[1;33m(\u001b[0m\u001b[1;36m0\u001b[0m\u001b[1;33m)\u001b[0m\u001b[1;33m\u001b[0m\u001b[1;33m\u001b[0m\u001b[0m\n\u001b[0m\u001b[0;32m     20\u001b[0m     \u001b[1;32melif\u001b[0m \u001b[0mdata\u001b[0m\u001b[1;33m==\u001b[0m\u001b[1;36m2\u001b[0m \u001b[1;33m:\u001b[0m \u001b[0minfo\u001b[0m\u001b[1;33m(\u001b[0m\u001b[1;33m)\u001b[0m\u001b[1;33m\u001b[0m\u001b[1;33m\u001b[0m\u001b[0m\n\u001b[0;32m     21\u001b[0m     \u001b[1;32melif\u001b[0m \u001b[0mdata\u001b[0m\u001b[1;33m==\u001b[0m\u001b[1;36m3\u001b[0m \u001b[1;33m:\u001b[0m\u001b[1;33m\u001b[0m\u001b[1;33m\u001b[0m\u001b[0m\n",
      "\u001b[1;32m<ipython-input-22-29820eb4861a>\u001b[0m in \u001b[0;36mmiro\u001b[1;34m(level)\u001b[0m\n\u001b[0;32m     22\u001b[0m                 \u001b[0mprint\u001b[0m\u001b[1;33m(\u001b[0m\u001b[1;34m\"3. 아이템 사용하기 : 행동력 변동 없음\"\u001b[0m\u001b[1;33m)\u001b[0m\u001b[1;33m\u001b[0m\u001b[1;33m\u001b[0m\u001b[0m\n\u001b[0;32m     23\u001b[0m                 \u001b[0mchoice\u001b[0m\u001b[1;33m=\u001b[0m\u001b[0mint\u001b[0m\u001b[1;33m(\u001b[0m\u001b[0minput\u001b[0m\u001b[1;33m(\u001b[0m\u001b[1;33m)\u001b[0m\u001b[1;33m)\u001b[0m\u001b[1;33m\u001b[0m\u001b[1;33m\u001b[0m\u001b[0m\n\u001b[1;32m---> 24\u001b[1;33m                 \u001b[1;32mif\u001b[0m \u001b[0mchoice\u001b[0m \u001b[1;33m==\u001b[0m \u001b[1;36m1\u001b[0m \u001b[1;33m:\u001b[0m \u001b[0mlook\u001b[0m\u001b[1;33m(\u001b[0m\u001b[0mx\u001b[0m\u001b[1;33m,\u001b[0m\u001b[0my\u001b[0m\u001b[1;33m,\u001b[0m\u001b[0ms\u001b[0m\u001b[1;33m)\u001b[0m\u001b[1;33m\u001b[0m\u001b[1;33m\u001b[0m\u001b[0m\n\u001b[0m\u001b[0;32m     25\u001b[0m                 \u001b[1;32melif\u001b[0m \u001b[0mchoice\u001b[0m \u001b[1;33m==\u001b[0m \u001b[1;36m2\u001b[0m \u001b[1;33m:\u001b[0m \u001b[0mmove\u001b[0m\u001b[1;33m(\u001b[0m\u001b[0mx\u001b[0m\u001b[1;33m,\u001b[0m\u001b[0my\u001b[0m\u001b[1;33m)\u001b[0m\u001b[1;33m\u001b[0m\u001b[1;33m\u001b[0m\u001b[0m\n\u001b[0;32m     26\u001b[0m                 \u001b[1;32melif\u001b[0m \u001b[0mchoice\u001b[0m \u001b[1;33m==\u001b[0m \u001b[1;36m3\u001b[0m \u001b[1;33m:\u001b[0m \u001b[0mitem_in\u001b[0m\u001b[1;33m(\u001b[0m\u001b[1;33m)\u001b[0m\u001b[1;33m\u001b[0m\u001b[1;33m\u001b[0m\u001b[0m\n",
      "\u001b[1;32m<ipython-input-16-8e1d4c8afd04>\u001b[0m in \u001b[0;36mlook\u001b[1;34m(st_x, st_y, size)\u001b[0m\n\u001b[0;32m      5\u001b[0m     \u001b[0md\u001b[0m \u001b[1;33m=\u001b[0m \u001b[0mst_y\u001b[0m\u001b[1;33m+\u001b[0m\u001b[1;36m1\u001b[0m\u001b[1;33m\u001b[0m\u001b[1;33m\u001b[0m\u001b[0m\n\u001b[0;32m      6\u001b[0m     \u001b[1;32mif\u001b[0m \u001b[1;36m0\u001b[0m\u001b[1;33m<\u001b[0m\u001b[0mw\u001b[0m\u001b[1;33m<\u001b[0m\u001b[0msize\u001b[0m \u001b[1;33m:\u001b[0m\u001b[1;33m\u001b[0m\u001b[1;33m\u001b[0m\u001b[0m\n\u001b[1;32m----> 7\u001b[1;33m         \u001b[1;32mif\u001b[0m \u001b[1;33m(\u001b[0m\u001b[0mdata\u001b[0m\u001b[1;33m[\u001b[0m\u001b[0mw\u001b[0m\u001b[1;33m]\u001b[0m\u001b[1;33m[\u001b[0m\u001b[0mst_y\u001b[0m\u001b[1;33m]\u001b[0m\u001b[1;33m==\u001b[0m\u001b[1;34m'@'\u001b[0m\u001b[1;33m)\u001b[0m \u001b[1;33m:\u001b[0m\u001b[0mprint\u001b[0m\u001b[1;33m(\u001b[0m\u001b[1;34m\"위쪽은 장애물입니다\"\u001b[0m\u001b[1;33m)\u001b[0m\u001b[1;33m\u001b[0m\u001b[1;33m\u001b[0m\u001b[0m\n\u001b[0m\u001b[0;32m      8\u001b[0m         \u001b[1;32melse\u001b[0m \u001b[1;33m:\u001b[0m \u001b[0mprint\u001b[0m\u001b[1;33m(\u001b[0m\u001b[1;34m\"위쪽은 갈수 있는 길입니다.\"\u001b[0m\u001b[1;33m)\u001b[0m\u001b[1;33m\u001b[0m\u001b[1;33m\u001b[0m\u001b[0m\n\u001b[0;32m      9\u001b[0m     \u001b[1;32mif\u001b[0m \u001b[1;36m0\u001b[0m\u001b[1;33m<\u001b[0m\u001b[0ma\u001b[0m\u001b[1;33m<\u001b[0m\u001b[0msize\u001b[0m \u001b[1;33m:\u001b[0m\u001b[1;33m\u001b[0m\u001b[1;33m\u001b[0m\u001b[0m\n",
      "\u001b[1;31mTypeError\u001b[0m: 'int' object is not subscriptable"
     ]
    }
   ],
   "source": [
    "# f=open(\"miro_test.txt\",\"r\",encoding='UTF-8')\n",
    "# data = f.read()\n",
    "# print(data)\n",
    "import random\n",
    "from time import sleep\n",
    "from IPython.display import clear_output\n",
    "\n",
    "Item=0\n",
    "Item_list=[]\n",
    "Vigor=[]\n",
    "Size=[5,7,9,9,11,15]\n",
    "st_x=[4,6,9,7,7,10]\n",
    "st_y=[0,1,1,8,5,3]\n",
    "while (1) :\n",
    "    print(\"안녕하세요 당신은 미로에 갇히게 되었습니다.\\n\")\n",
    "    print(\"간단합니다 미로에서 탈출 하시면 됩니다.\")\n",
    "    print(\"1.시작하기\\n2.설명보기\\n3.끝내기\\n\")\n",
    "    data = int(input())\n",
    "    if data==1 :miro(0)\n",
    "    elif data==2 : info()\n",
    "    elif data==3 :\n",
    "        print(\"프로그램을 종료합니다\")\n",
    "        break\n",
    "    else :\n",
    "        print(\"1~4번 중에 다시 선택해주세요\")\n",
    "    clear_output()"
   ]
  },
  {
   "cell_type": "code",
   "execution_count": 1,
   "metadata": {},
   "outputs": [],
   "source": [
    "def info() :\n",
    "    print(\"안녕하세요 여기는 미로의 대해서 설명을 하는 곳입니다.\\n\")\n",
    "    while 1 :\n",
    "        n=int(input(\"1. 게임의 룰\\n2.아이템\\n3.함정\\n4.나가기\"))\n",
    "        if n==1 : \n",
    "            print(\"게임의 룰 설명\\n\")\n",
    "            print(\"해당 게임에는 행동력이 있으며 행동력안에 미로를 탈출하시면 됩니다.\\n\")\n",
    "            print(\"또한 맵을 공개하지 않기 때문에 운이 많이 적용할 수 있습니다.\\n\")\n",
    "            print(\"레벨은 5단계까지 있으며 클리어시 한 단계씩 올라갑니다\\n\")\n",
    "            print(\"미로에는 아이템도 있으며 , 함정도 존재합니다\\n\")\n",
    "            print(\"아이템은 두 종료가 있고, 바로 발동하는것과 나중에 사용가능한 것입니다.\\n\")\n",
    "            print(\"함정을 밟게 되면 패널티가 작용되니 조심히 움직이시면 됩니다.\\n\")\n",
    "        elif n==2:\n",
    "            print(\"지도 : 맵을 볼 수 있습니다\\n\")\n",
    "            print(\"드릴 : 벽 3개 정도를 부술수 있습니다.\\n\")\n",
    "            print(\"텔레포트 : 랜덤한 위치로 이동합니다(상시발동)\\n\")\n",
    "            print(\"비상식량 : 행동력을 3을 회복합니다\\n\")\n",
    "            print(\"돌진 : 해당 방향키로 돌진합니다(지형지물 무시)\\n\")\n",
    "            print(\"귀환의 돌 : 시작지점으로 돌아갑니다\\n\")\n",
    "            print(\"함정해제 : 미로의 모든 함정을 제거합니다.\")\n",
    "        elif n==3:\n",
    "            print(\"방향치 : 이동시 랜덤한 방향으로 이동합니다(3턴)\\n\")\n",
    "            print(\"화살덫 : 부상을 입어 행동력 -3을 합니다.\\n\")\n",
    "        elif n==4:\n",
    "            print(\"종료\")\n",
    "            clear_output()\n",
    "            break\n",
    "        else:print(\"제대로 입력해주세요\")"
   ]
  },
  {
   "cell_type": "raw",
   "metadata": {},
   "source": [
    "def tutorial() :\n",
    "    print(\"안녕하세요 여기는 간단한 미로를 탈출하는 곳입니다.\")\n",
    "    print(\"이쪽은 간단한 튜토리얼이기 때문에 끝나면 처음으로 갑니다\\n5초뒤에 시작합니다.\")\n",
    "    sleep(5)\n",
    "    miro(0)\n"
   ]
  },
  {
   "cell_type": "code",
   "execution_count": 2,
   "metadata": {},
   "outputs": [
    {
     "ename": "SyntaxError",
     "evalue": "'break' outside loop (<ipython-input-2-9eb8850195d6>, line 61)",
     "output_type": "error",
     "traceback": [
      "\u001b[1;36m  File \u001b[1;32m\"<ipython-input-2-9eb8850195d6>\"\u001b[1;36m, line \u001b[1;32m61\u001b[0m\n\u001b[1;33m    if not(Item_list[n]) :\u001b[0m\n\u001b[1;37m           ^\u001b[0m\n\u001b[1;31mSyntaxError\u001b[0m\u001b[1;31m:\u001b[0m 'break' outside loop\n"
     ]
    }
   ],
   "source": [
    "def look(st_x,st_y,size):\n",
    "    w = st_x-1\n",
    "    a = st_y-1\n",
    "    s = st_x+1\n",
    "    d = st_y+1\n",
    "    if 0<w<size :\n",
    "        print(data[w][st_y])\n",
    "        if (data[w][st_y]=='@') :print(\"위쪽은 장애물입니다\")\n",
    "        else : print(\"위쪽은 갈수 있는 길입니다.\")\n",
    "    if 0<a<size :\n",
    "        if (data[st_x][a]=='@') :print(\"죄측은 장애물입니다\")\n",
    "        else : print(\"좌측은 갈수 있는 길입니다.\")\n",
    "    if 0<s<size :\n",
    "        if (data[s][st_y]=='@') :print(\"아래는 장애물입니다\")\n",
    "        else : print(\"아래는갈수 있는 길입니다.\")\n",
    "    if 0<d<size :\n",
    "        if (data[st_x][d]=='@') :print(\"우측은 장애물입니다\")\n",
    "        else : print(\"우측은 갈수 있는 길입니다.\")\n",
    "def move(x,y):\n",
    "   \n",
    "    while (1) : \n",
    "        m = input(\"w,a,s,d를 입력하세요\")\n",
    "        if m=='w' :\n",
    "            if data[x-1][y]=='@' : \n",
    "                print(\"막혀있습니다.\\n다시 입력하세요\")\n",
    "                continue\n",
    "            else : \n",
    "                x-=1\n",
    "                print(\"위쪽으로 이동하였습니다.\")\n",
    "        elif m=='a':\n",
    "            if data[x][y-1]=='@' : \n",
    "                print(\"막혀있습니다.\\n다시 입력하세요\")\n",
    "                continue\n",
    "            else : \n",
    "                y-=1\n",
    "                print(\"왼쪽으로 이동하였습니다.\")\n",
    "        elif m=='s':\n",
    "            if data[x+1][y]=='@' : \n",
    "                print(\"막혀있습니다.\\n다시 입력하세요\")\n",
    "                continue\n",
    "            else : \n",
    "                x+=1\n",
    "                print(\"아래으로 이동하였습니다.\")\n",
    "        elif m=='d':\n",
    "            if data[x1][y+1]=='@' : \n",
    "                print(\"막혀있습니다.\\n다시 입력하세요\")\n",
    "                continue\n",
    "            else : \n",
    "                y+=1\n",
    "                print(\"우측으로 이동하였습니다.\")\n",
    "        return x,y\n",
    "def item_in():\n",
    "    global Item\n",
    "    global Item_list\n",
    "    i = Item\n",
    "    if not(i) : \n",
    "        print(\"아이템을 가지고 있지 않습니다.\")\n",
    "        break\n",
    "    while (1) :\n",
    "        n=int(input(\"사용하실 아이템을 선택해주세요\"))\n",
    "        if not(Item_list[n]) : \n",
    "            print(\"해당 아이템을 사용합니다.\")\n",
    "        else : print(\"유효한 숫자를 입력해주세요\")\n",
    "        "
   ]
  },
  {
   "cell_type": "code",
   "execution_count": 3,
   "metadata": {},
   "outputs": [],
   "source": [
    "def miro(level) :\n",
    "    global st_x\n",
    "    global st_y\n",
    "    while(1) :\n",
    "        txt=\"miro_level_\"+str(level)+\".txt\"\n",
    "        print(txt)\n",
    "        f=open(txt,\"r\",encoding='UTF-8')\n",
    "        m = f.read()\n",
    "        x= st_x[level]\n",
    "        y= st_y[level]\n",
    "        s = Size[level]\n",
    "        if (m[x][y]=='#') :\n",
    "            print(\"클리어!\\n\")\n",
    "            level+=1\n",
    "        while(1) :\n",
    "            print(\"당신은 미궁에 갇혔고 탈출하시며 됩니다.\\n\")\n",
    "            print(\"후회없는 선택이 있길 빌겠습니다.\")\n",
    "            while(1) :\n",
    "                print(\"1. 주위를 살펴보기 : 행동력 변동없음\")\n",
    "                #print(\"2. 휴식하지 : 시간-1, 행동력+!\")\n",
    "                print(\"2, 이동하기 : 행동력 -1\")\n",
    "                print(\"3. 아이템 사용하기 : 행동력 변동 없음\")\n",
    "                choice=int(input())\n",
    "                if choice == 1 : look(x,y,s)\n",
    "                elif choice == 2 : move(x,y)\n",
    "                elif choice == 3 : item_in()\n",
    "                else :\n",
    "                    print(\"제대로 입력해주세요.\")\n",
    "                    clear_output()\n",
    "    fclose()"
   ]
  },
  {
   "cell_type": "code",
   "execution_count": 5,
   "metadata": {},
   "outputs": [
    {
     "name": "stdout",
     "output_type": "stream",
     "text": [
      "3개 입력\n"
     ]
    }
   ],
   "source": [
    "a = input(\"3개 입력\")"
   ]
  },
  {
   "cell_type": "code",
   "execution_count": 31,
   "metadata": {},
   "outputs": [
    {
     "data": {
      "text/plain": [
       "123"
      ]
     },
     "execution_count": 31,
     "metadata": {},
     "output_type": "execute_result"
    }
   ],
   "source": [
    "b = '123'\n",
    "int(b)"
   ]
  }
 ],
 "metadata": {
  "kernelspec": {
   "display_name": "Python 3",
   "language": "python",
   "name": "python3"
  },
  "language_info": {
   "codemirror_mode": {
    "name": "ipython",
    "version": 3
   },
   "file_extension": ".py",
   "mimetype": "text/x-python",
   "name": "python",
   "nbconvert_exporter": "python",
   "pygments_lexer": "ipython3",
   "version": "3.7.3"
  }
 },
 "nbformat": 4,
 "nbformat_minor": 2
}
