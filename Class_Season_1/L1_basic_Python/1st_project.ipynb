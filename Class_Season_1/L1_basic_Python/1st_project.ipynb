{
 "cells": [
  {
   "cell_type": "code",
   "execution_count": 5,
   "metadata": {},
   "outputs": [],
   "source": [
    "import pandas as pd\n",
    "import numpy as np\n",
    "import math\n",
    "import random"
   ]
  },
  {
   "cell_type": "code",
   "execution_count": 3,
   "metadata": {
    "scrolled": true
   },
   "outputs": [
    {
     "name": "stdout",
     "output_type": "stream",
     "text": [
      "1.자리쟁탈 2.랜덤 3.자리보기 4.종료1\n",
      "col를 입력해주세요6\n",
      "인원수를 입력해주세요25\n",
      "몇번째 줄에 앉을건지 입력해주세요 종료:01\n",
      "1st line에 앉을 사람들을 적어주세요(구분:, 뒤로가기:0)이준형, 손경민, 홍다혜, 강다솜, 백승연, 김가영\n",
      "손경민먼저\n",
      "몇번째자리(숫자1~6입력)2\n",
      "홍다혜먼저\n",
      "몇번째자리(숫자1~6입력)3\n",
      "백승연먼저\n",
      "몇번째자리(숫자1~6입력)5\n",
      "이준형먼저\n",
      "몇번째자리(숫자1~6입력)1\n",
      "김가영먼저\n",
      "몇번째자리(숫자1~6입력)6\n",
      "강다솜먼저\n",
      "몇번째자리(숫자1~6입력)4\n",
      "몇번째 줄에 앉을건지 입력해주세요 종료:00\n",
      "1.자리쟁탈 2.랜덤 3.자리보기 4.종료3\n",
      "     1    2    3    4    5    6\n",
      "1  이준형  손경민  홍다혜  강다솜  백승연  김가영\n",
      "2  0.0  0.0  0.0  0.0  0.0  0.0\n",
      "3  0.0  0.0  0.0  0.0  0.0  0.0\n",
      "4  0.0  0.0  0.0  0.0  0.0  0.0\n",
      "5  0.0  0.0  0.0  0.0  0.0  0.0\n",
      "1.자리쟁탈 2.랜덤 3.자리보기 4.종료2\n",
      "     1    2    3    4    5    6\n",
      "1  박지혜  김효빈  차원석  강다솜  홍다혜  김강빈\n",
      "2  김완규  이여진  백승연  0.0  김민철  이진규\n",
      "3  정한성  조수연  김가영  박선아  전민수  송민정\n",
      "4  김원중  0.0  이경준  이준형  0.0  0.0\n",
      "5  유애진  김홍덕  0.0   황훈  손승욱  정윤성\n",
      "1.자리쟁탈 2.랜덤 3.자리보기 4.종료2\n",
      "     1    2    3    4    5    6\n",
      "1  유애진  이여진  차원석  박선아  0.0  이진규\n",
      "2  김완규  김홍덕  백승연   황훈  전민수  송민정\n",
      "3  정한성  김효빈  이경준  0.0  김민철  0.0\n",
      "4  박지혜  0.0  0.0  이준형  손승욱  김강빈\n",
      "5  김원중  조수연  김가영  강다솜  홍다혜  정윤성\n",
      "1.자리쟁탈 2.랜덤 3.자리보기 4.종료4\n"
     ]
    }
   ],
   "source": [
    "while(1):\n",
    "    menu = int(input(\"1.자리쟁탈 2.랜덤 3.자리보기 4.종료\"))\n",
    "    if menu == 1:\n",
    "        max_col = int(input(\"col를 입력해주세요\"))\n",
    "        peaple = int(input(\"인원수를 입력해주세요\"))\n",
    "        colceil = math.ceil(peaple/max_col)\n",
    "        seat= np.zeros(max_col*colceil).reshape(colceil,max_col).astype('O')\n",
    "        seat=pd.DataFrame(seat, columns=[i for i in range(1,max_col+1,1)],index=[i for i in range(1,colceil+1,1)])\n",
    "#         seat=pd.DataFrame(seat)\n",
    "\n",
    "        exit = 0\n",
    "        for i in range(colceil):  \n",
    "            if exit == 1:\n",
    "                break\n",
    "            else:\n",
    "                for i in range(colceil):        \n",
    "                    row = int(input(\"몇번째 줄에 앉을건지 입력해주세요 종료:0\"))\n",
    "                    if row == 0:\n",
    "                        exit = 1\n",
    "                        break\n",
    "                    else:\n",
    "                        competitor = str(input(\"{}st line에 앉을 사람들을 적어주세요(구분:, 뒤로가기:0)\".format(row)))\n",
    "                        if competitor is '0':\n",
    "                            break\n",
    "                        else:\n",
    "                            competitor = competitor.replace(\" \", '').strip(', \\n~!@#$%^&*()_+|;./*+123456789').split(',')\n",
    "                            for i in range(len(competitor)):\n",
    "                                if i > colceil:\n",
    "                                    break\n",
    "                                else:\n",
    "                                    lucky = random.choice(competitor)\n",
    "                                    print('{}먼저'.format(lucky))\n",
    "                                    done = int(input(\"몇번째자리(숫자1~{}입력)\".format(max_col)))\n",
    "                                    seat[done].loc[row]='{}'.format(lucky)\n",
    "                                    competitor.remove(lucky)\n",
    "                        seat.to_csv(\"seat.csv\", mode='w')\n",
    "                \n",
    "        \n",
    "    elif menu == 2:\n",
    "        seat_load = pd.read_csv(\"b_class.csv\",index_col = 0)\n",
    "#         seat_load=seat_load.sample(frac=1).reset_index(drop=True)\n",
    "#         print(seat_load.apply(np.random.permutation,axis=1))\n",
    "        print(seat_load.apply(np.random.permutation,axis=0))\n",
    "        seat_load = seat_load.apply(np.random.permutation,axis=0)\n",
    "        seat_load.to_csv(\"b_class.csv\", mode='w')\n",
    "    elif menu == 3:       \n",
    "        seat_load = pd.read_csv(\"seat.csv\",index_col = 0)\n",
    "        print(seat_load) \n",
    "        seat\n",
    "    elif menu == 4:\n",
    "        \n",
    "        break\n",
    "    else:\n",
    "        pass"
   ]
  },
  {
   "cell_type": "markdown",
   "metadata": {},
   "source": [
    "# 3\n",
    "4\n",
    "## print(seat)\n",
    "print(b_seat)"
   ]
  },
  {
   "cell_type": "code",
   "execution_count": 3,
   "metadata": {},
   "outputs": [
    {
     "name": "stdout",
     "output_type": "stream",
     "text": [
      "col를 입력해주세요6\n",
      "인원수를 입력해주세요\n"
     ]
    },
    {
     "ename": "ValueError",
     "evalue": "invalid literal for int() with base 10: ''",
     "output_type": "error",
     "traceback": [
      "\u001b[1;31m---------------------------------------------------------------------------\u001b[0m",
      "\u001b[1;31mValueError\u001b[0m                                Traceback (most recent call last)",
      "\u001b[1;32m<ipython-input-3-4a392620bc21>\u001b[0m in \u001b[0;36m<module>\u001b[1;34m\u001b[0m\n\u001b[0;32m      1\u001b[0m \u001b[0mmax_col\u001b[0m \u001b[1;33m=\u001b[0m \u001b[0mint\u001b[0m\u001b[1;33m(\u001b[0m\u001b[0minput\u001b[0m\u001b[1;33m(\u001b[0m\u001b[1;34m\"col를 입력해주세요\"\u001b[0m\u001b[1;33m)\u001b[0m\u001b[1;33m)\u001b[0m\u001b[1;33m\u001b[0m\u001b[1;33m\u001b[0m\u001b[0m\n\u001b[1;32m----> 2\u001b[1;33m \u001b[0mpeaple\u001b[0m \u001b[1;33m=\u001b[0m \u001b[0mint\u001b[0m\u001b[1;33m(\u001b[0m\u001b[0minput\u001b[0m\u001b[1;33m(\u001b[0m\u001b[1;34m\"인원수를 입력해주세요\"\u001b[0m\u001b[1;33m)\u001b[0m\u001b[1;33m)\u001b[0m\u001b[1;33m\u001b[0m\u001b[1;33m\u001b[0m\u001b[0m\n\u001b[0m\u001b[0;32m      3\u001b[0m \u001b[0mcolceil\u001b[0m \u001b[1;33m=\u001b[0m \u001b[0mmath\u001b[0m\u001b[1;33m.\u001b[0m\u001b[0mceil\u001b[0m\u001b[1;33m(\u001b[0m\u001b[0mpeaple\u001b[0m\u001b[1;33m/\u001b[0m\u001b[0mmax_col\u001b[0m\u001b[1;33m)\u001b[0m\u001b[1;33m\u001b[0m\u001b[1;33m\u001b[0m\u001b[0m\n\u001b[0;32m      4\u001b[0m \u001b[0mseat\u001b[0m\u001b[1;33m=\u001b[0m \u001b[0mnp\u001b[0m\u001b[1;33m.\u001b[0m\u001b[0mzeros\u001b[0m\u001b[1;33m(\u001b[0m\u001b[0mmax_col\u001b[0m\u001b[1;33m*\u001b[0m\u001b[0mcolceil\u001b[0m\u001b[1;33m)\u001b[0m\u001b[1;33m.\u001b[0m\u001b[0mreshape\u001b[0m\u001b[1;33m(\u001b[0m\u001b[0mcolceil\u001b[0m\u001b[1;33m,\u001b[0m\u001b[0mmax_col\u001b[0m\u001b[1;33m)\u001b[0m\u001b[1;33m.\u001b[0m\u001b[0mastype\u001b[0m\u001b[1;33m(\u001b[0m\u001b[1;34m'O'\u001b[0m\u001b[1;33m)\u001b[0m\u001b[1;33m\u001b[0m\u001b[1;33m\u001b[0m\u001b[0m\n\u001b[0;32m      5\u001b[0m \u001b[0mseat\u001b[0m\u001b[1;33m=\u001b[0m\u001b[0mpd\u001b[0m\u001b[1;33m.\u001b[0m\u001b[0mDataFrame\u001b[0m\u001b[1;33m(\u001b[0m\u001b[0mseat\u001b[0m\u001b[1;33m,\u001b[0m \u001b[0mcolumns\u001b[0m\u001b[1;33m=\u001b[0m\u001b[1;33m[\u001b[0m\u001b[1;34m'{:4}'\u001b[0m\u001b[1;33m.\u001b[0m\u001b[0mformat\u001b[0m\u001b[1;33m(\u001b[0m\u001b[0mi\u001b[0m\u001b[1;33m)\u001b[0m \u001b[1;32mfor\u001b[0m \u001b[0mi\u001b[0m \u001b[1;32min\u001b[0m \u001b[0mrange\u001b[0m\u001b[1;33m(\u001b[0m\u001b[1;36m1\u001b[0m\u001b[1;33m,\u001b[0m\u001b[0mmax_col\u001b[0m\u001b[1;33m+\u001b[0m\u001b[1;36m1\u001b[0m\u001b[1;33m,\u001b[0m\u001b[1;36m1\u001b[0m\u001b[1;33m)\u001b[0m\u001b[1;33m]\u001b[0m\u001b[1;33m,\u001b[0m\u001b[0mindex\u001b[0m\u001b[1;33m=\u001b[0m\u001b[1;33m[\u001b[0m\u001b[0mi\u001b[0m \u001b[1;32mfor\u001b[0m \u001b[0mi\u001b[0m \u001b[1;32min\u001b[0m \u001b[0mrange\u001b[0m\u001b[1;33m(\u001b[0m\u001b[1;36m1\u001b[0m\u001b[1;33m,\u001b[0m\u001b[0mcolceil\u001b[0m\u001b[1;33m+\u001b[0m\u001b[1;36m1\u001b[0m\u001b[1;33m,\u001b[0m\u001b[1;36m1\u001b[0m\u001b[1;33m)\u001b[0m\u001b[1;33m]\u001b[0m\u001b[1;33m)\u001b[0m\u001b[1;33m\u001b[0m\u001b[1;33m\u001b[0m\u001b[0m\n",
      "\u001b[1;31mValueError\u001b[0m: invalid literal for int() with base 10: ''"
     ]
    }
   ],
   "source": [
    "max_col = int(input(\"col를 입력해주세요\"))\n",
    "peaple = int(input(\"인원수를 입력해주세요\"))\n",
    "colceil = math.ceil(peaple/max_col)\n",
    "seat= np.zeros(max_col*colceil).reshape(colceil,max_col).astype('O')\n",
    "seat=pd.DataFrame(seat, columns=['{:4}'.format(i) for i in range(1,max_col+1,1)],index=[i for i in range(1,colceil+1,1)])"
   ]
  },
  {
   "cell_type": "code",
   "execution_count": null,
   "metadata": {},
   "outputs": [],
   "source": [
    "seat"
   ]
  },
  {
   "cell_type": "code",
   "execution_count": null,
   "metadata": {},
   "outputs": [],
   "source": [
    "  with open('b_class.txt','r',encoding='UTF-8') as f:\n",
    "            b_seat =f.readlines()"
   ]
  },
  {
   "cell_type": "code",
   "execution_count": null,
   "metadata": {},
   "outputs": [],
   "source": [
    "b_seat= \", \".join(b_seat)"
   ]
  },
  {
   "cell_type": "code",
   "execution_count": null,
   "metadata": {},
   "outputs": [],
   "source": [
    "print(seat_load)\n",
    "# type(b_seat)\n",
    "# b_seat=np.array(b_seat)"
   ]
  },
  {
   "cell_type": "code",
   "execution_count": null,
   "metadata": {},
   "outputs": [],
   "source": [
    "\n",
    "print(seat[:])\n",
    "seat"
   ]
  },
  {
   "cell_type": "code",
   "execution_count": null,
   "metadata": {},
   "outputs": [],
   "source": [
    "b_seat"
   ]
  },
  {
   "cell_type": "code",
   "execution_count": null,
   "metadata": {},
   "outputs": [],
   "source": [
    "print(tabulate(seat_temp, showindex=False, headers=df.columns))"
   ]
  },
  {
   "cell_type": "code",
   "execution_count": null,
   "metadata": {},
   "outputs": [],
   "source": [
    "seat.to_csv(\"seat.csv\", mode='w')"
   ]
  },
  {
   "cell_type": "code",
   "execution_count": null,
   "metadata": {},
   "outputs": [],
   "source": [
    "seat_temp = pd.read_csv(\"seat.csv\",index_col = 0)"
   ]
  },
  {
   "cell_type": "markdown",
   "metadata": {},
   "source": [
    "b_seat.replace(\",123456789\\n\",'')"
   ]
  },
  {
   "cell_type": "code",
   "execution_count": null,
   "metadata": {},
   "outputs": [],
   "source": [
    "temp_filter=[1,2,3,4,5,6,7,8,9,0,'\\n',', ']\n",
    "for i in temp_filter: \n",
    "    b_seat=b_seat.replace(\"{}\".format(i),'')\n",
    "    print(i)\n",
    "#     b_seat=b_seat.strip(\" 1234567890,\")\n",
    "print(b_seat)"
   ]
  },
  {
   "cell_type": "markdown",
   "metadata": {},
   "source": [
    "b_seat.strip(' 1234567890,\\n')"
   ]
  },
  {
   "cell_type": "markdown",
   "metadata": {},
   "source": [
    "b_seat= \", \".join(b_seat)\n",
    "b_seat=b_seat.strip(' 1234567890,\\n')\n",
    "print(b_seat)"
   ]
  },
  {
   "cell_type": "markdown",
   "metadata": {},
   "source": [
    "seat"
   ]
  },
  {
   "cell_type": "markdown",
   "metadata": {},
   "source": [
    "seat= np.zeros(max_row*rowceil).reshape(rowceil,max_row).astype('O')\n",
    "seat=pd.DataFrame(seat, columns=['{:4}'.format(i) for i in range(1,max_row+1,1)],index=[i for i in range(1,rowceil+1,1)])"
   ]
  },
  {
   "cell_type": "raw",
   "metadata": {},
   "source": [
    "# def seat():\n",
    "line1 =int(input(\"몇번째 줄에 앉을건지 입력해주세요\"))\n",
    "line2=str(input(\"{}st line에 앉을 사람들을 적어주세요(구분:,)\".format(line1)))\n",
    "line2 = line2.replace(\" \", '').strip(', \\n~!@#$%^&*()_+|;./*+123456789').split(',')\n",
    "#     line2=line2.split(',')\n",
    "\n",
    "for i in range(len(line2)):\n",
    "    if i >= row:\n",
    "        break\n",
    "    else:\n",
    "        lucky=random.choice(line2)\n",
    "        print('{}먼저'.format(lucky))\n",
    "        done=int(input(\"몇번째자리(숫자)\"))\n",
    "        seat[done-1].ix[line1-1]=lucky\n",
    "        line2.remove(lucky)\n",
    "        "
   ]
  },
  {
   "cell_type": "raw",
   "metadata": {},
   "source": [
    "with open('seat.txt','w',encoding='UTF-8')as f:\n",
    "    f.writelines(str(seat))"
   ]
  },
  {
   "cell_type": "raw",
   "metadata": {},
   "source": [
    "f2 = open('avengers_2.txt','w',encoding='UTF-8')\n",
    "avengers.append(\"im iron-man\")\n",
    "f2.writelines(avengers)\n",
    "\n",
    "\n",
    "f2.close()\n"
   ]
  },
  {
   "cell_type": "raw",
   "metadata": {},
   "source": [
    "with open('seat.txt','r',encoding='UTF-8') as f:\n",
    "      seat =pd.DataFrame(seat)\n",
    "print(seat) "
   ]
  },
  {
   "cell_type": "raw",
   "metadata": {},
   "source": []
  },
  {
   "cell_type": "markdown",
   "metadata": {},
   "source": []
  }
 ],
 "metadata": {
  "kernelspec": {
   "display_name": "Python 3",
   "language": "python",
   "name": "python3"
  },
  "language_info": {
   "codemirror_mode": {
    "name": "ipython",
    "version": 3
   },
   "file_extension": ".py",
   "mimetype": "text/x-python",
   "name": "python",
   "nbconvert_exporter": "python",
   "pygments_lexer": "ipython3",
   "version": "3.7.3"
  }
 },
 "nbformat": 4,
 "nbformat_minor": 2
}
