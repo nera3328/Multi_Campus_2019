{
 "cells": [
  {
   "cell_type": "markdown",
   "metadata": {},
   "source": [
    "### Screen-output (화면출력)"
   ]
  },
  {
   "cell_type": "code",
   "execution_count": 1,
   "metadata": {},
   "outputs": [
    {
     "name": "stdout",
     "output_type": "stream",
     "text": [
      "1\n"
     ]
    }
   ],
   "source": [
    "print(1)"
   ]
  },
  {
   "cell_type": "markdown",
   "metadata": {},
   "source": [
    "Quiz)  \n",
    "1. print함수 1개를 이용해서, 'hello, multicampus'를 3개를 출력하되, 세줄에 걸쳐 출력해보세요.  \n",
    "  \n",
    "2. print함수 3개를 이용해서, 'hello, ardino'를 3개를 출력하되, 한줄에 출력해보세요."
   ]
  },
  {
   "cell_type": "code",
   "execution_count": 2,
   "metadata": {},
   "outputs": [
    {
     "name": "stdout",
     "output_type": "stream",
     "text": [
      "hello, multicampus\n",
      "hello, multicampus\n",
      "hello, multicampus\n"
     ]
    }
   ],
   "source": [
    "#1\n",
    "# print(1, 2, 3, sep='+')\n",
    "print('hello, multicampus', 'hello, multicampus', 'hello, multicampus', sep='\\n')"
   ]
  },
  {
   "cell_type": "code",
   "execution_count": 3,
   "metadata": {},
   "outputs": [
    {
     "name": "stdout",
     "output_type": "stream",
     "text": [
      "hello, ardino hello, ardino hello, ardino"
     ]
    }
   ],
   "source": [
    "#2\n",
    "print('hello, ardino', end=' ')\n",
    "print('hello, ardino', end=' ')\n",
    "print('hello, ardino', end='')"
   ]
  },
  {
   "cell_type": "markdown",
   "metadata": {},
   "source": [
    "### format (형식 지정 출력)"
   ]
  },
  {
   "cell_type": "code",
   "execution_count": 4,
   "metadata": {},
   "outputs": [
    {
     "name": "stdout",
     "output_type": "stream",
     "text": [
      "hellomulticampus\n"
     ]
    }
   ],
   "source": [
    "print(\"hello\" + 'multicampus')"
   ]
  },
  {
   "cell_type": "code",
   "execution_count": 5,
   "metadata": {},
   "outputs": [
    {
     "name": "stdout",
     "output_type": "stream",
     "text": [
      "hello\n"
     ]
    }
   ],
   "source": [
    "print(\"{}\".format('hello')) #= {<'data'>}.format('data') "
   ]
  },
  {
   "cell_type": "code",
   "execution_count": 6,
   "metadata": {},
   "outputs": [
    {
     "name": "stdout",
     "output_type": "stream",
     "text": [
      "hellomulticampus\n"
     ]
    }
   ],
   "source": [
    "print(\"{}{}\".format('hello', 'multicampus'))\n",
    "#= {<data1>}{<data2>}.format('data1', 'data2')"
   ]
  },
  {
   "cell_type": "code",
   "execution_count": null,
   "metadata": {},
   "outputs": [
    {
     "name": "stdout",
     "output_type": "stream",
     "text": [
      "multicampushello\n"
     ]
    }
   ],
   "source": [
    "print(\"{1}{0}\".format('hello', 'multicampus'))\n",
    "#순서 지정"
   ]
  },
  {
   "cell_type": "code",
   "execution_count": null,
   "metadata": {},
   "outputs": [
    {
     "name": "stdout",
     "output_type": "stream",
     "text": [
      "multicampus, hello~!!\n"
     ]
    }
   ],
   "source": [
    "print(\"{1}, {0}~!!\".format('hello', 'multicampus'))\n",
    "#표현의 자유"
   ]
  },
  {
   "cell_type": "code",
   "execution_count": null,
   "metadata": {},
   "outputs": [
    {
     "name": "stdout",
     "output_type": "stream",
     "text": [
      "00\n",
      "01\n",
      "02\n",
      "03\n",
      "04\n",
      "05\n",
      "06\n",
      "07\n",
      "08\n",
      "09\n",
      "10\n",
      "11\n",
      "12\n",
      "13\n",
      "14\n"
     ]
    }
   ],
   "source": [
    "data = [i for i in range(15)]\n",
    "\n",
    "for d in data:\n",
    "    print('{:02}'.format(d))"
   ]
  },
  {
   "cell_type": "raw",
   "metadata": {},
   "source": [
    "Quiz)\n",
    "1 2 3 4 ... 10\n",
    "11 12 ...   20\n",
    "..\n",
    "..\n",
    "91 92 ...   100\n",
    "\n",
    "을 출력하되, 보기 좋게 자리수를 맞춰서 출력해보세요."
   ]
  },
  {
   "cell_type": "code",
   "execution_count": null,
   "metadata": {},
   "outputs": [
    {
     "name": "stdout",
     "output_type": "stream",
     "text": [
      "  1   2   3   4   5   6   7   8   9  10 \n",
      " 11  12  13  14  15  16  17  18  19  20 \n",
      " 21  22  23  24  25  26  27  28  29  30 \n",
      " 31  32  33  34  35  36  37  38  39  40 \n",
      " 41  42  43  44  45  46  47  48  49  50 \n",
      " 51  52  53  54  55  56  57  58  59  60 \n",
      " 61  62  63  64  65  66  67  68  69  70 \n",
      " 71  72  73  74  75  76  77  78  79  80 \n",
      " 81  82  83  84  85  86  87  88  89  90 \n",
      " 91  92  93  94  95  96  97  98  99 100 \n"
     ]
    }
   ],
   "source": [
    "for i in range(1, 101):\n",
    "    print('{:3}'.format(i), end=' ')\n",
    "    if i%10 == 0:\n",
    "        print()"
   ]
  },
  {
   "cell_type": "code",
   "execution_count": null,
   "metadata": {},
   "outputs": [
    {
     "name": "stdout",
     "output_type": "stream",
     "text": [
      "4.4535\n"
     ]
    }
   ],
   "source": [
    "number = 4.45345324\n",
    "print('{:.5}'.format(number))"
   ]
  },
  {
   "cell_type": "code",
   "execution_count": null,
   "metadata": {},
   "outputs": [
    {
     "name": "stdout",
     "output_type": "stream",
     "text": [
      "[0.0125, 0.0216, 0.0343, 0.0512, 0.0729, 0.1, 0.1331, 0.1728, 0.2197, 0.2744]\n",
      "0.01\n",
      "0.02\n",
      "0.03\n",
      "0.05\n",
      "0.07\n",
      "0.10\n",
      "0.13\n",
      "0.17\n",
      "0.22\n",
      "0.27\n"
     ]
    }
   ],
   "source": [
    "data = [(i+5)**3/10000 for i in range(10)] # 실수 10개로 이루어진 리스트\n",
    "print(data)\n",
    "\n",
    "for i in data:\n",
    "    print('{:.2f}'.format(i)) #float (round; 반올림 적용)"
   ]
  },
  {
   "cell_type": "markdown",
   "metadata": {},
   "source": [
    "### keyboard input"
   ]
  },
  {
   "cell_type": "code",
   "execution_count": null,
   "metadata": {},
   "outputs": [
    {
     "name": "stdout",
     "output_type": "stream",
     "text": [
      "달달쓰?\n"
     ]
    }
   ],
   "source": [
    "THI = 7 #0~10\n",
    "\n",
    "if THI >= 5:\n",
    "    print(\"달달쓰?\")"
   ]
  },
  {
   "cell_type": "code",
   "execution_count": null,
   "metadata": {},
   "outputs": [],
   "source": [
    "THI = int(input(\"당신의 불쾌지수는? \"))\n",
    "print(type(THI))\n",
    "\n",
    "if THI >= 5:\n",
    "    print(\"달달쓰?\")"
   ]
  },
  {
   "cell_type": "code",
   "execution_count": null,
   "metadata": {},
   "outputs": [],
   "source": [
    "data = ['이름', '성별', '취미', '버킷리스트'] # 2개만 더 추가\n",
    "\n",
    "inform = [] #empty list\n",
    "\n",
    "for i in data:\n",
    "    info = input(\"너 {}(이/가) 뭐니?\".format(i))\n",
    "\n",
    "    inform.append(info)\n",
    "\n",
    "    print(\"내 {}(은/는) {}입니다.\".format(i, info))\n",
    "\n",
    "print(inform)"
   ]
  },
  {
   "cell_type": "markdown",
   "metadata": {},
   "source": [
    "### file I/O(파일 입출력)"
   ]
  },
  {
   "cell_type": "code",
   "execution_count": null,
   "metadata": {},
   "outputs": [],
   "source": [
    "data = input(\"가장 보고싶은 영화는 무엇인가요?\")\n",
    "data"
   ]
  },
  {
   "cell_type": "code",
   "execution_count": null,
   "metadata": {},
   "outputs": [],
   "source": [
    "f = open(\"movie.txt\", 'w', encoding='UTF-8') #읽기('r') or 쓰기('w')\n",
    "f.write(data)\n",
    "f.close()"
   ]
  },
  {
   "cell_type": "code",
   "execution_count": null,
   "metadata": {},
   "outputs": [],
   "source": [
    "f = open(\"movie.txt\", 'r', encoding='UTF-8')\n",
    "movie = f.read()\n",
    "f.close()\n",
    "\n",
    "movie"
   ]
  },
  {
   "cell_type": "code",
   "execution_count": null,
   "metadata": {},
   "outputs": [],
   "source": [
    "movie_favorite = ['Avengers']\n",
    "#자동완성기능\n",
    "movie_favorite.append('man-in-black')\n",
    "\n",
    "movie_favorite"
   ]
  },
  {
   "cell_type": "code",
   "execution_count": null,
   "metadata": {},
   "outputs": [],
   "source": [
    "f = open('avengers.txt', 'r')\n",
    "avengers = f.read()\n",
    "f.close()\n",
    "\n",
    "print(avengers)"
   ]
  },
  {
   "cell_type": "markdown",
   "metadata": {},
   "source": [
    "- 맨 윗줄 '제목'만 읽고 싶다면?"
   ]
  },
  {
   "cell_type": "code",
   "execution_count": null,
   "metadata": {},
   "outputs": [],
   "source": [
    "f = open('avengers.txt', 'r')\n",
    "avengers = f.readline() #한줄\n",
    "f.close()\n",
    "\n",
    "print(avengers)"
   ]
  },
  {
   "cell_type": "markdown",
   "metadata": {},
   "source": [
    "- 한줄 한줄 따로따로 계속 읽어들이고 싶다면?"
   ]
  },
  {
   "cell_type": "code",
   "execution_count": null,
   "metadata": {},
   "outputs": [],
   "source": [
    "f = open('avengers.txt', 'r')\n",
    "\n",
    "avengers = []\n",
    "for i in range(8):\n",
    "    avenger = f.readline() #한줄\n",
    "    avengers.append(avenger)\n",
    "print(avengers)\n",
    "\n",
    "f.close()"
   ]
  },
  {
   "cell_type": "code",
   "execution_count": null,
   "metadata": {},
   "outputs": [],
   "source": [
    "f = open('avengers.txt', 'r')\n",
    "\n",
    "avengers = f.readlines() #한줄씩 전부다\n",
    "\n",
    "print(avengers)\n",
    "\n",
    "f.close()"
   ]
  },
  {
   "cell_type": "markdown",
   "metadata": {},
   "source": [
    "- avengers.txt 파일의 복사본 avengers_2.txt를 만들고 싶다면?"
   ]
  },
  {
   "cell_type": "code",
   "execution_count": null,
   "metadata": {},
   "outputs": [],
   "source": [
    "f2 = open('avengers_2.txt', 'w', encoding='UTF-8')\n",
    "\n",
    "f2.writelines(avengers)\n",
    "\n",
    "f2.close()"
   ]
  },
  {
   "cell_type": "markdown",
   "metadata": {},
   "source": [
    "Quiz) avengers_2.txt 를 만들되, 단순히 복사본이 아니라, 결말을 스포하는 내용을 추가해서 저장해보세요."
   ]
  },
  {
   "cell_type": "code",
   "execution_count": null,
   "metadata": {},
   "outputs": [],
   "source": [
    "final_story = \"\\ni'm iron-man\"\n",
    "\n",
    "f2 = open('avengers_2.txt', 'w', encoding='UTF-8')\n",
    "\n",
    "avengers.append(final_story)\n",
    "\n",
    "f2.writelines(avengers)\n",
    "\n",
    "f2.close()"
   ]
  },
  {
   "cell_type": "code",
   "execution_count": null,
   "metadata": {},
   "outputs": [],
   "source": [
    "avengers"
   ]
  },
  {
   "cell_type": "markdown",
   "metadata": {},
   "source": [
    "#### with ~ as 용법 : open과 close를 한번에"
   ]
  },
  {
   "cell_type": "code",
   "execution_count": null,
   "metadata": {},
   "outputs": [],
   "source": [
    "#open & close와 비교\n",
    "f = open('avengers_2.txt', 'r', encoding='UTF-8')\n",
    "data = f.read()\n",
    "f.close()\n",
    "\n",
    "data"
   ]
  },
  {
   "cell_type": "code",
   "execution_count": null,
   "metadata": {},
   "outputs": [],
   "source": [
    "with open('avengers_2.txt', encoding='UTF-8') as f: #주절\n",
    "    data = f.read()\n",
    "\n",
    "data"
   ]
  },
  {
   "cell_type": "markdown",
   "metadata": {},
   "source": [
    "#### binary 파일 I/O"
   ]
  },
  {
   "cell_type": "markdown",
   "metadata": {},
   "source": [
    "- with open('파일명', < >) as f:  \n",
    "  \n",
    "  < > : 안쓰면 -> 'r'로 간주한다. -> 'rt'로 간주한다.  \n",
    "  'r' -> 'rt'라고 간주한다.  \n",
    "  'w' -> 'wt'라고 간주한다.  \n",
    "  \n",
    "- 파일을 나눠서 읽고 쓰는게 중요하다!  \n",
    "  \n",
    "  bufsize : 파일을 한번에 읽어드리는 단위 (우리가 직접 정한다.)"
   ]
  },
  {
   "cell_type": "code",
   "execution_count": 9,
   "metadata": {},
   "outputs": [],
   "source": [
    "#binary file\n",
    "\n",
    "bufsize = 1024 # = 용량 1KB / 1 = 1Byte\n",
    "\n",
    "f_r = open('Avengers_Endgame_poster.jpg', 'rb') #'r' 대신 'rb' ; binary 의 b!\n",
    "f_w = open('image.jpg', 'wb')\n",
    "\n",
    "image = f_r.read(bufsize)\n",
    "while image:\n",
    "    f_w.write(image)\n",
    "    image = f_r.read(bufsize)\n",
    "\n",
    "f_r.close()\n",
    "f_w.close()"
   ]
  },
  {
   "cell_type": "code",
   "execution_count": null,
   "metadata": {},
   "outputs": [],
   "source": []
  }
 ],
 "metadata": {
  "kernelspec": {
   "display_name": "Python 3",
   "language": "python",
   "name": "python3"
  },
  "language_info": {
   "codemirror_mode": {
    "name": "ipython",
    "version": 3
   },
   "file_extension": ".py",
   "mimetype": "text/x-python",
   "name": "python",
   "nbconvert_exporter": "python",
   "pygments_lexer": "ipython3",
   "version": "3.7.3"
  }
 },
 "nbformat": 4,
 "nbformat_minor": 2
}
