{
 "cells": [
  {
   "cell_type": "code",
   "execution_count": 1,
   "metadata": {},
   "outputs": [
    {
     "name": "stdout",
     "output_type": "stream",
     "text": [
      "X:4\n",
      "Y:5\n"
     ]
    },
    {
     "data": {
      "text/plain": [
       "9"
      ]
     },
     "execution_count": 1,
     "metadata": {},
     "output_type": "execute_result"
    }
   ],
   "source": [
    "x = int(input('X:'))\n",
    "y = int(input('Y:'))\n",
    "\n",
    "add = x + y\n",
    "add"
   ]
  },
  {
   "cell_type": "code",
   "execution_count": 2,
   "metadata": {},
   "outputs": [
    {
     "name": "stdout",
     "output_type": "stream",
     "text": [
      "A:3\n",
      "B:4\n"
     ]
    }
   ],
   "source": [
    "a = int(input('A:'))\n",
    "b = int(input('B:'))\n",
    "\n",
    "add = a + b"
   ]
  },
  {
   "cell_type": "markdown",
   "metadata": {},
   "source": [
    "- var1, var2 입력받아서 더한 결과를 출력해보세요."
   ]
  },
  {
   "cell_type": "markdown",
   "metadata": {},
   "source": [
    "- (속마음) 귀찮다..\n",
    "- (결론) 함수로 만들자."
   ]
  },
  {
   "cell_type": "code",
   "execution_count": 6,
   "metadata": {},
   "outputs": [],
   "source": [
    "def add_1():\n",
    "    num1 = int(input('{}:'.format('num1')))\n",
    "    num2 = int(input('{}:'.format('num2')))\n",
    "    \n",
    "    add = num1 + num2\n",
    "    \n",
    "    return add"
   ]
  },
  {
   "cell_type": "code",
   "execution_count": 7,
   "metadata": {},
   "outputs": [
    {
     "name": "stdout",
     "output_type": "stream",
     "text": [
      "num1:5\n",
      "num2:4\n"
     ]
    }
   ],
   "source": [
    "result = add_1()"
   ]
  },
  {
   "cell_type": "code",
   "execution_count": 8,
   "metadata": {},
   "outputs": [
    {
     "name": "stdout",
     "output_type": "stream",
     "text": [
      "9\n"
     ]
    }
   ],
   "source": [
    "print(result)"
   ]
  },
  {
   "cell_type": "markdown",
   "metadata": {},
   "source": [
    "- a, b 를 곱한 결과를 뽑아보세요."
   ]
  },
  {
   "cell_type": "code",
   "execution_count": 9,
   "metadata": {},
   "outputs": [],
   "source": [
    "def mul_1():\n",
    "    num1 = int(input('{}:'.format('num1')))\n",
    "    num2 = int(input('{}:'.format('num2')))\n",
    "    \n",
    "    mul = num1*num2\n",
    "    \n",
    "    return mul"
   ]
  },
  {
   "cell_type": "markdown",
   "metadata": {},
   "source": [
    "\\_\\_main\\_\\_"
   ]
  },
  {
   "cell_type": "code",
   "execution_count": 10,
   "metadata": {},
   "outputs": [
    {
     "name": "stdout",
     "output_type": "stream",
     "text": [
      "num1:4\n",
      "num2:5\n"
     ]
    }
   ],
   "source": [
    "result = mul_1()"
   ]
  },
  {
   "cell_type": "code",
   "execution_count": 11,
   "metadata": {},
   "outputs": [
    {
     "name": "stdout",
     "output_type": "stream",
     "text": [
      "20\n"
     ]
    }
   ],
   "source": [
    "print(result)"
   ]
  },
  {
   "cell_type": "code",
   "execution_count": 2,
   "metadata": {},
   "outputs": [
    {
     "name": "stdout",
     "output_type": "stream",
     "text": [
      "Writing calculate.py\n"
     ]
    }
   ],
   "source": [
    "%%writefile calculate.py\n",
    "\n",
    "def add_1():\n",
    "    num1 = int(input('{}:'.format('num1')))\n",
    "    num2 = int(input('{}:'.format('num2')))\n",
    "    \n",
    "    add = num1 + num2\n",
    "    \n",
    "    return add\n",
    "\n",
    "def mul_1():\n",
    "    num1 = int(input('{}:'.format('num1')))\n",
    "    num2 = int(input('{}:'.format('num2')))\n",
    "    \n",
    "    mul = num1*num2\n",
    "    \n",
    "    return mul\n",
    "\n",
    "def sub_1():\n",
    "    num1 = int(input('{}:'.format('num1')))\n",
    "    num2 = int(input('{}:'.format('num2')))\n",
    "    \n",
    "    sub = num1 - num2\n",
    "    \n",
    "    return sub\n",
    "\n",
    "def div_1():\n",
    "    num1 = int(input('{}:'.format('num1')))\n",
    "    num2 = int(input('{}:'.format('num2')))\n",
    "    \n",
    "    div = num1/num2\n",
    "    \n",
    "    return div"
   ]
  },
  {
   "cell_type": "code",
   "execution_count": 1,
   "metadata": {
    "scrolled": false
   },
   "outputs": [],
   "source": [
    "import calculate as cal"
   ]
  },
  {
   "cell_type": "markdown",
   "metadata": {},
   "source": [
    "- 만약에, import가 되지 않았다면 모듈이 있는 경로가 환경변수에 포함되어있지 않기 때문이다."
   ]
  },
  {
   "cell_type": "markdown",
   "metadata": {},
   "source": [
    "- 모듈이 있는 경로를 환경변수에 추가해주면 된다."
   ]
  },
  {
   "cell_type": "code",
   "execution_count": 13,
   "metadata": {},
   "outputs": [],
   "source": [
    "import os\n",
    "import sys"
   ]
  },
  {
   "cell_type": "code",
   "execution_count": 3,
   "metadata": {
    "scrolled": false
   },
   "outputs": [
    {
     "data": {
      "text/plain": [
       "['C:\\\\Users\\\\student\\\\Finance\\\\L1_Python',\n",
       " 'C:\\\\Users\\\\student\\\\Finance\\\\L1_Python\\\\MyModules',\n",
       " 'C:\\\\ProgramData\\\\Anaconda3\\\\envs\\\\finance\\\\python37.zip',\n",
       " 'C:\\\\ProgramData\\\\Anaconda3\\\\envs\\\\finance\\\\DLLs',\n",
       " 'C:\\\\ProgramData\\\\Anaconda3\\\\envs\\\\finance\\\\lib',\n",
       " 'C:\\\\ProgramData\\\\Anaconda3\\\\envs\\\\finance',\n",
       " '',\n",
       " 'C:\\\\ProgramData\\\\Anaconda3\\\\envs\\\\finance\\\\lib\\\\site-packages',\n",
       " 'C:\\\\ProgramData\\\\Anaconda3\\\\envs\\\\finance\\\\lib\\\\site-packages\\\\win32',\n",
       " 'C:\\\\ProgramData\\\\Anaconda3\\\\envs\\\\finance\\\\lib\\\\site-packages\\\\win32\\\\lib',\n",
       " 'C:\\\\ProgramData\\\\Anaconda3\\\\envs\\\\finance\\\\lib\\\\site-packages\\\\Pythonwin',\n",
       " 'C:\\\\ProgramData\\\\Anaconda3\\\\envs\\\\finance\\\\lib\\\\site-packages\\\\IPython\\\\extensions',\n",
       " 'C:\\\\Users\\\\student\\\\.ipython']"
      ]
     },
     "execution_count": 3,
     "metadata": {},
     "output_type": "execute_result"
    }
   ],
   "source": [
    "sys.path # 현재 경로 목록들 "
   ]
  },
  {
   "cell_type": "markdown",
   "metadata": {},
   "source": [
    "- sys.path 목록에 MyModules도 추가하면 되겠군!  \n",
    "  \n",
    "- 어! sys.path 가 리스트로 되어있다!  \n",
    "\n",
    "- sys.path.append(MyModules의 (절대)경로!)"
   ]
  },
  {
   "cell_type": "markdown",
   "metadata": {},
   "source": [
    "#### 절대경로와 상대경로"
   ]
  },
  {
   "cell_type": "markdown",
   "metadata": {},
   "source": [
    "- 절대경로 : 파일위치의 전체 주소\n",
    "- 상대경로 : 기준점(보통 현재 파일의 위치)으로부터의 주소"
   ]
  },
  {
   "cell_type": "code",
   "execution_count": 25,
   "metadata": {},
   "outputs": [
    {
     "data": {
      "text/plain": [
       "'C:\\\\Users\\\\student\\\\Finance\\\\L1_Python'"
      ]
     },
     "execution_count": 25,
     "metadata": {},
     "output_type": "execute_result"
    }
   ],
   "source": [
    "os.getcwd() # 현재 파일의 절대경로"
   ]
  },
  {
   "cell_type": "markdown",
   "metadata": {},
   "source": [
    "- 아! os.getcwd() 에다가 MyModules를 더하면 되겠다."
   ]
  },
  {
   "cell_type": "code",
   "execution_count": 26,
   "metadata": {},
   "outputs": [
    {
     "data": {
      "text/plain": [
       "str"
      ]
     },
     "execution_count": 26,
     "metadata": {},
     "output_type": "execute_result"
    }
   ],
   "source": [
    "type(os.getcwd())"
   ]
  },
  {
   "cell_type": "code",
   "execution_count": 28,
   "metadata": {},
   "outputs": [],
   "source": [
    "sys.path.append(path)"
   ]
  },
  {
   "cell_type": "code",
   "execution_count": 29,
   "metadata": {},
   "outputs": [
    {
     "data": {
      "text/plain": [
       "['C:\\\\Users\\\\student\\\\Finance\\\\L1_Python',\n",
       " 'C:\\\\Users\\\\student\\\\Finance\\\\L1_Python\\\\MyModules',\n",
       " 'C:\\\\ProgramData\\\\Anaconda3\\\\envs\\\\finance\\\\python37.zip',\n",
       " 'C:\\\\ProgramData\\\\Anaconda3\\\\envs\\\\finance\\\\DLLs',\n",
       " 'C:\\\\ProgramData\\\\Anaconda3\\\\envs\\\\finance\\\\lib',\n",
       " 'C:\\\\ProgramData\\\\Anaconda3\\\\envs\\\\finance',\n",
       " '',\n",
       " 'C:\\\\ProgramData\\\\Anaconda3\\\\envs\\\\finance\\\\lib\\\\site-packages',\n",
       " 'C:\\\\ProgramData\\\\Anaconda3\\\\envs\\\\finance\\\\lib\\\\site-packages\\\\win32',\n",
       " 'C:\\\\ProgramData\\\\Anaconda3\\\\envs\\\\finance\\\\lib\\\\site-packages\\\\win32\\\\lib',\n",
       " 'C:\\\\ProgramData\\\\Anaconda3\\\\envs\\\\finance\\\\lib\\\\site-packages\\\\Pythonwin',\n",
       " 'C:\\\\ProgramData\\\\Anaconda3\\\\envs\\\\finance\\\\lib\\\\site-packages\\\\IPython\\\\extensions',\n",
       " 'C:\\\\Users\\\\student\\\\.ipython',\n",
       " 'C:\\\\Users\\\\student\\\\Finance\\\\L1_Python\\\\Packages']"
      ]
     },
     "execution_count": 29,
     "metadata": {},
     "output_type": "execute_result"
    }
   ],
   "source": [
    "sys.path"
   ]
  },
  {
   "cell_type": "code",
   "execution_count": 30,
   "metadata": {},
   "outputs": [],
   "source": [
    "import calculate as cal"
   ]
  },
  {
   "cell_type": "code",
   "execution_count": null,
   "metadata": {},
   "outputs": [],
   "source": [
    "cal.add_1()"
   ]
  },
  {
   "cell_type": "code",
   "execution_count": 18,
   "metadata": {},
   "outputs": [
    {
     "data": {
      "text/plain": [
       "array([0, 1, 2, 3, 4, 5, 6, 7, 8, 9])"
      ]
     },
     "execution_count": 18,
     "metadata": {},
     "output_type": "execute_result"
    }
   ],
   "source": [
    "#numpy 와 비교\n",
    "import numpy as np\n",
    "\n",
    "np.arange(10)"
   ]
  },
  {
   "cell_type": "raw",
   "metadata": {},
   "source": [
    "pip install tensorflow"
   ]
  },
  {
   "cell_type": "markdown",
   "metadata": {},
   "source": [
    "### 모듈 검증 (%run)"
   ]
  },
  {
   "cell_type": "code",
   "execution_count": 87,
   "metadata": {},
   "outputs": [
    {
     "name": "stdout",
     "output_type": "stream",
     "text": [
      "Overwriting MyModules\\Avengers.py\n"
     ]
    }
   ],
   "source": [
    "%%writefile MyModules\\Avengers.py\n",
    "\n",
    "class Unit(): # Unit() == Unit(object) *단, python3.x에서\n",
    "    def __init__(self, ability, level):\n",
    "        self.ability = ability\n",
    "        self.level = level\n",
    "        print('unit이 생성되었습니다.')\n",
    "    \n",
    "    def show_info(self):\n",
    "        print('ability : {}'.format(self.ability))\n",
    "        print('level : {}'.format(self.level))\n",
    "\n",
    "class Hero(Unit):\n",
    "    def __init__(self, ability, level, weapon):\n",
    "        super().__init__(ability, level)\n",
    "        self.weapon = weapon\n",
    "        \n",
    "    def show_info(self):\n",
    "        super().show_info()\n",
    "        print('weapon : {}'.format(self.weapon))\n",
    "\n",
    "class AvengersHero(Hero): #속성 += hometown\n",
    "    def __init__(self, ability, level, weapon, hometown):\n",
    "        super().__init__(ability, level, weapon)\n",
    "        self.hometown = hometown\n",
    "        \n",
    "    def show_info(self):\n",
    "        super().show_info()\n",
    "        print('hometown : {}'.format(self.hometown))"
   ]
  },
  {
   "cell_type": "code",
   "execution_count": 74,
   "metadata": {},
   "outputs": [],
   "source": [
    "import Avengers as A"
   ]
  },
  {
   "cell_type": "code",
   "execution_count": 75,
   "metadata": {},
   "outputs": [
    {
     "name": "stdout",
     "output_type": "stream",
     "text": [
      "unit이 생성되었습니다.\n"
     ]
    }
   ],
   "source": [
    "Thor = A.AvengersHero('thunder', 9, '망치', '아스가르드')"
   ]
  },
  {
   "cell_type": "code",
   "execution_count": 76,
   "metadata": {},
   "outputs": [
    {
     "name": "stdout",
     "output_type": "stream",
     "text": [
      "ability : thunder\n",
      "level : 9\n",
      "weapon : 망치\n",
      "hometown : 아스가르드\n"
     ]
    }
   ],
   "source": [
    "Thor.show_info()"
   ]
  },
  {
   "cell_type": "markdown",
   "metadata": {},
   "source": [
    "- 내가 만든 모듈이 잘 작동하는지 검증하려면 매번 이렇게 임폴트해야할까?"
   ]
  },
  {
   "cell_type": "code",
   "execution_count": 88,
   "metadata": {},
   "outputs": [
    {
     "name": "stdout",
     "output_type": "stream",
     "text": [
      "Overwriting MyModules\\Avengers.py\n"
     ]
    }
   ],
   "source": [
    "%%writefile MyModules\\Avengers.py\n",
    "\n",
    "class Unit(): # Unit() == Unit(object) *단, python3.x에서\n",
    "    def __init__(self, ability, level):\n",
    "        self.ability = ability\n",
    "        self.level = level\n",
    "        print('unit이 생성되었습니다.')\n",
    "    \n",
    "    def show_info(self):\n",
    "        print('ability : {}'.format(self.ability))\n",
    "        print('level : {}'.format(self.level))\n",
    "\n",
    "class Hero(Unit):\n",
    "    def __init__(self, ability, level, weapon):\n",
    "        super().__init__(ability, level)\n",
    "        self.weapon = weapon\n",
    "        \n",
    "    def show_info(self):\n",
    "        super().show_info()\n",
    "        print('weapon : {}'.format(self.weapon))\n",
    "\n",
    "class AvengersHero(Hero): #속성 += hometown\n",
    "    def __init__(self, ability, level, weapon, hometown):\n",
    "        super().__init__(ability, level, weapon)\n",
    "        self.hometown = hometown\n",
    "        \n",
    "    def show_info(self):\n",
    "        super().show_info()\n",
    "        print('hometown : {}'.format(self.hometown))\n",
    "        \n",
    "Thor = AvengersHero('thunder', 9, '망치', '아스가르드')\n",
    "Thor.show_info()\n",
    "\n",
    "print('AvengersHero class가 정상 작동합니다.')\n",
    "\n",
    "batman = Hero('money', 7, 'bat-car')\n",
    "batman.show_info()\n",
    "\n",
    "print('Hero class가 정상 작동합니다.')\n"
   ]
  },
  {
   "cell_type": "code",
   "execution_count": 89,
   "metadata": {},
   "outputs": [
    {
     "data": {
      "text/plain": [
       "['AvengersHero',\n",
       " 'Hero',\n",
       " 'Unit',\n",
       " '__builtins__',\n",
       " '__cached__',\n",
       " '__doc__',\n",
       " '__file__',\n",
       " '__loader__',\n",
       " '__name__',\n",
       " '__package__',\n",
       " '__spec__']"
      ]
     },
     "execution_count": 89,
     "metadata": {},
     "output_type": "execute_result"
    }
   ],
   "source": [
    "dir(Avengers)"
   ]
  },
  {
   "cell_type": "code",
   "execution_count": 91,
   "metadata": {
    "scrolled": true
   },
   "outputs": [
    {
     "name": "stdout",
     "output_type": "stream",
     "text": [
      "unit이 생성되었습니다.\n",
      "ability : thunder\n",
      "level : 9\n",
      "weapon : 망치\n",
      "hometown : 아스가르드\n",
      "AvengersHero class가 정상 작동합니다.\n",
      "unit이 생성되었습니다.\n",
      "ability : money\n",
      "level : 7\n",
      "weapon : bat-car\n",
      "Hero class가 정상 작동합니다.\n"
     ]
    }
   ],
   "source": [
    "%run MyModules\\Avengers.py"
   ]
  },
  {
   "cell_type": "markdown",
   "metadata": {},
   "source": [
    "- 다른 파일에서 import만 해도 검증 코드가 뜨는 문제가 발생\n",
    "- 해당 파일에서 코드를 수행할때는 검증 코드가 실행되고,\n",
    "- 다른 파일에서 import할때는 검증 코드가 실행되지 않도록 만들자."
   ]
  },
  {
   "cell_type": "code",
   "execution_count": 92,
   "metadata": {},
   "outputs": [
    {
     "name": "stdout",
     "output_type": "stream",
     "text": [
      "Overwriting MyModules\\Avengers.py\n"
     ]
    }
   ],
   "source": [
    "%%writefile MyModules\\Avengers.py\n",
    "\n",
    "class Unit(): # Unit() == Unit(object) *단, python3.x에서\n",
    "    def __init__(self, ability, level):\n",
    "        self.ability = ability\n",
    "        self.level = level\n",
    "        print('unit이 생성되었습니다.')\n",
    "    \n",
    "    def show_info(self):\n",
    "        print('ability : {}'.format(self.ability))\n",
    "        print('level : {}'.format(self.level))\n",
    "\n",
    "class Hero(Unit):\n",
    "    def __init__(self, ability, level, weapon):\n",
    "        super().__init__(ability, level)\n",
    "        self.weapon = weapon\n",
    "        \n",
    "    def show_info(self):\n",
    "        super().show_info()\n",
    "        print('weapon : {}'.format(self.weapon))\n",
    "\n",
    "class AvengersHero(Hero): #속성 += hometown\n",
    "    def __init__(self, ability, level, weapon, hometown):\n",
    "        super().__init__(ability, level, weapon)\n",
    "        self.hometown = hometown\n",
    "        \n",
    "    def show_info(self):\n",
    "        super().show_info()\n",
    "        print('hometown : {}'.format(self.hometown))\n",
    "\n",
    "\n",
    "        \n",
    "if __name__ == '__main__':\n",
    "    Thor = AvengersHero('thunder', 9, '망치', '아스가르드')\n",
    "    Thor.show_info()\n",
    "\n",
    "    print('AvengersHero class가 정상 작동합니다.')\n",
    "\n",
    "    batman = Hero('money', 7, 'bat-car')\n",
    "    batman.show_info()\n",
    "\n",
    "    print('Hero class가 정상 작동합니다.')"
   ]
  },
  {
   "cell_type": "markdown",
   "metadata": {},
   "source": [
    "- 아래와 같이 해당 파일에서 %run으로 코드를 실행할때는 검증 코드가 실행된다."
   ]
  },
  {
   "cell_type": "code",
   "execution_count": 93,
   "metadata": {},
   "outputs": [
    {
     "name": "stdout",
     "output_type": "stream",
     "text": [
      "unit이 생성되었습니다.\n",
      "ability : thunder\n",
      "level : 9\n",
      "weapon : 망치\n",
      "hometown : 아스가르드\n",
      "AvengersHero class가 정상 작동합니다.\n",
      "unit이 생성되었습니다.\n",
      "ability : money\n",
      "level : 7\n",
      "weapon : bat-car\n",
      "Hero class가 정상 작동합니다.\n"
     ]
    }
   ],
   "source": [
    "%run MyModules\\Avengers.py"
   ]
  },
  {
   "cell_type": "code",
   "execution_count": 1,
   "metadata": {},
   "outputs": [],
   "source": [
    "import Avengers"
   ]
  },
  {
   "cell_type": "markdown",
   "metadata": {},
   "source": [
    "### 패키지 만들기 "
   ]
  },
  {
   "cell_type": "markdown",
   "metadata": {},
   "source": [
    "#### 폴더 생성 (mkdir)"
   ]
  },
  {
   "cell_type": "code",
   "execution_count": 2,
   "metadata": {},
   "outputs": [],
   "source": [
    "mkdir MyPackages"
   ]
  },
  {
   "cell_type": "code",
   "execution_count": 3,
   "metadata": {},
   "outputs": [],
   "source": [
    "mkdir MyPackages\\Hero\\Avengers"
   ]
  },
  {
   "cell_type": "code",
   "execution_count": 2,
   "metadata": {},
   "outputs": [
    {
     "name": "stdout",
     "output_type": "stream",
     "text": [
      "Writing MyPackages\\Hero\\Avengers\\Avengers2.py\n"
     ]
    }
   ],
   "source": [
    "%%writefile MyPackages\\Hero\\Avengers\\Avengers2.py\n",
    "\n",
    "class Unit(): # Unit() == Unit(object) *단, python3.x에서\n",
    "    def __init__(self, ability, level):\n",
    "        self.ability = ability\n",
    "        self.level = level\n",
    "        print('unit이 생성되었습니다.')\n",
    "    \n",
    "    def show_info(self):\n",
    "        print('ability : {}'.format(self.ability))\n",
    "        print('level : {}'.format(self.level))\n",
    "\n",
    "class Hero(Unit):\n",
    "    def __init__(self, ability, level, weapon):\n",
    "        super().__init__(ability, level)\n",
    "        self.weapon = weapon\n",
    "        \n",
    "    def show_info(self):\n",
    "        super().show_info()\n",
    "        print('weapon : {}'.format(self.weapon))\n",
    "\n",
    "class AvengersHero(Hero): #속성 += hometown\n",
    "    def __init__(self, ability, level, weapon, hometown):\n",
    "        super().__init__(ability, level, weapon)\n",
    "        self.hometown = hometown\n",
    "        \n",
    "    def show_info(self):\n",
    "        super().show_info()\n",
    "        print('hometown : {}'.format(self.hometown))\n",
    "\n",
    "\n",
    "        \n",
    "if __name__ == '__main__':\n",
    "    Thor = AvengersHero('thunder', 9, '망치', '아스가르드')\n",
    "    Thor.show_info()\n",
    "\n",
    "    print('AvengersHero class가 정상 작동합니다.')\n",
    "\n",
    "    batman = Hero('money', 7, 'bat-car')\n",
    "    batman.show_info()\n",
    "\n",
    "    print('Hero class가 정상 작동합니다.')"
   ]
  },
  {
   "cell_type": "code",
   "execution_count": 1,
   "metadata": {},
   "outputs": [
    {
     "name": "stdout",
     "output_type": "stream",
     "text": [
      "C:\\Users\\student\\Finance\\L1_Python\\MyPackages;C:\\Users\\student\\Finance\\L1_Python\\MyModules\n"
     ]
    }
   ],
   "source": [
    "!echo %PYTHONPATH%"
   ]
  },
  {
   "cell_type": "code",
   "execution_count": 7,
   "metadata": {},
   "outputs": [],
   "source": [
    "from Hero.Avengers import Avengers2"
   ]
  },
  {
   "cell_type": "code",
   "execution_count": 12,
   "metadata": {},
   "outputs": [
    {
     "name": "stdout",
     "output_type": "stream",
     "text": [
      "unit이 생성되었습니다.\n"
     ]
    }
   ],
   "source": [
    "iron_man = Avengers2.AvengersHero('아크로원자', 9, '수트', '지구')"
   ]
  },
  {
   "cell_type": "code",
   "execution_count": 13,
   "metadata": {},
   "outputs": [
    {
     "name": "stdout",
     "output_type": "stream",
     "text": [
      "ability : 아크로원자\n",
      "level : 9\n",
      "weapon : 수트\n",
      "hometown : 지구\n"
     ]
    }
   ],
   "source": [
    "iron_man.show_info()"
   ]
  },
  {
   "cell_type": "code",
   "execution_count": 14,
   "metadata": {},
   "outputs": [],
   "source": [
    "mkdir MyPackages\\Hero\\__init__.py"
   ]
  },
  {
   "cell_type": "code",
   "execution_count": null,
   "metadata": {},
   "outputs": [],
   "source": []
  }
 ],
 "metadata": {
  "kernelspec": {
   "display_name": "Python 3",
   "language": "python",
   "name": "python3"
  },
  "language_info": {
   "codemirror_mode": {
    "name": "ipython",
    "version": 3
   },
   "file_extension": ".py",
   "mimetype": "text/x-python",
   "name": "python",
   "nbconvert_exporter": "python",
   "pygments_lexer": "ipython3",
   "version": "3.7.3"
  }
 },
 "nbformat": 4,
 "nbformat_minor": 2
}
