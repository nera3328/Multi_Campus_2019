{
 "cells": [
  {
   "cell_type": "markdown",
   "metadata": {},
   "source": [
    "시험 봅니다. 책 한권 끝날 때마다. 50점 이상은 맞아야 한다.    \n",
    "아래 예제문제\n",
    "아마 챕터당 한 문제 예상\n",
    "\n",
    "첫 시험 날짜 미정\n",
    "필기 + 실기(2-3문제)"
   ]
  },
  {
   "cell_type": "markdown",
   "metadata": {},
   "source": [
    "인덱싱과 원소 같이 처리\n",
    "enumerate\n",
    "for문에서 리스트 2개 처리\n",
    "zip\n",
    "리스트 원소 제거\n",
    "pop, delete\n",
    "중복제거 set\n",
    "함수 만들어보자 -> 가변인자 안나옴\n",
    "함수 리턴값 리스트, 튜플, 딕셔너리 다 된다. -> 되는지 해보자\n",
    "크롤링\n",
    "우리가 했던 실습 중에서 비슷하게 나온다.\n",
    "여러 페이지 돌면서 크롤링하는거 -> 페이지 바뀌면 쿼리스트링이 바뀜 쿼리 변수로 주고 돌리자\n",
    "그래프그리는거 안나옴\n",
    "데이터"
   ]
  },
  {
   "cell_type": "code",
   "execution_count": 2,
   "metadata": {},
   "outputs": [
    {
     "name": "stdout",
     "output_type": "stream",
     "text": [
      "45\n"
     ]
    }
   ],
   "source": [
    "a = 0\n",
    "for i in range(10):\n",
    "    a+=1\n",
    "    if i%2 ==0:\n",
    "        a = a*2\n",
    "    elif i%7 == 0:\n",
    "        break\n",
    "print(a)"
   ]
  },
  {
   "cell_type": "markdown",
   "metadata": {},
   "source": [
    "- operator에선\n",
    "\n",
    "a = 10\n",
    "a (blank) 2 = 0\n",
    "\n",
    "1. *\n",
    "2. **\n",
    "3. //\n",
    "4. %\n",
    "-> 답은 4."
   ]
  },
  {
   "cell_type": "markdown",
   "metadata": {},
   "source": [
    "판다스에서 특정 컬럼 없애고 싶을 때 쓰는 함수 drop "
   ]
  },
  {
   "cell_type": "markdown",
   "metadata": {},
   "source": [
    "for문 돌릴때 정보 저장하고 싶으면 for 밖에 빈 리스트 만들어서 append해준다."
   ]
  },
  {
   "cell_type": "code",
   "execution_count": 1,
   "metadata": {},
   "outputs": [
    {
     "name": "stdout",
     "output_type": "stream",
     "text": [
      "19\n"
     ]
    }
   ],
   "source": [
    "for d in range(10):\n",
    "    if d%2 == 1:\n",
    "        d += 10\n",
    "print(d)"
   ]
  },
  {
   "cell_type": "code",
   "execution_count": null,
   "metadata": {},
   "outputs": [],
   "source": [
    "count = 1\n",
    "for a in range(3):\n",
    "    for b in range(2):\n",
    "        count +=1\n",
    "    count += 10\n",
    "print(count)"
   ]
  },
  {
   "cell_type": "code",
   "execution_count": null,
   "metadata": {},
   "outputs": [],
   "source": [
    "count = [1,2,3]\n",
    "for c in count:\n",
    "    print(c*10)\n",
    "    count.append(c+3)\n",
    "print(count)\n",
    "# 이 코드는 무한루프"
   ]
  },
  {
   "cell_type": "code",
   "execution_count": 1,
   "metadata": {},
   "outputs": [
    {
     "data": {
      "text/plain": [
       "[1, 2, 3, 4, 5, 6, 7, 8, 9, 10]"
      ]
     },
     "execution_count": 1,
     "metadata": {},
     "output_type": "execute_result"
    }
   ],
   "source": [
    "a = [1,2,3,4,5,6,7,8,9,10]\n",
    "a = [i+1 for i in range(10)]\n",
    "a"
   ]
  },
  {
   "cell_type": "code",
   "execution_count": 4,
   "metadata": {},
   "outputs": [
    {
     "name": "stdout",
     "output_type": "stream",
     "text": [
      "0 ['이원재', '김가영', '김강빈', '김민철', '김원중', '김홍덕']\n",
      "1 ['song', 'movie', 'TV', 'coding', 'sleep', 'cycle']\n"
     ]
    }
   ],
   "source": [
    "#인덱싱과 원소 같이 처리\n",
    "\n",
    "data =[['이원재', '김가영', '김강빈', '김민철', '김원중', '김홍덕'],\n",
    "       ['song', 'movie', 'TV', 'coding', 'sleep', 'cycle']]\n",
    "\n",
    "for i, d in enumerate(data):\n",
    "    print(i, d)\n",
    "    \n",
    "    \n",
    "    \n",
    "for d_index, d in enumerate(data):\n",
    "    print(\"data\", d_index, \":\", d)\n",
    "    for i_index, i in enumerate(d):\n",
    "        print(i_index, i)\n",
    "    \n",
    "    print('------')"
   ]
  },
  {
   "cell_type": "code",
   "execution_count": 5,
   "metadata": {},
   "outputs": [
    {
     "ename": "ModuleNotFoundError",
     "evalue": "No module named 'request'",
     "output_type": "error",
     "traceback": [
      "\u001b[1;31m---------------------------------------------------------------------------\u001b[0m",
      "\u001b[1;31mModuleNotFoundError\u001b[0m                       Traceback (most recent call last)",
      "\u001b[1;32m<ipython-input-5-5073ab852ef1>\u001b[0m in \u001b[0;36m<module>\u001b[1;34m\u001b[0m\n\u001b[1;32m----> 1\u001b[1;33m \u001b[1;32mimport\u001b[0m \u001b[0mrequest\u001b[0m\u001b[1;33m\u001b[0m\u001b[1;33m\u001b[0m\u001b[0m\n\u001b[0m\u001b[0;32m      2\u001b[0m \u001b[1;31m# 기사 읽어 들일거야\u001b[0m\u001b[1;33m\u001b[0m\u001b[1;33m\u001b[0m\u001b[1;33m\u001b[0m\u001b[0m\n\u001b[0;32m      3\u001b[0m \u001b[0murl\u001b[0m\u001b[1;33m=\u001b[0m\u001b[1;34m'기사 검색페이지  where= news&query=트와이스'\u001b[0m\u001b[1;33m\u001b[0m\u001b[1;33m\u001b[0m\u001b[0m\n\u001b[0;32m      4\u001b[0m \u001b[0mparam\u001b[0m\u001b[1;33m\u001b[0m\u001b[1;33m\u001b[0m\u001b[0m\n",
      "\u001b[1;31mModuleNotFoundError\u001b[0m: No module named 'request'"
     ]
    }
   ],
   "source": [
    "import request\n",
    "# 기사 읽어 들일거야\n",
    "url='기사 검색페이지  where= news&query=트와이스'\n",
    "param"
   ]
  },
  {
   "cell_type": "code",
   "execution_count": 65,
   "metadata": {},
   "outputs": [
    {
     "data": {
      "text/plain": [
       "[<a class=\"_sp_each_title\" href=\"http://www.munhwa.com/news/view.html?no=20190617MW14292352585\" onclick=\"return goOtherCR(this, 'a=nws*a.tit&amp;r=1&amp;i=880000C4_000000000000000002394176&amp;g=021.0002394176&amp;u='+urlencode(this.href));\" target=\"_blank\" title=\"트와이스, 방콕 점령…월드투어 공연 성공적으로 마쳐\"><strong class=\"hl\">트와이스</strong>, 방콕 점령…월드투어 공연 성공적으로 마쳐</a>,\n",
       " <a class=\"_sp_each_url _sp_each_title\" href=\"http://www.slist.kr/news/articleView.html?idxno=87710\" onclick=\"return goOtherCR(this, 'a=nws*b.tit&amp;r=6&amp;i=88183104_000000000000000000049205&amp;g=5575.0000049205&amp;u='+urlencode(this.href));\" target=\"_blank\" title=\"트와이스, 12개월 연속 기부천사...누적금액 1등은 강다니엘·방탄소년단\"><strong class=\"hl\">트와이스</strong>, 12개월 연속 기부천사...누적금액 1등은 강다니엘·방탄소년단</a>,\n",
       " <a class=\"_sp_each_title\" href=\"http://sports.chosun.com/news/ntype.htm?id=201906170100116670008090&amp;servicedate=20190617\" onclick=\"return goOtherCR(this, 'a=nws*a.tit&amp;r=11&amp;i=880000D3_000000000000000003430043&amp;g=076.0003430043&amp;u='+urlencode(this.href));\" target=\"_blank\" title=\"'스테이지K' 트와이스·아이콘·슈주 4강 진출…최후의 승자는?\">'스테이지K' <strong class=\"hl\">트와이스</strong>·아이콘·슈주 4강 진출…최후의 승자는?</a>,\n",
       " <a class=\"_sp_each_url _sp_each_title\" href=\"http://www.welfarenews.net/news/articleView.html?idxno=69483\" onclick=\"return goOtherCR(this, 'a=nws*f.tit&amp;r=16&amp;i=8800062B_000000000000000000039398&amp;g=5111.0000039398&amp;u='+urlencode(this.href));\" target=\"_blank\" title=\"트와이스 팬, 익명으로 소아암 치료비 기부\"><strong class=\"hl\">트와이스</strong> 팬, 익명으로 소아암 치료비 기부</a>,\n",
       " <a class=\"_sp_each_url _sp_each_title\" href=\"https://www.insight.co.kr/news/232628\" onclick=\"return goOtherCR(this, 'a=nws*f.tit&amp;r=17&amp;i=88172c03_000000000000000000101209&amp;g=5486.0000101209&amp;u='+urlencode(this.href));\" target=\"_blank\" title=\"단체로 샤랄라한 '여신' 드레스 입고 '세젤예' 미모 뽐낸 트와이스\">단체로 샤랄라한 '여신' 드레스 입고 '세젤예' 미모 뽐낸 <strong class=\"hl\">트와이스</strong></a>,\n",
       " <a class=\"_sp_each_title\" href=\"http://biz.heraldcorp.com/view.php?ud=201906162207168236546_1\" onclick=\"return goOtherCR(this, 'a=nws*a.tit&amp;r=18&amp;i=88000110_000000000000000003176669&amp;g=112.0003176669&amp;u='+urlencode(this.href));\" target=\"_blank\" title=\"[포인트1분] 트와이스, 스웨덴 팀 응원...'에너지 가득 충전'\">[포인트1분] <strong class=\"hl\">트와이스</strong>, 스웨덴 팀 응원...'에너지 가득 충전'</a>,\n",
       " <a class=\"_sp_each_title\" href=\"http://www.tvreport.co.kr/?c=news&amp;m=newsview&amp;idx=1133248\" onclick=\"return goOtherCR(this, 'a=nws*e.tit&amp;r=20&amp;i=880002E4_000000000000000001112223&amp;g=213.0001112223&amp;u='+urlencode(this.href));\" target=\"_blank\" title=\"트와이스 다현, 비현실적 만찢녀\"><strong class=\"hl\">트와이스</strong> 다현, 비현실적 만찢녀</a>,\n",
       " <a class=\"_sp_each_title\" href=\"http://isplus.live.joins.com/news/article/aid.asp?aid=23090148\" onclick=\"return goOtherCR(this, 'a=nws*a.tit&amp;r=21&amp;i=880002FC_000000000000000002925970&amp;g=241.0002925970&amp;u='+urlencode(this.href));\" target=\"_blank\" title=\"[포토] 트와이스 '모모는 쇄골미인'\">[포토] <strong class=\"hl\">트와이스</strong> '모모는 쇄골미인'</a>,\n",
       " <a class=\"_sp_each_title\" href=\"http://www.newsen.com/news_view.php?uid=201906161035053510\" onclick=\"return goOtherCR(this, 'a=nws*a.tit&amp;r=23&amp;i=8818ae45_000000000000000000124417&amp;g=609.0000124417&amp;u='+urlencode(this.href));\" target=\"_blank\" title=\"트와이스 쯔위 ‘배꼽도 예쁜 미녀’[포토엔HD]\"><strong class=\"hl\">트와이스</strong> 쯔위 ‘배꼽도 예쁜 미녀’[포토엔HD]</a>,\n",
       " <a class=\"_sp_each_title\" href=\"http://isplus.live.joins.com/news/article/aid.asp?aid=23090149\" onclick=\"return goOtherCR(this, 'a=nws*a.tit&amp;r=28&amp;i=880002FC_000000000000000002925971&amp;g=241.0002925971&amp;u='+urlencode(this.href));\" target=\"_blank\" title=\"[포토] 트와이스 미나 '똘망 눈망울'\">[포토] <strong class=\"hl\">트와이스</strong> 미나 '똘망 눈망울'</a>]"
      ]
     },
     "execution_count": 65,
     "metadata": {},
     "output_type": "execute_result"
    }
   ],
   "source": [
    "import requests\n",
    "from bs4 import BeautifulSoup\n",
    "\n",
    "url='http://search.naver.com/search.naver'\n",
    "\n",
    "keyword='트와이스'\n",
    "\n",
    "\n",
    "param={'where':'news','query':keyword}\n",
    "\n",
    "result = requests.get(url, param)\n",
    "\n",
    "\n",
    "soup=BeautifulSoup(result.content, 'lxml')\n",
    "\n",
    "t_url=soup.select('ul.type01 li dl dt a')\n",
    "\n",
    "t_url"
   ]
  },
  {
   "cell_type": "code",
   "execution_count": 70,
   "metadata": {},
   "outputs": [
    {
     "data": {
      "text/plain": [
       "{'title': ['트와이스, 방콕 점령…월드투어 공연 성공적으로 마쳐',\n",
       "  '트와이스, 12개월 연속 기부천사...누적금액 1등은 강다니엘·방탄소년단',\n",
       "  \"'스테이지K' 트와이스·아이콘·슈주 4강 진출…최후의 승자는?\",\n",
       "  '트와이스 팬, 익명으로 소아암 치료비 기부',\n",
       "  \"단체로 샤랄라한 '여신' 드레스 입고 '세젤예' 미모 뽐낸 트와이스\",\n",
       "  \"[포인트1분] 트와이스, 스웨덴 팀 응원...'에너지 가득 충전'\",\n",
       "  '트와이스 다현, 비현실적 만찢녀',\n",
       "  \"[포토] 트와이스 '모모는 쇄골미인'\",\n",
       "  '트와이스 쯔위 ‘배꼽도 예쁜 미녀’[포토엔HD]',\n",
       "  \"[포토] 트와이스 미나 '똘망 눈망울'\"],\n",
       " 'href': ['http://www.munhwa.com/news/view.html?no=20190617MW14292352585',\n",
       "  'http://www.slist.kr/news/articleView.html?idxno=87710',\n",
       "  'http://sports.chosun.com/news/ntype.htm?id=201906170100116670008090&servicedate=20190617',\n",
       "  'http://www.welfarenews.net/news/articleView.html?idxno=69483',\n",
       "  'https://www.insight.co.kr/news/232628',\n",
       "  'http://biz.heraldcorp.com/view.php?ud=201906162207168236546_1',\n",
       "  'http://www.tvreport.co.kr/?c=news&m=newsview&idx=1133248',\n",
       "  'http://isplus.live.joins.com/news/article/aid.asp?aid=23090148',\n",
       "  'http://www.newsen.com/news_view.php?uid=201906161035053510',\n",
       "  'http://isplus.live.joins.com/news/article/aid.asp?aid=23090149']}"
      ]
     },
     "execution_count": 70,
     "metadata": {},
     "output_type": "execute_result"
    }
   ],
   "source": [
    "news_dict={\n",
    "    'title':[],\n",
    "    'href':[]\n",
    "}\n",
    "for a in t_url:\n",
    "    news_dict['title'].append(a.text)\n",
    "    news_dict['href'].append(a['href'])\n",
    "news_dict"
   ]
  },
  {
   "cell_type": "code",
   "execution_count": null,
   "metadata": {},
   "outputs": [],
   "source": [
    "import pandas as pd\n",
    "news_df=pd.DataFrame"
   ]
  },
  {
   "cell_type": "code",
   "execution_count": null,
   "metadata": {},
   "outputs": [],
   "source": []
  },
  {
   "cell_type": "code",
   "execution_count": 10,
   "metadata": {},
   "outputs": [
    {
     "ename": "SyntaxError",
     "evalue": "invalid syntax (<ipython-input-10-5096663f4c6d>, line 3)",
     "output_type": "error",
     "traceback": [
      "\u001b[1;36m  File \u001b[1;32m\"<ipython-input-10-5096663f4c6d>\"\u001b[1;36m, line \u001b[1;32m3\u001b[0m\n\u001b[1;33m    for i in range(t_ul)\u001b[0m\n\u001b[1;37m                        ^\u001b[0m\n\u001b[1;31mSyntaxError\u001b[0m\u001b[1;31m:\u001b[0m invalid syntax\n"
     ]
    }
   ],
   "source": [
    "news=[]\n",
    "count=[]\n",
    "for li\n",
    "\n",
    "\n",
    "\n",
    "len(t_ul.contents)\n",
    "\n",
    "for i in range(t_ul)\n",
    "\n",
    "print(t_ul[0].text, end = '\\n')"
   ]
  },
  {
   "cell_type": "code",
   "execution_count": null,
   "metadata": {},
   "outputs": [],
   "source": []
  }
 ],
 "metadata": {
  "kernelspec": {
   "display_name": "Python 3",
   "language": "python",
   "name": "python3"
  },
  "language_info": {
   "codemirror_mode": {
    "name": "ipython",
    "version": 3
   },
   "file_extension": ".py",
   "mimetype": "text/x-python",
   "name": "python",
   "nbconvert_exporter": "python",
   "pygments_lexer": "ipython3",
   "version": "3.7.3"
  }
 },
 "nbformat": 4,
 "nbformat_minor": 2
}
