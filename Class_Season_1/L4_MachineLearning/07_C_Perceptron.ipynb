{
 "cells": [
  {
   "cell_type": "code",
   "execution_count": 129,
   "metadata": {},
   "outputs": [],
   "source": [
    "from sklearn.neural_network import MLPClassifier"
   ]
  },
  {
   "cell_type": "code",
   "execution_count": 130,
   "metadata": {},
   "outputs": [
    {
     "data": {
      "image/png": "[encoded data removed]",
      "text/plain": [
       "<Figure size 432x288 with 1 Axes>"
      ]
     },
     "metadata": {
      "needs_background": "light"
     },
     "output_type": "display_data"
    }
   ],
   "source": [
    "import numpy as np\n",
    "from matplotlib import pyplot as plt\n",
    "# 200개의 데이터, feature =2개\n",
    "np.random.seed(30)\n",
    "X=np.random.randn(100,2)  #rand =| randn : - 음수까지 섞음\n",
    "y=np.logical_xor(X[:, 0]>0, X[:, 1]>0)\n",
    "y=np.where( y, 1, -1)\n",
    "#y=np.where(y,-1,1)\n",
    "plt.scatter(X[y== 1, 0], X[y== 1, 1],c='b')\n",
    "plt.scatter(X[y==-1, 0], X[y==-1, 1],c='r')\n",
    "plt.show()"
   ]
  },
  {
   "cell_type": "code",
   "execution_count": 131,
   "metadata": {},
   "outputs": [
    {
     "data": {
      "image/png": "[encoded data removed]",
      "text/plain": [
       "<Figure size 432x288 with 1 Axes>"
      ]
     },
     "metadata": {
      "needs_background": "light"
     },
     "output_type": "display_data"
    }
   ],
   "source": [
    "from sklearn.model_selection import train_test_split\n",
    "\n",
    "X_train, X_test, y_train, y_test = train_test_split(X, y,\n",
    "                                                   test_size=0.2,\n",
    "                                                   shuffle=True)\n",
    "plt.scatter(X_train[y_train==1, 0],\n",
    "            X_train[y_train==1, 1], c='b')\n",
    "plt.scatter(X_train[y_train==-1, 0],\n",
    "            X_train[y_train==-1, 1], c='r')\n",
    "plt.show()"
   ]
  },
  {
   "cell_type": "code",
   "execution_count": 132,
   "metadata": {},
   "outputs": [],
   "source": [
    "model_pctr = MLPClassifier(hidden_layer_sizes=(1,)) #hidden layer, node 는 1개"
   ]
  },
  {
   "cell_type": "code",
   "execution_count": 133,
   "metadata": {},
   "outputs": [
    {
     "name": "stderr",
     "output_type": "stream",
     "text": [
      "C:\\ProgramData\\Anaconda3\\envs\\finance\\lib\\site-packages\\sklearn\\neural_network\\multilayer_perceptron.py:562: ConvergenceWarning: Stochastic Optimizer: Maximum iterations (200) reached and the optimization hasn't converged yet.\n",
      "  % self.max_iter, ConvergenceWarning)\n"
     ]
    },
    {
     "data": {
      "text/plain": [
       "MLPClassifier(activation='relu', alpha=0.0001, batch_size='auto', beta_1=0.9,\n",
       "       beta_2=0.999, early_stopping=False, epsilon=1e-08,\n",
       "       hidden_layer_sizes=(1,), learning_rate='constant',\n",
       "       learning_rate_init=0.001, max_iter=200, momentum=0.9,\n",
       "       n_iter_no_change=10, nesterovs_momentum=True, power_t=0.5,\n",
       "       random_state=None, shuffle=True, solver='adam', tol=0.0001,\n",
       "       validation_fraction=0.1, verbose=False, warm_start=False)"
      ]
     },
     "execution_count": 133,
     "metadata": {},
     "output_type": "execute_result"
    }
   ],
   "source": [
    "model_pctr.fit(X_train, y_train)"
   ]
  },
  {
   "cell_type": "code",
   "execution_count": 134,
   "metadata": {},
   "outputs": [
    {
     "data": {
      "text/plain": [
       "0.3"
      ]
     },
     "execution_count": 134,
     "metadata": {},
     "output_type": "execute_result"
    }
   ],
   "source": [
    "model_pctr.score(X_test, y_test)"
   ]
  },
  {
   "cell_type": "code",
   "execution_count": 135,
   "metadata": {},
   "outputs": [
    {
     "data": {
      "text/plain": [
       "0.4875"
      ]
     },
     "execution_count": 135,
     "metadata": {},
     "output_type": "execute_result"
    }
   ],
   "source": [
    "model_pctr.score(X_train, y_train)"
   ]
  },
  {
   "cell_type": "markdown",
   "metadata": {},
   "source": [
    "### multi_layer perception"
   ]
  },
  {
   "cell_type": "raw",
   "metadata": {},
   "source": [
    "model_pctr2= MLPClassifier(hidden_layer_sizes=(10,),\n",
    "                           tol=0.0000000001    #최저점\n",
    "                           max_iter=1000000000).fit(X_train, y_train)   #최대 반복 수\n",
    "#첫번째 hidden layer의  노드 갯수"
   ]
  },
  {
   "cell_type": "code",
   "execution_count": 136,
   "metadata": {},
   "outputs": [
    {
     "name": "stderr",
     "output_type": "stream",
     "text": [
      "C:\\ProgramData\\Anaconda3\\envs\\finance\\lib\\site-packages\\sklearn\\neural_network\\multilayer_perceptron.py:562: ConvergenceWarning: Stochastic Optimizer: Maximum iterations (200) reached and the optimization hasn't converged yet.\n",
      "  % self.max_iter, ConvergenceWarning)\n"
     ]
    }
   ],
   "source": [
    "model_pctr2= MLPClassifier(hidden_layer_sizes=(100,10)).fit(X_train, y_train)\n",
    "                           #100개의 node로 10층 쌓음   2개의 input X hidden layer=200개 "
   ]
  },
  {
   "cell_type": "code",
   "execution_count": 137,
   "metadata": {},
   "outputs": [
    {
     "name": "stderr",
     "output_type": "stream",
     "text": [
      "C:\\ProgramData\\Anaconda3\\envs\\finance\\lib\\site-packages\\sklearn\\neural_network\\multilayer_perceptron.py:562: ConvergenceWarning: Stochastic Optimizer: Maximum iterations (200) reached and the optimization hasn't converged yet.\n",
      "  % self.max_iter, ConvergenceWarning)\n"
     ]
    },
    {
     "data": {
      "text/plain": [
       "MLPClassifier(activation='relu', alpha=0.0001, batch_size='auto', beta_1=0.9,\n",
       "       beta_2=0.999, early_stopping=False, epsilon=1e-08,\n",
       "       hidden_layer_sizes=(100, 10), learning_rate='constant',\n",
       "       learning_rate_init=0.001, max_iter=200, momentum=0.9,\n",
       "       n_iter_no_change=10, nesterovs_momentum=True, power_t=0.5,\n",
       "       random_state=None, shuffle=True, solver='adam', tol=0.0001,\n",
       "       validation_fraction=0.1, verbose=False, warm_start=False)"
      ]
     },
     "execution_count": 137,
     "metadata": {},
     "output_type": "execute_result"
    }
   ],
   "source": [
    "model_pctr2.fit(X_train,y_train)"
   ]
  },
  {
   "cell_type": "code",
   "execution_count": 138,
   "metadata": {},
   "outputs": [
    {
     "data": {
      "text/plain": [
       "0.9625"
      ]
     },
     "execution_count": 138,
     "metadata": {},
     "output_type": "execute_result"
    }
   ],
   "source": [
    "model_pctr2.score(X_train, y_train)"
   ]
  },
  {
   "cell_type": "code",
   "execution_count": 139,
   "metadata": {},
   "outputs": [
    {
     "data": {
      "text/plain": [
       "0.9"
      ]
     },
     "execution_count": 139,
     "metadata": {},
     "output_type": "execute_result"
    }
   ],
   "source": [
    "model_pctr2.score(X_test, y_test)"
   ]
  },
  {
   "cell_type": "markdown",
   "metadata": {},
   "source": [
    "### parameter  \n",
    "   \n",
    "- activation  \n",
    "1) default : ReLU  \n",
    "2) logistic  \n",
    "3) tanh (sigmoid의 일종)    -1부터 1까지 가는 차이\n",
    "4) identity : Linear  \n",
    "    \n",
    "- Solver  \n",
    "1) default : adam  \n",
    "2) lbfgs  \n",
    "3) sgd : stochastic(확률적) gradient decent  \n",
    "  \n",
    "-  alpha : L2 norm 규제 정도 (Ridge Regression과 동일)  \n",
    "  \n",
    "- tol : cost가 학습을 멈추는 기준, (cost = tol이 될 때 까지 (최저 경계 값)  \n",
    "- max_iter : optimizing 최대 반복 수  \n",
    "\n"
   ]
  },
  {
   "cell_type": "code",
   "execution_count": 140,
   "metadata": {},
   "outputs": [
    {
     "data": {
      "text/plain": [
       "3"
      ]
     },
     "execution_count": 140,
     "metadata": {},
     "output_type": "execute_result"
    }
   ],
   "source": [
    "len(model_pctr2.coefs_) #총 3층짜리"
   ]
  },
  {
   "cell_type": "code",
   "execution_count": 141,
   "metadata": {},
   "outputs": [
    {
     "name": "stdout",
     "output_type": "stream",
     "text": [
      "hidden_layer_0_weight_no: (2, 100)\n",
      "hidden_layer_1_weight_no: (100, 10)\n",
      "hidden_layer_2_weight_no: (10, 1)\n"
     ]
    }
   ],
   "source": [
    "for i, coef in enumerate(model_pctr2.coefs_):     #list\n",
    "    print('hidden_layer_{}_weight_no: {}'.format(i, coef.shape))"
   ]
  },
  {
   "cell_type": "code",
   "execution_count": null,
   "metadata": {},
   "outputs": [],
   "source": []
  },
  {
   "cell_type": "code",
   "execution_count": 142,
   "metadata": {},
   "outputs": [
    {
     "data": {
      "text/plain": [
       "(2, 100)"
      ]
     },
     "execution_count": 142,
     "metadata": {},
     "output_type": "execute_result"
    }
   ],
   "source": [
    "model_pctr2.coefs_[0].shape  #coef의 갯수 위에 200개 shape 찍으면 이런모습"
   ]
  },
  {
   "cell_type": "code",
   "execution_count": 143,
   "metadata": {},
   "outputs": [
    {
     "data": {
      "text/plain": [
       "[array([ 0.01817415, -0.01151316, -0.0023808 ,  0.21177438,  0.0015331 ,\n",
       "        -0.21011523, -0.19798154,  0.01172147, -0.09183525,  0.00338827,\n",
       "         0.32922053, -0.0607712 ,  0.17932708,  0.29617663, -0.0535333 ,\n",
       "         0.14173012, -0.03153563,  0.15928588, -0.09126863, -0.01577238,\n",
       "        -0.20024219,  0.02051885, -0.03094326,  0.04243962,  0.15145366,\n",
       "         0.04438114,  0.10001758,  0.11126629,  0.17342544,  0.01325254,\n",
       "         0.00584865, -0.04480908, -0.00265094,  0.08178708, -0.21322191,\n",
       "         0.29688662, -0.26863971,  0.19317341, -0.02722368,  0.0760968 ,\n",
       "         0.15070449, -0.08350845, -0.23981174,  0.04388708,  0.28285465,\n",
       "         0.03120731,  0.05510514, -0.06383098, -0.02632742,  0.0236326 ,\n",
       "         0.33415623,  0.26646983, -0.04900213,  0.0155605 ,  0.15194184,\n",
       "         0.02540118,  0.01054184, -0.0036798 ,  0.04905538, -0.00120873,\n",
       "         0.00313538,  0.05092093,  0.03556719,  0.08743802, -0.05602054,\n",
       "        -0.02064188,  0.12102528, -0.04446058,  0.17477052,  0.25909889,\n",
       "         0.06580485,  0.2331358 ,  0.04455255, -0.25732818, -0.05162021,\n",
       "        -0.16868779,  0.01729766, -0.04413171, -0.13513964,  0.01590387,\n",
       "         0.32657396,  0.09038853, -0.13791608,  0.01653503, -0.229329  ,\n",
       "         0.06911761, -0.03293061, -0.10941879, -0.2390076 ,  0.11278568,\n",
       "         0.37242002,  0.01726665, -0.21548978, -0.0725889 ,  0.22100163,\n",
       "         0.09548332,  0.05497425, -0.01409843, -0.13895556,  0.09119268]),\n",
       " array([-0.04600507, -0.12565015,  0.02734095, -0.20354766,  0.01557679,\n",
       "         0.14223165,  0.22282701, -0.17788988,  0.19722085, -0.2408047 ]),\n",
       " array([0.23967068])]"
      ]
     },
     "execution_count": 143,
     "metadata": {},
     "output_type": "execute_result"
    }
   ],
   "source": [
    "model_pctr2.intercepts_"
   ]
  },
  {
   "cell_type": "code",
   "execution_count": 144,
   "metadata": {},
   "outputs": [
    {
     "name": "stdout",
     "output_type": "stream",
     "text": [
      "hidden_layer_0_weight_no: (100,)\n",
      "hidden_layer_1_weight_no: (10,)\n",
      "hidden_layer_2_weight_no: (1,)\n"
     ]
    }
   ],
   "source": [
    "#각 층의 bias 개수\n",
    "for i, bias in enumerate(model_pctr2.intercepts_):\n",
    "    print('hidden_layer_{}_weight_no: {}'.format(i, bias.shape))"
   ]
  },
  {
   "cell_type": "code",
   "execution_count": 145,
   "metadata": {},
   "outputs": [
    {
     "data": {
      "text/plain": [
       "200"
      ]
     },
     "execution_count": 145,
     "metadata": {},
     "output_type": "execute_result"
    }
   ],
   "source": [
    "#학습하는 동안 optimization 반복 횟수\n",
    "model_pctr2.n_iter_"
   ]
  },
  {
   "cell_type": "code",
   "execution_count": 146,
   "metadata": {},
   "outputs": [
    {
     "data": {
      "text/plain": [
       "4"
      ]
     },
     "execution_count": 146,
     "metadata": {},
     "output_type": "execute_result"
    }
   ],
   "source": [
    "#layer 개수\n",
    "model_pctr2.n_layers_"
   ]
  },
  {
   "cell_type": "code",
   "execution_count": 147,
   "metadata": {},
   "outputs": [
    {
     "data": {
      "text/plain": [
       "1"
      ]
     },
     "execution_count": 147,
     "metadata": {},
     "output_type": "execute_result"
    }
   ],
   "source": [
    "#output node 수\n",
    "model_pctr2.n_outputs_"
   ]
  },
  {
   "cell_type": "code",
   "execution_count": 158,
   "metadata": {},
   "outputs": [],
   "source": [
    "# graph, dataset 확장 패키지--->그래프를 그려주거나, dataset 갖다쓸떄 씀 sklearn에 원래 있던 기능 갖다 쓰는 명령어\n",
    "import mglearn\n",
    "\n",
    "def result_visualization(model, X, y):\n",
    "    mglearn.plots.plot_2d_separator(model, X,\n",
    "                                    fill=True, alpha=.1)\n",
    "    mglearn.discrete_scatter(X[:, 0], X[:, 1], y)"
   ]
  },
  {
   "cell_type": "code",
   "execution_count": 168,
   "metadata": {},
   "outputs": [
    {
     "name": "stderr",
     "output_type": "stream",
     "text": [
      "C:\\ProgramData\\Anaconda3\\envs\\finance\\lib\\site-packages\\sklearn\\neural_network\\multilayer_perceptron.py:562: ConvergenceWarning: Stochastic Optimizer: Maximum iterations (200) reached and the optimization hasn't converged yet.\n",
      "  % self.max_iter, ConvergenceWarning)\n"
     ]
    },
    {
     "data": {
      "image/png": "[encoded data removed]",
      "text/plain": [
       "<Figure size 432x288 with 1 Axes>"
      ]
     },
     "metadata": {},
     "output_type": "display_data"
    }
   ],
   "source": [
    "model_1 = MLPClassifier(hidden_layer_sizes=(10, 5)).fit(X_train,\n",
    "                                                          y_train)\n",
    "result_visualization(model_1, X_train, y_train)"
   ]
  },
  {
   "cell_type": "markdown",
   "metadata": {},
   "source": [
    "-  파라미터를 변경해보자"
   ]
  },
  {
   "cell_type": "code",
   "execution_count": 169,
   "metadata": {},
   "outputs": [
    {
     "data": {
      "image/png": "[encoded data removed]",
      "text/plain": [
       "<Figure size 432x288 with 1 Axes>"
      ]
     },
     "metadata": {},
     "output_type": "display_data"
    }
   ],
   "source": [
    "model_2= MLPClassifier(tol=0.00000000001,\n",
    "                       hidden_layer_sizes=(10, 5),\n",
    "                       activation='tanh',\n",
    "                       max_iter=1000000000000,\n",
    "                       alpha=10).fit(X,y)\n",
    "result_visualization(model_1, X_train, y_train)\n",
    "#tanh은 sigmid라 각짐"
   ]
  },
  {
   "cell_type": "markdown",
   "metadata": {},
   "source": [
    "### ReLU와 SIG"
   ]
  },
  {
   "cell_type": "code",
   "execution_count": 170,
   "metadata": {},
   "outputs": [
    {
     "name": "stderr",
     "output_type": "stream",
     "text": [
      "C:\\ProgramData\\Anaconda3\\envs\\finance\\lib\\site-packages\\sklearn\\neural_network\\multilayer_perceptron.py:562: ConvergenceWarning: Stochastic Optimizer: Maximum iterations (200) reached and the optimization hasn't converged yet.\n",
      "  % self.max_iter, ConvergenceWarning)\n"
     ]
    },
    {
     "data": {
      "image/png": "[encoded data removed]",
      "text/plain": [
       "<Figure size 432x288 with 1 Axes>"
      ]
     },
     "metadata": {},
     "output_type": "display_data"
    }
   ],
   "source": [
    "model_1 = MLPClassifier(hidden_layer_sizes=(10,5)).fit(X_train,y_train)\n",
    "\n",
    "result_visualization(model_1, X_train, y_train)"
   ]
  },
  {
   "cell_type": "markdown",
   "metadata": {},
   "source": [
    "Relu와 tanh의 비교\n",
    "-  tanh의 decision boundary가 더 부드럽다"
   ]
  },
  {
   "cell_type": "markdown",
   "metadata": {},
   "source": [
    "- relu의 decision boundary를 부드럽게 만들고 싶다면?   \n",
    "층과 층의 노드 수를 늘리자"
   ]
  },
  {
   "cell_type": "code",
   "execution_count": 171,
   "metadata": {},
   "outputs": [
    {
     "name": "stderr",
     "output_type": "stream",
     "text": [
      "C:\\ProgramData\\Anaconda3\\envs\\finance\\lib\\site-packages\\sklearn\\neural_network\\multilayer_perceptron.py:562: ConvergenceWarning: Stochastic Optimizer: Maximum iterations (200) reached and the optimization hasn't converged yet.\n",
      "  % self.max_iter, ConvergenceWarning)\n"
     ]
    },
    {
     "data": {
      "image/png": "[encoded data removed]",
      "text/plain": [
       "<Figure size 432x288 with 1 Axes>"
      ]
     },
     "metadata": {},
     "output_type": "display_data"
    }
   ],
   "source": [
    "model_3=MLPClassifier(hidden_layer_sizes=(10,10,5)).fit(X_train,y_train)\n",
    "result_visualization(model_3,X_train,y_train)"
   ]
  },
  {
   "cell_type": "code",
   "execution_count": 172,
   "metadata": {},
   "outputs": [
    {
     "data": {
      "image/png": "[encoded data removed]",
      "text/plain": [
       "<Figure size 432x288 with 1 Axes>"
      ]
     },
     "metadata": {},
     "output_type": "display_data"
    }
   ],
   "source": [
    "model_4 = MLPClassifier(hidden_layer_sizes=(10, 10, 5),\n",
    "                       activation='logistic').fit(X_train, y_train)\n",
    "result_visualization(model_4, X_train, y_train)"
   ]
  },
  {
   "cell_type": "code",
   "execution_count": 173,
   "metadata": {},
   "outputs": [
    {
     "data": {
      "image/png": "[encoded data removed]",
      "text/plain": [
       "<Figure size 432x288 with 1 Axes>"
      ]
     },
     "metadata": {},
     "output_type": "display_data"
    }
   ],
   "source": [
    "model_5 = MLPClassifier(hidden_layer_sizes=(10, 10, 5),\n",
    "                       activation='logistic',\n",
    "                       solver='lbfgs').fit(X_train, y_train)\n",
    "result_visualization(model_5, X_train, y_train)"
   ]
  },
  {
   "cell_type": "markdown",
   "metadata": {},
   "source": [
    "activation을 logistic으로 할때는 solver가 adam보다 lbfgs가 더 낫다."
   ]
  },
  {
   "cell_type": "code",
   "execution_count": 176,
   "metadata": {
    "scrolled": true
   },
   "outputs": [
    {
     "name": "stderr",
     "output_type": "stream",
     "text": [
      "C:\\ProgramData\\Anaconda3\\envs\\finance\\lib\\site-packages\\sklearn\\neural_network\\multilayer_perceptron.py:562: ConvergenceWarning: Stochastic Optimizer: Maximum iterations (200) reached and the optimization hasn't converged yet.\n",
      "  % self.max_iter, ConvergenceWarning)\n"
     ]
    },
    {
     "data": {
      "image/png": "[encoded data removed]",
      "text/plain": [
       "<Figure size 432x288 with 1 Axes>"
      ]
     },
     "metadata": {},
     "output_type": "display_data"
    }
   ],
   "source": [
    "model_6=MLPClassifier(hidden_layer_sizes=(10),\n",
    "                     activation='relu',\n",
    "                     alpha=100).fit(X_train,y_train)\n",
    "result_visualization(model_6, X_train, y_train)                    "
   ]
  },
  {
   "cell_type": "markdown",
   "metadata": {},
   "source": [
    "alpha를 크게 줄 수록 (규제를 강하게 할 수록)  \n",
    "decision boundary는 각이 진다."
   ]
  },
  {
   "cell_type": "code",
   "execution_count": null,
   "metadata": {},
   "outputs": [],
   "source": []
  }
 ],
 "metadata": {
  "kernelspec": {
   "display_name": "Python 3",
   "language": "python",
   "name": "python3"
  },
  "language_info": {
   "codemirror_mode": {
    "name": "ipython",
    "version": 3
   },
   "file_extension": ".py",
   "mimetype": "text/x-python",
   "name": "python",
   "nbconvert_exporter": "python",
   "pygments_lexer": "ipython3",
   "version": "3.7.3"
  }
 },
 "nbformat": 4,
 "nbformat_minor": 2
}
