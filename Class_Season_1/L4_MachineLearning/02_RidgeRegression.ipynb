{
 "cells": [
  {
   "cell_type": "markdown",
   "metadata": {},
   "source": [
    "####  절대값으로 overfitting을 막는다."
   ]
  },
  {
   "cell_type": "code",
   "execution_count": 18,
   "metadata": {},
   "outputs": [],
   "source": [
    "from sklearn.linear_model import Ridge\n",
    "from sklearn.datasets import make_regression\n",
    "from sklearn.model_selection import train_test_split"
   ]
  },
  {
   "cell_type": "code",
   "execution_count": 19,
   "metadata": {},
   "outputs": [],
   "source": [
    "X,y = make_regression(n_samples=1000, n_features=100, bias=10, noise=10)\n",
    "X_train, X_test, y_train, y_test = train_test_split(X,y, test_size=0.2, shuffle=True)"
   ]
  },
  {
   "cell_type": "markdown",
   "metadata": {},
   "source": [
    "### 모델 학습"
   ]
  },
  {
   "cell_type": "code",
   "execution_count": 20,
   "metadata": {},
   "outputs": [],
   "source": [
    "model =Ridge(alpha=1)  #alpha= 규제파라미터\n",
    "\n",
    "model_ridge =model.fit(X_train, y_train)"
   ]
  },
  {
   "cell_type": "code",
   "execution_count": 21,
   "metadata": {},
   "outputs": [
    {
     "name": "stdout",
     "output_type": "stream",
     "text": [
      "[-1.78337105e-02 -1.87135756e-01 -3.75173632e-01  5.40535680e-01\n",
      "  7.66224314e-01 -4.98318202e-01  1.11024021e-01 -7.54993097e-02\n",
      "  5.69476446e-01 -2.98591127e-01  5.15051754e-01  7.05054059e-01\n",
      " -3.63002444e-02  3.62321451e+01 -2.61772379e-01  7.72040711e+01\n",
      "  6.38447458e-01 -8.39816439e-01 -1.13795189e+00  5.40937782e-01\n",
      "  2.20979611e-01 -5.46641603e-01 -4.59705770e-01  1.36580438e-01\n",
      "  4.75555117e-02 -4.46400653e-01 -3.94633383e-02  4.24068529e-02\n",
      " -4.69557672e-01  2.14619967e-01 -1.17445057e-01 -1.32977507e-01\n",
      " -1.50354496e-01  3.35167455e-01  3.69005677e-01  8.96150102e-01\n",
      " -3.13939513e-01  4.86372723e-01 -7.72137783e-02 -1.71024338e-01\n",
      " -3.80585026e-01  5.24141432e-01 -2.59663708e-01  8.04145407e+01\n",
      " -2.04461617e-01  4.29689455e-02 -7.07051679e-01 -1.38550790e-01\n",
      "  8.92193920e-02  5.84243559e+01 -2.94364003e-01  7.72881869e-01\n",
      " -8.24724505e-01  8.45280884e-02 -6.28123537e-01  2.35347801e-01\n",
      "  3.04141167e-01  4.34954538e-01 -2.36267389e-01  1.87282606e-01\n",
      " -1.67085191e-01  7.11386759e+01 -2.14489352e-01  4.40957605e+01\n",
      "  2.89366043e-01  8.80838321e+01 -5.72628616e-01  1.37046159e-01\n",
      " -1.55170857e-01  5.04199257e-01  2.82529905e-01 -6.26480699e-03\n",
      "  8.82456599e+01  4.32967713e-01 -3.48317190e-01 -8.85229828e-01\n",
      " -2.52126000e-01 -9.58770472e-02 -3.15645462e-01  3.43798470e-01\n",
      " -2.28339741e-01  9.56978644e-01  2.53828547e-01 -2.94910080e-02\n",
      "  1.27607570e-01  1.10648997e-01 -7.95786655e-01  1.15417262e-01\n",
      "  1.05659907e-01  2.68544780e-01  6.20601329e-01  2.42181590e-01\n",
      "  3.92811987e+01 -1.29329422e-01 -7.98519878e-02 -4.74594685e-01\n",
      "  4.51444933e-01 -2.03812041e-01 -3.63591063e-01  7.27432922e+01] 9.883832947021542\n"
     ]
    }
   ],
   "source": [
    "print(model_ridge.coef_, model_ridge.intercept_)"
   ]
  },
  {
   "cell_type": "markdown",
   "metadata": {},
   "source": [
    "### 모델 검증 (test)"
   ]
  },
  {
   "cell_type": "code",
   "execution_count": 22,
   "metadata": {},
   "outputs": [
    {
     "data": {
      "text/plain": [
       "0.9968845076904399"
      ]
     },
     "execution_count": 22,
     "metadata": {},
     "output_type": "execute_result"
    }
   ],
   "source": [
    "model_ridge.score(X_test, y_test)       #train set 안뽑아도 test에서 점수가 높음->학습잘됐네!"
   ]
  },
  {
   "cell_type": "code",
   "execution_count": null,
   "metadata": {},
   "outputs": [],
   "source": []
  }
 ],
 "metadata": {
  "kernelspec": {
   "display_name": "Python 3",
   "language": "python",
   "name": "python3"
  },
  "language_info": {
   "codemirror_mode": {
    "name": "ipython",
    "version": 3
   },
   "file_extension": ".py",
   "mimetype": "text/x-python",
   "name": "python",
   "nbconvert_exporter": "python",
   "pygments_lexer": "ipython3",
   "version": "3.7.3"
  }
 },
 "nbformat": 4,
 "nbformat_minor": 2
}
