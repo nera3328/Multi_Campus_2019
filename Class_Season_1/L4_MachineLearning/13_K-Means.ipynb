{
 "cells": [
  {
   "cell_type": "markdown",
   "metadata": {},
   "source": [
    "실습을 통해 K-Means Clustering 모델 이해하기"
   ]
  },
  {
   "cell_type": "code",
   "execution_count": 1,
   "metadata": {},
   "outputs": [],
   "source": [
    "from sklearn.cluster import KMeans\n",
    "from sklearn.datasets import make_blobs\n",
    "\n",
    "import matplotlib.pyplot as plt\n",
    "import numpy as np"
   ]
  },
  {
   "cell_type": "markdown",
   "metadata": {},
   "source": [
    "### 가상의 데이터 생성  \n",
    "분류용 데이터 생성 메서드를 이용해서 label이 없는 데이터를 생성하였다."
   ]
  },
  {
   "cell_type": "code",
   "execution_count": 2,
   "metadata": {},
   "outputs": [
    {
     "data": {
      "text/plain": [
       "array([[ 3.10048766, -2.0922395 ],\n",
       "       [ 3.04871092, -2.1664995 ],\n",
       "       [ 2.43097929, -2.54103137],\n",
       "       [ 2.2639684 , -3.19047057],\n",
       "       [ 3.18034785, -1.3478239 ]])"
      ]
     },
     "execution_count": 2,
     "metadata": {},
     "output_type": "execute_result"
    }
   ],
   "source": [
    "X, y = make_blobs(n_samples=100, centers=1, cluster_std=0.5, random_state=30)\n",
    "# print(X)\n",
    "X[:5]"
   ]
  },
  {
   "cell_type": "code",
   "execution_count": 3,
   "metadata": {},
   "outputs": [
    {
     "data": {
      "image/png": "[encoded data removed]",
      "text/plain": [
       "<Figure size 432x288 with 1 Axes>"
      ]
     },
     "metadata": {
      "needs_background": "light"
     },
     "output_type": "display_data"
    }
   ],
   "source": [
    "plt.scatter(X[:, 0], X[:, 1], c='blue', edgecolor='k', lw=0.5)\n",
    "plt.show()"
   ]
  },
  {
   "cell_type": "code",
   "execution_count": 4,
   "metadata": {},
   "outputs": [],
   "source": [
    "model_kpp = KMeans(n_clusters=3, init=\"random\").fit(X) #initioalizer는 랜덤하게 주겠다."
   ]
  },
  {
   "cell_type": "markdown",
   "metadata": {},
   "source": [
    "Attributes of sklearn.clustering.KMeans\n",
    "\n",
    "cluster__centers_ : Coordinates of cluster centers\n",
    "\n",
    "labels_ : Labels of each point //비지도학습이지만 0번짼지 1번쨰인지 구분 위해 라벨링 넣어줌\n",
    "\n",
    "inertia_ : Sum of squared distances of samples to their closest cluster center.\n",
    "\n",
    "n__iter_ : Number of iterations run.\n",
    "\n"
   ]
  },
  {
   "cell_type": "code",
   "execution_count": 6,
   "metadata": {},
   "outputs": [
    {
     "data": {
      "text/plain": [
       "array([[ 2.87590072, -2.9484838 ],\n",
       "       [ 2.49855368, -2.07725587],\n",
       "       [ 3.46376653, -2.2550958 ]])"
      ]
     },
     "execution_count": 6,
     "metadata": {},
     "output_type": "execute_result"
    }
   ],
   "source": [
    "center = np.zeros([3, 2])\n",
    "center = model_kpp.cluster_centers_ #중심점\n",
    "center"
   ]
  },
  {
   "cell_type": "code",
   "execution_count": 7,
   "metadata": {},
   "outputs": [],
   "source": [
    "c0 = center[0]\n",
    "c1 = center[1]\n",
    "c2 = center[2]"
   ]
  },
  {
   "cell_type": "code",
   "execution_count": 8,
   "metadata": {},
   "outputs": [
    {
     "data": {
      "image/png": "[encoded data removed]",
      "text/plain": [
       "<Figure size 432x288 with 1 Axes>"
      ]
     },
     "metadata": {
      "needs_background": "light"
     },
     "output_type": "display_data"
    }
   ],
   "source": [
    "plt.scatter(X[model_kpp.labels_ == 0, 0],X[model_kpp.labels_ == 0, 1], marker='o', c='g', edgecolor='k', lw=0.5)\n",
    "plt.scatter(X[model_kpp.labels_ == 1, 0],X[model_kpp.labels_ == 1, 1], marker='o', c='r', edgecolor='k', lw=0.5)\n",
    "plt.scatter(X[model_kpp.labels_ == 2, 0],X[model_kpp.labels_ == 2, 1], marker='o', c='b', edgecolor='k', lw=0.5)\n",
    "plt.scatter(c0[0], c0[1], s=200, c=\"g\", edgecolor='k', lw=1)\n",
    "plt.scatter(c1[0], c1[1], s=200, c=\"r\", edgecolor='k', lw=1)\n",
    "plt.scatter(c2[0], c2[1], s=200, c=\"b\", edgecolor='k', lw=1)\n",
    "plt.show()"
   ]
  },
  {
   "cell_type": "code",
   "execution_count": null,
   "metadata": {},
   "outputs": [],
   "source": [
    "### 초기값 : k-means++\n",
    "    -분석을 위해 사전작업으로  쓸 확률 스케일링"
   ]
  },
  {
   "cell_type": "code",
   "execution_count": null,
   "metadata": {},
   "outputs": [],
   "source": []
  }
 ],
 "metadata": {
  "kernelspec": {
   "display_name": "Python 3",
   "language": "python",
   "name": "python3"
  },
  "language_info": {
   "codemirror_mode": {
    "name": "ipython",
    "version": 3
   },
   "file_extension": ".py",
   "mimetype": "text/x-python",
   "name": "python",
   "nbconvert_exporter": "python",
   "pygments_lexer": "ipython3",
   "version": "3.7.3"
  }
 },
 "nbformat": 4,
 "nbformat_minor": 2
}
