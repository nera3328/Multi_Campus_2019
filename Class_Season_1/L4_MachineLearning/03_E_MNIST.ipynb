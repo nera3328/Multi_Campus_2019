{
 "cells": [
  {
   "cell_type": "markdown",
   "metadata": {},
   "source": [
    "# Tensorflow를 이용한 MNIST 실습 "
   ]
  },
  {
   "cell_type": "code",
   "execution_count": 41,
   "metadata": {},
   "outputs": [],
   "source": [
    "import tensorflow as tf\n",
    "from tensorflow.examples.tutorials.mnist import input_data"
   ]
  },
  {
   "cell_type": "code",
   "execution_count": 42,
   "metadata": {},
   "outputs": [],
   "source": [
    "tf.reset_default_graph()"
   ]
  },
  {
   "cell_type": "code",
   "execution_count": 43,
   "metadata": {},
   "outputs": [
    {
     "name": "stdout",
     "output_type": "stream",
     "text": [
      "Extracting data/mnist/train-images-idx3-ubyte.gz\n",
      "Extracting data/mnist/train-labels-idx1-ubyte.gz\n",
      "Extracting data/mnist/t10k-images-idx3-ubyte.gz\n",
      "Extracting data/mnist/t10k-labels-idx1-ubyte.gz\n"
     ]
    }
   ],
   "source": [
    "mnist = input_data.read_data_sets('data/mnist/', one_hot=True)"
   ]
  },
  {
   "cell_type": "code",
   "execution_count": 44,
   "metadata": {},
   "outputs": [
    {
     "data": {
      "text/plain": [
       "(<tensorflow.contrib.learn.python.learn.datasets.mnist.DataSet at 0x1360ce10>,\n",
       " <tensorflow.contrib.learn.python.learn.datasets.mnist.DataSet at 0x1369efd0>)"
      ]
     },
     "execution_count": 44,
     "metadata": {},
     "output_type": "execute_result"
    }
   ],
   "source": [
    "mnist.train, mnist.test"
   ]
  },
  {
   "cell_type": "code",
   "execution_count": 45,
   "metadata": {},
   "outputs": [],
   "source": [
    "X = tf.placeholder(tf.float32)\n",
    "y = tf.placeholder(tf.float32)"
   ]
  },
  {
   "cell_type": "code",
   "execution_count": 46,
   "metadata": {},
   "outputs": [],
   "source": [
    "W_1 = tf.Variable(tf.random_normal([784, 128]))\n",
    "b_1 = tf.Variable(tf.random_normal([128]))\n",
    "hidden_1 = tf.sigmoid(tf.matmul(X, W_1) + b_1) #logistic 함수와 모양이 같다 한방에 128개를 sigmoid 보내버림\n",
    "\n",
    "W_2 = tf.Variable(tf.random_normal([128, 64]))\n",
    "b_2 = tf.Variable(tf.random_normal([64]))\n",
    "hidden_2 = tf.sigmoid(tf.matmul(hidden_1, W_2) + b_2)\n",
    "\n",
    "W_3 = tf.Variable(tf.random_normal([64, 10]))\n",
    "b_3 = tf.Variable(tf.random_normal([10]))\n",
    "hypo = tf.sigmoid(tf.matmul(hidden_2, W_3) + b_3)"
   ]
  },
  {
   "cell_type": "code",
   "execution_count": 53,
   "metadata": {},
   "outputs": [],
   "source": [
    "cost = tf.reduce_mean(\n",
    "    tf.nn.softmax_cross_entropy_with_logits(\n",
    "        logits=hypo, labels=y)) #hypo 써서 cost 만들기"
   ]
  },
  {
   "cell_type": "code",
   "execution_count": 54,
   "metadata": {},
   "outputs": [],
   "source": [
    "learning_rate = 1 #그래프에 팅기는 애\n",
    "optimizer = tf.train.GradientDescentOptimizer(learning_rate).minimize(cost)  \n",
    "#그라디엔 써서 cost를 옵티마이징시킴"
   ]
  },
  {
   "cell_type": "markdown",
   "metadata": {},
   "source": [
    "predict : hypo > 0.5 크다면 1로 저장.\n",
    "hypo > 0.5 -> 논리식이기 때문에, 결과값이 True or False\n",
    "tf.cast(\"value\", \"변환할 type\") : value를 해당 type으로 형변환 : True -> 1, False -> 0  \n",
    "    \n",
    "predict : hypo > 0.5 크다면 1로 저장.\n",
    "hypo > 0.5 -> 논리식이기 때문에, 결과값이 True or False\n",
    "tf.cast(\"value\", \"변환할 type\") : value를 해당 type으로 형변환 : True -> 1, False -> 0      "
   ]
  },
  {
   "cell_type": "code",
   "execution_count": 55,
   "metadata": {},
   "outputs": [],
   "source": [
    "predict = tf.cast(hypo > 0.5, tf.float32) # 1 or 0      #cast는 형변환\n",
    "accuracy = tf.reduce_mean(tf.cast(tf.equal(predict, y), tf.float32))"
   ]
  },
  {
   "cell_type": "code",
   "execution_count": 56,
   "metadata": {},
   "outputs": [],
   "source": [
    "batch_size = 100\n",
    "epoches = 10"
   ]
  },
  {
   "cell_type": "code",
   "execution_count": 57,
   "metadata": {
    "scrolled": true
   },
   "outputs": [
    {
     "name": "stdout",
     "output_type": "stream",
     "text": [
      "total_batch :  550\n",
      " 1 : 1.9119161653518677\n",
      " 2 : 1.6852922693165857\n",
      " 3 : 1.6343425156853417\n",
      " 4 : 1.608605131886221\n",
      " 5 : 1.5920503690026029\n",
      " 6 : 1.5799270131371241\n",
      " 7 : 1.5704823290218008\n",
      " 8 : 1.5632699732346953\n",
      " 9 : 1.5568278685483055\n",
      "10 : 1.5517037120732406\n",
      "Learning finished!\n",
      "accuracy : 0.96801\n"
     ]
    }
   ],
   "source": [
    "with tf.Session() as sess:\n",
    "    sess.run(tf.global_variables_initializer()) #위에 정의된 신경망 모델 실행\n",
    "\n",
    "    # total_batch 수(업데이트 수) = 전체 데이터 개수 // batch크기\n",
    "    total_batch = mnist.train.num_examples//batch_size\n",
    "    print('total_batch : ', total_batch)\n",
    "\n",
    "    for epoch in range(epoches):\n",
    "        avg_cost = 0 # 에폭 한번 돌리고 cost 바뀌는 것을 그냥 에폭 단위로 평균 돌림\n",
    "\n",
    "        for i in range(total_batch):\n",
    "            #training dataset\n",
    "            batch_xs, batch_ys = mnist.train.next_batch(batch_size)\n",
    "\n",
    "\n",
    "            sess.run(optimizer,   # 만들어 놓은 opti에서 스위치를 만듦.\n",
    "                     feed_dict={X: batch_xs, y: batch_ys})\n",
    "            c = sess.run(cost\n",
    "                         , feed_dict={X: batch_xs, y: batch_ys})    \n",
    "            #버튼 눌러서 배치 사이즈의 시점에서 코스트 값 담음\n",
    "\n",
    "            avg_cost += c / total_batch # 자기 자신에 C를 더함\n",
    "\n",
    "        print('{:2} : {:}'.format(epoch+1, avg_cost)) \n",
    "    print('Learning finished!') #출력\n",
    "\n",
    "    print('accuracy :', sess.run(accuracy, feed_dict={X: mnist.test.images, \n",
    "                                                  y: mnist.test.labels})) \n",
    "    #placeholder인 y를 위해 이 값을 가져옴\n",
    "    #testset의 애들을 갖고와서 물어봐줌"
   ]
  },
  {
   "cell_type": "markdown",
   "metadata": {},
   "source": [
    "# 새거!!!!!!!!!"
   ]
  },
  {
   "cell_type": "markdown",
   "metadata": {},
   "source": [
    "### 핵심은  정확도 비교해보기"
   ]
  },
  {
   "cell_type": "markdown",
   "metadata": {},
   "source": [
    "1) non-linearity 바꿔보기 : sigmoid -> relu  \n",
    "2) weight 초기화 바꿔보기: random -> xavier  "
   ]
  },
  {
   "cell_type": "code",
   "execution_count": 72,
   "metadata": {},
   "outputs": [],
   "source": [
    "import tensorflow as tf\n",
    "from tensorflow.examples.tutorials.mnist import input_data"
   ]
  },
  {
   "cell_type": "code",
   "execution_count": 73,
   "metadata": {},
   "outputs": [],
   "source": [
    "tf.reset_default_graph()"
   ]
  },
  {
   "cell_type": "code",
   "execution_count": 74,
   "metadata": {},
   "outputs": [
    {
     "name": "stdout",
     "output_type": "stream",
     "text": [
      "Extracting data/mnist/train-images-idx3-ubyte.gz\n",
      "Extracting data/mnist/train-labels-idx1-ubyte.gz\n",
      "Extracting data/mnist/t10k-images-idx3-ubyte.gz\n",
      "Extracting data/mnist/t10k-labels-idx1-ubyte.gz\n"
     ]
    }
   ],
   "source": [
    "mnist= input_data.read_data_sets('data/mnist/', one_hot =True)"
   ]
  },
  {
   "cell_type": "code",
   "execution_count": 75,
   "metadata": {},
   "outputs": [
    {
     "data": {
      "text/plain": [
       "(<tensorflow.contrib.learn.python.learn.datasets.mnist.DataSet at 0x172dfba8>,\n",
       " <tensorflow.contrib.learn.python.learn.datasets.mnist.DataSet at 0x172dfd30>)"
      ]
     },
     "execution_count": 75,
     "metadata": {},
     "output_type": "execute_result"
    }
   ],
   "source": [
    "mnist.train, mnist.test"
   ]
  },
  {
   "cell_type": "code",
   "execution_count": 76,
   "metadata": {},
   "outputs": [],
   "source": [
    "X= tf.placeholder(tf.float32)\n",
    "y= tf.placeholder(tf.float32)"
   ]
  },
  {
   "cell_type": "markdown",
   "metadata": {},
   "source": [
    "neural networks 구축  \n",
    "1) weight 초기화 바꿔보기  \n",
    "2) non-linearity 바꿔보기  "
   ]
  },
  {
   "cell_type": "markdown",
   "metadata": {},
   "source": [
    "non-linearity : sigmoid or tanh  \n",
    "-> initializer : Xavier  \n",
    "non-linearity : relu  \n",
    "-> initializer : He = variance_scaling   \n",
    "  \n",
    "bias = 0으로 초기화하자  \n"
   ]
  },
  {
   "cell_type": "code",
   "execution_count": 77,
   "metadata": {},
   "outputs": [],
   "source": [
    "W_1 = tf. Variable(tf.random_normal([784,128]))\n",
    "b_1 = tf. Variable(tf.random_normal([128]))\n",
    "hidden_1 = tf. sigmoid(tf.matmul(X, W_1)+b_1)\n",
    "\n",
    "W_2 = tf.Variable(tf.random_normal([128, 10]))\n",
    "b_2 = tf.Variable(tf.random_normal([10]))\n",
    "hypo = tf. sigmoid(tf.matmul(hidden_1, W_2)+ b_2)"
   ]
  },
  {
   "cell_type": "code",
   "execution_count": 79,
   "metadata": {},
   "outputs": [],
   "source": [
    "W_1 = tf.get_variable('w1', shape =[784,128],\n",
    "                     initializer=tf.contrib.layers.xavier_initializer())\n",
    "b_1 = tf.get_variable('b1', shape =[128],\n",
    "                     initializer=tf.contrib.layers.xavier_initializer())\n",
    "hidden_1 = tf.nn.relu(tf.matmul(X,W_1)+b_1)\n",
    "\n",
    "W_2 = tf.get_variable('w3', shape =[128, 10],\n",
    "                     initializer=tf.contrib.layers.xavier_initializer())\n",
    "b_2 = tf.get_variable('b3', shape =[10],\n",
    "                     initializer=tf.contrib.layers.xavier_initializer())\n",
    "hypo = tf.matmul(hidden_1,W_2)+b_2"
   ]
  },
  {
   "cell_type": "code",
   "execution_count": 81,
   "metadata": {},
   "outputs": [],
   "source": [
    "cost =tf.reduce_mean(\n",
    "    tf.nn.softmax_cross_entropy_with_logits(\n",
    "        logits=hypo, labels=y))\n",
    "learning_rate=.1\n",
    "optimizer = tf.train.AdamOptimizer(learning_rate).minimize(cost)\n"
   ]
  },
  {
   "cell_type": "code",
   "execution_count": 82,
   "metadata": {},
   "outputs": [],
   "source": [
    "predict = tf.cast(hypo > 0.5, tf.float32) # 1 or 0\n",
    "acc = tf.reduce_mean(tf.cast(tf.equal(predict, y), tf.float32))"
   ]
  },
  {
   "cell_type": "code",
   "execution_count": 83,
   "metadata": {},
   "outputs": [],
   "source": [
    "batch_size = 100\n",
    "epoches = 10"
   ]
  },
  {
   "cell_type": "code",
   "execution_count": 86,
   "metadata": {},
   "outputs": [
    {
     "name": "stdout",
     "output_type": "stream",
     "text": [
      "total_batch :  550\n",
      " 1 : 0.6106235406886446\n",
      " 2 : 0.43006782611662664\n",
      " 3 : 0.509155262383547\n",
      " 4 : 0.47617919577793666\n",
      " 5 : 0.5247935067794535\n",
      " 6 : 0.5847815721956173\n",
      " 7 : 0.5990648125247523\n",
      " 8 : 0.5770066307349644\n",
      " 9 : 0.6006747571175757\n",
      "10 : 0.6123743858120667\n",
      "Learning finished!\n"
     ]
    },
    {
     "ename": "NameError",
     "evalue": "name 'keep_prob' is not defined",
     "output_type": "error",
     "traceback": [
      "\u001b[1;31m---------------------------------------------------------------------------\u001b[0m",
      "\u001b[1;31mNameError\u001b[0m                                 Traceback (most recent call last)",
      "\u001b[1;32m<ipython-input-86-2389e6a78cc9>\u001b[0m in \u001b[0;36m<module>\u001b[1;34m\u001b[0m\n\u001b[0;32m     29\u001b[0m     print('accuracy :', sess.run(accuracy, feed_dict={X: mnist.test.images, \n\u001b[0;32m     30\u001b[0m                                                   \u001b[0my\u001b[0m\u001b[1;33m:\u001b[0m \u001b[0mmnist\u001b[0m\u001b[1;33m.\u001b[0m\u001b[0mtest\u001b[0m\u001b[1;33m.\u001b[0m\u001b[0mlabels\u001b[0m\u001b[1;33m,\u001b[0m\u001b[1;33m\u001b[0m\u001b[1;33m\u001b[0m\u001b[0m\n\u001b[1;32m---> 31\u001b[1;33m                                                      keep_prob:1.0}))\n\u001b[0m",
      "\u001b[1;31mNameError\u001b[0m: name 'keep_prob' is not defined"
     ]
    }
   ],
   "source": [
    "with tf.Session() as sess:\n",
    "    sess.run(tf.global_variables_initializer())\n",
    "\n",
    "    # total_batch 수(업데이트 수) = 전체 데이터 개수 // batch크기\n",
    "    total_batch = mnist.train.num_examples//batch_size\n",
    "    print('total_batch : ', total_batch)\n",
    "\n",
    "    for epoch in range(epoches):\n",
    "        avg_cost = 0\n",
    "\n",
    "        for i in range(total_batch):\n",
    "            #training dataset\n",
    "            batch_xs, batch_ys = mnist.train.next_batch(batch_size)\n",
    "\n",
    "\n",
    "            sess.run(optimizer, \n",
    "                     feed_dict={X: batch_xs, y: batch_ys})\n",
    "            c = sess.run(cost\n",
    "                         , feed_dict={X: batch_xs, y: batch_ys})\n",
    "\n",
    "            avg_cost += c / total_batch\n",
    "\n",
    "        print('{:2} : {:}'.format(epoch+1, avg_cost))\n",
    "    print('Learning finished!')\n",
    "    \n",
    "    pred = tf.equal(tf.argmax(hypo, 1), tf.argmax(y, 1))\n",
    "    accuracy = tf.reduce_mean(tf.cast(pred, tf.float32))\n",
    "\n",
    "    print('accuracy :', sess.run(accuracy, feed_dict={X: mnist.test.images, \n",
    "                                                  y: mnist.test.labels,\n",
    "                                                     keep_prob:1.0}))\n"
   ]
  },
  {
   "cell_type": "code",
   "execution_count": null,
   "metadata": {},
   "outputs": [],
   "source": []
  }
 ],
 "metadata": {
  "kernelspec": {
   "display_name": "Python 3",
   "language": "python",
   "name": "python3"
  },
  "language_info": {
   "codemirror_mode": {
    "name": "ipython",
    "version": 3
   },
   "file_extension": ".py",
   "mimetype": "text/x-python",
   "name": "python",
   "nbconvert_exporter": "python",
   "pygments_lexer": "ipython3",
   "version": "3.7.3"
  }
 },
 "nbformat": 4,
 "nbformat_minor": 2
}
