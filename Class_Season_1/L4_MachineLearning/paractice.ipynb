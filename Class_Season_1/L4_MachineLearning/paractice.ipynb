{
 "cells": [
  {
   "cell_type": "code",
   "execution_count": 1,
   "metadata": {},
   "outputs": [],
   "source": [
    "from sklearn.datasets import make_regression"
   ]
  },
  {
   "cell_type": "code",
   "execution_count": 10,
   "metadata": {},
   "outputs": [
    {
     "name": "stdout",
     "output_type": "stream",
     "text": [
      "Input_feature:\n",
      "[[-0.80230107]\n",
      " [-1.00556427]\n",
      " [ 0.96687653]\n",
      " [-0.99298652]] \n",
      "TargetValues:\n",
      "[  -8.19022026  -73.60648824  358.93669996 -148.60430393]\n"
     ]
    }
   ],
   "source": [
    "X,y=make_regression(n_samples=1000, n_features=1, bias=10, noise=100)\n",
    "print('Input_feature:\\n{} \\nTargetValues:\\n{}'.format(X[:4],y[:4]))"
   ]
  },
  {
   "cell_type": "code",
   "execution_count": 17,
   "metadata": {},
   "outputs": [
    {
     "data": {
      "image/png": "[encoded data removed]",
      "text/plain": [
       "<Figure size 432x288 with 1 Axes>"
      ]
     },
     "metadata": {
      "needs_background": "light"
     },
     "output_type": "display_data"
    }
   ],
   "source": [
    "from matplotlib import pyplot as plt\n",
    "plt.scatter(X,y)\n",
    "plt.show()"
   ]
  },
  {
   "cell_type": "code",
   "execution_count": 18,
   "metadata": {},
   "outputs": [],
   "source": [
    "from sklearn.linear_model import LinearRegression"
   ]
  },
  {
   "cell_type": "code",
   "execution_count": 19,
   "metadata": {},
   "outputs": [],
   "source": [
    "model=LinearRegression()"
   ]
  },
  {
   "cell_type": "code",
   "execution_count": 21,
   "metadata": {},
   "outputs": [],
   "source": [
    "from sklearn.model_selection import train_test_split\n",
    "X_train, X_test, y_train, y_test=train_test_split(X,y, test_size=0.2,shuffle=True)"
   ]
  },
  {
   "cell_type": "code",
   "execution_count": 22,
   "metadata": {},
   "outputs": [],
   "source": [
    "model_linear=model.fit(X_train, y_train)"
   ]
  },
  {
   "cell_type": "code",
   "execution_count": 23,
   "metadata": {},
   "outputs": [
    {
     "data": {
      "text/plain": [
       "array([37.03163227])"
      ]
     },
     "execution_count": 23,
     "metadata": {},
     "output_type": "execute_result"
    }
   ],
   "source": [
    "model_linear.coef_"
   ]
  },
  {
   "cell_type": "code",
   "execution_count": 24,
   "metadata": {},
   "outputs": [
    {
     "data": {
      "text/plain": [
       "5.27690615412159"
      ]
     },
     "execution_count": 24,
     "metadata": {},
     "output_type": "execute_result"
    }
   ],
   "source": [
    "model_linear.intercept_"
   ]
  },
  {
   "cell_type": "code",
   "execution_count": 25,
   "metadata": {},
   "outputs": [
    {
     "data": {
      "text/plain": [
       "0.16505252709433316"
      ]
     },
     "execution_count": 25,
     "metadata": {},
     "output_type": "execute_result"
    }
   ],
   "source": [
    "model_linear.score(X_test,y_test)"
   ]
  },
  {
   "cell_type": "code",
   "execution_count": 26,
   "metadata": {},
   "outputs": [
    {
     "data": {
      "text/plain": [
       "0.11842937071620296"
      ]
     },
     "execution_count": 26,
     "metadata": {},
     "output_type": "execute_result"
    }
   ],
   "source": [
    "model_linear.score(X_train,y_train)"
   ]
  },
  {
   "cell_type": "markdown",
   "metadata": {},
   "source": [
    "Ridge"
   ]
  },
  {
   "cell_type": "code",
   "execution_count": 10,
   "metadata": {},
   "outputs": [],
   "source": [
    "from sklearn.linear_model import Ridge\n",
    "from sklearn.datasets import make_regression\n",
    "from sklearn.model_selection import train_test_split"
   ]
  },
  {
   "cell_type": "code",
   "execution_count": 11,
   "metadata": {},
   "outputs": [
    {
     "name": "stdout",
     "output_type": "stream",
     "text": [
      "[-9.71457729e-02 -3.94715784e-01  2.32107881e+01  3.48686666e-01\n",
      "  1.60243233e-01  8.38650723e-02 -4.41857858e-02  2.78208972e-01\n",
      "  2.01765620e+01 -1.46607175e-02  5.08854680e-01  1.55497621e-01\n",
      " -7.35933149e-01  1.37300314e-01 -2.48168244e-01  3.87387802e-01\n",
      "  1.15804004e-01 -1.80355998e-01 -5.55522172e-01 -6.96633782e-01\n",
      " -1.75899077e-01 -2.60931175e-01  9.38471116e-02 -3.52629479e-01\n",
      "  3.08890762e-01  4.47615117e-01 -1.20124516e-01 -3.15475225e-01\n",
      "  1.10528237e-01  3.78627110e-01  1.10355999e-01  5.53940546e-01\n",
      "  5.03844240e-01  4.87266301e-01 -2.43384650e-02 -4.91159673e-01\n",
      "  1.63003291e-01  5.60291562e-01 -2.25742523e-01  2.71815239e-01\n",
      " -5.97723135e-01 -3.98235424e-01  6.43227845e+01 -2.03582857e-02\n",
      " -1.16427344e-01 -6.57296803e-01 -3.83141938e-01 -3.22453440e-02\n",
      "  8.13215681e+01  1.38671278e-01  5.18189307e-01 -8.07885426e-02\n",
      "  2.71599662e-01 -2.22169824e-01 -2.82362955e-01 -2.29981488e-01\n",
      " -4.98311910e-01  8.95911760e+00  1.32033062e-01  9.67327538e+01\n",
      " -4.38619867e-01  7.93530158e-02  1.21393097e-01  4.55813243e-01\n",
      " -2.87892764e-02 -1.08302294e-01  5.21945300e+00  6.93594799e-02\n",
      "  2.86403309e-01  2.27078418e+01  4.25418479e-01 -2.73701796e-01\n",
      "  2.44731370e-01 -5.90648080e-01 -9.65333408e-02 -1.99830140e-01\n",
      "  3.62365180e-01 -1.37279217e-01  4.85556284e-01 -2.32446500e-01\n",
      " -3.13560144e-01  1.07549570e-01  4.20108375e-01 -5.75987378e-01\n",
      "  3.20086698e-01 -3.04280152e-01 -1.73169695e-01 -5.95127941e-02\n",
      "  7.85535358e-01 -2.64411930e-01 -5.00803842e-01 -4.87979087e-01\n",
      " -2.00410881e-01  8.48643930e+01  5.80010718e+01 -6.18243138e-01\n",
      "  1.00166682e-01 -1.15671284e-01  1.15014961e-01 -2.34538139e-01] 9.82114629909991\n"
     ]
    }
   ],
   "source": [
    "X, y = make_regression(n_samples = 1000, n_features = 100, bias = 10, noise = 10)\n",
    "X_train, X_test, y_train, y_test= train_test_split(X, y, test_size=0.2, shuffle=True)\n",
    "\n",
    "model=Ridge(alpha=1)\n",
    "model_ridge = model.fit(X_train, y_train)\n",
    "\n",
    "print(model_ridge.coef_, model_ridge.intercept_)"
   ]
  },
  {
   "cell_type": "code",
   "execution_count": 12,
   "metadata": {},
   "outputs": [
    {
     "data": {
      "text/plain": [
       "0.9962597722683236"
      ]
     },
     "execution_count": 12,
     "metadata": {},
     "output_type": "execute_result"
    }
   ],
   "source": [
    "model_ridge.score(X_test, y_test)"
   ]
  },
  {
   "cell_type": "code",
   "execution_count": 13,
   "metadata": {},
   "outputs": [
    {
     "data": {
      "text/plain": [
       "0.9972222090186916"
      ]
     },
     "execution_count": 13,
     "metadata": {},
     "output_type": "execute_result"
    }
   ],
   "source": [
    "model_ridge.score(X_train, y_train)"
   ]
  },
  {
   "cell_type": "markdown",
   "metadata": {},
   "source": [
    "Lasso"
   ]
  },
  {
   "cell_type": "code",
   "execution_count": 143,
   "metadata": {},
   "outputs": [],
   "source": [
    "from sklearn.linear_model import Lasso\n",
    "from sklearn.datasets import make_regression\n",
    "from sklearn.model_selection import train_test_split"
   ]
  },
  {
   "cell_type": "code",
   "execution_count": 144,
   "metadata": {},
   "outputs": [],
   "source": [
    "X,y=make_regression(n_samples=1000, n_features=100, bias=10, noise=10)\n",
    "\n",
    "X_train, X_test, y_train, y_test = train_test_split(X, y,\n",
    "                                                   test_size=0.2,\n",
    "                                                   shuffle=True)"
   ]
  },
  {
   "cell_type": "code",
   "execution_count": 145,
   "metadata": {},
   "outputs": [],
   "source": [
    "model=Lasso(alpha=1)"
   ]
  },
  {
   "cell_type": "code",
   "execution_count": 146,
   "metadata": {},
   "outputs": [
    {
     "name": "stdout",
     "output_type": "stream",
     "text": [
      "weight: [-0.         -0.          0.         17.00538599 -0.         -0.\n",
      "  0.          0.          0.          0.         -0.         -0.\n",
      "  0.          0.          0.         -0.         -0.          0.\n",
      " -0.         -0.         -0.          0.          0.         -0.\n",
      " 87.85348563  0.          0.         -0.         -0.          0.\n",
      " -0.         67.81250393 30.97037401 -0.         -0.         -0.\n",
      "  0.         -0.          0.         -0.         84.0927943   0.\n",
      " -0.          0.          0.          0.         -0.         34.0919457\n",
      " -0.         -0.         16.51896869  0.          0.         -0.\n",
      " -0.         -0.          1.34152332  0.         -0.          0.\n",
      " -0.         -0.          0.         -0.         -0.         11.91008205\n",
      " -0.          0.          0.         -0.         -0.         -0.\n",
      "  0.         87.22038312  0.          0.          0.          0.\n",
      "  0.          0.          0.          0.          0.          0.\n",
      " -0.         -0.         -0.         -0.         -0.         -0.\n",
      " -0.          0.         -0.          0.          0.          0.\n",
      " -0.          0.         -0.          0.        ],\n",
      " bias: 9.19852348031129\n"
     ]
    }
   ],
   "source": [
    "model_lasso=model.fit(X_train, y_train)\n",
    "print('weight: {:},\\n bias: {}'.format(model_lasso.coef_,model_lasso.intercept_))"
   ]
  },
  {
   "cell_type": "code",
   "execution_count": 147,
   "metadata": {},
   "outputs": [
    {
     "data": {
      "text/plain": [
       "0.9970004067021071"
      ]
     },
     "execution_count": 147,
     "metadata": {},
     "output_type": "execute_result"
    }
   ],
   "source": [
    "model_lasso.score(X_train, y_train)"
   ]
  },
  {
   "cell_type": "code",
   "execution_count": 130,
   "metadata": {},
   "outputs": [
    {
     "data": {
      "text/plain": [
       "0.9967373296830969"
      ]
     },
     "execution_count": 130,
     "metadata": {},
     "output_type": "execute_result"
    }
   ],
   "source": [
    "model_lasso.score(X_test,y_test)"
   ]
  },
  {
   "cell_type": "markdown",
   "metadata": {},
   "source": [
    "Logistic Regression"
   ]
  },
  {
   "cell_type": "code",
   "execution_count": 131,
   "metadata": {},
   "outputs": [],
   "source": [
    "from sklearn.linear_model import LogisticRegression\n",
    "from sklearn.datasets import make_classification\n",
    "from sklearn.model_selection import train_test_split"
   ]
  },
  {
   "cell_type": "code",
   "execution_count": 132,
   "metadata": {},
   "outputs": [
    {
     "data": {
      "text/plain": [
       "100"
      ]
     },
     "execution_count": 132,
     "metadata": {},
     "output_type": "execute_result"
    }
   ],
   "source": [
    "X,y=make_classification(n_samples=100, n_features=1, n_redundant=0,\n",
    "                       n_informative=1, n_clusters_per_class=1, random_state=30)\n",
    "len(y)"
   ]
  },
  {
   "cell_type": "markdown",
   "metadata": {},
   "source": [
    "NeuralNetworks"
   ]
  },
  {
   "cell_type": "code",
   "execution_count": 81,
   "metadata": {},
   "outputs": [],
   "source": [
    "import tensorflow as tf"
   ]
  },
  {
   "cell_type": "code",
   "execution_count": 83,
   "metadata": {},
   "outputs": [],
   "source": [
    "var1=tf.Variable(5)\n",
    "con1=tf.constant(10)\n",
    "plh1=tf.placeholder(tf.int32)"
   ]
  },
  {
   "cell_type": "code",
   "execution_count": 85,
   "metadata": {},
   "outputs": [
    {
     "name": "stdout",
     "output_type": "stream",
     "text": [
      "Tensor(\"Const:0\", shape=(), dtype=int32)\n"
     ]
    }
   ],
   "source": [
    "print(con1) #'이름','모양','타입'"
   ]
  },
  {
   "cell_type": "code",
   "execution_count": 86,
   "metadata": {},
   "outputs": [],
   "source": [
    "init=tf.global_variables_initializer()\n",
    "assign=tf.assign(var1, 25)"
   ]
  },
  {
   "cell_type": "code",
   "execution_count": 87,
   "metadata": {},
   "outputs": [
    {
     "name": "stdout",
     "output_type": "stream",
     "text": [
      "Tensor(\"Assign:0\", shape=(), dtype=int32_ref)\n"
     ]
    }
   ],
   "source": [
    "print(assign)"
   ]
  },
  {
   "cell_type": "code",
   "execution_count": 91,
   "metadata": {},
   "outputs": [
    {
     "name": "stdout",
     "output_type": "stream",
     "text": [
      "10\n",
      "before:  5\n",
      "after:  25\n"
     ]
    }
   ],
   "source": [
    "with tf.Session() as sess:\n",
    "    sess=tf.Session()\n",
    "\n",
    "    con1_sess=sess.run(con1)\n",
    "    print(con1_sess)\n",
    "\n",
    "    sess.run(init)\n",
    "    print('before: ',sess.run(var1))\n",
    "\n",
    "    sess.run(assign)\n",
    "    print('after: ',sess.run(var1))\n"
   ]
  },
  {
   "cell_type": "markdown",
   "metadata": {},
   "source": [
    "NerualNetworks model"
   ]
  },
  {
   "cell_type": "code",
   "execution_count": 151,
   "metadata": {},
   "outputs": [],
   "source": [
    "import numpy as np\n",
    "from matplotlib import pyplot as plt #matplotlib은 차트.,슬롯 시각화 패키지"
   ]
  },
  {
   "cell_type": "code",
   "execution_count": 152,
   "metadata": {},
   "outputs": [
    {
     "data": {
      "text/plain": [
       "<tensorflow.python.framework.ops.Graph at 0x122fb860>"
      ]
     },
     "execution_count": 152,
     "metadata": {},
     "output_type": "execute_result"
    }
   ],
   "source": [
    "tf.get_default_graph()"
   ]
  },
  {
   "cell_type": "code",
   "execution_count": 153,
   "metadata": {},
   "outputs": [
    {
     "data": {
      "image/png": "[encoded data removed]",
      "text/plain": [
       "<Figure size 432x288 with 1 Axes>"
      ]
     },
     "metadata": {
      "needs_background": "light"
     },
     "output_type": "display_data"
    }
   ],
   "source": [
    "np.random.seed(30)\n",
    "X_data = np.random.randn(4, 2)\n",
    "y_data = np.logical_xor(X_data[:, 0]>0, X_data[:, 1]>0) #logical_xor: 논리 연산자 반환, 제일 기본적인 비선형 문제\n",
    "y_data = np.where(y_data, 1, -1)\n",
    "\n",
    "X_data.astype(np.float32)\n",
    "y_data.astype(np.float32)\n",
    "\n",
    "from sklearn.model_selection import train_test_split\n",
    "\n",
    "X_train, X_test, y_train, y_test = train_test_split(X_data,y_data,test_size=0.2,shuffle=True)\n",
    "\n",
    "plt.scatter(X_train[y_train==1, 0], X_train[y_train==1, 1], c='b')\n",
    "plt.scatter(X_train[y_train==-1, 0], X_train[y_train==-1, 1], c='r')\n",
    "plt.show()"
   ]
  },
  {
   "cell_type": "code",
   "execution_count": 154,
   "metadata": {},
   "outputs": [],
   "source": [
    "X = tf.placeholder(tf.float32)\n",
    "y = tf.placeholder(tf.float32)"
   ]
  },
  {
   "cell_type": "code",
   "execution_count": 178,
   "metadata": {},
   "outputs": [],
   "source": [
    "W_1 = tf.Variable(tf.random_normal([2, 100]))\n",
    "b_1 = tf.Variable(tf.random_normal([100]))\n",
    "hidden_1 = tf.sigmoid(tf.matmul(X, W_1) + b_1)\n",
    "\n",
    "W_2 = tf.Variable(tf.random_normal([100,10]))\n",
    "b_2 = tf.Variable(tf.random_normal([10]))\n",
    "hidden_2= tf.sigmoid(tf.matmul(hidden_1,W_2)+b_2)\n",
    "\n",
    "W_3=tf.Variable(tf.random_normal([10,1]))\n",
    "b_3= tf.Variable(tf.random_normal([1]))\n",
    "hypo=tf.sigmoid(tf.matmul(hidden_2,W_3)+b_3)"
   ]
  },
  {
   "cell_type": "code",
   "execution_count": 179,
   "metadata": {},
   "outputs": [],
   "source": [
    "cost=-tf.reduce_mean(y*tf.log(hypo)+(1-y)*tf.log(1-hypo)) # reduce_mean: 평균 내겠다"
   ]
  },
  {
   "cell_type": "code",
   "execution_count": 180,
   "metadata": {},
   "outputs": [],
   "source": [
    "learning_rate=1\n",
    "op=tf.train.GradientDescentOptimizer(learning_rate).minimize(cost)"
   ]
  },
  {
   "cell_type": "code",
   "execution_count": 181,
   "metadata": {},
   "outputs": [],
   "source": [
    "predict=tf.cast(hypo>0.5,tf.float32)\n",
    "acc=tf.reduce_mean(tf.cast(tf.equal(predict,y),tf.float32))"
   ]
  },
  {
   "cell_type": "code",
   "execution_count": 182,
   "metadata": {},
   "outputs": [
    {
     "name": "stdout",
     "output_type": "stream",
     "text": [
      "0.01819582\n",
      "accuracy:\n",
      " 1.0\n"
     ]
    }
   ],
   "source": [
    "with tf.Session() as sess:\n",
    "    sess.run(tf.global_variables_initializer())\n",
    "    \n",
    "    for i in range(10):\n",
    "        sess.run(op, feed_dict={X: X_train, y: y_train})\n",
    "        \n",
    "        if i%10==0:\n",
    "            print(sess.run(cost, feed_dict={X:X_train, y:y_train}))\n",
    "            \n",
    "    print('accuracy:\\n', sess.run(acc, feed_dict={X: X_test, y: y_test}))"
   ]
  },
  {
   "cell_type": "code",
   "execution_count": null,
   "metadata": {},
   "outputs": [],
   "source": []
  },
  {
   "cell_type": "code",
   "execution_count": null,
   "metadata": {},
   "outputs": [],
   "source": []
  }
 ],
 "metadata": {
  "kernelspec": {
   "display_name": "Python 3",
   "language": "python",
   "name": "python3"
  },
  "language_info": {
   "codemirror_mode": {
    "name": "ipython",
    "version": 3
   },
   "file_extension": ".py",
   "mimetype": "text/x-python",
   "name": "python",
   "nbconvert_exporter": "python",
   "pygments_lexer": "ipython3",
   "version": "3.7.3"
  }
 },
 "nbformat": 4,
 "nbformat_minor": 2
}
