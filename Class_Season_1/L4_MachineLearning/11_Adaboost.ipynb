{
 "cells": [
  {
   "cell_type": "code",
   "execution_count": 1,
   "metadata": {},
   "outputs": [],
   "source": [
    "from sklearn.ensemble import AdaBoostClassifier\n",
    "from sklearn.model_selection import train_test_split\n",
    "from sklearn.datasets import load_breast_cancer"
   ]
  },
  {
   "cell_type": "code",
   "execution_count": 2,
   "metadata": {},
   "outputs": [
    {
     "name": "stdout",
     "output_type": "stream",
     "text": [
      "훈련 세트 정확도: 1.000\n",
      "테스트 세트 정확도: 0.979\n"
     ]
    }
   ],
   "source": [
    "cancer = load_breast_cancer()\n",
    "\n",
    "X_train, X_test, y_train, y_test = train_test_split(\n",
    "    cancer.data, cancer.target, random_state=0)\n",
    "\n",
    "model_ada = AdaBoostClassifier(random_state=0)\n",
    "model_ada.fit(X_train, y_train)\n",
    "\n",
    "print(\"훈련 세트 정확도: {:.3f}\".format(model_ada.score(X_train, y_train)))\n",
    "print(\"테스트 세트 정확도: {:.3f}\".format(model_ada.score(X_test, y_test)))"
   ]
  },
  {
   "cell_type": "markdown",
   "metadata": {},
   "source": [
    "bagging은 n을 늘린다고 overfitting되지는 않음.  오차률이 심한 앨 가중치 줘서 계속 다시 뽑게 되면 어느 순간은 과대적합이 된다.   따라서 n이 너무 커지지 않게 적당하게 주는 것이 중요.//running rate도 너무 낮게 주면 안된다!  /// running rate와 n은 상반관계    \n",
    "하나의 트리에서 학습되는 정도를 너무 주면 안된다 for문으로 여러개의 estimate를 찾아야해 근데 쉽지 않아 우리는 시간에 의존적이기때문-노가다!  \n",
    "모델이 복잡하면 절대값자체가 커지니 estimate  \n",
    "n_estimators 와 learning_rate lr 을 낮추면, n_est 를 높여야 한다. n이 커지면 복잡해지고, 과대적합될 수 있다. max_depth는 5보다 작게"
   ]
  },
  {
   "cell_type": "code",
   "execution_count": null,
   "metadata": {},
   "outputs": [],
   "source": [
    "model_ada2 = AdaBoostClassifier(n_estimators=5,  learning_rate=2, random_state=0)\n",
    "model_ada2.fit(X_train, y_train)\n",
    "\n",
    "print(\"훈련 세트 정확도: {:.3f}\".format(model_ada2.score(X_train, y_train)))\n",
    "print(\"테스트 세트 정확도: {:.3f}\".format(model_ada2.score(X_test, y_test)))"
   ]
  }
 ],
 "metadata": {
  "kernelspec": {
   "display_name": "Python 3",
   "language": "python",
   "name": "python3"
  },
  "language_info": {
   "codemirror_mode": {
    "name": "ipython",
    "version": 3
   },
   "file_extension": ".py",
   "mimetype": "text/x-python",
   "name": "python",
   "nbconvert_exporter": "python",
   "pygments_lexer": "ipython3",
   "version": "3.7.3"
  }
 },
 "nbformat": 4,
 "nbformat_minor": 2
}
