{
 "cells": [
  {
   "cell_type": "code",
   "execution_count": 14,
   "metadata": {},
   "outputs": [
    {
     "name": "stdout",
     "output_type": "stream",
     "text": [
      "Requirement already satisfied: mglearn in c:\\programdata\\anaconda3\\envs\\finance\\lib\\site-packages (0.1.7)\n",
      "Requirement already satisfied: pillow in c:\\programdata\\anaconda3\\envs\\finance\\lib\\site-packages (from mglearn) (5.4.1)\n",
      "Requirement already satisfied: imageio in c:\\programdata\\anaconda3\\envs\\finance\\lib\\site-packages (from mglearn) (2.5.0)\n",
      "Requirement already satisfied: cycler in c:\\programdata\\anaconda3\\envs\\finance\\lib\\site-packages (from mglearn) (0.10.0)\n",
      "Requirement already satisfied: numpy in c:\\programdata\\anaconda3\\envs\\finance\\lib\\site-packages (from mglearn) (1.16.2)\n",
      "Requirement already satisfied: matplotlib in c:\\programdata\\anaconda3\\envs\\finance\\lib\\site-packages (from mglearn) (3.0.3)\n",
      "Requirement already satisfied: pandas in c:\\programdata\\anaconda3\\envs\\finance\\lib\\site-packages (from mglearn) (0.24.2)\n",
      "Requirement already satisfied: scikit-learn in c:\\programdata\\anaconda3\\envs\\finance\\lib\\site-packages (from mglearn) (0.20.3)\n",
      "Requirement already satisfied: six in c:\\programdata\\anaconda3\\envs\\finance\\lib\\site-packages (from cycler->mglearn) (1.12.0)\n",
      "Requirement already satisfied: kiwisolver>=1.0.1 in c:\\programdata\\anaconda3\\envs\\finance\\lib\\site-packages (from matplotlib->mglearn) (1.0.1)\n",
      "Requirement already satisfied: pyparsing!=2.0.4,!=2.1.2,!=2.1.6,>=2.0.1 in c:\\programdata\\anaconda3\\envs\\finance\\lib\\site-packages (from matplotlib->mglearn) (2.3.1)\n",
      "Requirement already satisfied: python-dateutil>=2.1 in c:\\programdata\\anaconda3\\envs\\finance\\lib\\site-packages (from matplotlib->mglearn) (2.8.0)\n",
      "Requirement already satisfied: pytz>=2011k in c:\\programdata\\anaconda3\\envs\\finance\\lib\\site-packages (from pandas->mglearn) (2018.9)\n",
      "Requirement already satisfied: scipy>=0.13.3 in c:\\programdata\\anaconda3\\envs\\finance\\lib\\site-packages (from scikit-learn->mglearn) (1.2.1)\n",
      "Requirement already satisfied: setuptools in c:\\programdata\\anaconda3\\envs\\finance\\lib\\site-packages (from kiwisolver>=1.0.1->matplotlib->mglearn) (40.8.0)\n",
      "Note: you may need to restart the kernel to use updated packages.\n"
     ]
    }
   ],
   "source": [
    "pip install mglearn"
   ]
  },
  {
   "cell_type": "markdown",
   "metadata": {},
   "source": [
    "mglearn  :  tutorial? sklearn의 보조적 역할"
   ]
  },
  {
   "cell_type": "code",
   "execution_count": 15,
   "metadata": {},
   "outputs": [],
   "source": [
    "from mglearn.datasets import load_extended_boston\n",
    "from sklearn.linear_model import LinearRegression, Ridge, Lasso\n",
    "from sklearn.model_selection import train_test_split\n",
    "from matplotlib import pyplot as plt\n",
    "import numpy as np\n",
    "import pandas as pd"
   ]
  },
  {
   "cell_type": "code",
   "execution_count": 16,
   "metadata": {},
   "outputs": [],
   "source": [
    "X,y =load_extended_boston()"
   ]
  },
  {
   "cell_type": "code",
   "execution_count": 18,
   "metadata": {},
   "outputs": [
    {
     "data": {
      "text/plain": [
       "(array([0.        , 0.18      , 0.06781525, 0.        , 0.31481481,\n",
       "        0.57750527, 0.64160659, 0.26920314, 0.        , 0.20801527,\n",
       "        0.28723404, 1.        , 0.08967991, 0.        , 0.        ,\n",
       "        0.        , 0.        , 0.        , 0.        , 0.        ,\n",
       "        0.        , 0.        , 0.        , 0.        , 0.        ,\n",
       "        0.        , 0.0324    , 0.01220674, 0.        , 0.05666667,\n",
       "        0.10395095, 0.11548919, 0.04845657, 0.        , 0.03744275,\n",
       "        0.05170213, 0.18      , 0.01614238, 0.00459891, 0.        ,\n",
       "        0.02134925, 0.03916366, 0.04351071, 0.01825608, 0.        ,\n",
       "        0.01410661, 0.01947885, 0.06781525, 0.00608167, 0.        ,\n",
       "        0.        , 0.        , 0.        , 0.        , 0.        ,\n",
       "        0.        , 0.        , 0.        , 0.        , 0.09910837,\n",
       "        0.18180721, 0.20198726, 0.08474914, 0.        , 0.06548629,\n",
       "        0.09042553, 0.31481481, 0.02823256, 0.33351234, 0.37053119,\n",
       "        0.15546623, 0.        , 0.12012991, 0.16587917, 0.57750527,\n",
       "        0.05179062, 0.41165902, 0.17272251, 0.        , 0.13346397,\n",
       "        0.18429125, 0.64160659, 0.05753922, 0.07247033, 0.        ,\n",
       "        0.05599836, 0.07732431, 0.26920314, 0.02414211, 0.        ,\n",
       "        0.        , 0.        , 0.        , 0.        , 0.04327035,\n",
       "        0.05974907, 0.20801527, 0.01865479, 0.0825034 , 0.28723404,\n",
       "        0.02575912, 1.        , 0.08967991, 0.00804249]), 24.0)"
      ]
     },
     "execution_count": 18,
     "metadata": {},
     "output_type": "execute_result"
    }
   ],
   "source": [
    "X[0],y[0]"
   ]
  },
  {
   "cell_type": "code",
   "execution_count": 10,
   "metadata": {},
   "outputs": [
    {
     "data": {
      "text/plain": [
       "104"
      ]
     },
     "execution_count": 10,
     "metadata": {},
     "output_type": "execute_result"
    }
   ],
   "source": [
    "len(X[0])   # feature의 갯수 : len(X[0])"
   ]
  },
  {
   "cell_type": "code",
   "execution_count": 12,
   "metadata": {},
   "outputs": [
    {
     "data": {
      "text/plain": [
       "506"
      ]
     },
     "execution_count": 12,
     "metadata": {},
     "output_type": "execute_result"
    }
   ],
   "source": [
    "len(X)     # 총 data의 갯수 :len(X)"
   ]
  },
  {
   "cell_type": "code",
   "execution_count": 23,
   "metadata": {},
   "outputs": [
    {
     "data": {
      "text/plain": [
       "['헐크', 50]"
      ]
     },
     "execution_count": 23,
     "metadata": {},
     "output_type": "execute_result"
    }
   ],
   "source": [
    "# 예제\n",
    "hero=[['헐크',50],['아이언맨',45],['토르',48]]\n",
    "#헐크 50을 뽑고 싶다면?\n",
    "hero[0]"
   ]
  },
  {
   "cell_type": "markdown",
   "metadata": {},
   "source": [
    "hero안에 몇 명의 hero가 들어있나요?"
   ]
  },
  {
   "cell_type": "code",
   "execution_count": 24,
   "metadata": {},
   "outputs": [
    {
     "data": {
      "text/plain": [
       "3"
      ]
     },
     "execution_count": 24,
     "metadata": {},
     "output_type": "execute_result"
    }
   ],
   "source": [
    "len(hero)"
   ]
  },
  {
   "cell_type": "code",
   "execution_count": 25,
   "metadata": {},
   "outputs": [
    {
     "data": {
      "text/plain": [
       "array([[0.00000000e+00, 1.80000000e-01, 6.78152493e-02, ...,\n",
       "        1.00000000e+00, 8.96799117e-02, 8.04248656e-03],\n",
       "       [2.35922539e-04, 0.00000000e+00, 2.42302053e-01, ...,\n",
       "        1.00000000e+00, 2.04470199e-01, 4.18080621e-02],\n",
       "       [2.35697744e-04, 0.00000000e+00, 2.42302053e-01, ...,\n",
       "        9.79579831e-01, 6.28144504e-02, 4.02790570e-03],\n",
       "       ...,\n",
       "       [6.11892474e-04, 0.00000000e+00, 4.20454545e-01, ...,\n",
       "        1.00000000e+00, 1.07891832e-01, 1.16406475e-02],\n",
       "       [1.16072990e-03, 0.00000000e+00, 4.20454545e-01, ...,\n",
       "        9.82676920e-01, 1.29930407e-01, 1.71795127e-02],\n",
       "       [4.61841693e-04, 0.00000000e+00, 4.20454545e-01, ...,\n",
       "        1.00000000e+00, 1.69701987e-01, 2.87987643e-02]])"
      ]
     },
     "execution_count": 25,
     "metadata": {},
     "output_type": "execute_result"
    }
   ],
   "source": [
    "X"
   ]
  },
  {
   "cell_type": "markdown",
   "metadata": {},
   "source": [
    "data가 feature에 비해 그렇게 많아보이진 않은데...?--->OverFitting의 예감...."
   ]
  },
  {
   "cell_type": "markdown",
   "metadata": {},
   "source": [
    "trainset과 testset을 분리해보자."
   ]
  },
  {
   "cell_type": "code",
   "execution_count": 26,
   "metadata": {},
   "outputs": [],
   "source": [
    "X_train,X_test,y_train,y_test=train_test_split(X,y,test_size=0.2,shuffle=True)"
   ]
  },
  {
   "cell_type": "code",
   "execution_count": 28,
   "metadata": {},
   "outputs": [
    {
     "data": {
      "text/plain": [
       "(404, 102)"
      ]
     },
     "execution_count": 28,
     "metadata": {},
     "output_type": "execute_result"
    }
   ],
   "source": [
    "len(X_train),len(X_test)"
   ]
  },
  {
   "cell_type": "markdown",
   "metadata": {},
   "source": [
    "### 학습\n",
    "3개의 regression 모델로 각각 학습시켜서 결과를 뽑아보자"
   ]
  },
  {
   "cell_type": "code",
   "execution_count": 29,
   "metadata": {},
   "outputs": [],
   "source": [
    "model_linear=LinearRegression().fit(X_train,y_train)\n",
    "model_ridge=Ridge(alpha=0.3).fit(X_train,y_train)\n",
    "model_lasso=Lasso(alpha=0.3).fit(X_train,y_train)"
   ]
  },
  {
   "cell_type": "code",
   "execution_count": 32,
   "metadata": {},
   "outputs": [
    {
     "name": "stdout",
     "output_type": "stream",
     "text": [
      "linearRegression:\n",
      "weight:\n",
      "[-7.92019783e+01  2.72709286e+01 -7.02881083e+01  2.93647565e+00\n",
      "  2.44489557e+01  1.08810632e+02  4.68740009e+01 -5.03244193e+01\n",
      "  3.04701384e+01  1.26981219e+01  3.12566279e+01  5.22363812e+01\n",
      "  4.23182442e+01  6.64783576e+00  1.86996374e+03  1.17798274e+03\n",
      "  1.73719237e+02 -9.64727619e+01  1.99376165e+01 -6.93686883e+01\n",
      " -5.59293995e+02  8.18122104e+02 -1.82146296e+03  2.88122814e+02\n",
      "  1.04476936e+01  6.36115814e+01 -7.23562251e+00 -2.28381495e+01\n",
      " -5.59972094e+00 -7.94542856e+01  2.46033234e+00  1.43668214e+01\n",
      " -2.30045140e+01 -3.85109150e+01  4.63805972e+01 -8.83132798e+00\n",
      " -3.51570833e+00 -3.10003603e+01  2.27854613e+01  5.78290407e+00\n",
      "  9.26114581e-01  3.06040750e+01  1.62486092e+01  2.67711639e+01\n",
      " -5.33100252e+01  2.43041344e+01  1.41559665e+00  3.17699638e+01\n",
      " -3.18701245e+01  2.93647565e+00 -1.25957891e+01 -2.13746460e+01\n",
      "  2.68013200e+00  2.80627534e+01  4.65422890e+00 -2.58738293e+00\n",
      " -1.14898762e+01  5.44115907e+00 -1.54118548e+00 -1.19643812e+01\n",
      " -1.52779524e+01 -9.42559864e+00  1.17118154e+02 -2.50820535e+01\n",
      "  7.35470717e+01 -6.66318293e+01 -1.35670639e+01  1.65097635e+01\n",
      " -1.68805877e+00 -3.10200597e+01 -1.67581467e+01 -2.49915674e+00\n",
      " -4.86916112e+01 -2.89409219e+01 -1.29376636e+01 -3.91602711e+01\n",
      " -4.04750646e-01 -7.91249510e+00  3.77233221e+01 -3.55226378e+01\n",
      "  5.07402900e+00 -3.30787469e+01 -3.25878948e+01  7.40941496e+01\n",
      " -1.91485135e+01 -8.60130208e+00 -1.91551914e+01 -1.08485086e+01\n",
      "  2.25251812e+01 -8.46687632e+01  1.43769354e+02 -2.59841844e+01\n",
      "  2.93196725e+00 -3.53817444e+01 -3.15198325e+01  2.78459970e+01\n",
      " -2.07383208e+01 -1.76062329e+00 -3.30279834e+00 -1.99167201e-01\n",
      "  4.79178144e+00 -4.31447912e+00 -1.66323705e+01  2.07415120e+01] \n",
      "bias:\n",
      "-59.05008876775179\n"
     ]
    }
   ],
   "source": [
    "print('linearRegression:')\n",
    "print('weight:\\n{} \\nbias:\\n{}'.format(model_linear.coef_,\n",
    "                                      model_linear.intercept_))"
   ]
  },
  {
   "cell_type": "code",
   "execution_count": 38,
   "metadata": {},
   "outputs": [
    {
     "name": "stdout",
     "output_type": "stream",
     "text": [
      "linearRegression:\n",
      "weight:\n",
      "[-2.42704112e+00 -3.73022168e+00 -1.31512014e+00  1.27695763e+00\n",
      "  3.19105124e+00  1.36329692e+01  1.89258973e+00 -7.76445994e+00\n",
      "  8.39323114e+00  1.57588441e-01 -6.51010627e-01  3.91164697e+00\n",
      " -4.86819134e-01  2.41871224e+00  8.63305399e-03 -1.39808044e+00\n",
      "  2.40637586e+00 -2.00980003e+00 -1.06238014e+00 -2.39684408e+00\n",
      " -9.48536900e-01 -3.08022771e+00 -2.54178967e+00 -2.40280404e+00\n",
      " -5.39325657e-01 -1.74631141e-01  3.21672460e+00 -1.97756033e+00\n",
      "  1.27126171e+00 -3.98555941e-01  6.09668290e+00 -1.21397034e+00\n",
      " -1.30825111e+00  2.06498227e-02  3.02602789e+00  3.24459427e+00\n",
      " -2.92041189e+00 -1.60547732e+00  2.63649209e+00  1.25144282e+00\n",
      "  3.78022731e+00 -1.10537253e+00  4.14410002e+00 -6.35981611e+00\n",
      "  1.71203733e+00  3.86410053e+00 -3.68939724e+00  7.54341996e-01\n",
      " -1.03980265e+01  1.27695763e+00 -7.57678816e+00 -8.75089573e+00\n",
      "  3.96702135e+00 -1.29876216e-01  1.57703277e+00  2.77007422e+00\n",
      "  2.55343094e-01  2.22879869e+00 -3.05833949e+00 -2.23789560e+00\n",
      " -4.16269030e+00 -5.15666538e+00 -1.36265851e+00 -4.77178644e+00\n",
      " -1.76215204e+00 -3.29551888e+00  1.23184312e+00 -4.65109452e-01\n",
      "  2.04494028e+01 -2.66492603e+00  3.36328435e+00 -1.14633026e+01\n",
      " -1.28126538e+01 -1.00743743e+01  1.04819782e+01 -9.79465240e+00\n",
      "  5.19045577e-01 -1.61353924e+00  7.61431179e+00 -5.90053443e-01\n",
      " -1.93799967e+00 -2.38620491e+00 -6.45041769e+00  6.88975538e+00\n",
      " -4.83317764e+00 -4.72214219e+00 -8.92356259e-01 -6.06543379e+00\n",
      "  5.36009680e+00 -1.32023553e+00  1.32606850e+00  2.92538129e+00\n",
      "  1.98957626e+00 -1.19247112e+01  1.45963989e+00  4.95865171e+00\n",
      " -1.42114690e+00 -1.19254475e+01  2.12170017e+00 -1.48001507e+00\n",
      "  1.30629037e+00 -8.67819615e-02 -9.57842827e+00  1.97591544e+01] \n",
      "bias:\n",
      "15.43040953148791\n"
     ]
    }
   ],
   "source": [
    "print('linearRegression:')\n",
    "print('weight:\\n{} \\nbias:\\n{}'.format(model_ridge.coef_,\n",
    "                                      model_ridge.intercept_))"
   ]
  },
  {
   "cell_type": "code",
   "execution_count": 39,
   "metadata": {},
   "outputs": [
    {
     "name": "stdout",
     "output_type": "stream",
     "text": [
      "linearRegression:\n",
      "weight:\n",
      "[ -0.           0.          -0.           0.          -0.\n",
      "   0.          -0.          -0.          -0.          -0.\n",
      "  -0.           0.         -16.71205598  -0.           0.\n",
      "  -0.           0.          -0.          -0.          -0.\n",
      "  -0.          -0.          -0.          -0.          -0.\n",
      "  -0.           0.           0.           0.           0.\n",
      "   0.           0.           0.           0.           0.\n",
      "   0.           0.          -0.          -0.           0.\n",
      "  -0.          -0.          -0.          -0.          -0.\n",
      "  -0.          -0.          -0.          -0.           0.\n",
      "   0.           0.           0.           0.           0.\n",
      "   0.           0.           0.           0.          -0.\n",
      "  -0.          -0.          -0.          -0.          -0.\n",
      "  -0.          -0.          -0.          11.62389394   0.\n",
      "   0.          -0.          -0.          -0.           5.54785816\n",
      "  -0.          -0.          -0.          -0.          -0.\n",
      "  -0.           0.          -0.          -0.          -0.\n",
      "  -0.          -0.          -0.          -0.          -0.\n",
      "  -0.          -0.          -0.          -0.          -0.\n",
      "  -0.          -0.          -0.          -4.40638766  -0.\n",
      "  -0.           0.          -0.          -0.        ] \n",
      "bias:\n",
      "23.560180584110668\n"
     ]
    }
   ],
   "source": [
    "print('linearRegression:')\n",
    "print('weight:\\n{} \\nbias:\\n{}'.format(model_lasso.coef_,\n",
    "                                      model_lasso.intercept_))"
   ]
  },
  {
   "cell_type": "raw",
   "metadata": {},
   "source": [
    "ridge는 전체적으로 값이 작아지고\n",
    "lasso는 노답느낌... 0이 많아"
   ]
  },
  {
   "cell_type": "markdown",
   "metadata": {},
   "source": [
    "모델 검증 (Test)"
   ]
  },
  {
   "cell_type": "markdown",
   "metadata": {},
   "source": [
    "### Linear_regression"
   ]
  },
  {
   "cell_type": "code",
   "execution_count": 49,
   "metadata": {},
   "outputs": [
    {
     "name": "stdout",
     "output_type": "stream",
     "text": [
      "0.9332792562498704\n",
      "0.7761937839191031\n"
     ]
    }
   ],
   "source": [
    "print(model_linear.score(X_train,y_train))\n",
    "print(model_linear.score(X_test,y_test))"
   ]
  },
  {
   "cell_type": "markdown",
   "metadata": {},
   "source": [
    "####  ----->  overfitting"
   ]
  },
  {
   "cell_type": "markdown",
   "metadata": {},
   "source": [
    "### Ridge_regression"
   ]
  },
  {
   "cell_type": "code",
   "execution_count": 53,
   "metadata": {},
   "outputs": [
    {
     "name": "stdout",
     "output_type": "stream",
     "text": [
      "0.8839519033380598\n",
      "0.8853290826141934\n"
     ]
    }
   ],
   "source": [
    "print(model_ridge.score(X_train,y_train))\n",
    "print(model_ridge.score(X_test,y_test))"
   ]
  },
  {
   "cell_type": "markdown",
   "metadata": {},
   "source": [
    "#### ------> 규제로 인해 더 못 맞췄음, but test에서 좋은성적 : fitting상태"
   ]
  },
  {
   "cell_type": "markdown",
   "metadata": {},
   "source": [
    "### Lasso_regression"
   ]
  },
  {
   "cell_type": "code",
   "execution_count": 50,
   "metadata": {},
   "outputs": [
    {
     "name": "stdout",
     "output_type": "stream",
     "text": [
      "0.6850952594786581\n",
      "0.6247246061727239\n"
     ]
    }
   ],
   "source": [
    "print(model_lasso.score(X_train,y_train))\n",
    "print(model_lasso.score(X_test,y_test))"
   ]
  },
  {
   "cell_type": "markdown",
   "metadata": {},
   "source": [
    "#### ------>  underfit  \n",
    "다 0으로 보내서 모델이 단순->alpha로 조절하자"
   ]
  },
  {
   "cell_type": "markdown",
   "metadata": {},
   "source": [
    "#### fitting상태는 상대적인 것.\n",
    "- 규제를 강하게 걸면 얘가 학습을 못해여, underfit됨미다\n",
    "- 규제를 풀면 얘가 overfit되버려\n",
    "-  >적당한 규제 필요 : 무한 반복, alpha 조절하며 for문 돌리세요, 이에 따라 학습량이 달라집니다."
   ]
  },
  {
   "cell_type": "code",
   "execution_count": null,
   "metadata": {},
   "outputs": [],
   "source": []
  }
 ],
 "metadata": {
  "kernelspec": {
   "display_name": "Python 3",
   "language": "python",
   "name": "python3"
  },
  "language_info": {
   "codemirror_mode": {
    "name": "ipython",
    "version": 3
   },
   "file_extension": ".py",
   "mimetype": "text/x-python",
   "name": "python",
   "nbconvert_exporter": "python",
   "pygments_lexer": "ipython3",
   "version": "3.7.3"
  }
 },
 "nbformat": 4,
 "nbformat_minor": 2
}
