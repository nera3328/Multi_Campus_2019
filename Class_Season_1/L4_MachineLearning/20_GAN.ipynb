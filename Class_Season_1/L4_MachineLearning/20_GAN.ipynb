{
 "cells": [
  {
   "cell_type": "code",
   "execution_count": 20,
   "metadata": {},
   "outputs": [],
   "source": [
    "import tensorflow as tf\n",
    "import matplotlib.pyplot as plt\n",
    "import numpy as np\n",
    "from tensorflow.examples.tutorials.mnist import input_data"
   ]
  },
  {
   "cell_type": "code",
   "execution_count": 21,
   "metadata": {
    "scrolled": true
   },
   "outputs": [
    {
     "name": "stdout",
     "output_type": "stream",
     "text": [
      "Extracting ./mnist/data/train-images-idx3-ubyte.gz\n",
      "Extracting ./mnist/data/train-labels-idx1-ubyte.gz\n",
      "Extracting ./mnist/data/t10k-images-idx3-ubyte.gz\n",
      "Extracting ./mnist/data/t10k-labels-idx1-ubyte.gz\n"
     ]
    }
   ],
   "source": [
    "mnist = input_data.read_data_sets(\"./mnist/data/\", one_hot=True)\n",
    "X = tf.placeholder(tf.float32, [None, 28 * 28]) # MNIST = 28*28\n",
    "Z = tf.placeholder(tf.float32, [None, 128]) # Noise Dimension = 128"
   ]
  },
  {
   "cell_type": "code",
   "execution_count": 22,
   "metadata": {},
   "outputs": [],
   "source": [
    "def generator(noise_z): # 128 -> 256 -> 28*28\n",
    "    G_W1 = tf.Variable(tf.random_normal([128, 256]))\n",
    "    G_b1 = tf.Variable(tf.zeros([256]))\n",
    "    hidden = tf.nn.relu(tf.matmul(noise_z, G_W1) + G_b1)\n",
    "    \n",
    "    G_W2 = tf.Variable(tf.random_normal([256, 28 * 28]))\n",
    "    G_b2 = tf.Variable(tf.zeros([28 * 28]))\n",
    "    output = tf.nn.sigmoid(tf.matmul(hidden, G_W2) + G_b2)\n",
    "    return output, [G_W1, G_b1, G_W2, G_b2]"
   ]
  },
  {
   "cell_type": "code",
   "execution_count": 23,
   "metadata": {},
   "outputs": [],
   "source": [
    "def discriminator(inputs): # 28*28 -> 256 -> 1\n",
    "    D_W1 = tf.Variable(tf.random_normal([28 * 28, 128], stddev=0.01)) #확률값으로 나와야 하고, softmax는 이진분류이기 때문에 다른 것 씀 수 \n",
    "    D_b1 = tf.Variable(tf.zeros([128]))\n",
    "    hidden = tf.nn.relu(tf.matmul(inputs, D_W1) + D_b1)\n",
    "    \n",
    "    D_W2 = tf.Variable(tf.random_normal([128, 1], stddev=0.01))\n",
    "    D_b2 = tf.Variable(tf.zeros([1]))\n",
    "    output = tf.nn.sigmoid(tf.matmul(hidden, D_W2) + D_b2) #sigmoid한 hypo( 확률값 )으로 나온다\n",
    "    return output, [D_W1, D_b1, D_W2, D_b2]"
   ]
  },
  {
   "cell_type": "markdown",
   "metadata": {},
   "source": [
    "G = generator(noise)\n",
    "D(G) = discriminator(G)\n",
    "D(G) => 0~1 사이의 확률값 => D가 G(fake data)를 예측한 결과\n",
    "\n",
    "D(X) = discriminator(X)\n",
    "D(X) => 0~1 사이의 확률값 => D가 X(real data)를 예측한 결과"
   ]
  },
  {
   "cell_type": "markdown",
   "metadata": {},
   "source": [
    "D(G) == 1 : D가 G를 real이라고 예측했다\n",
    "- G 입장 : 나이스! 오차 0으로! \n",
    "- D 입장 : 이런! 오차를 무한대로!\n",
    "  \n",
    "D(G) == 0 : D가 G를 fake라고 예측했다\n",
    "- G 입장 : 이런! 오차를 무한대로!\n",
    "- D 입장 : 나이스! 오차 0으로! \n",
    "\n",
    "D(X) == 1 : D가 X를 real이라고 예측했다\n",
    "- D 입장 : 나이스! 오차 0으로! \n",
    "\n",
    "D(X) == 0 : D가 X를 fake라고 예측했다\n",
    "- D 입장 : 이런! 오차를 무한대로!"
   ]
  },
  {
   "cell_type": "code",
   "execution_count": 31,
   "metadata": {},
   "outputs": [
    {
     "data": {
      "text/plain": [
       "tensorflow.python.training.adagrad.AdagradOptimizer"
      ]
     },
     "execution_count": 31,
     "metadata": {},
     "output_type": "execute_result"
    }
   ],
   "source": [
    "# optimizer\n",
    "tf.train.MomentumOptimizer\n",
    "tf.train.AdagradOptimizer #현재로서는 아담이 제일 좋은 편. 보통 많이씀 근데 다른것도 써보자"
   ]
  },
  {
   "cell_type": "code",
   "execution_count": 32,
   "metadata": {},
   "outputs": [],
   "source": [
    "learning_rate = 0.02\n",
    "\n",
    "G, W_G = generator(Z)\n",
    "\n",
    "D_X, W_D = discriminator(X)\n",
    "D_G, W_D = discriminator(G)\n",
    "\n",
    "loss_D = -tf.reduce_mean(tf.log(D_X) + tf.log(1 - D_G))\n",
    "loss_G = -tf.reduce_mean(tf.log(D_G))\n",
    "\n",
    "train_D = tf.train.AdamOptimizer(learning_rate).minimize(loss_D, var_list=W_D)\n",
    "train_G = tf.train.AdamOptimizer(learning_rate).minimize(loss_G, var_list=W_G)"
   ]
  },
  {
   "cell_type": "code",
   "execution_count": 27,
   "metadata": {},
   "outputs": [],
   "source": [
    "def print_fig(pred, y, sample_size):\n",
    "    fig, ax = plt.subplots(2, sample_size, figsize=(sample_size, 2))\n",
    "\n",
    "    for i in range(sample_size):\n",
    "        ax[0][i].set_axis_off()\n",
    "        ax[1][i].set_axis_off()\n",
    "        ax[0][i].imshow(np.reshape(pred[i], (28, 28)))\n",
    "        ax[1][i].imshow(np.reshape(y[i], (28, 28)))\n",
    "\n",
    "    plt.show()"
   ]
  },
  {
   "cell_type": "code",
   "execution_count": 28,
   "metadata": {},
   "outputs": [],
   "source": [
    "epoches=100"
   ]
  },
  {
   "cell_type": "code",
   "execution_count": 29,
   "metadata": {},
   "outputs": [
    {
     "name": "stdout",
     "output_type": "stream",
     "text": [
      "1 epoch......finished\n",
      "2 epoch......finished\n",
      "3 epoch......finished\n",
      "4 epoch......finished\n",
      "5 epoch......finished\n",
      "6 epoch......finished\n",
      "7 epoch......finished\n",
      "8 epoch......finished\n",
      "9 epoch......finished\n",
      "10 epoch......finished\n",
      "11 epoch......finished\n",
      "12 epoch......finished\n",
      "13 epoch......finished\n",
      "14 epoch......finished\n",
      "15 epoch......finished\n",
      "16 epoch......finished\n",
      "17 epoch......finished\n",
      "18 epoch......finished\n",
      "19 epoch......finished\n",
      "20 epoch......finished\n",
      "21 epoch......finished\n",
      "22 epoch......finished\n",
      "23 epoch......finished\n",
      "24 epoch......finished\n",
      "25 epoch......finished\n",
      "26 epoch......finished\n",
      "27 epoch......finished\n",
      "28 epoch......finished\n",
      "29 epoch......finished\n",
      "30 epoch......finished\n",
      "31 epoch......finished\n",
      "32 epoch......finished\n",
      "33 epoch......finished\n",
      "34 epoch......finished\n",
      "35 epoch......finished\n",
      "36 epoch......finished\n",
      "37 epoch......finished\n",
      "38 epoch......finished\n",
      "39 epoch......finished\n",
      "40 epoch......finished\n",
      "41 epoch......finished\n",
      "42 epoch......finished\n",
      "43 epoch......finished\n",
      "44 epoch......finished\n",
      "45 epoch......finished\n",
      "46 epoch......finished\n",
      "47 epoch......finished\n",
      "48 epoch......finished\n",
      "49 epoch......finished\n",
      "50 epoch......finished\n",
      "51 epoch......finished\n",
      "52 epoch......finished\n",
      "53 epoch......finished\n",
      "54 epoch......finished\n",
      "55 epoch......finished\n",
      "56 epoch......finished\n",
      "57 epoch......finished\n",
      "58 epoch......finished\n",
      "59 epoch......finished\n",
      "60 epoch......finished\n",
      "61 epoch......finished\n",
      "62 epoch......finished\n",
      "63 epoch......finished\n",
      "64 epoch......finished\n",
      "65 epoch......finished\n",
      "66 epoch......finished\n",
      "67 epoch......finished\n",
      "68 epoch......finished\n",
      "69 epoch......finished\n",
      "70 epoch......finished\n",
      "71 epoch......finished\n",
      "72 epoch......finished\n",
      "73 epoch......finished\n",
      "74 epoch......finished\n",
      "75 epoch......finished\n",
      "76 epoch......finished\n",
      "77 epoch......finished\n",
      "78 epoch......finished\n",
      "79 epoch......finished\n",
      "80 epoch......finished\n",
      "81 epoch......finished\n",
      "82 epoch......finished\n",
      "83 epoch......finished\n",
      "84 epoch......finished\n",
      "85 epoch......finished\n",
      "86 epoch......finished\n",
      "87 epoch......finished\n",
      "88 epoch......finished\n",
      "89 epoch......finished\n",
      "90 epoch......finished\n",
      "91 epoch......finished\n",
      "92 epoch......finished\n",
      "93 epoch......finished\n",
      "94 epoch......finished\n",
      "95 epoch......finished\n",
      "96 epoch......finished\n",
      "97 epoch......finished\n",
      "98 epoch......finished\n",
      "99 epoch......finished\n",
      "100 epoch......finished\n"
     ]
    },
    {
     "name": "stderr",
     "output_type": "stream",
     "text": [
      "C:\\ProgramData\\Anaconda3\\envs\\finance\\lib\\site-packages\\matplotlib\\image.py:395: UserWarning: Warning: converting a masked element to nan.\n",
      "  dv = (np.float64(self.norm.vmax) -\n",
      "C:\\ProgramData\\Anaconda3\\envs\\finance\\lib\\site-packages\\matplotlib\\image.py:396: UserWarning: Warning: converting a masked element to nan.\n",
      "  np.float64(self.norm.vmin))\n",
      "C:\\ProgramData\\Anaconda3\\envs\\finance\\lib\\site-packages\\matplotlib\\image.py:403: UserWarning: Warning: converting a masked element to nan.\n",
      "  a_min = np.float64(newmin)\n",
      "C:\\ProgramData\\Anaconda3\\envs\\finance\\lib\\site-packages\\matplotlib\\image.py:408: UserWarning: Warning: converting a masked element to nan.\n",
      "  a_max = np.float64(newmax)\n",
      "C:\\ProgramData\\Anaconda3\\envs\\finance\\lib\\site-packages\\matplotlib\\colors.py:918: UserWarning: Warning: converting a masked element to nan.\n",
      "  dtype = np.min_scalar_type(value)\n",
      "C:\\ProgramData\\Anaconda3\\envs\\finance\\lib\\site-packages\\numpy\\ma\\core.py:713: UserWarning: Warning: converting a masked element to nan.\n",
      "  data = np.array(a, copy=False, subok=subok)\n"
     ]
    },
    {
     "data": {
      "image/png": "[encoded data removed]",
      "text/plain": [
       "<Figure size 720x144 with 20 Axes>"
      ]
     },
     "metadata": {
      "needs_background": "light"
     },
     "output_type": "display_data"
    }
   ],
   "source": [
    "with tf.Session() as sess:\n",
    "    sess.run(tf.global_variables_initializer())\n",
    "\n",
    "    # ********* Training and Testing\n",
    "    noise_test = np.random.normal(size=(10, 128)) # 10 = Test Sample Size, 128 = Noise Dimension\n",
    "    \n",
    "    for epoch in range(epoches): # 200 = Num. of Epoch\n",
    "        print('{} epoch'.format(epoch+1), end='')\n",
    "        for i in range(int(mnist.train.num_examples / 100)): # 100 = Batch Size\n",
    "            batch_xs, _ = mnist.train.next_batch(100)\n",
    "            noise = np.random.normal(size=(100, 128)) #128자유롭게 주렴 \n",
    "\n",
    "            sess.run(train_D, feed_dict={X: batch_xs, Z: noise})\n",
    "            sess.run(train_G, feed_dict={Z: noise})\n",
    "            if i % 100 == 0:\n",
    "                print('.', end='')\n",
    "        print('finished')\n",
    "        \n",
    "    samples = sess.run(G, feed_dict={Z: noise_test})\n",
    "            \n",
    "    sample_size=10\n",
    "    print_fig(samples, mnist.test.images, sample_size)"
   ]
  },
  {
   "cell_type": "code",
   "execution_count": null,
   "metadata": {},
   "outputs": [],
   "source": []
  }
 ],
 "metadata": {
  "kernelspec": {
   "display_name": "Python 3",
   "language": "python",
   "name": "python3"
  },
  "language_info": {
   "codemirror_mode": {
    "name": "ipython",
    "version": 3
   },
   "file_extension": ".py",
   "mimetype": "text/x-python",
   "name": "python",
   "nbconvert_exporter": "python",
   "pygments_lexer": "ipython3",
   "version": "3.7.3"
  }
 },
 "nbformat": 4,
 "nbformat_minor": 2
}
