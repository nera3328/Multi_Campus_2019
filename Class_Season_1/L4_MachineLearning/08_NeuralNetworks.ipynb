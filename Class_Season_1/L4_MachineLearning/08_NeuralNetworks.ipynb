{
 "cells": [
  {
   "cell_type": "markdown",
   "metadata": {},
   "source": [
    "### Tensorflow 기초"
   ]
  },
  {
   "cell_type": "code",
   "execution_count": 22,
   "metadata": {},
   "outputs": [],
   "source": [
    "import tensorflow as tf"
   ]
  },
  {
   "cell_type": "markdown",
   "metadata": {},
   "source": [
    "1) 변수(tensor)를 선언할 때 3가지 타입이 있다.  \n",
    "- tf.Variable :  변경 가능한 변수 (가장 사용多)  \n",
    "- tf.constant : 변경 불가능  \n",
    "- tf.placeholder : 자리지킴이(공간만 만듦, 자리 만들기, 실제 데이터는 넣지 않음.)"
   ]
  },
  {
   "cell_type": "code",
   "execution_count": 23,
   "metadata": {},
   "outputs": [],
   "source": [
    "var1 = tf.Variable(5)        #build 해둔 상태 (switch 만들어준거지)\n",
    "con1 = tf.constant(10)\n",
    "plh1 = tf.placeholder(tf.int32) # type(필수,메모리 사이즈), shape(선택, 안쓰면 nun) 알려줘야해"
   ]
  },
  {
   "cell_type": "markdown",
   "metadata": {},
   "source": [
    "2) tensor의 build와 run이 구분되어져있다.  \n",
    "-  build : tensor의 구조도를 짜는 것\n",
    "-  run : session을 이용해서 tensor를 실행하는 것"
   ]
  },
  {
   "cell_type": "code",
   "execution_count": 24,
   "metadata": {},
   "outputs": [
    {
     "name": "stdout",
     "output_type": "stream",
     "text": [
      "Tensor(\"Const_2:0\", shape=(), dtype=int32)\n"
     ]
    }
   ],
   "source": [
    "print(con1)"
   ]
  },
  {
   "cell_type": "markdown",
   "metadata": {},
   "source": [
    "어라? 10이 안나오고 이상한 영어가 나오네?"
   ]
  },
  {
   "cell_type": "markdown",
   "metadata": {},
   "source": [
    "이상한 영어 : con1 tensor의 정보(info)  \n",
    "- tensor(\"name\", shape,type)"
   ]
  },
  {
   "cell_type": "markdown",
   "metadata": {},
   "source": [
    "variable은 initialize라는 tensor가 필요!"
   ]
  },
  {
   "cell_type": "code",
   "execution_count": 25,
   "metadata": {},
   "outputs": [],
   "source": [
    "init = tf.global_variables_initializer()"
   ]
  },
  {
   "cell_type": "raw",
   "metadata": {},
   "source": [
    "assign =tf.assign(var1, 25) #assign해두고 스위치 안누름"
   ]
  },
  {
   "cell_type": "code",
   "execution_count": 26,
   "metadata": {},
   "outputs": [],
   "source": [
    "assign =tf.assign(var1, 25)"
   ]
  },
  {
   "cell_type": "code",
   "execution_count": 27,
   "metadata": {},
   "outputs": [
    {
     "name": "stdout",
     "output_type": "stream",
     "text": [
      "10\n",
      "before:  5\n",
      "after:  25\n"
     ]
    }
   ],
   "source": [
    "sess = tf. Session()  #session 열기    스위치 공사\n",
    "\n",
    "con1_sess = sess.run (con1)  #sess : 특정 session을 running을 시킬 수 있는 애      원하는 스위치 클릭\n",
    "\n",
    "print(con1_sess)\n",
    "\n",
    "sess.run(init)\n",
    "print('before: ', sess.run(var1))\n",
    "\n",
    "sess.run(assign)\n",
    "\n",
    "print('after: ' , sess.run(var1))\n",
    "\n",
    "sess.close()"
   ]
  },
  {
   "cell_type": "markdown",
   "metadata": {},
   "source": [
    "### neural networks 모델"
   ]
  },
  {
   "cell_type": "code",
   "execution_count": 92,
   "metadata": {},
   "outputs": [
    {
     "data": {
      "image/png": "[encoded data removed]",
      "text/plain": [
       "<Figure size 432x288 with 1 Axes>"
      ]
     },
     "metadata": {
      "needs_background": "light"
     },
     "output_type": "display_data"
    }
   ],
   "source": [
    "import numpy as np\n",
    "from matplotlib import pyplot as plt\n",
    "#100개의 데이터, feature = 2개\n",
    "np.random.seed(30)\n",
    "X = np.random.randn(4, 2)\n",
    "y = np.logical_xor(X[:, 0]>0, X[:, 1]>0)\n",
    "y = np.where(y, 1, -1)\n",
    "\n",
    "from sklearn.model_selection import train_test_split\n",
    "\n",
    "X_train, X_test, y_train, y_test = train_test_split(X, y,\n",
    "                                                   test_size=0.2,\n",
    "                                                   shuffle=True)\n",
    "plt.scatter(X_train[y_train==1, 0],\n",
    "            X_train[y_train==1, 1], c='b')\n",
    "plt.scatter(X_train[y_train==-1, 0], \n",
    "            X_train[y_train==-1, 1], c='r')\n",
    "plt.show()"
   ]
  },
  {
   "cell_type": "code",
   "execution_count": 93,
   "metadata": {},
   "outputs": [],
   "source": [
    "X = tf.placeholder(tf.float32)\n",
    "y = tf.placeholder(tf.float32)"
   ]
  },
  {
   "cell_type": "code",
   "execution_count": 94,
   "metadata": {},
   "outputs": [],
   "source": [
    "X = tf.placeholder(tf.float32)\n",
    "y = tf.placeholder(tf.float32)"
   ]
  },
  {
   "cell_type": "code",
   "execution_count": 95,
   "metadata": {},
   "outputs": [],
   "source": [
    "# wheiht값 만들기\n",
    "W_1 = tf.Variable(tf.random_normal([2,1]))\n",
    "b_1 = tf.Variable(tf.random_normal([10]))\n",
    "\n",
    "hidden_1 = tf.sigmoid(tf.matmul(X , W_1) + b_1)\n",
    "\n",
    "\n",
    "W_2 = tf.Variable(tf.random_normal([10,10]))\n",
    "b_2 = tf.Variable(tf.random_normal([10]))\n",
    "\n",
    "hidden_2 = tf.sigmoid(tf.matmul(hidden_1,W_2)+b_2)\n",
    "\n",
    "\n",
    "W_3 = tf.Variable(tf.random_normal([10, 1]))\n",
    "b_3 = tf.Variable(tf.random_normal([1]))\n",
    "\n",
    "hypo = tf.sigmoid(tf.matmul(hidden_2, W_3) + b_3)"
   ]
  },
  {
   "cell_type": "code",
   "execution_count": 96,
   "metadata": {},
   "outputs": [],
   "source": [
    "cost = -tf.reduce_mean(y*tf.log(hypo)+(1-y)*tf.log(1-hypo))  # reduction : 10개의 숫자 (10차원)중에 대표값 1개 뽑음"
   ]
  },
  {
   "cell_type": "code",
   "execution_count": 97,
   "metadata": {},
   "outputs": [],
   "source": [
    "learning_rate = 1\n",
    "op = tf.train.GradientDescentOptimizer(learning_rate).minimize(cost)"
   ]
  },
  {
   "cell_type": "code",
   "execution_count": 98,
   "metadata": {},
   "outputs": [],
   "source": [
    "predict = tf.cast(hypo> 0.5, tf.float32)  # 1 or 0\n",
    "              #cast : casting, 형변환 함수\n",
    "acc=tf.cast(tf.equal(predict, y), tf.float32) #numpy와 비슷한 형식"
   ]
  },
  {
   "cell_type": "code",
   "execution_count": 99,
   "metadata": {},
   "outputs": [
    {
     "name": "stdout",
     "output_type": "stream",
     "text": [
      "0.25642195\n",
      "0.01904906\n",
      "0.0099538835\n",
      "0.006725777\n",
      "0.0050739925\n",
      "0.004071266\n",
      "0.0033982475\n",
      "0.0029153663\n",
      "0.0025522301\n",
      "0.002269162\n",
      "accuracy:\n",
      " [[1.]]\n"
     ]
    }
   ],
   "source": [
    "with tf.Session() as sess:\n",
    "    sess.run(tf.global_variables_initializer())\n",
    "    \n",
    "    for i in range(100):\n",
    "        sess.run(op, feed_dict={X: X_train, y: y_train})\n",
    "    \n",
    "        if i%10 ==0:\n",
    "            print(sess.run(cost, feed_dict={X:X_train, y:y_train}))\n",
    "            \n",
    "    print('accuracy:\\n', sess.run(acc, feed_dict={X: X_test, y: y_test}))"
   ]
  },
  {
   "cell_type": "code",
   "execution_count": null,
   "metadata": {},
   "outputs": [],
   "source": []
  }
 ],
 "metadata": {
  "kernelspec": {
   "display_name": "Python 3",
   "language": "python",
   "name": "python3"
  },
  "language_info": {
   "codemirror_mode": {
    "name": "ipython",
    "version": 3
   },
   "file_extension": ".py",
   "mimetype": "text/x-python",
   "name": "python",
   "nbconvert_exporter": "python",
   "pygments_lexer": "ipython3",
   "version": "3.7.3"
  }
 },
 "nbformat": 4,
 "nbformat_minor": 2
}
