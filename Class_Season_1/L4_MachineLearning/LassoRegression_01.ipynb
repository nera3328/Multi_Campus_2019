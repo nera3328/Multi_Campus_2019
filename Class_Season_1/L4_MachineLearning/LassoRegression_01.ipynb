{
 "cells": [
  {
   "cell_type": "code",
   "execution_count": 4,
   "metadata": {},
   "outputs": [],
   "source": [
    "from sklearn.linear_model import Lasso\n",
    "from sklearn.datasets import make_regression\n",
    "from sklearn.model_selection import train_test_split"
   ]
  },
  {
   "cell_type": "code",
   "execution_count": 18,
   "metadata": {},
   "outputs": [],
   "source": [
    "X,y=make_regression(n_samples=1000, n_features=100, bias=10, noise=10)  # feature값 10->100  아래에서 결과가 0에 더 가까워짐.\n",
    "X_train,X_test,y_train,y_test=train_test_split(X,y,test_size=0.2,shuffle=True)"
   ]
  },
  {
   "cell_type": "code",
   "execution_count": 19,
   "metadata": {},
   "outputs": [],
   "source": [
    "model=Lasso(alpha=0.2)"
   ]
  },
  {
   "cell_type": "code",
   "execution_count": 23,
   "metadata": {},
   "outputs": [
    {
     "name": "stdout",
     "output_type": "stream",
     "text": [
      "weight: [ 0.00000000e+00 -0.00000000e+00  0.00000000e+00  1.40067186e+01\n",
      "  3.35077442e-02 -1.06616898e-01  5.79693675e-02  0.00000000e+00\n",
      "  5.49325870e-02  0.00000000e+00  1.14439411e-01  1.07098544e-01\n",
      "  0.00000000e+00  2.95908429e-01  2.36935081e-02  0.00000000e+00\n",
      "  2.76677295e-02 -0.00000000e+00 -5.12712245e-01  2.45603651e-01\n",
      "  0.00000000e+00  2.98344071e-01 -0.00000000e+00  3.59494363e-01\n",
      "  2.72651688e-01 -9.13290640e-02 -8.85378139e-02 -0.00000000e+00\n",
      "  3.99114585e+01  8.44600804e+01  0.00000000e+00  8.00670316e+01\n",
      "  4.65786665e-01 -6.78113688e-01 -6.74042973e-02  0.00000000e+00\n",
      "  0.00000000e+00  3.88550653e-01  3.18194171e+01  6.66625686e-02\n",
      "  4.45416986e-01  0.00000000e+00  7.19507627e+01  9.31327299e+00\n",
      "  0.00000000e+00 -1.17493527e-01  0.00000000e+00  1.58741483e-01\n",
      "  5.16641780e-01  0.00000000e+00  0.00000000e+00  8.19081654e+01\n",
      " -0.00000000e+00  6.95045717e-02 -0.00000000e+00  9.73500015e-02\n",
      "  9.50349685e+01 -0.00000000e+00  0.00000000e+00 -0.00000000e+00\n",
      "  1.60203727e-02 -0.00000000e+00 -4.35293461e-02 -4.95261861e-01\n",
      "  3.47435252e-01  2.29289069e-01 -0.00000000e+00  0.00000000e+00\n",
      " -3.44525358e-02  9.38842488e+01 -0.00000000e+00 -0.00000000e+00\n",
      " -0.00000000e+00 -3.55412116e-01 -7.24167536e-01 -1.30496737e-01\n",
      "  2.54406896e-01  0.00000000e+00 -0.00000000e+00 -0.00000000e+00\n",
      "  1.68230468e-01  0.00000000e+00  0.00000000e+00  2.28187984e-01\n",
      " -3.97472458e-02  1.13400245e-01  0.00000000e+00 -2.42065576e-01\n",
      " -2.35408362e-01 -0.00000000e+00  0.00000000e+00  0.00000000e+00\n",
      "  0.00000000e+00  1.52775025e-01 -1.10967011e-01  0.00000000e+00\n",
      " -1.01353297e-01  0.00000000e+00 -3.36088881e-01  0.00000000e+00],\n",
      " bias: 10.219331546000237\n"
     ]
    }
   ],
   "source": [
    "model_Lasso = model.fit(X_train,y_train)\n",
    "print('weight: {},\\n bias: {}'.format(model_Lasso.coef_,\n",
    "                                     model_Lasso.intercept_))"
   ]
  },
  {
   "cell_type": "code",
   "execution_count": 24,
   "metadata": {},
   "outputs": [
    {
     "data": {
      "text/plain": [
       "0.9976102901203957"
      ]
     },
     "execution_count": 24,
     "metadata": {},
     "output_type": "execute_result"
    }
   ],
   "source": [
    "model_Lasso.score(X_test,y_test)"
   ]
  },
  {
   "cell_type": "code",
   "execution_count": 25,
   "metadata": {},
   "outputs": [
    {
     "data": {
      "text/plain": [
       "0.9981247590623143"
      ]
     },
     "execution_count": 25,
     "metadata": {},
     "output_type": "execute_result"
    }
   ],
   "source": [
    "model_Lasso.score(X_train,y_train)"
   ]
  }
 ],
 "metadata": {
  "kernelspec": {
   "display_name": "Python 3",
   "language": "python",
   "name": "python3"
  },
  "language_info": {
   "codemirror_mode": {
    "name": "ipython",
    "version": 3
   },
   "file_extension": ".py",
   "mimetype": "text/x-python",
   "name": "python",
   "nbconvert_exporter": "python",
   "pygments_lexer": "ipython3",
   "version": "3.7.3"
  }
 },
 "nbformat": 4,
 "nbformat_minor": 2
}
