{
 "cells": [
  {
   "cell_type": "code",
   "execution_count": 3,
   "metadata": {},
   "outputs": [],
   "source": [
    "import requests"
   ]
  },
  {
   "cell_type": "code",
   "execution_count": 18,
   "metadata": {},
   "outputs": [
    {
     "ename": "SyntaxError",
     "evalue": "invalid syntax (<ipython-input-18-1d893028d7e3>, line 1)",
     "output_type": "error",
     "traceback": [
      "\u001b[1;36m  File \u001b[1;32m\"<ipython-input-18-1d893028d7e3>\"\u001b[1;36m, line \u001b[1;32m1\u001b[0m\n\u001b[1;33m    def profile_to_dict.():\u001b[0m\n\u001b[1;37m                       ^\u001b[0m\n\u001b[1;31mSyntaxError\u001b[0m\u001b[1;31m:\u001b[0m invalid syntax\n"
     ]
    }
   ],
   "source": [
    "def profile_to_dict.('name','age','phone'):\n",
    "    name=input({},'이름을 입력하세요')\n",
    "    age=input({},'나이를 입력하세요')\n",
    "    phone=input({},'전화번호를 입력하세요')\n",
    "    dict{('name':'<이름>'),\n",
    "        ('age':'<나이>'),\n",
    "        ('phone':'<전화번호>')}\n",
    "    \n"
   ]
  },
  {
   "cell_type": "code",
   "execution_count": 5,
   "metadata": {},
   "outputs": [],
   "source": [
    "from bs4 import BeautifulSoup"
   ]
  },
  {
   "cell_type": "code",
   "execution_count": 11,
   "metadata": {},
   "outputs": [],
   "source": [
    "url='https://search.naver.com/search.naver?where=news&sm=tab_jum&query='"
   ]
  },
  {
   "cell_type": "code",
   "execution_count": 1,
   "metadata": {},
   "outputs": [
    {
     "ename": "SyntaxError",
     "evalue": "invalid syntax (<ipython-input-1-c483e3362d60>, line 1)",
     "output_type": "error",
     "traceback": [
      "\u001b[1;36m  File \u001b[1;32m\"<ipython-input-1-c483e3362d60>\"\u001b[1;36m, line \u001b[1;32m1\u001b[0m\n\u001b[1;33m    soup=BeautifulSoup.(url)\u001b[0m\n\u001b[1;37m                       ^\u001b[0m\n\u001b[1;31mSyntaxError\u001b[0m\u001b[1;31m:\u001b[0m invalid syntax\n"
     ]
    }
   ],
   "source": [
    "soup=BeautifulSoup.(url)\n",
    "\n",
    "params{('where':'news'),\n",
    "       ('query'='윤석열')}\n",
    "\n",
    "result=url+params\n",
    "a_tag=soup.select('ul.type01 li dt a')\n",
    "\n",
    "title_a=a_tag('tltle')\n",
    "link_a=a_tag('href')\n",
    "\n",
    "title.text\n",
    "\n",
    "print({'title_a'}.format('title: '{}'))\n",
    "print({'link_a'}.format('link: '{}'))"
   ]
  },
  {
   "cell_type": "markdown",
   "metadata": {},
   "source": [
    "1. 이름과 나이 그리고 전화번호를 인자로 전달받아 딕셔너리 형태로 반환해주는 함수를 작성하시오.\n",
    "함수 이름은 profile_to_dict로 하시오"
   ]
  },
  {
   "cell_type": "code",
   "execution_count": 3,
   "metadata": {},
   "outputs": [
    {
     "ename": "SyntaxError",
     "evalue": "invalid syntax (<ipython-input-3-01683bf3603a>, line 1)",
     "output_type": "error",
     "traceback": [
      "\u001b[1;36m  File \u001b[1;32m\"<ipython-input-3-01683bf3603a>\"\u001b[1;36m, line \u001b[1;32m1\u001b[0m\n\u001b[1;33m    def profile_to_dict('name','age','phone)':\u001b[0m\n\u001b[1;37m                             ^\u001b[0m\n\u001b[1;31mSyntaxError\u001b[0m\u001b[1;31m:\u001b[0m invalid syntax\n"
     ]
    }
   ],
   "source": [
    "def profile_to_dict('name','age','phone)':\n",
    "                    profile={\n",
    "                     'name':name\n",
    "                     'age':age\n",
    "                     'phone':phone\n",
    "                    }\n",
    "\n",
    "return.profile_to_dict\n",
    "\n",
    "                \n",
    "data=profile_to_dict('name','age','phone')"
   ]
  },
  {
   "cell_type": "markdown",
   "metadata": {},
   "source": [
    "2. 네이버 뉴스를 5페이지 크롤링하여 딕셔너리의 리스트 형태로 반환하시오. "
   ]
  },
  {
   "cell_type": "code",
   "execution_count": null,
   "metadata": {},
   "outputs": [],
   "source": [
    "ㅑ"
   ]
  }
 ],
 "metadata": {
  "kernelspec": {
   "display_name": "Python 3",
   "language": "python",
   "name": "python3"
  },
  "language_info": {
   "codemirror_mode": {
    "name": "ipython",
    "version": 3
   },
   "file_extension": ".py",
   "mimetype": "text/x-python",
   "name": "python",
   "nbconvert_exporter": "python",
   "pygments_lexer": "ipython3",
   "version": "3.7.3"
  }
 },
 "nbformat": 4,
 "nbformat_minor": 2
}
